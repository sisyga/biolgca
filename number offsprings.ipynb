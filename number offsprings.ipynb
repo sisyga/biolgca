{
 "cells": [
  {
   "cell_type": "code",
   "execution_count": 9,
   "metadata": {
    "pycharm": {
     "is_executing": false
    }
   },
   "outputs": [
    {
     "name": "stdout",
     "output_type": "stream",
     "text": [
      "death rate set to r_d =  0.02\n",
      "standard deviation set to =  0.1\n"
     ]
    }
   ],
   "source": [
    "from lgca import get_lgca\n",
    "from lgca.helpers import *\n",
    "import numpy as np\n",
    "import matplotlib.pyplot as plt\n",
    "\n",
    "timesteps = 20\n",
    "dim = 20\n",
    "dens = 0.1\n",
    "birthrate = 0.9\n",
    "lgca= get_lgca(ib=True, geometry='lin', interaction='inheritance',\\\n",
    "               density = dens, dims = dim, r_b = birthrate, variation = False)"
   ]
  },
  {
   "cell_type": "code",
   "execution_count": 10,
   "metadata": {
    "pycharm": {
     "is_executing": false
    }
   },
   "outputs": [
    {
     "name": "stdout",
     "output_type": "stream",
     "text": [
      "4 is born\n",
      "with ancestor  1\n",
      "Progress: [#-------------------] 5.0% 5 is born\n",
      "Progress: [##------------------] 10.0% 6 is born\n",
      "Progress: [###-----------------] 15.0% 7 is born\n",
      "with ancestor  1\n",
      "8 is born\n",
      "with ancestor  3\n",
      "9 is born\n",
      "Progress: [####----------------] 20.0% 10 is born\n",
      "with ancestor  1\n",
      "11 is born\n",
      "Progress: [#####---------------] 25.0% 12 is born\n",
      "13 is born\n",
      "with ancestor  3\n",
      "14 is born\n",
      "Progress: [######--------------] 30.0% 15 is born\n",
      "16 is born\n",
      "17 is born\n",
      "18 is born\n",
      "19 is born\n",
      "Progress: [#######-------------] 35.0% 20 is born\n",
      "with ancestor  1\n",
      "21 is born\n",
      "Progress: [########------------] 40.0% 22 is born\n",
      "Progress: [#########-----------] 45.0% 23 is born\n",
      "24 is born\n",
      "Progress: [##########----------] 50.0% 25 is born\n",
      "26 is born\n",
      "27 is born\n",
      "Progress: [###########---------] 55.0% 28 is born\n",
      "29 is born\n",
      "Progress: [############--------] 60.0% 30 is born\n",
      "with ancestor  1\n",
      "31 is born\n",
      "32 is born\n",
      "Progress: [#############-------] 65.0% 33 is born\n",
      "34 is born\n",
      "Progress: [###############-----] 75.0% 35 is born\n",
      "Progress: [################----] 80.0% 36 is born\n",
      "Progress: [#################---] 85.0% 37 is born\n",
      "Progress: [##################--] 90.0% 38 is born\n",
      "39 is born\n",
      "with ancestor  3\n",
      "Progress: [####################] 100% Done...\n"
     ]
    }
   ],
   "source": [
    "lgca.timeevo(timesteps, record=True)\n",
    "%matplotlib notebook\n",
    "#lgca.OLD_plot_prop_num_off()\n",
    "#lgca.plot_prop_numoff()\n",
    "\n"
   ]
  },
  {
   "cell_type": "code",
   "execution_count": 11,
   "metadata": {
    "pycharm": {
     "is_executing": false
    }
   },
   "outputs": [
    {
     "name": "stdout",
     "output_type": "stream",
     "text": [
      "maxlabel_init =  3\n",
      "---errors?---\n",
      "inheritance label passen\n",
      "len(props) passt\n",
      "---genealogical research---\n",
      "num [-99, 24, 0, 12]\n",
      "genealogical tree: [24, 0, 12]\n",
      "number of ancestors: 3\n",
      "number of offsprings: 36\n",
      "max family number is 24 with ancestor cell 1\n"
     ]
    },
    {
     "data": {
      "text/plain": [
       "24"
      ]
     },
     "execution_count": 11,
     "metadata": {},
     "output_type": "execute_result"
    }
   ],
   "source": [
    "print('maxlabel_init = ', lgca.maxlabel_init)\n",
    "#lgca.plot_prop_spatial(prop = 'lab_m')\n",
    "errors(lgca)\n",
    "count_fam(lgca)\n",
    "\n"
   ]
  },
  {
   "cell_type": "code",
   "execution_count": 12,
   "metadata": {
    "pycharm": {}
   },
   "outputs": [
    {
     "data": {
      "text/plain": [
       "[[-99, 0, 0, 0],\n",
       " [-99, 1, 0, 0],\n",
       " [-99, 2, 0, 0],\n",
       " [-99, 3, 0, 0],\n",
       " [-99, 5, 0, 1],\n",
       " [-99, 7, 0, 1],\n",
       " [-99, 8, 0, 3],\n",
       " [-99, 11, 0, 5],\n",
       " [-99, 13, 0, 5],\n",
       " [-99, 14, 0, 5],\n",
       " [-99, 15, 0, 6],\n",
       " [-99, 16, 0, 8],\n",
       " [-99, 18, 0, 8],\n",
       " [-99, 20, 0, 9],\n",
       " [-99, 22, 0, 9],\n",
       " [-99, 22, 0, 9],\n",
       " [-99, 23, 0, 9],\n",
       " [-99, 23, 0, 10],\n",
       " [-99, 23, 0, 11],\n",
       " [-99, 24, 0, 12],\n",
       " [-99, 24, 0, 12]]"
      ]
     },
     "execution_count": 12,
     "metadata": {},
     "output_type": "execute_result"
    }
   ],
   "source": [
    "list(map(lambda x: x['num_off'], lgca.props_t))"
   ]
  },
  {
   "cell_type": "code",
   "execution_count": null,
   "metadata": {
    "pycharm": {}
   },
   "outputs": [],
   "source": []
  }
 ],
 "metadata": {
  "kernelspec": {
   "display_name": "Python 3",
   "language": "python",
   "name": "python3"
  },
  "language_info": {
   "codemirror_mode": {
    "name": "ipython",
    "version": 3
   },
   "file_extension": ".py",
   "mimetype": "text/x-python",
   "name": "python",
   "nbconvert_exporter": "python",
   "pygments_lexer": "ipython3",
   "version": "3.7.1"
  }
 },
 "nbformat": 4,
 "nbformat_minor": 2
}
