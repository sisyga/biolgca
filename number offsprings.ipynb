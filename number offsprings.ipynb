{
  "cells": [
    {
      "cell_type": "code",
      "execution_count": 1,
      "metadata": {
        "pycharm": {
          "is_executing": false
        }
      },
      "outputs": [
        {
          "name": "stdout",
          "text": [
            "death rate set to r_d \u003d  0.02\nstandard deviation set to \u003d  0.1\n"
          ],
          "output_type": "stream"
        }
      ],
      "source": [
        "from lgca import get_lgca\n",
        "from lgca.helpers import *\n",
        "import numpy as np\n",
        "import matplotlib.pyplot as plt\n",
        "\n",
        "timesteps \u003d 10\n",
        "dim \u003d 20\n",
        "dens \u003d 0.2\n",
        "birthrate \u003d 0.9\n",
        "lgca\u003d get_lgca(ib\u003dTrue, geometry\u003d\u0027lin\u0027, interaction\u003d\u0027inheritance\u0027,\\\n",
        "               density \u003d dens, dims \u003d dim, r_b \u003d birthrate, variation \u003d False)"
      ]
    },
    {
      "cell_type": "code",
      "execution_count": 2,
      "metadata": {
        "pycharm": {
          "is_executing": false
        }
      },
      "outputs": [
        {
          "name": "stdout",
          "text": [
            "7 is born\nwith ancestor  4\n8 is born\nwith ancestor  6\n\rProgress: [##------------------] 10.0% ",
            "9 is born\nwith ancestor  1\n10 is born\nwith ancestor  3\n11 is born\n12 is born\nwith ancestor  6\n\rProgress: [####----------------] 20.0% ",
            "13 is born\n14 is born\n\rProgress: [######--------------] 30.0% ",
            "15 is born\nwith ancestor  1\n16 is born\n17 is born\n18 is born\nwith ancestor  6\n\rProgress: [########------------] 40.0% ",
            "19 is born\n20 is born\nwith ancestor  2\n\rProgress: [##########----------] 50.0% ",
            "21 is born\nwith ancestor  1\n22 is born\n23 is born\n24 is born\n25 is born\n26 is born\n27 is born\n\rProgress: [############--------] 60.0% ",
            "28 is born\nwith ancestor  1\n29 is born\n30 is born\n31 is born\n\rProgress: [##############------] 70.0% ",
            "32 is born\n33 is born\n34 is born\n\rProgress: [################----] 80.0% ",
            "\rProgress: [##################--] 90.0% ",
            "\rProgress: [####################] 100% Done...\r\n"
          ],
          "output_type": "stream"
        }
      ],
      "source": [
        "lgca.timeevo(timesteps, record\u003dTrue)\n",
        "%matplotlib notebook\n",
        "#lgca.OLD_plot_prop_num_off()\n",
        "#lgca.plot_prop_numoff()\n",
        "\n"
      ]
    },
    {
      "cell_type": "code",
      "execution_count": 3,
      "metadata": {
        "pycharm": {
          "is_executing": false
        }
      },
      "outputs": [
        {
          "name": "stdout",
          "output_type": "stream",
          "text": [
            "maxlabel_init \u003d  3\n",
            "---errors?---\n",
            "inheritance label passen\n",
            "len(props) passt\n",
            "---genealogical research---\n",
            "num [-99, 8, 8, 6]\n",
            "genealogical tree: [8, 8, 6]\n",
            "number of ancestors: 3\n",
            "number of offsprings: 22\n",
            "max family number is 8 with ancestor cell 1\n"
          ]
        },
        {
          "data": {
            "text/plain": [
              "8"
            ]
          },
          "execution_count": 3,
          "metadata": {},
          "output_type": "execute_result"
        }
      ],
      "source": [
        "print(\u0027maxlabel_init \u003d \u0027, lgca.maxlabel_init)\n",
        "#lgca.plot_prop_spatial(prop \u003d \u0027lab_m\u0027)\n",
        "errors(lgca)\n",
        "count_fam(lgca)\n",
        "\n"
      ]
    },
    {
      "cell_type": "code",
      "execution_count": 4,
      "metadata": {
        "pycharm": {}
      },
      "outputs": [
        {
          "name": "stdout",
          "output_type": "stream",
          "text": [
            "1\n",
            "2\n",
            "3\n"
          ]
        }
      ],
      "source": [
        "(list(map(lambda x: x[\u0027num_off\u0027], lgca.props_t)))\n",
        "# print(\u0027####\u0027)\n",
        "# print(lgca.props_t[2][\u0027num_off\u0027][1:])\n",
        "c \u003d 3\n",
        "for i in range(1,c+1):\n",
        "    print(i)"
      ]
    },
    {
      "cell_type": "code",
      "execution_count": 3,
      "metadata": {
        "pycharm": {
          "is_executing": false
        }
      },
      "outputs": [
        {
          "traceback": [
            "\u001b[1;31m---------------------------------------------------------------------------\u001b[0m",
            "\u001b[1;31mKeyboardInterrupt\u001b[0m                         Traceback (most recent call last)",
            "\u001b[1;32m\u003cipython-input-3-5af1d6b25c0f\u003e\u001b[0m in \u001b[0;36m\u003cmodule\u003e\u001b[1;34m\u001b[0m\n\u001b[1;32m----\u003e 1\u001b[1;33m \u001b[0mbar_stacked\u001b[0m\u001b[1;33m(\u001b[0m\u001b[0mlgca\u001b[0m\u001b[1;33m)\u001b[0m\u001b[1;33m\u001b[0m\u001b[1;33m\u001b[0m\u001b[0m\n\u001b[0m",
            "\u001b[1;32m~\\Documents\\Uni DD\\SoSe 19\\Masterarbeit\\PycharmProjects\\biolgca\\lgca\\helpers.py\u001b[0m in \u001b[0;36mbar_stacked\u001b[1;34m(lgca)\u001b[0m\n\u001b[0;32m     48\u001b[0m             \u001b[0mval\u001b[0m\u001b[1;33m[\u001b[0m\u001b[0mt\u001b[0m\u001b[1;33m,\u001b[0m \u001b[0mc\u001b[0m\u001b[1;33m]\u001b[0m \u001b[1;33m\u003d\u001b[0m \u001b[0mlgca\u001b[0m\u001b[1;33m.\u001b[0m\u001b[0mprops_t\u001b[0m\u001b[1;33m[\u001b[0m\u001b[0mt\u001b[0m\u001b[1;33m]\u001b[0m\u001b[1;33m[\u001b[0m\u001b[1;34m\u0027num_off\u0027\u001b[0m\u001b[1;33m]\u001b[0m\u001b[1;33m[\u001b[0m\u001b[0mc\u001b[0m\u001b[1;33m]\u001b[0m\u001b[1;33m\u001b[0m\u001b[1;33m\u001b[0m\u001b[0m\n\u001b[0;32m     49\u001b[0m \u001b[1;33m\u001b[0m\u001b[0m\n\u001b[1;32m---\u003e 50\u001b[1;33m     \u001b[0mind\u001b[0m \u001b[1;33m\u003d\u001b[0m \u001b[0mnp\u001b[0m\u001b[1;33m.\u001b[0m\u001b[0marange\u001b[0m\u001b[1;33m(\u001b[0m\u001b[1;36m0\u001b[0m\u001b[1;33m,\u001b[0m \u001b[0mtmax\u001b[0m\u001b[1;33m,\u001b[0m \u001b[1;36m1\u001b[0m\u001b[1;33m)\u001b[0m\u001b[1;33m\u001b[0m\u001b[1;33m\u001b[0m\u001b[0m\n\u001b[0m\u001b[0;32m     51\u001b[0m     \u001b[0mwidth\u001b[0m \u001b[1;33m\u003d\u001b[0m \u001b[1;36m0.5\u001b[0m  \u001b[1;31m# the width of the bars: can also be len(x) sequence\u001b[0m\u001b[1;33m\u001b[0m\u001b[1;33m\u001b[0m\u001b[0m\n\u001b[0;32m     52\u001b[0m     \u001b[1;32mfor\u001b[0m \u001b[0mc\u001b[0m \u001b[1;32min\u001b[0m \u001b[0mancs\u001b[0m\u001b[1;33m:\u001b[0m\u001b[1;33m\u001b[0m\u001b[1;33m\u001b[0m\u001b[0m\n",
            "\u001b[1;32m~\\Documents\\Uni DD\\SoSe 19\\Masterarbeit\\PycharmProjects\\biolgca\\lgca\\helpers.py\u001b[0m in \u001b[0;36mbar_stacked\u001b[1;34m(lgca)\u001b[0m\n\u001b[0;32m     48\u001b[0m             \u001b[0mval\u001b[0m\u001b[1;33m[\u001b[0m\u001b[0mt\u001b[0m\u001b[1;33m,\u001b[0m \u001b[0mc\u001b[0m\u001b[1;33m]\u001b[0m \u001b[1;33m\u003d\u001b[0m \u001b[0mlgca\u001b[0m\u001b[1;33m.\u001b[0m\u001b[0mprops_t\u001b[0m\u001b[1;33m[\u001b[0m\u001b[0mt\u001b[0m\u001b[1;33m]\u001b[0m\u001b[1;33m[\u001b[0m\u001b[1;34m\u0027num_off\u0027\u001b[0m\u001b[1;33m]\u001b[0m\u001b[1;33m[\u001b[0m\u001b[0mc\u001b[0m\u001b[1;33m]\u001b[0m\u001b[1;33m\u001b[0m\u001b[1;33m\u001b[0m\u001b[0m\n\u001b[0;32m     49\u001b[0m \u001b[1;33m\u001b[0m\u001b[0m\n\u001b[1;32m---\u003e 50\u001b[1;33m     \u001b[0mind\u001b[0m \u001b[1;33m\u003d\u001b[0m \u001b[0mnp\u001b[0m\u001b[1;33m.\u001b[0m\u001b[0marange\u001b[0m\u001b[1;33m(\u001b[0m\u001b[1;36m0\u001b[0m\u001b[1;33m,\u001b[0m \u001b[0mtmax\u001b[0m\u001b[1;33m,\u001b[0m \u001b[1;36m1\u001b[0m\u001b[1;33m)\u001b[0m\u001b[1;33m\u001b[0m\u001b[1;33m\u001b[0m\u001b[0m\n\u001b[0m\u001b[0;32m     51\u001b[0m     \u001b[0mwidth\u001b[0m \u001b[1;33m\u003d\u001b[0m \u001b[1;36m0.5\u001b[0m  \u001b[1;31m# the width of the bars: can also be len(x) sequence\u001b[0m\u001b[1;33m\u001b[0m\u001b[1;33m\u001b[0m\u001b[0m\n\u001b[0;32m     52\u001b[0m     \u001b[1;32mfor\u001b[0m \u001b[0mc\u001b[0m \u001b[1;32min\u001b[0m \u001b[0mancs\u001b[0m\u001b[1;33m:\u001b[0m\u001b[1;33m\u001b[0m\u001b[1;33m\u001b[0m\u001b[0m\n",
            "\u001b[1;32m_pydevd_bundle\\pydevd_cython_win32_37_64.pyx\u001b[0m in \u001b[0;36m_pydevd_bundle.pydevd_cython_win32_37_64.SafeCallWrapper.__call__\u001b[1;34m()\u001b[0m\n",
            "\u001b[1;32m_pydevd_bundle\\pydevd_cython_win32_37_64.pyx\u001b[0m in \u001b[0;36m_pydevd_bundle.pydevd_cython_win32_37_64.PyDBFrame.trace_dispatch\u001b[1;34m()\u001b[0m\n",
            "\u001b[1;32m_pydevd_bundle\\pydevd_cython_win32_37_64.pyx\u001b[0m in \u001b[0;36m_pydevd_bundle.pydevd_cython_win32_37_64.PyDBFrame.trace_dispatch\u001b[1;34m()\u001b[0m\n",
            "\u001b[1;32m_pydevd_bundle\\pydevd_cython_win32_37_64.pyx\u001b[0m in \u001b[0;36m_pydevd_bundle.pydevd_cython_win32_37_64.PyDBFrame.trace_dispatch\u001b[1;34m()\u001b[0m\n",
            "\u001b[1;32m_pydevd_bundle\\pydevd_cython_win32_37_64.pyx\u001b[0m in \u001b[0;36m_pydevd_bundle.pydevd_cython_win32_37_64.PyDBFrame.do_wait_suspend\u001b[1;34m()\u001b[0m\n",
            "\u001b[1;32mC:\\Program Files\\JetBrains\\PyCharm 2019.1.1\\helpers\\pydev\\pydevd.py\u001b[0m in \u001b[0;36mdo_wait_suspend\u001b[1;34m(self, thread, frame, event, arg, suspend_type, send_suspend_message)\u001b[0m\n\u001b[0;32m    875\u001b[0m \u001b[1;33m\u001b[0m\u001b[0m\n\u001b[0;32m    876\u001b[0m             \u001b[0mself\u001b[0m\u001b[1;33m.\u001b[0m\u001b[0mprocess_internal_commands\u001b[0m\u001b[1;33m(\u001b[0m\u001b[1;33m)\u001b[0m\u001b[1;33m\u001b[0m\u001b[1;33m\u001b[0m\u001b[0m\n\u001b[1;32m--\u003e 877\u001b[1;33m             \u001b[0mtime\u001b[0m\u001b[1;33m.\u001b[0m\u001b[0msleep\u001b[0m\u001b[1;33m(\u001b[0m\u001b[1;36m0.01\u001b[0m\u001b[1;33m)\u001b[0m\u001b[1;33m\u001b[0m\u001b[1;33m\u001b[0m\u001b[0m\n\u001b[0m\u001b[0;32m    878\u001b[0m \u001b[1;33m\u001b[0m\u001b[0m\n\u001b[0;32m    879\u001b[0m         \u001b[0mself\u001b[0m\u001b[1;33m.\u001b[0m\u001b[0mcancel_async_evaluation\u001b[0m\u001b[1;33m(\u001b[0m\u001b[0mget_thread_id\u001b[0m\u001b[1;33m(\u001b[0m\u001b[0mthread\u001b[0m\u001b[1;33m)\u001b[0m\u001b[1;33m,\u001b[0m \u001b[0mstr\u001b[0m\u001b[1;33m(\u001b[0m\u001b[0mid\u001b[0m\u001b[1;33m(\u001b[0m\u001b[0mframe\u001b[0m\u001b[1;33m)\u001b[0m\u001b[1;33m)\u001b[0m\u001b[1;33m)\u001b[0m\u001b[1;33m\u001b[0m\u001b[1;33m\u001b[0m\u001b[0m\n",
            "\u001b[1;31mKeyboardInterrupt\u001b[0m: "
          ],
          "ename": "KeyboardInterrupt",
          "evalue": "",
          "output_type": "error"
        }
      ],
      "source": [
        "bar_stacked(lgca)\n"
      ]
    }
  ],
  "metadata": {
    "kernelspec": {
      "display_name": "Python 3",
      "language": "python",
      "name": "python3"
    },
    "language_info": {
      "codemirror_mode": {
        "name": "ipython",
        "version": 3
      },
      "file_extension": ".py",
      "mimetype": "text/x-python",
      "name": "python",
      "nbconvert_exporter": "python",
      "pygments_lexer": "ipython3",
      "version": "3.7.1"
    }
  },
  "nbformat": 4,
  "nbformat_minor": 2
}