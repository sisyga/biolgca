{
 "cells": [
  {
   "cell_type": "markdown",
   "source": [
    "## Spatial dynamics"
   ],
   "metadata": {
    "collapsed": false
   }
  },
  {
   "cell_type": "code",
   "execution_count": 1,
   "outputs": [],
   "source": [
    "import numpy as np\n",
    "import matplotlib.pyplot as plt\n",
    "from lgca import get_lgca\n",
    "from scipy.integrate import  solve_ivp\n",
    "from scipy.special import erf\n",
    "from math import sqrt\n",
    "from scipy.ndimage import laplace, convolve1d"
   ],
   "metadata": {
    "collapsed": false,
    "ExecuteTime": {
     "end_time": "2023-08-07T15:27:13.621012400Z",
     "start_time": "2023-08-07T15:27:13.615464900Z"
    }
   }
  },
  {
   "cell_type": "code",
   "execution_count": 2,
   "outputs": [
    {
     "name": "stdout",
     "output_type": "stream",
     "text": [
      "15891.043154093204\n"
     ]
    }
   ],
   "source": [
    "a_max = 1.\n",
    "a_min = 0.\n",
    "na = 401\n",
    "alpha, dalpha = np.linspace(a_min, a_max, num=na, retstep=True)\n",
    "r_d = 0.01\n",
    "r_b = 0.2\n",
    "p_mut = 1\n",
    "var = 0.00001\n",
    "mean_mut_effect = 0\n",
    "tmax = 50000\n",
    "Da = var / 2\n",
    "dens0 = 1 - r_d / r_b\n",
    "ts = np.linspace(0, tmax, num=101)\n",
    "nx = 100\n",
    "xmax = 100\n",
    "x, dx = np.linspace(0, xmax, nx, retstep=True, endpoint=False)\n",
    "da = dalpha\n",
    "p_m = 1\n",
    "D = 0.00001\n",
    "K = 1e6\n",
    "dt = 1\n",
    "Tfill = xmax / (2 * np.sqrt(D* (1.-r_d)))\n",
    "tshow = [2, 10, 40, 100]\n",
    "print(Tfill)"
   ],
   "metadata": {
    "collapsed": false,
    "ExecuteTime": {
     "end_time": "2023-08-07T15:27:13.647630700Z",
     "start_time": "2023-08-07T15:27:13.625012700Z"
    }
   }
  },
  {
   "cell_type": "code",
   "execution_count": 17,
   "outputs": [
    {
     "name": "stdout",
     "output_type": "stream",
     "text": [
      "5001.99960015992\n"
     ]
    }
   ],
   "source": [
    "# cancer params\n",
    "r_d = 0.25\n",
    "r_b = 0.5\n",
    "# p_mut = 1\n",
    "p_l = 1e-8\n",
    "T_d = 700\n",
    "# T_d = 1400\n",
    "T_p = 5e6\n",
    "# T_p = 1e7\n",
    "p_d = T_d * p_l\n",
    "p_p = T_p * p_l\n",
    "p_mut = 1 - (1 - p_d) * (1 - p_p)\n",
    "p_pos = T_d / (T_d + T_p)\n",
    "s_p = 0.001 * r_b\n",
    "s_d = 0.2 * r_b\n",
    "tmax = 10000\n",
    "# Da = var / 2\n",
    "dens0 = 1 - r_d / r_b\n",
    "# mean_mut_effect = p_pos * s_d - (1 - p_pos) * s_p\n",
    "# var = p_pos * s_d**2 + (1 - p_pos) * s_p**2\n",
    "# secondmommu = var + mean_mut_effect**2\n",
    "Ncrit = T_p * (s_p / r_b) / T_d / (s_d/r_b)**2\n",
    "mucrit = s_d / T_p / r_b\n",
    "K = np.ceil(Ncrit/10)\n",
    "vtarget = .02\n",
    "gamma = -np.log(vtarget**2 / (4 * (r_b - r_d)))\n",
    "D = 1. / (2 + np.exp(gamma))\n",
    "Tfill = xmax / (2 * np.sqrt(D * (r_b - r_d)))\n",
    "print(Tfill)"
   ],
   "metadata": {
    "collapsed": false,
    "ExecuteTime": {
     "end_time": "2023-08-07T15:44:29.861836Z",
     "start_time": "2023-08-07T15:44:29.831300200Z"
    }
   }
  },
  {
   "cell_type": "code",
   "execution_count": 18,
   "outputs": [
    {
     "data": {
      "text/plain": "7.824046010856292"
     },
     "execution_count": 18,
     "metadata": {},
     "output_type": "execute_result"
    }
   ],
   "source": [
    "gamma"
   ],
   "metadata": {
    "collapsed": false,
    "ExecuteTime": {
     "end_time": "2023-08-07T15:44:30.046568100Z",
     "start_time": "2023-08-07T15:44:30.009857700Z"
    }
   }
  },
  {
   "cell_type": "code",
   "execution_count": 31,
   "outputs": [
    {
     "data": {
      "text/plain": "  0%|          | 0/10000 [00:00<?, ?it/s]",
      "application/vnd.jupyter.widget-view+json": {
       "version_major": 2,
       "version_minor": 0,
       "model_id": "415f1c8ec5e44d9e84aef6e13ab70495"
      }
     },
     "metadata": {},
     "output_type": "display_data"
    }
   ],
   "source": [
    "l = 100\n",
    "dims= l,\n",
    "nodes = np.zeros((l, 3), dtype=int)\n",
    "nodes[:10, -1] = dens0 * K\n",
    "lgca = get_lgca(ib=True, nodes=nodes, bc='refl', interaction='birthdeath_cancerdfe', ve=False, capacity=K,\n",
    "                r_d=r_d, r_b=r_b, a_max=a_max, geometry='lin', dims=dims, restchannels=1, s_d=s_d, p_d=p_d, p_p=p_p, s_p=s_p, gamma=gamma)\n",
    "lgca.timeevo(timesteps=tmax, record=True)"
   ],
   "metadata": {
    "collapsed": false,
    "ExecuteTime": {
     "end_time": "2023-08-07T15:46:07.133266Z",
     "start_time": "2023-08-07T15:46:04.961096300Z"
    }
   }
  },
  {
   "cell_type": "code",
   "execution_count": 32,
   "outputs": [],
   "source": [
    "skip = 200"
   ],
   "metadata": {
    "collapsed": false,
    "ExecuteTime": {
     "end_time": "2023-08-07T15:46:07.134271400Z",
     "start_time": "2023-08-07T15:46:07.131257800Z"
    }
   }
  },
  {
   "cell_type": "code",
   "execution_count": 33,
   "outputs": [
    {
     "data": {
      "text/plain": "[<matplotlib.lines.Line2D at 0x1c0c5884b10>]"
     },
     "execution_count": 33,
     "metadata": {},
     "output_type": "execute_result"
    },
    {
     "data": {
      "text/plain": "<Figure size 640x480 with 1 Axes>",
      "image/png": "[encoded data removed]"
     },
     "metadata": {},
     "output_type": "display_data"
    }
   ],
   "source": [
    "x = np.arange(tmax+1)[::skip] / 4\n",
    "plt.plot(x, lgca.dens_t.sum(-1)[::skip])\n",
    "plt.plot(x, lgca.dens_t[::skip])\n",
    "Nmax = K * (1 - r_d) * l\n",
    "plt.plot([0, tmax/4], [Ncrit, Ncrit], 'k--', label='$N^*$')\n",
    "plt.plot([0, tmax/4], [Nmax, Nmax], 'k:', label=r'$N_{\\max}$')"
   ],
   "metadata": {
    "collapsed": false,
    "ExecuteTime": {
     "end_time": "2023-08-07T15:46:07.429386100Z",
     "start_time": "2023-08-07T15:46:07.139274400Z"
    }
   }
  },
  {
   "cell_type": "code",
   "execution_count": 91,
   "outputs": [],
   "source": [
    "10lgca.plot_density(density_t=lgca.dens_t[::skip])"
   ],
   "metadata": {
    "collapsed": false
   }
  },
  {
   "cell_type": "code",
   "execution_count": 92,
   "outputs": [],
   "source": [
    "lgca.plot_prop_timecourse(nodes_t=lgca.nodes_t[::skip])"
   ],
   "metadata": {
    "collapsed": false
   }
  },
  {
   "cell_type": "code",
   "execution_count": 95,
   "outputs": [],
   "source": [
    "print(np.sum(lgca.nodes_t.astype(bool)))"
   ],
   "metadata": {
    "collapsed": false
   }
  },
  {
   "cell_type": "code",
   "execution_count": 93,
   "outputs": [],
   "source": [
    "lgca.plot_prop_spatial(nodes_t=lgca.nodes_t[::skip])"
   ],
   "metadata": {
    "collapsed": false
   }
  }
 ],
 "metadata": {
  "kernelspec": {
   "display_name": "Python 3",
   "language": "python",
   "name": "python3"
  },
  "language_info": {
   "codemirror_mode": {
    "name": "ipython",
    "version": 2
   },
   "file_extension": ".py",
   "mimetype": "text/x-python",
   "name": "python",
   "nbconvert_exporter": "python",
   "pygments_lexer": "ipython2",
   "version": "2.7.6"
  }
 },
 "nbformat": 4,
 "nbformat_minor": 0
}
