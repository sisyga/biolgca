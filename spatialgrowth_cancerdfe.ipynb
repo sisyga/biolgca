{
 "cells": [
  {
   "cell_type": "markdown",
   "source": [
    "## Spatial dynamics"
   ],
   "metadata": {
    "collapsed": false
   }
  },
  {
   "cell_type": "code",
   "execution_count": 5,
   "outputs": [],
   "source": [
    "import numpy as np\n",
    "import matplotlib.pyplot as plt\n",
    "from lgca import get_lgca\n",
    "from scipy.integrate import  solve_ivp\n",
    "from scipy.special import erf\n",
    "from math import sqrt\n",
    "from scipy.ndimage import laplace, convolve1d"
   ],
   "metadata": {
    "collapsed": false,
    "ExecuteTime": {
     "end_time": "2023-08-10T13:58:35.099664Z",
     "start_time": "2023-08-10T13:58:35.085652100Z"
    }
   }
  },
  {
   "cell_type": "code",
   "execution_count": 6,
   "outputs": [
    {
     "name": "stdout",
     "output_type": "stream",
     "text": [
      "15891.043154093204\n"
     ]
    }
   ],
   "source": [
    "a_max = 1.\n",
    "a_min = 0.\n",
    "na = 401\n",
    "alpha, dalpha = np.linspace(a_min, a_max, num=na, retstep=True)\n",
    "r_d = 0.01\n",
    "r_b = 0.2\n",
    "p_mut = 1\n",
    "var = 0.00001\n",
    "mean_mut_effect = 0\n",
    "tmax = 50000\n",
    "Da = var / 2\n",
    "dens0 = 1 - r_d / r_b\n",
    "ts = np.linspace(0, tmax, num=101)\n",
    "nx = 100\n",
    "xmax = 100\n",
    "x, dx = np.linspace(0, xmax, nx, retstep=True, endpoint=False)\n",
    "da = dalpha\n",
    "p_m = 1\n",
    "D = 0.00001\n",
    "K = 1e6\n",
    "dt = 1\n",
    "Tfill = xmax / (2 * np.sqrt(D* (1.-r_d)))\n",
    "tshow = [2, 10, 40, 100]\n",
    "print(Tfill)"
   ],
   "metadata": {
    "collapsed": false,
    "ExecuteTime": {
     "end_time": "2023-08-10T13:58:35.270031200Z",
     "start_time": "2023-08-10T13:58:35.253735700Z"
    }
   }
  },
  {
   "cell_type": "code",
   "execution_count": 7,
   "outputs": [],
   "source": [
    "def calc_t_half(N0, Ncrit, K, r_d, p_p, s_p, r_b):\n",
    "    return N0 * Ncrit * (2*K - 3*N0 + 2*Ncrit)/(r_d * p_p * s_p / r_b * (2 * K**2 * N0**2 - 6 * K**2 * N0 * Ncrit + 4 * K**2 * Ncrit**2 - 3 * K * N0**3 + 9 * K * N0**2 * Ncrit - 6 * K * N0 * Ncrit**2 + N0**4 - 3 * N0**3 * Ncrit + 2 * N0**2 * Ncrit**2))"
   ],
   "metadata": {
    "collapsed": false,
    "ExecuteTime": {
     "end_time": "2023-08-10T13:58:36.768083600Z",
     "start_time": "2023-08-10T13:58:36.738562Z"
    }
   }
  },
  {
   "cell_type": "code",
   "execution_count": 14,
   "outputs": [
    {
     "name": "stdout",
     "output_type": "stream",
     "text": [
      "1992.1834147109666 12.42137623395443\n"
     ]
    }
   ],
   "source": [
    "# cancer params\n",
    "r_d = 0.25\n",
    "r_b = 0.5\n",
    "# p_mut = 1\n",
    "p_l = 1e-8\n",
    "T_d = 700\n",
    "# T_d = 1400\n",
    "T_p = 5e6\n",
    "# T_p = 1e7\n",
    "p_d = T_d * p_l\n",
    "p_p = T_p * p_l\n",
    "p_mut = 1 - (1 - p_d) * (1 - p_p)\n",
    "p_pos = T_d / (T_d + T_p)\n",
    "s_p = 0.001 * r_b\n",
    "s_d = 0.1 * r_b\n",
    "tmax = 10000\n",
    "# Da = var / 2\n",
    "dens0 = 1 - r_d / r_b\n",
    "# mean_mut_effect = p_pos * s_d - (1 - p_pos) * s_p\n",
    "# var = p_pos * s_d**2 + (1 - p_pos) * s_p**2\n",
    "# secondmommu = var + mean_mut_effect**2\n",
    "Ncrit = T_p * (s_p / r_b) / T_d / (s_d/r_b)**2\n",
    "mucrit = s_d / T_p / r_b\n",
    "\n",
    "\n",
    "L0 = 1\n",
    "K = round(np.ceil(Ncrit/L0))\n",
    "N0 = dens0 * K\n",
    "l = round(np.ceil(4 * Ncrit / K))\n",
    "t_half = calc_t_half(N0*L0, Ncrit, K*L0, r_d, p_p, s_p, r_b)\n",
    "vcrit = L0 / t_half / 2\n",
    "vtarget = vcrit\n",
    "gamma = -np.log(vtarget**2 / (4 * (r_b - r_d)))\n",
    "D = 1. / (2 + np.exp(gamma))\n",
    "Tfill = l / (2 * np.sqrt(D * (r_b - r_d)))\n",
    "print(Tfill, gamma)"
   ],
   "metadata": {
    "collapsed": false,
    "ExecuteTime": {
     "end_time": "2023-08-10T15:40:29.996629800Z",
     "start_time": "2023-08-10T15:40:29.967530400Z"
    }
   }
  },
  {
   "cell_type": "code",
   "execution_count": 15,
   "outputs": [
    {
     "data": {
      "text/plain": "715"
     },
     "execution_count": 15,
     "metadata": {},
     "output_type": "execute_result"
    }
   ],
   "source": [
    "K"
   ],
   "metadata": {
    "collapsed": false,
    "ExecuteTime": {
     "end_time": "2023-08-10T15:40:30.285281400Z",
     "start_time": "2023-08-10T15:40:30.264751600Z"
    }
   }
  },
  {
   "cell_type": "code",
   "execution_count": 16,
   "outputs": [
    {
     "data": {
      "text/plain": "(249.02192291321987, 0.002007855349242653)"
     },
     "execution_count": 16,
     "metadata": {},
     "output_type": "execute_result"
    }
   ],
   "source": [
    "t_half, vcrit"
   ],
   "metadata": {
    "collapsed": false,
    "ExecuteTime": {
     "end_time": "2023-08-10T15:40:38.087138100Z",
     "start_time": "2023-08-10T15:40:38.055591900Z"
    }
   }
  },
  {
   "cell_type": "code",
   "execution_count": 17,
   "outputs": [
    {
     "data": {
      "text/plain": "  0%|          | 0/10000 [00:00<?, ?it/s]",
      "application/vnd.jupyter.widget-view+json": {
       "version_major": 2,
       "version_minor": 0,
       "model_id": "e28acecdd3a34ed59b24bd4dc600f7df"
      }
     },
     "metadata": {},
     "output_type": "display_data"
    }
   ],
   "source": [
    "\n",
    "tmax = 10000\n",
    "dims= l,\n",
    "nodes = np.zeros((l, 3), dtype=int)\n",
    "nodes[:L0, -1] = N0\n",
    "lgca = get_lgca(ib=True, nodes=nodes, bc='refl', interaction='birthdeath_cancerdfe', ve=False, capacity=K,\n",
    "                r_d=r_d, r_b=r_b, a_max=a_max, geometry='lin', dims=dims, restchannels=1, s_d=s_d, p_d=p_d, p_p=p_p, s_p=s_p, gamma=gamma)\n",
    "lgca.timeevo(timesteps=tmax, record=True)"
   ],
   "metadata": {
    "collapsed": false,
    "ExecuteTime": {
     "end_time": "2023-08-10T15:41:31.957022200Z",
     "start_time": "2023-08-10T15:40:38.269535600Z"
    }
   }
  },
  {
   "cell_type": "code",
   "execution_count": 12,
   "outputs": [
    {
     "data": {
      "text/plain": "(10001, 80)"
     },
     "execution_count": 12,
     "metadata": {},
     "output_type": "execute_result"
    }
   ],
   "source": [
    "skip = round(100 / lgca.dens_t.shape[0]) + 1\n",
    "lgca.dens_t.astype(bool).shape"
   ],
   "metadata": {
    "collapsed": false,
    "ExecuteTime": {
     "end_time": "2023-08-10T15:40:05.618913200Z",
     "start_time": "2023-08-10T15:40:05.591889Z"
    }
   }
  },
  {
   "cell_type": "code",
   "execution_count": 13,
   "outputs": [
    {
     "data": {
      "text/plain": "(1, 2729.7629749154225)"
     },
     "execution_count": 13,
     "metadata": {},
     "output_type": "execute_result"
    },
    {
     "data": {
      "text/plain": "<Figure size 640x480 with 1 Axes>",
      "image/png": "[encoded data removed]"
     },
     "metadata": {},
     "output_type": "display_data"
    }
   ],
   "source": [
    "x = np.arange(tmax+1)[::skip] / 4\n",
    "plt.plot(x, lgca.dens_t.sum(-1)[::skip], label='total cell number')\n",
    "# plot the number of nonzero nodes\n",
    "plt.plot(x, lgca.dens_t.astype(bool).sum(-1)[::skip], label='spatial spread')\n",
    "Nmax = K * (1 - r_d) * l\n",
    "plt.plot([0, tmax/4], [Ncrit, Ncrit], 'k--', label='$N^*$')\n",
    "plt.plot([0, tmax/4], [Nmax, Nmax], 'k:', label=r'$N_{\\max}$')\n",
    "plt.yscale('log')\n",
    "plt.ylim(1)"
   ],
   "metadata": {
    "collapsed": false,
    "ExecuteTime": {
     "end_time": "2023-08-10T15:40:07.287217300Z",
     "start_time": "2023-08-10T15:40:06.069368900Z"
    }
   }
  },
  {
   "cell_type": "code",
   "execution_count": 91,
   "outputs": [],
   "source": [
    "lgca.plot_density(density_t=lgca.dens_t[::skip])"
   ],
   "metadata": {
    "collapsed": false
   }
  },
  {
   "cell_type": "code",
   "execution_count": 92,
   "outputs": [],
   "source": [
    "lgca.plot_prop_timecourse(nodes_t=lgca.nodes_t[::skip])"
   ],
   "metadata": {
    "collapsed": false
   }
  },
  {
   "cell_type": "code",
   "execution_count": 95,
   "outputs": [],
   "source": [
    "print(np.sum(lgca.nodes_t.astype(bool)))"
   ],
   "metadata": {
    "collapsed": false
   }
  },
  {
   "cell_type": "code",
   "execution_count": 93,
   "outputs": [],
   "source": [
    "lgca.plot_prop_spatial(nodes_t=lgca.nodes_t[::skip])"
   ],
   "metadata": {
    "collapsed": false
   }
  }
 ],
 "metadata": {
  "kernelspec": {
   "display_name": "Python 3",
   "language": "python",
   "name": "python3"
  },
  "language_info": {
   "codemirror_mode": {
    "name": "ipython",
    "version": 2
   },
   "file_extension": ".py",
   "mimetype": "text/x-python",
   "name": "python",
   "nbconvert_exporter": "python",
   "pygments_lexer": "ipython2",
   "version": "2.7.6"
  }
 },
 "nbformat": 4,
 "nbformat_minor": 0
}
