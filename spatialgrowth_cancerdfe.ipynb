{
 "cells": [
  {
   "cell_type": "markdown",
   "source": [
    "## Spatial dynamics"
   ],
   "metadata": {
    "collapsed": false
   }
  },
  {
   "cell_type": "code",
   "execution_count": 77,
   "outputs": [],
   "source": [
    "import numpy as np\n",
    "import matplotlib.pyplot as plt\n",
    "from lgca import get_lgca\n",
    "from scipy.integrate import  solve_ivp\n",
    "from scipy.special import erf\n",
    "from math import sqrt\n",
    "from scipy.ndimage import laplace, convolve1d"
   ],
   "metadata": {
    "collapsed": false,
    "ExecuteTime": {
     "end_time": "2023-08-02T12:31:29.919671500Z",
     "start_time": "2023-08-02T12:31:29.878761200Z"
    }
   }
  },
  {
   "cell_type": "code",
   "execution_count": 78,
   "outputs": [
    {
     "name": "stdout",
     "output_type": "stream",
     "text": [
      "15891.043154093204\n"
     ]
    }
   ],
   "source": [
    "a_max = 1.\n",
    "a_min = 0.\n",
    "na = 401\n",
    "alpha, dalpha = np.linspace(a_min, a_max, num=na, retstep=True)\n",
    "r_d = 0.01\n",
    "r_b = 0.2\n",
    "p_mut = 1\n",
    "var = 0.00001\n",
    "mean_mut_effect = 0\n",
    "tmax = 50000\n",
    "Da = var / 2\n",
    "dens0 = 1 - r_d / r_b\n",
    "ts = np.linspace(0, tmax, num=101)\n",
    "nx = 100\n",
    "xmax = 100\n",
    "x, dx = np.linspace(0, xmax, nx, retstep=True, endpoint=False)\n",
    "da = dalpha\n",
    "p_m = 1\n",
    "D = 0.00001\n",
    "K = 1e6\n",
    "dt = 1\n",
    "Tfill = xmax / (2 * np.sqrt(D* (1.-r_d)))\n",
    "tshow = [2, 10, 40, 100]\n",
    "print(Tfill)"
   ],
   "metadata": {
    "collapsed": false,
    "ExecuteTime": {
     "end_time": "2023-08-02T12:31:29.992352200Z",
     "start_time": "2023-08-02T12:31:29.888831Z"
    }
   }
  },
  {
   "cell_type": "code",
   "execution_count": 79,
   "outputs": [
    {
     "name": "stdout",
     "output_type": "stream",
     "text": [
      "100000.09999994998\n"
     ]
    }
   ],
   "source": [
    "# cancer params\n",
    "r_d = 0.25\n",
    "r_b = 0.5\n",
    "# p_mut = 1\n",
    "p_l = 1e-8\n",
    "T_d = 700\n",
    "# T_d = 1400\n",
    "T_p = 5e6\n",
    "# T_p = 1e7\n",
    "p_d = T_d * p_l\n",
    "p_p = T_p * p_l\n",
    "p_mut = 1 - (1 - p_d) * (1 - p_p)\n",
    "p_pos = T_d / (T_d + T_p)\n",
    "s_p = 0.001 * r_b\n",
    "s_d = 0.2 * r_b\n",
    "tmax = 100000\n",
    "# Da = var / 2\n",
    "dens0 = 1 - r_d / r_b\n",
    "# mean_mut_effect = p_pos * s_d - (1 - p_pos) * s_p\n",
    "# var = p_pos * s_d**2 + (1 - p_pos) * s_p**2\n",
    "# secondmommu = var + mean_mut_effect**2\n",
    "Ncrit = T_p * (s_p / r_b) / T_d / (s_d/r_b)**2\n",
    "mucrit = s_d / T_p / r_b\n",
    "K = np.ceil(Ncrit)\n",
    "vtarget = 1./tmax * 100\n",
    "gamma = -np.log(vtarget**2 / (4 * (r_b - r_d)))\n",
    "D = 1. / (2 + np.exp(gamma))\n",
    "Tfill = xmax / (2 * np.sqrt(D * (r_b - r_d)))\n",
    "print(Tfill)"
   ],
   "metadata": {
    "collapsed": false,
    "ExecuteTime": {
     "end_time": "2023-08-02T12:31:29.992352200Z",
     "start_time": "2023-08-02T12:31:29.899089500Z"
    }
   }
  },
  {
   "cell_type": "code",
   "execution_count": 87,
   "outputs": [],
   "source": [
    "%matplotlib qt"
   ],
   "metadata": {
    "collapsed": false
   }
  },
  {
   "cell_type": "code",
   "execution_count": 80,
   "outputs": [
    {
     "data": {
      "text/plain": "  0%|          | 0/100000 [00:00<?, ?it/s]",
      "application/vnd.jupyter.widget-view+json": {
       "version_major": 2,
       "version_minor": 0,
       "model_id": "e0155f37949043988dc916c607f78877"
      }
     },
     "metadata": {},
     "output_type": "display_data"
    }
   ],
   "source": [
    "l = 10\n",
    "dims= l,\n",
    "nodes = np.zeros((l, 3), dtype=int)\n",
    "nodes[0, -1] = dens0 * K\n",
    "lgca = get_lgca(ib=True, nodes=nodes, bc='refl', interaction='birthdeath_cancerdfe', ve=False, capacity=K,\n",
    "                r_d=r_d, r_b=r_b, a_max=a_max, geometry='lin', dims=dims, restchannels=1, s_d=s_d, p_d=p_d, p_p=p_p, s_p=s_p, gamma=gamma)\n",
    "lgca.timeevo(timesteps=tmax, record=True)"
   ],
   "metadata": {
    "collapsed": false,
    "ExecuteTime": {
     "end_time": "2023-08-02T12:35:44.742716600Z",
     "start_time": "2023-08-02T12:31:34.314544800Z"
    }
   }
  },
  {
   "cell_type": "code",
   "execution_count": 90,
   "outputs": [],
   "source": [
    "skip = 200"
   ],
   "metadata": {
    "collapsed": false
   }
  },
  {
   "cell_type": "code",
   "execution_count": 88,
   "outputs": [],
   "source": [
    "x = np.arange(tmax+1)[::skip] / 4\n",
    "plt.plot(x, lgca.dens_t.sum(-1)[::skip])\n",
    "plt.plot(x, lgca.dens_t[::skip])\n",
    "Nmax = K * (1 - r_d) * l\n",
    "plt.plot([0, tmax/4], [Ncrit, Ncrit], 'k--', label='$N^*$')\n",
    "plt.plot([0, tmax/4], [Nmax, Nmax], 'k:', label=r'$N_{\\max}$')"
   ],
   "metadata": {
    "collapsed": false
   }
  },
  {
   "cell_type": "code",
   "execution_count": 91,
   "outputs": [],
   "source": [
    "lgca.plot_density(density_t=lgca.dens_t[::skip])"
   ],
   "metadata": {
    "collapsed": false
   }
  },
  {
   "cell_type": "code",
   "execution_count": 92,
   "outputs": [],
   "source": [
    "lgca.plot_prop_timecourse(nodes_t=lgca.nodes_t[::skip])"
   ],
   "metadata": {
    "collapsed": false
   }
  },
  {
   "cell_type": "code",
   "execution_count": 95,
   "outputs": [],
   "source": [
    "print(np.sum(lgca.nodes_t.astype(bool)))"
   ],
   "metadata": {
    "collapsed": false
   }
  },
  {
   "cell_type": "code",
   "execution_count": 93,
   "outputs": [],
   "source": [
    "lgca.plot_prop_spatial(nodes_t=lgca.nodes_t[::skip])"
   ],
   "metadata": {
    "collapsed": false
   }
  }
 ],
 "metadata": {
  "kernelspec": {
   "display_name": "Python 3",
   "language": "python",
   "name": "python3"
  },
  "language_info": {
   "codemirror_mode": {
    "name": "ipython",
    "version": 2
   },
   "file_extension": ".py",
   "mimetype": "text/x-python",
   "name": "python",
   "nbconvert_exporter": "python",
   "pygments_lexer": "ipython2",
   "version": "2.7.6"
  }
 },
 "nbformat": 4,
 "nbformat_minor": 0
}
