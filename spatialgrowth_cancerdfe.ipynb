{
 "cells": [
  {
   "cell_type": "markdown",
   "source": [
    "## Spatial dynamics"
   ],
   "metadata": {
    "collapsed": false
   }
  },
  {
   "cell_type": "code",
   "execution_count": 1,
   "outputs": [],
   "source": [
    "import numpy as np\n",
    "import matplotlib.pyplot as plt\n",
    "from lgca import get_lgca\n",
    "from scipy.integrate import  solve_ivp\n",
    "from scipy.special import erf\n",
    "from math import sqrt\n",
    "from scipy.ndimage import laplace, convolve1d"
   ],
   "metadata": {
    "collapsed": false,
    "ExecuteTime": {
     "end_time": "2023-08-01T08:05:26.015217100Z",
     "start_time": "2023-08-01T08:05:26.006235500Z"
    }
   }
  },
  {
   "cell_type": "code",
   "execution_count": 2,
   "outputs": [],
   "source": [
    "def dydt_spatial(t, y, alpha, dx, r_d, p, mean, secondmoment, K, D):\n",
    "    y = y.reshape((-1, len(alpha)))\n",
    "    da = alpha[1] - alpha[0]\n",
    "    rho = np.trapz(y, dx=da, axis=-1)\n",
    "    alpharho = alpha * y\n",
    "    cutoff = np.heaviside(y - 1/K, .5)\n",
    "    # dy = alpharho + v * convolve1d(alpharho, [1, -2, 1], axis=-1, mode='mirror')\n",
    "    # dy[:, -1] = alpharho[:, -1] - v * da * (y[:, -2] + alpha[-2] * (y[:, -1] - y[:, -3]) / 2 / da)  # zero flux boundary conditions\n",
    "    dy = cutoff * alpharho + p * (-mean * np.gradient(alpharho, da, axis=1) + secondmoment / 2 * convolve1d(alpharho, [1., -2., 1.], axis=1) / da**2)\n",
    "\n",
    "    dy *= (1 - rho[..., None])\n",
    "    dy -= r_d * y * cutoff\n",
    "    dy[:, 0] = 0 # Dirichlet, Robin and Neumann boundary amounts to the same at the left boundary\n",
    "    dy[:, -1] = 0  # neumann condition\n",
    "    dy += convolve1d(y, [1., -2., 1.], axis=0, mode='mirror') / dx**2 * D\n",
    "    return dy.flatten()"
   ],
   "metadata": {
    "collapsed": false,
    "ExecuteTime": {
     "end_time": "2023-08-01T08:05:26.023678500Z",
     "start_time": "2023-08-01T08:05:26.023153400Z"
    }
   }
  },
  {
   "cell_type": "code",
   "execution_count": 11,
   "outputs": [
    {
     "name": "stdout",
     "output_type": "stream",
     "text": [
      "15891.043154093204\n"
     ]
    }
   ],
   "source": [
    "a_max = 1.\n",
    "a_min = 0.\n",
    "na = 1001\n",
    "alpha, dalpha = np.linspace(a_min, a_max, num=na, retstep=True)\n",
    "r_d = 0.01\n",
    "r_b = 0.2\n",
    "p_mut = 1\n",
    "var = 0.00001\n",
    "mean_mut_effect = 0\n",
    "tmax = 50000\n",
    "Da = var / 2\n",
    "dens0 = 1 - r_d / r_b\n",
    "ts = np.linspace(0, tmax, num=101)\n",
    "nx = 100\n",
    "xmax = 100\n",
    "x, dx = np.linspace(0, xmax, nx, retstep=True, endpoint=False)\n",
    "da = dalpha\n",
    "p_m = 1\n",
    "D = 0.00001\n",
    "K = 1e6\n",
    "dt = 1\n",
    "Tfill = xmax / (2 * np.sqrt(D* (1.-r_d)))\n",
    "tshow = [2, 10, 40, 100]\n",
    "print(Tfill)"
   ],
   "metadata": {
    "collapsed": false,
    "ExecuteTime": {
     "end_time": "2023-08-01T08:07:27.051815300Z",
     "start_time": "2023-08-01T08:07:27.045644800Z"
    }
   }
  },
  {
   "cell_type": "code",
   "execution_count": 44,
   "outputs": [],
   "source": [
    "# cancer params\n",
    "r_d = 0.25\n",
    "r_b = 0.5\n",
    "# p_mut = 1\n",
    "p_l = 1e-8\n",
    "T_d = 700\n",
    "# T_d = 1400\n",
    "T_p = 5e6\n",
    "# T_p = 1e7\n",
    "p_d = T_d * p_l\n",
    "p_p = T_p * p_l\n",
    "p_mut = 1 - (1 - p_d) * (1 - p_p)\n",
    "p_pos = T_d / (T_d + T_p)\n",
    "s_p = 0.001 * r_b\n",
    "s_d = 0.2 * r_b\n",
    "tmax = 50000\n",
    "# Da = var / 2\n",
    "dens0 = 1 - r_d / r_b\n",
    "# mean_mut_effect = p_pos * s_d - (1 - p_pos) * s_p\n",
    "# var = p_pos * s_d**2 + (1 - p_pos) * s_p**2\n",
    "# secondmommu = var + mean_mut_effect**2\n",
    "Ncrit = T_p * (s_p / r_b) / T_d / (s_d/r_b)**2\n",
    "mucrit = s_d / T_p / r_b\n",
    "K = np.ceil(Ncrit/2)\n",
    "gamma = -np.log((5e-2)**2 / r_b / 2)  # for invasion speed ~ 1e-3"
   ],
   "metadata": {
    "collapsed": false,
    "ExecuteTime": {
     "end_time": "2023-08-01T08:18:15.482606600Z",
     "start_time": "2023-08-01T08:18:15.482606600Z"
    }
   }
  },
  {
   "cell_type": "code",
   "execution_count": 44,
   "outputs": [],
   "source": [],
   "metadata": {
    "collapsed": false,
    "ExecuteTime": {
     "end_time": "2023-08-01T08:18:15.640701Z",
     "start_time": "2023-08-01T08:18:15.625027300Z"
    }
   }
  },
  {
   "cell_type": "code",
   "execution_count": null,
   "outputs": [
    {
     "data": {
      "text/plain": "  0%|          | 0/50000 [00:00<?, ?it/s]",
      "application/vnd.jupyter.widget-view+json": {
       "version_major": 2,
       "version_minor": 0,
       "model_id": "8f733b20cabf464daa268a632092a1a5"
      }
     },
     "metadata": {},
     "output_type": "display_data"
    }
   ],
   "source": [
    "l = 10\n",
    "dims= l,\n",
    "nodes = np.zeros((l, 3), dtype=int)\n",
    "nodes[0, -1] = dens0 * K\n",
    "lgca = get_lgca(ib=True, nodes=nodes, bc='refl', interaction='birthdeath_cancerdfe', std=sqrt(var), ve=False, capacity=K,\n",
    "                r_d=r_d, r_b=r_b, a_max=a_max, geometry='lin', dims=dims, restchannels=1, s_d=s_d, p_d=p_d, p_p=p_p, s_p=s_p, gamma=gamma)\n",
    "lgca.timeevo(timesteps=tmax, record=True)"
   ],
   "metadata": {
    "collapsed": false,
    "is_executing": true,
    "ExecuteTime": {
     "start_time": "2023-08-01T08:18:15.786408700Z"
    }
   }
  },
  {
   "cell_type": "code",
   "execution_count": null,
   "outputs": [],
   "source": [
    "skip = 100"
   ],
   "metadata": {
    "collapsed": false,
    "is_executing": true
   }
  },
  {
   "cell_type": "code",
   "execution_count": null,
   "outputs": [],
   "source": [
    "x = np.arange(tmax+1)[::skip] / 4\n",
    "plt.plot(x, lgca.dens_t.sum(-1)[::skip])\n",
    "plt.plot(x, lgca.dens_t[::skip])\n",
    "Nmax = K * (1 - r_d) * l\n",
    "plt.plot([0, tmax/4], [Ncrit, Ncrit], 'k--', label='$N^*$')\n",
    "plt.plot([0, tmax/4], [Nmax, Nmax], 'k:', label=r'$N_{\\max}$')"
   ],
   "metadata": {
    "collapsed": false,
    "is_executing": true
   }
  },
  {
   "cell_type": "code",
   "execution_count": null,
   "outputs": [],
   "source": [
    "lgca.plot_density(density_t=lgca.dens_t[::skip])"
   ],
   "metadata": {
    "collapsed": false,
    "is_executing": true
   }
  },
  {
   "cell_type": "code",
   "execution_count": 43,
   "outputs": [
    {
     "data": {
      "text/plain": "([<matplotlib.lines.Line2D at 0x1f63d3aaf10>],\n <matplotlib.collections.PolyCollection at 0x1f63d3abd10>)"
     },
     "execution_count": 43,
     "metadata": {},
     "output_type": "execute_result"
    },
    {
     "data": {
      "text/plain": "<Figure size 640x480 with 1 Axes>",
      "image/png": "[encoded data removed]"
     },
     "metadata": {},
     "output_type": "display_data"
    }
   ],
   "source": [
    "lgca.plot_prop_timecourse(nodes_t=lgca.nodes_t[::skip])"
   ],
   "metadata": {
    "collapsed": false,
    "ExecuteTime": {
     "end_time": "2023-08-01T08:17:44.317798700Z",
     "start_time": "2023-08-01T08:17:44.098189Z"
    }
   }
  },
  {
   "cell_type": "code",
   "execution_count": 21,
   "outputs": [
    {
     "data": {
      "text/plain": "(<Figure size 800x800 with 2 Axes>,\n <matplotlib.collections.PatchCollection at 0x1f8272e86d0>,\n <matplotlib.cm.ScalarMappable at 0x1f8272ebf10>)"
     },
     "execution_count": 21,
     "metadata": {},
     "output_type": "execute_result"
    },
    {
     "data": {
      "text/plain": "<Figure size 800x800 with 2 Axes>",
      "image/png": "[encoded data removed]"
     },
     "metadata": {},
     "output_type": "display_data"
    }
   ],
   "source": [
    "lgca.plot_prop_spatial()"
   ],
   "metadata": {
    "collapsed": false,
    "ExecuteTime": {
     "end_time": "2023-08-01T08:10:45.620534400Z",
     "start_time": "2023-08-01T08:10:24.186937800Z"
    }
   }
  },
  {
   "cell_type": "code",
   "execution_count": 21,
   "outputs": [],
   "source": [
    "method = 'RK45'"
   ],
   "metadata": {
    "collapsed": false
   }
  },
  {
   "cell_type": "code",
   "execution_count": 22,
   "outputs": [],
   "source": [
    "y0 = np.zeros((nx, na))\n",
    "y0[0, np.argmin(np.abs(alpha - r_b))] = dens0 / da\n",
    "solspatial = solve_ivp(dydt_spatial, (0, tmax), y0.flatten(), t_eval=ts, args=(alpha, dx, r_d, p_mut, mean_mut_effect, var, K, D), method=method)\n",
    "print(solspatial.message)"
   ],
   "metadata": {
    "collapsed": false
   }
  },
  {
   "cell_type": "markdown",
   "source": [
    "### Definitions of observables:\n",
    "$$\\rho(\\alpha, t) = \\int_L \\psi(x, \\alpha, t) dx$$\n",
    "$$\\Psi (x, t) = \\int_A \\psi(x, \\alpha, t) d\\alpha$$\n",
    "$$\\langle \\alpha \\rangle (x, t) = \\frac{\\int_A \\alpha \\psi(x, \\alpha, t) d\\alpha}{\\int_A \\psi(x, \\alpha, t) d\\alpha}$$\n"
   ],
   "metadata": {
    "collapsed": false
   }
  },
  {
   "cell_type": "code",
   "execution_count": 23,
   "outputs": [],
   "source": [
    "y = solspatial.y.reshape((nx, na, len(solspatial.t)))\n",
    "rhotot = np.trapz(y, dx=da, axis=1)  # total cell density at each point x\n",
    "meanalpha = np.divide(np.trapz(alpha[None, ..., None] * y, dx=da, axis=1), rhotot, where=rhotot>1e-6, out=np.zeros_like(rhotot))  # mean alpha at each point x\n",
    "rhoalpha = np.trapz(y, dx=dx, axis=0) / np.trapz(rhotot, dx=dx, axis=0)  # alpha distribution at each time t\n",
    "meanalphatot = np.trapz(np.trapz(alpha[None, ..., None] * y, dx=da, axis=1), dx=dx, axis=0) / np.trapz(rhotot, dx=dx, axis=0)  # mean alpha at each time t"
   ],
   "metadata": {
    "collapsed": false
   }
  },
  {
   "cell_type": "code",
   "execution_count": 24,
   "outputs": [],
   "source": [
    "for t in tshow:\n",
    "    pl = plt.plot(alpha, rhoalpha[:, t], label='t = {:n}'.format(ts[t]))\n",
    "#     plt.plot(alpha, sol2.y[:, t], '--', c=pl[0].get_color())\n",
    "#     plt.plot(alpha, sol3.y[:, t], '-.', c=pl[0].get_color())\n",
    "\n",
    "#plt.plot(alpha, sol[-1], label='t = {:n}'.format(ts[-1]))\n",
    "plt.xlabel('$\\\\alpha$')\n",
    "plt.ylabel('$\\\\rho(\\\\alpha)$')\n",
    "plt.ylim(0)\n",
    "plt.legend()"
   ],
   "metadata": {
    "collapsed": false
   }
  },
  {
   "cell_type": "code",
   "execution_count": 25,
   "outputs": [],
   "source": [
    "for t in tshow:\n",
    "    plt.plot(x, rhotot[..., t], label='$t = {:n}$'.format(ts[t]))\n",
    "\n",
    "plt.legend()\n",
    "plt.xlabel('$x$')\n",
    "plt.ylabel('$\\Psi (x)$')"
   ],
   "metadata": {
    "collapsed": false
   }
  },
  {
   "cell_type": "code",
   "execution_count": null,
   "outputs": [],
   "source": [
    "for t in tshow:\n",
    "    plt.plot(x, meanalpha[..., t], label='$t = {:n}$'.format(ts[t]))\n",
    "\n",
    "plt.legend()\n",
    "plt.xlabel('$x$')\n",
    "plt.ylabel('$\\\\langle\\\\alpha\\\\rangle (x, t)$')"
   ],
   "metadata": {
    "collapsed": false
   }
  },
  {
   "cell_type": "code",
   "execution_count": null,
   "outputs": [],
   "source": [
    "plt.plot(ts, meanalphatot)\n",
    "plt.xlabel('$t$')\n",
    "plt.ylabel('$\\\\langle\\\\alpha\\\\rangle(t)$')"
   ],
   "metadata": {
    "collapsed": false
   }
  },
  {
   "cell_type": "code",
   "execution_count": null,
   "outputs": [],
   "source": [
    "def meanalphaana(t, alpha0, p_m, var):\n",
    "    return alpha0 * np.cosh(np.sqrt(p_m * var) * t)"
   ],
   "metadata": {
    "collapsed": false
   }
  },
  {
   "cell_type": "code",
   "execution_count": null,
   "outputs": [],
   "source": [
    "rb_ana = meanalphaana(ts, r_b, p_m, var)"
   ],
   "metadata": {
    "collapsed": false
   }
  },
  {
   "cell_type": "code",
   "execution_count": null,
   "outputs": [],
   "source": [
    "meanalphafront = [meanalpha[np.argmax(rhotot[:, t], axis=0), t] for t in range(len(ts))]"
   ],
   "metadata": {
    "collapsed": false
   }
  },
  {
   "cell_type": "code",
   "execution_count": null,
   "outputs": [],
   "source": [
    "plt.plot(ts, meanalphatot, label='PDE tot')\n",
    "plt.plot(ts, meanalphafront, label='wave front PDE')\n",
    "plt.plot(ts, rb_ana, label='analytical')\n",
    "plt.ylabel('$\\\\langle\\\\alpha\\\\rangle$')\n",
    "plt.xlabel('$t$')\n",
    "plt.legend()"
   ],
   "metadata": {
    "collapsed": false
   }
  },
  {
   "cell_type": "code",
   "execution_count": null,
   "outputs": [],
   "source": [
    "# next: compare to cosh prediction, calc wave speed, compare wavespeed to lgca wavespeed over time!\n",
    "# calculating the wave speed directly from data is very noisy. Strategy: interpolate the function, define a wave front, find the position of the wavefront\n",
    "from scipy.interpolate import interp1d\n",
    "from scipy.optimize import fsolve, root"
   ],
   "metadata": {
    "collapsed": false
   }
  },
  {
   "cell_type": "code",
   "execution_count": null,
   "outputs": [],
   "source": [
    "x.shape, rhotot.shape"
   ],
   "metadata": {
    "collapsed": false
   }
  },
  {
   "cell_type": "code",
   "execution_count": null,
   "outputs": [],
   "source": [
    "rhointerp = [interp1d(x, rhotot[:,t]-.5, fill_value='extrapolate') for t in range(tmax)]\n",
    "# wavefront = [fsolve(rhoi, xmax/2) for rhoi in rhointerp]\n",
    "# wavefront = fsolve(rhointerp, xmax/2)\n",
    "frontindx = np.argmax(rhotot, axis=0)\n",
    "# wavefront = x[np.argmin(np.gradient(rhotot, dx, axis=0), axis=0)]\n",
    "wavefront = x[frontindx]\n",
    "\n",
    "speed = np.gradient(wavefront, dt)\n",
    "wavefront"
   ],
   "metadata": {
    "collapsed": false
   }
  },
  {
   "cell_type": "code",
   "execution_count": null,
   "outputs": [],
   "source": [
    "plt.plot(ts, speed)\n",
    "plt.plot(ts, 2 * np.sqrt(D * rb_ana))"
   ],
   "metadata": {
    "collapsed": false
   }
  },
  {
   "cell_type": "code",
   "execution_count": null,
   "outputs": [],
   "source": [
    "for t in np.linspace(0, len(ts), 5, dtype=int, endpoint=False):\n",
    "    p = plt.plot(x, rhotot[..., t], lw=0, marker='x', label='$t = {:n}$'.format(ts[t]))\n",
    "    plt.plot([wavefront[t], wavefront[t]], [0, 1], '--', color=p[0].get_color())\n",
    "\n",
    "plt.legend()\n",
    "plt.xlabel('$x$')\n",
    "plt.ylabel('$\\Psi (x)$')"
   ],
   "metadata": {
    "collapsed": false
   }
  },
  {
   "cell_type": "code",
   "execution_count": null,
   "outputs": [],
   "source": [
    "for t in np.linspace(0, len(ts), 5, dtype=int, endpoint=False):\n",
    "    pl = plt.plot(alpha, rhoalpha[:, t], label='t = {:n}'.format(ts[t]))\n",
    "    plt.plot(alpha, y[frontindx[t], :, t], '--', color=pl[0].get_color())\n",
    "\n",
    "#plt.plot(alpha, sol[-1], label='t = {:n}'.format(ts[-1]))\n",
    "plt.xlabel('$\\\\alpha$')\n",
    "plt.ylabel('$\\\\rho(\\\\alpha)$')\n",
    "plt.ylim(0)\n",
    "plt.legend()\n",
    "#plt.savefig('rho_alpha.png', dpi=600)"
   ],
   "metadata": {
    "collapsed": false
   }
  },
  {
   "cell_type": "code",
   "execution_count": null,
   "outputs": [],
   "source": [
    "# D = b / K = 2 / K -> K = 2 / D\n",
    "nodes = np.zeros((xmax, 3), dtype=bool)\n",
    "nodes[0, ...] = round(dens0 / 3 * K)\n",
    "lgca2 = get_lgca(ib=True, nodes=nodes, bc='reflect', interaction='birthdeath', std=sqrt(var), ve=0, capacity=K,\n",
    "                r_d=r_d, r_b=r_b, a_max=a_max, geometry='1d', dims=1000, restchannels=1)\n",
    "lgca2.timeevo(timesteps=tmax, record=True)"
   ],
   "metadata": {
    "collapsed": false
   }
  },
  {
   "cell_type": "code",
   "execution_count": null,
   "outputs": [],
   "source": [
    "lgca2.plot_density()"
   ],
   "metadata": {
    "collapsed": false
   }
  },
  {
   "cell_type": "code",
   "execution_count": null,
   "outputs": [],
   "source": [
    "lgca2.nodes_t.shape"
   ],
   "metadata": {
    "collapsed": false
   }
  },
  {
   "cell_type": "code",
   "execution_count": null,
   "outputs": [],
   "source": [
    "for t in np.linspace(0, len(ts), 5, dtype=int, endpoint=False):\n",
    "    pl = plt.plot(alpha, rhoalpha[:, t], label='t = {:n}'.format(ts[t]))\n",
    "    bins = round(np.ceil(np.log2(lgca2.dens_t[t].sum()))+1)\n",
    "# plt.hist(np.array(lgca.props['r_b'])[lgca.nodes[lgca.nodes > 0]], bins=bins, density=True, label='LGCA')\n",
    "    # plt.hist(lgca2.get_prop(nodes=lgca2.nodes_t[t][lgca2.nodes_t[t] > 0]), bins=bins, density=True, color=pl[0].get_color())\n",
    "    plt.hist(lgca2.get_prop(nodes=lgca2.nodes_t[t]), bins=bins, density=True, color=pl[0].get_color())\n",
    "\n",
    "#     plt.plot(alpha, sol2.y[:, t], '--', c=pl[0].get_color())\n",
    "#     plt.plot(alpha, sol3.y[:, t], '-.', c=pl[0].get_color())\n",
    "\n",
    "#plt.plot(alpha, sol[-1], label='t = {:n}'.format(ts[-1]))\n",
    "plt.xlabel('$\\\\alpha$')\n",
    "plt.ylabel('$\\\\rho(\\\\alpha)$')\n",
    "plt.ylim(0)\n",
    "plt.xlim(0)\n",
    "plt.legend()"
   ],
   "metadata": {
    "collapsed": false
   }
  },
  {
   "cell_type": "code",
   "execution_count": null,
   "outputs": [],
   "source": [
    "meanalphalgca = np.empty_like(meanalphatot)\n",
    "for t in range(tmax+1):\n",
    "    nodes = lgca2.nodes_t[t]\n",
    "    # meanalphalgca[t] = np.mean(lgca2.get_prop(nodes[nodes>0]))\n",
    "    meanalphalgca[t] = np.mean(lgca2.get_prop(nodes))"
   ],
   "metadata": {
    "collapsed": false
   }
  },
  {
   "cell_type": "code",
   "execution_count": null,
   "outputs": [],
   "source": [
    "lgca2.dens_t.shape"
   ],
   "metadata": {
    "collapsed": false
   }
  },
  {
   "cell_type": "code",
   "execution_count": null,
   "outputs": [],
   "source": [
    "meanalphalgca# = meanalphalgca[..., 0]"
   ],
   "metadata": {
    "collapsed": false
   }
  },
  {
   "cell_type": "code",
   "execution_count": null,
   "outputs": [],
   "source": [
    "plt.plot(ts, meanalphatot, label='PDE tot')\n",
    "plt.plot(ts, rb_ana, label='analytical')\n",
    "plt.plot(meanalphalgca, label='LGCA')\n",
    "plt.plot(ts, meanalphafront, label='wave front PDE')\n",
    "# lgca2.plot_prop_timecourse(label='LGCA')\n",
    "plt.ylabel('$\\\\langle\\\\alpha\\\\rangle$')\n",
    "plt.xlabel('$t$')\n",
    "plt.legend()"
   ],
   "metadata": {
    "collapsed": false
   }
  },
  {
   "cell_type": "code",
   "execution_count": null,
   "outputs": [],
   "source": [
    "lgca2.dens_t.shape"
   ],
   "metadata": {
    "collapsed": false
   }
  },
  {
   "cell_type": "code",
   "execution_count": null,
   "outputs": [],
   "source": [
    "ts"
   ],
   "metadata": {
    "collapsed": false
   }
  },
  {
   "cell_type": "code",
   "execution_count": null,
   "outputs": [],
   "source": [
    "for t in np.linspace(0, len(ts), 5, dtype=int, endpoint=False):\n",
    "    p = plt.plot(x, rhotot[..., t], label='$t = {:n}$'.format(ts[t]))\n",
    "    # plt.plot([wavefront[t], wavefront[t]], [0, 1], '-.', color=p[0].get_color())\n",
    "    plt.plot(range(xmax), lgca2.dens_t[t]/lgca2.K, '-.', color=p[0].get_color())\n",
    "\n",
    "plt.legend()\n",
    "plt.xlabel('$x$')\n",
    "plt.ylabel('$\\Psi (x)$')\n",
    "plt.xlim(0, 300)"
   ],
   "metadata": {
    "collapsed": false
   }
  },
  {
   "cell_type": "code",
   "execution_count": null,
   "outputs": [],
   "source": [
    "for t in np.linspace(0, len(ts), 5, dtype=int, endpoint=False):\n",
    "    plt.plot(x, meanalpha[..., t], label='$t = {:n}$'.format(ts[t]))\n",
    "\n",
    "plt.legend()\n",
    "plt.xlabel('$x$')\n",
    "plt.ylabel('$\\\\langle\\\\alpha\\\\rangle (x)$')"
   ],
   "metadata": {
    "collapsed": false
   }
  }
 ],
 "metadata": {
  "kernelspec": {
   "display_name": "Python 3",
   "language": "python",
   "name": "python3"
  },
  "language_info": {
   "codemirror_mode": {
    "name": "ipython",
    "version": 2
   },
   "file_extension": ".py",
   "mimetype": "text/x-python",
   "name": "python",
   "nbconvert_exporter": "python",
   "pygments_lexer": "ipython2",
   "version": "2.7.6"
  }
 },
 "nbformat": 4,
 "nbformat_minor": 0
}
