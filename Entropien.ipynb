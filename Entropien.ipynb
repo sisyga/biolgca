{
 "cells": [
  {
   "cell_type": "code",
   "execution_count": 56,
   "metadata": {},
   "outputs": [
    {
     "ename": "AttributeError",
     "evalue": "'list' object has no attribute 'sum'",
     "output_type": "error",
     "traceback": [
      "\u001b[1;31m---------------------------------------------------------------------------\u001b[0m",
      "\u001b[1;31mAttributeError\u001b[0m                            Traceback (most recent call last)",
      "\u001b[1;32m<ipython-input-56-ec723e1cdc97>\u001b[0m in \u001b[0;36m<module>\u001b[1;34m\u001b[0m\n\u001b[0;32m     63\u001b[0m \u001b[0mps\u001b[0m \u001b[1;33m=\u001b[0m \u001b[1;33m[\u001b[0m\u001b[1;36m2.0\u001b[0m\u001b[1;33m,\u001b[0m\u001b[1;36m3.0\u001b[0m\u001b[1;33m,\u001b[0m\u001b[1;36m4.0\u001b[0m\u001b[1;33m,\u001b[0m\u001b[1;36m1.0\u001b[0m\u001b[1;33m]\u001b[0m\u001b[1;33m\u001b[0m\u001b[1;33m\u001b[0m\u001b[0m\n\u001b[0;32m     64\u001b[0m \u001b[1;33m\u001b[0m\u001b[0m\n\u001b[1;32m---> 65\u001b[1;33m \u001b[0mges\u001b[0m \u001b[1;33m=\u001b[0m \u001b[0mps\u001b[0m \u001b[1;33m/\u001b[0m \u001b[0mps\u001b[0m\u001b[1;33m.\u001b[0m\u001b[0msum\u001b[0m\u001b[1;33m(\u001b[0m\u001b[1;33m)\u001b[0m\u001b[1;33m\u001b[0m\u001b[1;33m\u001b[0m\u001b[0m\n\u001b[0m",
      "\u001b[1;31mAttributeError\u001b[0m: 'list' object has no attribute 'sum'"
     ]
    }
   ],
   "source": [
    "import math as m\n",
    "import numpy as np\n",
    "\n",
    "def shannon(pop_rel):\n",
    "    shan = 0\n",
    "    for i in range(len(pop_rel)):\n",
    "        shan = shan - pop_rel[i]*m.log(pop_rel[i])\n",
    "    return shan\n",
    "\n",
    "def simpson_abs(pop_abs):\n",
    "    sim = 1.0\n",
    "    ges = sum(pop_abs[:])\n",
    "    \n",
    "    for i in range(len(pop_abs)):\n",
    "        sim = sim - (pop_abs[i]*(pop_abs[i] - 1))/(ges*(ges - 1))\n",
    "        \n",
    "    return sim\n",
    "\n",
    "def simpson_rel(pop_rel):\n",
    "    sim = 1\n",
    "    \n",
    "    for i in range(len(pop_rel)):\n",
    "        sim = sim - pop_rel[i] * pop_rel[i]\n",
    "\n",
    "    return sim\n",
    "\n",
    "def sish(pop, q):\n",
    "    if q > 2 or q < 0:\n",
    "        print(\"q falsch gewählt!\")\n",
    "    elif q == 1:\n",
    "        print('Shannon')\n",
    "        return shannon(pop)\n",
    "    elif q == 2:\n",
    "        print('GiniSimpson')\n",
    "        v = 1\n",
    "        for i in range(len(pop)):\n",
    "            v = v - (pop[i]**q)/(q - 1)\n",
    "        return v\n",
    "    elif q == 0:\n",
    "        print('ges-1')\n",
    "        return (len(pop)-1)\n",
    "        \n",
    "def hill(pop,q):\n",
    "    if q > 2 or q < 0:\n",
    "        print(\"q falsch gewählt!\")\n",
    "    elif q == 1:\n",
    "        print('Hill Ord1')\n",
    "        return np.exp(shannon(pop))\n",
    "    elif q == 2:\n",
    "        print('Hill Ord2')\n",
    "        v = 0\n",
    "        for i in range(len(pop)):\n",
    "            v = v + pop[i]**q\n",
    "        v = v**(1/1-q)\n",
    "        return v\n",
    "    elif q == 0:\n",
    "        print('Hill Ord0')\n",
    "        return (len(pop))\n",
    "    \n",
    "    \n",
    "    \n",
    "p = [0.2,0.3,0.4,0.1]\n",
    "ps = [2.0,3.0,4.0,1.0]\n",
    "\n"
   ]
  },
  {
   "cell_type": "code",
   "execution_count": 54,
   "metadata": {},
   "outputs": [
    {
     "name": "stdout",
     "output_type": "stream",
     "text": [
      "0.7\n",
      "1.2798542258336676\n",
      "GiniSimpson\n",
      "0.7\n",
      "Shannon\n",
      "1.2798542258336676\n",
      "ges-1\n",
      "3\n",
      "Hill Ord2\n",
      "3.333333333333333\n",
      "Hill Ord1\n",
      "3.5961154666243225\n",
      "Hill Ord0\n",
      "4\n"
     ]
    }
   ],
   "source": [
    "print(simpson_rel(p))\n",
    "print(shannon(p))\n",
    "\n",
    "print(sish(p,2))\n",
    "print(sish(p, 1))\n",
    "print(sish(p, 0))\n",
    "\n",
    "print(hill(p,2))\n",
    "print(hill(p, 1))\n",
    "print(hill(p, 0))"
   ]
  },
  {
   "cell_type": "code",
   "execution_count": null,
   "metadata": {},
   "outputs": [],
   "source": []
  }
 ],
 "metadata": {
  "kernelspec": {
   "display_name": "Python 3",
   "language": "python",
   "name": "python3"
  },
  "language_info": {
   "codemirror_mode": {
    "name": "ipython",
    "version": 3
   },
   "file_extension": ".py",
   "mimetype": "text/x-python",
   "name": "python",
   "nbconvert_exporter": "python",
   "pygments_lexer": "ipython3",
   "version": "3.7.1"
  }
 },
 "nbformat": 4,
 "nbformat_minor": 2
}
