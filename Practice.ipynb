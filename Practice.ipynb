{
 "cells": [
  {
   "cell_type": "markdown",
   "metadata": {
    "toc": true
   },
   "source": [
    "<h1>Table of Contents<span class=\"tocSkip\"></span></h1>\n",
    "<div class=\"toc\"><ul class=\"toc-item\"><li><span><a href=\"#base\" data-toc-modified-id=\"base-1\"><span class=\"toc-item-num\">1&nbsp;&nbsp;</span>base</a></span><ul class=\"toc-item\"><li><ul class=\"toc-item\"><li><span><a href=\"#init\" data-toc-modified-id=\"init-1.0.1\"><span class=\"toc-item-num\">1.0.1&nbsp;&nbsp;</span>init</a></span></li><li><span><a href=\"#set-r_int(r)\" data-toc-modified-id=\"set-r_int(r)-1.0.2\"><span class=\"toc-item-num\">1.0.2&nbsp;&nbsp;</span>set r_int(r)</a></span></li><li><span><a href=\"#set-interaction\" data-toc-modified-id=\"set-interaction-1.0.3\"><span class=\"toc-item-num\">1.0.3&nbsp;&nbsp;</span>set interaction</a></span></li><li><span><a href=\"#set-bc\" data-toc-modified-id=\"set-bc-1.0.4\"><span class=\"toc-item-num\">1.0.4&nbsp;&nbsp;</span>set bc</a></span></li><li><span><a href=\"#calc-flux\" data-toc-modified-id=\"calc-flux-1.0.5\"><span class=\"toc-item-num\">1.0.5&nbsp;&nbsp;</span>calc flux</a></span></li><li><span><a href=\"#random-reset\" data-toc-modified-id=\"random-reset-1.0.6\"><span class=\"toc-item-num\">1.0.6&nbsp;&nbsp;</span>random reset</a></span></li><li><span><a href=\"#time-step\" data-toc-modified-id=\"time-step-1.0.7\"><span class=\"toc-item-num\">1.0.7&nbsp;&nbsp;</span>time step</a></span></li><li><span><a href=\"#time-evo\" data-toc-modified-id=\"time-evo-1.0.8\"><span class=\"toc-item-num\">1.0.8&nbsp;&nbsp;</span>time evo</a></span></li></ul></li></ul></li><li><span><a href=\"#ibbase\" data-toc-modified-id=\"ibbase-2\"><span class=\"toc-item-num\">2&nbsp;&nbsp;</span>ibbase</a></span><ul class=\"toc-item\"><li><ul class=\"toc-item\"><li><span><a href=\"#init\" data-toc-modified-id=\"init-2.0.1\"><span class=\"toc-item-num\">2.0.1&nbsp;&nbsp;</span>init</a></span></li><li><span><a href=\"#set-interaction\" data-toc-modified-id=\"set-interaction-2.0.2\"><span class=\"toc-item-num\">2.0.2&nbsp;&nbsp;</span>set interaction</a></span></li><li><span><a href=\"#update-dynamic-fields\" data-toc-modified-id=\"update-dynamic-fields-2.0.3\"><span class=\"toc-item-num\">2.0.3&nbsp;&nbsp;</span>update dynamic fields</a></span></li><li><span><a href=\"#convert-bool-to-ib.\" data-toc-modified-id=\"convert-bool-to-ib.-2.0.4\"><span class=\"toc-item-num\">2.0.4&nbsp;&nbsp;</span>convert bool to ib.</a></span></li><li><span><a href=\"#random-reset\" data-toc-modified-id=\"random-reset-2.0.5\"><span class=\"toc-item-num\">2.0.5&nbsp;&nbsp;</span>random reset</a></span></li><li><span><a href=\"#time-evo\" data-toc-modified-id=\"time-evo-2.0.6\"><span class=\"toc-item-num\">2.0.6&nbsp;&nbsp;</span>time evo</a></span></li><li><span><a href=\"#calc-flux\" data-toc-modified-id=\"calc-flux-2.0.7\"><span class=\"toc-item-num\">2.0.7&nbsp;&nbsp;</span>calc flux</a></span></li><li><span><a href=\"#get-prop\" data-toc-modified-id=\"get-prop-2.0.8\"><span class=\"toc-item-num\">2.0.8&nbsp;&nbsp;</span>get prop</a></span></li><li><span><a href=\"#calc-prop-mean\" data-toc-modified-id=\"calc-prop-mean-2.0.9\"><span class=\"toc-item-num\">2.0.9&nbsp;&nbsp;</span>calc prop mean</a></span></li></ul></li></ul></li><li><span><a href=\"#LGCA-1D\" data-toc-modified-id=\"LGCA-1D-3\"><span class=\"toc-item-num\">3&nbsp;&nbsp;</span>LGCA 1D</a></span><ul class=\"toc-item\"><li><ul class=\"toc-item\"><li><span><a href=\"#set-dims\" data-toc-modified-id=\"set-dims-3.0.1\"><span class=\"toc-item-num\">3.0.1&nbsp;&nbsp;</span>set dims</a></span></li><li><span><a href=\"#init-coords\" data-toc-modified-id=\"init-coords-3.0.2\"><span class=\"toc-item-num\">3.0.2&nbsp;&nbsp;</span>init coords</a></span></li><li><span><a href=\"#proapagation\" data-toc-modified-id=\"proapagation-3.0.3\"><span class=\"toc-item-num\">3.0.3&nbsp;&nbsp;</span>proapagation</a></span></li></ul></li></ul></li><li><span><a href=\"#IBLGCA-1D\" data-toc-modified-id=\"IBLGCA-1D-4\"><span class=\"toc-item-num\">4&nbsp;&nbsp;</span>IBLGCA 1D</a></span><ul class=\"toc-item\"><li><ul class=\"toc-item\"><li><span><a href=\"#init-nodes\" data-toc-modified-id=\"init-nodes-4.0.1\"><span class=\"toc-item-num\">4.0.1&nbsp;&nbsp;</span>init nodes</a></span></li></ul></li></ul></li></ul></div>"
   ]
  },
  {
   "cell_type": "code",
   "execution_count": null,
   "metadata": {},
   "outputs": [],
   "source": [
    "import numpy as np\n"
   ]
  },
  {
   "cell_type": "markdown",
   "metadata": {},
   "source": [
    "# base\n",
    "### init\n",
    "set bc\n",
    "set dims\n",
    "init coords\n",
    "init nodes\n",
    "set interaction\n",
    "cell density\n",
    "apply boundaries\n",
    "### set r_int(r)\n",
    "set interaction radius to r\n",
    "initialise non border nodes\n",
    "initialise coords\n",
    "update dynamic fields\n",
    "### set interaction\n",
    "### set bc\n",
    "### calc flux\n",
    "### random reset\n",
    "set nodes\n",
    "apply boundaries \n",
    "updates dynamic fields\n",
    "### time step\n",
    "intreraction\n",
    "apply boundaries\n",
    "propagation\n",
    "apply boundaries\n",
    "update dynamic fields\n",
    "### time evo\n",
    "# ibbase\n",
    "### init\n",
    "rint = 1\n",
    "props = {}\n",
    "set bc\n",
    "set dims\n",
    "init coords\n",
    "init nodes\n",
    "set interaction\n",
    "cell density\n",
    "apply boundaries\n",
    "### set interaction \n",
    "set interactions. If kappa is a single value then all are that value else set entire array\n",
    "### update dynamic fields\n",
    "occupied\n",
    "density\n",
    "### convert bool to ib. \n",
    "This might be helpful to convert alive cells to ib cells\n",
    "### random reset\n",
    "### time evo\n",
    "### calc flux\n",
    "einstein summation over velocity cells\n",
    "### get prop\n",
    "### calc prop mean\n",
    "# LGCA 1D\n",
    "### set dims\n",
    "sets l, k, restchannelNo, \n",
    "### init coords\n",
    "### proapagation\n",
    "# IBLGCA 1D\n",
    "### init nodes\n",
    "if nodes in input set non zero nodes to input nodes\n",
    "else random reset based on density\n",
    "\n"
   ]
  },
  {
   "cell_type": "code",
   "execution_count": null,
   "metadata": {},
   "outputs": [],
   "source": []
  },
  {
   "cell_type": "code",
   "execution_count": null,
   "metadata": {},
   "outputs": [],
   "source": [
    "random."
   ]
  },
  {
   "cell_type": "code",
   "execution_count": null,
   "metadata": {},
   "outputs": [],
   "source": [
    "L = 5\n",
    "N_channels = 3\n",
    "initial_channel_population = 2\n",
    "total_cells = initial_channel_population*N_channels*L\n",
    "single_ch = [1]*initial_channel_population\n",
    "occupied = np.array([[single_ch]*N_channels]*L, dtype = object)"
   ]
  },
  {
   "cell_type": "code",
   "execution_count": null,
   "metadata": {},
   "outputs": [],
   "source": [
    "print(occupied)\n",
    "occupied.shape"
   ]
  },
  {
   "cell_type": "code",
   "execution_count": null,
   "metadata": {},
   "outputs": [],
   "source": [
    "occupied = occupied.astype(np.uint)\n",
    "occupied[occupied > 0] = np.arange(1, 1+occupied.sum(), dtype=np.uint) "
   ]
  },
  {
   "cell_type": "code",
   "execution_count": null,
   "metadata": {},
   "outputs": [],
   "source": [
    "occupied"
   ]
  },
  {
   "cell_type": "code",
   "execution_count": null,
   "metadata": {},
   "outputs": [],
   "source": [
    "def create_nodes(L, n_channels, channel_population):\n",
    "    # returns an array of shape (L, n_channels, channel_population)\n",
    "    occupied = np.array([[list([1]*channel_population)]*N_channels]*L, dtype = object)\n",
    "    #occupied = occupied.astype(np.uint)\n",
    "    occupied[occupied > 0] = np.arange(1, 1+occupied.sum(), dtype=object) \n",
    "    return occupied\n",
    "nodes = create_nodes(4,3,5)"
   ]
  },
  {
   "cell_type": "code",
   "execution_count": null,
   "metadata": {},
   "outputs": [],
   "source": [
    "nodesList = list([[[1]*initial_channel_population]*N_channels]*L)"
   ]
  },
  {
   "cell_type": "code",
   "execution_count": null,
   "metadata": {},
   "outputs": [],
   "source": [
    "nodesList[1][1] = nodesList[1][1]+[2]"
   ]
  },
  {
   "cell_type": "code",
   "execution_count": null,
   "metadata": {},
   "outputs": [],
   "source": [
    "(nodesList[0])[0].extend([3])\n",
    "(nodesList[0])[0].extend([4])"
   ]
  },
  {
   "cell_type": "code",
   "execution_count": null,
   "metadata": {},
   "outputs": [],
   "source": [
    "nodesList"
   ]
  },
  {
   "cell_type": "code",
   "execution_count": null,
   "metadata": {},
   "outputs": [],
   "source": [
    "nodesList2 = [[[ 1 for _ in range(initial_channel_population)] for _ in range(N_channels)] for _ in range(L)] "
   ]
  },
  {
   "cell_type": "code",
   "execution_count": null,
   "metadata": {},
   "outputs": [],
   "source": [
    "nodesList2[1][1]+[2]"
   ]
  },
  {
   "cell_type": "code",
   "execution_count": null,
   "metadata": {},
   "outputs": [],
   "source": [
    "nodesList2"
   ]
  },
  {
   "cell_type": "code",
   "execution_count": null,
   "metadata": {},
   "outputs": [],
   "source": [
    "def create_nodes_list(L, n_channels, channel_population):\n",
    "    return [[[ 1+i*(channel_population-1)+j*(N_channels-1)+k*(N_channels*channel_population) for i in range(channel_population)] for j in range(N_channels)] for k in range(L)] "
   ]
  },
  {
   "cell_type": "code",
   "execution_count": null,
   "metadata": {},
   "outputs": [],
   "source": [
    "nodesList3 = create_nodes_list(4,3,3)\n",
    "nodesList3\n"
   ]
  },
  {
   "cell_type": "code",
   "execution_count": null,
   "metadata": {},
   "outputs": [],
   "source": [
    "\n",
    "K = 3\n",
    "L = 5\n",
    "N = K * L\n",
    "a = np.empty(N, dtype=object)\n",
    "for k in range(N):\n",
    "    a[k] = []\n",
    " \n",
    "a = a.reshape((L, K))\n",
    "a[0, 0].append(1)"
   ]
  },
  {
   "cell_type": "code",
   "execution_count": null,
   "metadata": {},
   "outputs": [],
   "source": [
    "a"
   ]
  },
  {
   "cell_type": "code",
   "execution_count": null,
   "metadata": {},
   "outputs": [],
   "source": []
  },
  {
   "cell_type": "code",
   "execution_count": null,
   "metadata": {},
   "outputs": [],
   "source": [
    "def create_nodes2(L, n_channels, channel_population):\n",
    "    a = np.empty(L*n_channels, dtype=object)\n",
    "    for k in range(L*n_channels):\n",
    "        a[k] = [3*k+1,3*k+2,3*k+3]\n",
    "    return a.reshape((L, n_channels))"
   ]
  },
  {
   "cell_type": "code",
   "execution_count": null,
   "metadata": {},
   "outputs": [],
   "source": [
    "a = []\n",
    "a = a + []\n",
    "a"
   ]
  },
  {
   "cell_type": "code",
   "execution_count": null,
   "metadata": {},
   "outputs": [],
   "source": [
    "\n",
    "%timeit j = create_nodes(1000,3,5)\n"
   ]
  },
  {
   "cell_type": "code",
   "execution_count": null,
   "metadata": {},
   "outputs": [],
   "source": [
    "\n",
    "%timeit j2 = create_nodes_list(1000,3,5)\n"
   ]
  },
  {
   "cell_type": "code",
   "execution_count": null,
   "metadata": {},
   "outputs": [],
   "source": [
    "%timeit j3 = create_nodes2(1000,3,5)"
   ]
  },
  {
   "cell_type": "code",
   "execution_count": null,
   "metadata": {},
   "outputs": [],
   "source": [
    "j2 = create_nodes_list(1000,3,5)\n",
    "%timeit j2[1][2]+[2]"
   ]
  },
  {
   "cell_type": "code",
   "execution_count": null,
   "metadata": {},
   "outputs": [],
   "source": [
    "j3 = create_nodes2(1000,3,5)\n",
    "%timeit j3[1][2]+[2]"
   ]
  },
  {
   "cell_type": "code",
   "execution_count": null,
   "metadata": {},
   "outputs": [],
   "source": []
  },
  {
   "cell_type": "code",
   "execution_count": null,
   "metadata": {},
   "outputs": [],
   "source": []
  }
 ],
 "metadata": {
  "kernelspec": {
   "display_name": "Python 3",
   "language": "python",
   "name": "python3"
  },
  "language_info": {
   "codemirror_mode": {
    "name": "ipython",
    "version": 3
   },
   "file_extension": ".py",
   "mimetype": "text/x-python",
   "name": "python",
   "nbconvert_exporter": "python",
   "pygments_lexer": "ipython3",
   "version": "3.7.5"
  },
  "toc": {
   "base_numbering": 1,
   "nav_menu": {},
   "number_sections": true,
   "sideBar": true,
   "skip_h1_title": false,
   "title_cell": "Table of Contents",
   "title_sidebar": "Contents",
   "toc_cell": true,
   "toc_position": {},
   "toc_section_display": true,
   "toc_window_display": false
  },
  "varInspector": {
   "cols": {
    "lenName": 16,
    "lenType": 16,
    "lenVar": 40
   },
   "kernels_config": {
    "python": {
     "delete_cmd_postfix": "",
     "delete_cmd_prefix": "del ",
     "library": "var_list.py",
     "varRefreshCmd": "print(var_dic_list())"
    },
    "r": {
     "delete_cmd_postfix": ") ",
     "delete_cmd_prefix": "rm(",
     "library": "var_list.r",
     "varRefreshCmd": "cat(var_dic_list()) "
    }
   },
   "types_to_exclude": [
    "module",
    "function",
    "builtin_function_or_method",
    "instance",
    "_Feature"
   ],
   "window_display": false
  }
 },
 "nbformat": 4,
 "nbformat_minor": 2
}
