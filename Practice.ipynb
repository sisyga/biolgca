{
 "cells": [
  {
   "cell_type": "code",
   "execution_count": 3,
   "metadata": {},
   "outputs": [],
   "source": [
    "import numpy as np"
   ]
  },
  {
   "cell_type": "markdown",
   "metadata": {},
   "source": [
    "# base\n",
    "### init\n",
    "set bc\n",
    "set dims\n",
    "init coords\n",
    "init nodes\n",
    "set interaction\n",
    "cell density\n",
    "apply boundaries\n",
    "### set r_int(r)\n",
    "set interaction radius to r\n",
    "initialise non border nodes\n",
    "initialise coords\n",
    "update dynamic fields\n",
    "### set interaction\n",
    "### set bc\n",
    "### calc flux\n",
    "### random reset\n",
    "set nodes\n",
    "apply boundaries \n",
    "updates dynamic fields\n",
    "### time step\n",
    "intreraction\n",
    "apply boundaries\n",
    "propagation\n",
    "apply boundaries\n",
    "update dynamic fields\n",
    "### time evo\n",
    "# ibbase\n",
    "### init\n",
    "rint = 1\n",
    "props = {}\n",
    "set bc\n",
    "set dims\n",
    "init coords\n",
    "init nodes\n",
    "set interaction\n",
    "cell density\n",
    "apply boundaries\n",
    "### set interaction \n",
    "set interactions. If kappa is a single value then all are that value else set entire array\n",
    "### update dynamic fields\n",
    "occupied\n",
    "density\n",
    "### convert bool to ib. \n",
    "This might be helpful to convert alive cells to ib cells\n",
    "### random reset\n",
    "### time evo\n",
    "### calc flux\n",
    "einstein summation over velocity cells\n",
    "### get prop\n",
    "### calc prop mean\n",
    "# LGCA 1D\n",
    "### set dims\n",
    "sets l, k, restchannelNo, \n",
    "### init coords\n",
    "### proapagation\n",
    "# IBLGCA 1D\n",
    "### init nodes\n",
    "if nodes in input set non zero nodes to input nodes\n",
    "else random reset based on density\n",
    "\n"
   ]
  },
  {
   "cell_type": "code",
   "execution_count": null,
   "metadata": {},
   "outputs": [],
   "source": []
  },
  {
   "cell_type": "code",
   "execution_count": null,
   "metadata": {},
   "outputs": [],
   "source": []
  },
  {
   "cell_type": "code",
   "execution_count": 11,
   "metadata": {},
   "outputs": [],
   "source": [
    "L = 5\n",
    "N_channels = 3\n",
    "initial_channel_population = 2\n",
    "total_cells = initial_channel_population*N_channels*L\n",
    "single_ch = [1]*initial_channel_population\n",
    "occupied = np.array([[single_ch]*N_channels]*L, dtype = object)"
   ]
  },
  {
   "cell_type": "code",
   "execution_count": 12,
   "metadata": {},
   "outputs": [
    {
     "name": "stdout",
     "output_type": "stream",
     "text": [
      "[[[1 1]\n",
      "  [1 1]\n",
      "  [1 1]]\n",
      "\n",
      " [[1 1]\n",
      "  [1 1]\n",
      "  [1 1]]\n",
      "\n",
      " [[1 1]\n",
      "  [1 1]\n",
      "  [1 1]]\n",
      "\n",
      " [[1 1]\n",
      "  [1 1]\n",
      "  [1 1]]\n",
      "\n",
      " [[1 1]\n",
      "  [1 1]\n",
      "  [1 1]]]\n"
     ]
    },
    {
     "data": {
      "text/plain": [
       "(5, 3, 2)"
      ]
     },
     "execution_count": 12,
     "metadata": {},
     "output_type": "execute_result"
    }
   ],
   "source": [
    "print(occupied)\n",
    "occupied.shape"
   ]
  },
  {
   "cell_type": "code",
   "execution_count": 13,
   "metadata": {},
   "outputs": [],
   "source": [
    "occupied = occupied.astype(np.uint)\n",
    "occupied[occupied > 0] = np.arange(1, 1+occupied.sum(), dtype=np.uint) "
   ]
  },
  {
   "cell_type": "code",
   "execution_count": 14,
   "metadata": {},
   "outputs": [
    {
     "data": {
      "text/plain": [
       "array([[[ 1,  2],\n",
       "        [ 3,  4],\n",
       "        [ 5,  6]],\n",
       "\n",
       "       [[ 7,  8],\n",
       "        [ 9, 10],\n",
       "        [11, 12]],\n",
       "\n",
       "       [[13, 14],\n",
       "        [15, 16],\n",
       "        [17, 18]],\n",
       "\n",
       "       [[19, 20],\n",
       "        [21, 22],\n",
       "        [23, 24]],\n",
       "\n",
       "       [[25, 26],\n",
       "        [27, 28],\n",
       "        [29, 30]]], dtype=uint64)"
      ]
     },
     "execution_count": 14,
     "metadata": {},
     "output_type": "execute_result"
    }
   ],
   "source": [
    "occupied"
   ]
  },
  {
   "cell_type": "code",
   "execution_count": 31,
   "metadata": {},
   "outputs": [],
   "source": [
    "def create_nodes(L, n_channels, channel_population):\n",
    "    # returns an array of shape (L, n_channels, channel_population)\n",
    "    occupied = np.array([[list([1]*channel_population)]*N_channels]*L, dtype = object)\n",
    "    #occupied = occupied.astype(np.uint)\n",
    "    occupied[occupied > 0] = np.arange(1, 1+occupied.sum(), dtype=object) \n",
    "    return occupied\n"
   ]
  },
  {
   "cell_type": "code",
   "execution_count": 32,
   "metadata": {},
   "outputs": [
    {
     "data": {
      "text/plain": [
       "array([[[1, 2, 3, 4, 5],\n",
       "        [6, 7, 8, 9, 10],\n",
       "        [11, 12, 13, 14, 15]],\n",
       "\n",
       "       [[16, 17, 18, 19, 20],\n",
       "        [21, 22, 23, 24, 25],\n",
       "        [26, 27, 28, 29, 30]],\n",
       "\n",
       "       [[31, 32, 33, 34, 35],\n",
       "        [36, 37, 38, 39, 40],\n",
       "        [41, 42, 43, 44, 45]],\n",
       "\n",
       "       [[46, 47, 48, 49, 50],\n",
       "        [51, 52, 53, 54, 55],\n",
       "        [56, 57, 58, 59, 60]]], dtype=object)"
      ]
     },
     "execution_count": 32,
     "metadata": {},
     "output_type": "execute_result"
    }
   ],
   "source": [
    "nodes = create_nodes(4,3,5)\n",
    "nodes"
   ]
  },
  {
   "cell_type": "code",
   "execution_count": 33,
   "metadata": {},
   "outputs": [
    {
     "data": {
      "text/plain": [
       "(4, 3, 5)"
      ]
     },
     "execution_count": 33,
     "metadata": {},
     "output_type": "execute_result"
    }
   ],
   "source": [
    "nodes.shape"
   ]
  },
  {
   "cell_type": "code",
   "execution_count": 38,
   "metadata": {},
   "outputs": [
    {
     "ename": "AttributeError",
     "evalue": "'numpy.ndarray' object has no attribute 'insert'",
     "output_type": "error",
     "traceback": [
      "\u001b[0;31m---------------------------------------------------------------------------\u001b[0m",
      "\u001b[0;31mAttributeError\u001b[0m                            Traceback (most recent call last)",
      "\u001b[0;32m<ipython-input-38-60e7b86c415d>\u001b[0m in \u001b[0;36m<module>\u001b[0;34m\u001b[0m\n\u001b[0;32m----> 1\u001b[0;31m \u001b[0mnodes\u001b[0m\u001b[0;34m[\u001b[0m\u001b[0;36m2\u001b[0m\u001b[0;34m]\u001b[0m\u001b[0;34m[\u001b[0m\u001b[0;36m2\u001b[0m\u001b[0;34m]\u001b[0m\u001b[0;34m.\u001b[0m\u001b[0minsert\u001b[0m\u001b[0;34m(\u001b[0m\u001b[0;36m4\u001b[0m\u001b[0;34m)\u001b[0m\u001b[0;34m\u001b[0m\u001b[0;34m\u001b[0m\u001b[0m\n\u001b[0m",
      "\u001b[0;31mAttributeError\u001b[0m: 'numpy.ndarray' object has no attribute 'insert'"
     ]
    }
   ],
   "source": [
    "nodes[2][2].insert(4)"
   ]
  },
  {
   "cell_type": "code",
   "execution_count": null,
   "metadata": {},
   "outputs": [],
   "source": []
  }
 ],
 "metadata": {
  "kernelspec": {
   "display_name": "Python 3",
   "language": "python",
   "name": "python3"
  },
  "language_info": {
   "codemirror_mode": {
    "name": "ipython",
    "version": 3
   },
   "file_extension": ".py",
   "mimetype": "text/x-python",
   "name": "python",
   "nbconvert_exporter": "python",
   "pygments_lexer": "ipython3",
   "version": "3.7.3"
  }
 },
 "nbformat": 4,
 "nbformat_minor": 2
}
