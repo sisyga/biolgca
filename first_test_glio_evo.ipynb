{
 "cells": [
  {
   "metadata": {},
   "cell_type": "markdown",
   "source": [
    "In this project, we aim to investigate the sources of spatial heterogeneity in glioblastoma multiforme using mathematical modeling.\n",
    "We include the following sources of heterogeneity:\n",
    "- genetic heterogeneity\n",
    "- phenotypic heterogeneity (go-or-grow)\n",
    "\n",
    "To this end, we adapt a CA model of glioblastoma multiforme from [1] that includes the go-or-grow hypothesis.\n",
    "We then investigate the effects of genetic heterogeneity on the growth dynamics of the tumor."
   ],
   "id": "bb1901abd2b36ab8"
  },
  {
   "metadata": {},
   "cell_type": "markdown",
   "source": [
    "### Plan\n",
    "Things to consider:\n",
    "- Should we include oxygen? If so, include a hypoxic region in the center of the tumor?\n",
    "- Should we include directed motion, e.g., based on an oxygen gradient?\n",
    "Let's start with this:\n",
    "1. Change go-or-grow model to include a realistic mutation probability\n",
    "2. A mutation might change: Proliferation rate, or phenotypic switch parameter\n",
    " "
   ],
   "id": "16c8660d01897c80"
  },
  {
   "metadata": {
    "ExecuteTime": {
     "end_time": "2024-08-23T15:53:36.100198Z",
     "start_time": "2024-08-23T15:53:34.726445Z"
    }
   },
   "cell_type": "code",
   "source": [
    "from lgca import get_lgca\n",
    "from lgca.nove_ib_interactions import go_or_grow_glioblastoma"
   ],
   "id": "655423fcaab5b9a0",
   "outputs": [],
   "execution_count": 1
  },
  {
   "metadata": {
    "ExecuteTime": {
     "end_time": "2024-08-23T16:23:09.397414Z",
     "start_time": "2024-08-23T16:23:06.164729Z"
    }
   },
   "cell_type": "code",
   "source": "lgca = get_lgca(geometry='hex', dims=(50, 50), interaction='go_or_grow_kappa')",
   "id": "f8f23495a42b8b37",
   "outputs": [
    {
     "name": "stdout",
     "output_type": "stream",
     "text": [
      "interaction go_or_grow_kappa is not defined! Random walk used instead.\n",
      "Implemented interactions: ['go_and_grow', 'go_or_grow', 'alignment', 'aggregation', 'random_walk', 'excitable_medium', 'nematic', 'persistant_motion', 'chemotaxis', 'contact_guidance', 'only_propagation']\n"
     ]
    }
   ],
   "execution_count": 2
  },
  {
   "metadata": {},
   "cell_type": "code",
   "outputs": [],
   "execution_count": null,
   "source": "",
   "id": "33cc34d1f35f0839"
  }
 ],
 "metadata": {
  "kernelspec": {
   "display_name": "Python 3",
   "language": "python",
   "name": "python3"
  },
  "language_info": {
   "codemirror_mode": {
    "name": "ipython",
    "version": 2
   },
   "file_extension": ".py",
   "mimetype": "text/x-python",
   "name": "python",
   "nbconvert_exporter": "python",
   "pygments_lexer": "ipython2",
   "version": "2.7.6"
  }
 },
 "nbformat": 4,
 "nbformat_minor": 5
}
