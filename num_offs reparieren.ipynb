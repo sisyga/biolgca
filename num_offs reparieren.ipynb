{
 "cells": [
  {
   "cell_type": "code",
   "execution_count": 1,
   "metadata": {},
   "outputs": [],
   "source": [
    "from lgca import get_lgca\n",
    "from lgca.helpers import *\n",
    "from lgca.analysis import *\n",
    "import numpy as np\n",
    "import matplotlib.pyplot as plt\n",
    "\n",
    "# rc = 0\n",
    "# dim = 90\n",
    "# rep = 500\n",
    "# path = 'pummelzeugs_90/'\n",
    "# file = 'e0797e9'\n",
    "# names = []\n",
    "\n",
    "# for i in range(rep):\n",
    "#     names.append('180' + str(dim) + '_' + str(i) + '_' + file)\n",
    "# # print(names)\n",
    "\n",
    "# time_correct = False\n",
    "# for i, name in enumerate(names):\n",
    "#     offs_l = len(np.load('saved_data/' + path + name + '_offsprings.npy'))\n",
    "#     nodes_l = len(np.load('saved_data/' + path + name + '_nodest.npy'))\n",
    "\n",
    "#     if offs_l != nodes_l:\n",
    "#         time_correct = True\n",
    "#         print('Korrektur für ', i)\n",
    "#         offs = np.load('saved_data/' + path + name + '_offsprings.npy')\n",
    "#         labs = np.load('saved_data/' + path + name + '_labels.npy')\n",
    "#         initial_offs = np.array([np.zeros((2+rc) * dim + 1), np.zeros((2+rc) * dim + 1)])\n",
    "#         initial_offs[:, 0] = -99\n",
    "#         nodet0, nodet1 = np.load('saved_data/' + path + name + '_nodest.npy')[:2]\n",
    "        \n",
    "#         for d in range(dim):\n",
    "#             for c in range(rc + 2):\n",
    "#                 cellt0 = nodet0[d,c]\n",
    "#                 labelt0 = labs[cellt0]\n",
    "#                 if labelt0 != 0:\n",
    "#                     initial_offs[0, labelt0] += 1\n",
    "                \n",
    "#                 cellt1 = nodet1[d,c]\n",
    "#                 labelt1 = labs[cellt1]\n",
    "#                 if labelt1 != 0:\n",
    "#                     initial_offs[1, labelt1] += 1\n",
    "# #         print(initial_offs)\n",
    "        \n",
    "#         offs = np.concatenate((initial_offs, offs))\n",
    "#         np.save('saved_data/' + path + name + '_offsprings', offs)\n",
    "#         news = np.load('saved_data/' + path + name + '_offsprings.npy')\n",
    "# #         print(len(news))\n",
    "#         if len(news) != nodes_l:\n",
    "#             print('Fehlgeschlagen für ', i)\n",
    "        \n",
    "#     else:\n",
    "#         print('keine Korrektur nötig für ', i)\n",
    "# #         print(offs_l)\n",
    "\n",
    "# if time_correct:\n",
    "#     print('thoms aktualisiert')\n",
    "#     t = create_thom(variation='180'+str(dim), filename=file, path='saved_data/' + path, rep=rep, save=True)\n",
    "# #     print(t[:rep])"
   ]
  },
  {
   "cell_type": "code",
   "execution_count": 2,
   "metadata": {},
   "outputs": [
    {
     "name": "stdout",
     "output_type": "stream",
     "text": [
      "bin bei wdh:  0\n"
     ]
    },
    {
     "name": "stderr",
     "output_type": "stream",
     "text": [
      "C:\\Users\\Franzi\\PycharmProjects\\biolgca\\lgca\\analysis.py:98: RuntimeWarning: invalid value encountered in double_scalars\n",
      "  result_sh[i] = result_sh[i] / counter[i + 1]\n"
     ]
    }
   ],
   "source": [
    "# variation60 = '18060'\n",
    "# path60 = 'saved_data/pummelzeugs_60/'\n",
    "# thom60 = np.load(path60 + variation60 + '_thom.npy')\n",
    "variation90 = '18090'\n",
    "filename90 = 'e0797e9'\n",
    "path90 = 'saved_data/pummelzeugs_90/'\n",
    "rep = 1\n",
    "create_averaged_entropies(filename=filename90, variation=variation90, path=path90, rep=rep, save=True)                "
   ]
  },
  {
   "cell_type": "code",
   "execution_count": 3,
   "metadata": {},
   "outputs": [],
   "source": [
    "data = np.load('saved_data/pummelzeugs_90/' + '18090_0_e0797e9_offsprings.npy')\n",
    "s = calc_shannon(data)"
   ]
  }
 ],
 "metadata": {
  "kernelspec": {
   "display_name": "Python 3",
   "language": "python",
   "name": "python3"
  },
  "language_info": {
   "codemirror_mode": {
    "name": "ipython",
    "version": 3
   },
   "file_extension": ".py",
   "mimetype": "text/x-python",
   "name": "python",
   "nbconvert_exporter": "python",
   "pygments_lexer": "ipython3",
   "version": "3.7.1"
  }
 },
 "nbformat": 4,
 "nbformat_minor": 2
}
