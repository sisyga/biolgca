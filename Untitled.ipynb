{
 "cells": [
  {
   "cell_type": "code",
   "execution_count": 1,
   "metadata": {},
   "outputs": [],
   "source": [
    "import numpy as np\n",
    "import matplotlib.pyplot as plt\n",
    "import numpy.random as npr\n",
    "from lgca import get_lgca\n",
    "from lgca.lgca_1d import *"
   ]
  },
  {
   "cell_type": "code",
   "execution_count": 2,
   "metadata": {
    "scrolled": false
   },
   "outputs": [
    {
     "name": "stdout",
     "output_type": "stream",
     "text": [
      "Progress: [####################] 100% Done...\n"
     ]
    },
    {
     "data": {
      "text/plain": [
       "<matplotlib.image.AxesImage at 0x7efdd68c35f8>"
      ]
     },
     "execution_count": 2,
     "metadata": {},
     "output_type": "execute_result"
    },
    {
     "data": {
      "image/png": "[encoded data removed]",
      "text/plain": [
       "<Figure size 576x221.76 with 2 Axes>"
      ]
     },
     "metadata": {
      "needs_background": "light"
     },
     "output_type": "display_data"
    }
   ],
   "source": [
    "n_channels = 4\n",
    "l=100\n",
    "KAPPAS = npr.random(l * n_channels) * 16 - 8\n",
    "THETAS = npr.random(l * n_channels)\n",
    "\n",
    "lgca2 = IBLGCA_1D(bc='reflect', interaction='go_or_grow', kappa=list(KAPPAS), r_b=0.2, r_d=0.01, theta=list(THETAS), density=1, restchannels=2, dims=l)\n",
    "                    \n",
    "lgca2.timeevo(timesteps=50, recordLast=True)\n",
    "\n",
    "lgca2.plot_density()"
   ]
  },
  {
   "cell_type": "code",
   "execution_count": 9,
   "metadata": {
    "scrolled": false
   },
   "outputs": [
    {
     "ename": "SyntaxError",
     "evalue": "invalid syntax (<ipython-input-9-daf723b3f8b8>, line 19)",
     "output_type": "error",
     "traceback": [
      "\u001b[0;36m  File \u001b[0;32m\"<ipython-input-9-daf723b3f8b8>\"\u001b[0;36m, line \u001b[0;32m19\u001b[0m\n\u001b[0;31m    ALL=['data':[]]\u001b[0m\n\u001b[0m               ^\u001b[0m\n\u001b[0;31mSyntaxError\u001b[0m\u001b[0;31m:\u001b[0m invalid syntax\n"
     ]
    }
   ],
   "source": [
    "lat_size=500\n",
    "n_start=10\n",
    "\n",
    "nodes = np.zeros((lat_size, n_channels), dtype=bool) #create lattice, all channels false\n",
    "left_node = int(len(nodes) / 2 - n_start / 2)  # most left node that will be filled\n",
    "nodes[left_node:left_node + n_start,[0,1]] = 1\n",
    "#nodes[left_node:left_node + n_start] = 1\n",
    "            #   only par['ini'] center nodes filled\n",
    "\n",
    "KAPPAS = npr.random(n_start * n_channels) * 16 - 8\n",
    "THETAS = npr.random(n_start * n_channels)\n",
    "\n",
    "lgca3 = IBLGCA_1D(restchannels=2, r_b=0.2, r_d=0.01, nodes=nodes, bc='reflect', interaction='go_or_grow', kappa=list(KAPPAS), theta=list(THETAS), dims=lat_size)\n",
    "                    \n",
    "lgca3.timeevo(timesteps=100, recordLast=True)\n",
    "\n",
    "lgca3.plot_density()\n",
    "\n",
    "ALL=['data':[]]\n",
    "ALL['data'].append(lgca3)\n",
    "\n"
   ]
  },
  {
   "cell_type": "code",
   "execution_count": null,
   "metadata": {},
   "outputs": [],
   "source": [
    "from P01 import plot01\n",
    "\n",
    "plot01()"
   ]
  }
 ],
 "metadata": {
  "kernelspec": {
   "display_name": "Python 3",
   "language": "python",
   "name": "python3"
  },
  "language_info": {
   "codemirror_mode": {
    "name": "ipython",
    "version": 3
   },
   "file_extension": ".py",
   "mimetype": "text/x-python",
   "name": "python",
   "nbconvert_exporter": "python",
   "pygments_lexer": "ipython3",
   "version": "3.6.8"
  }
 },
 "nbformat": 4,
 "nbformat_minor": 2
}
