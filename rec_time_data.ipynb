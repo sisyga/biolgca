{
 "cells": [
  {
   "cell_type": "code",
   "execution_count": 2,
   "id": "initial_id",
   "metadata": {
    "collapsed": true,
    "ExecuteTime": {
     "end_time": "2024-01-22T17:13:18.641366Z",
     "start_time": "2024-01-22T17:13:18.621371Z"
    }
   },
   "source": [
    "import numpy as np\n",
    "from matplotlib import pyplot as plt\n",
    "import seaborn as sns\n",
    "import pandas as pd"
   ],
   "outputs": []
  },
  {
   "cell_type": "code",
   "source": [
    "# use pandas to read excel file\n",
    "patient_data = pd.read_excel('cleaned_rCBVmeasurements.xlsx')"
   ],
   "metadata": {
    "collapsed": false
   },
   "id": "ebcf0775d8ebed0c",
   "execution_count": null,
   "outputs": []
  },
  {
   "cell_type": "code",
   "source": [
    "# print the first 5 rows of the data\n",
    "print(patient_data.head())"
   ],
   "metadata": {
    "collapsed": false,
    "ExecuteTime": {
     "end_time": "2024-01-22T17:13:44.243142800Z",
     "start_time": "2024-01-22T17:13:44.149776300Z"
    }
   },
   "id": "60cbb2f12c6d9b26",
   "execution_count": 4,
   "outputs": []
  },
  {
   "cell_type": "code",
   "source": [
    "# Convert the necessary columns to numeric for analysis\n",
    "# patient_data['tumor_rcbv_average'] = pd.to_numeric(patient_data['tumor_rcbv_average'])\n",
    "patient_data['time_to_recurrence'] = pd.to_numeric(patient_data['time_to_recurrence'])\n",
    "patient_data['days_used_for_calculation'] = pd.to_numeric(patient_data['days_used_for_calculation'])\n",
    "\n",
    "# Create a new binary feature\n",
    "patient_data['elevated_perfusion'] = np.where(patient_data['rcbv_ratio'] > 1.5, 1, 0)\n",
    "print(patient_data['elevated_perfusion'].value_counts())\n",
    "# print(patient_data.head())\n",
    "# create new feature, relatve tumor_rcbv_variance \n",
    "# patient_data['tumor_rcbv_cv'] = patient_data['tumor_rcbv_stdev'] / patient_data['tumor_rcbv_average']\n",
    "# convert NaN to 0\n",
    "# patient_data['tumor_rcbv_cv'] = patient_data['tumor_rcbv_cv'].fillna(0)\n",
    "\n",
    "# Create the boxplot\n",
    "plt.figure(figsize=(10, 6))\n",
    "sns.boxplot(data=patient_data, x='elevated_perfusion', y='days_used_for_calculation')\n",
    "plt.title('Boxplot of Time to Recurrence for Patients\\n(Tumor rCBV Average = 0 vs Tumor rCBV Average > 0)')\n",
    "plt.xlabel('Elevated perfusion')"
   ],
   "metadata": {
    "collapsed": false
   },
   "id": "e4433bd90f9a5494",
   "execution_count": null,
   "outputs": []
  },
  {
   "cell_type": "code",
   "execution_count": 16,
   "source": [
    "# print the number of patients for each treatment type\n",
    "print(patient_data.head())\n",
    "print(patient_data['treatment'].value_counts())\n",
    "print(patient_data['operation'].value_counts())\n",
    "# print(patient_data['sex'].value_counts())"
   ],
   "metadata": {
    "collapsed": false,
    "ExecuteTime": {
     "end_time": "2024-01-19T14:36:40.197515600Z",
     "start_time": "2024-01-19T14:36:40.099636600Z"
    }
   },
   "id": "764714a3d9e59ae4",
   "outputs": []
  },
  {
   "cell_type": "code",
   "execution_count": 10,
   "source": [
    "# Load the second dataset\n",
    "treatment_data_path = 'treatment.csv'\n",
    "treatment_data = pd.read_csv(treatment_data_path)"
   ],
   "metadata": {
    "collapsed": false,
    "ExecuteTime": {
     "end_time": "2024-01-19T14:32:45.656567100Z",
     "start_time": "2024-01-19T14:32:45.633793100Z"
    }
   },
   "id": "849024fb0c94b584",
   "outputs": []
  },
  {
   "cell_type": "code",
   "source": [
    "treatment_data['rectime_days'] = treatment_data['rectime'] * 1.083  # calculated from experimental data"
   ],
   "metadata": {
    "collapsed": false,
    "ExecuteTime": {
     "end_time": "2024-01-19T14:32:47.718522400Z",
     "start_time": "2024-01-19T14:32:47.681907800Z"
    }
   },
   "id": "a471362aa78c9b12",
   "execution_count": 11,
   "outputs": []
  },
  {
   "cell_type": "code",
   "source": [
    "treatment_data['theta'].unique(), treatment_data['r_d'].unique()"
   ],
   "metadata": {
    "collapsed": false,
    "ExecuteTime": {
     "end_time": "2024-01-19T14:44:09.398813400Z",
     "start_time": "2024-01-19T14:44:09.314525700Z"
    }
   },
   "id": "eae475f0d1728476",
   "execution_count": 30,
   "outputs": []
  },
  {
   "cell_type": "code",
   "execution_count": 52,
   "source": [
    "# Filtering the data into two groups based on kappa. \n",
    "group1_kappa_positive = treatment_data[(treatment_data['kappa'] > 0) & (treatment_data['r_d'] >= 0.1) & (treatment_data['theta'] > 0.3) & (treatment_data['theta'] <= .9)]['rectime_days']\n",
    "group2_kappa_negative = treatment_data[(treatment_data['kappa'] < 0) & (treatment_data['r_d'] >= 0.1) & (treatment_data['theta'] > 0.3) & (treatment_data['theta'] <= .9)]['rectime_days']\n",
    "# group1_kappa_positive = treatment_data[treatment_data['kappa'] > 0 & treatment_data['r_d'] == 0.25]['rectime_days']\n",
    "# group2_kappa_negative = treatment_data[treatment_data['kappa'] < 0 & treatment_data['r_d'] == 0.25]['rectime_days']\n",
    "\n",
    "# Preparing the data for plotting\n",
    "boxplot_data_kappa = [group1_kappa_positive, group2_kappa_negative]\n",
    "labels_kappa = ['Kappa > 0', 'Kappa < 0']\n",
    "\n",
    "# Creating the boxplot\n",
    "plt.figure(figsize=(10, 6))\n",
    "sns.boxplot(data=boxplot_data_kappa)\n",
    "plt.xticks([0, 1], labels_kappa)\n",
    "plt.title('Comparison of Recurrence Time for Kappa > 0 and Kappa < 0')\n",
    "plt.ylabel('Recurrence Time')\n",
    "plt.show()\n"
   ],
   "metadata": {
    "collapsed": false,
    "ExecuteTime": {
     "end_time": "2024-01-19T15:14:39.345943400Z",
     "start_time": "2024-01-19T15:14:39.144374400Z"
    }
   },
   "id": "fccb89dd942dd516",
   "outputs": []
  },
  {
   "cell_type": "code",
   "execution_count": 53,
   "source": [
    "data_for_boxplot = [patient_data[patient_data['elevated_perfusion'] == 0]['days_used_for_calculation'],\n",
    "                    patient_data[patient_data['elevated_perfusion'] == 1]['days_used_for_calculation']]\n",
    "\n",
    "labels_rcbv = ['No elevated perfusion', 'elevated perfusion']\n",
    "# plot all boxplots in the same axes\n",
    "plt.figure(figsize=(10, 6))\n",
    "sns.boxplot(data=data_for_boxplot+boxplot_data_kappa)\n",
    "plt.title('Boxplot of Time to Recurrence for Patients\\n(Tumor rCBV Average = 0 vs Tumor rCBV Average > 0)')\n",
    "plt.xlabel('Group')\n",
    "plt.ylabel('Time to Recurrence (days)')\n",
    "plt.xticks([0, 1, 2, 3], labels_rcbv+labels_kappa)"
   ],
   "metadata": {
    "collapsed": false,
    "ExecuteTime": {
     "end_time": "2024-01-19T15:14:42.722529400Z",
     "start_time": "2024-01-19T15:14:42.404371200Z"
    }
   },
   "id": "1b3c4c93fe4d220",
   "outputs": []
  },
  {
   "cell_type": "code",
   "source": [
    "# create barplots, two times two bars next to each other, no elevation vs kappa > 0, elevation vs kappa < 0\n",
    "sns.barplot()"
   ],
   "metadata": {
    "collapsed": false,
    "ExecuteTime": {
     "end_time": "2024-01-19T15:03:43.355591300Z",
     "start_time": "2024-01-19T15:03:42.966989100Z"
    }
   },
   "id": "3d7f52c25d7b50de",
   "execution_count": 49,
   "outputs": []
  },
  {
   "cell_type": "code",
   "execution_count": 46,
   "source": [
    "# Preprocess the data for Random Forest classification\n",
    "from sklearn.model_selection import train_test_split\n",
    "from sklearn.ensemble import RandomForestRegressor\n",
    "from sklearn.metrics import mean_squared_error, mean_absolute_error\n",
    "from sklearn.preprocessing import StandardScaler, OneHotEncoder\n",
    "from sklearn.compose import ColumnTransformer\n",
    "from sklearn.pipeline import Pipeline\n",
    "import numpy as np\n",
    "from sklearn.linear_model import LinearRegression\n",
    "\n",
    "\n",
    "# Selecting relevant features and target variable\n",
    "features = ['sex', 'age', 'rcbv_ratio', 'operation']\n",
    "target = 'days_used_for_calculation'\n",
    "\n",
    "X = patient_data[features]\n",
    "y = patient_data[target]\n",
    "# Checking for missing values\n",
    "missing_values = X.isnull().sum()\n",
    "missing_values = missing_values[missing_values > 0]\n",
    "\n",
    "print(missing_values)"
   ],
   "metadata": {
    "collapsed": false,
    "ExecuteTime": {
     "end_time": "2023-12-08T17:33:39.393936700Z",
     "start_time": "2023-12-08T17:33:39.356132900Z"
    }
   },
   "id": "50c0de47de33ad09",
   "outputs": []
  },
  {
   "cell_type": "code",
   "execution_count": 47,
   "source": [
    "from sklearn.preprocessing import FunctionTransformer\n",
    "\n",
    "# Pipeline for numerical features\n",
    "numeric_features = ['age', 'rcbv_ratio']\n",
    "\n",
    "numeric_transformer = Pipeline(steps=[\n",
    "    ('identity', FunctionTransformer())\n",
    "    #('scaler', StandardScaler())\n",
    "])\n",
    "\n",
    "# Pipeline for categorical features\n",
    "categorical_features = ['sex', 'operation']\n",
    "categorical_transformer = Pipeline(steps=[\n",
    "    ('onehot', OneHotEncoder(handle_unknown='ignore', drop='if_binary'))])\n",
    "\n",
    "# Preprocessor\n",
    "preprocessor = ColumnTransformer(\n",
    "    transformers=[\n",
    "        ('num', numeric_transformer, numeric_features),\n",
    "        ('cat', categorical_transformer, categorical_features)])\n",
    "\n",
    "# Splitting the dataset into training and testing sets\n",
    "X_train, X_test, y_train, y_test = train_test_split(X, y, test_size=0.2, random_state=0)\n",
    "# X_test = X\n",
    "# y_train = y\n",
    "# y_test = y\n",
    "# Apply the transformations\n",
    "X_train_transformed = preprocessor.fit_transform(X_train)\n",
    "X_test_transformed = preprocessor.transform(X_test)\n",
    "\n",
    "X_train_transformed.shape, X_test_transformed.shape"
   ],
   "metadata": {
    "collapsed": false,
    "ExecuteTime": {
     "end_time": "2023-12-08T17:33:39.851185200Z",
     "start_time": "2023-12-08T17:33:39.824512500Z"
    }
   },
   "id": "74fc266470a742ac",
   "outputs": []
  },
  {
   "cell_type": "code",
   "execution_count": 48,
   "source": [
    "# Initialize the Linear Regression model\n",
    "linear_regression = LinearRegression()\n",
    "\n",
    "# Fit the model on the training data\n",
    "linear_regression.fit(X_train_transformed, y_train)\n",
    "\n",
    "# Make predictions on the testing data\n",
    "y_pred = linear_regression.predict(X_test_transformed)\n",
    "\n",
    "# Calculate and print the Mean Squared Error (MSE) and Mean Absolute Error (MAE)\n",
    "mse = mean_squared_error(y_test, y_pred)\n",
    "mae = mean_absolute_error(y_test, y_pred)\n",
    "\n",
    "print(f\"Mean Squared Error (MSE): {mse}\")\n",
    "print(f\"Mean Absolute Error (MAE): {mae}\")"
   ],
   "metadata": {
    "collapsed": false,
    "ExecuteTime": {
     "end_time": "2023-12-08T17:33:41.355588900Z",
     "start_time": "2023-12-08T17:33:41.339945200Z"
    }
   },
   "id": "37d52c486e19e631",
   "outputs": []
  },
  {
   "cell_type": "code",
   "execution_count": 50,
   "source": [
    "# linear regression plot using seaborn\n",
    "sns.regplot(x='rcbv_ratio', y='days_used_for_calculation', ci=None, data=patient_data)"
   ],
   "metadata": {
    "collapsed": false,
    "ExecuteTime": {
     "end_time": "2023-12-08T17:33:52.030129Z",
     "start_time": "2023-12-08T17:33:51.767795Z"
    }
   },
   "id": "10c5b50176d89a17",
   "outputs": []
  },
  {
   "cell_type": "code",
   "execution_count": 51,
   "source": [
    "# Training the model\n",
    "# Create the Random Forest Regressor\n",
    "random_forest = RandomForestRegressor(n_estimators=10, random_state=0)\n",
    "\n",
    "# Train the model\n",
    "random_forest.fit(X_train_transformed, y_train)\n",
    "\n",
    "# Predict on the test set\n",
    "y_pred = random_forest.predict(X_test_transformed)\n",
    "\n",
    "# Calculate the evaluation metrics\n",
    "mse = mean_squared_error(y_test, y_pred)\n",
    "mae = mean_absolute_error(y_test, y_pred)\n",
    "\n",
    "mse, mae"
   ],
   "metadata": {
    "collapsed": false,
    "ExecuteTime": {
     "end_time": "2023-12-08T17:34:23.344825100Z",
     "start_time": "2023-12-08T17:34:23.271490700Z"
    }
   },
   "id": "6cebb3f04be11bbd",
   "outputs": []
  },
  {
   "cell_type": "code",
   "execution_count": 52,
   "source": [
    "# Extract the feature importances from the trained model\n",
    "importances = random_forest.feature_importances_\n",
    "\n",
    "# For the categorical features\n",
    "categorical_features = preprocessor.named_transformers_['cat']['onehot'].get_feature_names_out(categorical_features)\n",
    "\n",
    "# Combine the two lists\n",
    "features = np.concatenate([numeric_features, categorical_features])\n",
    "\n",
    "# Sort the feature importances in descending order\n",
    "indices = np.argsort(importances)[::-1]\n",
    "\n",
    "# Plot the feature importances as a bar chart\n",
    "plt.figure(figsize=(10, 6))\n",
    "plt.title(\"Feature importances\")\n",
    "plt.bar(range(len(features)), importances[indices])\n",
    "plt.xticks(range(len(features)), features[indices], rotation=90)\n",
    "plt.show()"
   ],
   "metadata": {
    "collapsed": false,
    "ExecuteTime": {
     "end_time": "2023-12-08T17:34:39.795474500Z",
     "start_time": "2023-12-08T17:34:39.637918Z"
    }
   },
   "id": "7ecf8c347cf1820b",
   "outputs": []
  },
  {
   "cell_type": "code",
   "execution_count": 53,
   "source": [
    "# plot the first tree of the random forest\n",
    "from sklearn.tree import plot_tree\n",
    "\n",
    "# Get the Random Forest model\n",
    "model = random_forest\n",
    "# Plot the first five trees\n",
    "for i in range(5):\n",
    "    plt.figure(figsize=(10, 6))\n",
    "    plot_tree(model.estimators_[i], feature_names=list(features), filled=True, max_depth=2)\n",
    "    plt.show()\n",
    "\n",
    "# plt.savefig('tree_continuous_rcbv.png', dpi=300)"
   ],
   "metadata": {
    "collapsed": false,
    "ExecuteTime": {
     "end_time": "2023-12-08T17:35:06.161791500Z",
     "start_time": "2023-12-08T17:35:03.763913900Z"
    }
   },
   "id": "90df411be1b4a83",
   "outputs": []
  },
  {
   "cell_type": "code",
   "execution_count": 54,
   "source": [
    "from sklearn.inspection import PartialDependenceDisplay\n",
    "\n",
    "# Get the index of the rcbv_ratio feature in the transformed dataset\n",
    "feature_idx = list(features).index('rcbv_ratio')\n",
    "\n",
    "# Create the PartialDependenceDisplay\n",
    "display = PartialDependenceDisplay.from_estimator(\n",
    "    random_forest, X_train_transformed, features=[feature_idx], feature_names=features)"
   ],
   "metadata": {
    "collapsed": false,
    "ExecuteTime": {
     "end_time": "2023-12-08T17:35:15.978530800Z",
     "start_time": "2023-12-08T17:35:15.701069800Z"
    }
   },
   "id": "a8e05019da0a6e0",
   "outputs": []
  },
  {
   "cell_type": "code",
   "execution_count": 18,
   "source": [
    "# Add the new feature to the list of features\n",
    "features = ['sex', 'age', 'operation', 'elevated_perfusion']\n",
    "\n",
    "X = patient_data[features]\n",
    "y = patient_data[target]\n",
    "\n",
    "# Pipeline for numerical features\n",
    "numeric_features = ['age']\n",
    "\n",
    "numeric_transformer = Pipeline(steps=[\n",
    "    ('scaler', StandardScaler())])\n",
    "\n",
    "# Pipeline for categorical features\n",
    "categorical_features = ['sex', 'operation', 'elevated_perfusion']\n",
    "categorical_transformer = Pipeline(steps=[\n",
    "    ('onehot', OneHotEncoder(handle_unknown='ignore', drop='if_binary'))])\n",
    "\n",
    "# Preprocessor\n",
    "preprocessor = ColumnTransformer(\n",
    "    transformers=[\n",
    "        ('num', numeric_transformer, numeric_features),\n",
    "        ('cat', categorical_transformer, categorical_features)])\n",
    "\n",
    "# Splitting the dataset into training and testing sets\n",
    "X_train, X_test, y_train, y_test = train_test_split(X, y, test_size=0.3, random_state=0)\n",
    "\n",
    "# Apply the transformations\n",
    "X_train_transformed = preprocessor.fit_transform(X_train)\n",
    "X_test_transformed = preprocessor.transform(X_test)\n",
    "\n",
    "# Create the Random Forest Regressor\n",
    "random_forest = RandomForestRegressor(n_estimators=100, random_state=0)\n",
    "\n",
    "# Train the model\n",
    "random_forest.fit(X_train_transformed, y_train)\n",
    "\n",
    "# Extract the feature importances from the trained model\n",
    "importances = random_forest.feature_importances_\n",
    "\n",
    "# Get the feature names from the preprocessor\n",
    "numeric_features = preprocessor.transformers_[0][2]\n",
    "categorical_features = preprocessor.named_transformers_['cat']['onehot'].get_feature_names_out(categorical_features)\n",
    "\n",
    "# Combine the two lists\n",
    "features = np.concatenate([numeric_features, categorical_features])\n",
    "# Sort the feature importances in descending order\n",
    "indices = np.argsort(importances)[::-1]\n",
    "\n",
    "# print mse and mae\n",
    "y_pred = random_forest.predict(X_test_transformed)\n",
    "mse = mean_squared_error(y_test, y_pred)\n",
    "mae = mean_absolute_error(y_test, y_pred)\n",
    "print(f\"Mean Squared Error (MSE): {mse}\")\n",
    "print(f\"Mean Absolute Error (MAE): {mae}\")\n",
    "\n",
    "# Plot the feature importances as a bar chart\n",
    "plt.figure(figsize=(10, 6))\n",
    "plt.title(\"Feature importances\")\n",
    "plt.bar(range(len(features)), importances[indices])\n",
    "plt.xticks(range(len(features)), features[indices], rotation=90)\n",
    "plt.show()"
   ],
   "metadata": {
    "collapsed": false,
    "ExecuteTime": {
     "end_time": "2023-12-08T17:06:08.003597Z",
     "start_time": "2023-12-08T17:06:07.510848800Z"
    }
   },
   "id": "3fe14b69d7ce9057",
   "outputs": []
  },
  {
   "cell_type": "code",
   "execution_count": null,
   "source": [
    "# Get the index of the rcbv_ratio feature in the transformed dataset\n",
    "feature_idx = list(features).index('rcbv_ratio')\n",
    "\n",
    "# Create the PartialDependenceDisplay\n",
    "display = PartialDependenceDisplay.from_estimator(\n",
    "    random_forest, X_train_transformed, features=[feature_idx])"
   ],
   "metadata": {
    "collapsed": false,
    "ExecuteTime": {
     "start_time": "2023-12-08T17:05:03.873191300Z"
    }
   },
   "id": "ad2309567bb5b2f8",
   "outputs": []
  },
  {
   "cell_type": "markdown",
   "source": [
    "## Now let's repeat the same process for the synthetic dataset"
   ],
   "metadata": {
    "collapsed": false
   },
   "id": "150bf5141666569d"
  },
  {
   "cell_type": "code",
   "execution_count": 73,
   "source": [
    "synth_data = pd.read_csv('treatment.csv')\n",
    "synth_data.head()"
   ],
   "metadata": {
    "collapsed": false,
    "ExecuteTime": {
     "end_time": "2023-12-08T17:44:34.273428Z",
     "start_time": "2023-12-08T17:44:34.188223500Z"
    }
   },
   "id": "3963f8c994336793",
   "outputs": []
  },
  {
   "cell_type": "code",
   "execution_count": 85,
   "source": [
    "# Define the features and the target variable\n",
    "features = ['kappa', 'theta', 'r_d']\n",
    "target = 'rectime_clean'\n",
    "\n",
    "# Check for NaN values in 'rectime'\n",
    "synth_data['rectime_clean'] = synth_data['rectime'].copy()\n",
    "nan_rectime = synth_data['rectime'].isna()\n",
    "\n",
    "# If there are any NaN values, replace them with the maximum of 'rectime'\n",
    "if nan_rectime.sum() > 0:\n",
    "    max_rectime = synth_data['rectime'].max()\n",
    "    synth_data['rectime_clean'].fillna(max_rectime, inplace=True)\n",
    "    \n",
    "X = synth_data[features]\n",
    "y = synth_data[target]\n",
    "\n",
    "\n",
    "# Split the dataset into training and testing sets\n",
    "X_train, X_test, y_train, y_test = train_test_split(X, y, test_size=0.3, random_state=0)\n",
    "\n",
    "# Initialize the Random Forest model\n",
    "random_forest = RandomForestRegressor(n_estimators=100, random_state=0)\n",
    "\n",
    "# Fit the model on the training data\n",
    "random_forest.fit(X_train, y_train)\n",
    "\n",
    "# Make predictions on the testing data\n",
    "y_pred = random_forest.predict(X_test)\n",
    "\n",
    "# Calculate and print the Mean Squared Error (MSE) and Mean Absolute Error (MAE)\n",
    "mse = mean_squared_error(y_test, y_pred)\n",
    "mae = mean_absolute_error(y_test, y_pred)\n",
    "\n",
    "print(f\"Mean Squared Error (MSE): {mse}\")\n",
    "print(f\"Mean Absolute Error (MAE): {mae}\")"
   ],
   "metadata": {
    "collapsed": false,
    "ExecuteTime": {
     "end_time": "2023-12-08T17:50:00.297968Z",
     "start_time": "2023-12-08T17:50:00.036081900Z"
    }
   },
   "id": "a4862c08955e1504",
   "outputs": []
  },
  {
   "cell_type": "code",
   "execution_count": 86,
   "source": [
    "# Extract the feature importances from the trained model\n",
    "importances = random_forest.feature_importances_\n",
    "\n",
    "# Sort the feature importances in descending order\n",
    "indices = np.argsort(importances)[::-1]\n",
    "\n",
    "# Plot the feature importances as a bar chart\n",
    "plt.figure(figsize=(10, 6))\n",
    "plt.title(\"Feature importances\")\n",
    "plt.bar(range(len(features)), importances[indices])\n",
    "plt.xticks(range(len(features)), np.array(features)[indices], rotation=90)\n",
    "plt.show()"
   ],
   "metadata": {
    "collapsed": false,
    "ExecuteTime": {
     "end_time": "2023-12-08T17:50:00.734462300Z",
     "start_time": "2023-12-08T17:50:00.565156700Z"
    }
   },
   "id": "634bd00bf192f5ba",
   "outputs": []
  },
  {
   "cell_type": "code",
   "execution_count": 91,
   "source": [
    "# Get the index of the rcbv_ratio feature in the transformed dataset\n",
    "feature_idx = list(features).index('kappa')\n",
    "\n",
    "# Create the PartialDependenceDisplay\n",
    "display = PartialDependenceDisplay.from_estimator(\n",
    "    random_forest, X_train_transformed, features=[feature_idx], feature_names=features)"
   ],
   "metadata": {
    "collapsed": false,
    "ExecuteTime": {
     "end_time": "2023-12-08T17:52:05.560513900Z",
     "start_time": "2023-12-08T17:52:05.196090200Z"
    }
   },
   "id": "4007dc8f727d5f8",
   "outputs": []
  },
  {
   "cell_type": "code",
   "execution_count": 94,
   "source": [
    "# Get the Random Forest model\n",
    "model = random_forest\n",
    "# Plot the first five trees\n",
    "for i in range(5):\n",
    "    plt.figure(figsize=(10, 6))\n",
    "    plot_tree(model.estimators_[i], feature_names=list(features), filled=True, max_depth=2)\n",
    "    plt.show()\n"
   ],
   "metadata": {
    "collapsed": false,
    "ExecuteTime": {
     "end_time": "2023-12-08T18:02:20.250952100Z",
     "start_time": "2023-12-08T18:02:17.660481300Z"
    }
   },
   "id": "898b54cd63770f5d",
   "outputs": []
  },
  {
   "cell_type": "code",
   "execution_count": null,
   "source": [
    "from sklearn.feature_selection import RFE\n",
    "\n",
    "# Define the method\n",
    "rfe = RFE(estimator=RandomForestRegressor(), n_features_to_select=1)\n",
    "\n",
    "# Fit the model\n",
    "rfe = rfe.fit(X, y)\n",
    "\n",
    "# Get the selected features\n",
    "selected_features = rfe.support_\n",
    "\n",
    "# Print the names of the selected features\n",
    "print('Selected features:')\n",
    "print(np.array(features)[selected_features])"
   ],
   "metadata": {
    "collapsed": false,
    "ExecuteTime": {
     "start_time": "2023-12-08T17:05:03.891981400Z"
    }
   },
   "id": "e5fe43f6fc8e0bfa",
   "outputs": []
  }
 ],
 "metadata": {
  "kernelspec": {
   "display_name": "Python 3",
   "language": "python",
   "name": "python3"
  },
  "language_info": {
   "codemirror_mode": {
    "name": "ipython",
    "version": 2
   },
   "file_extension": ".py",
   "mimetype": "text/x-python",
   "name": "python",
   "nbconvert_exporter": "python",
   "pygments_lexer": "ipython2",
   "version": "2.7.6"
  }
 },
 "nbformat": 4,
 "nbformat_minor": 5
}
