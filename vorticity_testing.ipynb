{
 "cells": [
  {
   "cell_type": "markdown",
   "metadata": {},
   "source": [
    "# Plasticity of cancer cell invasion - Project status "
   ]
  },
  {
   "cell_type": "markdown",
   "metadata": {},
   "source": [
    "Experimental observations:\n",
    "1. WT cells are **slow and correlated**\n",
    "2. KD cells are **fast and uncorrelated**\n",
    "3. Confinement by ECM reduces speed in both cases\n",
    "4. WT cells are **more correlated** under confinement\n",
    "\n",
    "Problem: In current model, cells are **always uncorrelated**, cell-cell adhesion only prevents cell detachment from cluster."
   ]
  },
  {
   "cell_type": "code",
   "execution_count": 33,
   "metadata": {
    "pycharm": {
     "is_executing": false
    }
   },
   "outputs": [],
   "source": [
    "import numpy as np\n",
    "from matplotlib import pyplot as plt\n",
    "import matplotlib.image as mpimg\n",
    "\n",
    "from mpl_toolkits.mplot3d import Axes3D\n",
    "%matplotlib inline"
   ]
  },
  {
   "cell_type": "code",
   "execution_count": 34,
   "metadata": {},
   "outputs": [
    {
     "name": "stderr",
     "output_type": "stream",
     "text": [
      "/home/simon/anaconda3/envs/py3/lib/python3.7/site-packages/matplotlib/figure.py:2366: UserWarning: This figure includes Axes that are not compatible with tight_layout, so results might be incorrect.\n",
      "  warnings.warn(\"This figure includes Axes that are not compatible \"\n"
     ]
    },
    {
     "data": {
      "image/png": "[encoded data removed]",
      "text/plain": [
       "<Figure size 648x720 with 2 Axes>"
      ]
     },
     "metadata": {
      "needs_background": "light"
     },
     "output_type": "display_data"
    }
   ],
   "source": [
    "vprofile = mpimg.imread('Velocity-profile-tot-norm.png')\n",
    "vortprofile = mpimg.imread('Vort-profile_tot-normalized.png')\n",
    "\n",
    "plt.figure(figsize=(9, 10), tight_layout=True, frameon=False)\n",
    "plt.subplot(211)\n",
    "plt.axis('off')\n",
    "i1 = plt.imshow(vprofile)\n",
    "plt.subplot(212)\n",
    "plt.axis('off')\n",
    "i2 = plt.imshow(vortprofile)"
   ]
  },
  {
   "cell_type": "code",
   "execution_count": 35,
   "metadata": {
    "pycharm": {
     "is_executing": false
    }
   },
   "outputs": [
    {
     "ename": "FileNotFoundError",
     "evalue": "[Errno 2] No such file or directory: 'raw_configs/large_param_scan/densities.npy'",
     "output_type": "error",
     "traceback": [
      "\u001b[0;31m---------------------------------------------------------------------------\u001b[0m",
      "\u001b[0;31mFileNotFoundError\u001b[0m                         Traceback (most recent call last)",
      "\u001b[0;32m<ipython-input-35-b7df230c7cf7>\u001b[0m in \u001b[0;36m<module>\u001b[0;34m\u001b[0m\n\u001b[1;32m      1\u001b[0m \u001b[0mndividualized_cellspath\u001b[0m \u001b[0;34m=\u001b[0m \u001b[0;34m'/mnt/data/simon/friedl_paper_raw_data/friedl_project/final/'\u001b[0m\u001b[0;34m\u001b[0m\u001b[0;34m\u001b[0m\u001b[0m\n\u001b[0;32m----> 2\u001b[0;31m \u001b[0mecm_densities\u001b[0m \u001b[0;34m=\u001b[0m \u001b[0mnp\u001b[0m\u001b[0;34m.\u001b[0m\u001b[0mload\u001b[0m\u001b[0;34m(\u001b[0m\u001b[0mpath\u001b[0m \u001b[0;34m+\u001b[0m \u001b[0;34m'densities.npy'\u001b[0m\u001b[0;34m)\u001b[0m\u001b[0;34m\u001b[0m\u001b[0;34m\u001b[0m\u001b[0m\n\u001b[0m\u001b[1;32m      3\u001b[0m \u001b[0mbetas\u001b[0m \u001b[0;34m=\u001b[0m \u001b[0mnp\u001b[0m\u001b[0;34m.\u001b[0m\u001b[0mload\u001b[0m\u001b[0;34m(\u001b[0m\u001b[0mpath\u001b[0m \u001b[0;34m+\u001b[0m \u001b[0;34m'betas.npy'\u001b[0m\u001b[0;34m)\u001b[0m\u001b[0;34m\u001b[0m\u001b[0;34m\u001b[0m\u001b[0m\n\u001b[1;32m      4\u001b[0m \u001b[0mvorticity\u001b[0m \u001b[0;34m=\u001b[0m \u001b[0mnp\u001b[0m\u001b[0;34m.\u001b[0m\u001b[0mload\u001b[0m\u001b[0;34m(\u001b[0m\u001b[0mpath\u001b[0m \u001b[0;34m+\u001b[0m \u001b[0;34m'mean_vorticity.npy'\u001b[0m\u001b[0;34m)\u001b[0m\u001b[0;34m\u001b[0m\u001b[0;34m\u001b[0m\u001b[0m\n\u001b[1;32m      5\u001b[0m \u001b[0mcorrected_vorticity\u001b[0m \u001b[0;34m=\u001b[0m \u001b[0mnp\u001b[0m\u001b[0;34m.\u001b[0m\u001b[0mload\u001b[0m\u001b[0;34m(\u001b[0m\u001b[0mpath\u001b[0m \u001b[0;34m+\u001b[0m \u001b[0;34m'corrected_vorticity.npy'\u001b[0m\u001b[0;34m)\u001b[0m\u001b[0;34m\u001b[0m\u001b[0;34m\u001b[0m\u001b[0m\n",
      "\u001b[0;32m~/anaconda3/envs/py3/lib/python3.7/site-packages/numpy/lib/npyio.py\u001b[0m in \u001b[0;36mload\u001b[0;34m(file, mmap_mode, allow_pickle, fix_imports, encoding)\u001b[0m\n\u001b[1;32m    382\u001b[0m     \u001b[0mown_fid\u001b[0m \u001b[0;34m=\u001b[0m \u001b[0;32mFalse\u001b[0m\u001b[0;34m\u001b[0m\u001b[0;34m\u001b[0m\u001b[0m\n\u001b[1;32m    383\u001b[0m     \u001b[0;32mif\u001b[0m \u001b[0misinstance\u001b[0m\u001b[0;34m(\u001b[0m\u001b[0mfile\u001b[0m\u001b[0;34m,\u001b[0m \u001b[0mbasestring\u001b[0m\u001b[0;34m)\u001b[0m\u001b[0;34m:\u001b[0m\u001b[0;34m\u001b[0m\u001b[0;34m\u001b[0m\u001b[0m\n\u001b[0;32m--> 384\u001b[0;31m         \u001b[0mfid\u001b[0m \u001b[0;34m=\u001b[0m \u001b[0mopen\u001b[0m\u001b[0;34m(\u001b[0m\u001b[0mfile\u001b[0m\u001b[0;34m,\u001b[0m \u001b[0;34m\"rb\"\u001b[0m\u001b[0;34m)\u001b[0m\u001b[0;34m\u001b[0m\u001b[0;34m\u001b[0m\u001b[0m\n\u001b[0m\u001b[1;32m    385\u001b[0m         \u001b[0mown_fid\u001b[0m \u001b[0;34m=\u001b[0m \u001b[0;32mTrue\u001b[0m\u001b[0;34m\u001b[0m\u001b[0;34m\u001b[0m\u001b[0m\n\u001b[1;32m    386\u001b[0m     \u001b[0;32melif\u001b[0m \u001b[0mis_pathlib_path\u001b[0m\u001b[0;34m(\u001b[0m\u001b[0mfile\u001b[0m\u001b[0;34m)\u001b[0m\u001b[0;34m:\u001b[0m\u001b[0;34m\u001b[0m\u001b[0;34m\u001b[0m\u001b[0m\n",
      "\u001b[0;31mFileNotFoundError\u001b[0m: [Errno 2] No such file or directory: 'raw_configs/large_param_scan/densities.npy'"
     ]
    }
   ],
   "source": [
    "ndividualized_cellspath = '/mnt/data/simon/friedl_paper_raw_data/friedl_project/final/'\n",
    "ecm_densities = np.load(path + 'densities.npy')\n",
    "betas = np.load(path + 'betas.npy')\n",
    "vorticity = np.load(path + 'mean_vorticity.npy')\n",
    "corrected_vorticity = np.load(path + 'corrected_vorticity.npy')\n",
    "mov_frac = np.load(path + 'mov_frac.npy')\n",
    "speed = np.load(path + 'mean_speed.npy')\n",
    "speed_uni = np.load(path + 'mean_speed_const_window.npy')\n",
    "speed_gauss = np.load(path + 'mean_speed_gauss_window.npy')\n",
    "correlations = np.load(path + 'mean_corr.npy')\n"
   ]
  },
  {
   "cell_type": "code",
   "execution_count": null,
   "metadata": {
    "pycharm": {
     "is_executing": false
    }
   },
   "outputs": [],
   "source": [
    "X, Y = np.meshgrid(ecm_densities, betas, indexing='ij')"
   ]
  },
  {
   "cell_type": "code",
   "execution_count": null,
   "metadata": {
    "pycharm": {
     "is_executing": false
    }
   },
   "outputs": [],
   "source": [
    "fig = plt.figure()\n",
    "ax = fig.add_subplot(111, projection='3d')\n",
    "ax.plot_surface(X, Y, mov_frac, cmap='viridis')\n",
    "plt.title('Moving fraction = average speed')\n",
    "plt.xlabel('ECM density')\n",
    "plt.ylabel('Adhesion strength')\n",
    "ax.set_zlabel('Speed')"
   ]
  },
  {
   "cell_type": "markdown",
   "metadata": {},
   "source": [
    "Speed behaves already correctly in the model and is proportional to the diffusion constant (not shown, see manuscript). However, average speed can be defined in different ways:\n",
    "1. Above, I show the average fraction of cells in velocity channels. As every cell in a velocity channels performs a jump with speed 1, this fraction is proportional to the \"microscopic\" speed.\n",
    "- Similarly, it is possible to use the LGCA definition of the flux $$\\vec{J} = \\sum_i \\vec{c_i} \\eta_i.$$ From $\\vec{J} = \\rho \\vec{v}$  and $\\rho = \\sum_i \\eta_i$, we can also define a speed $$\\vec{v} = \\frac{\\vec{J}}{\\rho}$$ for $\\rho > 0$ (otherwise $\\vec{v} = 0$ by definition).\n",
    "The second definition gives a qualitatively similar result, but the influence of strong adhesion on the speed is more pronounced, see below."
   ]
  },
  {
   "cell_type": "code",
   "execution_count": null,
   "metadata": {},
   "outputs": [],
   "source": [
    "fig = plt.figure()\n",
    "ax = fig.add_subplot(111, projection='3d')\n",
    "ax.plot_surface(X, Y, speed, cmap='viridis')\n",
    "plt.title('Average speed obtained from flux/density')\n",
    "plt.xlabel('ECM density')\n",
    "plt.ylabel('Adhesion strength')\n",
    "ax.set_zlabel('Speed')\n",
    "plt.show()"
   ]
  },
  {
   "cell_type": "markdown",
   "metadata": {},
   "source": [
    "One idea to identify correlations in the system was to look at time-averaged quantities, especially speeds. To obtain the time average we can use different rolling windows. In particular I tested a uniform window of length 5 and a Gaussian window of variance 5. Basis for time averaging was the the speed obtained from the flux (definition 2). However, as I only want to \"measure\" the speed at nodes with non-zero density, it becomes quite difficult to define a proper averaging scheme."
   ]
  },
  {
   "cell_type": "code",
   "execution_count": null,
   "metadata": {
    "pycharm": {
     "is_executing": false
    }
   },
   "outputs": [],
   "source": [
    "fig = plt.figure()\n",
    "ax = fig.add_subplot(111, projection='3d')\n",
    "ax.plot_surface(X, Y, speed_uni, cmap='viridis')\n",
    "plt.title('Uniformly time-averaged speed obtained from flux/density')\n",
    "plt.xlabel('ECM density')\n",
    "plt.ylabel('Adhesion strength')\n",
    "ax.set_zlabel('Speed')\n",
    "plt.show()"
   ]
  },
  {
   "cell_type": "code",
   "execution_count": null,
   "metadata": {},
   "outputs": [],
   "source": [
    "fig = plt.figure()\n",
    "ax = fig.add_subplot(111, projection='3d')\n",
    "ax.plot_surface(X, Y, speed_gauss, cmap='viridis')\n",
    "plt.title('Gaussian time-averaged speed obtained from flux/density')\n",
    "plt.xlabel('ECM density')\n",
    "plt.ylabel('Adhesion strength')\n",
    "ax.set_zlabel('Speed')\n",
    "plt.show()"
   ]
  },
  {
   "cell_type": "markdown",
   "metadata": {},
   "source": [
    "## Neighbor correlations\n",
    "We define velocity correlation $c_v$ as \n",
    "$$ c_v (r) = \\frac{\\vec{v}(r) \\cdot \\sum_i  \\vec{v} (r + c_i) }{|v(r)| |\\sum_i  \\vec{v} (r + c_i)|} $$."
   ]
  },
  {
   "cell_type": "code",
   "execution_count": null,
   "metadata": {
    "pycharm": {
     "is_executing": false,
     "metadata": false,
     "name": "#%%\n"
    }
   },
   "outputs": [],
   "source": [
    "fig = plt.figure()\n",
    "ax = fig.add_subplot(111, projection='3d')\n",
    "ax.plot_surface(X, Y, correlations, cmap='viridis')\n",
    "plt.title('Correlations')\n",
    "plt.xlabel('ECM density')\n",
    "plt.ylabel('Adhesion strength')\n",
    "ax.set_zlabel('Correlations')\n",
    "plt.show()"
   ]
  },
  {
   "cell_type": "markdown",
   "metadata": {},
   "source": [
    "## Vorticity\n",
    "The vorticity of a continuous flow field is defined as $$\\vec{\\Omega} = \\vec{\\nabla} \\times \\vec{v}.$$ For a two-dimensional flow field it only has a $z$-component, that is given by \n",
    "$$\\Omega_z = \\partial_x v_y - \\partial_y v_x.$$\n",
    "The partial derivatives can be approximated on the lattice as\n",
    "$$\\partial_i v_j (\\vec{r}) \\propto \\left( \\sum_k \\vec{c}_k v_j (\\vec{r} + \\vec{c}_k) \\right)_i = \\sum_k c_{k,i} v_j (\\vec{r} + \\vec{c}_k).$$\n",
    "For the vorticity we end up with\n",
    "$$\\Omega \\propto \\sum_i c_{i,x} v_y(\\vec{r}+\\vec{c_i}) - c_{i,y} v_x(\\vec{r} + \\vec{c_i})$$"
   ]
  },
  {
   "cell_type": "code",
   "execution_count": null,
   "metadata": {},
   "outputs": [],
   "source": [
    "fig = plt.figure()\n",
    "ax = fig.add_subplot(111, projection='3d')\n",
    "ax.plot_surface(X, Y, vorticity, cmap='viridis')\n",
    "plt.title('Vorticity')\n",
    "plt.xlabel('ECM density')\n",
    "plt.ylabel('Adhesion strength')\n",
    "ax.set_zlabel('Vorticity')\n",
    "plt.show()"
   ]
  },
  {
   "cell_type": "markdown",
   "metadata": {},
   "source": [
    "Problem: Vorticity proportional to velocity. If we normalize the flow field, to only say anything about correlations, we obtain the following plot -> similar to correlation plot, as expected. "
   ]
  },
  {
   "cell_type": "code",
   "execution_count": null,
   "metadata": {},
   "outputs": [],
   "source": [
    "fig = plt.figure()\n",
    "ax = fig.add_subplot(111, projection='3d')\n",
    "ax.plot_surface(X, Y, corrected_vorticity, cmap='viridis')\n",
    "plt.title('Corrected vorticity')\n",
    "plt.xlabel('ECM density')\n",
    "plt.ylabel('Adhesion strength')\n",
    "ax.set_zlabel('Vorticity')\n",
    "plt.show()"
   ]
  },
  {
   "cell_type": "markdown",
   "metadata": {},
   "source": [
    "# Discussion\n",
    "**Problem: Vorticity and correlations do not depend on adhesion strength!**\n",
    "This is not surprising, because there is no alignment mechanism in the model. Consequently, single cells as well as cells in the bulk perform a random walk (with different diffusion constants). However, simply adding alignment extremely increases the speed for high sensitivity values $\\to$ we need to combine alignment with adhesion in a reasonable way.\n",
    "Problem:\n",
    "- We then have 2 parameters (alignment and adhesion sensitivity), that both describe an effect of adhesion, but in the experiment there is only 1 parameter.\n",
    "- We can make one parameter depend on the other (or make them equal), but this is a rather arbitrary choice and the dynamics is very sensitive to it.\n",
    "\n",
    "I tried to design such an interaction anyway, see simulations below. The transition probability reads\n",
    "$$ P(\\eta\\to \\eta\\prime) = \\frac{1}{Z} \\exp \\left\\{ \\beta  \\left( \\frac{1}{2b} \\vec{J}\\cdot \\vec{J}^\\mathcal{N} + \\frac{2}{b\\rho_0} n_r^\\mathcal{N} n_r \\left(1 - \\frac{n_r}{2\\rho_0}\\right)^+ +\\frac{1}{n_0} \\vec{J}\\cdot \\vec{G} \\right) \\right\\},$$ \n",
    "where $\\rho_0 := \\frac{n_0 + 1}{b+1}$ is the critical node density defined with the critical number of neighbors for adhesion $n_0$."
   ]
  },
  {
   "cell_type": "markdown",
   "metadata": {},
   "source": [
    "# Steady state from homogeneous initial state"
   ]
  },
  {
   "cell_type": "code",
   "execution_count": 1,
   "metadata": {},
   "outputs": [],
   "source": [
    "from lgca import get_lgca\n",
    "import numpy as np\n",
    "from matplotlib import pyplot as plt"
   ]
  },
  {
   "cell_type": "code",
   "execution_count": 10,
   "metadata": {},
   "outputs": [
    {
     "name": "stdout",
     "output_type": "stream",
     "text": [
      "Progress: [####################] 100% Done...\n"
     ]
    }
   ],
   "source": [
    "l = 50\n",
    "restc = 3\n",
    "nodes = np.zeros((l, l, restc+6))\n",
    "dens = 1. / (restc + 6)\n",
    "l_spheroid = 2\n",
    "ecmdens = 0.9\n",
    "nodes[..., :l_spheroid, -3:] = 1\n",
    "#nodes[10, 10, 1] = 1\n",
    "lgca = get_lgca(geometry='hex', interaction='wetting', beta=0., alpha=0, gamma=10, bc='rbc', density=0, restchannels=restc,\n",
    "                rho_0=3, nodes=nodes)\n",
    "lgca.r_b = .03\n",
    "lgca.spheroid = np.zeros_like(lgca.cell_density, dtype=bool)\n",
    "lgca.spheroid[lgca.r_int:-lgca.r_int, :lgca.r_int+l_spheroid] = 1\n",
    "lgca.ecm = (np.random.random(lgca.cell_density.shape) < ecmdens) & np.invert(lgca.spheroid)\n",
    "lgca.timeevo(100, record=True)\n",
    "#lgca.timestep()"
   ]
  },
  {
   "cell_type": "code",
   "execution_count": 12,
   "metadata": {},
   "outputs": [
    {
     "data": {
      "image/png": "[encoded data removed]",
      "text/plain": [
       "<Figure size 576x504 with 2 Axes>"
      ]
     },
     "metadata": {
      "needs_background": "light"
     },
     "output_type": "display_data"
    }
   ],
   "source": [
    "%matplotlib inline\n",
    "#ani = lgca.animate_flux()\n",
    "#ani.save('Ecad_lo.avi')\n",
    "#lgca.plot_density(lgca.ecm[lgca.nonborder], cmap='Greys', vmax=1, figindex=0, cbar=False)\n",
    "#lgca.plot_density()\n",
    "lgca.plot_flux(figindex=0)\n",
    "#plt.title('Uncorrelated sheet')\n",
    "plt.savefig('confined.pdf', dpi=600)\n",
    "#lgca.live_animate_flux()\n",
    "#lgca.live_animate_density()"
   ]
  },
  {
   "cell_type": "code",
   "execution_count": null,
   "metadata": {},
   "outputs": [],
   "source": [
    "\n",
    "n_adh = lgca.nodes.sum()\n",
    "print(n_noadh, n_adh)"
   ]
  },
  {
   "cell_type": "code",
   "execution_count": null,
   "metadata": {},
   "outputs": [],
   "source": [
    "lgca.live_animate_density()"
   ]
  },
  {
   "cell_type": "code",
   "execution_count": null,
   "metadata": {},
   "outputs": [],
   "source": [
    "print(lgca.nodes.sum())"
   ]
  },
  {
   "cell_type": "markdown",
   "metadata": {},
   "source": [
    "# \"Wound healing\" simulation\n",
    "## WT cells"
   ]
  },
  {
   "cell_type": "code",
   "execution_count": null,
   "metadata": {},
   "outputs": [],
   "source": [
    "l = 50\n",
    "restc = 6\n",
    "mean_dens = 0.5 / (restc + 6)\n",
    "nodes = np.zeros((l, l, restc+6))\n",
    "nodes[..., :6, -3:] = 1\n",
    "lgca = get_lgca(interaction='wetting', beta=0, alpha=0, gamma=2, bc='refl', density=0, restchannels=restc, nodes=nodes)\n",
    "lgca.n_crit = 20\n",
    "lgca.r_b = 1\n",
    "lgca.spheroid = np.zeros_like(lgca.cell_density, dtype=bool)\n",
    "lgca.spheroid[lgca.r_int:-lgca.r_int, 0:lgca.r_int+6] = 1vorts"
   ]
  },
  {
   "cell_type": "code",
   "execution_count": null,
   "metadata": {},
   "outputs": [],
   "source": [
    "#lgca.timeevo(150, record=True)\n",
    "#lgca.timestep()\n",
    "lgca.live_animate_flux()\n",
    "#lgca.live_animate_density()\n",
    "#lgca.plot_density()"
   ]
  },
  {
   "cell_type": "code",
   "execution_count": null,
   "metadata": {},
   "outputs": [],
   "source": [
    "ani = lgca.live_animate_flux()"
   ]
  },
  {
   "cell_type": "code",
   "execution_count": null,
   "metadata": {},
   "outputs": [],
   "source": [
    "#ani.save('WT_cells.mp4')"
   ]
  },
  {
   "cell_type": "code",
   "execution_count": null,
   "metadata": {},
   "outputs": [],
   "source": [
    "print(lgca.nodes.sum()/ lgca.lx / lgca.ly / lgca.K) \n",
    "print(3 / lgca.K)"
   ]
  },
  {
   "cell_type": "code",
   "execution_count": null,
   "metadata": {},
   "outputs": [],
   "source": [
    "record = np.moveaxis(lgca.nodes_t, 0, 2)\n",
    "dens = record.sum(-1)\n",
    "flux = lgca.calc_flux(record)\n",
    "v = np.divide(flux, dens[..., None], where=dens[..., None]>0, out=np.zeros_like(flux))\n",
    "speed = np.linalg.norm(v, axis=-1)\n",
    "mean_v = np.mean(speed[dens>0])\n",
    "#v = flux\n",
    "nb_v = lgca.nb_sum(v)\n",
    "nb_v_norm = np.linalg.norm(nb_v, axis=-1)\n",
    "\n",
    "corr = np.einsum('...i, ...i', v, nb_v)\n",
    "corr = np.divide(corr, speed, where=speed>0, out=np.zeros_like(corr))\n",
    "corr = np.divide(corr, nb_v_norm, where=nb_v_norm>0, out=np.zeros_like(corr))\n",
    "corr = np.mean(corr[speed>0])\n",
    "mean_speed = lgca.nodes_t[..., :lgca.velocitychannels].sum() / lgca.nodes_t.sum()"
   ]
  },
  {
   "cell_type": "code",
   "execution_count": null,
   "metadata": {},
   "outputs": [],
   "source": [
    "print('Correlations =', corr)\n",
    "print('Mean moving fraction =', mean_speed)\n",
    "print('Speed =', mean_v)"
   ]
  },
  {
   "cell_type": "markdown",
   "metadata": {},
   "source": [
    "## KD cells (no adhesion)"
   ]
  },
  {
   "cell_type": "code",
   "execution_count": null,
   "metadata": {},
   "outputs": [],
   "source": [
    "lgca = get_lgca(interaction='wetting', beta=0, alpha=5, gamma=0, bc='pbc', density=mean_dens, restchannels=restc, nodes=nodes)\n",
    "lgca.n_crit = 20"
   ]
  },
  {
   "cell_type": "code",
   "execution_count": null,
   "metadata": {},
   "outputs": [],
   "source": [
    "lgca.timeevo(record=True)"
   ]
  },
  {
   "cell_type": "code",
   "execution_count": null,
   "metadata": {},
   "outputs": [],
   "source": [
    "record = np.moveaxis(lgca.nodes_t, 0, 2)\n",
    "dens = record.sum(-1)\n",
    "flux = lgca.calc_flux(record)\n",
    "v = np.divide(flux, dens[..., None], where=dens[..., None]>0, out=np.zeros_like(flux))\n",
    "speed = np.linalg.norm(v, axis=-1)\n",
    "mean_v = np.mean(speed[dens>0])\n",
    "#v = flux\n",
    "nb_v = lgca.nb_sum(v)\n",
    "nb_v_norm = np.linalg.norm(nb_v, axis=-1)\n",
    "\n",
    "corr = np.einsum('...i, ...i', v, nb_v)\n",
    "corr = np.divide(corr, speed, where=speed>0, out=np.zeros_like(corr))\n",
    "corr = np.divide(corr, nb_v_norm, where=nb_v_norm>0, out=np.zeros_like(corr))\n",
    "corr = np.mean(corr[speed>0])\n",
    "mean_speed = lgca.nodes_t[..., :lgca.velocitychannels].sum() / lgca.nodes_t.sum()"
   ]
  },
  {
   "cell_type": "code",
   "execution_count": null,
   "metadata": {},
   "outputs": [],
   "source": [
    "print('Correlations =', corr)\n",
    "print('Mean moving fraction =', mean_speed)\n",
    "print('Speed =', mean_v)"
   ]
  },
  {
   "cell_type": "markdown",
   "metadata": {},
   "source": [
    "# Full parameter scan"
   ]
  },
  {
   "cell_type": "code",
   "execution_count": 3,
   "metadata": {},
   "outputs": [],
   "source": [
    "import numpy as np\n",
    "import matplotlib.pyplot as plt\n",
    "from lgca import get_lgca\n",
    "#path = 'raw_configs/large_param_scan/'\n",
    "path = '/mnt/data/simon/friedl_paper_raw_data/friedl_project/draft2/large_scan/'\n",
    "betas = np.linspace(0, 10, 51)\n",
    "ecms = np.linspace(0, 1, 51)\n",
    "N = 10\n",
    "l = 50\n",
    "l_spheroid = 2\n",
    "ecmdens = 0\n",
    "dims = (l, l)\n",
    "tmax = 100\n",
    "restc = 3\n",
    "rho_0 = 3\n",
    "nodes = np.zeros((l, l, restc+6), dtype=bool)\n",
    "nodes[..., :l_spheroid, -rho_0:] = 1\n",
    "nodes_nt = np.empty((N, tmax, dims[0], dims[1], 6+restc), dtype=bool)\n",
    "\n",
    "lgca = get_lgca(geometry='hex', interaction='wetting', beta=10., alpha=0, gamma=10, bc='rbc', density=0, restchannels=restc,\n",
    "                nodes=nodes, rho_0=rho_0)\n",
    "lgca.r_b = .03\n",
    "lgca.spheroid = np.zeros_like(lgca.cell_density, dtype=bool)\n",
    "lgca.spheroid[lgca.r_int:-lgca.r_int, :lgca.r_int+l_spheroid] = 1\n",
    "lgca.ecm = (np.random.random(lgca.spheroid.shape) < ecmdens) & np.invert(lgca.spheroid)\n",
    "np.savez(path + 'parameters.npz', betas=betas, ecms=ecms, runs=N, l=l, tmax=tmax, restc=restc, l_spheroid=1, spheroid=lgca.spheroid,\n",
    "         r_b=lgca.r_b, gamma=lgca.gamma)"
   ]
  },
  {
   "cell_type": "code",
   "execution_count": 4,
   "metadata": {},
   "outputs": [],
   "source": [
    "i = 0\n",
    "for beta in betas:\n",
    "    lgca.beta = beta\n",
    "    j = 0\n",
    "    for ecmdens in ecms:\n",
    "        for k in range(N):\n",
    "            lgca.init_nodes(nodes=nodes)\n",
    "            lgca.ecm = (np.random.random(lgca.spheroid.shape) < ecmdens) & np.invert(lgca.spheroid)\n",
    "            lgca.timeevo(tmax//4, recorddens=False, showprogress=False)\n",
    "            lgca.timeevo(tmax-1, recorddens=False, record=True, showprogress=False)\n",
    "            nodes_nt[k] = lgca.nodes_t\n",
    "        \n",
    "        j += 1\n",
    "        np.save(path+'nodes_nt_beta{:.1f}_ecm{:.2f}.npy'.format(beta, ecmdens), nodes_nt)\n",
    "        \n",
    "        \n",
    "    i += 1 "
   ]
  },
  {
   "cell_type": "code",
   "execution_count": null,
   "metadata": {},
   "outputs": [],
   "source": []
  }
 ],
 "metadata": {
  "kernelspec": {
   "display_name": "Python 3",
   "language": "python",
   "name": "python3"
  },
  "language_info": {
   "codemirror_mode": {
    "name": "ipython",
    "version": 3
   },
   "file_extension": ".py",
   "mimetype": "text/x-python",
   "name": "python",
   "nbconvert_exporter": "python",
   "pygments_lexer": "ipython3",
   "version": "3.7.3"
  }
 },
 "nbformat": 4,
 "nbformat_minor": 2
}
