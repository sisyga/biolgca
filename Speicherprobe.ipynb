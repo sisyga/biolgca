{
 "cells": [
  {
   "cell_type": "markdown",
   "metadata": {},
   "source": [
    "import numpy as np\n",
    "import matplotlib.pyplot as plt\n",
    "from tempfile import TemporaryFile\n",
    "\n",
    "para1 = 1\n",
    "para2 = 100\n",
    "para3 = 250\n",
    "\n",
    "arr = [1,2,5,7,11]\n",
    "\n",
    "print(arr)"
   ]
  },
  {
   "cell_type": "markdown",
   "metadata": {},
   "source": [
    "#speichern von arrays\n",
    "np.save('korb', arr)\n",
    "\n",
    "#speichern von Parametern (mit 'namen')\n",
    "np.savez('parakorb', p1=para1, p3=para3)   #macht dictionary draus!\n",
    "\n",
    "#TODO: Pfade einbauen"
   ]
  },
  {
   "cell_type": "markdown",
   "metadata": {},
   "source": [
    "#laden\n",
    "korbarray = np.load('korb'+'.npy')\n",
    "parasammlung = np.load('parakorb'+'.npz')\n",
    "\n",
    "#Ausgabe Namensliste\n",
    "print(parasammlung.files)\n",
    "\n",
    "#Ausgabe arrays\n",
    "print(korbarray)\n",
    "#Ausgabe spezifischer Paras\n",
    "print(parasammlung['p1'])\n",
    "print(parasammlung['p3'])\n",
    "\n",
    "#VORSICHT\n",
    "parameter1, parameter2 = parasammlung\n",
    "print(parameter1)\n",
    "print(parameter2)\n",
    "\n",
    "print(parasammlung[parameter1])"
   ]
  },
  {
   "cell_type": "code",
   "execution_count": 1,
   "metadata": {},
   "outputs": [],
   "source": [
    "from lgca import get_lgca\n",
    "from lgca.helpers import *\n",
    "import numpy as np\n",
    "import matplotlib.pyplot as plt\n",
    "import pathlib\n",
    "\n",
    "\n",
    "# Paraliste:\n",
    "timesteps = 2\n",
    "dim = 1\n",
    "dens = 1\n",
    "rc = 200\n",
    "birthrate = 0.5\n",
    "deathrate = 0.02\n",
    "\n",
    "# Ausgabe aller Indizes\n",
    "ausgabe = False\n",
    "saving = True\n",
    "id = 999\n",
    "saving_data = True\n",
    "saving_entropies = False\n"
   ]
  },
  {
   "cell_type": "code",
   "execution_count": 2,
   "metadata": {},
   "outputs": [
    {
     "name": "stdout",
     "output_type": "stream",
     "text": [
      "standard deviation set to =  0.1\n",
      "Progress: [####################] 100% Done...\n"
     ]
    }
   ],
   "source": [
    "# Durchlauf\n",
    "lgca= get_lgca(ib=True, geometry='lin', interaction='inheritance', bc='reflecting',\\\n",
    "               density = dens, dims = dim, r_b = birthrate, variation = False, restchannels = rc ,r_d = deathrate)\n",
    "lgca.timeevo(timesteps, record=True)\n",
    "\n"
   ]
  },
  {
   "cell_type": "markdown",
   "metadata": {},
   "source": [
    "DATEN SPEICHERN:"
   ]
  },
  {
   "cell_type": "code",
   "execution_count": 3,
   "metadata": {},
   "outputs": [],
   "source": [
    "if saving_data:\n",
    "    np.save('saved_data/' + 'props_t id=' + str(id), lgca.props_t)\n",
    "    np.savez('saved_data/' + 'Parameter id=' + str(id), density = lgca.density, restchannels = lgca.restchannels,\\\n",
    "             velocitychannels=lgca.l, kappa=lgca.K, rb=lgca.r_b, rd=lgca.r_d, m=lgca.r_int)\n",
    "if saving_entropies:\n",
    "    np.savez('saved_data/' + 'Entropies id=' + str(id), \\\n",
    "             shan=entropies(lgca.props_t,1), simpson=entropies(lgca.props_t,1.5), gini=entropies(lgca.props_t,2))"
   ]
  },
  {
   "cell_type": "markdown",
   "metadata": {},
   "source": [
    "LADEN DER DATEN:"
   ]
  },
  {
   "cell_type": "code",
   "execution_count": 4,
   "metadata": {
    "scrolled": true
   },
   "outputs": [],
   "source": [
    "# parasammlung = np.load('saved_data/' + 'Parameter id=0'+'.npz')\n",
    "\n",
    "# print(parasammlung.files)\n",
    "# print(parasammlung['density'])\n",
    "# print(parasammlung['restchannels'])\n",
    "# print(parasammlung['velocitychannels'])\n",
    "# print(parasammlung['kappa'])\n",
    "# print(parasammlung['m'])\n",
    "\n",
    "# propst = np.load('saved_data/' + 'props_t id=0' +'.npy')\n",
    "# print(propst)\n",
    "\n",
    "# entropies = np.load('saved_data/' + 'Entropies id=0'+'.npz')\n",
    "# sh, si, gi = entropies\n",
    "# print(entropies[sh], entropies[si], entropies[gi])"
   ]
  },
  {
   "cell_type": "code",
   "execution_count": 5,
   "metadata": {},
   "outputs": [
    {
     "data": {
      "image/png": "[encoded data removed]",
      "text/plain": [
       "<Figure size 640x480 with 1 Axes>"
      ]
     },
     "metadata": {},
     "output_type": "display_data"
    },
    {
     "ename": "NameError",
     "evalue": "name 'plt_hill_together' is not defined",
     "output_type": "error",
     "traceback": [
      "\u001b[1;31m---------------------------------------------------------------------------\u001b[0m",
      "\u001b[1;31mNameError\u001b[0m                                 Traceback (most recent call last)",
      "\u001b[1;32m<ipython-input-5-bd9fb8701a9d>\u001b[0m in \u001b[0;36m<module>\u001b[1;34m\u001b[0m\n\u001b[0;32m      1\u001b[0m \u001b[0mplot_entropies_together\u001b[0m\u001b[1;33m(\u001b[0m\u001b[0mlgca\u001b[0m\u001b[1;33m.\u001b[0m\u001b[0mprops_t\u001b[0m\u001b[1;33m,\u001b[0m \u001b[0mid\u001b[0m\u001b[1;33m=\u001b[0m\u001b[0mid\u001b[0m\u001b[1;33m,\u001b[0m \u001b[0msave\u001b[0m\u001b[1;33m=\u001b[0m\u001b[0msaving\u001b[0m\u001b[1;33m)\u001b[0m\u001b[1;33m\u001b[0m\u001b[1;33m\u001b[0m\u001b[0m\n\u001b[1;32m----> 2\u001b[1;33m \u001b[0mplt_hill_together\u001b[0m\u001b[1;33m(\u001b[0m\u001b[0mlgca\u001b[0m\u001b[1;33m.\u001b[0m\u001b[0mprops_t\u001b[0m\u001b[1;33m,\u001b[0m \u001b[0mid\u001b[0m\u001b[1;33m=\u001b[0m\u001b[0mid\u001b[0m\u001b[1;33m,\u001b[0m \u001b[0msave\u001b[0m\u001b[1;33m=\u001b[0m\u001b[0msaving\u001b[0m\u001b[1;33m)\u001b[0m\u001b[1;33m\u001b[0m\u001b[1;33m\u001b[0m\u001b[0m\n\u001b[0m",
      "\u001b[1;31mNameError\u001b[0m: name 'plt_hill_together' is not defined"
     ]
    },
    {
     "data": {
      "text/plain": [
       "<Figure size 640x480 with 0 Axes>"
      ]
     },
     "metadata": {},
     "output_type": "display_data"
    }
   ],
   "source": [
    "plot_entropies_together(lgca.props_t, id=id, save=saving)\n",
    "plt_hill_together(lgca.props_t, id=id, save=saving)"
   ]
  },
  {
   "cell_type": "code",
   "execution_count": null,
   "metadata": {},
   "outputs": [],
   "source": [
    "%matplotlib notebook\n",
    "lgca.bar_stacked_relative(save = saving, id = id)"
   ]
  },
  {
   "cell_type": "code",
   "execution_count": null,
   "metadata": {},
   "outputs": [],
   "source": []
  }
 ],
 "metadata": {
  "celltoolbar": "Raw Cell Format",
  "kernelspec": {
   "display_name": "Python 3",
   "language": "python",
   "name": "python3"
  },
  "language_info": {
   "codemirror_mode": {
    "name": "ipython",
    "version": 3
   },
   "file_extension": ".py",
   "mimetype": "text/x-python",
   "name": "python",
   "nbconvert_exporter": "python",
   "pygments_lexer": "ipython3",
   "version": "3.7.1"
  }
 },
 "nbformat": 4,
 "nbformat_minor": 2
}
