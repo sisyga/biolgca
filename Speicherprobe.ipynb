{
 "cells": [
  {
   "cell_type": "code",
   "execution_count": 1,
   "metadata": {},
   "outputs": [],
   "source": [
    "from lgca import get_lgca\n",
    "from lgca.helpers import *\n",
    "import numpy as np\n",
    "import matplotlib.pyplot as plt\n",
    "import pathlib\n",
    "%matplotlib notebook\n",
    "\n",
    "# Paraliste:\n",
    "timesteps = 1500\n",
    "dim = 3\n",
    "dens = 1\n",
    "rc = 20\n",
    "birthrate = 0.5\n",
    "deathrate = 0.02\n",
    "\n",
    "# Ausgabe aller Indizes\n",
    "ausgabe = False\n",
    "saving = False\n",
    "id = 711\n",
    "saving_data = False\n",
    "saving_entropies = False\n",
    "saving_plots = False\n"
   ]
  },
  {
   "cell_type": "code",
   "execution_count": 2,
   "metadata": {},
   "outputs": [
    {
     "name": "stdout",
     "output_type": "stream",
     "text": [
      "standard deviation set to =  0.1\n",
      "\r",
      "Progress: [####################] 100% Done...\r\n"
     ]
    }
   ],
   "source": [
    "# Durchlauf\n",
    "lgca= get_lgca(ib=True, geometry='lin', interaction='inheritance', bc='reflecting',\\\n",
    "               density = dens, dims = dim, r_b = birthrate, variation = False, restchannels = rc ,r_d = deathrate)\n",
    "lgca.timeevo_until_hom(record=True)\n",
    "\n"
   ]
  },
  {
   "cell_type": "markdown",
   "metadata": {},
   "source": [
    "DATEN SPEICHERN:"
   ]
  },
  {
   "cell_type": "code",
   "execution_count": 3,
   "metadata": {},
   "outputs": [],
   "source": [
    "if saving_data:\n",
    "    np.save('saved_data/' + 'props_t id=' + str(id), lgca.props_t)\n",
    "    np.savez('saved_data/' + 'Parameter id=' + str(id), density = lgca.density, restchannels = lgca.restchannels,\\\n",
    "             velocitychannels=lgca.l, kappa=lgca.K, rb=lgca.r_b, rd=lgca.r_d, m=lgca.r_int)\n",
    "if saving_entropies:\n",
    "    np.savez('saved_data/' + 'Entropies id=' + str(id), \\\n",
    "             shan=entropies(lgca.props_t,1), simpson=entropies(lgca.props_t,1.5), gini=entropies(lgca.props_t,2))\n",
    "\n",
    "\n",
    "\n"
   ]
  },
  {
   "cell_type": "markdown",
   "metadata": {},
   "source": [
    "LADEN DER DATEN:"
   ]
  },
  {
   "cell_type": "code",
   "execution_count": 4,
   "metadata": {
    "scrolled": true
   },
   "outputs": [],
   "source": [
    "# parasammlung = np.load('saved_data/' + 'Parameter id=0'+'.npz')\n",
    "\n",
    "# print(parasammlung.files)\n",
    "# print(parasammlung['density'])\n",
    "# print(parasammlung['restchannels'])\n",
    "# print(parasammlung['velocitychannels'])\n",
    "# print(parasammlung['kappa'])\n",
    "# print(parasammlung['m'])\n",
    "\n",
    "# propst = np.load('saved_data/' + 'props_t id=0' +'.npy')\n",
    "# print(propst)\n",
    "\n",
    "# entropies = np.load('saved_data/' + 'Entropies id=0'+'.npz')\n",
    "# sh, si, gi = entropies\n",
    "# print(entropies[sh], entropies[si], entropies[gi])"
   ]
  },
  {
   "cell_type": "markdown",
   "metadata": {},
   "source": [
    "PLOTS:"
   ]
  },
  {
   "cell_type": "code",
   "execution_count": null,
   "metadata": {},
   "outputs": [
    {
     "name": "stdout",
     "output_type": "stream",
     "text": [
      "erste Schleife fertig, nun plotbar\n",
      "bin schon bei c=  0\n",
      "bin schon bei c=  1\n",
      "bin schon bei c=  2\n",
      "bin schon bei c=  3\n",
      "bin schon bei c=  4\n",
      "bin schon bei c=  5\n",
      "bin schon bei c=  6\n",
      "bin schon bei c=  7\n",
      "bin schon bei c=  8\n",
      "bin schon bei c=  9\n",
      "bin schon bei c=  10\n",
      "bin schon bei c=  11\n",
      "bin schon bei c=  12\n",
      "bin schon bei c=  13\n",
      "bin schon bei c=  14\n",
      "bin schon bei c=  15\n",
      "bin schon bei c=  16\n",
      "bin schon bei c=  17\n",
      "bin schon bei c=  18\n",
      "bin schon bei c=  19\n",
      "bin schon bei c=  20\n",
      "bin schon bei c=  21\n",
      "bin schon bei c=  22\n",
      "bin schon bei c=  23\n",
      "bin schon bei c=  24\n",
      "bin schon bei c=  25\n",
      "bin schon bei c=  26\n",
      "bin schon bei c=  27\n",
      "bin schon bei c=  28\n",
      "bin schon bei c=  29\n"
     ]
    }
   ],
   "source": [
    "lgca.bar_stacked_relative()\n"
   ]
  },
  {
   "cell_type": "code",
   "execution_count": null,
   "metadata": {},
   "outputs": [],
   "source": [
    "plot_entropies_together(lgca.props_t, id=id, save=saving_plots)\n"
   ]
  },
  {
   "cell_type": "code",
   "execution_count": null,
   "metadata": {},
   "outputs": [],
   "source": [
    "plot_hill_together(lgca.props_t, id=id, save=saving_plots)\n"
   ]
  },
  {
   "cell_type": "code",
   "execution_count": null,
   "metadata": {},
   "outputs": [],
   "source": [
    "plot_popsize(lgca.props_t, save=saving, id=id)"
   ]
  },
  {
   "cell_type": "code",
   "execution_count": null,
   "metadata": {},
   "outputs": [],
   "source": [
    "lgca.spatial_plot()"
   ]
  }
 ],
 "metadata": {
  "celltoolbar": "Raw Cell Format",
  "kernelspec": {
   "display_name": "Python 3",
   "language": "python",
   "name": "python3"
  },
  "language_info": {
   "codemirror_mode": {
    "name": "ipython",
    "version": 3
   },
   "file_extension": ".py",
   "mimetype": "text/x-python",
   "name": "python",
   "nbconvert_exporter": "python",
   "pygments_lexer": "ipython3",
   "version": "3.7.1"
  }
 },
 "nbformat": 4,
 "nbformat_minor": 2
}
