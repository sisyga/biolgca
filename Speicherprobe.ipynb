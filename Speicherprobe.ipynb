{
 "cells": [
  {
   "cell_type": "code",
   "execution_count": 13,
   "metadata": {},
   "outputs": [],
   "source": [
    "from lgca import get_lgca\n",
    "from lgca.helpers import *\n",
    "import numpy as np\n",
    "import matplotlib.pyplot as plt\n",
    "import pathlib\n",
    "import time\n",
    "%matplotlib notebook\n",
    "\n",
    "# Paraliste:\n",
    "# timesteps = 1500\n",
    "dim = 90\n",
    "dens = 1\n",
    "rc = 0\n",
    "birthrate = 0.5\n",
    "deathrate = 0.02\n",
    "\n",
    "# Ausgabe aller Indizes\n",
    "ausgabe = False\n",
    "saving = True\n",
    "id = 'mullerbig2'\n",
    "saving_data = False\n",
    "saving_entropies = False\n",
    "saving_plots = False\n"
   ]
  },
  {
   "cell_type": "code",
   "execution_count": 14,
   "metadata": {},
   "outputs": [
    {
     "name": "stdout",
     "output_type": "stream",
     "text": [
      "standard deviation set to =  0.1\n",
      "\r",
      "Progress: [####################] 100% Done...\r\n"
     ]
    }
   ],
   "source": [
    "# Durchlauf\n",
    "lgca= get_lgca(ib=True, geometry='lin', interaction='inheritance', bc='reflecting',\\\n",
    "               density = dens, dims = dim, r_b = birthrate, variation = False, restchannels = rc ,r_d = deathrate)\n",
    "lgca.timeevo_until_hom(record=True)\n",
    "\n"
   ]
  },
  {
   "cell_type": "markdown",
   "metadata": {},
   "source": [
    "DATEN SPEICHERN:"
   ]
  },
  {
   "cell_type": "code",
   "execution_count": 3,
   "metadata": {},
   "outputs": [],
   "source": [
    "if saving_data:\n",
    "    np.save('saved_data/' + 'props_t id=' + str(id), lgca.props_t)\n",
    "    np.savetxt('saved_data/' + 'liebe.csv', lgca.props_t, fmt='%s')\n",
    "    np.save('saved_data/' + 'nodes_t id=' + str(id), lgca.nodes_t)\n",
    "    np.savez('saved_data/' + 'Parameter id=' + str(id), density = lgca.density, restchannels = lgca.restchannels,\\\n",
    "             dimension=lgca.l, kappa=lgca.K, rb=lgca.r_b, rd=lgca.r_d, m=lgca.r_int)\n",
    "if saving_entropies:\n",
    "    np.savez('saved_data/' + 'Entropies id=' + str(id), \\\n",
    "             shan=entropies(lgca.props_t,1), simpson=entropies(lgca.props_t,1.5), gini=entropies(lgca.props_t,2))"
   ]
  },
  {
   "cell_type": "markdown",
   "metadata": {},
   "source": [
    "LADEN DER DATEN:"
   ]
  },
  {
   "cell_type": "code",
   "execution_count": 4,
   "metadata": {
    "scrolled": true
   },
   "outputs": [],
   "source": [
    "# parasammlung = np.load('saved_data/' + 'Parameter id=0'+'.npz')\n",
    "\n",
    "# print(parasammlung.files)\n",
    "# print(parasammlung['density'])\n",
    "# print(parasammlung['restchannels'])\n",
    "# print(parasammlung['velocitychannels'])\n",
    "# print(parasammlung['kappa'])\n",
    "# print(parasammlung['m'])\n",
    "\n",
    "# propst = np.load('saved_data/' + 'props_t id=0' +'.npy')\n",
    "# print(propst)\n",
    "\n",
    "# entropies = np.load('saved_data/' + 'Entropies id=0'+'.npz')\n",
    "# sh, si, gi = entropies\n",
    "# print(entropies[sh], entropies[si], entropies[gi])"
   ]
  },
  {
   "cell_type": "markdown",
   "metadata": {},
   "source": [
    "PLOTS:"
   ]
  },
  {
   "cell_type": "code",
   "execution_count": 5,
   "metadata": {},
   "outputs": [],
   "source": [
    "# %matplotlib notebook\n",
    "# # id=99\n",
    "# start = time.time()\n",
    "# bar_stacked_relative(lgca.props_t, id=id, save=saving_plots)\n",
    "# ende = time.time()\n",
    "# print('{:5.3f}s'.format(ende-start))"
   ]
  },
  {
   "cell_type": "code",
   "execution_count": 15,
   "metadata": {},
   "outputs": [
    {
     "name": "stdout",
     "output_type": "stream",
     "text": [
      "Homogen ab  4740\n"
     ]
    }
   ],
   "source": [
    "print('Homogen ab ', len(lgca.props_t))"
   ]
  },
  {
   "cell_type": "code",
   "execution_count": 7,
   "metadata": {},
   "outputs": [],
   "source": [
    "# plot_entropies_together(lgca.props_t, id=id, save=saving_plots)"
   ]
  },
  {
   "cell_type": "code",
   "execution_count": 8,
   "metadata": {},
   "outputs": [],
   "source": [
    "# plot_hill_together(lgca.props_t, id=id, save=saving_plots)\n"
   ]
  },
  {
   "cell_type": "code",
   "execution_count": 16,
   "metadata": {},
   "outputs": [],
   "source": [
    "tend = len(lgca.props_t)\n",
    "maxlab = len(lgca.props_t[0]['num_off'])-1\n",
    "head=','.join([\"family \" + str(x) for x in range(1,maxlab+1) ])\n",
    "pop = np.zeros((tend, maxlab))\n",
    "for i in range (0,tend):\n",
    "    for c in range(0,maxlab):\n",
    "        pop[i,c] = lgca.props_t[i]['num_off'][c+1]\n",
    "# maxlab\n",
    "# print(head)\n",
    "# "
   ]
  },
  {
   "cell_type": "code",
   "execution_count": 17,
   "metadata": {},
   "outputs": [],
   "source": [
    "# print(pop)\n",
    "np.savetxt('saved_data/' + str(id) + '.csv', pop, fmt='%s', delimiter=',', header=head, comments='')\n",
    "\n",
    "# lgca.spatial_plot()"
   ]
  },
  {
   "cell_type": "code",
   "execution_count": 18,
   "metadata": {},
   "outputs": [],
   "source": [
    "np.save('saved_data/' + 'mullerbig2', lgca.props_t)\n",
    "\n",
    "# lgca.spatial_plot(props_t = lgca.props_t, nodes_t=lgca.nodes_t, restchannels = lgca.restchannels, velocitychannels=lgca.velocitychannels)"
   ]
  },
  {
   "cell_type": "code",
   "execution_count": 12,
   "metadata": {},
   "outputs": [],
   "source": [
    "# propst = np.load('saved_data/' + 'props_t id=1211' +'.npy')\n",
    "# print(propst)\n",
    "# print(len(propst))\n",
    "# lgca.props_t\n"
   ]
  }
 ],
 "metadata": {
  "celltoolbar": "Raw Cell Format",
  "kernelspec": {
   "display_name": "Python 3",
   "language": "python",
   "name": "python3"
  },
  "language_info": {
   "codemirror_mode": {
    "name": "ipython",
    "version": 3
   },
   "file_extension": ".py",
   "mimetype": "text/x-python",
   "name": "python",
   "nbconvert_exporter": "python",
   "pygments_lexer": "ipython3",
   "version": "3.7.1"
  }
 },
 "nbformat": 4,
 "nbformat_minor": 2
}
