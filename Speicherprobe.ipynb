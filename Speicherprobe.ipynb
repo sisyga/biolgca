{
 "cells": [
  {
   "cell_type": "code",
   "execution_count": 1,
   "metadata": {},
   "outputs": [],
   "source": [
    "from lgca import get_lgca\n",
    "from lgca.helpers import *\n",
    "import numpy as np\n",
    "import matplotlib.pyplot as plt\n",
    "import pathlib\n",
    "\n",
    "\n",
    "# Paraliste:\n",
    "timesteps = 1500\n",
    "dim = 1\n",
    "dens = 1\n",
    "rc = 20\n",
    "birthrate = 0.5\n",
    "deathrate = 0.2\n",
    "\n",
    "# Ausgabe aller Indizes\n",
    "ausgabe = False\n",
    "saving = False\n",
    "id = 711\n",
    "saving_data = False\n",
    "saving_entropies = False\n",
    "saving_plots = False\n"
   ]
  },
  {
   "cell_type": "code",
   "execution_count": 2,
   "metadata": {},
   "outputs": [
    {
     "name": "stdout",
     "output_type": "stream",
     "text": [
      "standard deviation set to =  0.1\n",
      "Progress: [####################] 100% Done...\n"
     ]
    }
   ],
   "source": [
    "# Durchlauf\n",
    "lgca= get_lgca(ib=True, geometry='lin', interaction='inheritance', bc='reflecting',\\\n",
    "               density = dens, dims = dim, r_b = birthrate, variation = False, restchannels = rc ,r_d = deathrate)\n",
    "lgca.timeevo(timesteps, record=True)\n",
    "\n"
   ]
  },
  {
   "cell_type": "markdown",
   "metadata": {},
   "source": [
    "DATEN SPEICHERN:"
   ]
  },
  {
   "cell_type": "code",
   "execution_count": null,
   "metadata": {},
   "outputs": [],
   "source": [
    "if saving_data:\n",
    "    np.save('saved_data/' + 'props_t id=' + str(id), lgca.props_t)\n",
    "    np.savez('saved_data/' + 'Parameter id=' + str(id), density = lgca.density, restchannels = lgca.restchannels,\\\n",
    "             velocitychannels=lgca.l, kappa=lgca.K, rb=lgca.r_b, rd=lgca.r_d, m=lgca.r_int)\n",
    "if saving_entropies:\n",
    "    np.savez('saved_data/' + 'Entropies id=' + str(id), \\\n",
    "             shan=entropies(lgca.props_t,1), simpson=entropies(lgca.props_t,1.5), gini=entropies(lgca.props_t,2))\n",
    "\n",
    "tmax, l, _ = lgca.nodes_t.shape\n",
    "# print('tmax', tmax)\n",
    "ancs = np.arange(0, lgca.maxlabel_init.astype(int))\n",
    "# print(ancs)\n",
    "val = np.zeros((tmax, lgca.maxlabel_init.astype(int)))\n",
    "# print('maxlab', lgca.maxlabel_init)\n",
    "for t in range(0, tmax):\n",
    "    c_sum = 0\n",
    "    for c in ancs:\n",
    "        val[t, c] = lgca.props_t[t]['num_off'][c+1]\n",
    "    c_sum = sum(lgca.props_t[t]['num_off'][1:])\n",
    "#     print('csum', c_sum)\n",
    "    if c_sum != 0:\n",
    "        val[t] = val[t] / c_sum\n",
    "# print('val', val)\n",
    "\n",
    "plt.figure(num=None)\n",
    "width = 1\n",
    "# print('val', val)\n",
    "ind = np.arange(0, tmax)\n",
    "# b = np.zeros(tmax)\n",
    "for c in ancs:\n",
    "    b = np.zeros(tmax)\n",
    "    for i in range(0, c):\n",
    "        b = b + val[:, i]\n",
    "    plt.bar(ind, val[:, c], width, bottom=b, label=c)\n",
    "plt.ylabel(' frequency of families')\n",
    "plt.xlabel('timesteps')\n",
    "# plt.title('Ratio of offsprings')\n",
    "plt.xlim(0, tmax-0.5)\n",
    "plt.ylim(0,1)\n",
    "if tmax <= 15:\n",
    "    plt.xticks(np.arange(0, tmax, 1))\n",
    "elif tmax <= 100:\n",
    "    plt.xticks(np.arange(0, tmax, 5))\n",
    "elif tmax >= 700:\n",
    "    plt.xticks(np.arange(0, tmax, 100))\n",
    "elif tmax >= 100:\n",
    "    plt.xticks(np.arange(0, tmax, 50))\n",
    "plt.tight_layout()\n",
    "plt.show()    \n",
    "\n",
    "\n"
   ]
  },
  {
   "cell_type": "markdown",
   "metadata": {},
   "source": [
    "LADEN DER DATEN:"
   ]
  },
  {
   "cell_type": "code",
   "execution_count": null,
   "metadata": {
    "scrolled": true
   },
   "outputs": [],
   "source": [
    "lgca.bar_stacked_relative()\n",
    "# parasammlung = np.load('saved_data/' + 'Parameter id=0'+'.npz')\n",
    "\n",
    "# print(parasammlung.files)\n",
    "# print(parasammlung['density'])\n",
    "# print(parasammlung['restchannels'])\n",
    "# print(parasammlung['velocitychannels'])\n",
    "# print(parasammlung['kappa'])\n",
    "# print(parasammlung['m'])\n",
    "\n",
    "# propst = np.load('saved_data/' + 'props_t id=0' +'.npy')\n",
    "# print(propst)\n",
    "\n",
    "# entropies = np.load('saved_data/' + 'Entropies id=0'+'.npz')\n",
    "# sh, si, gi = entropies\n",
    "# print(entropies[sh], entropies[si], entropies[gi])"
   ]
  },
  {
   "cell_type": "code",
   "execution_count": null,
   "metadata": {},
   "outputs": [],
   "source": [
    "# %matplotlib notebook\n",
    "# plot_entropies_together(lgca.props_t, id=id, save=saving_plots)\n",
    "# plot_hill_together(lgca.props_t, id=id, save=saving_plots)\n",
    "# lgca.bar_stacked_relative()"
   ]
  },
  {
   "cell_type": "code",
   "execution_count": null,
   "metadata": {},
   "outputs": [],
   "source": [
    "# %matplotlib notebook\n",
    "# lgca.bar_stacked_relative(save = saving, id = id)"
   ]
  },
  {
   "cell_type": "code",
   "execution_count": null,
   "metadata": {},
   "outputs": [],
   "source": [
    "plot_popsize(lgca.props_t, save=saving, id=id)"
   ]
  },
  {
   "cell_type": "code",
   "execution_count": null,
   "metadata": {},
   "outputs": [],
   "source": [
    "# n_bins = 1\n",
    "# x = [[2,4,6],[2,4,6]]\n",
    "\n",
    "# fig, ax1 = plt.subplots(nrows=1, ncols=1)\n",
    "# # print(ax1)\n",
    "# ax1.hist(x, n_bins, normed=1, histtype='bar', stacked=True)"
   ]
  }
 ],
 "metadata": {
  "celltoolbar": "Raw Cell Format",
  "kernelspec": {
   "display_name": "Python 3",
   "language": "python",
   "name": "python3"
  },
  "language_info": {
   "codemirror_mode": {
    "name": "ipython",
    "version": 3
   },
   "file_extension": ".py",
   "mimetype": "text/x-python",
   "name": "python",
   "nbconvert_exporter": "python",
   "pygments_lexer": "ipython3",
   "version": "3.7.1"
  }
 },
 "nbformat": 4,
 "nbformat_minor": 2
}
