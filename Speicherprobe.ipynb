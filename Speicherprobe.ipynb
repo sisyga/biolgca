{
 "cells": [
  {
   "cell_type": "code",
   "execution_count": 1,
   "metadata": {},
   "outputs": [
    {
     "name": "stdout",
     "output_type": "stream",
     "text": [
      "[1, 2, 5, 7, 11]\n"
     ]
    }
   ],
   "source": [
    "import numpy as np\n",
    "import matplotlib.pyplot as plt\n",
    "from tempfile import TemporaryFile\n",
    "\n",
    "para1 = 1\n",
    "para2 = 100\n",
    "para3 = 250\n",
    "\n",
    "arr = [1,2,5,7,11]\n",
    "\n",
    "print(arr)"
   ]
  },
  {
   "cell_type": "code",
   "execution_count": 2,
   "metadata": {},
   "outputs": [],
   "source": [
    "#speichern von arrays\n",
    "np.save('korb', arr)\n",
    "\n",
    "#speichern von Parametern (mit 'namen')\n",
    "np.savez('parakorb', p1=para1, p3=para3)   #macht dictionary draus!\n",
    "\n",
    "#TODO: Pfade einbauen"
   ]
  },
  {
   "cell_type": "code",
   "execution_count": 11,
   "metadata": {},
   "outputs": [
    {
     "name": "stdout",
     "output_type": "stream",
     "text": [
      "['p1', 'p3']\n",
      "[ 1  2  5  7 11]\n",
      "1\n",
      "250\n",
      "p1\n",
      "p3\n",
      "1\n"
     ]
    }
   ],
   "source": [
    "#laden\n",
    "korbarray = np.load('korb'+'.npy')\n",
    "parasammlung = np.load('parakorb'+'.npz')\n",
    "\n",
    "#Ausgabe Namensliste\n",
    "print(parasammlung.files)\n",
    "\n",
    "#Ausgabe arrays\n",
    "print(korbarray)\n",
    "#Ausgabe spezifischer Paras\n",
    "print(parasammlung['p1'])\n",
    "print(parasammlung['p3'])\n",
    "\n",
    "#VORSICHT\n",
    "parameter1, parameter2 = parasammlung\n",
    "print(parameter1)\n",
    "print(parameter2)\n",
    "\n",
    "print(parasammlung[parameter1])"
   ]
  },
  {
   "cell_type": "code",
   "execution_count": null,
   "metadata": {},
   "outputs": [],
   "source": []
  }
 ],
 "metadata": {
  "kernelspec": {
   "display_name": "Python 3",
   "language": "python",
   "name": "python3"
  },
  "language_info": {
   "codemirror_mode": {
    "name": "ipython",
    "version": 3
   },
   "file_extension": ".py",
   "mimetype": "text/x-python",
   "name": "python",
   "nbconvert_exporter": "python",
   "pygments_lexer": "ipython3",
   "version": "3.7.1"
  }
 },
 "nbformat": 4,
 "nbformat_minor": 2
}
