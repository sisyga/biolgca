{
 "cells": [
  {
   "cell_type": "code",
   "execution_count": null,
   "metadata": {},
   "outputs": [],
   "source": [
    "from lgca import get_lgca\n",
    "from lgca.helpers import *\n",
    "import numpy as np\n",
    "import matplotlib.pyplot as plt\n",
    "import time\n",
    "\n"
   ]
  },
  {
   "cell_type": "markdown",
   "metadata": {},
   "source": [
    "Parameterliste festlegen:"
   ]
  },
  {
   "cell_type": "code",
   "execution_count": null,
   "metadata": {},
   "outputs": [],
   "source": [
    "# dim = [60,45,30,15,1]\n",
    "dim = [1,1,1,1,1]\n",
    "\n",
    "dens = 1\n",
    "# rc = [1,2,4,10,178]\n",
    "rc = [1,1,1,1,1]\n",
    "birthrate = 0.5\n",
    "deathrate = 0.02\n",
    "\n",
    "rep = 1\n",
    "# saving = False\n",
    "saving = True\n",
    "# ids = [18060,18045,18030,18015,18001]\n",
    "ids = [0,0,0,0,0]"
   ]
  },
  {
   "cell_type": "markdown",
   "metadata": {},
   "source": [
    "Schleife um Paraliste abzuarbeiten:"
   ]
  },
  {
   "cell_type": "code",
   "execution_count": null,
   "metadata": {},
   "outputs": [],
   "source": [
    "for i in range(len(dim)):\n",
    "    wdh=1\n",
    "    while wdh <= rep:\n",
    "        lgca= get_lgca(ib=True, geometry='lin', interaction='inheritance', bc='reflecting',\\\n",
    "               density = dens, dims = dim[i], r_b = birthrate, variation = False, restchannels = rc[i] ,r_d = deathrate)\n",
    "        id = ids[i]\n",
    "        lgca.timeevo_until_hom(record=True)\n",
    "        %matplotlib notebook\n",
    "        start = time.time()\n",
    "        bar_stacked_relative(lgca.props_t, save = saving, id = id)\n",
    "        ende = time.time()\n",
    "        print('{:5.3f}s'.format((ende-start)/3600))\n",
    "        print('timesteps=', len(lgca.props_t))\n",
    "        if saving:\n",
    "            np.save('saved_data/' + 'props_t id=' + str(id), lgca.props_t)\n",
    "            np.save('saved_data/' + 'nodes_t id=' + str(id), lgca.nodes_t)\n",
    "            np.savez('saved_data/' + 'Parameter id=' + str(id), density = lgca.density, restchannels = lgca.restchannels,\\\n",
    "            dimension=lgca.l, kappa=lgca.K, rb=lgca.r_b, rd=lgca.r_d, m=lgca.r_int)\n",
    "        plot_popsize(lgca.props_t, save=saving, id=id)\n",
    "        plot_sh_gi_hh(lgca.props_t, save=saving, id=id)\n",
    "\n",
    "        wdh = wdh +1"
   ]
  },
  {
   "cell_type": "code",
   "execution_count": null,
   "metadata": {},
   "outputs": [],
   "source": [
    "# plot_popsize(lgca.props_t, save=saving, id=id)"
   ]
  },
  {
   "cell_type": "code",
   "execution_count": null,
   "metadata": {},
   "outputs": [],
   "source": [
    "# plot_sh_gi_hh(lgca.props_t, save=saving, id=id)\n"
   ]
  },
  {
   "cell_type": "code",
   "execution_count": null,
   "metadata": {},
   "outputs": [],
   "source": [
    "# plot_hill_together(lgca)"
   ]
  },
  {
   "cell_type": "code",
   "execution_count": null,
   "metadata": {},
   "outputs": [],
   "source": [
    "# lgca.bar_stacked_relative()"
   ]
  },
  {
   "cell_type": "code",
   "execution_count": null,
   "metadata": {},
   "outputs": [],
   "source": []
  },
  {
   "cell_type": "code",
   "execution_count": null,
   "metadata": {},
   "outputs": [],
   "source": []
  },
  {
   "cell_type": "code",
   "execution_count": null,
   "metadata": {},
   "outputs": [],
   "source": []
  }
 ],
 "metadata": {
  "kernelspec": {
   "display_name": "Python 3",
   "language": "python",
   "name": "python3"
  },
  "language_info": {
   "codemirror_mode": {
    "name": "ipython",
    "version": 3
   },
   "file_extension": ".py",
   "mimetype": "text/x-python",
   "name": "python",
   "nbconvert_exporter": "python",
   "pygments_lexer": "ipython3",
   "version": "3.7.1"
  }
 },
 "nbformat": 4,
 "nbformat_minor": 2
}
