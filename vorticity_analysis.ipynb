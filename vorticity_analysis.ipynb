{
 "cells": [
  {
   "cell_type": "code",
   "execution_count": 6,
   "metadata": {},
   "outputs": [],
   "source": [
    "from lgca import get_lgca\n",
    "import numpy as np\n",
    "from matplotlib import pyplot as plt\n",
    "%matplotlib notebook\n",
    "#path = 'raw_configs/large_param_scan/'\n",
    "path = '/mnt/data/simon/friedl_paper_raw_data/friedl_project/draft2/large_scan/'\n",
    "params = np.load(path+'parameters.npz')\n",
    "betas = params['betas']\n",
    "ecms = params['ecms']\n",
    "l_spheroid = params['l_spheroid']\n",
    "lb = len(betas)\n",
    "lecm = len(ecms)"
   ]
  },
  {
   "cell_type": "code",
   "execution_count": 7,
   "metadata": {},
   "outputs": [
    {
     "name": "stdout",
     "output_type": "stream",
     "text": [
      "Random walk interaction is used.\n"
     ]
    }
   ],
   "source": [
    "vorts = np.empty((lb, lecm))\n",
    "corrs = np.empty_like(vorts)\n",
    "speeds = np.empty_like(corrs)\n",
    "single_cells = np.empty_like(vorts)\n",
    "mean_speeds = np.empty_like(vorts)\n",
    "\n",
    "for i in range(lb):\n",
    "    beta = betas[i]\n",
    "    for j in range(lecm):\n",
    "        ecmdens = ecms[j]\n",
    "\n",
    "        nodes_nt = np.load(path+'nodes_nt_beta{:.1f}_ecm{:.2f}.npy'.format(beta, ecmdens))\n",
    "        runs, tmax, lx, ly, K = nodes_nt.shape\n",
    "        if i == 0 and j == 0:\n",
    "            lgca = get_lgca(nodes=nodes_nt[0, 0])\n",
    "            lgca.set_r_int(2)\n",
    "\n",
    "        record = np.moveaxis(nodes_nt, 0, -2)\n",
    "        record = np.moveaxis(record, 0, -2)\n",
    "        dens = record.sum(-1)\n",
    "        # single_cell = np.zeros_like(dens)\n",
    "\n",
    "\n",
    "        nbs = lgca.nb_sum(dens)\n",
    "        # single_cell[(nbs == 0) & (dens == 1)] = 1\n",
    "        # single_cell = np.sum(single_cell, axis=(0, 1, -1))\n",
    "        # single_cells[i, j] = single_cell.mean()\n",
    "\n",
    "\n",
    "\n",
    "        flux = lgca.calc_flux(record)\n",
    "        v = np.divide(flux, dens[..., None], where=dens[..., None]>0, out=np.zeros_like(flux))\n",
    "        speed = np.linalg.norm(v, axis=-1)\n",
    "\n",
    "        vort = abs(lgca.calc_vorticity(record))\n",
    "\n",
    "        #mean_v = np.mean(speed[dens>0])\n",
    "        #v = flux\n",
    "        nb_v = lgca.nb_sum(v)\n",
    "        nb_v_norm = np.linalg.norm(nb_v, axis=-1)\n",
    "\n",
    "        corr = np.einsum('...i, ...i', v, nb_v)\n",
    "        corr = np.divide(corr, speed, where=speed>1e-7, out=np.zeros_like(corr))\n",
    "        corr = np.divide(corr, nb_v_norm, where=nb_v_norm>1e-7, out=np.zeros_like(corr))\n",
    "\n",
    "        #corr = np.mean(corr[dens>0])\n",
    "\n",
    "\n",
    "        ind = np.s_[2:-2, l_spheroid:]\n",
    "        vorti = vort[ind]\n",
    "        densi = dens[ind]\n",
    "        nbs = nbs[ind]\n",
    "        single_cell = ((nbs == 0) & (densi == 1))\n",
    "        single_cell = np.sum(single_cell, axis=(0, 1, -1))\n",
    "        single_cells[i, j] = single_cell.mean()\n",
    "        corri = corr[ind]\n",
    "        densi = dens[ind]\n",
    "        speedi = speed[ind]\n",
    "        speeds[i, j] = np.mean(speedi[densi>0])\n",
    "        vorts[i, j] = np.mean(vorti[densi>0])\n",
    "        corrs[i, j] = np.mean(corri[speedi>0])\n",
    "        mean_speeds[i, j] = record[..., :lgca.velocitychannels].sum() / record.sum()\n",
    "\n",
    "                           \n"
   ]
  },
  {
   "cell_type": "code",
   "execution_count": 8,
   "metadata": {},
   "outputs": [],
   "source": [
    "np.savez(path+'observables.npz', glob_speed=speeds, loc_speed=mean_speeds, correlations=corrs, vorticity=vorts,\n",
    "         single_cells=single_cells)\n"
   ]
  },
  {
   "cell_type": "code",
   "execution_count": 1,
   "metadata": {},
   "outputs": [],
   "source": [
    "from lgca import get_lgca\n",
    "import numpy as np\n",
    "from matplotlib import pyplot as plt\n",
    "%matplotlib notebook\n",
    "#path = 'raw_configs/large_param_scan/'\n",
    "#path = '/mnt/data/simon/friedl_paper_raw_data/friedl_project/draft2/isotropic_ecm/'\n",
    "path = '/home/simon/PycharmProjects/biolgca/raw_configs/isotropic_ecm/'\n",
    "params = np.load(path+'parameters.npz')\n",
    "betas = params['betas']\n",
    "alphas = params['alphas']\n",
    "l_spheroid = params['l_spheroid']\n",
    "lb = len(betas)\n",
    "la = len(alphas)"
   ]
  },
  {
   "cell_type": "code",
   "execution_count": 2,
   "metadata": {},
   "outputs": [
    {
     "name": "stdout",
     "output_type": "stream",
     "text": [
      "Random walk interaction is used.\n"
     ]
    }
   ],
   "source": [
    "vorts = np.empty((lb, la))\n",
    "corrs = np.empty_like(vorts)\n",
    "speeds = np.empty_like(corrs)\n",
    "single_cells = np.empty_like(vorts)\n",
    "mean_speeds = np.empty_like(vorts)\n",
    "\n",
    "for i in range(lb):\n",
    "    beta = betas[i]\n",
    "    for j in range(la):\n",
    "        alpha = alphas[j]\n",
    "\n",
    "        nodes_nt = np.load(path+'nodes_nt_beta{:.1f}_alpha{:.2f}.npy'.format(beta, alpha))\n",
    "        runs, tmax, lx, ly, K = nodes_nt.shape\n",
    "        if i == 0 and j == 0:\n",
    "            lgca = get_lgca(nodes=nodes_nt[0, 0])\n",
    "            lgca.set_r_int(2)\n",
    "\n",
    "        record = np.moveaxis(nodes_nt, 0, -2)\n",
    "        record = np.moveaxis(record, 0, -2)\n",
    "        dens = record.sum(-1)\n",
    "        # single_cell = np.zeros_like(dens)\n",
    "\n",
    "\n",
    "        nbs = lgca.nb_sum(dens)\n",
    "        # single_cell[(nbs == 0) & (dens == 1)] = 1\n",
    "        # single_cell = np.sum(single_cell, axis=(0, 1, -1))\n",
    "        # single_cells[i, j] = single_cell.mean()\n",
    "\n",
    "\n",
    "\n",
    "        flux = lgca.calc_flux(record)\n",
    "        v = np.divide(flux, dens[..., None], where=dens[..., None]>0, out=np.zeros_like(flux))\n",
    "        speed = np.linalg.norm(v, axis=-1)\n",
    "\n",
    "        vort = abs(lgca.calc_vorticity(record))\n",
    "\n",
    "        #mean_v = np.mean(speed[dens>0])\n",
    "        #v = flux\n",
    "        nb_v = lgca.nb_sum(v)\n",
    "        nb_v_norm = np.linalg.norm(nb_v, axis=-1)\n",
    "\n",
    "        corr = np.einsum('...i, ...i', v, nb_v)\n",
    "        corr = np.divide(corr, speed, where=speed>1e-7, out=np.zeros_like(corr))\n",
    "        corr = np.divide(corr, nb_v_norm, where=nb_v_norm>1e-7, out=np.zeros_like(corr))\n",
    "\n",
    "        #corr = np.mean(corr[dens>0])\n",
    "\n",
    "\n",
    "        ind = np.s_[2:-2, l_spheroid:]\n",
    "        vorti = vort[ind]\n",
    "        densi = dens[ind]\n",
    "        nbs = nbs[ind]\n",
    "        single_cell = ((nbs == 0) & (densi == 1))\n",
    "        single_cell = np.sum(single_cell, axis=(0, 1, -1))\n",
    "        single_cells[i, j] = single_cell.mean()\n",
    "        corri = corr[ind]\n",
    "        densi = dens[ind]\n",
    "        speedi = speed[ind]\n",
    "        speeds[i, j] = np.mean(speedi[densi>0])\n",
    "        vorts[i, j] = np.mean(vorti[densi>0])\n",
    "        corrs[i, j] = np.mean(corri[speedi>0])\n",
    "        mean_speeds[i, j] = record[..., :lgca.velocitychannels].sum() / record.sum()\n"
   ]
  },
  {
   "cell_type": "code",
   "execution_count": 3,
   "metadata": {},
   "outputs": [],
   "source": [
    "np.savez(path+'observables.npz', glob_speed=speeds, loc_speed=mean_speeds, correlations=corrs, vorticity=vorts,\n",
    "         single_cells=single_cells)"
   ]
  },
  {
   "cell_type": "code",
   "execution_count": null,
   "metadata": {},
   "outputs": [],
   "source": []
  }
 ],
 "metadata": {
  "kernelspec": {
   "display_name": "Python 3",
   "language": "python",
   "name": "python3"
  },
  "language_info": {
   "codemirror_mode": {
    "name": "ipython",
    "version": 3
   },
   "file_extension": ".py",
   "mimetype": "text/x-python",
   "name": "python",
   "nbconvert_exporter": "python",
   "pygments_lexer": "ipython3",
   "version": "3.7.3"
  }
 },
 "nbformat": 4,
 "nbformat_minor": 2
}
