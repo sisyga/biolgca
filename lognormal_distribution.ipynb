{
 "cells": [
  {
   "cell_type": "code",
   "execution_count": 25,
   "metadata": {},
   "outputs": [],
   "source": [
    "import numpy as np\n",
    "import matplotlib.pyplot as plt\n",
    "import pathlib\n",
    "import statistics\n",
    "import math\n",
    "import scipy as sp\n",
    "\n",
    "from scipy import stats, optimize, interpolate\n",
    "# from scipy.optimize import curve_fit\n",
    "# from scipy.special import factorial\n",
    "\n",
    "variation01 = '1801'\n",
    "path01 = 'saved_data/pummelzeugs_1/'\n",
    "thom01 = np.load(path01 + variation01 + '_thom.npy')\n",
    "\n",
    "variation02 = '1802'\n",
    "path02 = 'saved_data/pummelzeugs_2/'\n",
    "thom02 = np.load(path02 + variation02 + '_thom.npy')\n",
    "\n",
    "variation45 = '18045'\n",
    "path45 = 'saved_data/pummelzeugs_45/'\n",
    "thom45 = np.load(path45 + variation45 + '_thom.npy')\n",
    "\n",
    "variation60 = '18060'\n",
    "path60 = 'saved_data/pummelzeugs_60/'\n",
    "thom60 = np.load(path60 + variation60 + '_thom.npy')\n",
    "\n",
    "variation90 = '18090'\n",
    "path90 = 'saved_data/pummelzeugs_90/'\n",
    "thom90 = np.load(path90 + variation90 + '_thom.npy')"
   ]
  },
  {
   "cell_type": "code",
   "execution_count": 28,
   "metadata": {},
   "outputs": [
    {
     "name": "stdout",
     "output_type": "stream",
     "text": [
      "54444\n",
      "55\n",
      "(0.593595109881524, 0.6105943770458271, 10.454200986510394)\n",
      "56\n"
     ]
    },
    {
     "data": {
      "image/png": "[encoded data removed]",
      "text/plain": [
       "<Figure size 432x288 with 1 Axes>"
      ]
     },
     "metadata": {
      "needs_background": "light"
     },
     "output_type": "display_data"
    }
   ],
   "source": [
    "#INPUT:\n",
    "thom = thom90\n",
    "int_length = 1000\n",
    "\n",
    "def plot_lognorm_distribution(thom, int_length):\n",
    "    max = thom.max().astype(int)\n",
    "    l = len(thom)\n",
    "\n",
    "    #number of intervalls\n",
    "    print(max)\n",
    "    ni = (max / int_length + 1).astype(int)\n",
    "    print(ni)\n",
    "    count = np.zeros(ni+1)\n",
    "\n",
    "    for entry in thom:\n",
    "        c = (entry / int_length).astype(int)\n",
    "        count[c] += 1\n",
    "    if count.sum() != l:\n",
    "        print('FEHLER!')\n",
    "\n",
    "    fig, ax = plt.subplots()\n",
    "    x = np.arange(0, max + int_length, int_length)\n",
    "    y = count[(x/int_length).astype(int)]\n",
    "    maxy = y.max()\n",
    "    thom = (thom/int_length).astype(int)\n",
    "#     print(thom)\n",
    "\n",
    "    param=sp.stats.lognorm.fit(thom)\n",
    "    print(param)\n",
    "    print(len(x+int_length/2))\n",
    "    xxx = np.arange(0, ni + 1)\n",
    "#     print(xxx)\n",
    "    pdf_fitted = sp.stats.lognorm.pdf(xxx, param[0], loc=param[1], scale=param[2])\n",
    "    maxfit = pdf_fitted.max()\n",
    "#     print(maxfit)\n",
    "    \n",
    "#     sqd = 0\n",
    "#     for i in range(0, len(x+int_length/2)):\n",
    "#         sqd += (y[i] - pdf_fitted[i]*maxy/maxfit)**2\n",
    "#     sqd = math.sqrt(sqd/len(x+int_length/2))\n",
    "#     error = np.array([sqd]*len(x+int_length/2))\n",
    "    plt.bar(x+int_length/2, y, width=int_length, color='grey', alpha=0.5)\n",
    "    plt.plot(x+int_length/2,pdf_fitted*maxy/maxfit,'g-')\n",
    "    error = [1] * len(x+int_length/2)\n",
    "    plt.errorbar(x+int_length/2, pdf_fitted*maxy/maxfit, yerr=error)\n",
    "    \n",
    "plot_lognorm_distribution(thom=thom90, int_length=1000)\n"
   ]
  },
  {
   "cell_type": "code",
   "execution_count": null,
   "metadata": {},
   "outputs": [],
   "source": [
    "#Standardabweichung\n",
    "\n",
    "int_length = 1000\n",
    "thom = (thom90/int_length).astype(int)*int_length\n",
    "# print(thom)\n",
    "stabw = np.std(thom)\n",
    "print(stabw)"
   ]
  },
  {
   "cell_type": "code",
   "execution_count": 1,
   "metadata": {},
   "outputs": [
    {
     "data": {
      "text/plain": [
       "<Figure size 640x480 with 1 Axes>"
      ]
     },
     "metadata": {},
     "output_type": "display_data"
    }
   ],
   "source": [
    "import matplotlib.pyplot as plt\n",
    "import numpy as np\n",
    "\n",
    "x = np.array([1, 2, 3, 4, 5])\n",
    "y = np.power(x, 2) # Effectively y = x**2\n",
    "e = np.array([1,1,1,1,1])\n",
    "\n",
    "plt.errorbar(x, y, e, fmt='o')\n",
    "\n",
    "plt.show()"
   ]
  },
  {
   "cell_type": "code",
   "execution_count": 11,
   "metadata": {},
   "outputs": [
    {
     "data": {
      "image/png": "[encoded data removed]",
      "text/plain": [
       "<Figure size 432x288 with 1 Axes>"
      ]
     },
     "metadata": {
      "needs_background": "light"
     },
     "output_type": "display_data"
    }
   ],
   "source": [
    "import numpy as np\n",
    "import matplotlib.pyplot as plt\n",
    "\n",
    "# example data\n",
    "x = np.arange(0.1, 4, 0.5)\n",
    "y = np.exp(-x)\n",
    "# example error bar values that vary with x-position\n",
    "error = np.array([1]*8)\n",
    "\n",
    "\n",
    "fig, ax0 = plt.subplots()\n",
    "ax0.errorbar(x, y, yerr=error)\n",
    "\n",
    "plt.show()"
   ]
  }
 ],
 "metadata": {
  "kernelspec": {
   "display_name": "Python 3",
   "language": "python",
   "name": "python3"
  },
  "language_info": {
   "codemirror_mode": {
    "name": "ipython",
    "version": 3
   },
   "file_extension": ".py",
   "mimetype": "text/x-python",
   "name": "python",
   "nbconvert_exporter": "python",
   "pygments_lexer": "ipython3",
   "version": "3.7.1"
  }
 },
 "nbformat": 4,
 "nbformat_minor": 2
}
