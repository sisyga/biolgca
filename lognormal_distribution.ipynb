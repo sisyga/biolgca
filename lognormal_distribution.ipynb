{
 "cells": [
  {
   "cell_type": "code",
   "execution_count": 20,
   "metadata": {},
   "outputs": [],
   "source": [
    "import numpy as np\n",
    "import matplotlib.pyplot as plt\n",
    "import pathlib\n",
    "import statistics\n",
    "import math\n",
    "import scipy as sp\n",
    "\n",
    "from scipy import stats, optimize, interpolate\n",
    "# from scipy.optimize import curve_fit\n",
    "# from scipy.special import factorial\n",
    "\n",
    "variation01 = '1801'\n",
    "path01 = 'saved_data/pummelzeugs_1/'\n",
    "thom01 = np.load(path01 + variation01 + '_thom.npy')\n",
    "\n",
    "variation02 = '1802'\n",
    "path02 = 'saved_data/pummelzeugs_2/'\n",
    "thom02 = np.load(path02 + variation02 + '_thom.npy')\n",
    "\n",
    "variation45 = '18045'\n",
    "path45 = 'saved_data/pummelzeugs_45/'\n",
    "thom45 = np.load(path45 + variation45 + '_thom.npy')\n",
    "\n",
    "variation60 = '18060'\n",
    "path60 = 'saved_data/pummelzeugs_60/'\n",
    "thom60 = np.load(path60 + variation60 + '_thom.npy')\n",
    "\n",
    "variation90 = '18090'\n",
    "path90 = 'saved_data/pummelzeugs_90/'\n",
    "thom90 = np.load(path90 + variation90 + '_thom.npy')\n",
    "\n",
    "data = {'rc=178': thom01, 'rc=88': thom02, 'rc=2': thom45, 'rc=1': thom60, 'rc=0': thom90}\n",
    "colors = ['darkred', 'orange', 'olivedrab', 'indigo', 'darkturquoise']\n"
   ]
  },
  {
   "cell_type": "code",
   "execution_count": null,
   "metadata": {},
   "outputs": [],
   "source": [
    "#INPUT:\n",
    "thom = thom90\n",
    "int_length = 1000\n",
    "\n",
    "def plot_lognorm_distribution(thom, int_length, save=False, id=0):\n",
    "    max = thom.max().astype(int)\n",
    "    l = len(thom)\n",
    "\n",
    "    #number of intervalls\n",
    "    print(max)\n",
    "    ni = (max / int_length + 1).astype(int)\n",
    "    print(ni)\n",
    "    count = np.zeros(ni+1)\n",
    "\n",
    "    for entry in thom:\n",
    "        c = (entry / int_length).astype(int)\n",
    "        count[c] += 1\n",
    "    if count.sum() != l:\n",
    "        print('FEHLER!')\n",
    "\n",
    "    fig, ax = plt.subplots()\n",
    "    x = np.arange(0, max + int_length, int_length)\n",
    "    y = count[(x/int_length).astype(int)]\n",
    "    maxy = y.max()\n",
    "    thom = (thom/int_length).astype(int)\n",
    "#     print(thom)\n",
    "\n",
    "    param=sp.stats.lognorm.fit(thom)\n",
    "    print(param)\n",
    "    print(len(x+int_length/2))\n",
    "    xxx = np.arange(0, ni + 1)\n",
    "#     print(xxx)\n",
    "    pdf_fitted = sp.stats.lognorm.pdf(xxx, param[0], loc=param[1], scale=param[2])\n",
    "    maxfit = pdf_fitted.max()\n",
    "#     print(maxfit)\n",
    "    \n",
    "#     sqd = 0\n",
    "#     for i in range(0, len(x+int_length/2)):\n",
    "#         sqd += (y[i] - pdf_fitted[i]*maxy/maxfit)**2\n",
    "#     sqd = math.sqrt(sqd/len(x+int_length/2))\n",
    "#     error = np.array([sqd]*len(x+int_length/2))\n",
    "    plt.xlim(0, max + int_length)\n",
    "    plt.bar(x+int_length/2, y, width=int_length, color='grey', alpha=0.5)\n",
    "#     plt.plot(x+int_length/2,pdf_fitted*maxy/maxfit, color=colors[id])\n",
    "    pdf_fitted2 = sp.stats.lognorm.pdf(xxx, param[0], loc=0, scale=param[2])\n",
    "    plt.plot(x+int_length/2,pdf_fitted2*maxy/maxfit, color=colors[id])\n",
    "#     pdf_fitted3 = sp.stats.lognorm.pdf(xxx, param[0], loc=0, scale=1)\n",
    "#     plt.plot(x+int_length/2,pdf_fitted3, color=colors[id], linestyle='dotted')\n",
    "    print(maxy/maxfit)\n",
    "    error = [1] * len(x+int_length/2)\n",
    "#     plt.errorbar(x+int_length/2, pdf_fitted*maxy/maxfit, yerr=error)\n",
    "    if save:\n",
    "        filename = str(id) + '_intervall=' + str(int_length) + '_lognormal_distribution' + '.jpg'\n",
    "        plt.savefig(pathlib.Path('pictures').resolve() / filename)\n",
    "# plot_lognorm_distribution(thom=thom90, int_length=1000, save=True)\n",
    "# (0.6053059890020478, 2.0962585917393888, 20.475248718863046)"
   ]
  },
  {
   "cell_type": "code",
   "execution_count": null,
   "metadata": {},
   "outputs": [],
   "source": [
    "\n",
    "for entry, name in enumerate(data):\n",
    "     plot_lognorm_distribution(thom=data[name], int_length=1000, save=True, id=entry)"
   ]
  },
  {
   "cell_type": "code",
   "execution_count": null,
   "metadata": {},
   "outputs": [],
   "source": [
    "#Standardabweichung\n",
    "\n",
    "int_length = 1000\n",
    "thom = (thom90/int_length).astype(int)*int_length\n",
    "# print(thom)\n",
    "stabw = np.std(thom)\n",
    "print(stabw)"
   ]
  },
  {
   "cell_type": "code",
   "execution_count": null,
   "metadata": {},
   "outputs": [],
   "source": [
    "import matplotlib.pyplot as plt\n",
    "import numpy as np\n",
    "\n",
    "xxx = np.arange(0, 33 + 1)\n",
    "\n",
    "x = np.arange(0, 34000, 1000) + 500\n",
    "y = sp.stats.lognorm.pdf(xxx, 0.5374, loc=0.0319, scale=7.5732)\n",
    "e = np.array([1,1,1,1,1])\n",
    "\n",
    "plt.plot(x,y*52.0/0.10689517255745022)\n",
    "\n",
    "plt.show()"
   ]
  },
  {
   "cell_type": "code",
   "execution_count": 59,
   "metadata": {},
   "outputs": [
    {
     "name": "stdout",
     "output_type": "stream",
     "text": [
      "rc=0_\n",
      "0.593595109881524 10.454200986510394\n",
      "56\n",
      "628.1499219545308\n",
      "rc=0_lognormal_all_intervall=1000.jpg\n"
     ]
    },
    {
     "data": {
      "image/png": "[encoded data removed]",
      "text/plain": [
       "<Figure size 432x288 with 1 Axes>"
      ]
     },
     "metadata": {
      "needs_background": "light"
     },
     "output_type": "display_data"
    }
   ],
   "source": [
    "def plot_all_lognorm(thomarray, int_length, save=False):\n",
    "#     colors = ['orange', 'olivedrab', 'darkturquoise']\n",
    "    colors = ['darkred', 'orange', 'olivedrab', 'indigo', 'darkturquoise']\n",
    "    fig, ax = plt.subplots()\n",
    "    filename = ''\n",
    "\n",
    "    for index, name in enumerate(thomarray):\n",
    "        filename += (str(name)) + '_'\n",
    "        print(filename)\n",
    "        thom = thomarray[name]       \n",
    "        max = thom.max().astype(int)\n",
    "        l = len(thom)\n",
    "\n",
    "    #number of intervalls\n",
    "#         print(max)\n",
    "        ni = (max / int_length + 1).astype(int)\n",
    "#         print(ni)\n",
    "        count = np.zeros(ni+1)\n",
    "\n",
    "        for entry in thom:\n",
    "            c = (entry / int_length).astype(int)\n",
    "            count[c] += 1\n",
    "        if count.sum() != l:\n",
    "            print('FEHLER!')\n",
    "\n",
    "        x = np.arange(0, max + int_length, int_length)\n",
    "        y = count[(x/int_length).astype(int)]\n",
    "        maxy = y.max()\n",
    "        thom = (thom/int_length).astype(int)\n",
    "\n",
    "        param=sp.stats.lognorm.fit(thom)\n",
    "        print(param[0], param[2])\n",
    "        xxx = np.arange(0, ni + 1)\n",
    "        print(len(xxx))\n",
    "        pdf_fitted2 = sp.stats.lognorm.pdf(xxx, param[0], loc=0, scale=param[2])\n",
    "        maxfit2 = pdf_fitted2.max()\n",
    "        plt.plot(x+int_length/2,pdf_fitted2*maxy/maxfit2, color=colors[index], label=name)\n",
    "        print(maxy/maxfit2)\n",
    "        plt.xlim(0, max + int_length)\n",
    "        y = [f(val=v, sigma=0.5936, mu=2.347) for v in xxx]\n",
    "        y = [yy*628 for yy in y]\n",
    "        plt.plot(x+int_length/2,y, color='red', linestyle='dashed')\n",
    "    plt.ylim(0)\n",
    "    plt.legend()\n",
    "\n",
    "    if save:\n",
    "        filename = str(filename) + 'lognormal_all' + '_intervall=' + str(int_length) + '.jpg'\n",
    "        print(filename)\n",
    "        plt.savefig(pathlib.Path('pictures').resolve() / filename)\n",
    "    \n",
    "\n",
    "    plt.show()\n",
    "data = {'rc=0': thom90}\n",
    "\n",
    "\n",
    "plot_all_lognorm(thomarray=data, int_length=1000, save=True)"
   ]
  },
  {
   "cell_type": "code",
   "execution_count": 56,
   "metadata": {},
   "outputs": [
    {
     "data": {
      "text/plain": [
       "[<matplotlib.lines.Line2D at 0x29407dff128>]"
      ]
     },
     "execution_count": 56,
     "metadata": {},
     "output_type": "execute_result"
    },
    {
     "data": {
      "image/png": "[encoded data removed]",
      "text/plain": [
       "<Figure size 432x288 with 1 Axes>"
      ]
     },
     "metadata": {
      "needs_background": "light"
     },
     "output_type": "display_data"
    }
   ],
   "source": [
    "def f(val, sigma, mu):\n",
    "    if val != 0:\n",
    "        return 1/(math.sqrt(2*math.pi)*sigma*(val)) * math.exp(-(math.log(val)-mu)**2/(2*sigma**2))\n",
    "    else:\n",
    "        return 0\n",
    "\n",
    "\n",
    "\n",
    "x = np.arange(0,56,1)\n",
    "y = [f(val=v, sigma=0.5936, mu=2.3) for v in x]\n",
    "y = [yy*628 for yy in y]\n",
    "\n",
    "# print(y)\n",
    "plt.plot(np.arange(0,56000,1000),y, color='red', linestyle='dashed')\n"
   ]
  }
 ],
 "metadata": {
  "kernelspec": {
   "display_name": "Python 3",
   "language": "python",
   "name": "python3"
  },
  "language_info": {
   "codemirror_mode": {
    "name": "ipython",
    "version": 3
   },
   "file_extension": ".py",
   "mimetype": "text/x-python",
   "name": "python",
   "nbconvert_exporter": "python",
   "pygments_lexer": "ipython3",
   "version": "3.7.1"
  }
 },
 "nbformat": 4,
 "nbformat_minor": 2
}
