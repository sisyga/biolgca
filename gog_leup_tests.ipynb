{
 "cells": [
  {
   "cell_type": "code",
   "execution_count": 35,
   "metadata": {},
   "outputs": [],
   "source": [
    "import numpy as np\n",
    "import numpy.random as npr\n",
    "from scipy.special import binom as binom_coeff\n",
    "from matplotlib import pyplot as plt"
   ]
  },
  {
   "cell_type": "code",
   "execution_count": 18,
   "metadata": {},
   "outputs": [],
   "source": [
    "def ent_prod(x):\n",
    "    return x * np.log(x, where=x > 0, out=np.zeros_like(x, dtype=float))\n",
    "\n",
    "def p_binom(k, n, p):\n",
    "    return binom_coeff(n, k) * p**k * (1 - p)**(n-k)\n",
    "\n",
    "def s_binom(n, p0, kmax):\n",
    "    n = n[..., None]\n",
    "    p0 = p0[..., None]\n",
    "    k = np.arange(kmax + 1)\n",
    "    p = p_binom(k, n, p0)\n",
    "    return -ent_prod(p).sum(-1)"
   ]
  },
  {
   "cell_type": "code",
   "execution_count": 7,
   "metadata": {},
   "outputs": [],
   "source": [
    "n = npr.randint(7, size=(5, 5))\n",
    "n_r = n // 2"
   ]
  },
  {
   "cell_type": "code",
   "execution_count": 9,
   "metadata": {},
   "outputs": [],
   "source": [
    "p0 = np.divide(n_r, n, where=n>0, out=np.zeros_like(n_r, dtype=float))"
   ]
  },
  {
   "cell_type": "code",
   "execution_count": 20,
   "metadata": {},
   "outputs": [],
   "source": [
    "s = s_binom(n, p0, 6)"
   ]
  },
  {
   "cell_type": "code",
   "execution_count": 25,
   "metadata": {},
   "outputs": [
    {
     "data": {
      "text/plain": [
       "1.4075317407193153"
      ]
     },
     "execution_count": 25,
     "metadata": {},
     "output_type": "execute_result"
    }
   ],
   "source": [
    "s_binom(n[0, 0], p0[0, 0], 6)"
   ]
  },
  {
   "cell_type": "code",
   "execution_count": 125,
   "metadata": {},
   "outputs": [],
   "source": [
    "def p_resting_to_migrating(r0, r1, a, b):\n",
    "    rprod = (r0 * r1)**b\n",
    "    p =  rprod / (rprod + ((r0 - a) * (r1 + a))**b)\n",
    "    return p\n",
    "\n",
    "def p_migrating_to_resting(r0, r1, a, b):\n",
    "    rprod = (r0 * r1)**b\n",
    "    p = rprod / (rprod + ((r0 + a) * (r1 + a))**b)\n",
    "    return p"
   ]
  },
  {
   "cell_type": "code",
   "execution_count": 126,
   "metadata": {},
   "outputs": [],
   "source": [
    "rho = np.linspace(0, 1, 101)\n",
    "r0, r1 = np.meshgrid(rho, rho)\n",
    "a = 0.1\n",
    "b = 20\n",
    "levels = [0, 0.25, 0.5, 0.75, 1]\n",
    "levels = np.linspace(0, 1, 21, endpoint=True)\n",
    "# levels = None"
   ]
  },
  {
   "cell_type": "code",
   "execution_count": 127,
   "metadata": {},
   "outputs": [
    {
     "name": "stderr",
     "output_type": "stream",
     "text": [
      "/home/simon/anaconda3/lib/python3.7/site-packages/ipykernel_launcher.py:3: RuntimeWarning: divide by zero encountered in true_divide\n",
      "  This is separate from the ipykernel package so we can avoid doing imports until\n",
      "/home/simon/anaconda3/lib/python3.7/site-packages/ipykernel_launcher.py:3: RuntimeWarning: invalid value encountered in true_divide\n",
      "  This is separate from the ipykernel package so we can avoid doing imports until\n"
     ]
    },
    {
     "data": {
      "text/plain": [
       "<matplotlib.colorbar.Colorbar at 0x7f0fc2e81fd0>"
      ]
     },
     "execution_count": 127,
     "metadata": {},
     "output_type": "execute_result"
    },
    {
     "data": {
      "image/png": "[encoded data removed]",
      "text/plain": [
       "<Figure size 792x504 with 5 Axes>"
      ]
     },
     "metadata": {
      "needs_background": "light"
     },
     "output_type": "display_data"
    }
   ],
   "source": [
    "fig, axes = plt.subplots(2, 2, sharex=True, sharey=True, figsize=(11,7))\n",
    "plt.axes(axes[0, 0])\n",
    "contour = plt.contourf(r0, r1, p_resting_to_migrating(r0, r1, a, b), levels=levels)\n",
    "# plt.xlabel('$\\\\rho_0$')\n",
    "plt.title('$P(X = 1)$')\n",
    "plt.ylabel('$\\\\rho_1$')\n",
    "# plt.axhline(y=a, c='r', ls='--', label='$\\\\rho_1 = a$')\n",
    "plt.axvline(x=a, c='r', ls='--', label='$\\\\rho_0 = a$')\n",
    "\n",
    "plt.axes(axes[0, 1])\n",
    "plt.title('$P(X = 0)$')\n",
    "plt.contourf(r0, r1, 1 - p_resting_to_migrating(r0, r1, a, b), levels=levels)\n",
    "# plt.axhline(y=a, c='r', ls='--', label='$\\\\rho_1 = a$')\n",
    "plt.axvline(x=a, c='r', ls='--', label='$\\\\rho_0 = a$')\n",
    "# plt.plot([0., 1.], [0., 1.], 'r--')\n",
    "# plt.colorbar()\n",
    "# plt.legend()\n",
    "\n",
    "plt.axes(axes[1, 0])\n",
    "plt.ylabel('$\\\\rho_1$')\n",
    "plt.contourf(r0, r1, 1 - p_migrating_to_resting(r0, r1, a, b), levels=levels)\n",
    "plt.axhline(y=a, c='r', ls='--', label='$\\\\rho_1 = a$')\n",
    "# plt.axvline(x=a, c='r', ls='--', label='$\\\\rho_0 = a$')\n",
    "plt.xlabel('$\\\\rho_0$')\n",
    "\n",
    "plt.axes(axes[1, 1])\n",
    "plt.xlabel('$\\\\rho_0$')\n",
    "plt.contourf(r0, r1, p_migrating_to_resting(r0, r1, a, b), levels=levels)\n",
    "plt.axhline(y=a, c='r', ls='--', label='$\\\\rho_1 = a$')\n",
    "# plt.axvline(x=a, c='r', ls='--', label='$\\\\rho_0 = a$')\n",
    "\n",
    "plt.colorbar(contour, ax=axes.ravel().tolist())\n",
    "# plt.savefig('State probabilities.pdf', bbox_inches=0)"
   ]
  },
  {
   "cell_type": "code",
   "execution_count": 61,
   "metadata": {},
   "outputs": [],
   "source": [
    "plt.plot?"
   ]
  }
 ],
 "metadata": {
  "kernelspec": {
   "display_name": "Python 3",
   "language": "python",
   "name": "python3"
  },
  "language_info": {
   "codemirror_mode": {
    "name": "ipython",
    "version": 3
   },
   "file_extension": ".py",
   "mimetype": "text/x-python",
   "name": "python",
   "nbconvert_exporter": "python",
   "pygments_lexer": "ipython3",
   "version": "3.7.4"
  }
 },
 "nbformat": 4,
 "nbformat_minor": 2
}
