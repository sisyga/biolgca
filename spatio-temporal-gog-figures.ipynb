{
 "cells": [
  {
   "cell_type": "code",
   "execution_count": 71,
   "source": [
    "import numpy as np\n",
    "import matplotlib.pyplot as plt\n",
    "from lgca import get_lgca\n",
    "from itertools import product\n",
    "import pickle as pkl\n",
    "import string\n",
    "from itertools import cycle\n",
    "PATH = '.\\\\data\\\\gog\\\\nonlocaldensity_10reps\\\\'\n",
    "parameters = np.load(PATH+'params.npz', allow_pickle=True)\n",
    "\n",
    "constparams = parameters['constparams'].item()\n",
    "r_ds = parameters['r_ds']\n",
    "thetas = parameters['thetas']\n",
    "reps = 10\n",
    "# data = np.load(PATH+'n_pr.npy', allow_pickle=True)\n",
    "stepsize = 1\n",
    "lgca = get_lgca(**constparams)"
   ],
   "metadata": {
    "collapsed": false
   },
   "outputs": []
  },
  {
   "cell_type": "code",
   "execution_count": 72,
   "source": [
    "def label_axes(fig, labels=None, loc=None, **kwargs):\n",
    "    \"\"\"\n",
    "    Walks through axes and labels each.\n",
    "\n",
    "    kwargs are collected and passed to `annotate`\n",
    "\n",
    "    Parameters\n",
    "    ----------\n",
    "    fig : Figure\n",
    "         Figure object to work on\n",
    "\n",
    "    labels : iterable or None\n",
    "        iterable of strings to use to label the axes.\n",
    "        If None, lower case letters are used.\n",
    "\n",
    "    loc : len=2 tuple of floats\n",
    "        Where to put the label in axes-fraction units\n",
    "    \"\"\"\n",
    "    if labels is None:\n",
    "        labels = string.ascii_uppercase\n",
    "\n",
    "    # re-use labels rather than stop labeling\n",
    "    labels = cycle(labels)\n",
    "    if loc is None:\n",
    "        loc = (-0.05, 1.15)\n",
    "    for ax, lab in zip(fig.axes, labels):\n",
    "        ax.annotate(lab, xy=loc, ha='right', weight='bold', size=10,\n",
    "                    xycoords='axes fraction',\n",
    "                    **kwargs)"
   ],
   "metadata": {
    "collapsed": false
   },
   "outputs": []
  },
  {
   "cell_type": "code",
   "execution_count": 35,
   "source": [
    "def plot_kappa_spatiotemp(index, reps, lgca, PATH):\n",
    "    mean_props = []\n",
    "    for i in range(reps):\n",
    "        p = PATH+'data{}.pkl'.format(index+(i, 0,))\n",
    "        with open(p, 'rb') as f:\n",
    "            d = pkl.load(f)\n",
    "            mean_props.append(lgca.calc_prop_mean(d['nodes_t'], propname='kappa', props={'kappa': d['kappa']}))\n",
    "\n",
    "    len(mean_props)\n",
    "    mean_props = np.ma.array(mean_props)\n",
    "\n",
    "    mean_prop = np.mean(mean_props, axis=0)\n",
    "    std_prop = np.std(mean_props, axis=0)  # calculate the standard deviation of the mean\n",
    "    # n_sample = np.sum(~mean_props.mask, axis=0)  # calculate the number of samples\n",
    "    # std_mean = std_prop / np.sqrt(n_sample)  # calculate the standard error of the mean\n",
    "    # Define the window size for the running average\n",
    "    window_size = 5\n",
    "\n",
    "    # Define the weights for the running average\n",
    "    weights = np.repeat(1.0, window_size) / window_size\n",
    "\n",
    "    # Apply the running average using convolution\n",
    "    running_average_prop = np.convolve(mean_prop, weights, 'same')\n",
    "    std_running_average_prop = np.convolve(std_prop, weights, 'same')\n",
    "    # running_average_prop = np.ma.array(running_average_prop, mask=mean_prop.mask)\n",
    "    # std_running_average_prop = np.ma.array(std_running_average_prop, mask=mean_prop.mask)\n",
    "\n",
    "    # ax.plot(np.ma.array(mean_props).T, color='k', alpha=0.5, lw=.5)\n",
    "    plt.plot([0, len(mean_prop)], [0, 0], 'k--')\n",
    "    plt.plot(mean_prop, lw=1)\n",
    "    # fill the area between the mean and the standard deviation\n",
    "    plt.fill_between(np.arange(len(mean_prop)), mean_prop-std_prop, mean_prop+std_prop, alpha=.5)\n",
    "    # plt.plot(running_average_prop)\n",
    "    # plt.fill_between(np.arange(len(mean_prop)), running_average_prop-std_running_average_prop, running_average_prop+std_running_average_prop, alpha=.5)"
   ],
   "metadata": {
    "collapsed": false
   },
   "outputs": []
  },
  {
   "cell_type": "code",
   "execution_count": 43,
   "source": [
    "def plot_migr_rest_spatiotemp(index, reps, lgca, PATH):\n",
    "    nodes_t = np.empty((constparams['tmax'], constparams['l'], 3), dtype=object)\n",
    "    lgca.props = {}\n",
    "    migrating_cells = []\n",
    "    resting_cells = []\n",
    "    for i in range(reps):\n",
    "        p = PATH+'data{}.pkl'.format(index+(i, 0,))\n",
    "        with open(p, 'rb') as f:\n",
    "            d = pkl.load(f)\n",
    "\n",
    "        lgca.nodes = d['nodes_t']\n",
    "        lgca.update_dynamic_fields()\n",
    "        m = lgca.channel_pop[:, :lgca.velocitychannels].sum(-1)\n",
    "        migrating_cells.append(m)\n",
    "        resting_cells.append(lgca.cell_density - m)\n",
    "\n",
    "    mean_migrating_cells = np.mean(migrating_cells, axis=0)\n",
    "    std_migration = np.std(migrating_cells, axis=0) / np.sqrt(reps)\n",
    "    mean_resting_cells = np.mean(resting_cells, axis=0)\n",
    "    std_resting = np.std(resting_cells, axis=0) / np.sqrt(reps)\n",
    "    plt.plot(mean_resting_cells, label='Resting cells')\n",
    "    plt.fill_between(np.arange(len(mean_resting_cells)), mean_resting_cells-std_resting, mean_resting_cells+std_resting, alpha=.5)\n",
    "    plt.plot(mean_migrating_cells, label='Migrating cells')\n",
    "    plt.fill_between(np.arange(len(mean_migrating_cells)), mean_migrating_cells-std_migration, mean_migrating_cells+std_migration, alpha=.5)"
   ],
   "metadata": {
    "collapsed": false
   },
   "outputs": []
  },
  {
   "cell_type": "code",
   "execution_count": 25,
   "source": [
    "import os\n",
    "import matplotlib as mpl\n",
    "style_path = os.path.abspath('./frontiers_style.mplstyle')\n",
    "plt.style.use(style_path)\n",
    "fig_size = mpl.rcParams['figure.figsize']\n",
    "s = 0.7\n",
    "fig_size[0] *= s\n",
    "fig_size[1] *= s\n",
    "mpl.rcParams['figure.figsize'] = fig_size"
   ],
   "metadata": {
    "collapsed": false
   },
   "outputs": []
  },
  {
   "cell_type": "code",
   "execution_count": 83,
   "source": [
    "index = 0, 2\n",
    "fig, axs = plt.subplots(2, 1, sharex=True)\n",
    "figsize = fig.get_size_inches()\n",
    "fig.set_size_inches(figsize[0], figsize[1]*2)\n",
    "plt.sca(axs[0])\n",
    "plot_migr_rest_spatiotemp(index, reps, lgca, PATH)\n",
    "plt.title(r'$\\delta={}, \\theta={}$'.format(r_ds[index[0]], thetas[index[1]]))\n",
    "plt.ylabel(r'Cell density')\n",
    "plt.xlim(0, constparams['l'])\n",
    "plt.yticks(ticks=[0, 100], labels=[0, r'$K$'])\n",
    "plt.ylim(0)\n",
    "plt.legend(loc='best')\n",
    "plt.sca(axs[1])\n",
    "plot_kappa_spatiotemp(index, reps, lgca, constparams, PATH)\n",
    "plt.xlabel(r'Space $x$')\n",
    "plt.ylabel(r'Average switch parameter $\\kappa$')\n",
    "plt.xlim(0, constparams['l'])\n",
    "plt.xticks(ticks=[0, 500, 1000], labels=[0, r'$L/2$', r'$L$'])\n",
    "label_axes(fig)\n",
    "plt.tight_layout()\n",
    "fig.savefig('spatial_kappa_region1.pdf', bbox_inches='tight')\n",
    "fig.savefig('spatial_kappa_region1.svg', bbox_inches='tight')"
   ],
   "metadata": {
    "collapsed": false
   },
   "outputs": []
  },
  {
   "cell_type": "code",
   "execution_count": 84,
   "source": [
    "index = (4, 2)\n",
    "fig, axs = plt.subplots(2, 1, sharex=True)\n",
    "figsize = fig.get_size_inches()\n",
    "fig.set_size_inches(figsize[0], figsize[1]*2)\n",
    "plt.sca(axs[0])\n",
    "plot_migr_rest_spatiotemp(index, reps, lgca, PATH)\n",
    "plt.title(r'$\\delta={}, \\theta={}$'.format(r_ds[index[0]], thetas[index[1]]))\n",
    "plt.ylabel(r'Cell density')\n",
    "plt.xlim(0, constparams['l'])\n",
    "plt.yticks(ticks=[0, 100], labels=[0, r'$K$'])\n",
    "plt.ylim(0)\n",
    "plt.legend(loc='best')\n",
    "plt.sca(axs[1])\n",
    "plot_kappa_spatiotemp(index, reps, lgca, constparams, PATH)\n",
    "plt.xlabel(r'Space $x$')\n",
    "plt.ylabel(r'Average switch parameter $\\kappa$')\n",
    "plt.xlim(0, constparams['l'])\n",
    "plt.xticks(ticks=[0, 500, 1000], labels=[0, r'$L/2$', r'$L$'])\n",
    "label_axes(fig)\n",
    "plt.tight_layout()\n",
    "fig.savefig('spatial_kappa_region2.pdf', bbox_inches='tight')\n",
    "fig.savefig('spatial_kappa_region2.svg', bbox_inches='tight')"
   ],
   "metadata": {
    "collapsed": false
   },
   "outputs": []
  },
  {
   "cell_type": "code",
   "execution_count": 85,
   "source": [
    "index = (4, 8)\n",
    "fig, axs = plt.subplots(2, 1, sharex=True)\n",
    "figsize = fig.get_size_inches()\n",
    "fig.set_size_inches(figsize[0], figsize[1]*2)\n",
    "plt.sca(axs[0])\n",
    "plot_migr_rest_spatiotemp(index, reps, lgca, PATH)\n",
    "plt.title(r'$\\delta={}, \\theta={}$'.format(r_ds[index[0]], thetas[index[1]]))\n",
    "plt.ylabel(r'Cell density')\n",
    "plt.xlim(0, constparams['l'])\n",
    "plt.yticks(ticks=[0, 100], labels=[0, r'$K$'])\n",
    "plt.ylim(0)\n",
    "plt.legend(loc='best')\n",
    "plt.sca(axs[1])\n",
    "plot_kappa_spatiotemp(index, reps, lgca, constparams, PATH)\n",
    "plt.xlabel(r'Space $x$')\n",
    "plt.ylabel(r'Average switch parameter $\\kappa$')\n",
    "plt.xlim(0, constparams['l'])\n",
    "plt.xticks(ticks=[0, 500, 1000], labels=[0, r'$L/2$', r'$L$'])\n",
    "label_axes(fig)\n",
    "plt.tight_layout()\n",
    "fig.savefig('spatial_kappa_region3.pdf', bbox_inches='tight')\n",
    "fig.savefig('spatial_kappa_region3.svg', bbox_inches='tight')"
   ],
   "metadata": {
    "collapsed": false
   },
   "outputs": []
  },
  {
   "cell_type": "code",
   "execution_count": 63,
   "source": [
    "plot_migr_rest_spatiotemp(index, reps, lgca, PATH)\n",
    "plt.title(r'$\\delta={}, \\theta={}$'.format(r_ds[index[0]], thetas[index[1]]))\n",
    "plt.xlabel(r'Space $x$')\n",
    "plt.ylabel(r'Cell density')\n",
    "plt.xlim(0, constparams['l'])\n",
    "plt.yticks(ticks=[0, 100], labels=[0, r'$K$'])\n",
    "plt.ylim(0)\n",
    "plt.legend(loc='best')\n",
    "plt.savefig('spatial_density_region3.pdf', bbox_inches='tight')\n",
    "plt.savefig('spatial_density_region3.svg', bbox_inches='tight')"
   ],
   "metadata": {
    "collapsed": false
   },
   "outputs": []
  }
 ],
 "metadata": {
  "kernelspec": {
   "display_name": "Python 3",
   "language": "python",
   "name": "python3"
  },
  "language_info": {
   "codemirror_mode": {
    "name": "ipython",
    "version": 2
   },
   "file_extension": ".py",
   "mimetype": "text/x-python",
   "name": "python",
   "nbconvert_exporter": "python",
   "pygments_lexer": "ipython2",
   "version": "2.7.6"
  }
 },
 "nbformat": 4,
 "nbformat_minor": 0
}
