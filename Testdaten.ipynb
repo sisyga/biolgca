{
 "cells": [
  {
   "cell_type": "code",
   "execution_count": 1,
   "metadata": {},
   "outputs": [],
   "source": [
    "from lgca import get_lgca\n",
    "from lgca.helpers import *\n",
    "import numpy as np\n",
    "import matplotlib.pyplot as plt\n",
    "\n",
    "# # variation = '1801_'\n",
    "# # filename = '_21fb7db'\n",
    "# filename = 'Testdaten_'\n",
    "# rep = 3\n",
    "# path = 'saved_data/pummelzeugs_1/'\n",
    "\n",
    "# for i in range(1, rep+1):\n",
    "#     data = np.load(path + variation + str(0) + filename+ '_offsprings.npy')\n",
    "\n",
    "# print(len(data))"
   ]
  },
  {
   "cell_type": "markdown",
   "metadata": {},
   "source": [
    "Testdaten erstellen:"
   ]
  },
  {
   "cell_type": "code",
   "execution_count": 20,
   "metadata": {},
   "outputs": [],
   "source": [
    "save = True\n",
    "val_0 = np.array([[-99,1,1,1], [-99,1,2,1], [-99,2,2,1], [-99,1,2,2], [-99,2,3,1],\\\n",
    "                  [-99,3,3,1], [-99,2,2,1], [-99,1,1,0], [-99,0,1,0]])\n",
    "val_1 = np.array([[-99,1,1,1], [-99,2,1,2], [-99,1,1,2], [-99,2,1,3], [-99,1,1,2], [-99,0,0,1]])\n",
    "val_2 = np.array([[-99,1,1,1], [-99,2,1,2], [-99,3,2,1], [-99,3,3,2], [-99,2,2,1],\\\n",
    "                  [-99,1,1,0], [-99,1,0,1], [-99,2,1,0], [-99,1,2,0], [-99,1,1,0], [-99,0,2,0]])\n",
    "\n",
    "vals = np.array([val_0, val_1, val_2])\n",
    "\n",
    "if save:\n",
    "    for i in range(3):\n",
    "        np.save('saved_data/' + 'Testdaten_' + str(i) + '__offsprings' +'.npy', vals[i])\n"
   ]
  },
  {
   "cell_type": "code",
   "execution_count": null,
   "metadata": {},
   "outputs": [],
   "source": []
  },
  {
   "cell_type": "code",
   "execution_count": null,
   "metadata": {},
   "outputs": [],
   "source": []
  }
 ],
 "metadata": {
  "kernelspec": {
   "display_name": "Python 3",
   "language": "python",
   "name": "python3"
  },
  "language_info": {
   "codemirror_mode": {
    "name": "ipython",
    "version": 3
   },
   "file_extension": ".py",
   "mimetype": "text/x-python",
   "name": "python",
   "nbconvert_exporter": "python",
   "pygments_lexer": "ipython3",
   "version": "3.7.1"
  }
 },
 "nbformat": 4,
 "nbformat_minor": 2
}
