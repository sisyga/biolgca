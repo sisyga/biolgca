{
 "cells": [
  {
   "cell_type": "code",
   "execution_count": 1,
   "metadata": {},
   "outputs": [],
   "source": [
    "from lgca import get_lgca\n",
    "from lgca.helpers import *\n",
    "import numpy as np\n",
    "import matplotlib.pyplot as plt\n",
    "\n",
    "# # variation = '1801_'\n",
    "# # filename = '_21fb7db'\n",
    "# filename = 'Testdaten_'\n",
    "# rep = 3\n",
    "# path = 'saved_data/pummelzeugs_1/'\n",
    "\n",
    "# for i in range(1, rep+1):\n",
    "#     data = np.load(path + variation + str(0) + filename+ '_offsprings.npy')\n",
    "\n",
    "# print(len(data))"
   ]
  },
  {
   "cell_type": "markdown",
   "metadata": {},
   "source": [
    "Testdaten erstellen:"
   ]
  },
  {
   "cell_type": "code",
   "execution_count": 20,
   "metadata": {},
   "outputs": [],
   "source": [
    "save = True\n",
    "val_0 = np.array([[-99,1,1,1], [-99,1,2,1], [-99,2,2,1], [-99,1,2,2], [-99,2,3,1],\\\n",
    "                  [-99,3,3,1], [-99,2,2,1], [-99,1,1,0], [-99,0,1,0]])\n",
    "val_1 = np.array([[-99,1,1,1], [-99,2,1,2], [-99,1,1,2], [-99,2,1,3], [-99,1,1,2], [-99,0,0,1]])\n",
    "val_2 = np.array([[-99,1,1,1], [-99,2,1,2], [-99,3,2,1], [-99,3,3,2], [-99,2,2,1],\\\n",
    "                  [-99,1,1,0], [-99,1,0,1], [-99,2,1,0], [-99,1,2,0], [-99,1,1,0], [-99,0,2,0]])\n",
    "\n",
    "vals = np.array([val_0, val_1, val_2])\n",
    "# print(val_1)\n",
    "# print(val_2)\n",
    "# print(val_3)\n",
    "# thom = np.zeros(3)\n",
    "# thom[0] = len(val_0)\n",
    "# thom[1] = len(val_1)\n",
    "# thom[2] = len(val_2)\n",
    "# print(thom)\n",
    "if save:\n",
    "    for i in range(3):\n",
    "        np.save('saved_data/' + 'Testdaten_' + str(i) + '__offsprings' +'.npy', vals[i])\n",
    "# d = np.load('saved_data/pummelzeugs_1/1801_499_21fb7db_offsprings.npy')   \n",
    "# print(d)"
   ]
  },
  {
   "cell_type": "code",
   "execution_count": 19,
   "metadata": {},
   "outputs": [
    {
     "name": "stdout",
     "output_type": "stream",
     "text": [
      "11\n",
      "3\n",
      "[1.09861229 1.05492017 1.01140426 1.08219553 1.05492017 0.69314718\n",
      " 0.69314718 0.63651417 0.63651417 0.69314718 0.        ]\n"
     ]
    }
   ],
   "source": [
    "#input\n",
    "thom = np.load('saved_data/' + 'Testdaten' + '_thom.npy')\n",
    "data = val_2\n",
    "print(len(data))\n",
    "time = int(thom[2])\n",
    "maxlab = len(data[0][1:])\n",
    "print(maxlab)\n",
    "#         # print('Shannon')\n",
    "shannon = np.zeros(time)\n",
    "for t in range(time):\n",
    "    for lab in range(1, maxlab + 1):\n",
    "        pi = data[t, lab] / sum(data[t, 1:])\n",
    "        if pi != 0:\n",
    "            shannon[t] -= pi * m.log(pi)\n",
    "print(shannon)\n",
    "#         shan_t = np.zeros(time)\n",
    "#         if off:\n",
    "#             for t in range(time):\n",
    "#                 if sum(props[t][1:]) != 0:\n",
    "#                     for lab in range(1, maxlab+1):\n",
    "#                         pi = props[t][lab] / sum(props[t][1:])\n",
    "#                         if pi != 0:\n",
    "#                             shan_t[t] -= pi * m.log(pi)\n",
    "#                 else:\n",
    "#                     # print('extinct since t= ', t)\n",
    "#                     t_ex = t\n",
    "#                     shan_t[t:] = -1\n",
    "#                     break\n",
    "\n",
    "#         else:\n",
    "#             for t in range(time):\n",
    "#                 if sum(props[t]['num_off'][1:]) != 0:\n",
    "#                     for lab in range(1, maxlab+1):\n",
    "#                         pi = props[t]['num_off'][lab] / sum(props[t]['num_off'][1:])\n",
    "#                         if pi != 0:\n",
    "#                             shan_t[t] -= pi * m.log(pi)\n",
    "#                 else:\n",
    "#                     # print('extinct since t= ', t)\n",
    "#                     t_ex = t\n",
    "#                     shan_t[t:] = -1\n",
    "#                     break\n",
    "#         shan_max = m.log(maxlab)\n",
    "#         if plot or save_plot:\n",
    "#             plot_entropies(time, shan_t, order, save_plot, id)\n",
    "#         return shan_t, shan_max\n"
   ]
  }
 ],
 "metadata": {
  "kernelspec": {
   "display_name": "Python 3",
   "language": "python",
   "name": "python3"
  },
  "language_info": {
   "codemirror_mode": {
    "name": "ipython",
    "version": 3
   },
   "file_extension": ".py",
   "mimetype": "text/x-python",
   "name": "python",
   "nbconvert_exporter": "python",
   "pygments_lexer": "ipython3",
   "version": "3.7.1"
  }
 },
 "nbformat": 4,
 "nbformat_minor": 2
}
