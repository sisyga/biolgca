{
 "cells": [
  {
   "cell_type": "code",
   "execution_count": 1,
   "metadata": {},
   "outputs": [],
   "source": [
    "from lgca import get_lgca\n",
    "from lgca.helpers import *\n",
    "import numpy as np\n",
    "import matplotlib.pyplot as plt\n",
    "import time\n",
    "\n"
   ]
  },
  {
   "cell_type": "markdown",
   "metadata": {},
   "source": [
    "Parameterliste festlegen:"
   ]
  },
  {
   "cell_type": "code",
   "execution_count": null,
   "metadata": {},
   "outputs": [],
   "source": [
    "dim = [90]\n",
    "# ,30,15,1]\n",
    "# dim = [1, 1]\n",
    "dens = 1\n",
    "rc = [0]\n",
    "# 4,10,178]\n",
    "# rc = [0, 0]\n",
    "birthrate = 0.5\n",
    "deathrate = 0.02\n",
    "\n",
    "rep = 1\n",
    "# saving = False\n",
    "saving_data = True\n",
    "saving_plots = False\n",
    "\n",
    "# ,18030,18015,18001]\n",
    "# ids = ['test', 'tt']\n",
    "\n"
   ]
  },
  {
   "cell_type": "markdown",
   "metadata": {},
   "source": [
    "Schleife um Paraliste abzuarbeiten:"
   ]
  },
  {
   "cell_type": "code",
   "execution_count": null,
   "metadata": {},
   "outputs": [
    {
     "name": "stdout",
     "output_type": "stream",
     "text": [
      "standard deviation set to =  0.1\n",
      "\r",
      "Progress: [####################] 100% Done...\r\n"
     ]
    }
   ],
   "source": [
    "start = time.time()\n",
    "for i in range(len(dim)):\n",
    "    wdh=1\n",
    "    name = str(2*dim[i] + dim[i]*rc[i]) + str(dim[i])\n",
    "    while wdh <= rep:\n",
    "        lgca= get_lgca(ib=True, geometry='lin', interaction='inheritance', bc='reflecting',\\\n",
    "               density = dens, dims = dim[i], r_b = birthrate, variation = False, restchannels = rc[i] ,r_d = deathrate)\n",
    "        id = name + '_'+ str(wdh)\n",
    "        lgca.timeevo_until_hom(record=True)\n",
    "#         print('thom= ', len(lgca.props_t))\n",
    "        offsprings = np.zeros((len(lgca.props_t), len(lgca.props_t[0]['num_off'])))\n",
    "        for t in range(len(lgca.props_t)):\n",
    "            for anc in range(len(lgca.props_t[0]['num_off'])):\n",
    "                offsprings[t, anc] = lgca.props_t[t]['num_off'][anc]\n",
    "        if saving_data:\n",
    "            np.save('saved_data/' + str(id) + '_props_t', lgca.props_t)\n",
    "            np.save('saved_data/' + str(id) + '_offsprings', offsprings)\n",
    "            np.save('saved_data/' + str(id) + '_nodes_t', lgca.nodes_t)\n",
    "            np.savez('saved_data/' + str(id) + '_Parameter', density = lgca.density, restchannels = lgca.restchannels,\\\n",
    "            dimension=lgca.l, kappa=lgca.K, rb=lgca.r_b, rd=lgca.r_d, m=lgca.r_int)\n",
    "#         plot_popsize(lgca.props_t, save=saving_plots, id=id)\n",
    "#         plot_sh_gi_hh(lgca.props_t, save=saving_plots, id=id)\n",
    "#         print(thom)\n",
    "        wdh = wdh +1\n",
    "ende = time.time()\n",
    "print('{:5.3f}s'.format(ende-start))"
   ]
  },
  {
   "cell_type": "code",
   "execution_count": null,
   "metadata": {},
   "outputs": [],
   "source": []
  },
  {
   "cell_type": "code",
   "execution_count": null,
   "metadata": {},
   "outputs": [],
   "source": []
  },
  {
   "cell_type": "code",
   "execution_count": null,
   "metadata": {},
   "outputs": [],
   "source": []
  },
  {
   "cell_type": "code",
   "execution_count": null,
   "metadata": {},
   "outputs": [],
   "source": []
  },
  {
   "cell_type": "code",
   "execution_count": null,
   "metadata": {},
   "outputs": [],
   "source": []
  },
  {
   "cell_type": "code",
   "execution_count": null,
   "metadata": {},
   "outputs": [],
   "source": []
  },
  {
   "cell_type": "code",
   "execution_count": null,
   "metadata": {},
   "outputs": [],
   "source": []
  }
 ],
 "metadata": {
  "kernelspec": {
   "display_name": "Python 3",
   "language": "python",
   "name": "python3"
  },
  "language_info": {
   "codemirror_mode": {
    "name": "ipython",
    "version": 3
   },
   "file_extension": ".py",
   "mimetype": "text/x-python",
   "name": "python",
   "nbconvert_exporter": "python",
   "pygments_lexer": "ipython3",
   "version": "3.7.1"
  }
 },
 "nbformat": 4,
 "nbformat_minor": 2
}
