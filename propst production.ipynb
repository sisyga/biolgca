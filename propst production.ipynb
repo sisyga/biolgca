{
 "cells": [
  {
   "cell_type": "code",
   "execution_count": 1,
   "metadata": {},
   "outputs": [],
   "source": [
    "from lgca import get_lgca\n",
    "from lgca.helpers import *\n",
    "import numpy as np\n",
    "import matplotlib.pyplot as plt\n",
    "import time\n",
    "\n"
   ]
  },
  {
   "cell_type": "markdown",
   "metadata": {},
   "source": [
    "Parameterliste festlegen:"
   ]
  },
  {
   "cell_type": "code",
   "execution_count": 2,
   "metadata": {},
   "outputs": [],
   "source": [
    "dim = [60]\n",
    "# ,30,15,1]\n",
    "# dim = [1, 1]\n",
    "dens = 1\n",
    "rc = [1]\n",
    "# 4,10,178]\n",
    "# rc = [0, 0]\n",
    "birthrate = 0.5\n",
    "deathrate = 0.02\n",
    "\n",
    "rep = 5\n",
    "# saving = False\n",
    "saving_data = True\n",
    "saving_plots = False\n",
    "\n",
    "# ,18030,18015,18001]\n",
    "# ids = ['test', 'tt']\n",
    "\n"
   ]
  },
  {
   "cell_type": "markdown",
   "metadata": {},
   "source": [
    "Schleife um Paraliste abzuarbeiten:"
   ]
  },
  {
   "cell_type": "code",
   "execution_count": 3,
   "metadata": {},
   "outputs": [
    {
     "name": "stdout",
     "output_type": "stream",
     "text": [
      "standard deviation set to =  0.1\n",
      "Progress: [####################] 100% Done...\n",
      "standard deviation set to =  0.1\n",
      "Progress: [####################] 100% Done...\n",
      "standard deviation set to =  0.1\n",
      "Progress: [####################] 100% Done...\n",
      "standard deviation set to =  0.1\n",
      "Progress: [####################] 100% Done...\n",
      "standard deviation set to =  0.1\n",
      "Progress: [####################] 100% Done...\n",
      "1292.465s\n"
     ]
    }
   ],
   "source": [
    "start = time.time()\n",
    "for i in range(len(dim)):\n",
    "    wdh=1\n",
    "    name = str(2*dim[i] + dim[i]*rc[i]) + str(dim[i])\n",
    "    while wdh <= rep:\n",
    "        lgca= get_lgca(ib=True, geometry='lin', interaction='inheritance', bc='reflecting',\\\n",
    "               density = dens, dims = dim[i], r_b = birthrate, variation = False, restchannels = rc[i] ,r_d = deathrate)\n",
    "        id = name + '_'+ str(wdh)\n",
    "        lgca.timeevo_until_hom(record=True)\n",
    "#         print('thom= ', len(lgca.props_t))\n",
    "        offsprings = np.zeros((len(lgca.props_t), len(lgca.props_t[0]['num_off'])))\n",
    "        for t in range(len(lgca.props_t)):\n",
    "            for anc in range(len(lgca.props_t[0]['num_off'])):\n",
    "                offsprings[t, anc] = lgca.props_t[t]['num_off'][anc]\n",
    "        if saving_data:\n",
    "            np.save('saved_data/' + str(id) + '_props_t', lgca.props_t)\n",
    "            np.save('saved_data/' + str(id) + '_offsprings', offsprings)\n",
    "            np.save('saved_data/' + str(id) + '_nodes_t', lgca.nodes_t)\n",
    "            np.savez('saved_data/' + str(id) + '_Parameter', density = lgca.density, restchannels = lgca.restchannels,\\\n",
    "            dimension=lgca.l, kappa=lgca.K, rb=lgca.r_b, rd=lgca.r_d, m=lgca.r_int)\n",
    "#         plot_popsize(lgca.props_t, save=saving_plots, id=id)\n",
    "#         plot_sh_gi_hh(lgca.props_t, save=saving_plots, id=id)\n",
    "#         print(thom)\n",
    "        wdh = wdh +1\n",
    "ende = time.time()\n",
    "print('{:5.3f}s'.format(ende-start))"
   ]
  },
  {
   "cell_type": "code",
   "execution_count": null,
   "metadata": {},
   "outputs": [],
   "source": []
  },
  {
   "cell_type": "code",
   "execution_count": 4,
   "metadata": {},
   "outputs": [
    {
     "ename": "MemoryError",
     "evalue": "",
     "output_type": "error",
     "traceback": [
      "\u001b[1;31m---------------------------------------------------------------------------\u001b[0m",
      "\u001b[1;31mMemoryError\u001b[0m                               Traceback (most recent call last)",
      "\u001b[1;32m<ipython-input-4-b6d401dedc93>\u001b[0m in \u001b[0;36m<module>\u001b[1;34m\u001b[0m\n\u001b[0;32m      2\u001b[0m \u001b[0mp2\u001b[0m \u001b[1;33m=\u001b[0m \u001b[0mnp\u001b[0m\u001b[1;33m.\u001b[0m\u001b[0mload\u001b[0m\u001b[1;33m(\u001b[0m\u001b[1;34m'saved_data/'\u001b[0m \u001b[1;33m+\u001b[0m \u001b[1;34m'18060_2_props_t'\u001b[0m \u001b[1;33m+\u001b[0m\u001b[1;34m'.npy'\u001b[0m\u001b[1;33m)\u001b[0m\u001b[1;33m\u001b[0m\u001b[1;33m\u001b[0m\u001b[0m\n\u001b[0;32m      3\u001b[0m \u001b[0mp3\u001b[0m \u001b[1;33m=\u001b[0m \u001b[0mnp\u001b[0m\u001b[1;33m.\u001b[0m\u001b[0mload\u001b[0m\u001b[1;33m(\u001b[0m\u001b[1;34m'saved_data/'\u001b[0m \u001b[1;33m+\u001b[0m \u001b[1;34m'18060_3_props_t'\u001b[0m \u001b[1;33m+\u001b[0m\u001b[1;34m'.npy'\u001b[0m\u001b[1;33m)\u001b[0m\u001b[1;33m\u001b[0m\u001b[1;33m\u001b[0m\u001b[0m\n\u001b[1;32m----> 4\u001b[1;33m \u001b[0mp4\u001b[0m \u001b[1;33m=\u001b[0m \u001b[0mnp\u001b[0m\u001b[1;33m.\u001b[0m\u001b[0mload\u001b[0m\u001b[1;33m(\u001b[0m\u001b[1;34m'saved_data/'\u001b[0m \u001b[1;33m+\u001b[0m \u001b[1;34m'18060_4_props_t'\u001b[0m \u001b[1;33m+\u001b[0m\u001b[1;34m'.npy'\u001b[0m\u001b[1;33m)\u001b[0m\u001b[1;33m\u001b[0m\u001b[1;33m\u001b[0m\u001b[0m\n\u001b[0m\u001b[0;32m      5\u001b[0m \u001b[0mp5\u001b[0m \u001b[1;33m=\u001b[0m \u001b[0mnp\u001b[0m\u001b[1;33m.\u001b[0m\u001b[0mload\u001b[0m\u001b[1;33m(\u001b[0m\u001b[1;34m'saved_data/'\u001b[0m \u001b[1;33m+\u001b[0m \u001b[1;34m'18060_5_props_t'\u001b[0m \u001b[1;33m+\u001b[0m\u001b[1;34m'.npy'\u001b[0m\u001b[1;33m)\u001b[0m\u001b[1;33m\u001b[0m\u001b[1;33m\u001b[0m\u001b[0m\n",
      "\u001b[1;32m~\\Anaconda3\\lib\\site-packages\\numpy\\lib\\npyio.py\u001b[0m in \u001b[0;36mload\u001b[1;34m(file, mmap_mode, allow_pickle, fix_imports, encoding)\u001b[0m\n\u001b[0;32m    431\u001b[0m             \u001b[1;32melse\u001b[0m\u001b[1;33m:\u001b[0m\u001b[1;33m\u001b[0m\u001b[1;33m\u001b[0m\u001b[0m\n\u001b[0;32m    432\u001b[0m                 return format.read_array(fid, allow_pickle=allow_pickle,\n\u001b[1;32m--> 433\u001b[1;33m                                          pickle_kwargs=pickle_kwargs)\n\u001b[0m\u001b[0;32m    434\u001b[0m         \u001b[1;32melse\u001b[0m\u001b[1;33m:\u001b[0m\u001b[1;33m\u001b[0m\u001b[1;33m\u001b[0m\u001b[0m\n\u001b[0;32m    435\u001b[0m             \u001b[1;31m# Try a pickle\u001b[0m\u001b[1;33m\u001b[0m\u001b[1;33m\u001b[0m\u001b[1;33m\u001b[0m\u001b[0m\n",
      "\u001b[1;32m~\\Anaconda3\\lib\\site-packages\\numpy\\lib\\format.py\u001b[0m in \u001b[0;36mread_array\u001b[1;34m(fp, allow_pickle, pickle_kwargs)\u001b[0m\n\u001b[0;32m    655\u001b[0m             \u001b[0mpickle_kwargs\u001b[0m \u001b[1;33m=\u001b[0m \u001b[1;33m{\u001b[0m\u001b[1;33m}\u001b[0m\u001b[1;33m\u001b[0m\u001b[1;33m\u001b[0m\u001b[0m\n\u001b[0;32m    656\u001b[0m         \u001b[1;32mtry\u001b[0m\u001b[1;33m:\u001b[0m\u001b[1;33m\u001b[0m\u001b[1;33m\u001b[0m\u001b[0m\n\u001b[1;32m--> 657\u001b[1;33m             \u001b[0marray\u001b[0m \u001b[1;33m=\u001b[0m \u001b[0mpickle\u001b[0m\u001b[1;33m.\u001b[0m\u001b[0mload\u001b[0m\u001b[1;33m(\u001b[0m\u001b[0mfp\u001b[0m\u001b[1;33m,\u001b[0m \u001b[1;33m**\u001b[0m\u001b[0mpickle_kwargs\u001b[0m\u001b[1;33m)\u001b[0m\u001b[1;33m\u001b[0m\u001b[1;33m\u001b[0m\u001b[0m\n\u001b[0m\u001b[0;32m    658\u001b[0m         \u001b[1;32mexcept\u001b[0m \u001b[0mUnicodeError\u001b[0m \u001b[1;32mas\u001b[0m \u001b[0merr\u001b[0m\u001b[1;33m:\u001b[0m\u001b[1;33m\u001b[0m\u001b[1;33m\u001b[0m\u001b[0m\n\u001b[0;32m    659\u001b[0m             \u001b[1;32mif\u001b[0m \u001b[0msys\u001b[0m\u001b[1;33m.\u001b[0m\u001b[0mversion_info\u001b[0m\u001b[1;33m[\u001b[0m\u001b[1;36m0\u001b[0m\u001b[1;33m]\u001b[0m \u001b[1;33m>=\u001b[0m \u001b[1;36m3\u001b[0m\u001b[1;33m:\u001b[0m\u001b[1;33m\u001b[0m\u001b[1;33m\u001b[0m\u001b[0m\n",
      "\u001b[1;31mMemoryError\u001b[0m: "
     ]
    }
   ],
   "source": [
    "p1 = np.load('saved_data/' + '18060_1_props_t' +'.npy')\n",
    "p2 = np.load('saved_data/' + '18060_2_props_t' +'.npy')\n",
    "p3 = np.load('saved_data/' + '18060_3_props_t' +'.npy')\n",
    "p4 = np.load('saved_data/' + '18060_4_props_t' +'.npy')\n",
    "p5 = np.load('saved_data/' + '18060_5_props_t' +'.npy')\n"
   ]
  },
  {
   "cell_type": "code",
   "execution_count": 5,
   "metadata": {},
   "outputs": [],
   "source": [
    "p4 = np.load('saved_data/' + '18060_4_offsprings' +'.npy')"
   ]
  },
  {
   "cell_type": "code",
   "execution_count": null,
   "metadata": {},
   "outputs": [],
   "source": []
  },
  {
   "cell_type": "code",
   "execution_count": null,
   "metadata": {},
   "outputs": [],
   "source": []
  },
  {
   "cell_type": "code",
   "execution_count": null,
   "metadata": {},
   "outputs": [],
   "source": []
  },
  {
   "cell_type": "code",
   "execution_count": null,
   "metadata": {},
   "outputs": [],
   "source": []
  }
 ],
 "metadata": {
  "kernelspec": {
   "display_name": "Python 3",
   "language": "python",
   "name": "python3"
  },
  "language_info": {
   "codemirror_mode": {
    "name": "ipython",
    "version": 3
   },
   "file_extension": ".py",
   "mimetype": "text/x-python",
   "name": "python",
   "nbconvert_exporter": "python",
   "pygments_lexer": "ipython3",
   "version": "3.7.1"
  }
 },
 "nbformat": 4,
 "nbformat_minor": 2
}
