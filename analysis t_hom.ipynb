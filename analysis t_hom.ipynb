{
 "cells": [
  {
   "cell_type": "markdown",
   "metadata": {},
   "source": [
    "Vorbereitung:"
   ]
  },
  {
   "cell_type": "code",
   "execution_count": 1,
   "metadata": {},
   "outputs": [],
   "source": [
    "from lgca import get_lgca\n",
    "from lgca.helpers import *\n",
    "from lgca.analysis import *\n",
    "import numpy as np\n",
    "import matplotlib.pyplot as plt\n",
    "import pathlib\n",
    "import time\n",
    "import pandas as pd\n",
    "import collections\n",
    "import statistics\n",
    "from scipy.interpolate import interp1d\n"
   ]
  },
  {
   "cell_type": "markdown",
   "metadata": {},
   "source": [
    "thom erstellen:"
   ]
  },
  {
   "cell_type": "code",
   "execution_count": 11,
   "metadata": {},
   "outputs": [
    {
     "name": "stdout",
     "output_type": "stream",
     "text": [
      "Max: 16746, Min: 3402, Mean: 9094.833333\n",
      "[ 6467.  5353.  3402. 16746.  7120. 15481.]\n"
     ]
    }
   ],
   "source": [
    "create = True\n",
    "variation = '1803'\n",
    "filename = '7fa22bc'\n",
    "path = 'saved_data/1803_nodes/'\n",
    "rep = 6\n",
    "\n",
    "if create:\n",
    "    create_thom(variation=variation, filename=filename, path=path, rep=rep, save=True)\n",
    "    \n",
    "thom = np.load(path + variation +'_thom.npy')\n",
    "print(thom)"
   ]
  },
  {
   "cell_type": "markdown",
   "metadata": {},
   "source": [
    "thoms einlesen:"
   ]
  },
  {
   "cell_type": "code",
   "execution_count": 6,
   "metadata": {
    "scrolled": true
   },
   "outputs": [],
   "source": [
    "variation01 = '1801'\n",
    "path01 = 'saved_data/pummelzeugs_1/'\n",
    "thom01 = np.load(path01 + variation01 + '_thom.npy')\n",
    "\n",
    "variation02 = '1802'\n",
    "path02 = 'saved_data/pummelzeugs_2/'\n",
    "thom02 = np.load(path02 + variation02 + '_thom.npy')\n",
    "\n",
    "variation45 = '18045'\n",
    "path45 = 'saved_data/pummelzeugs_45/'\n",
    "thom45 = np.load(path45 + variation45 + '_thom.npy')\n",
    "\n",
    "variation60 = '18060'\n",
    "path60 = 'saved_data/pummelzeugs_60/'\n",
    "thom60 = np.load(path60 + variation60 + '_thom.npy')\n",
    "\n",
    "variation90 = '18090'\n",
    "path90 = 'saved_data/pummelzeugs_90/'\n",
    "thom90 = np.load(path90 + variation90 + '_thom.npy')"
   ]
  },
  {
   "cell_type": "markdown",
   "metadata": {},
   "source": [
    "Datensatz erstellen:"
   ]
  },
  {
   "cell_type": "code",
   "execution_count": null,
   "metadata": {},
   "outputs": [],
   "source": [
    "# data = {'rc=02': thom02, 'rc=01': thom01}\n",
    "data = {'rc=01': thom01, 'rc=02': thom02, 'rc=45': thom45, 'rc=60': thom60, 'rc=90': thom90}\n",
    "# data = {'rc=90': thom90}"
   ]
  },
  {
   "cell_type": "markdown",
   "metadata": {},
   "source": [
    "Histogramme erstellen:"
   ]
  },
  {
   "cell_type": "code",
   "execution_count": null,
   "metadata": {},
   "outputs": [],
   "source": [
    "intervall = 1000\n",
    "save = False\n",
    "for i, key in enumerate(data):\n",
    "#     print(key, i)\n",
    "    thom = data[key]\n",
    "    plot_histogram_thom(thom, int_length=intervall, save=save, id=key + 'histogram with li = ' + str(intervall))"
   ]
  },
  {
   "cell_type": "markdown",
   "metadata": {},
   "source": [
    "Vergleich verschiedener Variations:"
   ]
  },
  {
   "cell_type": "code",
   "execution_count": null,
   "metadata": {},
   "outputs": [],
   "source": [
    "intervall = 1000\n",
    "save = False\n",
    "if save:\n",
    "    filename = ''\n",
    "    for i, key in enumerate(data):\n",
    "        filename = filename + str(key) + '_'\n",
    "    thom_all(time_array=data, int_length = intervall, save=save, id=filename + 'li=' + str(intervall))\n",
    "else:\n",
    "    thom_all(time_array=data, int_length = intervall)"
   ]
  },
  {
   "cell_type": "code",
   "execution_count": 10,
   "metadata": {},
   "outputs": [
    {
     "name": "stdout",
     "output_type": "stream",
     "text": [
      "5754.0 6\n",
      "5987.0 14\n",
      "5027.0 16\n",
      "5711.0 18\n",
      "5373.0 22\n",
      "5906.0 23\n",
      "5599.0 26\n",
      "5771.0 31\n",
      "5067.0 54\n",
      "5429.0 55\n",
      "5118.0 69\n",
      "5135.0 70\n",
      "5144.0 93\n",
      "5233.0 94\n",
      "5269.0 98\n",
      "5071.0 113\n",
      "5870.0 126\n",
      "5518.0 129\n",
      "5098.0 130\n",
      "5955.0 144\n",
      "5104.0 151\n",
      "5427.0 160\n",
      "5296.0 162\n",
      "5343.0 176\n",
      "5809.0 196\n",
      "5642.0 200\n",
      "5375.0 210\n",
      "5820.0 222\n",
      "5513.0 228\n",
      "5943.0 230\n",
      "5956.0 231\n",
      "5275.0 239\n",
      "5920.0 242\n",
      "5244.0 253\n",
      "5599.0 259\n",
      "5235.0 264\n",
      "5088.0 280\n",
      "5945.0 286\n",
      "5351.0 288\n",
      "5236.0 290\n",
      "5271.0 291\n",
      "5594.0 305\n",
      "5233.0 319\n",
      "5069.0 334\n",
      "5660.0 336\n",
      "5824.0 345\n",
      "5923.0 347\n",
      "5027.0 355\n",
      "5958.0 369\n",
      "5779.0 382\n",
      "5085.0 391\n",
      "5156.0 420\n",
      "5414.0 421\n",
      "5439.0 426\n",
      "5584.0 450\n",
      "5420.0 454\n",
      "5541.0 460\n",
      "5839.0 462\n",
      "5797.0 472\n",
      "5036.0 484\n",
      "5333.0 488\n",
      "5533.0 493\n",
      "5900.0 495\n"
     ]
    }
   ],
   "source": [
    "for i, entry in enumerate(thom01):\n",
    "    if entry >= 5000 and entry <= 6000:\n",
    "        print(entry, i)"
   ]
  },
  {
   "cell_type": "code",
   "execution_count": null,
   "metadata": {},
   "outputs": [],
   "source": [
    "intervall = 500\n",
    "save = True\n",
    "data ={'rc=01': thom01}\n",
    "for i, key in enumerate(data):\n",
    "#     print(key, i)\n",
    "    thom = data[key]\n",
    "    plot_histogram_thom(thom, int_length=intervall, save=save, id=key + 'histogram with li = ' + str(intervall))"
   ]
  },
  {
   "cell_type": "code",
   "execution_count": null,
   "metadata": {},
   "outputs": [],
   "source": []
  },
  {
   "cell_type": "code",
   "execution_count": null,
   "metadata": {},
   "outputs": [],
   "source": [
    "#----------------------------------------#\n",
    "    #Poisson Verteilung...fraglich!\n",
    "#----------------------------------------#\n",
    "\n",
    "# import scipy as sp\n",
    "# from scipy.optimize import curve_fit\n",
    "# from scipy.special import factorial\n",
    "# def poisson(k, lamb):\n",
    "#     return (lamb**k/factorial(k)) * np.exp(-lamb)\n",
    "\n",
    "# bin_middles = (x + 500)/500\n",
    "# print(bin_middles)\n",
    "# entries = y\n",
    "# print(entries)\n",
    "\n",
    "# parameters, cov_matrix = curve_fit(poisson, bin_middles, entries)\n",
    "# print(parameters, cov_matrix)\n",
    "# print (scipy.stats.lognorm.fit(entries))\n",
    "# plt.bar(x+int_length/2, y, width=int_length, color='black', alpha=0.5)\n",
    "# plt.plot(bin_middles, poisson(bin_middles, *parameters), 'r-', lw=2)\n",
    "# x_plot = bin_middles * 500\n",
    "\n",
    "# plt.plot(x_plot, 600*poisson(bin_middles, *parameters), 'r-', lw=2)\n",
    "# plt.show()\n"
   ]
  },
  {
   "cell_type": "code",
   "execution_count": null,
   "metadata": {},
   "outputs": [],
   "source": [
    "\n"
   ]
  },
  {
   "cell_type": "code",
   "execution_count": null,
   "metadata": {},
   "outputs": [],
   "source": []
  }
 ],
 "metadata": {
  "kernelspec": {
   "display_name": "Python 3",
   "language": "python",
   "name": "python3"
  },
  "language_info": {
   "codemirror_mode": {
    "name": "ipython",
    "version": 3
   },
   "file_extension": ".py",
   "mimetype": "text/x-python",
   "name": "python",
   "nbconvert_exporter": "python",
   "pygments_lexer": "ipython3",
   "version": "3.7.1"
  }
 },
 "nbformat": 4,
 "nbformat_minor": 2
}
