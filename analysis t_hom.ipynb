{
 "cells": [
  {
   "cell_type": "markdown",
   "metadata": {},
   "source": [
    "Vorbereitung:"
   ]
  },
  {
   "cell_type": "code",
   "execution_count": 1,
   "metadata": {},
   "outputs": [],
   "source": [
    "from lgca import get_lgca\n",
    "from lgca.helpers import *\n",
    "from lgca.analysis import *\n",
    "import numpy as np\n",
    "import matplotlib.pyplot as plt\n",
    "import pathlib\n",
    "import time\n",
    "import pandas as pd\n",
    "import collections\n",
    "import statistics\n",
    "from scipy.interpolate import interp1d\n"
   ]
  },
  {
   "cell_type": "markdown",
   "metadata": {},
   "source": [
    "thom erstellen:"
   ]
  },
  {
   "cell_type": "code",
   "execution_count": null,
   "metadata": {},
   "outputs": [],
   "source": [
    "# create = False\n",
    "# variation = '18060'\n",
    "# filename = '6e8510d'\n",
    "# path = 'saved_data/pummelzeugs_60/'\n",
    "# rep = 500\n",
    "\n",
    "# if create:\n",
    "#     create_thom(variation=variation, filename=filename, path=path, rep=rep, save=True)"
   ]
  },
  {
   "cell_type": "markdown",
   "metadata": {},
   "source": [
    "thoms einlesen:"
   ]
  },
  {
   "cell_type": "code",
   "execution_count": 2,
   "metadata": {
    "scrolled": true
   },
   "outputs": [],
   "source": [
    "variation01 = '1801'\n",
    "path01 = 'saved_data/pummelzeugs_1/'\n",
    "thom01 = np.load(path01 + variation01 + '_thom.npy')\n",
    "\n",
    "variation60 = '18060'\n",
    "path60 = 'saved_data/pummelzeugs_60/'\n",
    "thom60 = np.load(path60 + variation60 + '_thom.npy')\n",
    "\n",
    "variation90 = '18090'\n",
    "path90 = 'saved_data/pummelzeugs_90/'\n",
    "thom90 = np.load(path90 + variation90 + '_thom.npy')"
   ]
  },
  {
   "cell_type": "markdown",
   "metadata": {},
   "source": [
    "Datensatz erstellen:"
   ]
  },
  {
   "cell_type": "code",
   "execution_count": 3,
   "metadata": {},
   "outputs": [],
   "source": [
    "data = {'rc=01': thom01, 'rc=60': thom60, 'rc=90': thom90}"
   ]
  },
  {
   "cell_type": "markdown",
   "metadata": {},
   "source": [
    "Histogramme erstellen:"
   ]
  },
  {
   "cell_type": "code",
   "execution_count": 4,
   "metadata": {},
   "outputs": [
    {
     "name": "stdout",
     "output_type": "stream",
     "text": [
      "max in intervall [5900, 6000]\n",
      "with total=  10.0\n"
     ]
    },
    {
     "data": {
      "image/png": "[encoded data removed]",
      "text/plain": [
       "<Figure size 432x288 with 1 Axes>"
      ]
     },
     "metadata": {
      "needs_background": "light"
     },
     "output_type": "display_data"
    },
    {
     "name": "stdout",
     "output_type": "stream",
     "text": [
      "max in intervall [6000, 6100]\n",
      "with total=  10.0\n"
     ]
    },
    {
     "data": {
      "image/png": "[encoded data removed]",
      "text/plain": [
       "<Figure size 432x288 with 1 Axes>"
      ]
     },
     "metadata": {
      "needs_background": "light"
     },
     "output_type": "display_data"
    },
    {
     "name": "stdout",
     "output_type": "stream",
     "text": [
      "max in intervall [7800, 7900]\n",
      "with total=  8.0\n"
     ]
    },
    {
     "data": {
      "image/png": "[encoded data removed]",
      "text/plain": [
       "<Figure size 432x288 with 1 Axes>"
      ]
     },
     "metadata": {
      "needs_background": "light"
     },
     "output_type": "display_data"
    }
   ],
   "source": [
    "intervall = 100\n",
    "save = False\n",
    "for i, key in enumerate(data):\n",
    "#     print(key, i)\n",
    "    thom = data[key]\n",
    "    plot_histogram_thom(thom, int_length=intervall, save=save, id=key + 'histogram with li = ' + str(intervall))"
   ]
  },
  {
   "cell_type": "markdown",
   "metadata": {},
   "source": [
    "Vergleich verschiedener Variations:"
   ]
  },
  {
   "cell_type": "code",
   "execution_count": null,
   "metadata": {},
   "outputs": [],
   "source": [
    "intervall = 3000\n",
    "save = True\n",
    "if save:\n",
    "    filename = ''\n",
    "    for i, key in enumerate(data):\n",
    "        filename = filename + str(key) + '_'\n",
    "    thom_all(time_array=data, int_length = intervall, save=save, id=filename + 'li=' + str(intervall))\n",
    "else:\n",
    "    thom_all(time_array=data, int_length = intervall)"
   ]
  },
  {
   "cell_type": "code",
   "execution_count": 9,
   "metadata": {},
   "outputs": [
    {
     "name": "stdout",
     "output_type": "stream",
     "text": [
      "7839.0 38\n",
      "7883.0 42\n",
      "7823.0 71\n",
      "7828.0 124\n",
      "7813.0 249\n",
      "7803.0 337\n",
      "7899.0 396\n",
      "7854.0 449\n"
     ]
    }
   ],
   "source": [
    "for i, entry in enumerate(thom90):\n",
    "    if entry >= 7800 and entry <= 7900:\n",
    "        print(entry, i)"
   ]
  },
  {
   "cell_type": "code",
   "execution_count": null,
   "metadata": {},
   "outputs": [],
   "source": []
  },
  {
   "cell_type": "code",
   "execution_count": null,
   "metadata": {},
   "outputs": [],
   "source": []
  }
 ],
 "metadata": {
  "kernelspec": {
   "display_name": "Python 3",
   "language": "python",
   "name": "python3"
  },
  "language_info": {
   "codemirror_mode": {
    "name": "ipython",
    "version": 3
   },
   "file_extension": ".py",
   "mimetype": "text/x-python",
   "name": "python",
   "nbconvert_exporter": "python",
   "pygments_lexer": "ipython3",
   "version": "3.7.1"
  }
 },
 "nbformat": 4,
 "nbformat_minor": 2
}
