{
 "cells": [
  {
   "cell_type": "markdown",
   "metadata": {},
   "source": [
    "Vorbereitung:"
   ]
  },
  {
   "cell_type": "code",
   "execution_count": 1,
   "metadata": {},
   "outputs": [],
   "source": [
    "from lgca import get_lgca\n",
    "from lgca.helpers import *\n",
    "import numpy as np\n",
    "import matplotlib.pyplot as plt\n",
    "import pathlib\n",
    "import time\n",
    "import pandas as pd\n",
    "import collections\n",
    "import statistics\n",
    "\n",
    "saving_plots = False\n",
    "#Für thom Sammlung:\n",
    "rc = np.array([0,1,2,4,10])"
   ]
  },
  {
   "cell_type": "code",
   "execution_count": 2,
   "metadata": {},
   "outputs": [],
   "source": [
    "def ana_t(thom):\n",
    "    if len(thom.shape)==1:\n",
    "        plot_thom_hist(thom)\n",
    "    else:\n",
    "        plot_thom_rc(thom)\n",
    "\n",
    "def plot_thom_hist(thom, save=False):\n",
    "    max = thom.max().astype(int)\n",
    "#     print(max)\n",
    "    counter=collections.Counter(thom.astype(int))\n",
    "#     print(counter)\n",
    "    val = np.zeros(max+1)\n",
    "# #     print(counter.keys())\n",
    "    for key in counter.keys():\n",
    "#         print(key)\n",
    "        val[key] = counter[key]\n",
    "\n",
    "    fig, ax = plt.subplots()\n",
    "    plt.xlim(0, max+1)\n",
    "#     plt.ylim(0, val.max())\n",
    "    plt.yticks(np.arange(0, val.max()+0.2, 1))\n",
    "    ax.set(xlabel='t_hom', ylabel='absolute frequency')\n",
    "    time = range(0,max+1)\n",
    "    plt.bar(time, val, color='cyan', edgecolor='blue', width=0.5)\n",
    "    plt.show()\n",
    "    \n",
    "def plot_thom_rc(thom, save=False):\n",
    "    wdh, ver = thom.shape\n",
    "    print(wdh, ver)\n",
    "    up = np.zeros(ver)\n",
    "    mean = np.zeros(ver)\n",
    "    lo = np.zeros(ver)\n",
    "    \n",
    "    for v in range(0,ver):\n",
    "#         print(v)\n",
    "        lo[v] = thom[:,v].min()\n",
    "        up[v] = thom[:,v].max()\n",
    "        mean[v] = thom[:,v].mean()\n",
    "#     print(lo, up, mean)\n",
    "    plt.xlim(0,rc.max())\n",
    "    data = pd.DataFrame({'x': rc, 'lower': lo, 'mean': mean, 'upper': up})\n",
    "    plt.plot( 'x', 'lower', data=data, marker='', color='blue', linewidth=1, linestyle='dashed', label='min')\n",
    "    plt.plot( 'x', 'mean', data=data, marker='o', markersize=7, color='seagreen', linewidth=2, label='mean')\n",
    "    plt.plot( 'x', 'upper', data=data, marker='', color='blue', linewidth=1, linestyle='dashed', label=\"max\")\n",
    "    plt.legend()\n",
    "    #if save:\n",
    "\n",
    "def verteilung(thom, li):\n",
    "    max = thom.max().astype(int)\n",
    "    l = len(thom)\n",
    "    #intervalllänge\n",
    "#     li = 500\n",
    "    #anz intervalle\n",
    "    ni = (max / li + 1).astype(int) #\n",
    "    count = np.zeros(ni)\n",
    "#     sort = np.sort(thom)\n",
    "\n",
    "    for entry in thom:\n",
    "        c = (entry / li).astype(int)\n",
    "        count[c] += 1\n",
    "    \n",
    "    if count.sum() != 100:\n",
    "        print('FEHLER!')\n",
    "    else:\n",
    "        print(count)\n",
    "        \n",
    "    fig, ax = plt.subplots()\n",
    "    x = np.arange(0, ni)\n",
    "    y = count[x]\n",
    "    ax.plot(x, y)\n",
    "    plt.xlim(0,ni-1)\n",
    "    plt.ylim(0, y.max()+1)\n",
    "    ax.set(xlabel='intervall', ylabel='absolut')\n",
    "    plt.show()\n",
    "\n",
    "def verteilung_bar(thom, li):\n",
    "    max = thom.max().astype(int)\n",
    "    l = len(thom)\n",
    "    #intervalllänge\n",
    "#     li = 500\n",
    "    #anz intervalle\n",
    "    ni = (max / li + 1).astype(int) #\n",
    "    count = np.zeros(ni+1)\n",
    "    #     sort = np.sort(thom)\n",
    "\n",
    "    for entry in thom:\n",
    "        c = (entry / li).astype(int)\n",
    "        count[c] += 1\n",
    "\n",
    "    # if count1.sum() != 100:\n",
    "    #     print('FEHLER!')\n",
    "    # else:\n",
    "    #     print(count)\n",
    "    ###\n",
    "    # plt.bar(r, bars2, bottom=bars1, color='#557f2d', edgecolor='white', width=barWidth)\n",
    "    # # Create green bars (top)\n",
    "    # plt.bar(r, bars3, bottom=bars, color='#2d7f5e', edgecolor='white', width=barWidth)\n",
    "\n",
    "    ###\n",
    "    fig, ax = plt.subplots()\n",
    "    x = np.arange(0, max + li, li)\n",
    "#     print(x1, x2)\n",
    "    y = count[(x/li).astype(int)]\n",
    "#     y2 = count[(x2/li2).astype(int)]\n",
    "    plt.bar(x+li/2, y, width=li, color='cyan', edgecolor='blue', alpha=0.5)\n",
    "    # plt.bar(x2, y2, width=li2, color='cyan', edgecolor='blue', alpha = 0.5)\n",
    "    plt.xlim(0, max + li)\n",
    "    plt.ylim(0, y.max()+1)\n",
    "    # # plt.xticks(np.arange(0, 2000)) \n",
    "    ax.set(xlabel='intervall', ylabel='absolut')\n",
    "    plt.show()\n",
    "\n"
   ]
  },
  {
   "cell_type": "markdown",
   "metadata": {},
   "source": [
    "Daten einlesen:"
   ]
  },
  {
   "cell_type": "code",
   "execution_count": 3,
   "metadata": {
    "scrolled": true
   },
   "outputs": [],
   "source": [
    "name = '18090_th'\n",
    "name60 = '18060_th'\n",
    "thom = np.load('saved_data/' + name +'.npy')\n",
    "thom60 = np.load('saved_data/' + name60 +'.npy')\n",
    "\n",
    "# %matplotlib notebook\n",
    "# thom = np.array([[1,2,3,3,5], [7,10,1,15,2]])\n",
    "# t = np.array([1,10,7,6])\n",
    "\n",
    "# ana_t(thom)\n",
    "# ana_t(t)\n",
    "\n",
    "\n",
    "\n"
   ]
  },
  {
   "cell_type": "markdown",
   "metadata": {},
   "source": [
    "weiteres:"
   ]
  },
  {
   "cell_type": "code",
   "execution_count": 4,
   "metadata": {},
   "outputs": [
    {
     "data": {
      "image/png": "[encoded data removed]",
      "text/plain": [
       "<Figure size 432x288 with 1 Axes>"
      ]
     },
     "metadata": {
      "needs_background": "light"
     },
     "output_type": "display_data"
    },
    {
     "data": {
      "image/png": "[encoded data removed]",
      "text/plain": [
       "<Figure size 432x288 with 1 Axes>"
      ]
     },
     "metadata": {
      "needs_background": "light"
     },
     "output_type": "display_data"
    }
   ],
   "source": [
    "verteilung_bar(thom60, 500)\n",
    "verteilung_bar(thom, 500)"
   ]
  },
  {
   "cell_type": "code",
   "execution_count": 5,
   "metadata": {},
   "outputs": [],
   "source": [
    "# verteilung(thom, li=500)"
   ]
  },
  {
   "cell_type": "code",
   "execution_count": 6,
   "metadata": {},
   "outputs": [
    {
     "data": {
      "text/plain": [
       "8468.35"
      ]
     },
     "execution_count": 6,
     "metadata": {},
     "output_type": "execute_result"
    }
   ],
   "source": [
    "thom60.mean()"
   ]
  },
  {
   "cell_type": "code",
   "execution_count": null,
   "metadata": {},
   "outputs": [],
   "source": []
  }
 ],
 "metadata": {
  "kernelspec": {
   "display_name": "Python 3",
   "language": "python",
   "name": "python3"
  },
  "language_info": {
   "codemirror_mode": {
    "name": "ipython",
    "version": 3
   },
   "file_extension": ".py",
   "mimetype": "text/x-python",
   "name": "python",
   "nbconvert_exporter": "python",
   "pygments_lexer": "ipython3",
   "version": "3.7.1"
  }
 },
 "nbformat": 4,
 "nbformat_minor": 2
}
