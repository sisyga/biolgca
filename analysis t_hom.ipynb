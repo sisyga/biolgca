{
 "cells": [
  {
   "cell_type": "markdown",
   "metadata": {},
   "source": [
    "Vorbereitung:"
   ]
  },
  {
   "cell_type": "code",
   "execution_count": 1,
   "metadata": {},
   "outputs": [],
   "source": [
    "from lgca import get_lgca\n",
    "from lgca.helpers import *\n",
    "from lgca.analysis import *\n",
    "import numpy as np\n",
    "import matplotlib.pyplot as plt\n",
    "import pathlib\n",
    "import time\n",
    "import pandas as pd\n",
    "import collections\n",
    "import statistics\n",
    "from scipy.interpolate import interp1d\n"
   ]
  },
  {
   "cell_type": "markdown",
   "metadata": {},
   "source": [
    "thom erstellen:"
   ]
  },
  {
   "cell_type": "code",
   "execution_count": null,
   "metadata": {},
   "outputs": [],
   "source": [
    "create = True\n",
    "variation = '18045'\n",
    "filename = 'af7d9b3'\n",
    "path = 'saved_data/pummelzeugs_45/'\n",
    "rep = 500\n",
    "\n",
    "if create:\n",
    "    create_thom(variation=variation, filename=filename, path=path, rep=rep, save=True)"
   ]
  },
  {
   "cell_type": "markdown",
   "metadata": {},
   "source": [
    "thoms einlesen:"
   ]
  },
  {
   "cell_type": "code",
   "execution_count": 2,
   "metadata": {
    "scrolled": true
   },
   "outputs": [],
   "source": [
    "variation01 = '1801'\n",
    "path01 = 'saved_data/pummelzeugs_1/'\n",
    "thom01 = np.load(path01 + variation01 + '_thom.npy')\n",
    "\n",
    "variation02 = '1802'\n",
    "path02 = 'saved_data/pummelzeugs_2/'\n",
    "thom02 = np.load(path02 + variation02 + '_thom.npy')\n",
    "\n",
    "variation45 = '18045'\n",
    "path45 = 'saved_data/pummelzeugs_45/'\n",
    "thom45 = np.load(path45 + variation45 + '_thom.npy')\n",
    "\n",
    "variation60 = '18060'\n",
    "path60 = 'saved_data/pummelzeugs_60/'\n",
    "thom60 = np.load(path60 + variation60 + '_thom.npy')\n",
    "\n",
    "variation90 = '18090'\n",
    "path90 = 'saved_data/pummelzeugs_90/'\n",
    "thom90 = np.load(path90 + variation90 + '_thom.npy')"
   ]
  },
  {
   "cell_type": "markdown",
   "metadata": {},
   "source": [
    "Datensatz erstellen:"
   ]
  },
  {
   "cell_type": "code",
   "execution_count": null,
   "metadata": {},
   "outputs": [],
   "source": [
    "# data = {'rc=02': thom02, 'rc=01': thom01}\n",
    "data = {'rc=01': thom01, 'rc=02': thom02, 'rc=45': thom45, 'rc=60': thom60, 'rc=90': thom90}\n",
    "# data = {'rc=90': thom90}"
   ]
  },
  {
   "cell_type": "markdown",
   "metadata": {},
   "source": [
    "Histogramme erstellen:"
   ]
  },
  {
   "cell_type": "code",
   "execution_count": null,
   "metadata": {},
   "outputs": [],
   "source": [
    "intervall = 1000\n",
    "save = False\n",
    "for i, key in enumerate(data):\n",
    "#     print(key, i)\n",
    "    thom = data[key]\n",
    "    plot_histogram_thom(thom, int_length=intervall, save=save, id=key + 'histogram with li = ' + str(intervall))"
   ]
  },
  {
   "cell_type": "markdown",
   "metadata": {},
   "source": [
    "Vergleich verschiedener Variations:"
   ]
  },
  {
   "cell_type": "code",
   "execution_count": null,
   "metadata": {},
   "outputs": [],
   "source": [
    "intervall = 1000\n",
    "save = False\n",
    "if save:\n",
    "    filename = ''\n",
    "    for i, key in enumerate(data):\n",
    "        filename = filename + str(key) + '_'\n",
    "    thom_all(time_array=data, int_length = intervall, save=save, id=filename + 'li=' + str(intervall))\n",
    "else:\n",
    "    thom_all(time_array=data, int_length = intervall)"
   ]
  },
  {
   "cell_type": "code",
   "execution_count": 3,
   "metadata": {},
   "outputs": [
    {
     "name": "stdout",
     "output_type": "stream",
     "text": [
      "7839.0 38\n",
      "7883.0 42\n",
      "7823.0 71\n",
      "7828.0 124\n",
      "7813.0 249\n",
      "7803.0 337\n",
      "7899.0 396\n",
      "7854.0 449\n"
     ]
    }
   ],
   "source": [
    "for i, entry in enumerate(thom90):\n",
    "    if entry >= 7800 and entry <= 7900:\n",
    "        print(entry, i)"
   ]
  },
  {
   "cell_type": "code",
   "execution_count": null,
   "metadata": {},
   "outputs": [],
   "source": [
    "intervall = 500\n",
    "save = True\n",
    "data ={'rc=01': thom01}\n",
    "for i, key in enumerate(data):\n",
    "#     print(key, i)\n",
    "    thom = data[key]\n",
    "    plot_histogram_thom(thom, int_length=intervall, save=save, id=key + 'histogram with li = ' + str(intervall))"
   ]
  },
  {
   "cell_type": "code",
   "execution_count": null,
   "metadata": {},
   "outputs": [],
   "source": []
  },
  {
   "cell_type": "code",
   "execution_count": null,
   "metadata": {},
   "outputs": [],
   "source": [
    "#----------------------------------------#\n",
    "    #Poisson Verteilung...fraglich!\n",
    "#----------------------------------------#\n",
    "\n",
    "# import scipy as sp\n",
    "# from scipy.optimize import curve_fit\n",
    "# from scipy.special import factorial\n",
    "# def poisson(k, lamb):\n",
    "#     return (lamb**k/factorial(k)) * np.exp(-lamb)\n",
    "\n",
    "# bin_middles = (x + 500)/500\n",
    "# print(bin_middles)\n",
    "# entries = y\n",
    "# print(entries)\n",
    "\n",
    "# parameters, cov_matrix = curve_fit(poisson, bin_middles, entries)\n",
    "# print(parameters, cov_matrix)\n",
    "# print (scipy.stats.lognorm.fit(entries))\n",
    "# plt.bar(x+int_length/2, y, width=int_length, color='black', alpha=0.5)\n",
    "# plt.plot(bin_middles, poisson(bin_middles, *parameters), 'r-', lw=2)\n",
    "# x_plot = bin_middles * 500\n",
    "\n",
    "# plt.plot(x_plot, 600*poisson(bin_middles, *parameters), 'r-', lw=2)\n",
    "# plt.show()\n"
   ]
  },
  {
   "cell_type": "code",
   "execution_count": null,
   "metadata": {},
   "outputs": [],
   "source": [
    "\n"
   ]
  },
  {
   "cell_type": "code",
   "execution_count": null,
   "metadata": {},
   "outputs": [],
   "source": []
  }
 ],
 "metadata": {
  "kernelspec": {
   "display_name": "Python 3",
   "language": "python",
   "name": "python3"
  },
  "language_info": {
   "codemirror_mode": {
    "name": "ipython",
    "version": 3
   },
   "file_extension": ".py",
   "mimetype": "text/x-python",
   "name": "python",
   "nbconvert_exporter": "python",
   "pygments_lexer": "ipython3",
   "version": "3.7.1"
  }
 },
 "nbformat": 4,
 "nbformat_minor": 2
}
