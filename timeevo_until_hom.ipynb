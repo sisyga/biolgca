{
 "cells": [
  {
   "cell_type": "code",
   "execution_count": 1,
   "metadata": {},
   "outputs": [],
   "source": [
    "from lgca import get_lgca\n",
    "from lgca.helpers import *\n",
    "import numpy as np\n",
    "import matplotlib.pyplot as plt\n",
    "import time\n",
    "\n",
    "# Paraliste:\n",
    "# timesteps = 2\n",
    "dim = 90\n",
    "dens = 1\n",
    "rc = 0\n",
    "birthrate = 0.5\n",
    "deathrate = 0.02\n",
    "\n",
    "# Ausgabe aller Indizes\n",
    "ausgabe = False\n",
    "saving = True\n",
    "id = 18090"
   ]
  },
  {
   "cell_type": "code",
   "execution_count": 2,
   "metadata": {},
   "outputs": [
    {
     "name": "stdout",
     "output_type": "stream",
     "text": [
      "standard deviation set to =  0.1\n",
      "Progress: [####################] 100% Done...\n",
      "WARNING: timestep would be too large!\n",
      "5001\n"
     ]
    }
   ],
   "source": [
    "# Durchlauf\n",
    "lgca= get_lgca(ib=True, geometry='lin', interaction='inheritance', bc='reflecting',\\\n",
    "               density = dens, dims = dim, r_b = birthrate, variation = False, restchannels = rc ,r_d = deathrate)\n",
    "# lgca.timeevo(timesteps, record=True)\n",
    "lgca.timeevo_until_hom(record = True)\n",
    "print(len(lgca.props_t))\n",
    "# lgca.bar_stacked_relative(save = saving, id = id)\n",
    "# lgca.spatial_plot()\n",
    "# count_fam(lgca)\n",
    "# errors(lgca)"
   ]
  },
  {
   "cell_type": "code",
   "execution_count": 3,
   "metadata": {},
   "outputs": [
    {
     "ename": "SyntaxError",
     "evalue": "invalid syntax (<ipython-input-3-d41ba1c1482a>, line 7)",
     "output_type": "error",
     "traceback": [
      "\u001b[1;36m  File \u001b[1;32m\"<ipython-input-3-d41ba1c1482a>\"\u001b[1;36m, line \u001b[1;32m7\u001b[0m\n\u001b[1;33m    if ausgabe:\u001b[0m\n\u001b[1;37m              ^\u001b[0m\n\u001b[1;31mSyntaxError\u001b[0m\u001b[1;31m:\u001b[0m invalid syntax\n"
     ]
    }
   ],
   "source": [
    "%matplotlib notebook\n",
    "start = time.time()\n",
    "bar_stacked_relative(lgca.props_t, save=saving, id=id)\n",
    "ende = time.time()\n",
    "print('{:5.3f}s'.format((ende-start)/3600))\n",
    "# alle Maße\n",
    "if ausgabe:\n",
    "    print('Shannonindex ', entropies(lgca.props_t,1)) \n",
    "    print('Simpsonindex ', entropies(lgca.props_t,1.5))\n",
    "    print('Ginisimpsonindex ', entropies(lgca.props_t,2))\n",
    "if saving:\n",
    "    np.save('saved_data/' + 'props_t id=' + str(id), lgca.props_t)\n",
    "    np.save('saved_data/' + 'nodes_t id=' + str(id), lgca.nodes_t)\n",
    "\n",
    "#     eig = np.load('saved_data/' + 'props_t id=' + str(id) +'.npy')\n",
    "    np.savez('saved_data/' + 'Parameter id=' + str(id), density = lgca.density, restchannels = lgca.restchannels,\\\n",
    "             dimension=lgca.l, kappa=lgca.K, rb=lgca.r_b, rd=lgca.r_d, m=lgca.r_int)"
   ]
  },
  {
   "cell_type": "code",
   "execution_count": null,
   "metadata": {},
   "outputs": [],
   "source": [
    "# sh=entropies(lgca.props_t, 1)\n",
    "# si=entropies(lgca.props_t, 1.5)\n",
    "# gi=entropies(lgca.props_t, 2)\n",
    "# print(sh, si, gi)\n",
    "# plot_entropies_together(lgca.props_t, save=saving, id=id)\n",
    "# entropies(eig, 1.5, plot=True)\n",
    "# %matplotlib notebook\n",
    "plot_popsize(lgca.props_t, save=saving, id=id)"
   ]
  },
  {
   "cell_type": "code",
   "execution_count": null,
   "metadata": {},
   "outputs": [],
   "source": [
    "if ausgabe:\n",
    "    print('Hill erster Ordnung ', hillnumber(lgca.props_t,1))\n",
    "    print('Hill zweiter Ordnung ', hillnumber(lgca.props_t,2))\n",
    "    print('Hill dritter Ordnung ', hillnumber(lgca.props_t,3))\n",
    "    "
   ]
  },
  {
   "cell_type": "code",
   "execution_count": null,
   "metadata": {},
   "outputs": [],
   "source": [
    "# %matplotlib notebook\n",
    "plot_sh_gi_hh(lgca.props_t, save=saving, id=id)\n",
    "# h1=hillnumber(lgca.props_t, 1)\n",
    "# h2=hillnumber(lgca.props_t, 2)\n",
    "# h3=hillnumber(lgca.props_t, 3)\n",
    "# print(h1, h2, h3)\n",
    "\n",
    "# plot_hill_together(lgca.props_t, save=saving, id=id)\n",
    "# hillnumber(eig, 3, plot=True)"
   ]
  },
  {
   "cell_type": "code",
   "execution_count": null,
   "metadata": {},
   "outputs": [],
   "source": [
    "# plot_popsize(lgca.props_t, save=saving, id=id)\n"
   ]
  },
  {
   "cell_type": "code",
   "execution_count": null,
   "metadata": {},
   "outputs": [],
   "source": []
  }
 ],
 "metadata": {
  "kernelspec": {
   "display_name": "Python 3",
   "language": "python",
   "name": "python3"
  },
  "language_info": {
   "codemirror_mode": {
    "name": "ipython",
    "version": 3
   },
   "file_extension": ".py",
   "mimetype": "text/x-python",
   "name": "python",
   "nbconvert_exporter": "python",
   "pygments_lexer": "ipython3",
   "version": "3.7.1"
  }
 },
 "nbformat": 4,
 "nbformat_minor": 2
}
