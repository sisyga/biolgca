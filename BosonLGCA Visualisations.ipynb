{
 "cells": [
  {
   "cell_type": "markdown",
   "metadata": {
    "toc": true
   },
   "source": [
    "<h1>Table of Contents<span class=\"tocSkip\"></span></h1>\n",
    "<div class=\"toc\"><ul class=\"toc-item\"><li><span><a href=\"#Power-Memory-Go-or-Grow\" data-toc-modified-id=\"Power-Memory-Go-or-Grow-1\"><span class=\"toc-item-num\">1&nbsp;&nbsp;</span>Power Memory Go or Grow</a></span></li><li><span><a href=\"#Exponential-Memory-Go-or-Grow\" data-toc-modified-id=\"Exponential-Memory-Go-or-Grow-2\"><span class=\"toc-item-num\">2&nbsp;&nbsp;</span>Exponential Memory Go or Grow</a></span></li></ul></div>"
   ]
  },
  {
   "cell_type": "code",
   "execution_count": 1,
   "metadata": {
    "ExecuteTime": {
     "end_time": "2021-05-10T03:34:35.891278Z",
     "start_time": "2021-05-10T03:34:32.661743Z"
    }
   },
   "outputs": [],
   "source": [
    "from IPython.display import Image, display, HTML, Video\n",
    "import numpy as np\n",
    "import matplotlib.pyplot as plt\n",
    "import matplotlib.image as mpimg\n",
    "from matplotlib import rcParams\n",
    "import ipywidgets as widget\n",
    "%matplotlib inline"
   ]
  },
  {
   "cell_type": "code",
   "execution_count": 2,
   "metadata": {
    "ExecuteTime": {
     "end_time": "2021-05-10T03:34:35.912073Z",
     "start_time": "2021-05-10T03:34:35.895783Z"
    }
   },
   "outputs": [],
   "source": [
    "def plot_spatiotemp(run, propName, strID = '1001c'):\n",
    "    directory = 'output/' + strID + '/Run ' + str(run) + \"/\"\n",
    "    if propName == 'density':\n",
    "        display(Image(filename=directory + 'density.jpg'))\n",
    "        plt.show()\n",
    "    elif propName == 'density_rest':\n",
    "        display(Image(filename=directory + 'density_rest.jpg'))\n",
    "        plt.show()\n",
    "    elif propName == 'density_velocity':\n",
    "        display(Image(filename=directory + 'density_velocity.jpg'))\n",
    "        plt.show()\n",
    "    elif propName == 'kappa':\n",
    "        display(Image(filename=directory + 'kappa.jpg'))\n",
    "        plt.show()\n",
    "    elif propName == 'theta':\n",
    "        display(Image(filename=directory + 'theta.jpg'))\n",
    "        plt.show()\n"
   ]
  },
  {
   "cell_type": "code",
   "execution_count": 3,
   "metadata": {
    "ExecuteTime": {
     "end_time": "2021-05-10T03:34:36.102321Z",
     "start_time": "2021-05-10T03:34:35.915665Z"
    }
   },
   "outputs": [],
   "source": [
    "def plot_mean_kt_scatter(strID = '1001c', time=(0,100,1)):\n",
    "    directory = 'output/' + strID + '/Pictures/Mean_kt_scatter/'\n",
    "    display(Image(filename=directory+str(time)+'.jpg'))\n",
    "    plt.show()\n",
    "def plot_spatiotemporal_scatter(strID = '1001c', time=(0,100,1), run=(1,5,1)):\n",
    "    directory = 'output/' + strID + '/Pictures/Run ' + str(run) + \"/spatiotemp_scatter_smooth/\"\n",
    "    display(Image(filename=directory+str(time)+'.jpg'))\n",
    "    plt.show()\n",
    "def plot_kt_hist(strID = '1001c'):\n",
    "    directory = 'output/' + strID + '/Pictures/'\n",
    "    display(Image(filename=directory+'kt_hist.jpg'))\n",
    "    plt.show()"
   ]
  },
  {
   "cell_type": "code",
   "execution_count": 4,
   "metadata": {
    "ExecuteTime": {
     "end_time": "2021-05-10T03:34:36.557197Z",
     "start_time": "2021-05-10T03:34:36.106740Z"
    }
   },
   "outputs": [
    {
     "data": {
      "application/vnd.jupyter.widget-view+json": {
       "model_id": "f9aa5d7cd20e4c39ad2ee83a95bc9056",
       "version_major": 2,
       "version_minor": 0
      },
      "text/plain": [
       "interactive(children=(IntSlider(value=3, description='run', max=5, min=1), Dropdown(description='propName', op…"
      ]
     },
     "metadata": {},
     "output_type": "display_data"
    },
    {
     "data": {
      "text/plain": [
       "<function __main__.plot_spatiotemp(run, propName, strID='1001c')>"
      ]
     },
     "execution_count": 4,
     "metadata": {},
     "output_type": "execute_result"
    }
   ],
   "source": [
    "widget.interact(plot_spatiotemp, run=(1,5,1), propName=['density', 'density_rest', 'density_velocity', 'kappa', 'theta'], strID=['1001c','1002c','1003c','1004c','1005c','1006c','1007c','1008c','1009c','1010c','1011c','1012c','1013c','1014c','1015c','1016c', '1017c', '1001nke', '1002nke', '1003nke', '1004nke', '1005nke', '1001nte','1018c','1016c2','1016cB2'] )"
   ]
  },
  {
   "cell_type": "code",
   "execution_count": 5,
   "metadata": {
    "ExecuteTime": {
     "end_time": "2021-05-10T03:34:36.888571Z",
     "start_time": "2021-05-10T03:34:36.561389Z"
    }
   },
   "outputs": [
    {
     "data": {
      "application/vnd.jupyter.widget-view+json": {
       "model_id": "a13fb534899d4bf29b6ae6d3fd52ae95",
       "version_major": 2,
       "version_minor": 0
      },
      "text/plain": [
       "interactive(children=(Dropdown(description='strID', options=('1001c', '1002c', '1003c', '1004c', '1005c', '100…"
      ]
     },
     "metadata": {},
     "output_type": "display_data"
    },
    {
     "data": {
      "text/plain": [
       "<function __main__.plot_spatiotemporal_scatter(strID='1001c', time=(0, 100, 1), run=(1, 5, 1))>"
      ]
     },
     "execution_count": 5,
     "metadata": {},
     "output_type": "execute_result"
    }
   ],
   "source": [
    "widget.interact(plot_spatiotemporal_scatter, time=(0,100,1), run=(1,5,1), strID=['1001c','1002c','1003c','1004c','1005c','1006c','1007c','1008c','1009c','1010c','1011c','1012c','1013c','1014c','1015c','1016c', '1017c', '1001nke', '1002nke', '1003nke', '1004nke', '1005nke', '1001nte','1018c','1016c2', '1016cB2'])"
   ]
  },
  {
   "cell_type": "code",
   "execution_count": 6,
   "metadata": {
    "ExecuteTime": {
     "end_time": "2021-05-10T03:34:37.157086Z",
     "start_time": "2021-05-10T03:34:36.893041Z"
    }
   },
   "outputs": [
    {
     "data": {
      "application/vnd.jupyter.widget-view+json": {
       "model_id": "5608e04b886145d59c84e5ff0cd57a1e",
       "version_major": 2,
       "version_minor": 0
      },
      "text/plain": [
       "interactive(children=(Dropdown(description='strID', options=('1001c', '1002c', '1003c', '1004c', '1005c', '100…"
      ]
     },
     "metadata": {},
     "output_type": "display_data"
    },
    {
     "data": {
      "text/plain": [
       "<function __main__.plot_mean_kt_scatter(strID='1001c', time=(0, 100, 1))>"
      ]
     },
     "execution_count": 6,
     "metadata": {},
     "output_type": "execute_result"
    }
   ],
   "source": [
    "widget.interact(plot_mean_kt_scatter, time=(0,100,1), strID=['1001c','1002c','1003c','1004c','1005c','1006c','1007c','1008c','1009c','1010c','1011c','1012c','1013c','1014c','1015c','1016c', '1017c', '1001nke', '1002nke', '1003nke', '1004nke', '1005nke', '1001nte','1018c','1016c2','1016cB2'])"
   ]
  },
  {
   "cell_type": "code",
   "execution_count": 7,
   "metadata": {
    "ExecuteTime": {
     "end_time": "2021-05-10T03:34:37.720130Z",
     "start_time": "2021-05-10T03:34:37.160679Z"
    }
   },
   "outputs": [
    {
     "data": {
      "application/vnd.jupyter.widget-view+json": {
       "model_id": "12a7d35c53ab4bee90615758d1a1b341",
       "version_major": 2,
       "version_minor": 0
      },
      "text/plain": [
       "interactive(children=(Dropdown(description='strID', options=('1001c', '1002c', '1003c', '1004c', '1005c', '100…"
      ]
     },
     "metadata": {},
     "output_type": "display_data"
    },
    {
     "data": {
      "text/plain": [
       "<function __main__.plot_kt_hist(strID='1001c')>"
      ]
     },
     "execution_count": 7,
     "metadata": {},
     "output_type": "execute_result"
    }
   ],
   "source": [
    "widget.interact(plot_kt_hist, strID=['1001c','1002c','1003c','1004c','1005c','1006c','1007c','1008c','1009c','1010c','1011c','1012c','1013c','1014c','1015c','1016c', '1017c', '1001nke', '1002nke', '1003nke', '1004nke', '1005nke', '1001nte','1018c', '1016c2' ,'1016cB2'])"
   ]
  },
  {
   "cell_type": "code",
   "execution_count": null,
   "metadata": {},
   "outputs": [],
   "source": []
  },
  {
   "cell_type": "markdown",
   "metadata": {},
   "source": [
    "# Power Memory Go or Grow"
   ]
  },
  {
   "cell_type": "code",
   "execution_count": 8,
   "metadata": {
    "ExecuteTime": {
     "end_time": "2021-05-10T03:34:38.265610Z",
     "start_time": "2021-05-10T03:34:37.727535Z"
    }
   },
   "outputs": [],
   "source": [
    "experiments = {'1.00':'1016c','1.25':'1016cB1_25','1.50':'1016cB1_5','1.75':'1016cB1_75','2.00':'1016cB2','2.25':'1016cB2_25','2.50':'1016cB2_5','2.75':'1016cB2_75','3.00':'1016cB3'}\n",
    "strIDlist=['1016c','1016cB1_25','1016cB1_5','1016cB1_75','1016cB2','1016cB2_25','1016cB2_5','1016cB2_75','1016cB3'] "
   ]
  },
  {
   "cell_type": "code",
   "execution_count": 9,
   "metadata": {
    "ExecuteTime": {
     "end_time": "2021-05-10T03:34:38.525713Z",
     "start_time": "2021-05-10T03:34:38.274901Z"
    }
   },
   "outputs": [],
   "source": [
    "def plot_spatiotemp2(run, propName, exp = 1.00):\n",
    "    experiments = {'1.00':'1016c','1.25':'1016cB1_25','1.50':'1016cB1_5','1.75':'1016cB1_75','2.00':'1016cB2','2.25':'1016cB2_25','2.50':'1016cB2_5','2.75':'1016cB2_75','3.00':'1016cB3'}\n",
    "    strID = experiments[\"%.2f\"%exp]\n",
    "    directory = 'output/' + strID + '/Run ' + str(run) + \"/\"\n",
    "    if propName == 'density':\n",
    "        display(Image(filename=directory + 'density.jpg'))\n",
    "        plt.show()\n",
    "    elif propName == 'density_rest':\n",
    "        display(Image(filename=directory + 'density_rest.jpg'))\n",
    "        plt.show()\n",
    "    elif propName == 'density_velocity':\n",
    "        display(Image(filename=directory + 'density_velocity.jpg'))\n",
    "        plt.show()\n",
    "    elif propName == 'kappa':\n",
    "        display(Image(filename=directory + 'kappa.jpg'))\n",
    "        plt.show()\n",
    "    elif propName == 'theta':\n",
    "        display(Image(filename=directory + 'theta.jpg'))\n",
    "        plt.show()\n",
    "def plot_mean_kt_scatter2(exp = 1.00, time=(0,100,1)):\n",
    "    experiments = {'1.00':'1016c','1.25':'1016cB1_25','1.50':'1016cB1_5','1.75':'1016cB1_75','2.00':'1016cB2','2.25':'1016cB2_25','2.50':'1016cB2_5','2.75':'1016cB2_75','3.00':'1016cB3'}\n",
    "    strID = experiments[\"%.2f\"%exp]\n",
    "    directory = 'output/' + strID + '/Pictures/Mean_kt_scatter/'\n",
    "    display(Image(filename=directory+str(time)+'.jpg'))\n",
    "    plt.show()\n",
    "def plot_spatiotemporal_scatter2(exp = 1.00, time=(0,100,1), run=(1,5,1)):\n",
    "    experiments = {'1.00':'1016c','1.25':'1016cB1_25','1.50':'1016cB1_5','1.75':'1016cB1_75','2.00':'1016cB2','2.25':'1016cB2_25','2.50':'1016cB2_5','2.75':'1016cB2_75','3.00':'1016cB3'}\n",
    "    strID = experiments[\"%.2f\"%exp]\n",
    "    directory = 'output/' + strID + '/Pictures/Run ' + str(run) + \"/spatiotemp_scatter_smooth/\"\n",
    "    display(Image(filename=directory+str(time)+'.jpg'))\n",
    "    plt.show()\n",
    "def plot_kt_hist2(exp = 1.00):\n",
    "    experiments = {'1.00':'1016c','1.25':'1016cB1_25','1.50':'1016cB1_5','1.75':'1016cB1_75','2.00':'1016cB2','2.25':'1016cB2_25','2.50':'1016cB2_5','2.75':'1016cB2_75','3.00':'1016cB3'}\n",
    "    strID = experiments[\"%.2f\"%exp]\n",
    "    directory = 'output/' + strID + '/Pictures/'\n",
    "    display(Image(filename=directory+'kt_hist.jpg'))\n",
    "    plt.show()"
   ]
  },
  {
   "cell_type": "code",
   "execution_count": 10,
   "metadata": {
    "ExecuteTime": {
     "end_time": "2021-05-10T03:34:39.204038Z",
     "start_time": "2021-05-10T03:34:38.529896Z"
    }
   },
   "outputs": [
    {
     "data": {
      "application/vnd.jupyter.widget-view+json": {
       "model_id": "d19e572b01e14bcbbd66b1b3f73ae751",
       "version_major": 2,
       "version_minor": 0
      },
      "text/plain": [
       "interactive(children=(IntSlider(value=3, description='run', max=5, min=1), Dropdown(description='propName', op…"
      ]
     },
     "metadata": {},
     "output_type": "display_data"
    },
    {
     "data": {
      "text/plain": [
       "<function __main__.plot_spatiotemp2(run, propName, exp=1.0)>"
      ]
     },
     "execution_count": 10,
     "metadata": {},
     "output_type": "execute_result"
    }
   ],
   "source": [
    "widget.interact(plot_spatiotemp2, run=(1,5,1), propName=['density', 'density_rest', 'density_velocity', 'kappa', 'theta'], exp=(1,3,0.25) )"
   ]
  },
  {
   "cell_type": "code",
   "execution_count": null,
   "metadata": {
    "ExecuteTime": {
     "end_time": "2021-04-11T11:15:47.613436Z",
     "start_time": "2021-04-11T11:15:47.583538Z"
    }
   },
   "outputs": [],
   "source": []
  },
  {
   "cell_type": "code",
   "execution_count": 11,
   "metadata": {
    "ExecuteTime": {
     "end_time": "2021-05-10T03:34:39.674240Z",
     "start_time": "2021-05-10T03:34:39.208427Z"
    }
   },
   "outputs": [
    {
     "data": {
      "application/vnd.jupyter.widget-view+json": {
       "model_id": "b162e3c06d574817ae8f5a472280ee1e",
       "version_major": 2,
       "version_minor": 0
      },
      "text/plain": [
       "interactive(children=(FloatSlider(value=1.0, description='exp', max=3.0, min=1.0, step=0.25), IntSlider(value=…"
      ]
     },
     "metadata": {},
     "output_type": "display_data"
    },
    {
     "data": {
      "text/plain": [
       "<function __main__.plot_spatiotemporal_scatter2(exp=1.0, time=(0, 100, 1), run=(1, 5, 1))>"
      ]
     },
     "execution_count": 11,
     "metadata": {},
     "output_type": "execute_result"
    }
   ],
   "source": [
    "widget.interact(plot_spatiotemporal_scatter2, time=(0,100,1), run=(1,5,1),  exp=(1,3,0.25) )"
   ]
  },
  {
   "cell_type": "code",
   "execution_count": 12,
   "metadata": {
    "ExecuteTime": {
     "end_time": "2021-05-10T03:34:39.913108Z",
     "start_time": "2021-05-10T03:34:39.677020Z"
    }
   },
   "outputs": [
    {
     "data": {
      "application/vnd.jupyter.widget-view+json": {
       "model_id": "5be3bc5399e04273911debd9cfb05126",
       "version_major": 2,
       "version_minor": 0
      },
      "text/plain": [
       "interactive(children=(FloatSlider(value=1.0, description='exp', max=3.0, min=1.0, step=0.25), IntSlider(value=…"
      ]
     },
     "metadata": {},
     "output_type": "display_data"
    },
    {
     "data": {
      "text/plain": [
       "<function __main__.plot_mean_kt_scatter2(exp=1.0, time=(0, 100, 1))>"
      ]
     },
     "execution_count": 12,
     "metadata": {},
     "output_type": "execute_result"
    }
   ],
   "source": [
    "widget.interact(plot_mean_kt_scatter2, time=(0,100,1),  exp=(1,3,0.25) )"
   ]
  },
  {
   "cell_type": "code",
   "execution_count": 13,
   "metadata": {
    "ExecuteTime": {
     "end_time": "2021-05-10T03:34:40.063805Z",
     "start_time": "2021-05-10T03:34:39.915536Z"
    }
   },
   "outputs": [
    {
     "data": {
      "application/vnd.jupyter.widget-view+json": {
       "model_id": "6f7d6d138e8a4e0ebcd54bf3c6d69c59",
       "version_major": 2,
       "version_minor": 0
      },
      "text/plain": [
       "interactive(children=(FloatSlider(value=1.0, description='exp', max=3.0, min=1.0, step=0.25), Output()), _dom_…"
      ]
     },
     "metadata": {},
     "output_type": "display_data"
    },
    {
     "data": {
      "text/plain": [
       "<function __main__.plot_kt_hist2(exp=1.0)>"
      ]
     },
     "execution_count": 13,
     "metadata": {},
     "output_type": "execute_result"
    }
   ],
   "source": [
    "widget.interact(plot_kt_hist2,  exp=(1,3,0.25) )"
   ]
  },
  {
   "cell_type": "markdown",
   "metadata": {},
   "source": [
    "# Exponential Memory Go or Grow"
   ]
  },
  {
   "cell_type": "code",
   "execution_count": 14,
   "metadata": {
    "ExecuteTime": {
     "end_time": "2021-05-10T03:34:41.112057Z",
     "start_time": "2021-05-10T03:34:40.067571Z"
    }
   },
   "outputs": [],
   "source": [
    "experiments = {'1.00':'1016mem1_00','1.25':'1016mem1_25','1.50':'1016mem1_50','1.75':'1016mem1_75','2.00':'1016mem2_00','0.25':'1016mem0_25','0.50':'1016mem0_50','0.75':'1016mem0_75','0.00':'1016mem0_00','3.00':'1016mem3_00'}"
   ]
  },
  {
   "cell_type": "code",
   "execution_count": 15,
   "metadata": {
    "ExecuteTime": {
     "end_time": "2021-05-10T03:34:42.526312Z",
     "start_time": "2021-05-10T03:34:41.118709Z"
    }
   },
   "outputs": [],
   "source": [
    "def plot_spatiotemp3(run, propName, exp = 1.00):\n",
    "    experiments = {'1.00':'1016mem1_00','1.25':'1016mem1_25','1.50':'1016mem1_50','1.75':'1016mem1_75','2.00':'1016mem2_00','0.25':'1016mem0_25','0.50':'1016mem0_50','0.75':'1016mem0_75','0.00':'1016mem0_00','3.00':'1016mem3_00'}\n",
    "    strID = experiments[\"%.2f\"%exp]\n",
    "    directory = 'output/' + strID + '/Run ' + str(run) + \"/\"\n",
    "    if propName == 'density':\n",
    "        display(Image(filename=directory + 'density.jpg'))\n",
    "        plt.show()\n",
    "    elif propName == 'density_rest':\n",
    "        display(Image(filename=directory + 'density_rest.jpg'))\n",
    "        plt.show()\n",
    "    elif propName == 'density_velocity':\n",
    "        display(Image(filename=directory + 'density_velocity.jpg'))\n",
    "        plt.show()\n",
    "    elif propName == 'kappa':\n",
    "        display(Image(filename=directory + 'kappa.jpg'))\n",
    "        plt.show()\n",
    "    elif propName == 'theta':\n",
    "        display(Image(filename=directory + 'theta.jpg'))\n",
    "        plt.show()\n",
    "def plot_mean_kt_scatter3(exp = 1.00, time=(0,100,1)):\n",
    "    experiments = {'1.00':'1016mem1_00','1.25':'1016mem1_25','1.50':'1016mem1_50','1.75':'1016mem1_75','2.00':'1016mem2_00','0.25':'1016mem0_25','0.50':'1016mem0_50','0.75':'1016mem0_75','0.00':'1016mem0_00','3.00':'1016mem3_00'}\n",
    "    strID = experiments[\"%.2f\"%exp]\n",
    "    directory = 'output/' + strID + '/Pictures/Mean_kt_scatter/'\n",
    "    display(Image(filename=directory+str(time)+'.jpg'))\n",
    "    plt.show()\n",
    "def plot_spatiotemporal_scatter3(exp = 1.00, time=(0,100,1), run=(1,5,1)):\n",
    "    experiments = {'1.00':'1016mem1_00','1.25':'1016mem1_25','1.50':'1016mem1_50','1.75':'1016mem1_75','2.00':'1016mem2_00','0.25':'1016mem0_25','0.50':'1016mem0_50','0.75':'1016mem0_75','0.00':'1016mem0_00','3.00':'1016mem3_00'}\n",
    "    strID = experiments[\"%.2f\"%exp]\n",
    "    directory = 'output/' + strID + '/Pictures/Run ' + str(run) + \"/spatiotemp_scatter_smooth/\"\n",
    "    display(Image(filename=directory+str(time)+'.jpg'))\n",
    "    plt.show()\n",
    "def plot_kt_hist3(exp = 1.00):\n",
    "    experiments = {'1.00':'1016mem1_00','1.25':'1016mem1_25','1.50':'1016mem1_50','1.75':'1016mem1_75','2.00':'1016mem2_00','0.25':'1016mem0_25','0.50':'1016mem0_50','0.75':'1016mem0_75','0.00':'1016mem0_00','3.00':'1016mem3_00'}\n",
    "    strID = experiments[\"%.2f\"%exp]\n",
    "    directory = 'output/' + strID + '/Pictures/'\n",
    "    display(Image(filename=directory+'kt_hist.jpg'))\n",
    "    plt.show()"
   ]
  },
  {
   "cell_type": "code",
   "execution_count": 16,
   "metadata": {
    "ExecuteTime": {
     "end_time": "2021-05-10T03:34:44.240538Z",
     "start_time": "2021-05-10T03:34:42.530857Z"
    }
   },
   "outputs": [
    {
     "data": {
      "application/vnd.jupyter.widget-view+json": {
       "model_id": "9b10196adbca47f6b65951bef30a334c",
       "version_major": 2,
       "version_minor": 0
      },
      "text/plain": [
       "interactive(children=(IntSlider(value=2, description='run', max=3, min=1), Dropdown(description='propName', op…"
      ]
     },
     "metadata": {},
     "output_type": "display_data"
    },
    {
     "data": {
      "text/plain": [
       "<function __main__.plot_spatiotemp3(run, propName, exp=1.0)>"
      ]
     },
     "execution_count": 16,
     "metadata": {},
     "output_type": "execute_result"
    }
   ],
   "source": [
    "widget.interact(plot_spatiotemp3, run=(1,3,1), propName=['density', 'density_rest', 'density_velocity', 'kappa', 'theta'], exp=(0,3,0.25) )"
   ]
  },
  {
   "cell_type": "code",
   "execution_count": 17,
   "metadata": {
    "ExecuteTime": {
     "end_time": "2021-05-10T03:34:44.656019Z",
     "start_time": "2021-05-10T03:34:44.245251Z"
    }
   },
   "outputs": [
    {
     "data": {
      "application/vnd.jupyter.widget-view+json": {
       "model_id": "1ca422afead44987a112212dfebeff70",
       "version_major": 2,
       "version_minor": 0
      },
      "text/plain": [
       "interactive(children=(FloatSlider(value=1.0, description='exp', max=3.0, step=0.25), IntSlider(value=50, descr…"
      ]
     },
     "metadata": {},
     "output_type": "display_data"
    },
    {
     "data": {
      "text/plain": [
       "<function __main__.plot_spatiotemporal_scatter3(exp=1.0, time=(0, 100, 1), run=(1, 5, 1))>"
      ]
     },
     "execution_count": 17,
     "metadata": {},
     "output_type": "execute_result"
    }
   ],
   "source": [
    "widget.interact(plot_spatiotemporal_scatter3, time=(0,100,1), run=(1,3,1),  exp=(0,3,0.25) )"
   ]
  },
  {
   "cell_type": "code",
   "execution_count": 18,
   "metadata": {
    "ExecuteTime": {
     "end_time": "2021-05-10T03:34:44.848955Z",
     "start_time": "2021-05-10T03:34:44.660561Z"
    }
   },
   "outputs": [
    {
     "data": {
      "application/vnd.jupyter.widget-view+json": {
       "model_id": "15712db10b31499d89c9691d79771e7c",
       "version_major": 2,
       "version_minor": 0
      },
      "text/plain": [
       "interactive(children=(FloatSlider(value=1.0, description='exp', max=3.0, step=0.25), IntSlider(value=50, descr…"
      ]
     },
     "metadata": {},
     "output_type": "display_data"
    },
    {
     "data": {
      "text/plain": [
       "<function __main__.plot_mean_kt_scatter3(exp=1.0, time=(0, 100, 1))>"
      ]
     },
     "execution_count": 18,
     "metadata": {},
     "output_type": "execute_result"
    }
   ],
   "source": [
    "widget.interact(plot_mean_kt_scatter3, time=(0,100,1),  exp=(0,3,0.25) )"
   ]
  },
  {
   "cell_type": "code",
   "execution_count": 19,
   "metadata": {
    "ExecuteTime": {
     "end_time": "2021-05-10T03:34:44.973048Z",
     "start_time": "2021-05-10T03:34:44.853200Z"
    }
   },
   "outputs": [
    {
     "data": {
      "application/vnd.jupyter.widget-view+json": {
       "model_id": "672be494b02a4fb6ac7082e4264c5066",
       "version_major": 2,
       "version_minor": 0
      },
      "text/plain": [
       "interactive(children=(FloatSlider(value=1.0, description='exp', max=3.0, step=0.25), Output()), _dom_classes=(…"
      ]
     },
     "metadata": {},
     "output_type": "display_data"
    },
    {
     "data": {
      "text/plain": [
       "<function __main__.plot_kt_hist3(exp=1.0)>"
      ]
     },
     "execution_count": 19,
     "metadata": {},
     "output_type": "execute_result"
    }
   ],
   "source": [
    "widget.interact(plot_kt_hist3,  exp=(0,3,0.25) )"
   ]
  },
  {
   "cell_type": "code",
   "execution_count": null,
   "metadata": {},
   "outputs": [],
   "source": []
  },
  {
   "cell_type": "code",
   "execution_count": null,
   "metadata": {},
   "outputs": [],
   "source": []
  },
  {
   "cell_type": "code",
   "execution_count": null,
   "metadata": {},
   "outputs": [],
   "source": []
  },
  {
   "cell_type": "code",
   "execution_count": null,
   "metadata": {},
   "outputs": [],
   "source": []
  }
 ],
 "metadata": {
  "kernelspec": {
   "display_name": "Python 3",
   "language": "python",
   "name": "python3"
  },
  "language_info": {
   "codemirror_mode": {
    "name": "ipython",
    "version": 3
   },
   "file_extension": ".py",
   "mimetype": "text/x-python",
   "name": "python",
   "nbconvert_exporter": "python",
   "pygments_lexer": "ipython3",
   "version": "3.8.5"
  },
  "toc": {
   "base_numbering": 1,
   "nav_menu": {},
   "number_sections": true,
   "sideBar": true,
   "skip_h1_title": false,
   "title_cell": "Table of Contents",
   "title_sidebar": "Contents",
   "toc_cell": true,
   "toc_position": {},
   "toc_section_display": true,
   "toc_window_display": false
  },
  "varInspector": {
   "cols": {
    "lenName": 16,
    "lenType": 16,
    "lenVar": 40
   },
   "kernels_config": {
    "python": {
     "delete_cmd_postfix": "",
     "delete_cmd_prefix": "del ",
     "library": "var_list.py",
     "varRefreshCmd": "print(var_dic_list())"
    },
    "r": {
     "delete_cmd_postfix": ") ",
     "delete_cmd_prefix": "rm(",
     "library": "var_list.r",
     "varRefreshCmd": "cat(var_dic_list()) "
    }
   },
   "types_to_exclude": [
    "module",
    "function",
    "builtin_function_or_method",
    "instance",
    "_Feature"
   ],
   "window_display": false
  }
 },
 "nbformat": 4,
 "nbformat_minor": 4
}
