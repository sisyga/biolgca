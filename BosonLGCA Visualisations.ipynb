{
 "cells": [
  {
   "cell_type": "markdown",
   "metadata": {
    "toc": true,
    "pycharm": {
     "name": "#%% md\n"
    }
   },
   "source": [
    "<h1>Table of Contents<span class=\"tocSkip\"></span></h1>\n",
    "<div class=\"toc\"><ul class=\"toc-item\"></ul></div>"
   ]
  },
  {
   "cell_type": "code",
   "execution_count": 1,
   "metadata": {
    "ExecuteTime": {
     "end_time": "2021-01-15T13:44:51.486651Z",
     "start_time": "2021-01-15T13:44:48.913068Z"
    },
    "pycharm": {
     "name": "#%%\n"
    }
   },
   "outputs": [],
   "source": [
    "from IPython.display import Image, display, HTML, Video\n",
    "import numpy as np\n",
    "import matplotlib.pyplot as plt\n",
    "import matplotlib.image as mpimg\n",
    "from matplotlib import rcParams\n",
    "import ipywidgets as widget\n",
    "%matplotlib inline\n",
    "#"
   ]
  },
  {
   "cell_type": "code",
   "execution_count": 2,
   "metadata": {
    "ExecuteTime": {
     "end_time": "2021-01-15T13:44:51.496973Z",
     "start_time": "2021-01-15T13:44:51.488583Z"
    },
    "pycharm": {
     "name": "#%%\n"
    }
   },
   "outputs": [],
   "source": [
    "def plot_spatiotemp(run, propName, strID = '1001c'):\n",
    "    directory = 'output/' + strID + '/Run ' + str(run) + \"/\"\n",
    "    if propName == 'density':\n",
    "        display(Image(filename=directory + 'density.jpg'))\n",
    "        plt.show()\n",
    "    elif propName == 'density_rest':\n",
    "        display(Image(filename=directory + 'density_rest.jpg'))\n",
    "        plt.show()\n",
    "    elif propName == 'density_velocity':\n",
    "        display(Image(filename=directory + 'density_velocity.jpg'))\n",
    "        plt.show()\n",
    "    elif propName == 'kappa':\n",
    "        display(Image(filename=directory + 'kappa.jpg'))\n",
    "        plt.show()\n",
    "    elif propName == 'theta':\n",
    "        display(Image(filename=directory + 'theta.jpg'))\n",
    "        plt.show()"
   ]
  },
  {
   "cell_type": "code",
   "execution_count": 3,
   "metadata": {
    "ExecuteTime": {
     "end_time": "2021-01-15T13:44:51.638075Z",
     "start_time": "2021-01-15T13:44:51.499101Z"
    },
    "pycharm": {
     "name": "#%%\n"
    }
   },
   "outputs": [],
   "source": [
    "def plot_mean_kt_scatter(strID = '1001c', time=(0,100,1)):\n",
    "    directory = 'output/' + strID + '/Pictures/Mean_kt_scatter/'\n",
    "    display(Image(filename=directory+str(time)+'.jpg'))\n",
    "    plt.show()\n",
    "def plot_spatiotemporal_scatter(strID = '1001c', time=(0,100,1), run=(1,5,1)):\n",
    "    directory = 'output/' + strID + '/Pictures/Run ' + str(run) + \"/spatiotemp_scatter_smooth/\"\n",
    "    display(Image(filename=directory+str(time)+'.jpg'))\n",
    "    plt.show()"
   ]
  },
  {
   "cell_type": "code",
   "execution_count": 4,
   "metadata": {
    "ExecuteTime": {
     "end_time": "2021-01-15T13:44:51.970785Z",
     "start_time": "2021-01-15T13:44:51.639895Z"
    },
    "pycharm": {
     "name": "#%%\n"
    }
   },
   "outputs": [
    {
     "data": {
      "application/vnd.jupyter.widget-view+json": {
       "model_id": "91ec79f25a0a44a3a991eb4c0725620e",
       "version_major": 2,
       "version_minor": 0
      },
      "text/plain": [
       "interactive(children=(IntSlider(value=3, description='run', max=5, min=1), Dropdown(description='propName', op…"
      ]
     },
     "metadata": {},
     "output_type": "display_data"
    },
    {
     "data": {
      "text/plain": [
       "<function __main__.plot_spatiotemp(run, propName, strID='1001c')>"
      ]
     },
     "execution_count": 4,
     "metadata": {},
     "output_type": "execute_result"
    }
   ],
   "source": [
    "widget.interact(plot_spatiotemp, run=(1,5,1), propName=['density', 'density_rest', 'density_velocity', 'kappa', 'theta'], strID=['1001c','1002c','1003c','1004c','1005c','1006c','1007c','1008c','1009c','1010c','1011c','1012c','1013c','1014c','1015c','1016c'] )"
   ]
  },
  {
   "cell_type": "code",
   "execution_count": 5,
   "metadata": {
    "ExecuteTime": {
     "end_time": "2021-01-15T13:44:52.157958Z",
     "start_time": "2021-01-15T13:44:51.972958Z"
    },
    "pycharm": {
     "name": "#%%\n"
    }
   },
   "outputs": [
    {
     "data": {
      "application/vnd.jupyter.widget-view+json": {
       "model_id": "cff058a6b2e442128b2e38e2ae1c8771",
       "version_major": 2,
       "version_minor": 0
      },
      "text/plain": [
       "interactive(children=(Dropdown(description='strID', options=('1001c', '1002c', '1003c', '1004c', '1005c', '100…"
      ]
     },
     "metadata": {},
     "output_type": "display_data"
    },
    {
     "data": {
      "text/plain": [
       "<function __main__.plot_spatiotemporal_scatter(strID='1001c', time=(0, 100, 1), run=(1, 5, 1))>"
      ]
     },
     "execution_count": 5,
     "metadata": {},
     "output_type": "execute_result"
    }
   ],
   "source": [
    "widget.interact(plot_spatiotemporal_scatter, time=(0,100,1), run=(1,5,1), strID=['1001c','1002c','1003c','1004c','1005c','1006c','1007c','1008c','1009c','1010c','1011c','1012c','1013c','1014c','1015c','1016c'])"
   ]
  },
  {
   "cell_type": "code",
   "execution_count": 6,
   "metadata": {
    "ExecuteTime": {
     "end_time": "2021-01-15T13:44:52.271010Z",
     "start_time": "2021-01-15T13:44:52.159732Z"
    },
    "pycharm": {
     "name": "#%%\n"
    }
   },
   "outputs": [
    {
     "data": {
      "application/vnd.jupyter.widget-view+json": {
       "model_id": "11dba8ed715c45d1a27d2aebe5900941",
       "version_major": 2,
       "version_minor": 0
      },
      "text/plain": [
       "interactive(children=(Dropdown(description='strID', options=('1001c', '1002c', '1003c', '1004c', '1005c', '100…"
      ]
     },
     "metadata": {},
     "output_type": "display_data"
    },
    {
     "data": {
      "text/plain": [
       "<function __main__.plot_mean_kt_scatter(strID='1001c', time=(0, 100, 1))>"
      ]
     },
     "execution_count": 6,
     "metadata": {},
     "output_type": "execute_result"
    }
   ],
   "source": [
    "widget.interact(plot_mean_kt_scatter, time=(0,100,1), strID=['1001c','1002c','1003c','1004c','1005c','1006c','1007c','1008c','1009c','1010c','1011c','1012c','1013c','1014c','1015c','1016c'])"
   ]
  },
  {
   "cell_type": "code",
   "execution_count": null,
   "metadata": {
    "pycharm": {
     "name": "#%%\n"
    }
   },
   "outputs": [],
   "source": []
  }
 ],
 "metadata": {
  "kernelspec": {
   "display_name": "Python 3",
   "language": "python",
   "name": "python3"
  },
  "language_info": {
   "codemirror_mode": {
    "name": "ipython",
    "version": 3
   },
   "file_extension": ".py",
   "mimetype": "text/x-python",
   "name": "python",
   "nbconvert_exporter": "python",
   "pygments_lexer": "ipython3",
   "version": "3.7.5"
  },
  "toc": {
   "base_numbering": 1,
   "nav_menu": {},
   "number_sections": true,
   "sideBar": true,
   "skip_h1_title": false,
   "title_cell": "Table of Contents",
   "title_sidebar": "Contents",
   "toc_cell": true,
   "toc_position": {},
   "toc_section_display": true,
   "toc_window_display": false
  },
  "varInspector": {
   "cols": {
    "lenName": 16,
    "lenType": 16,
    "lenVar": 40
   },
   "kernels_config": {
    "python": {
     "delete_cmd_postfix": "",
     "delete_cmd_prefix": "del ",
     "library": "var_list.py",
     "varRefreshCmd": "print(var_dic_list())"
    },
    "r": {
     "delete_cmd_postfix": ") ",
     "delete_cmd_prefix": "rm(",
     "library": "var_list.r",
     "varRefreshCmd": "cat(var_dic_list()) "
    }
   },
   "types_to_exclude": [
    "module",
    "function",
    "builtin_function_or_method",
    "instance",
    "_Feature"
   ],
   "window_display": false
  }
 },
 "nbformat": 4,
 "nbformat_minor": 4
}