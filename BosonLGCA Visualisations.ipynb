{
 "cells": [
  {
   "cell_type": "markdown",
   "metadata": {
    "toc": true
   },
   "source": [
    "<h1>Table of Contents<span class=\"tocSkip\"></span></h1>\n",
    "<div class=\"toc\"><ul class=\"toc-item\"><li><span><a href=\"#Power-Memory-Go-or-Grow\" data-toc-modified-id=\"Power-Memory-Go-or-Grow-1\"><span class=\"toc-item-num\">1&nbsp;&nbsp;</span>Power Memory Go or Grow</a></span></li><li><span><a href=\"#Exponential-Memory-Go-or-Grow\" data-toc-modified-id=\"Exponential-Memory-Go-or-Grow-2\"><span class=\"toc-item-num\">2&nbsp;&nbsp;</span>Exponential Memory Go or Grow</a></span></li></ul></div>"
   ]
  },
  {
   "cell_type": "code",
   "execution_count": 1,
   "metadata": {
    "ExecuteTime": {
     "end_time": "2021-05-03T11:30:39.030635Z",
     "start_time": "2021-05-03T11:30:37.741951Z"
    }
   },
   "outputs": [],
   "source": [
    "from IPython.display import Image, display, HTML, Video\n",
    "import numpy as np\n",
    "import matplotlib.pyplot as plt\n",
    "import matplotlib.image as mpimg\n",
    "from matplotlib import rcParams\n",
    "import ipywidgets as widget\n",
    "%matplotlib inline"
   ]
  },
  {
   "cell_type": "code",
   "execution_count": 2,
   "metadata": {
    "ExecuteTime": {
     "end_time": "2021-05-03T11:30:39.053989Z",
     "start_time": "2021-05-03T11:30:39.035286Z"
    }
   },
   "outputs": [],
   "source": [
    "def plot_spatiotemp(run, propName, strID = '1001c'):\n",
    "    directory = 'output/' + strID + '/Run ' + str(run) + \"/\"\n",
    "    if propName == 'density':\n",
    "        display(Image(filename=directory + 'density.jpg'))\n",
    "        plt.show()\n",
    "    elif propName == 'density_rest':\n",
    "        display(Image(filename=directory + 'density_rest.jpg'))\n",
    "        plt.show()\n",
    "    elif propName == 'density_velocity':\n",
    "        display(Image(filename=directory + 'density_velocity.jpg'))\n",
    "        plt.show()\n",
    "    elif propName == 'kappa':\n",
    "        display(Image(filename=directory + 'kappa.jpg'))\n",
    "        plt.show()\n",
    "    elif propName == 'theta':\n",
    "        display(Image(filename=directory + 'theta.jpg'))\n",
    "        plt.show()\n"
   ]
  },
  {
   "cell_type": "code",
   "execution_count": 3,
   "metadata": {
    "ExecuteTime": {
     "end_time": "2021-05-03T11:30:39.289682Z",
     "start_time": "2021-05-03T11:30:39.056886Z"
    }
   },
   "outputs": [],
   "source": [
    "def plot_mean_kt_scatter(strID = '1001c', time=(0,100,1)):\n",
    "    directory = 'output/' + strID + '/Pictures/Mean_kt_scatter/'\n",
    "    display(Image(filename=directory+str(time)+'.jpg'))\n",
    "    plt.show()\n",
    "def plot_spatiotemporal_scatter(strID = '1001c', time=(0,100,1), run=(1,5,1)):\n",
    "    directory = 'output/' + strID + '/Pictures/Run ' + str(run) + \"/spatiotemp_scatter_smooth/\"\n",
    "    display(Image(filename=directory+str(time)+'.jpg'))\n",
    "    plt.show()\n",
    "def plot_kt_hist(strID = '1001c'):\n",
    "    directory = 'output/' + strID + '/Pictures/'\n",
    "    display(Image(filename=directory+'kt_hist.jpg'))\n",
    "    plt.show()"
   ]
  },
  {
   "cell_type": "code",
   "execution_count": 4,
   "metadata": {
    "ExecuteTime": {
     "end_time": "2021-05-03T11:30:39.916304Z",
     "start_time": "2021-05-03T11:30:39.294068Z"
    }
   },
   "outputs": [
    {
     "data": {
      "application/vnd.jupyter.widget-view+json": {
       "model_id": "a5057ba2f1d04307a232b9d0671a6e3d",
       "version_major": 2,
       "version_minor": 0
      },
      "text/plain": [
       "interactive(children=(IntSlider(value=3, description='run', max=5, min=1), Dropdown(description='propName', op…"
      ]
     },
     "metadata": {},
     "output_type": "display_data"
    },
    {
     "data": {
      "text/plain": [
       "<function __main__.plot_spatiotemp(run, propName, strID='1001c')>"
      ]
     },
     "execution_count": 4,
     "metadata": {},
     "output_type": "execute_result"
    }
   ],
   "source": [
    "widget.interact(plot_spatiotemp, run=(1,5,1), propName=['density', 'density_rest', 'density_velocity', 'kappa', 'theta'], strID=['1001c','1002c','1003c','1004c','1005c','1006c','1007c','1008c','1009c','1010c','1011c','1012c','1013c','1014c','1015c','1016c', '1017c', '1001nke', '1002nke', '1003nke', '1004nke', '1005nke', '1001nte','1018c','1016c2','1016cB2'] )"
   ]
  },
  {
   "cell_type": "code",
   "execution_count": 5,
   "metadata": {
    "ExecuteTime": {
     "end_time": "2021-05-03T11:30:40.420891Z",
     "start_time": "2021-05-03T11:30:39.920373Z"
    }
   },
   "outputs": [
    {
     "data": {
      "application/vnd.jupyter.widget-view+json": {
       "model_id": "8669572206044074be61f1323e78724c",
       "version_major": 2,
       "version_minor": 0
      },
      "text/plain": [
       "interactive(children=(Dropdown(description='strID', options=('1001c', '1002c', '1003c', '1004c', '1005c', '100…"
      ]
     },
     "metadata": {},
     "output_type": "display_data"
    },
    {
     "data": {
      "text/plain": [
       "<function __main__.plot_spatiotemporal_scatter(strID='1001c', time=(0, 100, 1), run=(1, 5, 1))>"
      ]
     },
     "execution_count": 5,
     "metadata": {},
     "output_type": "execute_result"
    }
   ],
   "source": [
    "widget.interact(plot_spatiotemporal_scatter, time=(0,100,1), run=(1,5,1), strID=['1001c','1002c','1003c','1004c','1005c','1006c','1007c','1008c','1009c','1010c','1011c','1012c','1013c','1014c','1015c','1016c', '1017c', '1001nke', '1002nke', '1003nke', '1004nke', '1005nke', '1001nte','1018c','1016c2', '1016cB2'])"
   ]
  },
  {
   "cell_type": "code",
   "execution_count": 6,
   "metadata": {
    "ExecuteTime": {
     "end_time": "2021-05-03T11:30:40.579782Z",
     "start_time": "2021-05-03T11:30:40.430326Z"
    }
   },
   "outputs": [
    {
     "data": {
      "application/vnd.jupyter.widget-view+json": {
       "model_id": "aae160b764f74ecfaeab1ff286f60cc7",
       "version_major": 2,
       "version_minor": 0
      },
      "text/plain": [
       "interactive(children=(Dropdown(description='strID', options=('1001c', '1002c', '1003c', '1004c', '1005c', '100…"
      ]
     },
     "metadata": {},
     "output_type": "display_data"
    },
    {
     "data": {
      "text/plain": [
       "<function __main__.plot_mean_kt_scatter(strID='1001c', time=(0, 100, 1))>"
      ]
     },
     "execution_count": 6,
     "metadata": {},
     "output_type": "execute_result"
    }
   ],
   "source": [
    "widget.interact(plot_mean_kt_scatter, time=(0,100,1), strID=['1001c','1002c','1003c','1004c','1005c','1006c','1007c','1008c','1009c','1010c','1011c','1012c','1013c','1014c','1015c','1016c', '1017c', '1001nke', '1002nke', '1003nke', '1004nke', '1005nke', '1001nte','1018c','1016c2','1016cB2'])"
   ]
  },
  {
   "cell_type": "code",
   "execution_count": 7,
   "metadata": {
    "ExecuteTime": {
     "end_time": "2021-05-03T11:30:40.823686Z",
     "start_time": "2021-05-03T11:30:40.581049Z"
    }
   },
   "outputs": [
    {
     "data": {
      "application/vnd.jupyter.widget-view+json": {
       "model_id": "bf2e42de292c44cc80b4a83fa16d8676",
       "version_major": 2,
       "version_minor": 0
      },
      "text/plain": [
       "interactive(children=(Dropdown(description='strID', options=('1001c', '1002c', '1003c', '1004c', '1005c', '100…"
      ]
     },
     "metadata": {},
     "output_type": "display_data"
    },
    {
     "data": {
      "text/plain": [
       "<function __main__.plot_kt_hist(strID='1001c')>"
      ]
     },
     "execution_count": 7,
     "metadata": {},
     "output_type": "execute_result"
    }
   ],
   "source": [
    "widget.interact(plot_kt_hist, strID=['1001c','1002c','1003c','1004c','1005c','1006c','1007c','1008c','1009c','1010c','1011c','1012c','1013c','1014c','1015c','1016c', '1017c', '1001nke', '1002nke', '1003nke', '1004nke', '1005nke', '1001nte','1018c', '1016c2' ,'1016cB2'])"
   ]
  },
  {
   "cell_type": "code",
   "execution_count": null,
   "metadata": {},
   "outputs": [],
   "source": []
  },
  {
   "cell_type": "markdown",
   "metadata": {},
   "source": [
    "# Power Memory Go or Grow"
   ]
  },
  {
   "cell_type": "code",
   "execution_count": 8,
   "metadata": {
    "ExecuteTime": {
     "end_time": "2021-05-03T11:30:40.931908Z",
     "start_time": "2021-05-03T11:30:40.833588Z"
    }
   },
   "outputs": [],
   "source": [
    "experiments = {'1.00':'1016c','1.25':'1016cB1_25','1.50':'1016cB1_5','1.75':'1016cB1_75','2.00':'1016cB2','2.25':'1016cB2_25','2.50':'1016cB2_5','2.75':'1016cB2_75','3.00':'1016cB3'}\n",
    "strIDlist=['1016c','1016cB1_25','1016cB1_5','1016cB1_75','1016cB2','1016cB2_25','1016cB2_5','1016cB2_75','1016cB3'] "
   ]
  },
  {
   "cell_type": "code",
   "execution_count": 9,
   "metadata": {
    "ExecuteTime": {
     "end_time": "2021-05-03T11:30:41.168482Z",
     "start_time": "2021-05-03T11:30:40.936921Z"
    }
   },
   "outputs": [],
   "source": [
    "def plot_spatiotemp2(run, propName, exp = 1.00):\n",
    "    experiments = {'1.00':'1016c','1.25':'1016cB1_25','1.50':'1016cB1_5','1.75':'1016cB1_75','2.00':'1016cB2','2.25':'1016cB2_25','2.50':'1016cB2_5','2.75':'1016cB2_75','3.00':'1016cB3'}\n",
    "    strID = experiments[\"%.2f\"%exp]\n",
    "    directory = 'output/' + strID + '/Run ' + str(run) + \"/\"\n",
    "    if propName == 'density':\n",
    "        display(Image(filename=directory + 'density.jpg'))\n",
    "        plt.show()\n",
    "    elif propName == 'density_rest':\n",
    "        display(Image(filename=directory + 'density_rest.jpg'))\n",
    "        plt.show()\n",
    "    elif propName == 'density_velocity':\n",
    "        display(Image(filename=directory + 'density_velocity.jpg'))\n",
    "        plt.show()\n",
    "    elif propName == 'kappa':\n",
    "        display(Image(filename=directory + 'kappa.jpg'))\n",
    "        plt.show()\n",
    "    elif propName == 'theta':\n",
    "        display(Image(filename=directory + 'theta.jpg'))\n",
    "        plt.show()\n",
    "def plot_mean_kt_scatter2(exp = 1.00, time=(0,100,1)):\n",
    "    experiments = {'1.00':'1016c','1.25':'1016cB1_25','1.50':'1016cB1_5','1.75':'1016cB1_75','2.00':'1016cB2','2.25':'1016cB2_25','2.50':'1016cB2_5','2.75':'1016cB2_75','3.00':'1016cB3'}\n",
    "    strID = experiments[\"%.2f\"%exp]\n",
    "    directory = 'output/' + strID + '/Pictures/Mean_kt_scatter/'\n",
    "    display(Image(filename=directory+str(time)+'.jpg'))\n",
    "    plt.show()\n",
    "def plot_spatiotemporal_scatter2(exp = 1.00, time=(0,100,1), run=(1,5,1)):\n",
    "    experiments = {'1.00':'1016c','1.25':'1016cB1_25','1.50':'1016cB1_5','1.75':'1016cB1_75','2.00':'1016cB2','2.25':'1016cB2_25','2.50':'1016cB2_5','2.75':'1016cB2_75','3.00':'1016cB3'}\n",
    "    strID = experiments[\"%.2f\"%exp]\n",
    "    directory = 'output/' + strID + '/Pictures/Run ' + str(run) + \"/spatiotemp_scatter_smooth/\"\n",
    "    display(Image(filename=directory+str(time)+'.jpg'))\n",
    "    plt.show()\n",
    "def plot_kt_hist2(exp = 1.00):\n",
    "    experiments = {'1.00':'1016c','1.25':'1016cB1_25','1.50':'1016cB1_5','1.75':'1016cB1_75','2.00':'1016cB2','2.25':'1016cB2_25','2.50':'1016cB2_5','2.75':'1016cB2_75','3.00':'1016cB3'}\n",
    "    strID = experiments[\"%.2f\"%exp]\n",
    "    directory = 'output/' + strID + '/Pictures/'\n",
    "    display(Image(filename=directory+'kt_hist.jpg'))\n",
    "    plt.show()"
   ]
  },
  {
   "cell_type": "code",
   "execution_count": 10,
   "metadata": {
    "ExecuteTime": {
     "end_time": "2021-05-03T11:30:42.261846Z",
     "start_time": "2021-05-03T11:30:41.172860Z"
    }
   },
   "outputs": [
    {
     "data": {
      "application/vnd.jupyter.widget-view+json": {
       "model_id": "b658c611d324452f967ba38309adc748",
       "version_major": 2,
       "version_minor": 0
      },
      "text/plain": [
       "interactive(children=(IntSlider(value=3, description='run', max=5, min=1), Dropdown(description='propName', op…"
      ]
     },
     "metadata": {},
     "output_type": "display_data"
    },
    {
     "data": {
      "text/plain": [
       "<function __main__.plot_spatiotemp2(run, propName, exp=1.0)>"
      ]
     },
     "execution_count": 10,
     "metadata": {},
     "output_type": "execute_result"
    }
   ],
   "source": [
    "widget.interact(plot_spatiotemp2, run=(1,5,1), propName=['density', 'density_rest', 'density_velocity', 'kappa', 'theta'], exp=(1,3,0.25) )"
   ]
  },
  {
   "cell_type": "code",
   "execution_count": null,
   "metadata": {
    "ExecuteTime": {
     "end_time": "2021-04-11T11:15:47.613436Z",
     "start_time": "2021-04-11T11:15:47.583538Z"
    }
   },
   "outputs": [],
   "source": []
  },
  {
   "cell_type": "code",
   "execution_count": 11,
   "metadata": {
    "ExecuteTime": {
     "end_time": "2021-05-03T11:30:43.171576Z",
     "start_time": "2021-05-03T11:30:42.263764Z"
    }
   },
   "outputs": [
    {
     "data": {
      "application/vnd.jupyter.widget-view+json": {
       "model_id": "d72f09357be840269ba7810498abef83",
       "version_major": 2,
       "version_minor": 0
      },
      "text/plain": [
       "interactive(children=(FloatSlider(value=1.0, description='exp', max=3.0, min=1.0, step=0.25), IntSlider(value=…"
      ]
     },
     "metadata": {},
     "output_type": "display_data"
    },
    {
     "data": {
      "text/plain": [
       "<function __main__.plot_spatiotemporal_scatter2(exp=1.0, time=(0, 100, 1), run=(1, 5, 1))>"
      ]
     },
     "execution_count": 11,
     "metadata": {},
     "output_type": "execute_result"
    }
   ],
   "source": [
    "widget.interact(plot_spatiotemporal_scatter2, time=(0,100,1), run=(1,5,1),  exp=(1,3,0.25) )"
   ]
  },
  {
   "cell_type": "code",
   "execution_count": 12,
   "metadata": {
    "ExecuteTime": {
     "end_time": "2021-05-03T11:30:43.732062Z",
     "start_time": "2021-05-03T11:30:43.175322Z"
    }
   },
   "outputs": [
    {
     "data": {
      "application/vnd.jupyter.widget-view+json": {
       "model_id": "3bd3b581ff404ee6987d5e1054a238af",
       "version_major": 2,
       "version_minor": 0
      },
      "text/plain": [
       "interactive(children=(FloatSlider(value=1.0, description='exp', max=3.0, min=1.0, step=0.25), IntSlider(value=…"
      ]
     },
     "metadata": {},
     "output_type": "display_data"
    },
    {
     "data": {
      "text/plain": [
       "<function __main__.plot_mean_kt_scatter2(exp=1.0, time=(0, 100, 1))>"
      ]
     },
     "execution_count": 12,
     "metadata": {},
     "output_type": "execute_result"
    }
   ],
   "source": [
    "widget.interact(plot_mean_kt_scatter2, time=(0,100,1),  exp=(1,3,0.25) )"
   ]
  },
  {
   "cell_type": "code",
   "execution_count": 13,
   "metadata": {
    "ExecuteTime": {
     "end_time": "2021-05-03T11:30:43.964588Z",
     "start_time": "2021-05-03T11:30:43.737769Z"
    }
   },
   "outputs": [
    {
     "data": {
      "application/vnd.jupyter.widget-view+json": {
       "model_id": "dbaae7fd9aaf4ccebe64d610c5e1367d",
       "version_major": 2,
       "version_minor": 0
      },
      "text/plain": [
       "interactive(children=(FloatSlider(value=1.0, description='exp', max=3.0, min=1.0, step=0.25), Output()), _dom_…"
      ]
     },
     "metadata": {},
     "output_type": "display_data"
    },
    {
     "data": {
      "text/plain": [
       "<function __main__.plot_kt_hist2(exp=1.0)>"
      ]
     },
     "execution_count": 13,
     "metadata": {},
     "output_type": "execute_result"
    }
   ],
   "source": [
    "widget.interact(plot_kt_hist2,  exp=(1,3,0.25) )"
   ]
  },
  {
   "cell_type": "markdown",
   "metadata": {},
   "source": [
    "# Exponential Memory Go or Grow"
   ]
  },
  {
   "cell_type": "code",
   "execution_count": 14,
   "metadata": {
    "ExecuteTime": {
     "end_time": "2021-05-03T11:30:45.252374Z",
     "start_time": "2021-05-03T11:30:43.965593Z"
    }
   },
   "outputs": [],
   "source": [
    "experiments = {'1.00':'1016mem1_00','1.25':'1016mem1_25','1.50':'1016mem1_50','1.75':'1016mem1_75','2.00':'1016mem2_00','0.25':'1016mem0_25','0.50':'1016mem0_50','0.75':'1016mem0_75','0.00':'1016mem0_00'}"
   ]
  },
  {
   "cell_type": "code",
   "execution_count": 15,
   "metadata": {
    "ExecuteTime": {
     "end_time": "2021-05-03T11:30:45.600606Z",
     "start_time": "2021-05-03T11:30:45.255419Z"
    }
   },
   "outputs": [],
   "source": [
    "def plot_spatiotemp3(run, propName, exp = 1.00):\n",
    "    experiments = {'1.00':'1016mem1_00','1.25':'1016mem1_25','1.50':'1016mem1_50','1.75':'1016mem1_75','2.00':'1016mem2_00','0.25':'1016mem0_25','0.50':'1016mem0_50','0.75':'1016mem0_75','0.00':'1016mem0_00'}\n",
    "    strID = experiments[\"%.2f\"%exp]\n",
    "    directory = 'output/' + strID + '/Run ' + str(run) + \"/\"\n",
    "    if propName == 'density':\n",
    "        display(Image(filename=directory + 'density.jpg'))\n",
    "        plt.show()\n",
    "    elif propName == 'density_rest':\n",
    "        display(Image(filename=directory + 'density_rest.jpg'))\n",
    "        plt.show()\n",
    "    elif propName == 'density_velocity':\n",
    "        display(Image(filename=directory + 'density_velocity.jpg'))\n",
    "        plt.show()\n",
    "    elif propName == 'kappa':\n",
    "        display(Image(filename=directory + 'kappa.jpg'))\n",
    "        plt.show()\n",
    "    elif propName == 'theta':\n",
    "        display(Image(filename=directory + 'theta.jpg'))\n",
    "        plt.show()\n",
    "def plot_mean_kt_scatter3(exp = 1.00, time=(0,100,1)):\n",
    "    experiments = {'1.00':'1016mem1_00','1.25':'1016mem1_25','1.50':'1016mem1_50','1.75':'1016mem1_75','2.00':'1016mem2_00','0.25':'1016mem0_25','0.50':'1016mem0_50','0.75':'1016mem0_75','0.00':'1016mem0_00'}\n",
    "    strID = experiments[\"%.2f\"%exp]\n",
    "    directory = 'output/' + strID + '/Pictures/Mean_kt_scatter/'\n",
    "    display(Image(filename=directory+str(time)+'.jpg'))\n",
    "    plt.show()\n",
    "def plot_spatiotemporal_scatter3(exp = 1.00, time=(0,100,1), run=(1,5,1)):\n",
    "    experiments = {'1.00':'1016mem1_00','1.25':'1016mem1_25','1.50':'1016mem1_50','1.75':'1016mem1_75','2.00':'1016mem2_00','0.25':'1016mem0_25','0.50':'1016mem0_50','0.75':'1016mem0_75','0.00':'1016mem0_00'}\n",
    "    strID = experiments[\"%.2f\"%exp]\n",
    "    directory = 'output/' + strID + '/Pictures/Run ' + str(run) + \"/spatiotemp_scatter_smooth/\"\n",
    "    display(Image(filename=directory+str(time)+'.jpg'))\n",
    "    plt.show()\n",
    "def plot_kt_hist3(exp = 1.00):\n",
    "    experiments = {'1.00':'1016mem1_00','1.25':'1016mem1_25','1.50':'1016mem1_50','1.75':'1016mem1_75','2.00':'1016mem2_00','0.25':'1016mem0_25','0.50':'1016mem0_50','0.75':'1016mem0_75','0.00':'1016mem0_00'}\n",
    "    strID = experiments[\"%.2f\"%exp]\n",
    "    directory = 'output/' + strID + '/Pictures/'\n",
    "    display(Image(filename=directory+'kt_hist.jpg'))\n",
    "    plt.show()"
   ]
  },
  {
   "cell_type": "code",
   "execution_count": 20,
   "metadata": {
    "ExecuteTime": {
     "end_time": "2021-05-03T11:31:41.076177Z",
     "start_time": "2021-05-03T11:31:40.951932Z"
    }
   },
   "outputs": [
    {
     "data": {
      "application/vnd.jupyter.widget-view+json": {
       "model_id": "d1ba6e77dc614b58bf579192c84618e1",
       "version_major": 2,
       "version_minor": 0
      },
      "text/plain": [
       "interactive(children=(IntSlider(value=3, description='run', max=5, min=1), Dropdown(description='propName', op…"
      ]
     },
     "metadata": {},
     "output_type": "display_data"
    },
    {
     "data": {
      "text/plain": [
       "<function __main__.plot_spatiotemp3(run, propName, exp=1.0)>"
      ]
     },
     "execution_count": 20,
     "metadata": {},
     "output_type": "execute_result"
    }
   ],
   "source": [
    "widget.interact(plot_spatiotemp3, run=(1,5,1), propName=['density', 'density_rest', 'density_velocity', 'kappa', 'theta'], exp=(0,3,0.25) )"
   ]
  },
  {
   "cell_type": "code",
   "execution_count": 21,
   "metadata": {
    "ExecuteTime": {
     "end_time": "2021-05-03T11:31:41.360546Z",
     "start_time": "2021-05-03T11:31:41.164872Z"
    }
   },
   "outputs": [
    {
     "data": {
      "application/vnd.jupyter.widget-view+json": {
       "model_id": "c255cf4be34e4490a811796ff1018493",
       "version_major": 2,
       "version_minor": 0
      },
      "text/plain": [
       "interactive(children=(FloatSlider(value=1.0, description='exp', max=3.0, step=0.25), IntSlider(value=50, descr…"
      ]
     },
     "metadata": {},
     "output_type": "display_data"
    },
    {
     "data": {
      "text/plain": [
       "<function __main__.plot_spatiotemporal_scatter3(exp=1.0, time=(0, 100, 1), run=(1, 5, 1))>"
      ]
     },
     "execution_count": 21,
     "metadata": {},
     "output_type": "execute_result"
    }
   ],
   "source": [
    "widget.interact(plot_spatiotemporal_scatter3, time=(0,100,1), run=(1,5,1),  exp=(0,3,0.25) )"
   ]
  },
  {
   "cell_type": "code",
   "execution_count": 22,
   "metadata": {
    "ExecuteTime": {
     "end_time": "2021-05-03T11:31:41.466533Z",
     "start_time": "2021-05-03T11:31:41.368432Z"
    }
   },
   "outputs": [
    {
     "data": {
      "application/vnd.jupyter.widget-view+json": {
       "model_id": "1546a9db4afc423c883601c52d1000a2",
       "version_major": 2,
       "version_minor": 0
      },
      "text/plain": [
       "interactive(children=(FloatSlider(value=1.0, description='exp', max=3.0, step=0.25), IntSlider(value=50, descr…"
      ]
     },
     "metadata": {},
     "output_type": "display_data"
    },
    {
     "data": {
      "text/plain": [
       "<function __main__.plot_mean_kt_scatter3(exp=1.0, time=(0, 100, 1))>"
      ]
     },
     "execution_count": 22,
     "metadata": {},
     "output_type": "execute_result"
    }
   ],
   "source": [
    "widget.interact(plot_mean_kt_scatter3, time=(0,100,1),  exp=(0,3,0.25) )"
   ]
  },
  {
   "cell_type": "code",
   "execution_count": 23,
   "metadata": {
    "ExecuteTime": {
     "end_time": "2021-05-03T11:31:41.566360Z",
     "start_time": "2021-05-03T11:31:41.476785Z"
    }
   },
   "outputs": [
    {
     "data": {
      "application/vnd.jupyter.widget-view+json": {
       "model_id": "1a3e05334e2240f3a24757dedd01dfbf",
       "version_major": 2,
       "version_minor": 0
      },
      "text/plain": [
       "interactive(children=(FloatSlider(value=1.0, description='exp', max=3.0, step=0.25), Output()), _dom_classes=(…"
      ]
     },
     "metadata": {},
     "output_type": "display_data"
    },
    {
     "data": {
      "text/plain": [
       "<function __main__.plot_kt_hist3(exp=1.0)>"
      ]
     },
     "execution_count": 23,
     "metadata": {},
     "output_type": "execute_result"
    }
   ],
   "source": [
    "widget.interact(plot_kt_hist3,  exp=(0,3,0.25) )"
   ]
  },
  {
   "cell_type": "code",
   "execution_count": null,
   "metadata": {},
   "outputs": [],
   "source": []
  },
  {
   "cell_type": "code",
   "execution_count": null,
   "metadata": {},
   "outputs": [],
   "source": []
  },
  {
   "cell_type": "code",
   "execution_count": null,
   "metadata": {},
   "outputs": [],
   "source": []
  },
  {
   "cell_type": "code",
   "execution_count": null,
   "metadata": {},
   "outputs": [],
   "source": []
  }
 ],
 "metadata": {
  "kernelspec": {
   "display_name": "Python 3",
   "language": "python",
   "name": "python3"
  },
  "language_info": {
   "codemirror_mode": {
    "name": "ipython",
    "version": 3
   },
   "file_extension": ".py",
   "mimetype": "text/x-python",
   "name": "python",
   "nbconvert_exporter": "python",
   "pygments_lexer": "ipython3",
   "version": "3.8.5"
  },
  "toc": {
   "base_numbering": 1,
   "nav_menu": {},
   "number_sections": true,
   "sideBar": true,
   "skip_h1_title": false,
   "title_cell": "Table of Contents",
   "title_sidebar": "Contents",
   "toc_cell": true,
   "toc_position": {},
   "toc_section_display": true,
   "toc_window_display": false
  },
  "varInspector": {
   "cols": {
    "lenName": 16,
    "lenType": 16,
    "lenVar": 40
   },
   "kernels_config": {
    "python": {
     "delete_cmd_postfix": "",
     "delete_cmd_prefix": "del ",
     "library": "var_list.py",
     "varRefreshCmd": "print(var_dic_list())"
    },
    "r": {
     "delete_cmd_postfix": ") ",
     "delete_cmd_prefix": "rm(",
     "library": "var_list.r",
     "varRefreshCmd": "cat(var_dic_list()) "
    }
   },
   "types_to_exclude": [
    "module",
    "function",
    "builtin_function_or_method",
    "instance",
    "_Feature"
   ],
   "window_display": false
  }
 },
 "nbformat": 4,
 "nbformat_minor": 4
}
