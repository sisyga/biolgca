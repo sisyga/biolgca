{
 "cells": [
  {
   "cell_type": "code",
   "execution_count": null,
   "metadata": {},
   "outputs": [],
   "source": [
    "from lgca import get_lgca\n",
    "from lgca.helpers import *\n",
    "import numpy as np\n",
    "import matplotlib.pyplot as plt\n",
    "# from matplotlib import cm\n",
    "\n",
    "\n",
    "timesteps = 1500\n",
    "dim = 10\n",
    "dens =  1\n",
    "\n",
    "birthrate = 1\n",
    "rc = 2\n",
    "deathrate = 0.02\n",
    "id = 0\n",
    "\n",
    "\n",
    "lgca= get_lgca(ib=True, geometry='lin', interaction='inheritance',\\\n",
    "           density = dens, dims = dim, r_b = birthrate, variation = False, restchannels = rc,\\\n",
    "               r_d = deathrate, bc='reflecting')\n",
    "\n",
    "lgca.timeevo(timesteps, record=True)\n",
    "%matplotlib notebook\n",
    "\n"
   ]
  },
  {
   "cell_type": "code",
   "execution_count": null,
   "metadata": {},
   "outputs": [],
   "source": []
  },
  {
   "cell_type": "code",
   "execution_count": null,
   "metadata": {},
   "outputs": [],
   "source": []
  },
  {
   "cell_type": "code",
   "execution_count": null,
   "metadata": {},
   "outputs": [],
   "source": [
    "count_fam(lgca)\n"
   ]
  },
  {
   "cell_type": "code",
   "execution_count": 4,
   "metadata": {},
   "outputs": [
    {
     "name": "stdout",
     "output_type": "stream",
     "text": [
      "[[0.2 0.2 0.2 ... 0.2 0.2 0.2]\n",
      " [0.2 0.2 0.2 ... 0.2 0.2 0.2]\n",
      " [0.2 0.2 0.2 ... 0.2 0.2 0.2]\n",
      " ...\n",
      " [0.2 0.2 0.2 ... 0.2 0.2 0.2]\n",
      " [0.2 0.2 0.2 ... 0.2 0.2 0.2]\n",
      " [0.2 0.2 0.2 ... 0.2 0.2 0.2]]\n",
      "bin schon bei c=  0\n",
      "bin schon bei c=  1\n",
      "bin schon bei c=  2\n",
      "bin schon bei c=  3\n",
      "bin schon bei c=  4\n",
      "bin schon bei c=  5\n",
      "bin schon bei c=  6\n",
      "bin schon bei c=  7\n",
      "bin schon bei c=  8\n",
      "bin schon bei c=  9\n",
      "bin schon bei c=  10\n",
      "bin schon bei c=  11\n",
      "bin schon bei c=  12\n",
      "bin schon bei c=  13\n",
      "bin schon bei c=  14\n",
      "bin schon bei c=  15\n",
      "bin schon bei c=  16\n",
      "bin schon bei c=  17\n",
      "bin schon bei c=  18\n",
      "bin schon bei c=  19\n",
      "bin schon bei c=  20\n",
      "bin schon bei c=  21\n",
      "bin schon bei c=  22\n",
      "bin schon bei c=  23\n",
      "bin schon bei c=  24\n",
      "bin schon bei c=  25\n",
      "bin schon bei c=  26\n",
      "bin schon bei c=  27\n",
      "bin schon bei c=  28\n",
      "bin schon bei c=  29\n",
      "bin schon bei c=  30\n",
      "bin schon bei c=  31\n",
      "bin schon bei c=  32\n",
      "bin schon bei c=  33\n",
      "bin schon bei c=  34\n",
      "bin schon bei c=  35\n",
      "bin schon bei c=  36\n",
      "bin schon bei c=  37\n",
      "bin schon bei c=  38\n",
      "bin schon bei c=  39\n",
      "bin schon bei c=  40\n",
      "bin schon bei c=  41\n",
      "bin schon bei c=  42\n",
      "bin schon bei c=  43\n",
      "bin schon bei c=  44\n",
      "bin schon bei c=  45\n",
      "bin schon bei c=  46\n",
      "bin schon bei c=  47\n",
      "bin schon bei c=  48\n",
      "bin schon bei c=  49\n",
      "bin schon bei c=  50\n",
      "bin schon bei c=  51\n",
      "bin schon bei c=  52\n",
      "bin schon bei c=  53\n",
      "bin schon bei c=  54\n",
      "bin schon bei c=  55\n",
      "bin schon bei c=  56\n",
      "bin schon bei c=  57\n",
      "bin schon bei c=  58\n",
      "bin schon bei c=  59\n",
      "bin schon bei c=  60\n",
      "bin schon bei c=  61\n",
      "bin schon bei c=  62\n",
      "bin schon bei c=  63\n",
      "bin schon bei c=  64\n",
      "bin schon bei c=  65\n",
      "bin schon bei c=  66\n",
      "bin schon bei c=  67\n",
      "bin schon bei c=  68\n",
      "bin schon bei c=  69\n"
     ]
    },
    {
     "data": {
      "image/png": "[encoded data removed]",
      "text/plain": [
       "<Figure size 432x288 with 1 Axes>"
      ]
     },
     "metadata": {
      "needs_background": "light"
     },
     "output_type": "display_data"
    }
   ],
   "source": [
    "# import numpy as np\n",
    "# import matplotlib.pyplot as plt\n",
    "\n",
    "# tmax = 50\n",
    "# maxlab = 70\n",
    "# ancs = np.arange(0, maxlab)\n",
    "# val = np.zeros((tmax, maxlab))\n",
    "# ind = np.arange(0,tmax)\n",
    "# width = 1\n",
    "# for t in range(0, tmax):\n",
    "#     c_sum = 0\n",
    "#     for c in ancs:\n",
    "#         val[t, c] = 1\n",
    "#     c_sum = 5\n",
    "#     #     print('csum', c_sum)\n",
    "#     if c_sum != 0:\n",
    "#         val[t] = val[t] / c_sum\n",
    "# print(val)\n",
    "\n",
    "# # for c in ancs:\n",
    "# #     print('bin schon bei c= ', c)\n",
    "# #     b = np.zeros(tmax)\n",
    "# #     for i in range(0, c):\n",
    "# #         b = b + val[:, i]\n",
    "# #     plt.bar(ind, val[:, c], width, bottom=b, label=c)\n",
    "# b = np.zeros(tmax)\n",
    "# for c in ancs:\n",
    "#     print('bin schon bei c= ', c)\n",
    "#     plt.bar(ind, val[:, c], width, bottom=b, label=c) \n",
    "#     b = b + val[:, c]\n",
    "# plt.show()"
   ]
  }
 ],
 "metadata": {
  "kernelspec": {
   "display_name": "Python 3",
   "language": "python",
   "name": "python3"
  },
  "language_info": {
   "codemirror_mode": {
    "name": "ipython",
    "version": 3
   },
   "file_extension": ".py",
   "mimetype": "text/x-python",
   "name": "python",
   "nbconvert_exporter": "python",
   "pygments_lexer": "ipython3",
   "version": "3.7.1"
  }
 },
 "nbformat": 4,
 "nbformat_minor": 2
}
