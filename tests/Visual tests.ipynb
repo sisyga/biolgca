{
 "cells": [
  {
   "cell_type": "markdown",
   "metadata": {},
   "source": [
    "# Testing\n",
    "Script for testing basic functionalities that can be better examined visually. How to use: Run the notebook and look at the output."
   ]
  },
  {
   "cell_type": "markdown",
   "metadata": {},
   "source": [
    "## Content\n",
    "#### LGCA with volume exclusion\n",
    "* [1D](#ve_1d)\n",
    "    * [Density and flux plotting](#ve_1d_densfluxplot)\n",
    "* [2D square](#ve_2d_square)\n",
    "\t* [Density and flux plotting](#ve_2d_square_densfluxplot)\n",
    "\t* [Density and flux animations](#ve_2d_square_densfluxani)\n",
    "* [2D hex](#ve_2d_hex)\n",
    "\t* [Density and flux plotting](#ve_2d_hex_densfluxplot)\n",
    "\t* [Density and flux animations](#ve_2d_hex_densfluxani)\n",
    "    \n",
    "#### IBLGCA\n",
    "* [1D](#ib_1d)\n",
    "    * [Density and flux plotting](#ib_1d_densfluxplot)\n",
    "* [2D square](#ib_2d_square)\n",
    "\t* [Density and flux plotting](#ib_2d_square_densfluxplot)\n",
    "\t* [Density and flux animations](#ib_2d_square_densfluxani)\n",
    "* [2D hex](#ib_2d_hex)\n",
    "\t* [Density and flux plotting](#ib_2d_hex_densfluxplot)\n",
    "\t* [Density and flux animations](#ib_2d_hex_densfluxani)\n",
    "\n",
    "#### LGCA without volume exclusion\n",
    "* [1D](#nove_1d)\n",
    "    * [Density and flux plotting](#nove_1d_densfluxplot)\n",
    "* [2D square](#nove_2d_square)\n",
    "\t* [Density and flux plotting](#nove_2d_square_densfluxplot)\n",
    "\t* [Density and flux animations](#nove_2d_square_densfluxani)\n",
    "* [2D hex](#nove_2d_hex)\n",
    "\t* [Density and flux plotting](#nove_2d_hex_densfluxplot)\n",
    "\t* [Density and flux animations](#nove_2d_hex_densfluxani)"
   ]
  },
  {
   "cell_type": "code",
   "execution_count": 1,
   "metadata": {},
   "outputs": [],
   "source": [
    "import numpy as np\n",
    "import matplotlib.pyplot as plt\n",
    "import pandas as pd\n",
    "import sys\n",
    "sys.path.insert(1, \"./..\") # add parent folder to the pythonpath in order to import lgca\n",
    "from lgca import get_lgca\n",
    "import classical_test, nove_test"
   ]
  },
  {
   "cell_type": "markdown",
   "metadata": {},
   "source": [
    "# LGCA with volume exclusion, 1D <a class=\"anchor\" id=\"ve_1d\"></a>"
   ]
  },
  {
   "cell_type": "markdown",
   "metadata": {},
   "source": [
    "## Density and flux plotting <a class=\"anchor\" id=\"ve_1d_densfluxplot\"></a>"
   ]
  },
  {
   "cell_type": "code",
   "execution_count": null,
   "metadata": {
    "scrolled": false
   },
   "outputs": [],
   "source": [
    "nodes = np.zeros((10,3))\n",
    "nodes[3,0] = 1 # particle moving right\n",
    "nodes[4,2] = 1 # resting particle\n",
    "nodes[5,1] = 1 # particle moving left\n",
    "lgca=get_lgca(geometry='lin', dims=20, nodes=nodes, interaction='only_propagation')\n",
    "lgca.timeevo(timesteps=10, record=True, showprogress=False)\n",
    "lgca.plot_density(figsize=(4,4))\n",
    "plt.show()\n",
    "lgca.plot_flux(figsize=(4,4))\n",
    "plt.show()"
   ]
  },
  {
   "cell_type": "markdown",
   "metadata": {},
   "source": [
    "# LGCA with volume exclusion, 2D square <a class=\"anchor\" id=\"ve_2d_square\"></a>"
   ]
  },
  {
   "cell_type": "markdown",
   "metadata": {},
   "source": [
    "## Density and flux plotting <a class=\"anchor\" id=\"ve_2d_square_densfluxplot\"></a>"
   ]
  },
  {
   "cell_type": "code",
   "execution_count": null,
   "metadata": {
    "scrolled": false
   },
   "outputs": [],
   "source": [
    "%matplotlib inline\n",
    "nodes = np.zeros((3, 4, 6))\n",
    "nodes[0, 1, 0] = 1  # particle moving to the right\n",
    "nodes[1, 0, 1] = 1  # particle moving up\n",
    "nodes[2, 1, 2] = 1  # particle moving to the left\n",
    "nodes[1, 2, 3] = 1  # particle moving down\n",
    "nodes[1, 1, 4] = 1  # particle resting\n",
    "lgca=get_lgca(geometry='square', dims=(10,10), nodes=nodes, interaction='only_propagation')\n",
    "lgca.plot_density(figsize=(4,4))\n",
    "plt.show()\n",
    "lgca.plot_flux(figsize=(4,4))\n",
    "plt.show()\n",
    "lgca.plot_config(figsize=(4,4))\n",
    "plt.show()\n",
    "lgca.plot_flow(figsize=(4,4))\n",
    "plt.show()"
   ]
  },
  {
   "cell_type": "markdown",
   "metadata": {},
   "source": [
    "## Density and flux animations <a class=\"anchor\" id=\"ve_2d_square_densfluxani\"></a>"
   ]
  },
  {
   "cell_type": "code",
   "execution_count": null,
   "metadata": {
    "scrolled": false
   },
   "outputs": [],
   "source": [
    "%matplotlib notebook\n",
    "nodes = np.zeros((8, 8, 6))\n",
    "nodes[0, 1, 0] = 1  # particle moving to the right\n",
    "nodes[1, 0, 1] = 1  # particle moving up\n",
    "nodes[2, 1, 2] = 1  # particle moving to the left\n",
    "nodes[1, 2, 3] = 1  # particle moving down\n",
    "nodes[1, 1, 4] = 1  # particle resting\n",
    "lgca=get_lgca(geometry='square', dims=(10,10), nodes=nodes, interaction='only_propagation')\n",
    "lgca.timeevo(timesteps=40, record=True, showprogress=False)\n",
    "lgca.animate_density(figsize=(4,4), interval=500)"
   ]
  },
  {
   "cell_type": "code",
   "execution_count": null,
   "metadata": {},
   "outputs": [],
   "source": [
    "%matplotlib notebook\n",
    "lgca.animate_flux(figsize=(4,4), interval=500)"
   ]
  },
  {
   "cell_type": "code",
   "execution_count": null,
   "metadata": {
    "pycharm": {},
   "outputs": [],
   "source": [
    "%matplotlib notebook\n",
    "lgca.animate_config(figsize=(4,4), interval=500)"
   ]
  },
  {
   "cell_type": "code",
   "execution_count": null,
   "metadata": {
    "pycharm": {},
   "outputs": [],
   "source": [
    "%matplotlib notebook\n",
    "lgca.animate_flow(figsize=(4,4), interval=500)"
   ]
  },
  {
   "cell_type": "code",
   "execution_count": null,
   "metadata": {
    "pycharm": {
     "name": "#%%\n"
    }
   },
   "outputs": [],
   "source": [
    "%matplotlib notebook\n",
    "nodes = np.zeros((8, 8, 6))\n",
    "nodes[0, 1, 0] = 1  # particle moving to the right\n",
    "nodes[1, 0, 1] = 1  # particle moving up\n",
    "nodes[2, 1, 2] = 1  # particle moving to the left\n",
    "nodes[1, 2, 3] = 1  # particle moving down\n",
    "nodes[1, 1, 4] = 1  # particle resting\n",
    "lgca=get_lgca(geometry='square', dims=(10,10), nodes=nodes, interaction='only_propagation')\n",
    "lgca.live_animate_density(figsize=(4,4), interval=1000)"
   ]
  },
  {
   "cell_type": "code",
   "execution_count": null,
   "metadata": {
    "pycharm": {
     "name": "#%%\n"
    }
   },
   "outputs": [],
   "source": [
    "%matplotlib notebook\n",
    "lgca.live_animate_flux(figsize=(4,4), interval=1000)"
   ]
  },
  {
   "cell_type": "code",
   "execution_count": null,
   "metadata": {
    "pycharm": {
     "name": "#%%\n"
    }
   },
   "outputs": [],
   "source": [
    "%matplotlib notebook\n",
    "lgca.live_animate_config(figsize=(4,4), interval=1000)"
   ]
  },
  {
   "cell_type": "markdown",
   "metadata": {
    "pycharm": {
     "name": "#%% md\n"
    }
   },
   "source": [
    "# LGCA with volume exclusion, 2D hex <a class=\"anchor\" id=\"ve_2d_hex\"></a>"
   ]
  },
  {
   "cell_type": "markdown",
   "metadata": {
    "pycharm": {
     "name": "#%% md\n"
    }
   },
   "source": [
    "## Density and flux plotting <a class=\"anchor\" id=\"ve_2d_hex_densfluxplot\"></a>"
   ]
  },
  {
   "cell_type": "code",
   "execution_count": null,
   "metadata": {
    "scrolled": false
   },
   "outputs": [],
   "source": [
    "%matplotlib inline\n",
    "nodes = np.zeros((8, 8, 8))\n",
    "nodes[0, 1, 0] = 1  # particle moving right\n",
    "nodes[0, 0, 1] = 1  # particle moving to the upper right\n",
    "nodes[1, 0, 2] = 1  # particle moving to the upper left\n",
    "nodes[2, 1, 3] = 1  # particle moving left\n",
    "nodes[1, 2, 4] = 1  # particle moving to the lower left\n",
    "nodes[0, 2, 5] = 1  # particle moving to the lower right\n",
    "nodes[1, 1, 6] = 1  # particle resting\n",
    "lgca=get_lgca(geometry='hex', dims=(10,10), nodes=nodes, interaction='only_propagation')\n",
    "lgca.plot_density(figsize=(4,4))\n",
    "plt.show()\n",
    "lgca.plot_flux(figsize=(4,4))\n",
    "plt.show()\n",
    "lgca.plot_config(figsize=(5,5))\n",
    "plt.show()"
   ]
  },
  {
   "cell_type": "markdown",
   "metadata": {},
   "source": [
    "## Density and flux animations <a class=\"anchor\" id=\"ve_2d_hex_densfluxani\"></a>"
   ]
  },
  {
   "cell_type": "code",
   "execution_count": null,
   "metadata": {
    "scrolled": false
   },
   "outputs": [],
   "source": [
    "%matplotlib notebook\n",
    "nodes = np.zeros((8, 8, 8))\n",
    "nodes[0, 1, 0] = 1  # particle moving right\n",
    "nodes[0, 0, 1] = 1  # particle moving to the upper right\n",
    "nodes[1, 0, 2] = 1  # particle moving to the upper left\n",
    "nodes[2, 1, 3] = 1  # particle moving left\n",
    "nodes[1, 2, 4] = 1  # particle moving to the lower left\n",
    "nodes[0, 2, 5] = 1  # particle moving to the lower right\n",
    "nodes[1, 1, 6] = 1  # particle resting\n",
    "lgca=get_lgca(geometry='hex', dims=(10,10), nodes=nodes, interaction='only_propagation')\n",
    "lgca.timeevo(timesteps=40, record=True, showprogress=False)\n",
    "lgca.animate_density(figsize=(4,4), interval=500)"
   ]
  },
  {
   "cell_type": "code",
   "execution_count": null,
   "metadata": {
    "pycharm": {
     "name": "#%%\n"
    }
   },
   "outputs": [],
   "source": [
    "%matplotlib notebook\n",
    "lgca.animate_flux(figsize=(4,4), interval=500)"
   ]
  },
  {
   "cell_type": "code",
   "execution_count": null,
   "metadata": {
    "pycharm": {
     "name": "#%%\n"
    }
   },
   "outputs": [],
   "source": [
    "%matplotlib notebook\n",
    "lgca.animate_config(figsize=(4,4), interval=500)"
   ]
  },
  {
   "cell_type": "code",
   "execution_count": null,
   "metadata": {
    "pycharm": {
     "name": "#%%\n"
    }
   },
   "outputs": [],
   "source": [
    "%matplotlib notebook\n",
    "nodes = np.zeros((8, 8, 8))\n",
    "nodes[0, 1, 0] = 1  # particle moving right\n",
    "nodes[0, 0, 1] = 1  # particle moving to the upper right\n",
    "nodes[1, 0, 2] = 1  # particle moving to the upper left\n",
    "nodes[2, 1, 3] = 1  # particle moving left\n",
    "nodes[1, 2, 4] = 1  # particle moving to the lower left\n",
    "nodes[0, 2, 5] = 1  # particle moving to the lower right\n",
    "nodes[1, 1, 6] = 1  # particle resting\n",
    "lgca=get_lgca(geometry='hex', dims=(10,10), nodes=nodes, interaction='only_propagation')\n",
    "lgca.live_animate_density(figsize=(4,4), interval=1000)"
   ]
  },
  {
   "cell_type": "code",
   "execution_count": null,
   "metadata": {
    "pycharm": {
     "name": "#%%\n"
    },
    "scrolled": true
   },
   "outputs": [],
   "source": [
    "%matplotlib notebook\n",
    "lgca.live_animate_flux(figsize=(4,4), interval=1000)"
   ]
  },
  {
   "cell_type": "code",
   "execution_count": null,
   "metadata": {
    "pycharm": {
     "name": "#%%\n"
    }
   },
   "outputs": [],
   "source": [
    "%matplotlib notebook\n",
    "lgca.live_animate_config(figsize=(4,4), interval=1000)"
   ]
  },
  {
   "cell_type": "markdown",
   "metadata": {
    "pycharm": {
     "name": "#%% md\n"
    }
   },
   "source": [
    "# IBLGCA, 1D <a class=\"anchor\" id=\"ib_1d\"></a>"
   ]
  },
  {
   "cell_type": "markdown",
   "metadata": {
    "pycharm": {
     "name": "#%% md\n"
    }
   },
   "source": [
    "## Density and flux plotting <a class=\"anchor\" id=\"ib_1d_densfluxplot\"></a>"
   ]
  },
  {
   "cell_type": "code",
   "execution_count": null,
   "metadata": {
    "pycharm": {
     "name": "#%%\n"
    },
    "scrolled": false
   },
   "outputs": [],
   "source": [
    "nodes = np.zeros((10,3))\n",
    "nodes[3,0] = 1 # particle moving right\n",
    "nodes[4,2] = 2 # resting particle\n",
    "nodes[5,1] = 3 # particle moving left\n",
    "lgca=get_lgca(geometry='lin', ib=True, dims=20, nodes=nodes, interaction='only_propagation', restchannels=2)\n",
    "lgca.timeevo(timesteps=10, record=True, showprogress=False)\n",
    "lgca.plot_density(figsize=(4,4))\n",
    "plt.show()\n",
    "lgca.plot_flux(figsize=(4,4))\n",
    "plt.show()"
   ]
  },
  {
   "cell_type": "markdown",
   "metadata": {
    "pycharm": {
     "name": "#%% md\n"
    }
   },
   "source": [
    "# IBLGCA, 2D square <a class=\"anchor\" id=\"ib_2d_square\"></a>"
   ]
  },
  {
   "cell_type": "markdown",
   "metadata": {
    "pycharm": {
     "name": "#%% md\n"
    }
   },
   "source": [
    "## Density and flux plotting <a class=\"anchor\" id=\"ib_2d_square_densfluxplot\"></a>"
   ]
  },
  {
   "cell_type": "code",
   "execution_count": null,
   "metadata": {
    "pycharm": {
     "name": "#%%\n"
    },
    "scrolled": false
   },
   "outputs": [],
   "source": [
    "%matplotlib inline\n",
    "nodes = np.zeros((8, 8, 6))\n",
    "nodes[0, 1, 0] = 1  # particle moving to the right\n",
    "nodes[1, 0, 1] = 2  # particle moving up\n",
    "nodes[2, 1, 2] = 3  # particle moving to the left\n",
    "nodes[1, 2, 3] = 4  # particle moving down\n",
    "nodes[1, 1, 4] = 5  # particle resting\n",
    "lgca=get_lgca(geometry='square', ib=True, dims=(10,10), nodes=nodes, interaction='only_propagation')\n",
    "lgca.plot_density(figsize=(4,4))\n",
    "plt.show()\n",
    "lgca.plot_flux(figsize=(4,4))\n",
    "plt.show()\n",
    "lgca.plot_config(figsize=(5,5))\n",
    "plt.show()"
   ]
  },
  {
   "cell_type": "markdown",
   "metadata": {
    "pycharm": {
     "name": "#%% md\n"
    }
   },
   "source": [
    "## Density and flux animations <a class=\"anchor\" id=\"ib_2d_square_densfluxani\"></a>"
   ]
  },
  {
   "cell_type": "code",
   "execution_count": null,
   "metadata": {
    "pycharm": {
     "name": "#%%\n"
    },
    "scrolled": false
   },
   "outputs": [],
   "source": [
    "%matplotlib notebook\n",
    "nodes = np.zeros((8, 8, 6))\n",
    "nodes[0, 1, 0] = 1  # particle moving to the right\n",
    "nodes[1, 0, 1] = 2  # particle moving up\n",
    "nodes[2, 1, 2] = 3  # particle moving to the left\n",
    "nodes[1, 2, 3] = 4  # particle moving down\n",
    "nodes[1, 1, 4] = 5  # particle resting\n",
    "lgca=get_lgca(geometry='square', ib=True, dims=(10,10), nodes=nodes, interaction='only_propagation')\n",
    "lgca.timeevo(timesteps=40, record=True, showprogress=False)\n",
    "lgca.animate_density(figsize=(4,4), interval=500)"
   ]
  },
  {
   "cell_type": "code",
   "execution_count": null,
   "metadata": {
    "pycharm": {
     "name": "#%%\n"
    }
   },
   "outputs": [],
   "source": [
    "%matplotlib notebook\n",
    "nodes = np.zeros((8, 8, 6))\n",
    "nodes[0, 1, 0] = 1  # particle moving to the right\n",
    "nodes[1, 0, 1] = 2  # particle moving up\n",
    "nodes[2, 1, 2] = 3  # particle moving to the left\n",
    "nodes[1, 2, 3] = 4  # particle moving down\n",
    "nodes[1, 1, 4] = 5  # particle resting\n",
    "lgca=get_lgca(geometry='square', ib=True, dims=(10,10), nodes=nodes, interaction='only_propagation')\n",
    "lgca.timeevo(timesteps=40, record=True, showprogress=False)\n",
    "lgca.animate_flux(figsize=(4,4), interval=500)"
   ]
  },
  {
   "cell_type": "code",
   "execution_count": null,
   "metadata": {
    "pycharm": {
     "name": "#%%\n"
    }
   },
   "outputs": [],
   "source": [
    "%matplotlib notebook\n",
    "nodes = np.zeros((8, 8, 6))\n",
    "nodes[0, 1, 0] = 1  # particle moving to the right\n",
    "nodes[1, 0, 1] = 2  # particle moving up\n",
    "nodes[2, 1, 2] = 3  # particle moving to the left\n",
    "nodes[1, 2, 3] = 4  # particle moving down\n",
    "nodes[1, 1, 4] = 5  # particle resting\n",
    "lgca=get_lgca(geometry='square', ib=True, dims=(10,10), nodes=nodes, interaction='only_propagation')\n",
    "lgca.timeevo(timesteps=40, record=True, showprogress=False)\n",
    "lgca.animate_config(figsize=(4,4), interval=500)"
   ]
  },
  {
   "cell_type": "code",
   "execution_count": null,
   "metadata": {
    "pycharm": {
     "name": "#%%\n"
    }
   },
   "outputs": [],
   "source": [
    "%matplotlib notebook\n",
    "nodes = np.zeros((8, 8, 6))\n",
    "nodes[0, 1, 0] = 1  # particle moving to the right\n",
    "nodes[1, 0, 1] = 2  # particle moving up\n",
    "nodes[2, 1, 2] = 3  # particle moving to the left\n",
    "nodes[1, 2, 3] = 4  # particle moving down\n",
    "nodes[1, 1, 4] = 5  # particle resting\n",
    "lgca=get_lgca(geometry='square', ib=True, dims=(10,10), nodes=nodes, interaction='only_propagation')\n",
    "lgca.live_animate_density(figsize=(4,4), interval=1000)"
   ]
  },
  {
   "cell_type": "code",
   "execution_count": null,
   "metadata": {
    "pycharm": {
     "name": "#%%\n"
    }
   },
   "outputs": [],
   "source": [
    "%matplotlib notebook\n",
    "nodes = np.zeros((8, 8, 6))\n",
    "nodes[0, 1, 0] = 1  # particle moving to the right\n",
    "nodes[1, 0, 1] = 2  # particle moving up\n",
    "nodes[2, 1, 2] = 3  # particle moving to the left\n",
    "nodes[1, 2, 3] = 4  # particle moving down\n",
    "nodes[1, 1, 4] = 5  # particle resting\n",
    "lgca=get_lgca(geometry='square', ib=True, dims=(10,10), nodes=nodes, interaction='only_propagation')\n",
    "lgca.live_animate_flux(figsize=(4,4), interval=1000)"
   ]
  },
  {
   "cell_type": "code",
   "execution_count": null,
   "metadata": {
    "pycharm": {
     "name": "#%%\n"
    }
   },
   "outputs": [],
   "source": [
    "%matplotlib notebook\n",
    "nodes = np.zeros((8, 8, 6))\n",
    "nodes[0, 1, 0] = 1  # particle moving to the right\n",
    "nodes[1, 0, 1] = 2  # particle moving up\n",
    "nodes[2, 1, 2] = 3  # particle moving to the left\n",
    "nodes[1, 2, 3] = 4  # particle moving down\n",
    "nodes[1, 1, 4] = 5  # particle resting\n",
    "lgca=get_lgca(geometry='square', ib=True, dims=(10,10), nodes=nodes, interaction='only_propagation')\n",
    "lgca.live_animate_config(figsize=(4,4), interval=1000)"
   ]
  },
  {
   "cell_type": "markdown",
   "metadata": {
    "pycharm": {
     "name": "#%% md\n"
    }
   },
   "source": [
    "# IBLGCA, 2D hex <a class=\"anchor\" id=\"ib_2d_hex\"></a>"
   ]
  },
  {
   "cell_type": "markdown",
   "metadata": {
    "pycharm": {
     "name": "#%% md\n"
    }
   },
   "source": [
    "## Density and flux plotting <a class=\"anchor\" id=\"ib_2d_hex_densfluxplot\"></a>"
   ]
  },
  {
   "cell_type": "code",
   "execution_count": null,
   "metadata": {
    "pycharm": {
     "name": "#%%\n"
    },
    "scrolled": false
   },
   "outputs": [],
   "source": [
    "%matplotlib inline\n",
    "nodes = np.zeros((8, 8, 8))\n",
    "nodes[0, 1, 0] = 1  # particle moving right\n",
    "nodes[0, 0, 1] = 2  # particle moving to the upper right\n",
    "nodes[1, 0, 2] = 3  # particle moving to the upper left\n",
    "nodes[2, 1, 3] = 4  # particle moving left\n",
    "nodes[1, 2, 4] = 5  # particle moving to the lower left\n",
    "nodes[0, 2, 5] = 6  # particle moving to the lower right\n",
    "nodes[1, 1, 6] = 7  # particle resting\n",
    "lgca=get_lgca(geometry='hex', ib=True, dims=(10,10), nodes=nodes, interaction='only_propagation')\n",
    "lgca.plot_density(figsize=(4,4))\n",
    "plt.show()\n",
    "lgca.plot_flux(figsize=(4,4))\n",
    "plt.show()\n",
    "lgca.plot_config(figsize=(5,5))\n",
    "plt.show()"
   ]
  },
  {
   "cell_type": "markdown",
   "metadata": {
    "pycharm": {
     "name": "#%% md\n"
    }
   },
   "source": [
    "## Density and flux animations <a class=\"anchor\" id=\"ib_2d_hex_densfluxani\"></a>"
   ]
  },
  {
   "cell_type": "code",
   "execution_count": null,
   "metadata": {
    "pycharm": {
     "name": "#%%\n"
    },
    "scrolled": false
   },
   "outputs": [],
   "source": [
    "%matplotlib notebook\n",
    "nodes = np.zeros((8, 8, 8))\n",
    "nodes[0, 1, 0] = 1  # particle moving right\n",
    "nodes[0, 0, 1] = 2  # particle moving to the upper right\n",
    "nodes[1, 0, 2] = 3  # particle moving to the upper left\n",
    "nodes[2, 1, 3] = 4  # particle moving left\n",
    "nodes[1, 2, 4] = 5  # particle moving to the lower left\n",
    "nodes[0, 2, 5] = 6  # particle moving to the lower right\n",
    "nodes[1, 1, 6] = 7  # particle resting\n",
    "lgca=get_lgca(geometry='hex', ib=True, dims=(10,10), nodes=nodes, interaction='only_propagation')\n",
    "lgca.timeevo(timesteps=40, record=True, showprogress=False)\n",
    "lgca.animate_density(figsize=(4,4), interval=500)"
   ]
  },
  {
   "cell_type": "code",
   "execution_count": null,
   "metadata": {
    "pycharm": {
     "name": "#%%\n"
    }
   },
   "outputs": [],
   "source": [
    "%matplotlib notebook\n",
    "nodes = np.zeros((8, 8, 8))\n",
    "nodes[0, 1, 0] = 1  # particle moving right\n",
    "nodes[0, 0, 1] = 2  # particle moving to the upper right\n",
    "nodes[1, 0, 2] = 3  # particle moving to the upper left\n",
    "nodes[2, 1, 3] = 4  # particle moving left\n",
    "nodes[1, 2, 4] = 5  # particle moving to the lower left\n",
    "nodes[0, 2, 5] = 6  # particle moving to the lower right\n",
    "nodes[1, 1, 6] = 7  # particle resting\n",
    "lgca=get_lgca(geometry='hex', ib=True, dims=(10,10), nodes=nodes, interaction='only_propagation')\n",
    "lgca.timeevo(timesteps=40, record=True, showprogress=False)\n",
    "lgca.animate_flux(figsize=(4,4), interval=500)"
   ]
  },
  {
   "cell_type": "code",
   "execution_count": null,
   "metadata": {
    "pycharm": {
     "name": "#%%\n"
    }
   },
   "outputs": [],
   "source": [
    "%matplotlib notebook\n",
    "nodes = np.zeros((8, 8, 8))\n",
    "nodes[0, 1, 0] = 1  # particle moving right\n",
    "nodes[0, 0, 1] = 2  # particle moving to the upper right\n",
    "nodes[1, 0, 2] = 3  # particle moving to the upper left\n",
    "nodes[2, 1, 3] = 4  # particle moving left\n",
    "nodes[1, 2, 4] = 5  # particle moving to the lower left\n",
    "nodes[0, 2, 5] = 6  # particle moving to the lower right\n",
    "nodes[1, 1, 6] = 7  # particle resting\n",
    "lgca=get_lgca(geometry='hex', ib=True, dims=(10,10), nodes=nodes, interaction='only_propagation')\n",
    "lgca.timeevo(timesteps=40, record=True, showprogress=False)\n",
    "lgca.animate_config(figsize=(4,4), interval=500)"
   ]
  },
  {
   "cell_type": "code",
   "execution_count": null,
   "metadata": {
    "pycharm": {
     "name": "#%%\n"
    }
   },
   "outputs": [],
   "source": [
    "%matplotlib notebook\n",
    "nodes = np.zeros((8, 8, 8))\n",
    "nodes[0, 1, 0] = 1  # particle moving right\n",
    "nodes[0, 0, 1] = 2  # particle moving to the upper right\n",
    "nodes[1, 0, 2] = 3  # particle moving to the upper left\n",
    "nodes[2, 1, 3] = 4  # particle moving left\n",
    "nodes[1, 2, 4] = 5  # particle moving to the lower left\n",
    "nodes[0, 2, 5] = 6  # particle moving to the lower right\n",
    "nodes[1, 1, 6] = 7  # particle resting\n",
    "lgca=get_lgca(geometry='hex', ib=True, dims=(10,10), nodes=nodes, interaction='only_propagation')\n",
    "lgca.live_animate_density(figsize=(4,4), interval=1000)"
   ]
  },
  {
   "cell_type": "code",
   "execution_count": null,
   "metadata": {
    "pycharm": {
     "name": "#%%\n"
    },
    "scrolled": false
   },
   "outputs": [],
   "source": [
    "%matplotlib notebook\n",
    "nodes = np.zeros((8, 8, 8))\n",
    "nodes[0, 1, 0] = 1  # particle moving right\n",
    "nodes[0, 0, 1] = 2  # particle moving to the upper right\n",
    "nodes[1, 0, 2] = 3  # particle moving to the upper left\n",
    "nodes[2, 1, 3] = 4  # particle moving left\n",
    "nodes[1, 2, 4] = 5  # particle moving to the lower left\n",
    "nodes[0, 2, 5] = 6  # particle moving to the lower right\n",
    "nodes[1, 1, 6] = 7  # particle resting\n",
    "lgca=get_lgca(geometry='hex', ib=True, dims=(10,10), nodes=nodes, interaction='only_propagation')\n",
    "lgca.live_animate_flux(figsize=(4,4), interval=1000)"
   ]
  },
  {
   "cell_type": "code",
   "execution_count": null,
   "metadata": {
    "pycharm": {
     "name": "#%%\n"
    },
    "scrolled": false
   },
   "outputs": [],
   "source": [
    "%matplotlib notebook\n",
    "nodes = np.zeros((8, 8, 8))\n",
    "nodes[0, 1, 0] = 1  # particle moving right\n",
    "nodes[0, 0, 1] = 2  # particle moving to the upper right\n",
    "nodes[1, 0, 2] = 3  # particle moving to the upper left\n",
    "nodes[2, 1, 3] = 4  # particle moving left\n",
    "nodes[1, 2, 4] = 5  # particle moving to the lower left\n",
    "nodes[0, 2, 5] = 6  # particle moving to the lower right\n",
    "nodes[1, 1, 6] = 7  # particle resting\n",
    "lgca=get_lgca(geometry='hex', ib=True, dims=(10,10), nodes=nodes, interaction='only_propagation')\n",
    "lgca.live_animate_config(figsize=(4,4), interval=1000)"
   ]
  },
  {
   "cell_type": "markdown",
   "metadata": {
    "pycharm": {
     "name": "#%% md\n"
    }
   },
   "source": [
    "# LGCA without volume exclusion, 1D <a class=\"anchor\" id=\"nove_1d\"></a>"
   ]
  },
  {
   "cell_type": "markdown",
   "metadata": {
    "pycharm": {
     "name": "#%% md\n"
    }
   },
   "source": [
    "## Density and flux plotting <a class=\"anchor\" id=\"nove_1d_densfluxplot\"></a>"
   ]
  },
  {
   "cell_type": "code",
   "execution_count": null,
   "metadata": {
    "pycharm": {
     "name": "#%%\n"
    }
   },
   "outputs": [],
   "source": [
    "%matplotlib inline\n",
    "nodes = np.zeros((10,3))\n",
    "nodes[3,0] = 2 # particles moving right\n",
    "nodes[4,2] = 1 # resting particles\n",
    "nodes[5,1] = 3 # particles moving left\n",
    "lgca=get_lgca(geometry='lin', ve=False, dims=20, nodes=nodes, interaction='only_propagation')\n",
    "lgca.timeevo(timesteps=10, record=True, showprogress=False)\n",
    "lgca.plot_density(figsize=(4,4), cmap='hot_r')\n",
    "plt.show()\n",
    "lgca.plot_flux(figsize=(4,4))\n",
    "plt.show()"
   ]
  },
  {
   "cell_type": "markdown",
   "metadata": {
    "pycharm": {
     "name": "#%% md\n"
    }
   },
   "source": [
    "# LGCA without volume exclusion, 2D square <a class=\"anchor\" id=\"nove_2d_square\"></a>"
   ]
  },
  {
   "cell_type": "markdown",
   "metadata": {
    "pycharm": {
     "name": "#%% md\n"
    }
   },
   "source": [
    "## Density and flux plotting <a class=\"anchor\" id=\"nove_2d_square_densfluxplot\"></a>"
   ]
  },
  {
   "cell_type": "code",
   "execution_count": null,
   "metadata": {
    "pycharm": {
     "name": "#%%\n"
    }
   },
   "outputs": [],
   "source": [
    "%matplotlib inline\n",
    "nodes = np.zeros((8, 8, 5))\n",
    "nodes[0, 1, 0] = 1  # particle moving to the right\n",
    "nodes[1, 0, 1] = 2  # particles moving up\n",
    "nodes[2, 1, 2] = 3  # particles moving to the left\n",
    "nodes[1, 2, 3] = 4  # particles moving down\n",
    "nodes[1, 1, 4] = 5  # particles resting\n",
    "lgca=get_lgca(geometry='square', ve=False, dims=(10,10), nodes=nodes, interaction='only_propagation')\n",
    "lgca.plot_density(figsize=(4,4))\n",
    "plt.show()\n",
    "lgca.plot_flux(figsize=(4,4))\n",
    "plt.show()"
   ]
  },
  {
   "cell_type": "markdown",
   "metadata": {
    "pycharm": {
     "name": "#%% md\n"
    }
   },
   "source": [
    "## Density and flux animations <a class=\"anchor\" id=\"nove_2d_square_densfluxani\"></a>"
   ]
  },
  {
   "cell_type": "code",
   "execution_count": null,
   "metadata": {
    "pycharm": {
     "name": "#%%\n"
    }
   },
   "outputs": [],
   "source": [
    "%matplotlib notebook\n",
    "nodes = np.zeros((8, 8, 5))\n",
    "nodes[0, 1, 0] = 1  # particle moving to the right\n",
    "nodes[1, 0, 1] = 2  # particles moving up\n",
    "nodes[2, 1, 2] = 3  # particles moving to the left\n",
    "nodes[1, 2, 3] = 4  # particles moving down\n",
    "nodes[1, 1, 4] = 5  # particles resting\n",
    "lgca=get_lgca(geometry='square', ve=False, dims=(10,10), nodes=nodes, interaction='only_propagation')\n",
    "lgca.timeevo(timesteps=40, record=True, showprogress=False)\n",
    "lgca.animate_density(figsize=(4,4), interval=500)"
   ]
  },
  {
   "cell_type": "code",
   "execution_count": null,
   "metadata": {
    "pycharm": {
     "name": "#%%\n"
    }
   },
   "outputs": [],
   "source": [
    "%matplotlib notebook\n",
    "lgca.animate_flux(figsize=(4,4))"
   ]
  },
  {
   "cell_type": "code",
   "execution_count": null,
   "metadata": {
    "pycharm": {
     "name": "#%%\n"
    }
   },
   "outputs": [],
   "source": [
    "%matplotlib notebook\n",
    "nodes = np.zeros((8, 8, 5))\n",
    "nodes[0, 1, 0] = 1  # particle moving to the right\n",
    "nodes[1, 0, 1] = 2  # particles moving up\n",
    "nodes[2, 1, 2] = 3  # particles moving to the left\n",
    "nodes[1, 2, 3] = 4  # particles moving down\n",
    "nodes[1, 1, 4] = 5  # particles resting\n",
    "lgca=get_lgca(geometry='square', ve=False, dims=(10,10), nodes=nodes, interaction='only_propagation')\n",
    "lgca.live_animate_density(figsize=(4,4), interval=1000)"
   ]
  },
  {
   "cell_type": "code",
   "execution_count": null,
   "metadata": {
    "pycharm": {
     "name": "#%%\n"
    }
   },
   "outputs": [],
   "source": [
    "%matplotlib notebook\n",
    "lgca.live_animate_flux(figsize=(4,4), interval=1000)"
   ]
  },
  {
   "cell_type": "markdown",
   "metadata": {
    "pycharm": {
     "name": "#%% md\n"
    }
   },
   "source": [
    "# LGCA without volume exclusion, 2D hex <a class=\"anchor\" id=\"nove_2d_hex\"></a>"
   ]
  },
  {
   "cell_type": "markdown",
   "metadata": {
    "pycharm": {
     "name": "#%% md\n"
    }
   },
   "source": [
    "## Density and flux plotting <a class=\"anchor\" id=\"nove_2d_hex_densfluxplot\"></a>"
   ]
  },
  {
   "cell_type": "code",
   "execution_count": null,
   "metadata": {
    "pycharm": {
     "name": "#%%\n"
    },
    "scrolled": false
   },
   "outputs": [],
   "source": [
    "%matplotlib inline\n",
    "nodes = np.zeros((8, 8, 7))\n",
    "nodes[0, 1, 0] = 1  # particle moving right\n",
    "nodes[0, 0, 1] = 2  # particle moving to the upper right\n",
    "nodes[1, 0, 2] = 3  # particle moving to the upper left\n",
    "nodes[2, 1, 3] = 4  # particle moving left\n",
    "nodes[1, 2, 4] = 5  # particle moving to the lower left\n",
    "nodes[0, 2, 5] = 6  # particle moving to the lower right\n",
    "nodes[1, 1, 6] = 7  # particle resting\n",
    "lgca=get_lgca(geometry='hex', ve=False, dims=(10,10), nodes=nodes, interaction='only_propagation')\n",
    "lgca.plot_density(figsize=(4,4))\n",
    "plt.show()\n",
    "lgca.plot_flux(figsize=(4,4))\n",
    "plt.show()"
   ]
  },
  {
   "cell_type": "markdown",
   "metadata": {
    "pycharm": {
     "name": "#%% md\n"
    }
   },
   "source": [
    "## Density and flux animations <a class=\"anchor\" id=\"nove_2d_hex_densfluxani\"></a>"
   ]
  },
  {
   "cell_type": "code",
   "execution_count": null,
   "metadata": {
    "pycharm": {
     "name": "#%%\n"
    },
    "scrolled": false
   },
   "outputs": [],
   "source": [
    "%matplotlib notebook\n",
    "nodes = np.zeros((8, 8, 7))\n",
    "nodes[0, 1, 0] = 1  # particle moving right\n",
    "nodes[0, 0, 1] = 2  # particle moving to the upper right\n",
    "nodes[1, 0, 2] = 3  # particle moving to the upper left\n",
    "nodes[2, 1, 3] = 4  # particle moving left\n",
    "nodes[1, 2, 4] = 5  # particle moving to the lower left\n",
    "nodes[0, 2, 5] = 6  # particle moving to the lower right\n",
    "nodes[1, 1, 6] = 7  # particle resting\n",
    "lgca=get_lgca(geometry='hex', ve=False, dims=(10,10), nodes=nodes, interaction='only_propagation')\n",
    "lgca.timeevo(timesteps=40, record=True, showprogress=False)\n",
    "lgca.animate_density(figsize=(4,4), interval=500)"
   ]
  },
  {
   "cell_type": "code",
   "execution_count": null,
   "metadata": {
    "pycharm": {
     "name": "#%%\n"
    }
   },
   "outputs": [],
   "source": [
    "%matplotlib notebook\n",
    "lgca.animate_flux(figsize=(4,4), interval=500)"
   ]
  },
  {
   "cell_type": "code",
   "execution_count": null,
   "metadata": {
    "pycharm": {
     "name": "#%%\n"
    }
   },
   "outputs": [],
   "source": [
    "%matplotlib notebook\n",
    "nodes = np.zeros((8, 8, 7))\n",
    "nodes[0, 1, 0] = 1  # particle moving right\n",
    "nodes[0, 0, 1] = 2  # particle moving to the upper right\n",
    "nodes[1, 0, 2] = 3  # particle moving to the upper left\n",
    "nodes[2, 1, 3] = 4  # particle moving left\n",
    "nodes[1, 2, 4] = 5  # particle moving to the lower left\n",
    "nodes[0, 2, 5] = 6  # particle moving to the lower right\n",
    "nodes[1, 1, 6] = 7  # particle resting\n",
    "lgca=get_lgca(geometry='hex', ve=False, dims=(10,10), nodes=nodes, interaction='only_propagation')\n",
    "lgca.live_animate_density(figsize=(4,4), interval=1000)"
   ]
  },
  {
   "cell_type": "code",
   "execution_count": null,
   "metadata": {
    "pycharm": {
     "name": "#%%\n"
    }
   },
   "outputs": [],
   "source": [
    "%matplotlib notebook\n",
    "lgca.live_animate_flux(figsize=(4,4), interval=1000)"
   ]
  },
  {
   "cell_type": "code",
   "execution_count": null,
   "metadata": {
    "pycharm": {
     "name": "#%%\n"
    }
   },
   "outputs": [],
   "source": []
  }
 ],
 "metadata": {
  "kernelspec": {
   "display_name": "Python 3 (ipykernel)",
   "language": "python",
   "name": "python3"
  },
  "language_info": {
   "codemirror_mode": {
    "name": "ipython",
    "version": 3
   },
   "file_extension": ".py",
   "mimetype": "text/x-python",
   "name": "python",
   "nbconvert_exporter": "python",
   "pygments_lexer": "ipython3",
   "version": "3.8.13"
  }
 },
 "nbformat": 4,
 "nbformat_minor": 4
}