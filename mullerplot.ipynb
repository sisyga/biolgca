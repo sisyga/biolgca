{
 "cells": [
  {
   "cell_type": "code",
   "execution_count": 7,
   "metadata": {},
   "outputs": [
    {
     "name": "stdout",
     "output_type": "stream",
     "text": [
      "death rate set to r_d =  0.02\n",
      "standard deviation set to =  0.1\n"
     ]
    }
   ],
   "source": [
    "from lgca import get_lgca\n",
    "from lgca.helpers import *\n",
    "import numpy as np\n",
    "import matplotlib.pyplot as plt\n",
    "\n",
    "timesteps = 300\n",
    "dim = 10\n",
    "dens =  0.4\n",
    "birthrate = 1\n",
    "lgca= get_lgca(ib=True, geometry='lin', interaction='inheritance',\\\n",
    "               density = dens, dims = dim, r_b = birthrate, variation = False)"
   ]
  },
  {
   "cell_type": "code",
   "execution_count": 8,
   "metadata": {},
   "outputs": [
    {
     "name": "stdout",
     "output_type": "stream",
     "text": [
      "Progress: [####################] 100% Done...\n"
     ]
    }
   ],
   "source": [
    "lgca.timeevo(timesteps, record=True)\n",
    "# lgca.mullerplot()\n",
    "%matplotlib notebook"
   ]
  },
  {
   "cell_type": "code",
   "execution_count": 9,
   "metadata": {},
   "outputs": [
    {
     "name": "stdout",
     "output_type": "stream",
     "text": [
      "---genealogical research---\n",
      "number of ancestors:  10\n",
      "genealogical tree: [0, 0, 0, 1, 9, 0, 0, 1, 9, 0]\n",
      "max family number is 9 with ancestor cell 5\n",
      "number of ancestors at beginning: 10\n",
      "number of living offsprings: 20\n",
      "number of died cells:  110\n",
      "number of born cells:  120\n"
     ]
    },
    {
     "data": {
      "text/plain": [
       "9"
      ]
     },
     "execution_count": 9,
     "metadata": {},
     "output_type": "execute_result"
    }
   ],
   "source": [
    "count_fam(lgca)\n"
   ]
  }
 ],
 "metadata": {
  "kernelspec": {
   "display_name": "Python 3",
   "language": "python",
   "name": "python3"
  },
  "language_info": {
   "codemirror_mode": {
    "name": "ipython",
    "version": 3
   },
   "file_extension": ".py",
   "mimetype": "text/x-python",
   "name": "python",
   "nbconvert_exporter": "python",
   "pygments_lexer": "ipython3",
   "version": "3.7.3"
  }
 },
 "nbformat": 4,
 "nbformat_minor": 2
}
