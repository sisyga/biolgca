{
 "cells": [
  {
   "cell_type": "code",
   "execution_count": 1,
   "outputs": [],
   "source": [
    "import numpy as np"
   ],
   "metadata": {
    "collapsed": false,
    "ExecuteTime": {
     "end_time": "2023-08-18T13:53:37.663464400Z",
     "start_time": "2023-08-18T13:53:37.427163700Z"
    }
   },
   "id": "110a527063b8332b"
  },
  {
   "cell_type": "code",
   "execution_count": 30,
   "id": "initial_id",
   "metadata": {
    "collapsed": true,
    "ExecuteTime": {
     "end_time": "2023-08-18T14:45:32.874316100Z",
     "start_time": "2023-08-18T14:45:32.867618800Z"
    }
   },
   "outputs": [],
   "source": [
    "import sympy as sp\n",
    "\n",
    "# Define the variables and parameters\n",
    "a, a0, t, delta, K, p_d, s_d, s_p, p_p, D = sp.symbols('a a0 t delta K p_d s_d s_p p_p D')\n",
    "\n",
    "# Given differential equation\n",
    "# da_dt = delta/a * (K * (1 - delta/a) * p_d * s_d**2 - s_p * p_p * a)  # full equation\n",
    "da_dt = -s_p * p_p * delta  # neglecting drivers\n",
    "da_dt = da_dt.simplify()\n",
    "# Separate variables\n",
    "lhs = sp.integrate(1/da_dt, a).simplify()\n",
    "rhs = sp.integrate(1, t)\n",
    "\n"
   ]
  },
  {
   "cell_type": "code",
   "execution_count": 31,
   "outputs": [],
   "source": [
    "# condition for t_rescue\n",
    "a = a0 - delta * p_p * s_p * t\n",
    "condition = K * (a - delta)/ (a**2) * (1 + 2 * sp.sqrt((a - delta) * D) * t) - p_p * s_p / p_d / s_d**2"
   ],
   "metadata": {
    "collapsed": false,
    "ExecuteTime": {
     "end_time": "2023-08-18T14:45:51.494976Z",
     "start_time": "2023-08-18T14:45:51.483199700Z"
    }
   },
   "id": "b0f494af486f1ce8"
  },
  {
   "cell_type": "code",
   "execution_count": 37,
   "outputs": [],
   "source": [
    "# solve 'condition' for t numerically\n",
    "t_rescue = sp.solve(condition, t)"
   ],
   "metadata": {
    "collapsed": false,
    "ExecuteTime": {
     "end_time": "2023-08-18T14:47:16.594857700Z",
     "start_time": "2023-08-18T14:47:15.964821Z"
    }
   },
   "id": "b64c344ee3567dfe"
  },
  {
   "cell_type": "code",
   "execution_count": 13,
   "outputs": [],
   "source": [
    "# Define the initial condition\n",
    "a0 = sp.symbols('a0')\n",
    "C = sp.symbols('C')\n",
    "\n",
    "# Substitute t=0 and a=a0 into the equation to solve for C\n",
    "initial_eq = lhs.subs(a, a0) - rhs.subs(t, 0) - C\n",
    "C_value = sp.solve(initial_eq, C)[0]\n",
    "\n",
    "# Substitute the value of C back into the equation\n",
    "time_expression = lhs - rhs - C_value\n",
    "\n",
    "# Solve for t when a = delta\n",
    "time_solution = sp.solve(time_expression.subs(a, delta), t)"
   ],
   "metadata": {
    "collapsed": false,
    "ExecuteTime": {
     "end_time": "2023-08-18T13:57:12.248006400Z",
     "start_time": "2023-08-18T13:57:12.197789700Z"
    }
   },
   "id": "88f16c1ba715ee9"
  },
  {
   "cell_type": "code",
   "execution_count": 16,
   "outputs": [
    {
     "data": {
      "text/plain": "(a0 - delta)/(delta*p_p*s_p)",
      "text/latex": "$\\displaystyle \\frac{a_{0} - \\delta}{\\delta p_{p} s_{p}}$"
     },
     "execution_count": 16,
     "metadata": {},
     "output_type": "execute_result"
    }
   ],
   "source": [
    "time_solution[0].simplify()"
   ],
   "metadata": {
    "collapsed": false,
    "ExecuteTime": {
     "end_time": "2023-08-18T13:57:56.109136800Z",
     "start_time": "2023-08-18T13:57:56.104806Z"
    }
   },
   "id": "bebb35d6f3178885"
  },
  {
   "cell_type": "code",
   "execution_count": 17,
   "outputs": [],
   "source": [
    "def calc_timescale(a0, delta, p_p, s_p):\n",
    "    return (a0 - delta) / (p_p * s_p * delta)"
   ],
   "metadata": {
    "collapsed": false,
    "ExecuteTime": {
     "end_time": "2023-08-18T13:58:36.357802Z",
     "start_time": "2023-08-18T13:58:36.345484100Z"
    }
   },
   "id": "4f4cc6e9f73e548a"
  },
  {
   "cell_type": "code",
   "execution_count": 53,
   "outputs": [
    {
     "data": {
      "text/plain": "235.854919754841",
      "text/latex": "$\\displaystyle 235.854919754841$"
     },
     "execution_count": 53,
     "metadata": {},
     "output_type": "execute_result"
    }
   ],
   "source": [
    "# Given parameter values\n",
    "a0 = 0.5\n",
    "delta = 0.375\n",
    "K = 179\n",
    "p_p = 0.05\n",
    "s_p = 0.0005\n",
    "s_d = 0.1\n",
    "p_d = 7e-6\n",
    "# D = 1/3\n",
    "D = 1 / (2 + np.exp(8))\n",
    "# Equation definitions\n",
    "a = a0 - delta * p_p * s_p * t\n",
    "condition = K * (a - delta) / (a**2) * (1 + 2 * sp.sqrt((a - delta) * D) * t) - p_p * s_p / p_d / s_d**2\n",
    "\n",
    "# Numerically solving the equation\n",
    "t_rescue_numerical = sp.nsolve(condition, t, 0)\n",
    "t_rescue_numerical"
   ],
   "metadata": {
    "collapsed": false,
    "ExecuteTime": {
     "end_time": "2023-08-18T15:10:21.566970900Z",
     "start_time": "2023-08-18T15:10:21.548071900Z"
    }
   },
   "id": "28596edc457ba51a"
  },
  {
   "cell_type": "code",
   "execution_count": 54,
   "outputs": [
    {
     "data": {
      "text/plain": "-357.142857142857 + 4.0*(22.375 - 0.001678125*t)*(0.0129467700307299*t*sqrt(1 - 7.5e-5*t) + 1)/(1 - 1.875e-5*t)**2",
      "text/latex": "$\\displaystyle -357.142857142857 + \\frac{4.0 \\cdot \\left(22.375 - 0.001678125 t\\right) \\left(0.0129467700307299 t \\sqrt{1 - 7.5 \\cdot 10^{-5} t} + 1\\right)}{\\left(1 - 1.875 \\cdot 10^{-5} t\\right)^{2}}$"
     },
     "execution_count": 54,
     "metadata": {},
     "output_type": "execute_result"
    }
   ],
   "source": [
    "condition"
   ],
   "metadata": {
    "collapsed": false,
    "ExecuteTime": {
     "end_time": "2023-08-18T15:10:22.548087200Z",
     "start_time": "2023-08-18T15:10:22.538208300Z"
    }
   },
   "id": "1e8f9d82520966b0"
  },
  {
   "cell_type": "code",
   "execution_count": 55,
   "outputs": [
    {
     "data": {
      "text/plain": "13333.333333333332"
     },
     "execution_count": 55,
     "metadata": {},
     "output_type": "execute_result"
    }
   ],
   "source": [
    "calc_timescale(a0, delta, p_p, s_p)"
   ],
   "metadata": {
    "collapsed": false,
    "ExecuteTime": {
     "end_time": "2023-08-18T15:19:41.595843100Z",
     "start_time": "2023-08-18T15:19:41.555549200Z"
    }
   },
   "id": "6ccb8c05c34df7e4"
  }
 ],
 "metadata": {
  "kernelspec": {
   "display_name": "Python 3",
   "language": "python",
   "name": "python3"
  },
  "language_info": {
   "codemirror_mode": {
    "name": "ipython",
    "version": 2
   },
   "file_extension": ".py",
   "mimetype": "text/x-python",
   "name": "python",
   "nbconvert_exporter": "python",
   "pygments_lexer": "ipython2",
   "version": "2.7.6"
  }
 },
 "nbformat": 4,
 "nbformat_minor": 5
}
