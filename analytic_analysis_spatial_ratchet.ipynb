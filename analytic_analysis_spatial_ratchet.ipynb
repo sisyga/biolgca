{
 "cells": [
  {
   "cell_type": "code",
   "execution_count": 13,
   "outputs": [],
   "source": [
    "import numpy as np"
   ],
   "metadata": {
    "collapsed": false,
    "ExecuteTime": {
     "end_time": "2023-08-16T14:34:51.382261700Z",
     "start_time": "2023-08-16T14:34:51.132824200Z"
    }
   },
   "id": "110a527063b8332b"
  },
  {
   "cell_type": "code",
   "execution_count": 2,
   "id": "initial_id",
   "metadata": {
    "collapsed": true,
    "ExecuteTime": {
     "end_time": "2023-08-16T14:26:26.916002600Z",
     "start_time": "2023-08-16T14:26:24.356755300Z"
    }
   },
   "outputs": [],
   "source": [
    "import sympy as sp\n",
    "\n",
    "# Define the variables and parameters\n",
    "a, t, delta, K, p_d, s_d, s_p, p_p = sp.symbols('a t delta K p_d s_d s_p p_p')\n",
    "\n",
    "# Given differential equation\n",
    "da_dt = delta/a * (K * (1 - delta/a) * p_d * s_d**2 - s_p * p_p * a)\n",
    "\n",
    "# Separate variables\n",
    "lhs = sp.integrate(1/da_dt, a).simplify()\n",
    "rhs = sp.integrate(1, t)\n",
    "\n"
   ]
  },
  {
   "cell_type": "code",
   "execution_count": 7,
   "outputs": [
    {
     "ename": "AttributeError",
     "evalue": "'list' object has no attribute 'simplify'",
     "output_type": "error",
     "traceback": [
      "\u001B[1;31m---------------------------------------------------------------------------\u001B[0m",
      "\u001B[1;31mAttributeError\u001B[0m                            Traceback (most recent call last)",
      "Cell \u001B[1;32mIn[7], line 13\u001B[0m\n\u001B[0;32m     10\u001B[0m time_expression \u001B[38;5;241m=\u001B[39m lhs \u001B[38;5;241m-\u001B[39m rhs \u001B[38;5;241m-\u001B[39m C_value\n\u001B[0;32m     12\u001B[0m \u001B[38;5;66;03m# Solve for t when a = delta\u001B[39;00m\n\u001B[1;32m---> 13\u001B[0m time_solution \u001B[38;5;241m=\u001B[39m sp\u001B[38;5;241m.\u001B[39msolve(time_expression\u001B[38;5;241m.\u001B[39msubs(a, delta), t)\u001B[38;5;241m.\u001B[39msimplify()\n",
      "\u001B[1;31mAttributeError\u001B[0m: 'list' object has no attribute 'simplify'"
     ]
    }
   ],
   "source": [
    "# Define the initial condition\n",
    "a0 = sp.symbols('a0')\n",
    "C = sp.symbols('C')\n",
    "\n",
    "# Substitute t=0 and a=a0 into the equation to solve for C\n",
    "initial_eq = lhs.subs(a, a0) - rhs.subs(t, 0) - C\n",
    "C_value = sp.solve(initial_eq, C)[0]\n",
    "\n",
    "# Substitute the value of C back into the equation\n",
    "time_expression = lhs - rhs - C_value\n",
    "\n",
    "# Solve for t when a = delta\n",
    "time_solution = sp.solve(time_expression.subs(a, delta), t)"
   ],
   "metadata": {
    "collapsed": false,
    "ExecuteTime": {
     "end_time": "2023-08-16T14:27:29.673641100Z",
     "start_time": "2023-08-16T14:27:24.773793400Z"
    }
   },
   "id": "88f16c1ba715ee9"
  },
  {
   "cell_type": "code",
   "execution_count": 12,
   "outputs": [],
   "source": [
    "def time_to_reach_delta(a0_val, delta_val, K_val, p_d_val, s_d_val, s_p_val, p_p_val):\n",
    "    # Substitute in the given values into the derived expression\n",
    "    t_val = time_solution[0].subs({\n",
    "        a0: a0_val,\n",
    "        delta: delta_val,\n",
    "        K: K_val,\n",
    "        p_d: p_d_val,\n",
    "        s_d: s_d_val,\n",
    "        s_p: s_p_val,\n",
    "        p_p: p_p_val\n",
    "    })\n",
    "    return t_val"
   ],
   "metadata": {
    "collapsed": false,
    "ExecuteTime": {
     "end_time": "2023-08-16T14:30:53.394793500Z",
     "start_time": "2023-08-16T14:30:53.394280900Z"
    }
   },
   "id": "28596edc457ba51a"
  },
  {
   "cell_type": "code",
   "execution_count": 19,
   "outputs": [
    {
     "data": {
      "text/plain": "13539.7528572951 + 2.27373675443232e-13*I",
      "text/latex": "$\\displaystyle 13539.7528572951 + 2.27373675443232 \\cdot 10^{-13} i$"
     },
     "execution_count": 19,
     "metadata": {},
     "output_type": "execute_result"
    }
   ],
   "source": [
    "time_to_reach_delta(0.5, 0.375, 18.,\n",
    " 7e-06,\n",
    " 0.1,\n",
    " 0.0005,\n",
    " 0.05).simplify().evalf()"
   ],
   "metadata": {
    "collapsed": false,
    "ExecuteTime": {
     "end_time": "2023-08-16T14:37:57.309132700Z",
     "start_time": "2023-08-16T14:37:57.274998700Z"
    }
   },
   "id": "1e8f9d82520966b0"
  }
 ],
 "metadata": {
  "kernelspec": {
   "display_name": "Python 3",
   "language": "python",
   "name": "python3"
  },
  "language_info": {
   "codemirror_mode": {
    "name": "ipython",
    "version": 2
   },
   "file_extension": ".py",
   "mimetype": "text/x-python",
   "name": "python",
   "nbconvert_exporter": "python",
   "pygments_lexer": "ipython2",
   "version": "2.7.6"
  }
 },
 "nbformat": 4,
 "nbformat_minor": 5
}
