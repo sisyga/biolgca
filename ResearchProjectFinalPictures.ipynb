{
 "cells": [
  {
   "cell_type": "markdown",
   "metadata": {
    "toc": true
   },
   "source": [
    "<h1>Table of Contents<span class=\"tocSkip\"></span></h1>\n",
    "<div class=\"toc\"><ul class=\"toc-item\"><li><span><a href=\"#Importing-Libraries\" data-toc-modified-id=\"Importing-Libraries-1\"><span class=\"toc-item-num\">1&nbsp;&nbsp;</span>Importing Libraries</a></span></li><li><span><a href=\"#Function-to-plot-spatial-plots-of-density,-kappa-and-theta\" data-toc-modified-id=\"Function-to-plot-spatial-plots-of-density,-kappa-and-theta-2\"><span class=\"toc-item-num\">2&nbsp;&nbsp;</span>Function to plot spatial plots of density, kappa and theta</a></span></li><li><span><a href=\"#Function-to-plot-time-property\" data-toc-modified-id=\"Function-to-plot-time-property-3\"><span class=\"toc-item-num\">3&nbsp;&nbsp;</span>Function to plot time property</a></span></li><li><span><a href=\"#Functions-to-plot-scatter-plots,-nodenumber-plots\" data-toc-modified-id=\"Functions-to-plot-scatter-plots,-nodenumber-plots-4\"><span class=\"toc-item-num\">4&nbsp;&nbsp;</span>Functions to plot scatter plots, nodenumber plots</a></span></li><li><span><a href=\"#Functions-to-plot-Spatial-Plots\" data-toc-modified-id=\"Functions-to-plot-Spatial-Plots-5\"><span class=\"toc-item-num\">5&nbsp;&nbsp;</span>Functions to plot Spatial Plots</a></span></li><li><span><a href=\"#Density-Plots\" data-toc-modified-id=\"Density-Plots-6\"><span class=\"toc-item-num\">6&nbsp;&nbsp;</span>Density Plots</a></span></li><li><span><a href=\"#Spatial-Property-Plots\" data-toc-modified-id=\"Spatial-Property-Plots-7\"><span class=\"toc-item-num\">7&nbsp;&nbsp;</span>Spatial Property Plots</a></span><ul class=\"toc-item\"><li><span><a href=\"#Final-Plot\" data-toc-modified-id=\"Final-Plot-7.1\"><span class=\"toc-item-num\">7.1&nbsp;&nbsp;</span>Final Plot</a></span></li><li><span><a href=\"#Last-few-times\" data-toc-modified-id=\"Last-few-times-7.2\"><span class=\"toc-item-num\">7.2&nbsp;&nbsp;</span>Last few times</a></span></li><li><span><a href=\"#Staggered-Plots\" data-toc-modified-id=\"Staggered-Plots-7.3\"><span class=\"toc-item-num\">7.3&nbsp;&nbsp;</span>Staggered Plots</a></span></li></ul></li><li><span><a href=\"#Single-Run-Property-Plots\" data-toc-modified-id=\"Single-Run-Property-Plots-8\"><span class=\"toc-item-num\">8&nbsp;&nbsp;</span>Single Run Property Plots</a></span></li><li><span><a href=\"#Scatter-Plots\" data-toc-modified-id=\"Scatter-Plots-9\"><span class=\"toc-item-num\">9&nbsp;&nbsp;</span>Scatter Plots</a></span></li><li><span><a href=\"#Mean-Kappa-Theta-plots-for-all-runs\" data-toc-modified-id=\"Mean-Kappa-Theta-plots-for-all-runs-10\"><span class=\"toc-item-num\">10&nbsp;&nbsp;</span>Mean Kappa Theta plots for all runs</a></span></li><li><span><a href=\"#Node-Number-Plots\" data-toc-modified-id=\"Node-Number-Plots-11\"><span class=\"toc-item-num\">11&nbsp;&nbsp;</span>Node Number Plots</a></span></li><li><span><a href=\"#Plot-Velocity-Cells-Fraction\" data-toc-modified-id=\"Plot-Velocity-Cells-Fraction-12\"><span class=\"toc-item-num\">12&nbsp;&nbsp;</span>Plot Velocity Cells Fraction</a></span></li></ul></div>"
   ]
  },
  {
   "cell_type": "markdown",
   "metadata": {},
   "source": [
    "This file is used to visualise all the plots that have been generated in a userfriendly format(hopefully)"
   ]
  },
  {
   "cell_type": "markdown",
   "metadata": {},
   "source": [
    "# Importing Libraries"
   ]
  },
  {
   "cell_type": "code",
   "execution_count": 25,
   "metadata": {
    "ExecuteTime": {
     "end_time": "2020-11-06T06:32:47.221772Z",
     "start_time": "2020-11-06T06:32:47.201354Z"
    },
    "cell_style": "center",
    "slideshow": {
     "slide_type": "slide"
    }
   },
   "outputs": [],
   "source": [
    "from IPython.display import Image, display, HTML, Video\n",
    "import numpy as np\n",
    "import matplotlib.pyplot as plt\n",
    "import matplotlib.image as mpimg\n",
    "from matplotlib import rcParams\n",
    "import ipywidgets as widget\n",
    "from glob import glob\n",
    "from jupyterthemes import jtplot\n",
    "\n",
    "jtplot.style(theme='chesterish', context='talk', fscale=1.4, spines=False, gridlines='--')\n",
    "#jtplot.style(context='poster', fscale=1.4, spines=False, gridlines='--')\n",
    "#jtplot.style(context='notebook', fscale=1.4, spines=False, gridlines='--')\n",
    "#jtplot.style(context='paper', fscale=1.4, spines=False, gridlines='--')\n",
    "\n",
    "#strID=['0030','0030b','0031','0031b','0032','0032b','0033','0033b','0034','0034b','0035','0035b','0036','0036b','0037','0037b','0038','0038b']\n",
    "%matplotlib inline"
   ]
  },
  {
   "cell_type": "markdown",
   "metadata": {},
   "source": []
  },
  {
   "cell_type": "code",
   "execution_count": 26,
   "metadata": {
    "ExecuteTime": {
     "end_time": "2020-11-06T06:32:47.634943Z",
     "start_time": "2020-11-06T06:32:47.625805Z"
    },
    "slideshow": {
     "slide_type": "fragment"
    }
   },
   "outputs": [],
   "source": [
    "strID = '0001'\n",
    "\n",
    "directory = 'output/Evolution Attempt 2 ' + strID + '/'\n",
    "runs = 10\n",
    "\n",
    "\n",
    "run_dir = {}\n",
    "for run in range(runs):\n",
    "    run_dir_key =  str(run+1)\n",
    "    run_dir_val = directory + 'Run ' + str(run+1)\n",
    "    run_dir[run_dir_key] = run_dir_val\n"
   ]
  },
  {
   "cell_type": "markdown",
   "metadata": {},
   "source": [
    "# Function to plot spatial plots of density, kappa and theta"
   ]
  },
  {
   "cell_type": "code",
   "execution_count": 27,
   "metadata": {
    "ExecuteTime": {
     "end_time": "2020-11-06T06:32:47.984243Z",
     "start_time": "2020-11-06T06:32:47.961688Z"
    }
   },
   "outputs": [],
   "source": [
    "def plot_dens_mix(run, channel, propName, strID = '0001'):\n",
    "    \n",
    "    directory = 'output/Evolution Attempt 2 ' + strID + '/Run ' + str(run)\n",
    "    \n",
    "    if propName == 'density':\n",
    "        if channel == 0:\n",
    "            display(Image(filename=directory + '/' + strID + 'density.jpg'))\n",
    "            plt.show()\n",
    "        elif channel == 1:\n",
    "            display(Image(filename=directory + '/' + strID + 'densityRest.jpg'))\n",
    "            plt.show()\n",
    "        elif channel == 2:\n",
    "            display(Image(filename=directory +'/' + strID + 'densityVelocity.jpg'))\n",
    "            plt.show()\n",
    "    if propName == 'kappa':\n",
    "        if channel == 0:\n",
    "            display(Image(filename=directory + '/' + strID + 'kappaSpatial.jpg'))\n",
    "            plt.show()\n",
    "        elif channel == 1:\n",
    "            display(Image(filename=directory + '/' + strID + 'kappaSpatialRest.jpg'))\n",
    "            plt.show()\n",
    "        elif channel == 2:\n",
    "            display(Image(filename=directory + '/' + strID + 'kappaSpatialVelocity.jpg'))\n",
    "            plt.show()\n",
    "    if propName == 'theta':\n",
    "        if channel == 0:\n",
    "            display(Image(filename=directory + '/' + strID + 'thetaSpatial.jpg'))\n",
    "            plt.show()\n",
    "        elif channel == 1:\n",
    "            display(Image(filename=directory + '/' + strID + 'thetaSpatialRest.jpg'))\n",
    "            plt.show()\n",
    "        elif channel == 2:\n",
    "            display(Image(filename=directory + '/' + strID + 'thetaSpatialVelocity.jpg'))\n",
    "            plt.show()\n",
    "    "
   ]
  },
  {
   "cell_type": "markdown",
   "metadata": {},
   "source": [
    "# Function to plot time property"
   ]
  },
  {
   "cell_type": "code",
   "execution_count": 28,
   "metadata": {
    "ExecuteTime": {
     "end_time": "2020-11-06T06:32:48.314558Z",
     "start_time": "2020-11-06T06:32:48.303217Z"
    }
   },
   "outputs": [],
   "source": [
    "def plot_prop_time(propName, run, strID='0001'):\n",
    "    directory = 'output/Evolution Attempt 2 ' + strID + '/Run ' + str(run)\n",
    "    if propName == 'kappa':\n",
    "        display(Image(filename=directory + '/' + strID + 'meankappavariation.jpg'))\n",
    "    elif propName == 'theta':\n",
    "        display(Image(filename=directory + '/' + strID + 'meanthetavariation.jpg'))"
   ]
  },
  {
   "cell_type": "code",
   "execution_count": 29,
   "metadata": {
    "ExecuteTime": {
     "end_time": "2020-11-06T06:32:48.682848Z",
     "start_time": "2020-11-06T06:32:48.453564Z"
    }
   },
   "outputs": [],
   "source": [
    "def prop_video(propName = 'kappa', strID='0001'):\n",
    "    directory = 'output/Evolution Attempt 2 ' + strID + '/Pictures/ '\n",
    "    if propName == 'kappa and theta':\n",
    "        display(HTML(\"\"\"\n",
    "<video width=\"320\" height=\"240\" controls>\n",
    "  <source src=directory + \"kappa_theta_hist/test.mp4\" type=\"video/mp4\">\n",
    "</video>\n",
    "\"\"\"))\n",
    "        #display(Video(directory + 'kappa_theta_hist/test.mp4', embed=True))\n",
    "    if propName == 'kappa':\n",
    "        display(Video(directory + 'kappas_time_hist/test.mp4', embed=True))\n",
    "    elif propName == 'theta':\n",
    "        display(Video(directory + 'thetas_time_hist/test.mp4', embed=True))\n",
    "    elif propName == 'nodes':\n",
    "        display(Video(directory + 'nodes_time_hist/test.mp4', embed=True))\n",
    "        "
   ]
  },
  {
   "cell_type": "markdown",
   "metadata": {},
   "source": [
    "# Functions to plot scatter plots, nodenumber plots "
   ]
  },
  {
   "cell_type": "code",
   "execution_count": 30,
   "metadata": {
    "ExecuteTime": {
     "end_time": "2020-11-06T06:32:49.495576Z",
     "start_time": "2020-11-06T06:32:48.787251Z"
    }
   },
   "outputs": [],
   "source": [
    "def plot_kt_scatter(strID='0030',time=0):\n",
    "    file = 'output/Evolution Attempt 2 ' + strID + '/Pictures/Mean_kt_scatter/' + str(time) + '.jpg'\n",
    "    display(Image(filename=file))\n",
    "def plot_mean_kappa(strID='0030'):\n",
    "    file = 'output/Evolution Attempt 2 ' + strID + '/Pictures/mean_kappa.jpg'\n",
    "    display(Image(filename=file))\n",
    "def plot_mean_theta(strID='0030'):\n",
    "    file = 'output/Evolution Attempt 2 ' + strID + '/Pictures/mean_theta.jpg'\n",
    "    display(Image(filename=file))\n",
    "def plot_mean_kappa_vel(strID='0030'):\n",
    "    file = 'output/Evolution Attempt 2 ' + strID + '/Pictures/mean_kappa_vel.jpg'\n",
    "    display(Image(filename=file))\n",
    "def plot_mean_theta_vel(strID='0030'):\n",
    "    file = 'output/Evolution Attempt 2 ' + strID + '/Pictures/mean_theta_vel.jpg'\n",
    "    display(Image(filename=file))\n",
    "def plot_mean_kappa_rest(strID='0030'):\n",
    "    file = 'output/Evolution Attempt 2 ' + strID + '/Pictures/mean_kappa_rest.jpg'\n",
    "    display(Image(filename=file))\n",
    "def plot_mean_theta_rest(strID='0030'):\n",
    "    file = 'output/Evolution Attempt 2 ' + strID + '/Pictures/mean_theta_rest.jpg'\n",
    "    display(Image(filename=file))\n",
    "def node_numbers_plot(strID='0030'):\n",
    "    file = 'output/Evolution Attempt 2 ' + strID + '/Pictures/node_numbers.jpg'\n",
    "    display(Image(filename=file))\n",
    "def node_numbers_vel_plot(strID='0030'):\n",
    "    file = 'output/Evolution Attempt 2 ' + strID + '/Pictures/node_numbers_vel.jpg'\n",
    "    display(Image(filename=file))\n",
    "def node_numbers_rest_plot(strID='0030'):\n",
    "    file = 'output/Evolution Attempt 2 ' + strID + '/Pictures/node_numbers_rest.jpg'\n",
    "    display(Image(filename=file))\n",
    "def node_numbers_fraction_plot(strID='0030'):\n",
    "    file = 'output/Evolution Attempt 2 ' + strID + '/Pictures/fraction of velocity nodes.jpg'\n",
    "    display(Image(filename=file))   "
   ]
  },
  {
   "cell_type": "markdown",
   "metadata": {},
   "source": [
    "# Functions to plot Spatial Plots"
   ]
  },
  {
   "cell_type": "code",
   "execution_count": 31,
   "metadata": {
    "ExecuteTime": {
     "end_time": "2020-11-06T06:32:49.576342Z",
     "start_time": "2020-11-06T06:32:49.513904Z"
    }
   },
   "outputs": [],
   "source": [
    "def plot_spatial_prop_final(run, strID = '0030s'):\n",
    "    directory = 'output/Evolution Attempt 2 ' + strID + '/Run ' + str(run)+ '/' + strID + 'Spatial Distribution.png'\n",
    "    display(Image(filename=directory))\n",
    "    \n",
    "def plot_spatial_prop_end(run, strID = '0030s', time=5900):\n",
    "    directory = 'output/Evolution Attempt 2 ' + strID + '/Run ' + str(run)+ '/endPlots/' + 'Spatial Distribution %s.png'%str(time)\n",
    "    display(Image(filename=directory))\n",
    "    \n",
    "def plot_spatial_prop_staggered(run, strID = '0030s', time=0):\n",
    "    directory = 'output/Evolution Attempt 2 ' + strID + '/Run ' + str(run)+ '/staggeredPlots/' + 'Spatial Distribution %s.png'%str(time)\n",
    "    display(Image(filename=directory))\n",
    "    "
   ]
  },
  {
   "cell_type": "markdown",
   "metadata": {},
   "source": [
    "# Density Plots "
   ]
  },
  {
   "cell_type": "code",
   "execution_count": 32,
   "metadata": {
    "ExecuteTime": {
     "end_time": "2020-11-06T06:32:49.692037Z",
     "start_time": "2020-11-06T06:32:49.586584Z"
    },
    "cell_style": "split",
    "scrolled": false,
    "slideshow": {
     "slide_type": "slide"
    }
   },
   "outputs": [
    {
     "data": {
      "application/vnd.jupyter.widget-view+json": {
       "model_id": "1b2b9578954e4299acdf9426ca5d920d",
       "version_major": 2,
       "version_minor": 0
      },
      "text/plain": [
       "interactive(children=(IntSlider(value=10, description='run', max=20, min=1), IntSlider(value=1, description='c…"
      ]
     },
     "metadata": {},
     "output_type": "display_data"
    },
    {
     "data": {
      "text/plain": [
       "<function __main__.plot_dens_mix(run, channel, propName, strID='0001')>"
      ]
     },
     "execution_count": 32,
     "metadata": {},
     "output_type": "execute_result"
    }
   ],
   "source": [
    "widget.interact(plot_dens_mix, run=(1,20,1), channel=(0,2,1), propName=['density', 'kappa', 'theta'], strID='0001' )\n"
   ]
  },
  {
   "cell_type": "code",
   "execution_count": 33,
   "metadata": {
    "ExecuteTime": {
     "end_time": "2020-11-06T06:32:49.760712Z",
     "start_time": "2020-11-06T06:32:49.701789Z"
    },
    "cell_style": "split",
    "slideshow": {
     "slide_type": "slide"
    }
   },
   "outputs": [
    {
     "data": {
      "application/vnd.jupyter.widget-view+json": {
       "model_id": "a6c1e836b81e443fab1c14056e2fb5c0",
       "version_major": 2,
       "version_minor": 0
      },
      "text/plain": [
       "interactive(children=(IntSlider(value=5, description='run', max=10, min=1), IntSlider(value=1, description='ch…"
      ]
     },
     "metadata": {},
     "output_type": "display_data"
    },
    {
     "data": {
      "text/plain": [
       "<function __main__.plot_dens_mix(run, channel, propName, strID='0001')>"
      ]
     },
     "execution_count": 33,
     "metadata": {},
     "output_type": "execute_result"
    }
   ],
   "source": [
    "widget.interact(plot_dens_mix, run=(1,10,1), channel=(0,2,1), propName=['density', 'kappa', 'theta'], strID='0001' )\n"
   ]
  },
  {
   "cell_type": "markdown",
   "metadata": {
    "ExecuteTime": {
     "end_time": "2020-09-11T08:44:43.152333Z",
     "start_time": "2020-09-11T08:44:43.149843Z"
    }
   },
   "source": [
    "# Spatial Property Plots"
   ]
  },
  {
   "cell_type": "markdown",
   "metadata": {},
   "source": [
    "## Final Plot"
   ]
  },
  {
   "cell_type": "code",
   "execution_count": 34,
   "metadata": {
    "ExecuteTime": {
     "end_time": "2020-11-06T06:32:50.645719Z",
     "start_time": "2020-11-06T06:32:50.588099Z"
    }
   },
   "outputs": [
    {
     "data": {
      "application/vnd.jupyter.widget-view+json": {
       "model_id": "8dd5a071fee649f7990ca09b63cc2604",
       "version_major": 2,
       "version_minor": 0
      },
      "text/plain": [
       "interactive(children=(IntSlider(value=3, description='run', max=5, min=1), Text(value='0030s', description='st…"
      ]
     },
     "metadata": {},
     "output_type": "display_data"
    },
    {
     "data": {
      "text/plain": [
       "<function __main__.plot_spatial_prop_final(run, strID='0030s')>"
      ]
     },
     "execution_count": 34,
     "metadata": {},
     "output_type": "execute_result"
    }
   ],
   "source": [
    "widget.interact(plot_spatial_prop_final, run=(1,5,1), strID='0030s')"
   ]
  },
  {
   "cell_type": "markdown",
   "metadata": {},
   "source": [
    "## Last few times"
   ]
  },
  {
   "cell_type": "code",
   "execution_count": 35,
   "metadata": {
    "ExecuteTime": {
     "end_time": "2020-11-06T06:32:50.957873Z",
     "start_time": "2020-11-06T06:32:50.922986Z"
    }
   },
   "outputs": [
    {
     "data": {
      "application/vnd.jupyter.widget-view+json": {
       "model_id": "985c076374bb487ea099803c9246a312",
       "version_major": 2,
       "version_minor": 0
      },
      "text/plain": [
       "interactive(children=(IntSlider(value=3, description='run', max=5, min=1), Text(value='0030s', description='st…"
      ]
     },
     "metadata": {},
     "output_type": "display_data"
    },
    {
     "data": {
      "text/plain": [
       "<function __main__.plot_spatial_prop_end(run, strID='0030s', time=5900)>"
      ]
     },
     "execution_count": 35,
     "metadata": {},
     "output_type": "execute_result"
    }
   ],
   "source": [
    "widget.interact(plot_spatial_prop_end, run=(1,5,1), strID='0030s', time=(5900,6000,1))"
   ]
  },
  {
   "cell_type": "markdown",
   "metadata": {},
   "source": [
    "## Staggered Plots"
   ]
  },
  {
   "cell_type": "code",
   "execution_count": 36,
   "metadata": {
    "ExecuteTime": {
     "end_time": "2020-11-06T06:32:51.305188Z",
     "start_time": "2020-11-06T06:32:51.266531Z"
    }
   },
   "outputs": [
    {
     "data": {
      "application/vnd.jupyter.widget-view+json": {
       "model_id": "47e04595a2e54aa0a81e02cef9c8a460",
       "version_major": 2,
       "version_minor": 0
      },
      "text/plain": [
       "interactive(children=(IntSlider(value=3, description='run', max=5, min=1), Text(value='0030s', description='st…"
      ]
     },
     "metadata": {},
     "output_type": "display_data"
    },
    {
     "data": {
      "text/plain": [
       "<function __main__.plot_spatial_prop_staggered(run, strID='0030s', time=0)>"
      ]
     },
     "execution_count": 36,
     "metadata": {},
     "output_type": "execute_result"
    }
   ],
   "source": [
    "widget.interact(plot_spatial_prop_staggered, run=(1,5,1), strID='0030s', time=(0,6000,50))"
   ]
  },
  {
   "cell_type": "code",
   "execution_count": 37,
   "metadata": {
    "ExecuteTime": {
     "end_time": "2020-11-06T06:32:51.470537Z",
     "start_time": "2020-11-06T06:32:51.440092Z"
    }
   },
   "outputs": [
    {
     "data": {
      "application/vnd.jupyter.widget-view+json": {
       "model_id": "fc6efd7dd56e40c780b1f0ae3f057b99",
       "version_major": 2,
       "version_minor": 0
      },
      "text/plain": [
       "interactive(children=(IntSlider(value=3, description='run', max=5, min=1), Text(value='0030s', description='st…"
      ]
     },
     "metadata": {},
     "output_type": "display_data"
    },
    {
     "data": {
      "text/plain": [
       "<function __main__.plot_spatial_prop_staggered(run, strID='0030s', time=0)>"
      ]
     },
     "execution_count": 37,
     "metadata": {},
     "output_type": "execute_result"
    }
   ],
   "source": [
    "widget.interact(plot_spatial_prop_staggered, run=(1,5,1), strID='0030s', time=(0,6000,50))"
   ]
  },
  {
   "cell_type": "markdown",
   "metadata": {
    "ExecuteTime": {
     "end_time": "2020-08-17T08:46:00.177609Z",
     "start_time": "2020-08-17T08:46:00.174941Z"
    }
   },
   "source": [
    "# Single Run Property Plots"
   ]
  },
  {
   "cell_type": "code",
   "execution_count": 38,
   "metadata": {
    "ExecuteTime": {
     "end_time": "2020-11-06T06:32:51.866954Z",
     "start_time": "2020-11-06T06:32:51.820318Z"
    },
    "cell_style": "split",
    "slideshow": {
     "slide_type": "slide"
    }
   },
   "outputs": [
    {
     "data": {
      "application/vnd.jupyter.widget-view+json": {
       "model_id": "cb681a821c954b078f8580c61c59c204",
       "version_major": 2,
       "version_minor": 0
      },
      "text/plain": [
       "interactive(children=(Dropdown(description='propName', options=('kappa', 'theta'), value='kappa'), IntSlider(v…"
      ]
     },
     "metadata": {},
     "output_type": "display_data"
    },
    {
     "data": {
      "text/plain": [
       "<function __main__.plot_prop_time(propName, run, strID='0001')>"
      ]
     },
     "execution_count": 38,
     "metadata": {},
     "output_type": "execute_result"
    }
   ],
   "source": [
    "widget.interact(plot_prop_time, run=(1,10,1), propName=['kappa', 'theta'], strID='0001' )"
   ]
  },
  {
   "cell_type": "code",
   "execution_count": 39,
   "metadata": {
    "ExecuteTime": {
     "end_time": "2020-11-06T06:32:52.025126Z",
     "start_time": "2020-11-06T06:32:51.984379Z"
    },
    "cell_style": "split",
    "slideshow": {
     "slide_type": "slide"
    }
   },
   "outputs": [
    {
     "data": {
      "application/vnd.jupyter.widget-view+json": {
       "model_id": "d878f081e5094807bc7338482cfd9484",
       "version_major": 2,
       "version_minor": 0
      },
      "text/plain": [
       "interactive(children=(Dropdown(description='propName', options=('kappa', 'theta'), value='kappa'), IntSlider(v…"
      ]
     },
     "metadata": {},
     "output_type": "display_data"
    },
    {
     "data": {
      "text/plain": [
       "<function __main__.plot_prop_time(propName, run, strID='0001')>"
      ]
     },
     "execution_count": 39,
     "metadata": {},
     "output_type": "execute_result"
    }
   ],
   "source": [
    "widget.interact(plot_prop_time, run=(1,10,1), propName=['kappa', 'theta'], strID='0001' )"
   ]
  },
  {
   "cell_type": "markdown",
   "metadata": {
    "ExecuteTime": {
     "end_time": "2020-08-16T15:42:47.285057Z",
     "start_time": "2020-08-16T15:42:47.198462Z"
    }
   },
   "source": [
    " # Scatter Plots"
   ]
  },
  {
   "cell_type": "code",
   "execution_count": 40,
   "metadata": {
    "ExecuteTime": {
     "end_time": "2020-11-06T06:32:52.607348Z",
     "start_time": "2020-11-06T06:32:52.557124Z"
    }
   },
   "outputs": [
    {
     "data": {
      "application/vnd.jupyter.widget-view+json": {
       "model_id": "06d962d1b2e64b38831a45079b6605bf",
       "version_major": 2,
       "version_minor": 0
      },
      "text/plain": [
       "interactive(children=(Text(value='0030', description='strID'), IntSlider(value=0, description='time', max=6000…"
      ]
     },
     "metadata": {},
     "output_type": "display_data"
    },
    {
     "data": {
      "text/plain": [
       "<function __main__.plot_kt_scatter(strID='0030', time=0)>"
      ]
     },
     "execution_count": 40,
     "metadata": {},
     "output_type": "execute_result"
    }
   ],
   "source": [
    "widget.interact(plot_kt_scatter, strID='0030',time=(0,6000,20) )"
   ]
  },
  {
   "cell_type": "markdown",
   "metadata": {
    "ExecuteTime": {
     "end_time": "2020-08-16T15:42:47.615343Z",
     "start_time": "2020-08-16T15:42:47.478891Z"
    }
   },
   "source": [
    "# Mean Kappa Theta plots for all runs"
   ]
  },
  {
   "cell_type": "code",
   "execution_count": 17,
   "metadata": {
    "ExecuteTime": {
     "end_time": "2020-11-06T06:31:59.903103Z",
     "start_time": "2020-11-06T06:31:59.654502Z"
    },
    "cell_style": "split"
   },
   "outputs": [
    {
     "data": {
      "application/vnd.jupyter.widget-view+json": {
       "model_id": "ec797130290e485e84466bee19f5d431",
       "version_major": 2,
       "version_minor": 0
      },
      "text/plain": [
       "interactive(children=(Text(value='0030', description='strID'), Output()), _dom_classes=('widget-interact',))"
      ]
     },
     "metadata": {},
     "output_type": "display_data"
    },
    {
     "data": {
      "text/plain": [
       "<function __main__.plot_mean_kappa(strID='0030')>"
      ]
     },
     "execution_count": 17,
     "metadata": {},
     "output_type": "execute_result"
    }
   ],
   "source": [
    "widget.interact(plot_mean_kappa, strID='0030' )"
   ]
  },
  {
   "cell_type": "code",
   "execution_count": 18,
   "metadata": {
    "ExecuteTime": {
     "end_time": "2020-11-06T06:32:00.020904Z",
     "start_time": "2020-11-06T06:31:59.907081Z"
    },
    "cell_style": "split"
   },
   "outputs": [
    {
     "data": {
      "application/vnd.jupyter.widget-view+json": {
       "model_id": "af50304c2dbe4087bd4e78faef91730b",
       "version_major": 2,
       "version_minor": 0
      },
      "text/plain": [
       "interactive(children=(Text(value='0030', description='strID'), Output()), _dom_classes=('widget-interact',))"
      ]
     },
     "metadata": {},
     "output_type": "display_data"
    },
    {
     "data": {
      "text/plain": [
       "<function __main__.plot_mean_theta(strID='0030')>"
      ]
     },
     "execution_count": 18,
     "metadata": {},
     "output_type": "execute_result"
    }
   ],
   "source": [
    "widget.interact(plot_mean_theta, strID='0030' )"
   ]
  },
  {
   "cell_type": "markdown",
   "metadata": {},
   "source": [
    "# Node Number Plots "
   ]
  },
  {
   "cell_type": "code",
   "execution_count": 19,
   "metadata": {
    "ExecuteTime": {
     "end_time": "2020-11-06T06:32:00.233707Z",
     "start_time": "2020-11-06T06:32:00.022864Z"
    }
   },
   "outputs": [
    {
     "data": {
      "application/vnd.jupyter.widget-view+json": {
       "model_id": "991c6859001b4321882c8fc4333ed59c",
       "version_major": 2,
       "version_minor": 0
      },
      "text/plain": [
       "interactive(children=(Text(value='0030', description='strID'), Output()), _dom_classes=('widget-interact',))"
      ]
     },
     "metadata": {},
     "output_type": "display_data"
    },
    {
     "data": {
      "text/plain": [
       "<function __main__.node_numbers_plot(strID='0030')>"
      ]
     },
     "execution_count": 19,
     "metadata": {},
     "output_type": "execute_result"
    }
   ],
   "source": [
    "widget.interact(node_numbers_plot, strID='0030' )"
   ]
  },
  {
   "cell_type": "markdown",
   "metadata": {},
   "source": [
    "# Plot Velocity Cells Fraction"
   ]
  },
  {
   "cell_type": "code",
   "execution_count": 20,
   "metadata": {
    "ExecuteTime": {
     "end_time": "2020-11-06T06:32:01.254868Z",
     "start_time": "2020-11-06T06:32:00.235389Z"
    }
   },
   "outputs": [
    {
     "data": {
      "application/vnd.jupyter.widget-view+json": {
       "model_id": "4fb2feb96826420988bd34a8e3bf98bd",
       "version_major": 2,
       "version_minor": 0
      },
      "text/plain": [
       "interactive(children=(Text(value='0030', description='strID'), Output()), _dom_classes=('widget-interact',))"
      ]
     },
     "metadata": {},
     "output_type": "display_data"
    },
    {
     "data": {
      "text/plain": [
       "<function __main__.node_numbers_fraction_plot(strID='0030')>"
      ]
     },
     "execution_count": 20,
     "metadata": {},
     "output_type": "execute_result"
    }
   ],
   "source": [
    "widget.interact(node_numbers_fraction_plot, strID='0030' )"
   ]
  },
  {
   "cell_type": "code",
   "execution_count": null,
   "metadata": {},
   "outputs": [],
   "source": []
  },
  {
   "cell_type": "code",
   "execution_count": 21,
   "metadata": {
    "ExecuteTime": {
     "end_time": "2020-11-06T06:32:01.375151Z",
     "start_time": "2020-11-06T06:32:01.258363Z"
    },
    "cell_style": "split"
   },
   "outputs": [
    {
     "data": {
      "application/vnd.jupyter.widget-view+json": {
       "model_id": "07bb19fd720d4e318bcce5b9c71884b0",
       "version_major": 2,
       "version_minor": 0
      },
      "text/plain": [
       "interactive(children=(Text(value='0038c', description='strID'), Output()), _dom_classes=('widget-interact',))"
      ]
     },
     "metadata": {},
     "output_type": "display_data"
    },
    {
     "data": {
      "text/plain": [
       "<function __main__.plot_mean_kappa_rest(strID='0030')>"
      ]
     },
     "execution_count": 21,
     "metadata": {},
     "output_type": "execute_result"
    }
   ],
   "source": [
    "widget.interact(plot_mean_kappa_rest, strID='0038c')"
   ]
  },
  {
   "cell_type": "code",
   "execution_count": 22,
   "metadata": {
    "ExecuteTime": {
     "end_time": "2020-11-06T06:32:01.610860Z",
     "start_time": "2020-11-06T06:32:01.376112Z"
    },
    "cell_style": "split"
   },
   "outputs": [
    {
     "data": {
      "application/vnd.jupyter.widget-view+json": {
       "model_id": "f18a64105e3949879777f2d6944487de",
       "version_major": 2,
       "version_minor": 0
      },
      "text/plain": [
       "interactive(children=(Text(value='0038c', description='strID'), Output()), _dom_classes=('widget-interact',))"
      ]
     },
     "metadata": {},
     "output_type": "display_data"
    },
    {
     "data": {
      "text/plain": [
       "<function __main__.plot_mean_kappa_vel(strID='0030')>"
      ]
     },
     "execution_count": 22,
     "metadata": {},
     "output_type": "execute_result"
    }
   ],
   "source": [
    "widget.interact(plot_mean_kappa_vel, strID='0038c' )"
   ]
  },
  {
   "cell_type": "code",
   "execution_count": 23,
   "metadata": {
    "ExecuteTime": {
     "end_time": "2020-11-06T06:32:01.846699Z",
     "start_time": "2020-11-06T06:32:01.613914Z"
    },
    "cell_style": "split",
    "scrolled": false,
    "slideshow": {
     "slide_type": "-"
    }
   },
   "outputs": [
    {
     "data": {
      "application/vnd.jupyter.widget-view+json": {
       "model_id": "05d30933d7c8454ca1141c99d3061869",
       "version_major": 2,
       "version_minor": 0
      },
      "text/plain": [
       "interactive(children=(Text(value='0038c', description='strID'), Output()), _dom_classes=('widget-interact',))"
      ]
     },
     "metadata": {},
     "output_type": "display_data"
    },
    {
     "data": {
      "text/plain": [
       "<function __main__.plot_mean_theta_rest(strID='0030')>"
      ]
     },
     "execution_count": 23,
     "metadata": {},
     "output_type": "execute_result"
    }
   ],
   "source": [
    "widget.interact(plot_mean_theta_rest, strID='0038c' )"
   ]
  },
  {
   "cell_type": "code",
   "execution_count": 24,
   "metadata": {
    "ExecuteTime": {
     "end_time": "2020-11-06T06:32:02.080227Z",
     "start_time": "2020-11-06T06:32:01.848892Z"
    },
    "cell_style": "split",
    "scrolled": false
   },
   "outputs": [
    {
     "data": {
      "application/vnd.jupyter.widget-view+json": {
       "model_id": "fa1afa36ddb246e1ae74c9bb9241f62a",
       "version_major": 2,
       "version_minor": 0
      },
      "text/plain": [
       "interactive(children=(Text(value='0038c', description='strID'), Output()), _dom_classes=('widget-interact',))"
      ]
     },
     "metadata": {},
     "output_type": "display_data"
    },
    {
     "data": {
      "text/plain": [
       "<function __main__.plot_mean_theta_vel(strID='0030')>"
      ]
     },
     "execution_count": 24,
     "metadata": {},
     "output_type": "execute_result"
    }
   ],
   "source": [
    "widget.interact(plot_mean_theta_vel, strID='0038c' )\n",
    "    "
   ]
  },
  {
   "cell_type": "code",
   "execution_count": null,
   "metadata": {
    "scrolled": false
   },
   "outputs": [],
   "source": [
    "\n"
   ]
  },
  {
   "cell_type": "code",
   "execution_count": null,
   "metadata": {},
   "outputs": [],
   "source": []
  },
  {
   "cell_type": "code",
   "execution_count": null,
   "metadata": {},
   "outputs": [],
   "source": []
  }
 ],
 "metadata": {
  "celltoolbar": "Slideshow",
  "kernelspec": {
   "display_name": "Python 3",
   "language": "python",
   "name": "python3"
  },
  "language_info": {
   "codemirror_mode": {
    "name": "ipython",
    "version": 3
   },
   "file_extension": ".py",
   "mimetype": "text/x-python",
   "name": "python",
   "nbconvert_exporter": "python",
   "pygments_lexer": "ipython3",
   "version": "3.7.6"
  },
  "toc": {
   "base_numbering": 1,
   "nav_menu": {},
   "number_sections": true,
   "sideBar": true,
   "skip_h1_title": false,
   "title_cell": "Table of Contents",
   "title_sidebar": "Contents",
   "toc_cell": true,
   "toc_position": {
    "height": "calc(100% - 180px)",
    "left": "10px",
    "top": "150px",
    "width": "248.993px"
   },
   "toc_section_display": true,
   "toc_window_display": true
  },
  "varInspector": {
   "cols": {
    "lenName": 16,
    "lenType": 16,
    "lenVar": 40
   },
   "kernels_config": {
    "python": {
     "delete_cmd_postfix": "",
     "delete_cmd_prefix": "del ",
     "library": "var_list.py",
     "varRefreshCmd": "print(var_dic_list())"
    },
    "r": {
     "delete_cmd_postfix": ") ",
     "delete_cmd_prefix": "rm(",
     "library": "var_list.r",
     "varRefreshCmd": "cat(var_dic_list()) "
    }
   },
   "types_to_exclude": [
    "module",
    "function",
    "builtin_function_or_method",
    "instance",
    "_Feature"
   ],
   "window_display": false
  }
 },
 "nbformat": 4,
 "nbformat_minor": 4
}
