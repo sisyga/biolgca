{
 "cells": [
  {
   "cell_type": "code",
   "execution_count": 1,
   "metadata": {},
   "outputs": [],
   "source": [
    "from sympy import *"
   ]
  },
  {
   "cell_type": "code",
   "execution_count": 2,
   "metadata": {},
   "outputs": [],
   "source": [
    "init_printing(use_unicode=True)"
   ]
  },
  {
   "cell_type": "code",
   "execution_count": 18,
   "metadata": {},
   "outputs": [],
   "source": [
    "rho_0, rho_1, r, D, b, N = symbols('rho_0, rho_1, r, D, b, N', positive=True)"
   ]
  },
  {
   "cell_type": "code",
   "execution_count": 4,
   "metadata": {},
   "outputs": [],
   "source": [
    "P10, P11, P00, P01 = symbols('P10, P11, P00, P01')"
   ]
  },
  {
   "cell_type": "code",
   "execution_count": 5,
   "metadata": {},
   "outputs": [],
   "source": [
    "ds10, ds01 = symbols('ds10, ds01')"
   ]
  },
  {
   "cell_type": "code",
   "execution_count": 19,
   "metadata": {},
   "outputs": [],
   "source": [
    "n, nr, ng = symbols('n, nr, ng', positive=True)"
   ]
  },
  {
   "cell_type": "code",
   "execution_count": 21,
   "metadata": {},
   "outputs": [
    {
     "data": {
      "image/png": "[encoded data removed]",
      "text/latex": [
       "$\\displaystyle \\frac{- \\left(nr - 1\\right) \\log{\\left(nr - 1 \\right)} + \\log{\\left(ng^{ng} nr^{nr} \\left(ng + 1\\right)^{- ng - 1} \\right)}}{ng + nr}$"
      ],
      "text/plain": [
       "                           ⎛  ng   nr         -ng - 1⎞\n",
       "-(nr - 1)⋅log(nr - 1) + log⎝ng  ⋅nr  ⋅(ng + 1)       ⎠\n",
       "──────────────────────────────────────────────────────\n",
       "                       ng + nr                        "
      ]
     },
     "execution_count": 21,
     "metadata": {},
     "output_type": "execute_result"
    }
   ],
   "source": [
    "ds01 = 1 / (nr + ng) * (nr * log(nr) - (nr-1) * log(nr-1) + ng * log(ng) - (ng+1) * log(ng+1) )\n",
    "simplify(ds01)"
   ]
  },
  {
   "cell_type": "code",
   "execution_count": 15,
   "metadata": {},
   "outputs": [
    {
     "data": {
      "image/png": "[encoded data removed]",
      "text/latex": [
       "$\\displaystyle \\frac{1}{e^{\\frac{b \\left(ng \\log{\\left(ng \\right)} + nr \\log{\\left(nr \\right)} - \\left(ng + 1\\right) \\log{\\left(ng + 1 \\right)} - \\left(nr - 1\\right) \\log{\\left(nr - 1 \\right)}\\right)}{ng + nr}} + 1}$"
      ],
      "text/plain": [
       "                                      1                                       \n",
       "──────────────────────────────────────────────────────────────────────────────\n",
       " b⋅(ng⋅log(ng) + nr⋅log(nr) - (ng + 1)⋅log(ng + 1) - (nr - 1)⋅log(nr - 1))    \n",
       " ─────────────────────────────────────────────────────────────────────────    \n",
       "                                  ng + nr                                     \n",
       "ℯ                                                                          + 1"
      ]
     },
     "execution_count": 15,
     "metadata": {},
     "output_type": "execute_result"
    }
   ],
   "source": [
    "P01 = 1 / (1 + exp(b * ds01)) \n",
    "simplify(P01)"
   ]
  },
  {
   "cell_type": "code",
   "execution_count": 5,
   "metadata": {},
   "outputs": [],
   "source": [
    "f = r * rho_0 * (1 - rho_0) + (rho_1 - rho_0) * (0.5 + b / (8 * N) * (rho_1 - rho_0) / (rho_1 * rho_0))"
   ]
  },
  {
   "cell_type": "code",
   "execution_count": 7,
   "metadata": {},
   "outputs": [],
   "source": [
    "f_0 = simplify(diff(f, rho_0))"
   ]
  },
  {
   "cell_type": "code",
   "execution_count": 8,
   "metadata": {},
   "outputs": [
    {
     "data": {
      "text/latex": [
       "$\\displaystyle - 2 r \\rho_{0} + r - 0.5 + \\frac{b}{8 N \\rho_{1}} - \\frac{b \\rho_{1}}{8 N \\rho_{0}^{2}}$"
      ],
      "text/plain": [
       "-2*r*rho_0 + r - 0.5 + b/(8*N*rho_1) - b*rho_1/(8*N*rho_0**2)"
      ]
     },
     "execution_count": 8,
     "metadata": {},
     "output_type": "execute_result"
    }
   ],
   "source": [
    "f_0"
   ]
  },
  {
   "cell_type": "code",
   "execution_count": 9,
   "metadata": {},
   "outputs": [],
   "source": [
    "S = 0.5 + b /(8 * N) * (rho_1 - rho_0) / (rho_1 * rho_0)"
   ]
  },
  {
   "cell_type": "code",
   "execution_count": 11,
   "metadata": {},
   "outputs": [
    {
     "data": {
      "text/latex": [
       "$\\displaystyle \\frac{b \\rho_{0}}{8 \\rho_{1}} - \\frac{b \\rho_{1}}{8 \\rho_{0}} - 0.5 \\rho_{0} + 0.5 \\rho_{1}$"
      ],
      "text/plain": [
       "b*rho_0/(8*rho_1) - b*rho_1/(8*rho_0) - 0.5*rho_0 + 0.5*rho_1"
      ]
     },
     "execution_count": 11,
     "metadata": {},
     "output_type": "execute_result"
    }
   ],
   "source": [
    "simplify(rho_1 * (0.5 + b / 8 * (rho_0 - rho_1) / (rho_0 * rho_1)) - rho_0 * (0.5 - b / 8 * (rho_0 - rho_1) / (rho_0 * rho_1)))"
   ]
  },
  {
   "cell_type": "code",
   "execution_count": 12,
   "metadata": {},
   "outputs": [
    {
     "data": {
      "text/latex": [
       "$\\displaystyle - \\rho_{0} \\left(- \\frac{b \\left(\\rho_{0} - \\rho_{1}\\right)}{8 \\rho_{0} \\rho_{1}} + 0.5\\right) + \\rho_{1} \\left(\\frac{b \\left(\\rho_{0} - \\rho_{1}\\right)}{8 \\rho_{0} \\rho_{1}} + 0.5\\right)$"
      ],
      "text/plain": [
       "-rho_0*(-b*(rho_0 - rho_1)/(8*rho_0*rho_1) + 0.5) + rho_1*(b*(rho_0 - rho_1)/(8*rho_0*rho_1) + 0.5)"
      ]
     },
     "execution_count": 12,
     "metadata": {},
     "output_type": "execute_result"
    }
   ],
   "source": [
    "rho_1 * (0.5 + b / 8 * (rho_0 - rho_1) / (rho_0 * rho_1)) - rho_0 * (0.5 - b / 8 * (rho_0 - rho_1) / (rho_0 * rho_1))"
   ]
  },
  {
   "cell_type": "code",
   "execution_count": 93,
   "metadata": {},
   "outputs": [],
   "source": [
    "f = 0.5 * (rho_1 - rho_0) + b * (rho_0 - rho_1) / (rho_0 * rho_1) #+ r * rho_0 * (1 - rho_0 - rho_1)"
   ]
  },
  {
   "cell_type": "code",
   "execution_count": 94,
   "metadata": {},
   "outputs": [],
   "source": [
    "g = 0.5 * (rho_0 - rho_1) + b * (rho_1 - rho_0) / (rho_0 * rho_1)"
   ]
  },
  {
   "cell_type": "code",
   "execution_count": 95,
   "metadata": {},
   "outputs": [],
   "source": [
    "steadystates = solve([f, g], [rho_0, rho_1])"
   ]
  },
  {
   "cell_type": "code",
   "execution_count": 96,
   "metadata": {},
   "outputs": [
    {
     "data": {
      "image/png": "[encoded data removed]",
      "text/latex": [
       "$\\displaystyle \\left[ \\left( \\rho_{1}, \\  \\rho_{1}\\right), \\  \\left( \\frac{2.0 b}{\\rho_{1}}, \\  \\rho_{1}\\right)\\right]$"
      ],
      "text/plain": [
       "⎡          ⎛2.0⋅b    ⎞⎤\n",
       "⎢(ρ₁, ρ₁), ⎜─────, ρ₁⎟⎥\n",
       "⎣          ⎝  ρ₁     ⎠⎦"
      ]
     },
     "execution_count": 96,
     "metadata": {},
     "output_type": "execute_result"
    }
   ],
   "source": [
    "steadystates"
   ]
  },
  {
   "cell_type": "code",
   "execution_count": null,
   "metadata": {},
   "outputs": [],
   "source": []
  },
  {
   "cell_type": "code",
   "execution_count": 97,
   "metadata": {},
   "outputs": [
    {
     "data": {
      "image/png": "[encoded data removed]",
      "text/latex": [
       "$\\displaystyle \\frac{1.0 b}{\\rho_{0}^{2}} - 0.5$"
      ],
      "text/plain": [
       "1.0⋅b      \n",
       "───── - 0.5\n",
       "   2       \n",
       " ρ₀        "
      ]
     },
     "execution_count": 97,
     "metadata": {},
     "output_type": "execute_result"
    }
   ],
   "source": [
    "df = simplify(diff(f, rho_0))\n",
    "df"
   ]
  },
  {
   "cell_type": "code",
   "execution_count": 98,
   "metadata": {},
   "outputs": [
    {
     "data": {
      "image/png": "[encoded data removed]",
      "text/latex": [
       "$\\displaystyle \\frac{1.0 b}{\\rho_{1}^{2}} - 0.5$"
      ],
      "text/plain": [
       "1.0⋅b      \n",
       "───── - 0.5\n",
       "   2       \n",
       " ρ₁        "
      ]
     },
     "execution_count": 98,
     "metadata": {},
     "output_type": "execute_result"
    }
   ],
   "source": [
    "dg = simplify(diff(g, rho_1))\n",
    "dg"
   ]
  },
  {
   "cell_type": "code",
   "execution_count": 102,
   "metadata": {},
   "outputs": [
    {
     "data": {
      "image/png": "[encoded data removed]",
      "text/latex": [
       "$\\displaystyle \\left[ - 1.4142135623731 \\sqrt{b}, \\  1.4142135623731 \\sqrt{b}\\right]$"
      ],
      "text/plain": [
       "[-1.4142135623731⋅√b, 1.4142135623731⋅√b]"
      ]
     },
     "execution_count": 102,
     "metadata": {},
     "output_type": "execute_result"
    }
   ],
   "source": [
    "solve(df, rho_0)"
   ]
  },
  {
   "cell_type": "code",
   "execution_count": 39,
   "metadata": {},
   "outputs": [],
   "source": [
    "from sympy.plotting.plot import plot3d, plot"
   ]
  },
  {
   "cell_type": "code",
   "execution_count": 78,
   "metadata": {},
   "outputs": [
    {
     "data": {
      "image/png": "[encoded data removed]",
      "text/plain": [
       "<Figure size 432x288 with 1 Axes>"
      ]
     },
     "metadata": {
      "needs_background": "light"
     },
     "output_type": "display_data"
    },
    {
     "data": {
      "image/png": "[encoded data removed]",
      "text/plain": [
       "<Figure size 432x288 with 1 Axes>"
      ]
     },
     "metadata": {
      "needs_background": "light"
     },
     "output_type": "display_data"
    }
   ],
   "source": [
    "for i in range(len(steadystates)):\n",
    "    r0 = 0.2\n",
    "    plot(df.subs([(rho_0, steadystates[i][0]), (rho_1, r0)]),\n",
    "         dg.subs([(rho_0, steadystates[i][0]), (rho_1, r0)]),\n",
    "         (b, 0, 0.2))\n",
    "    \n",
    "#plot(steadystates[1][0], (b, 0, 0.2))"
   ]
  },
  {
   "cell_type": "code",
   "execution_count": 4,
   "metadata": {},
   "outputs": [],
   "source": [
    "a, n_r, n_g = symbols('a n_r n_g')"
   ]
  },
  {
   "cell_type": "code",
   "execution_count": 39,
   "metadata": {},
   "outputs": [
    {
     "data": {
      "image/png": "[encoded data removed]",
      "text/latex": [
       "$\\displaystyle 0.5 \\log{\\left(1 - n_{g} \\right)} + 0.5 \\log{\\left(n_{r} + 1 \\right)}$"
      ],
      "text/plain": [
       "0.5⋅log(1 - n_g) + 0.5⋅log(nᵣ + 1)"
      ]
     },
     "execution_count": 39,
     "metadata": {},
     "output_type": "execute_result"
    }
   ],
   "source": [
    "f = 1 / 2 * (log(1 + n_r) + log(1 - n_g))\n",
    "f"
   ]
  },
  {
   "cell_type": "code",
   "execution_count": 40,
   "metadata": {},
   "outputs": [
    {
     "data": {
      "image/png": "[encoded data removed]",
      "text/latex": [
       "$\\displaystyle 0.5 \\log{\\left(n_{r} + 1 \\right)} - 0.5 n_{g} - 0.25 n_{g}^{2} + O\\left(n_{g}^{3}\\right)$"
      ],
      "text/plain": [
       "                                    2    ⎛   3⎞\n",
       "0.5⋅log(nᵣ + 1) - 0.5⋅n_g - 0.25⋅n_g  + O⎝n_g ⎠"
      ]
     },
     "execution_count": 40,
     "metadata": {},
     "output_type": "execute_result"
    }
   ],
   "source": [
    "f.series(n_g, 0, 3)"
   ]
  },
  {
   "cell_type": "code",
   "execution_count": 31,
   "metadata": {},
   "outputs": [
    {
     "data": {
      "image/png": "[encoded data removed]",
      "text/latex": [
       "$\\displaystyle \\frac{0.5}{n_{r}} - \\frac{0.25}{n_{r}^{2}} - \\frac{0.5}{n_{g}} - \\frac{0.25}{n_{g}^{2}}$"
      ],
      "text/plain": [
       "0.5   0.25   0.5   0.25\n",
       "─── - ──── - ─── - ────\n",
       " nᵣ     2    n_g      2\n",
       "      nᵣ           n_g "
      ]
     },
     "execution_count": 31,
     "metadata": {},
     "output_type": "execute_result"
    }
   ],
   "source": [
    "f = 1 / 2 * (-1 / n_g - 0.5 / n_g**2 + 1 / n_r - 0.5 / n_r**2)\n",
    "f"
   ]
  },
  {
   "cell_type": "code",
   "execution_count": 32,
   "metadata": {},
   "outputs": [
    {
     "data": {
      "image/png": "[encoded data removed]",
      "text/latex": [
       "$\\displaystyle - \\frac{0.5}{N \\rho_{1}} + \\frac{0.5}{N \\rho_{0}} - \\frac{0.25}{N^{2} \\rho_{1}^{2}} - \\frac{0.25}{N^{2} \\rho_{0}^{2}}$"
      ],
      "text/plain": [
       "  0.5    0.5     0.25     0.25 \n",
       "- ──── + ──── - ────── - ──────\n",
       "  N⋅ρ₁   N⋅ρ₀    2   2    2   2\n",
       "                N ⋅ρ₁    N ⋅ρ₀ "
      ]
     },
     "execution_count": 32,
     "metadata": {},
     "output_type": "execute_result"
    }
   ],
   "source": [
    "simplify(f.subs([(n_g, N * rho_1), (n_r, N * rho_0)]))"
   ]
  },
  {
   "cell_type": "code",
   "execution_count": 33,
   "metadata": {},
   "outputs": [
    {
     "data": {
      "image/png": "[encoded data removed]",
      "text/latex": [
       "$\\displaystyle \\frac{0.5 \\left(- \\rho_{0} + \\rho_{1}\\right)}{N \\rho_{0} \\rho_{1}} - \\frac{0.25 \\left(\\rho_{0}^{2} + \\rho_{1}^{2}\\right)}{N^{2} \\rho_{0}^{2} \\rho_{1}^{2}}$"
      ],
      "text/plain": [
       "                      ⎛  2     2⎞\n",
       "0.5⋅(-ρ₀ + ρ₁)   0.25⋅⎝ρ₀  + ρ₁ ⎠\n",
       "────────────── - ────────────────\n",
       "   N⋅ρ₀⋅ρ₁           2   2   2   \n",
       "                    N ⋅ρ₀ ⋅ρ₁    "
      ]
     },
     "execution_count": 33,
     "metadata": {},
     "output_type": "execute_result"
    }
   ],
   "source": [
    "f = 0.5 / N * (rho_1 - rho_0) / (rho_1 * rho_0) - 0.25 / N**2 * (rho_0**2 + rho_1**2) / (rho_0**2 * rho_1**2)\n",
    "f"
   ]
  },
  {
   "cell_type": "code",
   "execution_count": 72,
   "metadata": {},
   "outputs": [],
   "source": [
    "P, P1, P2 = symbols('P P1 P2')"
   ]
  },
  {
   "cell_type": "code",
   "execution_count": 36,
   "metadata": {},
   "outputs": [
    {
     "data": {
      "image/png": "[encoded data removed]",
      "text/latex": [
       "$\\displaystyle \\frac{1}{e^{b \\left(\\frac{0.5 \\left(- \\rho_{0} + \\rho_{1}\\right)}{N \\rho_{0} \\rho_{1}} - \\frac{0.25 \\left(\\rho_{0}^{2} + \\rho_{1}^{2}\\right)}{N^{2} \\rho_{0}^{2} \\rho_{1}^{2}}\\right)} + 1}$"
      ],
      "text/plain": [
       "                    1                     \n",
       "──────────────────────────────────────────\n",
       "   ⎛                      ⎛  2     2⎞⎞    \n",
       "   ⎜0.5⋅(-ρ₀ + ρ₁)   0.25⋅⎝ρ₀  + ρ₁ ⎠⎟    \n",
       " b⋅⎜────────────── - ────────────────⎟    \n",
       "   ⎜   N⋅ρ₀⋅ρ₁           2   2   2   ⎟    \n",
       "   ⎝                    N ⋅ρ₀ ⋅ρ₁    ⎠    \n",
       "ℯ                                      + 1"
      ]
     },
     "execution_count": 36,
     "metadata": {},
     "output_type": "execute_result"
    }
   ],
   "source": [
    "P = 1 / (1 + exp(b * f))\n",
    "P"
   ]
  },
  {
   "cell_type": "code",
   "execution_count": 37,
   "metadata": {},
   "outputs": [
    {
     "data": {
      "image/png": "[encoded data removed]",
      "text/latex": [
       "$\\displaystyle \\frac{1}{2} + b \\left(\\frac{0.125}{N \\rho_{1}} - \\frac{0.125}{N \\rho_{0}} + \\frac{0.0625}{N^{2} \\rho_{1}^{2}} + \\frac{0.0625}{N^{2} \\rho_{0}^{2}}\\right) + O\\left(b^{2}\\right)$"
      ],
      "text/plain": [
       "1     ⎛0.125   0.125   0.0625   0.0625⎞    ⎛ 2⎞\n",
       "─ + b⋅⎜───── - ───── + ────── + ──────⎟ + O⎝b ⎠\n",
       "2     ⎜ N⋅ρ₁    N⋅ρ₀    2   2    2   2⎟        \n",
       "      ⎝                N ⋅ρ₁    N ⋅ρ₀ ⎠        "
      ]
     },
     "execution_count": 37,
     "metadata": {},
     "output_type": "execute_result"
    }
   ],
   "source": [
    "P.series(b, 0, 2)"
   ]
  },
  {
   "cell_type": "code",
   "execution_count": 49,
   "metadata": {},
   "outputs": [
    {
     "data": {
      "image/png": "[encoded data removed]",
      "text/latex": [
       "$\\displaystyle - 0.5 \\rho_{0} + 0.5 \\rho_{1} + \\frac{b \\rho_{0}}{8 N \\rho_{1}} - \\frac{b \\rho_{1}}{8 N \\rho_{0}} - \\frac{b \\rho_{0}}{16 N^{2} \\rho_{1}^{2}} - \\frac{b}{16 N^{2} \\rho_{1}} - \\frac{b}{16 N^{2} \\rho_{0}} - \\frac{b \\rho_{1}}{16 N^{2} \\rho_{0}^{2}}$"
      ],
      "text/plain": [
       "                    b⋅ρ₀     b⋅ρ₁       b⋅ρ₀        b          b          b⋅ρ₁\n",
       "-0.5⋅ρ₀ + 0.5⋅ρ₁ + ────── - ────── - ───────── - ──────── - ──────── - ───────\n",
       "                   8⋅N⋅ρ₁   8⋅N⋅ρ₀       2   2       2          2          2  \n",
       "                                     16⋅N ⋅ρ₁    16⋅N ⋅ρ₁   16⋅N ⋅ρ₀   16⋅N ⋅ρ\n",
       "\n",
       "  \n",
       "──\n",
       " 2\n",
       "₀ "
      ]
     },
     "execution_count": 49,
     "metadata": {},
     "output_type": "execute_result"
    }
   ],
   "source": [
    "simplify(rho_1 * (0.5 + b/(8 * N) * (rho_0 - rho_1) / rho_1 / rho_0 - b / (16*N**2) * (rho_0**2 + rho_1**2) / (rho_0**2 * rho_1**2)) - rho_0 * (0.5 - b / (8 * N) * (rho_0 - rho_1) / rho_0 / rho_1 + b / (16*N**2)* (rho_0**2 + rho_1**2) / (rho_0**2 * rho_1**2)))"
   ]
  },
  {
   "cell_type": "code",
   "execution_count": 52,
   "metadata": {},
   "outputs": [
    {
     "data": {
      "image/png": "[encoded data removed]",
      "text/latex": [
       "$\\displaystyle - \\frac{\\left(\\rho_{0} + \\rho_{1}\\right) \\left(\\rho_{0}^{2} + \\rho_{1}^{2}\\right)}{\\rho_{0} - \\rho_{1}}$"
      ],
      "text/plain": [
       "           ⎛  2     2⎞ \n",
       "-(ρ₀ + ρ₁)⋅⎝ρ₀  + ρ₁ ⎠ \n",
       "───────────────────────\n",
       "        ρ₀ - ρ₁        "
      ]
     },
     "execution_count": 52,
     "metadata": {},
     "output_type": "execute_result"
    }
   ],
   "source": [
    "factor((rho_0**3 + rho_1 * rho_0**2 + rho_1**2 * rho_0 + rho_1**3)/(rho_1 - rho_0))"
   ]
  },
  {
   "cell_type": "code",
   "execution_count": 51,
   "metadata": {},
   "outputs": [
    {
     "data": {
      "image/png": "[encoded data removed]",
      "text/latex": [
       "$\\displaystyle \\left(\\rho_{0} - \\rho_{1}\\right) \\left(\\rho_{0} + \\rho_{1}\\right)$"
      ],
      "text/plain": [
       "(ρ₀ - ρ₁)⋅(ρ₀ + ρ₁)"
      ]
     },
     "execution_count": 51,
     "metadata": {},
     "output_type": "execute_result"
    }
   ],
   "source": [
    "factor(rho_0**2 - rho_1**2)"
   ]
  },
  {
   "cell_type": "code",
   "execution_count": 56,
   "metadata": {},
   "outputs": [
    {
     "data": {
      "image/png": "[encoded data removed]",
      "text/latex": [
       "$\\displaystyle \\left(- \\frac{\\rho_{0}}{2} + \\frac{\\rho_{1}}{2}\\right) \\left(1 + \\frac{b \\left(\\rho_{0} + \\rho_{1}\\right)}{4 N \\rho_{0} \\rho_{1}} - \\frac{b \\left(\\rho_{0} + \\rho_{1}\\right) \\left(\\rho_{0}^{2} + \\rho_{1}^{2}\\right)}{8 N^{2} \\rho_{0}^{2} \\rho_{1}^{2} \\left(- \\rho_{0} + \\rho_{1}\\right)}\\right)$"
      ],
      "text/plain": [
       "            ⎛                              ⎛  2     2⎞⎞\n",
       "⎛  ρ₀   ρ₁⎞ ⎜    b⋅(ρ₀ + ρ₁)   b⋅(ρ₀ + ρ₁)⋅⎝ρ₀  + ρ₁ ⎠⎟\n",
       "⎜- ── + ──⎟⋅⎜1 + ─────────── - ───────────────────────⎟\n",
       "⎝  2    2 ⎠ ⎜     4⋅N⋅ρ₀⋅ρ₁       2   2   2           ⎟\n",
       "            ⎝                  8⋅N ⋅ρ₀ ⋅ρ₁ ⋅(-ρ₀ + ρ₁)⎠"
      ]
     },
     "execution_count": 56,
     "metadata": {},
     "output_type": "execute_result"
    }
   ],
   "source": [
    "f = (rho_1 - rho_0) / 2 * (1 + b / (4 * N) * (rho_0 + rho_1) / rho_0 / rho_1 - b / 8 / N**2 * (rho_1 + rho_0) / (rho_1 - rho_0) * (rho_0**2 + rho_1**2) / rho_1**2 / rho_0**2)\n",
    "f"
   ]
  },
  {
   "cell_type": "code",
   "execution_count": 90,
   "metadata": {},
   "outputs": [
    {
     "data": {
      "image/png": "[encoded data removed]",
      "text/latex": [
       "$\\displaystyle \\frac{1}{\\left(\\frac{\\left(- N + \\rho_{1}\\right) \\left(N + \\rho_{0}\\right)}{\\rho_{0} \\rho_{1}}\\right)^{b} + 1}$"
      ],
      "text/plain": [
       "            1            \n",
       "─────────────────────────\n",
       "                    b    \n",
       "⎛(-N + ρ₁)⋅(N + ρ₀)⎞     \n",
       "⎜──────────────────⎟  + 1\n",
       "⎝      ρ₀⋅ρ₁       ⎠     "
      ]
     },
     "execution_count": 90,
     "metadata": {},
     "output_type": "execute_result"
    }
   ],
   "source": [
    "P = 1 / (1 + ((rho_0 + N) * (rho_1 - N) / rho_0 / rho_1 )**b)\n",
    "P"
   ]
  },
  {
   "cell_type": "code",
   "execution_count": 89,
   "metadata": {},
   "outputs": [
    {
     "data": {
      "image/png": "[encoded data removed]",
      "text/latex": [
       "$\\displaystyle \\frac{1}{2} - \\frac{b \\log{\\left(- \\frac{N^{2}}{\\rho_{0} \\rho_{1}} - \\frac{N}{\\rho_{1}} + \\frac{N}{\\rho_{0}} + 1 \\right)}}{4} + O\\left(b^{2}\\right)$"
      ],
      "text/plain": [
       "         ⎛     2               ⎞        \n",
       "         ⎜    N     N    N     ⎟        \n",
       "    b⋅log⎜- ───── - ── + ── + 1⎟        \n",
       "1        ⎝  ρ₀⋅ρ₁   ρ₁   ρ₀    ⎠    ⎛ 2⎞\n",
       "─ - ──────────────────────────── + O⎝b ⎠\n",
       "2                4                      "
      ]
     },
     "execution_count": 89,
     "metadata": {},
     "output_type": "execute_result"
    }
   ],
   "source": [
    "P.series(b, 0, 2)"
   ]
  },
  {
   "cell_type": "code",
   "execution_count": 74,
   "metadata": {},
   "outputs": [],
   "source": [
    "P2 = 1 / (1 + ((rho_1 + N) * (rho_0 - N) / rho_0 / rho_1 )**b)"
   ]
  },
  {
   "cell_type": "code",
   "execution_count": 82,
   "metadata": {},
   "outputs": [
    {
     "ename": "NotImplementedError",
     "evalue": "No algorithms are implemented to solve equation -rho_0/(((-N + rho_0)*(N + rho_1)/(rho_0*rho_1))**b + 1) + rho_1/(((-N + rho_1)*(N + rho_0)/(rho_0*rho_1))**b + 1)",
     "output_type": "error",
     "traceback": [
      "\u001b[0;31m---------------------------------------------------------------------------\u001b[0m",
      "\u001b[0;31mNotImplementedError\u001b[0m                       Traceback (most recent call last)",
      "\u001b[0;32m<ipython-input-82-e8c538afc482>\u001b[0m in \u001b[0;36m<module>\u001b[0;34m\u001b[0m\n\u001b[0;32m----> 1\u001b[0;31m \u001b[0msolve\u001b[0m\u001b[0;34m(\u001b[0m\u001b[0mrho_1\u001b[0m \u001b[0;34m*\u001b[0m \u001b[0mP\u001b[0m \u001b[0;34m-\u001b[0m \u001b[0mrho_0\u001b[0m \u001b[0;34m*\u001b[0m \u001b[0mP2\u001b[0m\u001b[0;34m)\u001b[0m\u001b[0;34m\u001b[0m\u001b[0;34m\u001b[0m\u001b[0m\n\u001b[0m",
      "\u001b[0;32m~/anaconda3/lib/python3.7/site-packages/sympy/solvers/solvers.py\u001b[0m in \u001b[0;36msolve\u001b[0;34m(f, *symbols, **flags)\u001b[0m\n\u001b[1;32m   1169\u001b[0m     \u001b[0;31m###########################################################################\u001b[0m\u001b[0;34m\u001b[0m\u001b[0;34m\u001b[0m\u001b[0;34m\u001b[0m\u001b[0m\n\u001b[1;32m   1170\u001b[0m     \u001b[0;32mif\u001b[0m \u001b[0mbare_f\u001b[0m\u001b[0;34m:\u001b[0m\u001b[0;34m\u001b[0m\u001b[0;34m\u001b[0m\u001b[0m\n\u001b[0;32m-> 1171\u001b[0;31m         \u001b[0msolution\u001b[0m \u001b[0;34m=\u001b[0m \u001b[0m_solve\u001b[0m\u001b[0;34m(\u001b[0m\u001b[0mf\u001b[0m\u001b[0;34m[\u001b[0m\u001b[0;36m0\u001b[0m\u001b[0;34m]\u001b[0m\u001b[0;34m,\u001b[0m \u001b[0;34m*\u001b[0m\u001b[0msymbols\u001b[0m\u001b[0;34m,\u001b[0m \u001b[0;34m**\u001b[0m\u001b[0mflags\u001b[0m\u001b[0;34m)\u001b[0m\u001b[0;34m\u001b[0m\u001b[0;34m\u001b[0m\u001b[0m\n\u001b[0m\u001b[1;32m   1172\u001b[0m     \u001b[0;32melse\u001b[0m\u001b[0;34m:\u001b[0m\u001b[0;34m\u001b[0m\u001b[0;34m\u001b[0m\u001b[0m\n\u001b[1;32m   1173\u001b[0m         \u001b[0msolution\u001b[0m \u001b[0;34m=\u001b[0m \u001b[0m_solve_system\u001b[0m\u001b[0;34m(\u001b[0m\u001b[0mf\u001b[0m\u001b[0;34m,\u001b[0m \u001b[0msymbols\u001b[0m\u001b[0;34m,\u001b[0m \u001b[0;34m**\u001b[0m\u001b[0mflags\u001b[0m\u001b[0;34m)\u001b[0m\u001b[0;34m\u001b[0m\u001b[0;34m\u001b[0m\u001b[0m\n",
      "\u001b[0;32m~/anaconda3/lib/python3.7/site-packages/sympy/solvers/solvers.py\u001b[0m in \u001b[0;36m_solve\u001b[0;34m(f, *symbols, **flags)\u001b[0m\n\u001b[1;32m   1437\u001b[0m             \u001b[0;32mreturn\u001b[0m \u001b[0mresult\u001b[0m\u001b[0;34m\u001b[0m\u001b[0;34m\u001b[0m\u001b[0m\n\u001b[1;32m   1438\u001b[0m         \u001b[0;32melse\u001b[0m\u001b[0;34m:\u001b[0m\u001b[0;34m\u001b[0m\u001b[0;34m\u001b[0m\u001b[0m\n\u001b[0;32m-> 1439\u001b[0;31m             \u001b[0;32mraise\u001b[0m \u001b[0mNotImplementedError\u001b[0m\u001b[0;34m(\u001b[0m\u001b[0mnot_impl_msg\u001b[0m \u001b[0;34m%\u001b[0m \u001b[0mf\u001b[0m\u001b[0;34m)\u001b[0m\u001b[0;34m\u001b[0m\u001b[0;34m\u001b[0m\u001b[0m\n\u001b[0m\u001b[1;32m   1440\u001b[0m     \u001b[0msymbol\u001b[0m \u001b[0;34m=\u001b[0m \u001b[0msymbols\u001b[0m\u001b[0;34m[\u001b[0m\u001b[0;36m0\u001b[0m\u001b[0;34m]\u001b[0m\u001b[0;34m\u001b[0m\u001b[0;34m\u001b[0m\u001b[0m\n\u001b[1;32m   1441\u001b[0m \u001b[0;34m\u001b[0m\u001b[0m\n",
      "\u001b[0;31mNotImplementedError\u001b[0m: No algorithms are implemented to solve equation -rho_0/(((-N + rho_0)*(N + rho_1)/(rho_0*rho_1))**b + 1) + rho_1/(((-N + rho_1)*(N + rho_0)/(rho_0*rho_1))**b + 1)"
     ]
    }
   ],
   "source": [
    "solve(rho_1 * P - rho_0 * P2)"
   ]
  }
 ],
 "metadata": {
  "kernelspec": {
   "display_name": "Python 3",
   "language": "python",
   "name": "python3"
  },
  "language_info": {
   "codemirror_mode": {
    "name": "ipython",
    "version": 3
   },
   "file_extension": ".py",
   "mimetype": "text/x-python",
   "name": "python",
   "nbconvert_exporter": "python",
   "pygments_lexer": "ipython3",
   "version": "3.7.4"
  }
 },
 "nbformat": 4,
 "nbformat_minor": 2
}
