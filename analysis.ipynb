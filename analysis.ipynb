{
 "cells": [
  {
   "cell_type": "code",
   "execution_count": 1,
   "metadata": {},
   "outputs": [],
   "source": [
    "from sympy import *"
   ]
  },
  {
   "cell_type": "code",
   "execution_count": 21,
   "metadata": {},
   "outputs": [],
   "source": [
    "init_printing(use_unicode=True)"
   ]
  },
  {
   "cell_type": "code",
   "execution_count": 2,
   "metadata": {},
   "outputs": [],
   "source": [
    "rho_0, rho_1, r, D, b, N = symbols('rho_0, rho_1, r, D, b, N')"
   ]
  },
  {
   "cell_type": "code",
   "execution_count": 5,
   "metadata": {},
   "outputs": [],
   "source": [
    "f = r * rho_0 * (1 - rho_0) + (rho_1 - rho_0) * (0.5 + b / (8 * N) * (rho_1 - rho_0) / (rho_1 * rho_0))"
   ]
  },
  {
   "cell_type": "code",
   "execution_count": 7,
   "metadata": {},
   "outputs": [],
   "source": [
    "f_0 = simplify(diff(f, rho_0))"
   ]
  },
  {
   "cell_type": "code",
   "execution_count": 8,
   "metadata": {},
   "outputs": [
    {
     "data": {
      "text/latex": [
       "$\\displaystyle - 2 r \\rho_{0} + r - 0.5 + \\frac{b}{8 N \\rho_{1}} - \\frac{b \\rho_{1}}{8 N \\rho_{0}^{2}}$"
      ],
      "text/plain": [
       "-2*r*rho_0 + r - 0.5 + b/(8*N*rho_1) - b*rho_1/(8*N*rho_0**2)"
      ]
     },
     "execution_count": 8,
     "metadata": {},
     "output_type": "execute_result"
    }
   ],
   "source": [
    "f_0"
   ]
  },
  {
   "cell_type": "code",
   "execution_count": 9,
   "metadata": {},
   "outputs": [],
   "source": [
    "S = 0.5 + b /(8 * N) * (rho_1 - rho_0) / (rho_1 * rho_0)"
   ]
  },
  {
   "cell_type": "code",
   "execution_count": 11,
   "metadata": {},
   "outputs": [
    {
     "data": {
      "text/latex": [
       "$\\displaystyle \\frac{b \\rho_{0}}{8 \\rho_{1}} - \\frac{b \\rho_{1}}{8 \\rho_{0}} - 0.5 \\rho_{0} + 0.5 \\rho_{1}$"
      ],
      "text/plain": [
       "b*rho_0/(8*rho_1) - b*rho_1/(8*rho_0) - 0.5*rho_0 + 0.5*rho_1"
      ]
     },
     "execution_count": 11,
     "metadata": {},
     "output_type": "execute_result"
    }
   ],
   "source": [
    "simplify(rho_1 * (0.5 + b / 8 * (rho_0 - rho_1) / (rho_0 * rho_1)) - rho_0 * (0.5 - b / 8 * (rho_0 - rho_1) / (rho_0 * rho_1)))"
   ]
  },
  {
   "cell_type": "code",
   "execution_count": 12,
   "metadata": {},
   "outputs": [
    {
     "data": {
      "text/latex": [
       "$\\displaystyle - \\rho_{0} \\left(- \\frac{b \\left(\\rho_{0} - \\rho_{1}\\right)}{8 \\rho_{0} \\rho_{1}} + 0.5\\right) + \\rho_{1} \\left(\\frac{b \\left(\\rho_{0} - \\rho_{1}\\right)}{8 \\rho_{0} \\rho_{1}} + 0.5\\right)$"
      ],
      "text/plain": [
       "-rho_0*(-b*(rho_0 - rho_1)/(8*rho_0*rho_1) + 0.5) + rho_1*(b*(rho_0 - rho_1)/(8*rho_0*rho_1) + 0.5)"
      ]
     },
     "execution_count": 12,
     "metadata": {},
     "output_type": "execute_result"
    }
   ],
   "source": [
    "rho_1 * (0.5 + b / 8 * (rho_0 - rho_1) / (rho_0 * rho_1)) - rho_0 * (0.5 - b / 8 * (rho_0 - rho_1) / (rho_0 * rho_1))"
   ]
  },
  {
   "cell_type": "code",
   "execution_count": 93,
   "metadata": {},
   "outputs": [],
   "source": [
    "f = 0.5 * (rho_1 - rho_0) + b * (rho_0 - rho_1) / (rho_0 * rho_1) #+ r * rho_0 * (1 - rho_0 - rho_1)"
   ]
  },
  {
   "cell_type": "code",
   "execution_count": 94,
   "metadata": {},
   "outputs": [],
   "source": [
    "g = 0.5 * (rho_0 - rho_1) + b * (rho_1 - rho_0) / (rho_0 * rho_1)"
   ]
  },
  {
   "cell_type": "code",
   "execution_count": 95,
   "metadata": {},
   "outputs": [],
   "source": [
    "steadystates = solve([f, g], [rho_0, rho_1])"
   ]
  },
  {
   "cell_type": "code",
   "execution_count": 96,
   "metadata": {},
   "outputs": [
    {
     "data": {
      "image/png": "[encoded data removed]",
      "text/latex": [
       "$\\displaystyle \\left[ \\left( \\rho_{1}, \\  \\rho_{1}\\right), \\  \\left( \\frac{2.0 b}{\\rho_{1}}, \\  \\rho_{1}\\right)\\right]$"
      ],
      "text/plain": [
       "⎡          ⎛2.0⋅b    ⎞⎤\n",
       "⎢(ρ₁, ρ₁), ⎜─────, ρ₁⎟⎥\n",
       "⎣          ⎝  ρ₁     ⎠⎦"
      ]
     },
     "execution_count": 96,
     "metadata": {},
     "output_type": "execute_result"
    }
   ],
   "source": [
    "steadystates"
   ]
  },
  {
   "cell_type": "code",
   "execution_count": null,
   "metadata": {},
   "outputs": [],
   "source": []
  },
  {
   "cell_type": "code",
   "execution_count": 97,
   "metadata": {},
   "outputs": [
    {
     "data": {
      "image/png": "[encoded data removed]",
      "text/latex": [
       "$\\displaystyle \\frac{1.0 b}{\\rho_{0}^{2}} - 0.5$"
      ],
      "text/plain": [
       "1.0⋅b      \n",
       "───── - 0.5\n",
       "   2       \n",
       " ρ₀        "
      ]
     },
     "execution_count": 97,
     "metadata": {},
     "output_type": "execute_result"
    }
   ],
   "source": [
    "df = simplify(diff(f, rho_0))\n",
    "df"
   ]
  },
  {
   "cell_type": "code",
   "execution_count": 98,
   "metadata": {},
   "outputs": [
    {
     "data": {
      "image/png": "[encoded data removed]",
      "text/latex": [
       "$\\displaystyle \\frac{1.0 b}{\\rho_{1}^{2}} - 0.5$"
      ],
      "text/plain": [
       "1.0⋅b      \n",
       "───── - 0.5\n",
       "   2       \n",
       " ρ₁        "
      ]
     },
     "execution_count": 98,
     "metadata": {},
     "output_type": "execute_result"
    }
   ],
   "source": [
    "dg = simplify(diff(g, rho_1))\n",
    "dg"
   ]
  },
  {
   "cell_type": "code",
   "execution_count": 102,
   "metadata": {},
   "outputs": [
    {
     "data": {
      "image/png": "[encoded data removed]",
      "text/latex": [
       "$\\displaystyle \\left[ - 1.4142135623731 \\sqrt{b}, \\  1.4142135623731 \\sqrt{b}\\right]$"
      ],
      "text/plain": [
       "[-1.4142135623731⋅√b, 1.4142135623731⋅√b]"
      ]
     },
     "execution_count": 102,
     "metadata": {},
     "output_type": "execute_result"
    }
   ],
   "source": [
    "solve(df, rho_0)"
   ]
  },
  {
   "cell_type": "code",
   "execution_count": 39,
   "metadata": {},
   "outputs": [],
   "source": [
    "from sympy.plotting.plot import plot3d, plot"
   ]
  },
  {
   "cell_type": "code",
   "execution_count": 78,
   "metadata": {},
   "outputs": [
    {
     "data": {
      "image/png": "[encoded data removed]",
      "text/plain": [
       "<Figure size 432x288 with 1 Axes>"
      ]
     },
     "metadata": {
      "needs_background": "light"
     },
     "output_type": "display_data"
    },
    {
     "data": {
      "image/png": "[encoded data removed]",
      "text/plain": [
       "<Figure size 432x288 with 1 Axes>"
      ]
     },
     "metadata": {
      "needs_background": "light"
     },
     "output_type": "display_data"
    }
   ],
   "source": [
    "for i in range(len(steadystates)):\n",
    "    r0 = 0.2\n",
    "    plot(df.subs([(rho_0, steadystates[i][0]), (rho_1, r0)]),\n",
    "         dg.subs([(rho_0, steadystates[i][0]), (rho_1, r0)]),\n",
    "         (b, 0, 0.2))\n",
    "    \n",
    "#plot(steadystates[1][0], (b, 0, 0.2))"
   ]
  },
  {
   "cell_type": "code",
   "execution_count": 105,
   "metadata": {},
   "outputs": [],
   "source": [
    "a = symbols('a')"
   ]
  },
  {
   "cell_type": "code",
   "execution_count": 109,
   "metadata": {},
   "outputs": [
    {
     "data": {
      "image/png": "[encoded data removed]",
      "text/latex": [
       "$\\displaystyle \\frac{e^{- b \\log{\\left(8 \\right)}} \\left(\\rho_{0} \\rho_{1} e^{b \\log{\\left(4 \\right)}} + \\frac{a b \\left(\\rho_{0} - \\rho_{1}\\right) e^{b \\log{\\left(4 \\right)}}}{2} + O\\left(a^{2}\\right)\\right)}{\\rho_{0} \\rho_{1}}$"
      ],
      "text/plain": [
       "           ⎛                                 b⋅log(4)        ⎞\n",
       " -b⋅log(8) ⎜       b⋅log(4)   a⋅b⋅(ρ₀ - ρ₁)⋅ℯ            ⎛ 2⎞⎟\n",
       "ℯ         ⋅⎜ρ₀⋅ρ₁⋅ℯ         + ─────────────────────── + O⎝a ⎠⎟\n",
       "           ⎝                             2                   ⎠\n",
       "──────────────────────────────────────────────────────────────\n",
       "                            ρ₀⋅ρ₁                             "
      ]
     },
     "execution_count": 109,
     "metadata": {},
     "output_type": "execute_result"
    }
   ],
   "source": [
    "f = (rho_0 * rho_1 / (rho_0 * rho_1 + (rho_0 + a) * (rho_1 - a)))**b\n"
   ]
  }
 ],
 "metadata": {
  "kernelspec": {
   "display_name": "Python 3",
   "language": "python",
   "name": "python3"
  },
  "language_info": {
   "codemirror_mode": {
    "name": "ipython",
    "version": 3
   },
   "file_extension": ".py",
   "mimetype": "text/x-python",
   "name": "python",
   "nbconvert_exporter": "python",
   "pygments_lexer": "ipython3",
   "version": "3.7.3"
  }
 },
 "nbformat": 4,
 "nbformat_minor": 2
}
