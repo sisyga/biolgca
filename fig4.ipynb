{
 "cells": [
  {
   "cell_type": "code",
   "execution_count": 2,
   "metadata": {
    "collapsed": true,
    "ExecuteTime": {
     "start_time": "2023-04-25T15:27:10.066771Z",
     "end_time": "2023-04-25T15:27:10.091281Z"
    }
   },
   "outputs": [],
   "source": [
    "import numpy as np\n",
    "import matplotlib.pyplot as plt\n",
    "from lgca import get_lgca\n",
    "from itertools import product\n",
    "import pickle as pkl\n",
    "PATH = '.\\\\data\\\\gog\\\\nonlocaldensity_10reps\\\\'\n",
    "parameters = np.load(PATH+'params.npz', allow_pickle=True)\n",
    "\n",
    "constparams = parameters['constparams'].item()\n",
    "r_ds = parameters['r_ds']\n",
    "thetas = parameters['thetas']\n",
    "reps = 10\n",
    "# data = np.load(PATH+'n_pr.npy', allow_pickle=True)"
   ]
  },
  {
   "cell_type": "code",
   "execution_count": 3,
   "outputs": [],
   "source": [
    "kappas_r_t = [[[] for _ in range(len(thetas))] for _ in range(len(r_ds))]\n",
    "resting_cells_r_t = np.zeros((len(r_ds), len(thetas), reps), dtype=int)\n",
    "total_cells_r_t = np.zeros_like(resting_cells_r_t)\n",
    "migrating_cells_r_t = np.zeros_like(resting_cells_r_t)\n",
    "for index in product(np.arange(0, len(r_ds)), np.arange(0, len(thetas))):\n",
    "    for i in range(reps):\n",
    "        with open(PATH+'data{}.pkl'.format(index+(i, 0,)), 'rb') as f:\n",
    "            d = pkl.load(f)\n",
    "        kappas_r_t[index[0]][index[1]].append(list(d['kappa'][d['nodes_t'].sum()]))\n",
    "        resting_cells_r_t[index[0], index[1], i] = len(d['nodes_t'][..., -1].sum())\n",
    "        total_cells_r_t[index[0], index[1], i] = len(d['nodes_t'].sum())\n",
    "\n",
    "migrating_cells_r_t = total_cells_r_t - resting_cells_r_t"
   ],
   "metadata": {
    "collapsed": false,
    "ExecuteTime": {
     "start_time": "2023-04-25T15:27:16.405270Z",
     "end_time": "2023-04-25T15:34:08.387265Z"
    }
   }
  },
  {
   "cell_type": "code",
   "execution_count": 4,
   "outputs": [],
   "source": [
    "resting_fraction_r_t = resting_cells_r_t / total_cells_r_t\n",
    "migration_fraction_r_t = migrating_cells_r_t / total_cells_r_t"
   ],
   "metadata": {
    "collapsed": false,
    "ExecuteTime": {
     "start_time": "2023-04-25T15:34:08.390128Z",
     "end_time": "2023-04-25T15:34:08.394131Z"
    }
   }
  },
  {
   "cell_type": "code",
   "execution_count": 5,
   "outputs": [],
   "source": [
    "phenotype_entropy = - resting_fraction_r_t * np.log2(resting_fraction_r_t) - migration_fraction_r_t * np.log2(migration_fraction_r_t)\n",
    "mean_phenotype_entropy = phenotype_entropy.mean(axis=-1)"
   ],
   "metadata": {
    "collapsed": false,
    "ExecuteTime": {
     "start_time": "2023-04-25T15:34:08.395125Z",
     "end_time": "2023-04-25T15:34:08.402659Z"
    }
   }
  },
  {
   "cell_type": "code",
   "execution_count": 6,
   "outputs": [],
   "source": [
    "dtheta = (thetas[1] - thetas[0]) / 2\n",
    "dr_ds = (r_ds[1] - r_ds[0]) / 2\n",
    "extent = [thetas[0]-dtheta, thetas[-1]+dtheta, r_ds[0]-dr_ds, r_ds[-1]+dr_ds]"
   ],
   "metadata": {
    "collapsed": false,
    "ExecuteTime": {
     "start_time": "2023-04-25T15:34:08.405660Z",
     "end_time": "2023-04-25T15:34:08.408652Z"
    }
   }
  },
  {
   "cell_type": "code",
   "execution_count": 11,
   "outputs": [
    {
     "data": {
      "text/plain": "<Figure size 640x480 with 2 Axes>",
      "image/png": "[encoded data removed]"
     },
     "metadata": {},
     "output_type": "display_data"
    }
   ],
   "source": [
    "bbox_attr = dict(boxstyle='circle,pad=0.2', edgecolor='black', facecolor='white', linewidth=1)\n",
    "plt.imshow(mean_phenotype_entropy, aspect='equal', vmin=0, vmax=1, extent=extent, origin='lower')\n",
    "plt.colorbar(label=r'Entropy', pad=0.2, fraction=0.05, orientation='horizontal', ticks=[0, 1])\n",
    "plt.xlabel(r'Switch threshold $\\theta$')\n",
    "plt.ylabel(r'Death rate $\\delta$')\n",
    "plt.text(0.2, 0., '1', fontsize=8, weight='bold',\n",
    "        ha='center',\n",
    "        va='center',\n",
    "        bbox=bbox_attr\n",
    "         )\n",
    "plt.text(0.2, 0.2, '2', fontsize=8, weight='bold',\n",
    "        ha='center',\n",
    "        va='center',\n",
    "        bbox=bbox_attr\n",
    "         )\n",
    "plt.text(1., 0.2, '3', fontsize=8, weight='bold', bbox=bbox_attr,\n",
    "        ha='center',\n",
    "        va='center',\n",
    "         )\n",
    "contour = plt.contour(thetas, r_ds, 1 - np.array(r_ds)[:, np.newaxis] - np.array(thetas)[np.newaxis, :], levels=[0], colors='k', linestyles='dashed', extent=extent, origin='lower')\n",
    "plt.title('Phenotypic entropy')\n",
    "plt.show()"
   ],
   "metadata": {
    "collapsed": false,
    "ExecuteTime": {
     "start_time": "2023-04-25T15:42:54.171652Z",
     "end_time": "2023-04-25T15:42:54.412356Z"
    }
   }
  },
  {
   "cell_type": "code",
   "execution_count": 7,
   "outputs": [],
   "source": [
    "def estimate_entropy(data):\n",
    "    # Compute histogram of data using numpy's automatic bin selection\n",
    "    hist, bin_edges = np.histogram(data, bins='auto', density=True)\n",
    "\n",
    "    # Calculate bin widths\n",
    "    bin_width = bin_edges[1] - bin_edges[0]\n",
    "    print(hist.sum() * bin_width)\n",
    "\n",
    "    # Create a masked array to handle zero probabilities\n",
    "    probabilities = np.ma.masked_equal(hist, 0)\n",
    "\n",
    "    # Compute the entropy\n",
    "    entropy = -np.ma.sum(probabilities * np.ma.log2(probabilities) * bin_width)\n",
    "\n",
    "    return entropy"
   ],
   "metadata": {
    "collapsed": false,
    "ExecuteTime": {
     "start_time": "2023-04-25T15:34:08.410652Z",
     "end_time": "2023-04-25T15:34:08.423234Z"
    }
   }
  },
  {
   "cell_type": "code",
   "execution_count": 8,
   "outputs": [
    {
     "name": "stdout",
     "output_type": "stream",
     "text": [
      "0.9999999999999928\n",
      "1.0000000000000033\n",
      "1.000000000000004\n",
      "1.000000000000004\n",
      "1.0000000000000007\n",
      "1.0000000000000038\n",
      "1.0000000000000067\n",
      "1.0000000000000002\n",
      "0.9999999999999949\n",
      "0.9999999999999978\n",
      "1.000000000000003\n",
      "0.9999999999999961\n",
      "1.000000000000006\n",
      "0.9999999999999949\n",
      "0.9999999999999971\n",
      "1.0000000000000022\n",
      "0.9999999999999959\n",
      "0.9999999999999937\n",
      "1.0000000000000044\n",
      "1.0000000000000013\n",
      "1.0000000000000047\n",
      "1.0000000000000013\n",
      "0.999999999999998\n",
      "1.0000000000000016\n",
      "1.000000000000008\n",
      "1.000000000000002\n",
      "0.9999999999999962\n",
      "0.9999999999999983\n",
      "1.0000000000000004\n",
      "1.000000000000002\n",
      "0.999999999999997\n",
      "1.0000000000000004\n",
      "1.0000000000000073\n",
      "0.9999999999999969\n",
      "1.0000000000000027\n",
      "0.9999999999999987\n",
      "1.0000000000000018\n",
      "1.0000000000000047\n",
      "0.9999999999999937\n",
      "1.0000000000000047\n",
      "0.9999999999999958\n",
      "1.0000000000000009\n",
      "0.999999999999998\n",
      "1.000000000000005\n",
      "1.000000000000004\n",
      "1.0000000000000033\n",
      "0.9999999999999973\n",
      "1.000000000000002\n",
      "1.0000000000000009\n",
      "0.9999999999999978\n",
      "1.0000000000000042\n",
      "1.000000000000005\n",
      "0.9999999999999933\n",
      "1.0000000000000075\n",
      "0.9999999999999919\n",
      "1.0000000000000082\n",
      "1.0000000000000036\n",
      "1.0000000000000033\n",
      "0.9999999999999976\n",
      "1.0000000000000027\n",
      "0.9999999999999902\n",
      "0.9999999999999892\n",
      "0.999999999999991\n",
      "0.9999999999999992\n",
      "1.00000000000001\n",
      "1.0000000000000067\n",
      "1.0000000000000087\n",
      "1.0000000000000047\n",
      "0.9999999999999918\n",
      "0.9999999999999963\n",
      "0.9999999999999941\n",
      "1.0000000000000029\n",
      "1.0000000000000018\n",
      "1.0000000000000018\n",
      "1.0000000000000024\n",
      "1.0000000000000095\n",
      "1.0000000000000018\n",
      "0.9999999999999989\n",
      "1.0000000000000016\n",
      "0.9999999999999885\n",
      "1.000000000000012\n",
      "1.0000000000000133\n",
      "1.0000000000000022\n",
      "0.9999999999999902\n",
      "1.0000000000000024\n",
      "1.0000000000000047\n",
      "1.0000000000000002\n",
      "1.0000000000000047\n",
      "1.0000000000000118\n",
      "0.9999999999999993\n",
      "0.9999999999999902\n",
      "0.9999999999999942\n",
      "0.9999999999999952\n",
      "0.99999999999999\n",
      "1.0000000000000016\n",
      "1.000000000000014\n",
      "0.9999999999999885\n",
      "0.99999999999999\n",
      "1.000000000000011\n",
      "1.000000000000007\n",
      "0.9999999999999917\n",
      "1.0000000000000044\n",
      "1.0000000000000004\n",
      "1.0000000000000009\n",
      "1.0000000000000095\n",
      "0.999999999999986\n",
      "1.0000000000000104\n",
      "0.9999999999999979\n",
      "1.0000000000000107\n",
      "0.9999999999999988\n",
      "1.0000000000000073\n",
      "0.999999999999998\n",
      "0.9999999999999936\n",
      "1.0000000000000022\n",
      "0.9999999999999996\n",
      "0.9999999999999989\n",
      "1.0000000000000022\n",
      "1.000000000000005\n",
      "1.0000000000000022\n",
      "1.0000000000000073\n",
      "1.0000000000000069\n",
      "0.9999999999999885\n",
      "0.9999999999999954\n",
      "1.0000000000000107\n",
      "0.9999999999999943\n",
      "0.9999999999999956\n",
      "0.9999999999999979\n",
      "1.0000000000000049\n",
      "0.9999999999999918\n",
      "0.9999999999999971\n",
      "0.999999999999992\n",
      "1.0000000000000013\n",
      "0.9999999999999964\n",
      "1.000000000000006\n",
      "0.9999999999999947\n",
      "0.9999999999999993\n",
      "0.999999999999993\n",
      "0.9999999999999994\n",
      "0.9999999999999946\n",
      "0.9999999999999953\n",
      "0.9999999999999962\n",
      "1.0000000000000016\n",
      "1.0000000000000075\n",
      "0.9999999999999994\n",
      "0.9999999999999928\n",
      "1.0000000000000056\n",
      "0.999999999999997\n",
      "0.999999999999989\n",
      "1.0000000000000029\n",
      "0.9999999999999983\n",
      "1.0000000000000004\n",
      "1.0000000000000009\n",
      "0.9999999999999953\n",
      "0.9999999999999998\n",
      "0.9999999999999972\n",
      "0.9999999999999974\n",
      "1.0000000000000024\n",
      "0.9999999999999983\n",
      "0.9999999999999957\n",
      "1.0000000000000007\n",
      "1.0000000000000016\n",
      "0.9999999999999974\n",
      "0.9999999999999981\n",
      "0.9999999999999987\n",
      "0.9999999999999983\n",
      "0.9999999999999979\n",
      "0.9999999999999994\n",
      "0.9999999999999992\n",
      "0.9999999999999974\n",
      "1.0000000000000002\n",
      "1.0000000000000016\n",
      "1.0000000000000007\n",
      "1.0000000000000013\n",
      "0.9999999999999986\n",
      "1.0000000000000007\n",
      "1.0000000000000007\n",
      "0.999999999999999\n",
      "1.0000000000000018\n",
      "1.0000000000000007\n",
      "1.0000000000000022\n",
      "1.0000000000000018\n",
      "1.0000000000000002\n",
      "0.9999999999999991\n",
      "1.0000000000000007\n",
      "1.0000000000000009\n",
      "1.0000000000000016\n",
      "1.0000000000000016\n",
      "0.9999999999999986\n",
      "0.9999999999999992\n",
      "1.0000000000000018\n",
      "1.0000000000000013\n",
      "1.0000000000000007\n",
      "0.9999999999999987\n",
      "0.9999999999999998\n",
      "1.0\n",
      "1.000000000000001\n",
      "0.9999999999999991\n",
      "0.9999999999999992\n",
      "1.0000000000000002\n",
      "1.0000000000000004\n",
      "0.9999999999999974\n",
      "1.000000000000003\n",
      "1.0000000000000007\n",
      "0.9999999999999978\n",
      "0.9999999999999961\n",
      "1.0000000000000044\n",
      "1.0000000000000029\n",
      "0.999999999999997\n",
      "0.9999999999999964\n",
      "1.0000000000000009\n",
      "0.9999999999999989\n",
      "1.000000000000003\n",
      "0.9999999999999931\n",
      "0.9999999999999973\n",
      "0.9999999999999911\n",
      "0.9999999999999913\n",
      "1.0000000000000042\n",
      "1.0000000000000062\n",
      "0.9999999999999959\n",
      "1.000000000000001\n",
      "1.000000000000002\n",
      "1.0000000000000007\n",
      "0.9999999999999986\n",
      "0.9999999999999986\n",
      "0.9999999999999982\n",
      "1.0000000000000022\n",
      "1.0000000000000024\n",
      "0.9999999999999986\n",
      "0.9999999999999988\n",
      "1.0000000000000036\n",
      "0.9999999999999993\n",
      "1.0\n",
      "0.9999999999999996\n",
      "1.0000000000000018\n",
      "1.0000000000000007\n",
      "0.9999999999999959\n",
      "1.0000000000000009\n",
      "0.9999999999999999\n",
      "0.9999999999999962\n",
      "0.9999999999999958\n",
      "0.9999999999999982\n",
      "1.0000000000000033\n",
      "0.9999999999999973\n",
      "0.9999999999999946\n",
      "0.9999999999999913\n",
      "0.9999999999999944\n",
      "0.9999999999999956\n",
      "0.999999999999996\n",
      "1.000000000000001\n",
      "1.0000000000000018\n",
      "0.9999999999999978\n",
      "1.0000000000000033\n",
      "0.9999999999999931\n",
      "0.9999999999999978\n",
      "1.000000000000001\n",
      "0.999999999999997\n",
      "0.9999999999999962\n",
      "0.9999999999999977\n",
      "0.9999999999999981\n",
      "0.9999999999999999\n",
      "1.0000000000000024\n",
      "1.000000000000001\n",
      "0.9999999999999993\n",
      "1.0000000000000029\n",
      "1.000000000000004\n",
      "0.9999999999999967\n",
      "1.0000000000000004\n",
      "0.9999999999999997\n",
      "0.9999999999999992\n",
      "0.9999999999999964\n",
      "1.0000000000000016\n",
      "1.0000000000000027\n",
      "1.0000000000000013\n",
      "1.000000000000003\n",
      "1.0000000000000007\n",
      "0.9999999999999983\n",
      "1.0\n",
      "0.9999999999999992\n",
      "1.0000000000000004\n",
      "1.0000000000000009\n",
      "1.0000000000000009\n",
      "0.9999999999999983\n",
      "0.9999999999999996\n",
      "0.9999999999999989\n",
      "0.9999999999999981\n",
      "1.000000000000001\n",
      "1.0000000000000004\n",
      "1.0000000000000036\n",
      "1.0000000000000016\n",
      "0.999999999999999\n",
      "1.0000000000000013\n",
      "0.9999999999999999\n",
      "1.0000000000000009\n",
      "0.9999999999999997\n",
      "1.0000000000000009\n",
      "1.0\n",
      "1.0000000000000013\n",
      "0.999999999999999\n",
      "1.0000000000000002\n",
      "1.000000000000001\n",
      "0.9999999999999982\n",
      "1.000000000000001\n",
      "1.0000000000000022\n",
      "0.9999999999999996\n",
      "0.9999999999999984\n",
      "1.0000000000000009\n",
      "1.0000000000000009\n",
      "1.0000000000000013\n",
      "0.999999999999998\n",
      "1.000000000000001\n",
      "0.9999999999999982\n",
      "0.9999999999999946\n",
      "0.9999999999999973\n",
      "1.0\n",
      "0.9999999999999956\n",
      "0.9999999999999962\n",
      "1.0000000000000027\n",
      "1.0000000000000042\n",
      "1.000000000000005\n",
      "1.0000000000000033\n",
      "1.000000000000006\n",
      "0.9999999999999984\n",
      "1.0000000000000053\n",
      "0.9999999999999951\n",
      "0.9999999999999951\n",
      "0.9999999999999981\n",
      "0.9999999999999958\n",
      "1.0000000000000013\n",
      "1.0000000000000002\n",
      "1.000000000000003\n",
      "1.0000000000000018\n",
      "1.0000000000000013\n",
      "1.0000000000000007\n",
      "0.9999999999999984\n",
      "1.0000000000000016\n",
      "0.9999999999999983\n",
      "0.9999999999999996\n",
      "1.0000000000000018\n",
      "1.000000000000002\n",
      "0.9999999999999992\n",
      "0.9999999999999999\n",
      "1.0000000000000047\n",
      "0.9999999999999942\n",
      "0.9999999999999967\n",
      "1.0000000000000044\n",
      "1.0000000000000082\n",
      "0.9999999999999978\n",
      "1.000000000000005\n",
      "0.9999999999999946\n",
      "1.0000000000000004\n",
      "1.0000000000000018\n",
      "0.9999999999999982\n",
      "0.9999999999999973\n",
      "0.9999999999999974\n",
      "1.000000000000003\n",
      "1.0000000000000018\n",
      "1.0000000000000056\n",
      "0.9999999999999978\n",
      "0.9999999999999992\n",
      "1.000000000000002\n",
      "1.0000000000000004\n",
      "1.0000000000000022\n",
      "1.0000000000000024\n",
      "0.9999999999999982\n",
      "1.0000000000000033\n",
      "1.0000000000000029\n",
      "0.9999999999999997\n",
      "0.9999999999999933\n",
      "0.9999999999999987\n",
      "0.999999999999996\n",
      "0.9999999999999996\n",
      "1.0000000000000022\n",
      "1.0000000000000013\n",
      "0.9999999999999989\n",
      "1.0000000000000009\n",
      "0.9999999999999986\n",
      "1.0000000000000004\n",
      "1.000000000000003\n",
      "1.0000000000000002\n",
      "0.999999999999999\n",
      "1.0000000000000016\n",
      "1.0000000000000033\n",
      "1.0\n",
      "1.0000000000000022\n",
      "0.9999999999999981\n",
      "1.0000000000000022\n",
      "0.9999999999999971\n",
      "0.9999999999999983\n",
      "1.0000000000000024\n",
      "0.9999999999999996\n",
      "1.0\n",
      "1.0000000000000013\n",
      "0.9999999999999986\n",
      "1.0000000000000009\n",
      "1.0000000000000007\n",
      "1.0000000000000002\n",
      "1.0000000000000004\n",
      "1.0000000000000013\n",
      "0.999999999999999\n",
      "1.000000000000001\n",
      "1.0\n",
      "1.0000000000000002\n",
      "0.9999999999999993\n",
      "0.9999999999999983\n",
      "1.0000000000000007\n",
      "1.0000000000000016\n",
      "1.0000000000000007\n",
      "0.9999999999999989\n",
      "1.0000000000000013\n",
      "0.999999999999999\n",
      "1.0\n",
      "1.0000000000000004\n",
      "0.9999999999999977\n",
      "1.0000000000000038\n",
      "0.9999999999999959\n",
      "0.9999999999999951\n",
      "0.9999999999999981\n",
      "1.0\n",
      "1.000000000000003\n",
      "0.9999999999999964\n",
      "0.9999999999999958\n",
      "0.9999999999999939\n",
      "0.999999999999996\n",
      "1.000000000000004\n",
      "0.9999999999999999\n",
      "1.0000000000000044\n",
      "0.9999999999999953\n",
      "0.9999999999999959\n",
      "1.0000000000000002\n",
      "0.9999999999999966\n",
      "1.0000000000000024\n",
      "1.0000000000000004\n",
      "0.9999999999999993\n",
      "0.9999999999999988\n",
      "0.9999999999999959\n",
      "1.0000000000000036\n",
      "1.0000000000000002\n",
      "1.0000000000000038\n",
      "0.9999999999999964\n",
      "1.0000000000000009\n",
      "1.0000000000000009\n",
      "1.0000000000000022\n",
      "1.0000000000000027\n",
      "1.0000000000000002\n",
      "1.0000000000000007\n",
      "0.9999999999999997\n",
      "0.9999999999999998\n",
      "1.0000000000000002\n",
      "1.0000000000000018\n",
      "1.0000000000000002\n",
      "0.9999999999999997\n",
      "0.9999999999999973\n",
      "1.0000000000000027\n",
      "1.0000000000000013\n",
      "1.0000000000000033\n",
      "0.9999999999999947\n",
      "1.0000000000000064\n",
      "1.0000000000000018\n",
      "0.999999999999993\n",
      "0.9999999999999983\n",
      "1.000000000000008\n",
      "0.9999999999999936\n",
      "0.9999999999999959\n",
      "0.9999999999999988\n",
      "1.0000000000000022\n",
      "0.9999999999999969\n",
      "1.0000000000000033\n",
      "1.000000000000004\n",
      "0.9999999999999967\n",
      "1.0000000000000067\n",
      "0.9999999999999991\n",
      "0.9999999999999986\n",
      "1.0\n",
      "0.9999999999999978\n",
      "0.9999999999999922\n",
      "0.9999999999999987\n",
      "0.999999999999998\n",
      "0.9999999999999998\n",
      "0.9999999999999986\n",
      "1.000000000000002\n",
      "1.0000000000000029\n",
      "1.0000000000000022\n",
      "1.0000000000000016\n",
      "0.9999999999999998\n",
      "1.0000000000000002\n",
      "1.0000000000000004\n",
      "1.0000000000000004\n",
      "0.9999999999999973\n",
      "0.9999999999999969\n",
      "0.9999999999999971\n",
      "1.0000000000000024\n",
      "0.9999999999999971\n",
      "1.000000000000003\n",
      "1.000000000000003\n",
      "1.0000000000000027\n",
      "1.0000000000000002\n",
      "1.0000000000000004\n",
      "0.9999999999999999\n",
      "1.0000000000000007\n",
      "0.999999999999997\n",
      "1.0000000000000009\n",
      "1.0000000000000002\n",
      "0.9999999999999983\n",
      "1.000000000000001\n",
      "0.9999999999999994\n",
      "1.0000000000000022\n",
      "1.0000000000000016\n",
      "1.0\n",
      "1.0000000000000007\n",
      "1.000000000000002\n",
      "1.0000000000000004\n",
      "0.9999999999999969\n",
      "1.0000000000000049\n",
      "1.0000000000000004\n",
      "0.9999999999999969\n",
      "0.9999999999999992\n",
      "0.9999999999999983\n",
      "1.000000000000003\n",
      "1.000000000000002\n",
      "0.9999999999999972\n",
      "0.9999999999999952\n",
      "1.0000000000000058\n",
      "1.0000000000000047\n",
      "0.9999999999999972\n",
      "0.9999999999999969\n",
      "0.9999999999999957\n",
      "0.9999999999999971\n",
      "1.0000000000000024\n",
      "0.9999999999999979\n",
      "1.0000000000000047\n",
      "0.9999999999999979\n",
      "1.000000000000003\n",
      "1.0000000000000056\n",
      "1.000000000000005\n",
      "0.999999999999999\n",
      "0.999999999999995\n",
      "0.9999999999999993\n",
      "0.9999999999999994\n",
      "0.9999999999999982\n",
      "1.0000000000000038\n",
      "1.000000000000004\n",
      "1.0000000000000033\n",
      "0.9999999999999994\n",
      "1.0000000000000007\n",
      "0.999999999999998\n",
      "1.000000000000002\n",
      "1.0000000000000013\n",
      "0.999999999999999\n",
      "1.0000000000000002\n",
      "1.0000000000000027\n",
      "1.0000000000000004\n",
      "1.0\n",
      "1.0000000000000002\n",
      "0.9999999999999999\n",
      "1.0\n",
      "1.0\n",
      "0.9999999999999999\n",
      "1.0\n",
      "1.0000000000000002\n",
      "0.9999999999999998\n",
      "0.9999999999999977\n",
      "1.0000000000000036\n",
      "0.9999999999999998\n",
      "0.9999999999999956\n",
      "1.0\n",
      "1.0000000000000024\n",
      "0.9999999999999938\n",
      "1.0000000000000038\n",
      "0.9999999999999958\n",
      "0.9999999999999991\n",
      "0.9999999999999941\n",
      "1.0000000000000033\n",
      "1.0000000000000007\n",
      "1.000000000000003\n",
      "1.0000000000000033\n",
      "1.0000000000000004\n",
      "1.0000000000000064\n",
      "1.000000000000002\n",
      "1.0000000000000013\n",
      "0.9999999999999994\n",
      "0.9999999999999943\n",
      "1.0000000000000029\n",
      "1.0000000000000033\n",
      "1.0000000000000004\n",
      "0.9999999999999953\n",
      "0.9999999999999998\n",
      "1.000000000000001\n",
      "1.0000000000000042\n",
      "1.0000000000000013\n",
      "1.0000000000000033\n",
      "0.9999999999999991\n",
      "1.0000000000000002\n",
      "0.9999999999999989\n",
      "1.0000000000000007\n",
      "1.0000000000000027\n",
      "1.0000000000000038\n",
      "1.000000000000001\n",
      "0.999999999999996\n",
      "1.0000000000000027\n",
      "1.000000000000001\n",
      "1.000000000000001\n",
      "0.9999999999999999\n",
      "0.9999999999999998\n",
      "0.9999999999999989\n",
      "0.9999999999999991\n",
      "0.9999999999999997\n",
      "1.0000000000000016\n",
      "1.0000000000000038\n",
      "1.0000000000000038\n",
      "1.0000000000000009\n",
      "0.9999999999999952\n",
      "0.9999999999999972\n",
      "0.9999999999999974\n",
      "0.9999999999999971\n",
      "1.000000000000001\n",
      "0.9999999999999966\n",
      "1.000000000000002\n",
      "0.9999999999999967\n",
      "0.9999999999999987\n",
      "0.9999999999999977\n",
      "0.999999999999996\n",
      "1.0000000000000016\n",
      "1.0000000000000016\n",
      "1.0000000000000038\n",
      "1.0000000000000049\n",
      "1.0000000000000007\n",
      "0.999999999999995\n",
      "1.000000000000005\n",
      "1.0000000000000038\n",
      "1.0\n",
      "0.999999999999997\n",
      "1.0000000000000038\n",
      "1.0000000000000058\n",
      "0.9999999999999941\n",
      "1.0000000000000062\n",
      "0.9999999999999981\n",
      "0.9999999999999954\n",
      "0.999999999999995\n",
      "1.000000000000002\n",
      "1.0000000000000016\n",
      "0.9999999999999982\n",
      "1.0000000000000022\n",
      "0.9999999999999972\n",
      "1.0000000000000038\n",
      "1.0000000000000013\n",
      "0.9999999999999982\n",
      "0.9999999999999976\n",
      "0.9999999999999993\n",
      "0.9999999999999991\n",
      "1.0000000000000007\n",
      "0.9999999999999979\n",
      "1.0000000000000036\n",
      "0.999999999999995\n",
      "0.9999999999999972\n",
      "0.9999999999999968\n",
      "0.9999999999999977\n",
      "1.0000000000000007\n",
      "1.000000000000004\n",
      "0.9999999999999949\n",
      "0.9999999999999944\n"
     ]
    }
   ],
   "source": [
    "genetic_entropy = [[[[estimate_entropy(kappas_r_t[i][j][k])] for k in range(reps)] for j in range(len(thetas))] for i in range(len(r_ds))]"
   ],
   "metadata": {
    "collapsed": false,
    "ExecuteTime": {
     "start_time": "2023-04-25T15:34:08.415232Z",
     "end_time": "2023-04-25T15:34:12.501155Z"
    }
   }
  },
  {
   "cell_type": "code",
   "execution_count": 10,
   "outputs": [
    {
     "data": {
      "text/plain": "(array([ 438., 1911., 4491., 6233., 7219., 7043., 6338., 6880., 4198.,\n        1382.]),\n array([-19.56058128, -17.5021982 , -15.44381512, -13.38543204,\n        -11.32704896,  -9.26866588,  -7.2102828 ,  -5.15189972,\n         -3.09351664,  -1.03513356,   1.02324952]),\n <BarContainer object of 10 artists>)"
     },
     "execution_count": 10,
     "metadata": {},
     "output_type": "execute_result"
    },
    {
     "data": {
      "text/plain": "<Figure size 640x480 with 1 Axes>",
      "image/png": "[encoded data removed]"
     },
     "metadata": {},
     "output_type": "display_data"
    }
   ],
   "source": [
    "index = -2, -1, 0\n",
    "plt.title(r'$\\delta = {}, \\theta = {}$'.format(r_ds[index[0]], thetas[index[1]]))\n",
    "plt.hist(kappas_r_t[-2][-1][0])"
   ],
   "metadata": {
    "collapsed": false,
    "ExecuteTime": {
     "start_time": "2023-04-14T17:34:34.228085Z",
     "end_time": "2023-04-14T17:34:34.558931Z"
    }
   }
  },
  {
   "cell_type": "code",
   "execution_count": 9,
   "outputs": [],
   "source": [
    "genetic_entropy = np.array(genetic_entropy).mean(-1)\n",
    "mean_genetic_entropy = genetic_entropy.mean(axis=-1)"
   ],
   "metadata": {
    "collapsed": false,
    "ExecuteTime": {
     "start_time": "2023-04-25T15:34:12.501155Z",
     "end_time": "2023-04-25T15:34:12.504313Z"
    }
   }
  },
  {
   "cell_type": "code",
   "execution_count": 12,
   "outputs": [
    {
     "data": {
      "text/plain": "<Figure size 640x480 with 2 Axes>",
      "image/png": "[encoded data removed]"
     },
     "metadata": {},
     "output_type": "display_data"
    }
   ],
   "source": [
    "plt.imshow(mean_genetic_entropy, aspect='equal', extent=extent, origin='lower', vmin=1, vmax=4)\n",
    "plt.colorbar(label=r'Entropy', pad=0.2, fraction=0.05, orientation='horizontal', ticks=[1, 4])\n",
    "plt.xlabel(r'Switch threshold $\\theta$')\n",
    "plt.ylabel(r'Death rate $\\delta$')\n",
    "plt.text(0.2, 0., '1', fontsize=8, weight='bold',\n",
    "        ha='center',\n",
    "        va='center',\n",
    "        bbox=bbox_attr\n",
    "         )\n",
    "plt.text(0.2, 0.2, '2', fontsize=8, weight='bold',\n",
    "        ha='center',\n",
    "        va='center',\n",
    "        bbox=bbox_attr\n",
    "         )\n",
    "plt.text(1., 0.2, '3', fontsize=8, weight='bold', bbox=bbox_attr,\n",
    "        ha='center',\n",
    "        va='center',\n",
    "         )\n",
    "contour = plt.contour(thetas, r_ds, 1 - np.array(r_ds)[:, np.newaxis] - np.array(thetas)[np.newaxis, :], levels=[0], colors='k', linestyles='dashed', extent=extent, origin='lower')\n",
    "plt.title('Genetic entropy')\n",
    "plt.show()"
   ],
   "metadata": {
    "collapsed": false,
    "ExecuteTime": {
     "start_time": "2023-04-25T15:43:05.192221Z",
     "end_time": "2023-04-25T15:43:05.384617Z"
    }
   }
  },
  {
   "cell_type": "code",
   "execution_count": null,
   "outputs": [],
   "source": [
    "from scipy.stats import skew, kurtosis\n",
    "from sklearn.mixture import GaussianMixture"
   ],
   "metadata": {
    "collapsed": false,
    "ExecuteTime": {
     "start_time": "2023-04-14T17:34:41.347528Z",
     "end_time": "2023-04-14T17:34:45.227115Z"
    }
   }
  },
  {
   "cell_type": "code",
   "execution_count": 14,
   "outputs": [],
   "source": [
    "# calculate bimodality coefficent\n",
    "# calculate skewness\n",
    "def bc(x):\n",
    "    sk = skew(x)\n",
    "    k = kurtosis(x, fisher=False)\n",
    "    n = len(x)\n",
    "    return (sk**2 + 1) / (k + 3 * ((n - 1)**2 / ((n - 2) * (n - 3))))"
   ],
   "metadata": {
    "collapsed": false,
    "ExecuteTime": {
     "start_time": "2023-04-14T17:34:45.229248Z",
     "end_time": "2023-04-14T17:34:45.232817Z"
    }
   }
  },
  {
   "cell_type": "code",
   "execution_count": 15,
   "outputs": [],
   "source": [
    "def aic_diff(x):\n",
    "    f1 = GaussianMixture(n_components=1).fit(x[:, np.newaxis])\n",
    "    f2 = GaussianMixture(n_components=2).fit(x[:, np.newaxis])\n",
    "    aic1 = f1.aic(x[:, np.newaxis])\n",
    "    aic2 = f2.aic(x[:, np.newaxis])\n",
    "    return (aic1 - aic2) / max(aic1, aic2)"
   ],
   "metadata": {
    "collapsed": false,
    "ExecuteTime": {
     "start_time": "2023-04-14T17:34:45.234817Z",
     "end_time": "2023-04-14T17:34:45.238940Z"
    }
   }
  },
  {
   "cell_type": "code",
   "execution_count": 16,
   "outputs": [],
   "source": [
    "# kurt = np.array([[kurtosis(np.array(kappas_r_t[i][j]), fisher=False, bias=False) for j in range(len(thetas))] for i in range(len(r_ds))])"
   ],
   "metadata": {
    "collapsed": false,
    "ExecuteTime": {
     "start_time": "2023-04-14T17:34:45.239940Z",
     "end_time": "2023-04-14T17:34:45.243571Z"
    }
   }
  },
  {
   "cell_type": "code",
   "execution_count": 17,
   "outputs": [],
   "source": [
    "# bcs = np.array([[bc(np.array(kappas_r_t[i][j])) for j in range(len(thetas))] for i in range(len(r_ds))])"
   ],
   "metadata": {
    "collapsed": false,
    "ExecuteTime": {
     "start_time": "2023-04-14T17:34:45.244572Z",
     "end_time": "2023-04-14T17:34:45.247942Z"
    }
   }
  },
  {
   "cell_type": "code",
   "execution_count": 18,
   "outputs": [],
   "source": [
    "# aic = np.array([[aic_diff(np.array(kappas_r_t[i][j])) for j in range(len(thetas))] for i in range(len(r_ds))])"
   ],
   "metadata": {
    "collapsed": false,
    "ExecuteTime": {
     "start_time": "2023-04-14T17:34:45.249005Z",
     "end_time": "2023-04-14T17:34:45.253545Z"
    }
   }
  },
  {
   "cell_type": "code",
   "execution_count": 13,
   "outputs": [],
   "source": [
    "# med = np.array([[np.median(np.array(kappas_r_t[i][j])) for j in range(len(thetas))] for i in range(len(r_ds))])\n",
    "kappas_r_t_temp = [[[] for j in range(len(thetas))] for i in range(len(r_ds))]\n",
    "for i in range(len(r_ds)):\n",
    "    for j in range(len(thetas)):\n",
    "        for k in range(reps):\n",
    "            kappas_r_t_temp[i][j].extend(kappas_r_t[i][j][k])\n",
    "meankappa = np.array([[np.mean(np.array(kappas_r_t_temp[i][j])) for j in range(len(thetas))] for i in range(len(r_ds))])"
   ],
   "metadata": {
    "collapsed": false,
    "ExecuteTime": {
     "start_time": "2023-04-25T15:43:14.324321Z",
     "end_time": "2023-04-25T15:43:17.493502Z"
    }
   }
  },
  {
   "cell_type": "code",
   "execution_count": null,
   "outputs": [],
   "source": [
    "# skewness = np.array([[skew(np.array(kappas_r_t[i][j]), bias=False) for j in range(len(thetas))] for i in range(len(r_ds))])"
   ],
   "metadata": {
    "collapsed": false
   }
  },
  {
   "cell_type": "code",
   "execution_count": null,
   "outputs": [],
   "source": [
    "# plt.imshow(skewness, cmap='coolwarm', aspect='equal', vmax=2, vmin=-2)\n",
    "# plt.colorbar()\n",
    "# plt.show()"
   ],
   "metadata": {
    "collapsed": false
   }
  },
  {
   "cell_type": "code",
   "execution_count": null,
   "outputs": [],
   "source": [
    "# plt.imshow(pvals, cmap='gray', aspect='equal')\n",
    "# plt.colorbar()"
   ],
   "metadata": {
    "collapsed": false
   }
  },
  {
   "cell_type": "code",
   "execution_count": null,
   "outputs": [],
   "source": [
    "# plt.imshow(bcs, cmap='gray', aspect='equal')\n",
    "# plt.colorbar()"
   ],
   "metadata": {
    "collapsed": false
   }
  },
  {
   "cell_type": "code",
   "execution_count": null,
   "outputs": [],
   "source": [
    "# plt.imshow(aic, cmap='coolwarm', aspect='equal')\n",
    "# plt.colorbar()"
   ],
   "metadata": {
    "collapsed": false
   }
  },
  {
   "cell_type": "code",
   "execution_count": null,
   "outputs": [],
   "source": [
    "# plt.imshow(aic> 0, cmap='gray', aspect='equal')\n",
    "# plt.colorbar()"
   ],
   "metadata": {
    "collapsed": false
   }
  },
  {
   "cell_type": "code",
   "execution_count": null,
   "outputs": [],
   "source": [
    "from matplotlib.lines import Line2D\n",
    "import os\n",
    "style_path = os.path.abspath('./frontiers_style.mplstyle')\n",
    "plt.style.use(style_path)"
   ],
   "metadata": {
    "collapsed": false,
    "ExecuteTime": {
     "start_time": "2023-04-14T17:34:49.349653Z",
     "end_time": "2023-04-14T17:34:49.356796Z"
    }
   }
  },
  {
   "cell_type": "code",
   "execution_count": 14,
   "outputs": [
    {
     "ename": "RuntimeError",
     "evalue": "No mappable was found to use for colorbar creation. First define a mappable such as an image (with imshow) or a contour set (with contourf).",
     "output_type": "error",
     "traceback": [
      "\u001B[1;31m---------------------------------------------------------------------------\u001B[0m",
      "\u001B[1;31mRuntimeError\u001B[0m                              Traceback (most recent call last)",
      "Cell \u001B[1;32mIn[14], line 13\u001B[0m\n\u001B[0;32m     10\u001B[0m fig\u001B[38;5;241m.\u001B[39mset_size_inches(fig_width \u001B[38;5;241m*\u001B[39m scale_factor, fig_height)\n\u001B[0;32m     11\u001B[0m \u001B[38;5;66;03m# plt.imshow(med, cmap='coolwarm', aspect='equal', extent=extent, vmin=-5, vmax=5, interpolation='none', origin='lower')\u001B[39;00m\n\u001B[0;32m     12\u001B[0m \u001B[38;5;66;03m# place colorbar at bottom of image\u001B[39;00m\n\u001B[1;32m---> 13\u001B[0m \u001B[43mplt\u001B[49m\u001B[38;5;241;43m.\u001B[39;49m\u001B[43mcolorbar\u001B[49m\u001B[43m(\u001B[49m\u001B[43mlabel\u001B[49m\u001B[38;5;241;43m=\u001B[39;49m\u001B[38;5;124;43mr\u001B[39;49m\u001B[38;5;124;43m'\u001B[39;49m\u001B[38;5;124;43mSwitch parameter $\u001B[39;49m\u001B[38;5;124;43m{\u001B[39;49m\u001B[38;5;124;43m\\\u001B[39;49m\u001B[38;5;124;43mkappa}$\u001B[39;49m\u001B[38;5;124;43m'\u001B[39;49m\u001B[43m,\u001B[49m\u001B[43m \u001B[49m\u001B[43mpad\u001B[49m\u001B[38;5;241;43m=\u001B[39;49m\u001B[38;5;241;43m0.2\u001B[39;49m\u001B[43m,\u001B[49m\u001B[43m \u001B[49m\u001B[43mfraction\u001B[49m\u001B[38;5;241;43m=\u001B[39;49m\u001B[38;5;241;43m0.05\u001B[39;49m\u001B[43m,\u001B[49m\u001B[43m \u001B[49m\u001B[43morientation\u001B[49m\u001B[38;5;241;43m=\u001B[39;49m\u001B[38;5;124;43m'\u001B[39;49m\u001B[38;5;124;43mhorizontal\u001B[39;49m\u001B[38;5;124;43m'\u001B[39;49m\u001B[43m)\u001B[49m\n\u001B[0;32m     14\u001B[0m plt\u001B[38;5;241m.\u001B[39mxlabel(\u001B[38;5;124mr\u001B[39m\u001B[38;5;124m'\u001B[39m\u001B[38;5;124mSwitch threshold $\u001B[39m\u001B[38;5;124m\\\u001B[39m\u001B[38;5;124mtheta$\u001B[39m\u001B[38;5;124m'\u001B[39m)\n\u001B[0;32m     15\u001B[0m plt\u001B[38;5;241m.\u001B[39mylabel(\u001B[38;5;124mr\u001B[39m\u001B[38;5;124m'\u001B[39m\u001B[38;5;124mDeath rate $\u001B[39m\u001B[38;5;124m\\\u001B[39m\u001B[38;5;124mdelta$\u001B[39m\u001B[38;5;124m'\u001B[39m)\n",
      "File \u001B[1;32mC:\\ProgramData\\anaconda3\\envs\\py311\\Lib\\site-packages\\matplotlib\\pyplot.py:2133\u001B[0m, in \u001B[0;36mcolorbar\u001B[1;34m(mappable, cax, ax, **kwargs)\u001B[0m\n\u001B[0;32m   2131\u001B[0m     mappable \u001B[38;5;241m=\u001B[39m gci()\n\u001B[0;32m   2132\u001B[0m     \u001B[38;5;28;01mif\u001B[39;00m mappable \u001B[38;5;129;01mis\u001B[39;00m \u001B[38;5;28;01mNone\u001B[39;00m:\n\u001B[1;32m-> 2133\u001B[0m         \u001B[38;5;28;01mraise\u001B[39;00m \u001B[38;5;167;01mRuntimeError\u001B[39;00m(\u001B[38;5;124m'\u001B[39m\u001B[38;5;124mNo mappable was found to use for colorbar \u001B[39m\u001B[38;5;124m'\u001B[39m\n\u001B[0;32m   2134\u001B[0m                            \u001B[38;5;124m'\u001B[39m\u001B[38;5;124mcreation. First define a mappable such as \u001B[39m\u001B[38;5;124m'\u001B[39m\n\u001B[0;32m   2135\u001B[0m                            \u001B[38;5;124m'\u001B[39m\u001B[38;5;124man image (with imshow) or a contour set (\u001B[39m\u001B[38;5;124m'\u001B[39m\n\u001B[0;32m   2136\u001B[0m                            \u001B[38;5;124m'\u001B[39m\u001B[38;5;124mwith contourf).\u001B[39m\u001B[38;5;124m'\u001B[39m)\n\u001B[0;32m   2137\u001B[0m ret \u001B[38;5;241m=\u001B[39m gcf()\u001B[38;5;241m.\u001B[39mcolorbar(mappable, cax\u001B[38;5;241m=\u001B[39mcax, ax\u001B[38;5;241m=\u001B[39max, \u001B[38;5;241m*\u001B[39m\u001B[38;5;241m*\u001B[39mkwargs)\n\u001B[0;32m   2138\u001B[0m \u001B[38;5;28;01mreturn\u001B[39;00m ret\n",
      "\u001B[1;31mRuntimeError\u001B[0m: No mappable was found to use for colorbar creation. First define a mappable such as an image (with imshow) or a contour set (with contourf)."
     ]
    },
    {
     "data": {
      "text/plain": "<Figure size 448x480 with 1 Axes>",
      "image/png": "[encoded data removed]"
     },
     "metadata": {},
     "output_type": "display_data"
    }
   ],
   "source": [
    "# Create a figure using the style\n",
    "fig, ax = plt.subplots()\n",
    "# Get the current figure size\n",
    "fig_width, fig_height = fig.get_size_inches()\n",
    "\n",
    "bbox_attr = dict(boxstyle='circle,pad=0.2', edgecolor='black', facecolor='white', linewidth=1)\n",
    "\n",
    "# Set the new figure size by multiplying it by the scale factor\n",
    "scale_factor = 0.7\n",
    "fig.set_size_inches(fig_width * scale_factor, fig_height)\n",
    "# plt.imshow(med, cmap='coolwarm', aspect='equal', extent=extent, vmin=-5, vmax=5, interpolation='none', origin='lower')\n",
    "# place colorbar at bottom of image\n",
    "plt.colorbar(label=r'Switch parameter ${\\kappa}$', pad=0.2, fraction=0.05, orientation='horizontal')\n",
    "plt.xlabel(r'Switch threshold $\\theta$')\n",
    "plt.ylabel(r'Death rate $\\delta$')\n",
    "plt.text(0.2, 0., '1', fontsize=8, weight='bold',\n",
    "        ha='center',\n",
    "        va='center',\n",
    "        bbox=bbox_attr\n",
    "         )\n",
    "plt.text(0.2, 0.2, '2', fontsize=8, weight='bold',\n",
    "        ha='center',\n",
    "        va='center',\n",
    "        bbox=bbox_attr\n",
    "         )\n",
    "plt.text(1., 0.2, '3', fontsize=8, weight='bold', bbox=bbox_attr,\n",
    "        ha='center',\n",
    "        va='center',\n",
    "         )\n",
    "contour = plt.contour(thetas, r_ds, 1 - np.array(r_ds)[:, np.newaxis] - np.array(thetas)[np.newaxis, :], levels=[0], colors='k', linestyles='dashed', extent=extent, origin='lower')\n",
    "# custom_line = Line2D([0], [0], color='k', linestyle='dashed', label=r'$\\rho_{\\mathcal{N}}^{\\max} - \\theta = 0$')\n",
    "custom_line = Line2D([0], [0], color='k', linestyle='dashed', label='Prediction')\n",
    "plt.legend(handles=[custom_line], loc='lower right', bbox_to_anchor=(1, 1))\n",
    "# plt.savefig('evolutionary_regimes.svg', bbox_inches='tight')\n",
    "# plt.savefig('evolutionary_regimes.pdf', bbox_inches='tight')"
   ],
   "metadata": {
    "collapsed": false
   }
  },
  {
   "cell_type": "code",
   "execution_count": 15,
   "outputs": [
    {
     "ename": "NameError",
     "evalue": "name 'Line2D' is not defined",
     "output_type": "error",
     "traceback": [
      "\u001B[1;31m---------------------------------------------------------------------------\u001B[0m",
      "\u001B[1;31mNameError\u001B[0m                                 Traceback (most recent call last)",
      "Cell \u001B[1;32mIn[15], line 32\u001B[0m\n\u001B[0;32m     30\u001B[0m contour \u001B[38;5;241m=\u001B[39m plt\u001B[38;5;241m.\u001B[39mcontour(thetas, r_ds, \u001B[38;5;241m1\u001B[39m \u001B[38;5;241m-\u001B[39m np\u001B[38;5;241m.\u001B[39marray(r_ds)[:, np\u001B[38;5;241m.\u001B[39mnewaxis] \u001B[38;5;241m-\u001B[39m np\u001B[38;5;241m.\u001B[39marray(thetas)[np\u001B[38;5;241m.\u001B[39mnewaxis, :], levels\u001B[38;5;241m=\u001B[39m[\u001B[38;5;241m0\u001B[39m], colors\u001B[38;5;241m=\u001B[39m\u001B[38;5;124m'\u001B[39m\u001B[38;5;124mk\u001B[39m\u001B[38;5;124m'\u001B[39m, linestyles\u001B[38;5;241m=\u001B[39m\u001B[38;5;124m'\u001B[39m\u001B[38;5;124mdashed\u001B[39m\u001B[38;5;124m'\u001B[39m, extent\u001B[38;5;241m=\u001B[39mextent, origin\u001B[38;5;241m=\u001B[39m\u001B[38;5;124m'\u001B[39m\u001B[38;5;124mlower\u001B[39m\u001B[38;5;124m'\u001B[39m)\n\u001B[0;32m     31\u001B[0m \u001B[38;5;66;03m# custom_line = Line2D([0], [0], color='k', linestyle='dashed', label=r'$\\rho_{\\mathcal{N}}^{\\max} - \\theta = 0$')\u001B[39;00m\n\u001B[1;32m---> 32\u001B[0m custom_line \u001B[38;5;241m=\u001B[39m \u001B[43mLine2D\u001B[49m([\u001B[38;5;241m0\u001B[39m], [\u001B[38;5;241m0\u001B[39m], color\u001B[38;5;241m=\u001B[39m\u001B[38;5;124m'\u001B[39m\u001B[38;5;124mk\u001B[39m\u001B[38;5;124m'\u001B[39m, linestyle\u001B[38;5;241m=\u001B[39m\u001B[38;5;124m'\u001B[39m\u001B[38;5;124mdashed\u001B[39m\u001B[38;5;124m'\u001B[39m, label\u001B[38;5;241m=\u001B[39m\u001B[38;5;124m'\u001B[39m\u001B[38;5;124mPrediction\u001B[39m\u001B[38;5;124m'\u001B[39m)\n\u001B[0;32m     33\u001B[0m plt\u001B[38;5;241m.\u001B[39mlegend(handles\u001B[38;5;241m=\u001B[39m[custom_line], loc\u001B[38;5;241m=\u001B[39m\u001B[38;5;124m'\u001B[39m\u001B[38;5;124mlower right\u001B[39m\u001B[38;5;124m'\u001B[39m, bbox_to_anchor\u001B[38;5;241m=\u001B[39m(\u001B[38;5;241m1\u001B[39m, \u001B[38;5;241m1\u001B[39m))\n\u001B[0;32m     34\u001B[0m \u001B[38;5;66;03m# plt.savefig('evolutionary_regimes.svg', bbox_inches='tight')\u001B[39;00m\n\u001B[0;32m     35\u001B[0m \u001B[38;5;66;03m# plt.savefig('evolutionary_regimes.pdf', bbox_inches='tight')\u001B[39;00m\n",
      "\u001B[1;31mNameError\u001B[0m: name 'Line2D' is not defined"
     ]
    },
    {
     "data": {
      "text/plain": "<Figure size 448x480 with 2 Axes>",
      "image/png": "[encoded data removed]"
     },
     "metadata": {},
     "output_type": "display_data"
    }
   ],
   "source": [
    "# Create a figure using the style\n",
    "fig, ax = plt.subplots()\n",
    "# Get the current figure size\n",
    "fig_width, fig_height = fig.get_size_inches()\n",
    "\n",
    "bbox_attr = dict(boxstyle='circle,pad=0.2', edgecolor='black', facecolor='white', linewidth=1)\n",
    "\n",
    "# Set the new figure size by multiplying it by the scale factor\n",
    "scale_factor = 0.7\n",
    "fig.set_size_inches(fig_width * scale_factor, fig_height)\n",
    "plt.imshow(meankappa, cmap='coolwarm', aspect='equal', extent=extent, vmin=-5, vmax=5, interpolation='none', origin='lower')\n",
    "# place colorbar at bottom of image\n",
    "plt.colorbar(label=r'Switch parameter ${\\kappa}$', pad=0.2, fraction=0.05, orientation='horizontal')\n",
    "plt.xlabel(r'Switch threshold $\\theta$')\n",
    "plt.ylabel(r'Death rate $\\delta$')\n",
    "plt.text(0.2, 0., '1', fontsize=8, weight='bold',\n",
    "        ha='center',\n",
    "        va='center',\n",
    "        bbox=bbox_attr\n",
    "         )\n",
    "plt.text(0.2, 0.2, '2', fontsize=8, weight='bold',\n",
    "        ha='center',\n",
    "        va='center',\n",
    "        bbox=bbox_attr\n",
    "         )\n",
    "plt.text(1., 0.2, '3', fontsize=8, weight='bold', bbox=bbox_attr,\n",
    "        ha='center',\n",
    "        va='center',\n",
    "         )\n",
    "contour = plt.contour(thetas, r_ds, 1 - np.array(r_ds)[:, np.newaxis] - np.array(thetas)[np.newaxis, :], levels=[0], colors='k', linestyles='dashed', extent=extent, origin='lower')\n",
    "# custom_line = Line2D([0], [0], color='k', linestyle='dashed', label=r'$\\rho_{\\mathcal{N}}^{\\max} - \\theta = 0$')\n",
    "custom_line = Line2D([0], [0], color='k', linestyle='dashed', label='Prediction')\n",
    "plt.legend(handles=[custom_line], loc='lower right', bbox_to_anchor=(1, 1))\n",
    "# plt.savefig('evolutionary_regimes.svg', bbox_inches='tight')\n",
    "# plt.savefig('evolutionary_regimes.pdf', bbox_inches='tight')"
   ],
   "metadata": {
    "collapsed": false,
    "ExecuteTime": {
     "start_time": "2023-04-14T17:35:10.671712Z",
     "end_time": "2023-04-14T17:35:11.027938Z"
    }
   }
  },
  {
   "cell_type": "code",
   "execution_count": 16,
   "outputs": [],
   "source": [
    "import numpy as np\n",
    "import matplotlib.pyplot as plt\n",
    "from lgca import get_lgca\n",
    "from itertools import product\n",
    "import pickle as pkl\n",
    "\n",
    "PATH = '.\\\\data\\\\gog\\\\nonlocaldensity_10reps\\\\'\n",
    "parameters = np.load(PATH + 'params.npz', allow_pickle=True)\n",
    "PATH = '.\\\\data\\\\gog\\\\nonlocaldensity_recurrence\\\\'\n",
    "constparams = parameters['constparams'].item()\n",
    "r_ds = parameters['r_ds']\n",
    "thetas = parameters['thetas']\n",
    "reps = 10\n",
    "dtheta = (thetas[1] - thetas[0]) / 2\n",
    "dr_ds = (r_ds[1] - r_ds[0]) / 2\n",
    "rec_time = np.zeros((len(r_ds), len(thetas), reps), dtype=int)\n",
    "rec_time = np.ma.array(rec_time, mask=True)\n",
    "for index in product(np.arange(0, len(r_ds)), np.arange(0, len(thetas))):\n",
    "    for i in range(reps):\n",
    "        with open(PATH + 'data{}.pkl'.format(index + (i, 0,)), 'rb') as f:\n",
    "            d = pkl.load(f)\n",
    "        rec_time[index + (i,)] = d['tmax']\n",
    "        rec_time.mask[index + (i,)] = False if d['n_it'] > 0 else True"
   ],
   "metadata": {
    "collapsed": false,
    "ExecuteTime": {
     "start_time": "2023-04-25T15:43:53.156630Z",
     "end_time": "2023-04-25T15:44:57.849656Z"
    }
   }
  },
  {
   "cell_type": "code",
   "execution_count": 17,
   "outputs": [],
   "source": [
    "from goorgrow.fig2 import label_axes\n",
    "from mpl_toolkits.axes_grid1 import make_axes_locatable\n"
   ],
   "metadata": {
    "collapsed": false,
    "ExecuteTime": {
     "start_time": "2023-04-25T15:44:57.853649Z",
     "end_time": "2023-04-25T15:44:57.876083Z"
    }
   }
  },
  {
   "cell_type": "code",
   "execution_count": 18,
   "outputs": [
    {
     "data": {
      "text/plain": "<Figure size 640x480 with 8 Axes>",
      "image/png": "[encoded data removed]"
     },
     "metadata": {},
     "output_type": "display_data"
    }
   ],
   "source": [
    "# create a figure with 4 subplots\n",
    "fig, ax = plt.subplots(2, 2, sharex=True, sharey=True)\n",
    "# Get the current figure size\n",
    "fig_width, fig_height = fig.get_size_inches()\n",
    "# fig_height *= 1.5\n",
    "fig.set_size_inches(fig_width, fig_height)\n",
    "\n",
    "plt.sca(ax[0, 0])\n",
    "# plt.xlabel(r'Switch threshold $\\theta$')\n",
    "# plt.ylabel(r'Death rate $\\delta$')\n",
    "plt.imshow(meankappa, cmap='coolwarm', aspect='equal', extent=extent, vmin=-5, vmax=5, interpolation='none', origin='lower')\n",
    "# insert color bar to the right of image with the same height\n",
    "divider = make_axes_locatable(ax[0,0])\n",
    "cax = divider.append_axes(\"right\", size=\"5%\", pad=0.1)\n",
    "cbar = plt.colorbar(label=r'Switch ${\\kappa}$', pad=0.2, fraction=0.05, use_gridspec=True, cax=cax)\n",
    "# plt.colorbar(label=r'Switch parameter ${\\kappa}$', pad=0.2, fraction=0.05, orientation='vertical')\n",
    "# plt.xlabel(r'Switch threshold $\\theta$')\n",
    "# plt.ylabel(r'Death rate $\\delta$')\n",
    "plt.sca(ax[0, 0])\n",
    "\n",
    "plt.text(0.2, 0., '1', fontsize=8, weight='bold',\n",
    "        ha='center',\n",
    "        va='center',\n",
    "        bbox=bbox_attr\n",
    "         )\n",
    "plt.text(0.2, 0.2, '2', fontsize=8, weight='bold',\n",
    "        ha='center',\n",
    "        va='center',\n",
    "        bbox=bbox_attr\n",
    "         )\n",
    "plt.text(1., 0.2, '3', fontsize=8, weight='bold', bbox=bbox_attr,\n",
    "        ha='center',\n",
    "        va='center',\n",
    "         )\n",
    "contour = plt.contour(thetas, r_ds, 1 - np.array(r_ds)[:, np.newaxis] - np.array(thetas)[np.newaxis, :], levels=[0], colors='k', linestyles='dashed', extent=extent, origin='lower')\n",
    "# custom_line = Line2D([0], [0], color='k', linestyle='dashed', label=r'$\\rho_{\\mathcal{N}}^{\\max} - \\theta = 0$')\n",
    "# custom_line = Line2D([0], [0], color='k', linestyle='dashed', label='Prediction')\n",
    "# plt.legend(handles=[custom_line], loc='lower right', bbox_to_anchor=(1, 1))\n",
    "plt.title('Average switch')\n",
    "\n",
    "plt.sca(ax[0, 1])\n",
    "plt.imshow(mean_phenotype_entropy, aspect='equal', vmin=0, vmax=1, extent=extent, origin='lower')\n",
    "divider = make_axes_locatable(ax[0,1])\n",
    "cax = divider.append_axes(\"right\", size=\"5%\", pad=0.1)\n",
    "plt.colorbar(label=r'Entropy', pad=0.2, fraction=0.05, orientation='vertical', ticks=[0, 1], cax=cax, use_gridspec=True)\n",
    "plt.sca(ax[0, 1])\n",
    "plt.text(0.2, 0., '1', fontsize=8, weight='bold',\n",
    "        ha='center',\n",
    "        va='center',\n",
    "        bbox=bbox_attr\n",
    "         )\n",
    "plt.text(0.2, 0.2, '2', fontsize=8, weight='bold',\n",
    "        ha='center',\n",
    "        va='center',\n",
    "        bbox=bbox_attr\n",
    "         )\n",
    "plt.text(1., 0.2, '3', fontsize=8, weight='bold', bbox=bbox_attr,\n",
    "        ha='center',\n",
    "        va='center',\n",
    "         )\n",
    "contour = plt.contour(thetas, r_ds, 1 - np.array(r_ds)[:, np.newaxis] - np.array(thetas)[np.newaxis, :], levels=[0], colors='k', linestyles='dashed', extent=extent, origin='lower')\n",
    "plt.title('Phenotypic entropy')\n",
    "\n",
    "plt.sca(ax[1, 0])\n",
    "plt.imshow(mean_genetic_entropy, aspect='equal', extent=extent, origin='lower', vmin=1, vmax=4)\n",
    "divider = make_axes_locatable(ax[1, 0])\n",
    "cax = divider.append_axes(\"right\", size=\"5%\", pad=0.1)\n",
    "plt.colorbar(label=r'Entropy', pad=0.2, fraction=0.05, ticks=[1, 4], cax=cax, use_gridspec=True)\n",
    "plt.sca(ax[1, 0])\n",
    "plt.text(0.2, 0., '1', fontsize=8, weight='bold',\n",
    "        ha='center',\n",
    "        va='center',\n",
    "        bbox=bbox_attr\n",
    "         )\n",
    "plt.text(0.2, 0.2, '2', fontsize=8, weight='bold',\n",
    "        ha='center',\n",
    "        va='center',\n",
    "        bbox=bbox_attr\n",
    "         )\n",
    "plt.text(1., 0.2, '3', fontsize=8, weight='bold', bbox=bbox_attr,\n",
    "        ha='center',\n",
    "        va='center',\n",
    "         )\n",
    "contour = plt.contour(thetas, r_ds, 1 - np.array(r_ds)[:, np.newaxis] - np.array(thetas)[np.newaxis, :], levels=[0], colors='k', linestyles='dashed', extent=extent, origin='lower')\n",
    "plt.title('Genetic entropy')\n",
    "# plt.ylabel(r'Death rate $\\delta$')\n",
    "\n",
    "plt.sca(ax[-1, -1])\n",
    "plt.imshow(rec_time.mean(-1), aspect='equal', extent=extent, origin='lower', )\n",
    "plt.text(0.2, 0., '1', fontsize=8, weight='bold',\n",
    "        ha='center',\n",
    "        va='center',\n",
    "        bbox=bbox_attr\n",
    "         )\n",
    "plt.text(0.2, 0.2, '2', fontsize=8, weight='bold',\n",
    "        ha='center',\n",
    "        va='center',\n",
    "        bbox=bbox_attr\n",
    "         )\n",
    "plt.text(1., 0.2, '3', fontsize=8, weight='bold', bbox=bbox_attr,\n",
    "        ha='center',\n",
    "        va='center',\n",
    "         )\n",
    "divider = make_axes_locatable(ax[1,1])\n",
    "cax = divider.append_axes(\"right\", size=\"5%\", pad=0.1)\n",
    "plt.colorbar(label=r'Recurrence $T$', pad=0.2, fraction=0.05, orientation='vertical', use_gridspec=True, cax=cax)\n",
    "plt.sca(ax[-1, -1])\n",
    "contour = plt.contour(thetas, r_ds, 1 - np.array(r_ds)[:, np.newaxis] - np.array(thetas)[np.newaxis, :], levels=[0], colors='k', linestyles='dashed', extent=extent, origin='lower')\n",
    "plt.ylim(-dr_ds, r_ds[-1]+dr_ds)\n",
    "plt.title('Recurrence time')\n",
    "plt.xticks([0, 0.5, 1])\n",
    "fig.supxlabel(r'Switch threshold $\\theta$')\n",
    "fig.supylabel(r'Death rate $\\delta$')\n",
    "label_axes(fig, labels=['A', 'B', 'C', 'D', '', '', '', ''])\n",
    "fig.tight_layout()\n",
    "# plt.savefig('evolutionary_regimes.pdf', bbox_inches='tight')\n",
    "# plt.savefig('evolutionary_regimes.svg', bbox_inches='tight')"
   ],
   "metadata": {
    "collapsed": false,
    "ExecuteTime": {
     "start_time": "2023-04-25T15:44:57.886071Z",
     "end_time": "2023-04-25T15:44:58.693813Z"
    }
   }
  },
  {
   "cell_type": "code",
   "execution_count": 19,
   "outputs": [],
   "source": [
    "import pandas as pd\n",
    "import seaborn as sns\n",
    "from mpl_toolkits.mplot3d import Axes3D"
   ],
   "metadata": {
    "collapsed": false,
    "ExecuteTime": {
     "start_time": "2023-04-25T15:44:58.693813Z",
     "end_time": "2023-04-25T15:44:58.701814Z"
    }
   }
  },
  {
   "cell_type": "code",
   "execution_count": 20,
   "outputs": [],
   "source": [
    "kappas_r_t_df = np.zeros((len(r_ds), len(thetas), reps))\n",
    "for i in range(len(r_ds)):\n",
    "    for j in range(len(thetas)):\n",
    "        for k in range(reps):\n",
    "            kappas_r_t_df[i, j, k] = np.mean(kappas_r_t[i][j][k])"
   ],
   "metadata": {
    "collapsed": false,
    "ExecuteTime": {
     "start_time": "2023-04-25T15:45:13.532384Z",
     "end_time": "2023-04-25T15:45:16.103691Z"
    }
   }
  },
  {
   "cell_type": "code",
   "execution_count": null,
   "outputs": [],
   "source": [
    "# kappas_r_t, genetic_entropy, phenotype_entropy, rec_time, r_ds, thetas"
   ],
   "metadata": {
    "collapsed": false
   }
  },
  {
   "cell_type": "code",
   "execution_count": 23,
   "outputs": [],
   "source": [
    "x, y, z = kappas_r_t_df.shape"
   ],
   "metadata": {
    "collapsed": false,
    "ExecuteTime": {
     "start_time": "2023-04-25T15:45:27.544135Z",
     "end_time": "2023-04-25T15:45:27.547135Z"
    }
   }
  },
  {
   "cell_type": "code",
   "execution_count": 24,
   "outputs": [],
   "source": [
    "combinations = x * y\n",
    "total_repetitions = combinations * z"
   ],
   "metadata": {
    "collapsed": false,
    "ExecuteTime": {
     "start_time": "2023-04-25T15:45:29.994686Z",
     "end_time": "2023-04-25T15:45:30.011703Z"
    }
   }
  },
  {
   "cell_type": "code",
   "execution_count": 25,
   "outputs": [],
   "source": [
    "expanded_r_ds = np.repeat(r_ds, y).repeat(z)\n",
    "expanded_thetas = np.tile(thetas, x).repeat(z)\n"
   ],
   "metadata": {
    "collapsed": false,
    "ExecuteTime": {
     "start_time": "2023-04-25T15:45:31.658981Z",
     "end_time": "2023-04-25T15:45:31.660986Z"
    }
   }
  },
  {
   "cell_type": "code",
   "execution_count": 26,
   "outputs": [],
   "source": [
    "params_df = pd.DataFrame({\n",
    "    'r_d': expanded_r_ds,\n",
    "    'theta': expanded_thetas,\n",
    "    'repetition': np.tile(np.arange(z), combinations)\n",
    "}, index=np.arange(total_repetitions))"
   ],
   "metadata": {
    "collapsed": false,
    "ExecuteTime": {
     "start_time": "2023-04-25T15:45:33.005304Z",
     "end_time": "2023-04-25T15:45:33.036516Z"
    }
   }
  },
  {
   "cell_type": "code",
   "execution_count": 28,
   "outputs": [],
   "source": [
    "kappas_flat = kappas_r_t_df.flatten()\n",
    "genetic_entropy_flat = genetic_entropy.flatten()\n",
    "phenotype_entropy_flat = phenotype_entropy.flatten()\n",
    "rectime_flat = rec_time.flatten()\n",
    "\n",
    "kappas_df = pd.DataFrame({'kappa': kappas_flat}, index=np.arange(total_repetitions))\n",
    "genetic_entropy_df = pd.DataFrame({'genetic_entropy': genetic_entropy_flat}, index=np.arange(total_repetitions))\n",
    "phenotype_entropy_df = pd.DataFrame({'phenotype_entropy': phenotype_entropy_flat}, index=np.arange(total_repetitions))\n",
    "rectime_df = pd.DataFrame({'rectime': rectime_flat}, index=np.arange(total_repetitions))"
   ],
   "metadata": {
    "collapsed": false,
    "ExecuteTime": {
     "start_time": "2023-04-25T15:45:41.151329Z",
     "end_time": "2023-04-25T15:45:41.181339Z"
    }
   }
  },
  {
   "cell_type": "code",
   "execution_count": 29,
   "outputs": [],
   "source": [
    "df = pd.concat([params_df, kappas_df, genetic_entropy_df, phenotype_entropy_df, rectime_df], axis=1)"
   ],
   "metadata": {
    "collapsed": false,
    "ExecuteTime": {
     "start_time": "2023-04-25T15:45:43.038346Z",
     "end_time": "2023-04-25T15:45:43.057373Z"
    }
   }
  },
  {
   "cell_type": "code",
   "execution_count": 30,
   "outputs": [
    {
     "data": {
      "text/plain": "   r_d  theta  repetition     kappa  genetic_entropy  phenotype_entropy   \n0  0.0    0.0           0 -1.635913         2.687159           0.694025  \\\n1  0.0    0.0           1 -0.865879         2.060866           0.807282   \n2  0.0    0.0           2 -1.545359         2.737255           0.758394   \n3  0.0    0.0           3 -1.495602         2.615735           0.744453   \n4  0.0    0.0           4 -1.837688         2.675741           0.650427   \n\n   rectime  \n0    129.0  \n1    154.0  \n2    140.0  \n3    165.0  \n4    122.0  ",
      "text/html": "<div>\n<style scoped>\n    .dataframe tbody tr th:only-of-type {\n        vertical-align: middle;\n    }\n\n    .dataframe tbody tr th {\n        vertical-align: top;\n    }\n\n    .dataframe thead th {\n        text-align: right;\n    }\n</style>\n<table border=\"1\" class=\"dataframe\">\n  <thead>\n    <tr style=\"text-align: right;\">\n      <th></th>\n      <th>r_d</th>\n      <th>theta</th>\n      <th>repetition</th>\n      <th>kappa</th>\n      <th>genetic_entropy</th>\n      <th>phenotype_entropy</th>\n      <th>rectime</th>\n    </tr>\n  </thead>\n  <tbody>\n    <tr>\n      <th>0</th>\n      <td>0.0</td>\n      <td>0.0</td>\n      <td>0</td>\n      <td>-1.635913</td>\n      <td>2.687159</td>\n      <td>0.694025</td>\n      <td>129.0</td>\n    </tr>\n    <tr>\n      <th>1</th>\n      <td>0.0</td>\n      <td>0.0</td>\n      <td>1</td>\n      <td>-0.865879</td>\n      <td>2.060866</td>\n      <td>0.807282</td>\n      <td>154.0</td>\n    </tr>\n    <tr>\n      <th>2</th>\n      <td>0.0</td>\n      <td>0.0</td>\n      <td>2</td>\n      <td>-1.545359</td>\n      <td>2.737255</td>\n      <td>0.758394</td>\n      <td>140.0</td>\n    </tr>\n    <tr>\n      <th>3</th>\n      <td>0.0</td>\n      <td>0.0</td>\n      <td>3</td>\n      <td>-1.495602</td>\n      <td>2.615735</td>\n      <td>0.744453</td>\n      <td>165.0</td>\n    </tr>\n    <tr>\n      <th>4</th>\n      <td>0.0</td>\n      <td>0.0</td>\n      <td>4</td>\n      <td>-1.837688</td>\n      <td>2.675741</td>\n      <td>0.650427</td>\n      <td>122.0</td>\n    </tr>\n  </tbody>\n</table>\n</div>"
     },
     "execution_count": 30,
     "metadata": {},
     "output_type": "execute_result"
    }
   ],
   "source": [
    "df.head()"
   ],
   "metadata": {
    "collapsed": false,
    "ExecuteTime": {
     "start_time": "2023-04-25T15:45:44.054476Z",
     "end_time": "2023-04-25T15:45:44.090977Z"
    }
   }
  },
  {
   "cell_type": "code",
   "execution_count": 31,
   "outputs": [],
   "source": [
    "# df.to_csv('treatment.csv', index=False)  # save df to csv"
   ],
   "metadata": {
    "collapsed": false,
    "ExecuteTime": {
     "start_time": "2023-04-25T15:45:51.915696Z",
     "end_time": "2023-04-25T15:45:52.001093Z"
    }
   }
  },
  {
   "cell_type": "code",
   "execution_count": null,
   "outputs": [],
   "source": [],
   "metadata": {
    "collapsed": false
   }
  }
 ],
 "metadata": {
  "kernelspec": {
   "display_name": "Python 3",
   "language": "python",
   "name": "python3"
  },
  "language_info": {
   "codemirror_mode": {
    "name": "ipython",
    "version": 2
   },
   "file_extension": ".py",
   "mimetype": "text/x-python",
   "name": "python",
   "nbconvert_exporter": "python",
   "pygments_lexer": "ipython2",
   "version": "2.7.6"
  }
 },
 "nbformat": 4,
 "nbformat_minor": 0
}
