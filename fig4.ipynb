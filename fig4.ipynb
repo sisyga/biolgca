{
 "cells": [
  {
   "cell_type": "code",
   "execution_count": 38,
   "metadata": {
    "collapsed": true,
    "ExecuteTime": {
     "start_time": "2023-05-11T16:41:01.362112Z",
     "end_time": "2023-05-11T16:41:01.382730Z"
    }
   },
   "outputs": [],
   "source": [
    "import numpy as np\n",
    "import matplotlib.pyplot as plt\n",
    "# from lgca import get_lgca\n",
    "from itertools import product\n",
    "import pickle as pkl\n",
    "from numba import jit, prange\n",
    "from matplotlib.lines import Line2D\n",
    "from goorgrow.fig2 import label_axes\n",
    "from mpl_toolkits.axes_grid1 import make_axes_locatable\n",
    "from itertools import product\n",
    "import pickle as pkl\n",
    "\n",
    "PATH = '.\\\\data\\\\gog\\\\nonlocaldensity_10reps\\\\'\n",
    "parameters = np.load(PATH+'params.npz', allow_pickle=True)\n",
    "\n",
    "constparams = parameters['constparams'].item()\n",
    "r_ds = parameters['r_ds']\n",
    "thetas = parameters['thetas']\n",
    "reps = 10\n",
    "# data = np.load(PATH+'n_pr.npy', allow_pickle=True)"
   ]
  },
  {
   "cell_type": "code",
   "execution_count": 2,
   "outputs": [],
   "source": [
    "kappas_r_t = [[[] for _ in range(len(thetas))] for _ in range(len(r_ds))]\n",
    "resting_cells_r_t = np.zeros((len(r_ds), len(thetas), reps), dtype=int)\n",
    "total_cells_r_t = np.zeros_like(resting_cells_r_t)\n",
    "migrating_cells_r_t = np.zeros_like(resting_cells_r_t)\n",
    "for index in product(np.arange(0, len(r_ds)), np.arange(0, len(thetas))):\n",
    "    for i in range(reps):\n",
    "        with open(PATH+'data{}.pkl'.format(index+(i, 0,)), 'rb') as f:\n",
    "            d = pkl.load(f)\n",
    "        kappas_r_t[index[0]][index[1]].append(list(d['kappa'][d['nodes_t'].sum()]))\n",
    "        resting_cells_r_t[index[0], index[1], i] = len(d['nodes_t'][..., -1].sum())\n",
    "        total_cells_r_t[index[0], index[1], i] = len(d['nodes_t'].sum())\n",
    "\n",
    "migrating_cells_r_t = total_cells_r_t - resting_cells_r_t"
   ],
   "metadata": {
    "collapsed": false,
    "ExecuteTime": {
     "start_time": "2023-05-11T15:43:00.840548Z",
     "end_time": "2023-05-11T15:50:07.096158Z"
    }
   }
  },
  {
   "cell_type": "code",
   "execution_count": 3,
   "outputs": [],
   "source": [
    "resting_fraction_r_t = resting_cells_r_t / total_cells_r_t\n",
    "migration_fraction_r_t = migrating_cells_r_t / total_cells_r_t"
   ],
   "metadata": {
    "collapsed": false,
    "ExecuteTime": {
     "start_time": "2023-05-11T15:50:07.100128Z",
     "end_time": "2023-05-11T15:50:07.105660Z"
    }
   }
  },
  {
   "cell_type": "code",
   "execution_count": 4,
   "outputs": [],
   "source": [
    "phenotype_entropy = - resting_fraction_r_t * np.log2(resting_fraction_r_t) - migration_fraction_r_t * np.log2(migration_fraction_r_t)\n",
    "mean_phenotype_entropy = phenotype_entropy.mean(axis=-1)"
   ],
   "metadata": {
    "collapsed": false,
    "ExecuteTime": {
     "start_time": "2023-05-11T15:50:07.106659Z",
     "end_time": "2023-05-11T15:50:07.110862Z"
    }
   }
  },
  {
   "cell_type": "code",
   "execution_count": 5,
   "outputs": [],
   "source": [
    "dtheta = (thetas[1] - thetas[0]) / 2\n",
    "dr_ds = (r_ds[1] - r_ds[0]) / 2\n",
    "extent = [thetas[0]-dtheta, thetas[-1]+dtheta, r_ds[0]-dr_ds, r_ds[-1]+dr_ds]"
   ],
   "metadata": {
    "collapsed": false,
    "ExecuteTime": {
     "start_time": "2023-05-11T15:50:07.111865Z",
     "end_time": "2023-05-11T15:50:07.117548Z"
    }
   }
  },
  {
   "cell_type": "code",
   "execution_count": 39,
   "outputs": [],
   "source": [
    "bbox_attr = dict(boxstyle='circle,pad=0.2', edgecolor='black', facecolor='white', linewidth=1)\n",
    "plt.imshow(mean_phenotype_entropy, aspect='equal', vmin=0, vmax=1, extent=extent, origin='lower')\n",
    "plt.colorbar(label=r'Entropy', pad=0.2, fraction=0.05, orientation='horizontal', ticks=[0, 1])\n",
    "plt.xlabel(r'Switch threshold $\\theta$')\n",
    "plt.ylabel(r'Death rate $\\delta$')\n",
    "plt.text(0.2, 0., '1', fontsize=8, weight='bold',\n",
    "        ha='center',\n",
    "        va='center',\n",
    "        bbox=bbox_attr\n",
    "         )\n",
    "plt.text(0.2, 0.2, '2', fontsize=8, weight='bold',\n",
    "        ha='center',\n",
    "        va='center',\n",
    "        bbox=bbox_attr\n",
    "         )\n",
    "plt.text(1., 0.2, '3', fontsize=8, weight='bold', bbox=bbox_attr,\n",
    "        ha='center',\n",
    "        va='center',\n",
    "         )\n",
    "contour = plt.contour(thetas, r_ds, 1 - np.array(r_ds)[:, np.newaxis] - np.array(thetas)[np.newaxis, :], levels=[0], colors='k', linestyles='dashed', extent=extent, origin='lower')\n",
    "plt.title('Phenotypic entropy')\n",
    "plt.show()"
   ],
   "metadata": {
    "collapsed": false,
    "ExecuteTime": {
     "start_time": "2023-05-11T16:41:12.656393Z",
     "end_time": "2023-05-11T16:41:13.999170Z"
    }
   }
  },
  {
   "cell_type": "code",
   "execution_count": 7,
   "outputs": [],
   "source": [
    "def estimate_entropy(data):\n",
    "    # Compute histogram of data using numpy's automatic bin selection\n",
    "    hist, bin_edges = np.histogram(data, bins='auto', density=True)\n",
    "\n",
    "    # Calculate bin widths\n",
    "    bin_width = bin_edges[1] - bin_edges[0]\n",
    "    print(hist.sum() * bin_width)\n",
    "\n",
    "    # Create a masked array to handle zero probabilities\n",
    "    probabilities = np.ma.masked_equal(hist, 0)\n",
    "\n",
    "    # Compute the entropy\n",
    "    entropy = -np.ma.sum(probabilities * np.ma.log2(probabilities) * bin_width)\n",
    "\n",
    "    return entropy"
   ],
   "metadata": {
    "collapsed": false,
    "ExecuteTime": {
     "start_time": "2023-05-11T15:50:07.578701Z",
     "end_time": "2023-05-11T15:50:07.583620Z"
    }
   }
  },
  {
   "cell_type": "code",
   "execution_count": 51,
   "outputs": [],
   "source": [
    "@jit(nopython=True, parallel=True, fastmath=True, nogil=True)\n",
    "def raos_quadratic_entropy(kappa):\n",
    "    rqe = 0.\n",
    "    N = len(kappa)\n",
    "    for i in prange(N-1):\n",
    "        for j in prange(i+1, N):\n",
    "            rqe += abs(kappa[i] - kappa[j])\n",
    "    rqe /= N**2\n",
    "    return rqe"
   ],
   "metadata": {
    "collapsed": false,
    "ExecuteTime": {
     "start_time": "2023-05-11T16:55:24.501618Z",
     "end_time": "2023-05-11T16:55:24.508427Z"
    }
   }
  },
  {
   "cell_type": "code",
   "execution_count": 9,
   "outputs": [
    {
     "name": "stdout",
     "output_type": "stream",
     "text": [
      "0.9999999999999928\n",
      "1.0000000000000033\n",
      "1.000000000000004\n",
      "1.000000000000004\n",
      "1.0000000000000007\n",
      "1.0000000000000038\n",
      "1.0000000000000067\n",
      "1.0000000000000002\n",
      "0.9999999999999949\n",
      "0.9999999999999978\n",
      "1.000000000000003\n",
      "0.9999999999999961\n",
      "1.000000000000006\n",
      "0.9999999999999949\n",
      "0.9999999999999971\n",
      "1.0000000000000022\n",
      "0.9999999999999959\n",
      "0.9999999999999937\n",
      "1.0000000000000044\n",
      "1.0000000000000013\n",
      "1.0000000000000047\n",
      "1.0000000000000013\n",
      "0.999999999999998\n",
      "1.0000000000000016\n",
      "1.000000000000008\n",
      "1.000000000000002\n",
      "0.9999999999999962\n",
      "0.9999999999999983\n",
      "1.0000000000000004\n",
      "1.000000000000002\n",
      "0.999999999999997\n",
      "1.0000000000000004\n",
      "1.0000000000000073\n",
      "0.9999999999999969\n",
      "1.0000000000000027\n",
      "0.9999999999999987\n",
      "1.0000000000000018\n",
      "1.0000000000000047\n",
      "0.9999999999999937\n",
      "1.0000000000000047\n",
      "0.9999999999999958\n",
      "1.0000000000000009\n",
      "0.999999999999998\n",
      "1.000000000000005\n",
      "1.000000000000004\n",
      "1.0000000000000033\n",
      "0.9999999999999973\n",
      "1.000000000000002\n",
      "1.0000000000000009\n",
      "0.9999999999999978\n",
      "1.0000000000000042\n",
      "1.000000000000005\n",
      "0.9999999999999933\n",
      "1.0000000000000075\n",
      "0.9999999999999919\n",
      "1.0000000000000082\n",
      "1.0000000000000036\n",
      "1.0000000000000033\n",
      "0.9999999999999976\n",
      "1.0000000000000027\n",
      "0.9999999999999902\n",
      "0.9999999999999892\n",
      "0.999999999999991\n",
      "0.9999999999999992\n",
      "1.00000000000001\n",
      "1.0000000000000067\n",
      "1.0000000000000087\n",
      "1.0000000000000047\n",
      "0.9999999999999918\n",
      "0.9999999999999963\n",
      "0.9999999999999941\n",
      "1.0000000000000029\n",
      "1.0000000000000018\n",
      "1.0000000000000018\n",
      "1.0000000000000024\n",
      "1.0000000000000095\n",
      "1.0000000000000018\n",
      "0.9999999999999989\n",
      "1.0000000000000016\n",
      "0.9999999999999885\n",
      "1.000000000000012\n",
      "1.0000000000000133\n",
      "1.0000000000000022\n",
      "0.9999999999999902\n",
      "1.0000000000000024\n",
      "1.0000000000000047\n",
      "1.0000000000000002\n",
      "1.0000000000000047\n",
      "1.0000000000000118\n",
      "0.9999999999999993\n",
      "0.9999999999999902\n",
      "0.9999999999999942\n",
      "0.9999999999999952\n",
      "0.99999999999999\n",
      "1.0000000000000016\n",
      "1.000000000000014\n",
      "0.9999999999999885\n",
      "0.99999999999999\n",
      "1.000000000000011\n",
      "1.000000000000007\n",
      "0.9999999999999917\n",
      "1.0000000000000044\n",
      "1.0000000000000004\n",
      "1.0000000000000009\n",
      "1.0000000000000095\n",
      "0.999999999999986\n",
      "1.0000000000000104\n",
      "0.9999999999999979\n",
      "1.0000000000000107\n",
      "0.9999999999999988\n",
      "1.0000000000000073\n",
      "0.999999999999998\n",
      "0.9999999999999936\n",
      "1.0000000000000022\n",
      "0.9999999999999996\n",
      "0.9999999999999989\n",
      "1.0000000000000022\n",
      "1.000000000000005\n",
      "1.0000000000000022\n",
      "1.0000000000000073\n",
      "1.0000000000000069\n",
      "0.9999999999999885\n",
      "0.9999999999999954\n",
      "1.0000000000000107\n",
      "0.9999999999999943\n",
      "0.9999999999999956\n",
      "0.9999999999999979\n",
      "1.0000000000000049\n",
      "0.9999999999999918\n",
      "0.9999999999999971\n",
      "0.999999999999992\n",
      "1.0000000000000013\n",
      "0.9999999999999964\n",
      "1.000000000000006\n",
      "0.9999999999999947\n",
      "0.9999999999999993\n",
      "0.999999999999993\n",
      "0.9999999999999994\n",
      "0.9999999999999946\n",
      "0.9999999999999953\n",
      "0.9999999999999962\n",
      "1.0000000000000016\n",
      "1.0000000000000075\n",
      "0.9999999999999994\n",
      "0.9999999999999928\n",
      "1.0000000000000056\n",
      "0.999999999999997\n",
      "0.999999999999989\n",
      "1.0000000000000029\n",
      "0.9999999999999983\n",
      "1.0000000000000004\n",
      "1.0000000000000009\n",
      "0.9999999999999953\n",
      "0.9999999999999998\n",
      "0.9999999999999972\n",
      "0.9999999999999974\n",
      "1.0000000000000024\n",
      "0.9999999999999983\n",
      "0.9999999999999957\n",
      "1.0000000000000007\n",
      "1.0000000000000016\n",
      "0.9999999999999974\n",
      "0.9999999999999981\n",
      "0.9999999999999987\n",
      "0.9999999999999983\n",
      "0.9999999999999979\n",
      "0.9999999999999994\n",
      "0.9999999999999992\n",
      "0.9999999999999974\n",
      "1.0000000000000002\n",
      "1.0000000000000016\n",
      "1.0000000000000007\n",
      "1.0000000000000013\n",
      "0.9999999999999986\n",
      "1.0000000000000007\n",
      "1.0000000000000007\n",
      "0.999999999999999\n",
      "1.0000000000000018\n",
      "1.0000000000000007\n",
      "1.0000000000000022\n",
      "1.0000000000000018\n",
      "1.0000000000000002\n",
      "0.9999999999999991\n",
      "1.0000000000000007\n",
      "1.0000000000000009\n",
      "1.0000000000000016\n",
      "1.0000000000000016\n",
      "0.9999999999999986\n",
      "0.9999999999999992\n",
      "1.0000000000000018\n",
      "1.0000000000000013\n",
      "1.0000000000000007\n",
      "0.9999999999999987\n",
      "0.9999999999999998\n",
      "1.0\n",
      "1.000000000000001\n",
      "0.9999999999999991\n",
      "0.9999999999999992\n",
      "1.0000000000000002\n",
      "1.0000000000000004\n",
      "0.9999999999999974\n",
      "1.000000000000003\n",
      "1.0000000000000007\n",
      "0.9999999999999978\n",
      "0.9999999999999961\n",
      "1.0000000000000044\n",
      "1.0000000000000029\n",
      "0.999999999999997\n",
      "0.9999999999999964\n",
      "1.0000000000000009\n",
      "0.9999999999999989\n",
      "1.000000000000003\n",
      "0.9999999999999931\n",
      "0.9999999999999973\n",
      "0.9999999999999911\n",
      "0.9999999999999913\n",
      "1.0000000000000042\n",
      "1.0000000000000062\n",
      "0.9999999999999959\n",
      "1.000000000000001\n",
      "1.000000000000002\n",
      "1.0000000000000007\n",
      "0.9999999999999986\n",
      "0.9999999999999986\n",
      "0.9999999999999982\n",
      "1.0000000000000022\n",
      "1.0000000000000024\n",
      "0.9999999999999986\n",
      "0.9999999999999988\n",
      "1.0000000000000036\n",
      "0.9999999999999993\n",
      "1.0\n",
      "0.9999999999999996\n",
      "1.0000000000000018\n",
      "1.0000000000000007\n",
      "0.9999999999999959\n",
      "1.0000000000000009\n",
      "0.9999999999999999\n",
      "0.9999999999999962\n",
      "0.9999999999999958\n",
      "0.9999999999999982\n",
      "1.0000000000000033\n",
      "0.9999999999999973\n",
      "0.9999999999999946\n",
      "0.9999999999999913\n",
      "0.9999999999999944\n",
      "0.9999999999999956\n",
      "0.999999999999996\n",
      "1.000000000000001\n",
      "1.0000000000000018\n",
      "0.9999999999999978\n",
      "1.0000000000000033\n",
      "0.9999999999999931\n",
      "0.9999999999999978\n",
      "1.000000000000001\n",
      "0.999999999999997\n",
      "0.9999999999999962\n",
      "0.9999999999999977\n",
      "0.9999999999999981\n",
      "0.9999999999999999\n",
      "1.0000000000000024\n",
      "1.000000000000001\n",
      "0.9999999999999993\n",
      "1.0000000000000029\n",
      "1.000000000000004\n",
      "0.9999999999999967\n",
      "1.0000000000000004\n",
      "0.9999999999999997\n",
      "0.9999999999999992\n",
      "0.9999999999999964\n",
      "1.0000000000000016\n",
      "1.0000000000000027\n",
      "1.0000000000000013\n",
      "1.000000000000003\n",
      "1.0000000000000007\n",
      "0.9999999999999983\n",
      "1.0\n",
      "0.9999999999999992\n",
      "1.0000000000000004\n",
      "1.0000000000000009\n",
      "1.0000000000000009\n",
      "0.9999999999999983\n",
      "0.9999999999999996\n",
      "0.9999999999999989\n",
      "0.9999999999999981\n",
      "1.000000000000001\n",
      "1.0000000000000004\n",
      "1.0000000000000036\n",
      "1.0000000000000016\n",
      "0.999999999999999\n",
      "1.0000000000000013\n",
      "0.9999999999999999\n",
      "1.0000000000000009\n",
      "0.9999999999999997\n",
      "1.0000000000000009\n",
      "1.0\n",
      "1.0000000000000013\n",
      "0.999999999999999\n",
      "1.0000000000000002\n",
      "1.000000000000001\n",
      "0.9999999999999982\n",
      "1.000000000000001\n",
      "1.0000000000000022\n",
      "0.9999999999999996\n",
      "0.9999999999999984\n",
      "1.0000000000000009\n",
      "1.0000000000000009\n",
      "1.0000000000000013\n",
      "0.999999999999998\n",
      "1.000000000000001\n",
      "0.9999999999999982\n",
      "0.9999999999999946\n",
      "0.9999999999999973\n",
      "1.0\n",
      "0.9999999999999956\n",
      "0.9999999999999962\n",
      "1.0000000000000027\n",
      "1.0000000000000042\n",
      "1.000000000000005\n",
      "1.0000000000000033\n",
      "1.000000000000006\n",
      "0.9999999999999984\n",
      "1.0000000000000053\n",
      "0.9999999999999951\n",
      "0.9999999999999951\n",
      "0.9999999999999981\n",
      "0.9999999999999958\n",
      "1.0000000000000013\n",
      "1.0000000000000002\n",
      "1.000000000000003\n",
      "1.0000000000000018\n",
      "1.0000000000000013\n",
      "1.0000000000000007\n",
      "0.9999999999999984\n",
      "1.0000000000000016\n",
      "0.9999999999999983\n",
      "0.9999999999999996\n",
      "1.0000000000000018\n",
      "1.000000000000002\n",
      "0.9999999999999992\n",
      "0.9999999999999999\n",
      "1.0000000000000047\n",
      "0.9999999999999942\n",
      "0.9999999999999967\n",
      "1.0000000000000044\n",
      "1.0000000000000082\n",
      "0.9999999999999978\n",
      "1.000000000000005\n",
      "0.9999999999999946\n",
      "1.0000000000000004\n",
      "1.0000000000000018\n",
      "0.9999999999999982\n",
      "0.9999999999999973\n",
      "0.9999999999999974\n",
      "1.000000000000003\n",
      "1.0000000000000018\n",
      "1.0000000000000056\n",
      "0.9999999999999978\n",
      "0.9999999999999992\n",
      "1.000000000000002\n",
      "1.0000000000000004\n",
      "1.0000000000000022\n",
      "1.0000000000000024\n",
      "0.9999999999999982\n",
      "1.0000000000000033\n",
      "1.0000000000000029\n",
      "0.9999999999999997\n",
      "0.9999999999999933\n",
      "0.9999999999999987\n",
      "0.999999999999996\n",
      "0.9999999999999996\n",
      "1.0000000000000022\n",
      "1.0000000000000013\n",
      "0.9999999999999989\n",
      "1.0000000000000009\n",
      "0.9999999999999986\n",
      "1.0000000000000004\n",
      "1.000000000000003\n",
      "1.0000000000000002\n",
      "0.999999999999999\n",
      "1.0000000000000016\n",
      "1.0000000000000033\n",
      "1.0\n",
      "1.0000000000000022\n",
      "0.9999999999999981\n",
      "1.0000000000000022\n",
      "0.9999999999999971\n",
      "0.9999999999999983\n",
      "1.0000000000000024\n",
      "0.9999999999999996\n",
      "1.0\n",
      "1.0000000000000013\n",
      "0.9999999999999986\n",
      "1.0000000000000009\n",
      "1.0000000000000007\n",
      "1.0000000000000002\n",
      "1.0000000000000004\n",
      "1.0000000000000013\n",
      "0.999999999999999\n",
      "1.000000000000001\n",
      "1.0\n",
      "1.0000000000000002\n",
      "0.9999999999999993\n",
      "0.9999999999999983\n",
      "1.0000000000000007\n",
      "1.0000000000000016\n",
      "1.0000000000000007\n",
      "0.9999999999999989\n",
      "1.0000000000000013\n",
      "0.999999999999999\n",
      "1.0\n",
      "1.0000000000000004\n",
      "0.9999999999999977\n",
      "1.0000000000000038\n",
      "0.9999999999999959\n",
      "0.9999999999999951\n",
      "0.9999999999999981\n",
      "1.0\n",
      "1.000000000000003\n",
      "0.9999999999999964\n",
      "0.9999999999999958\n",
      "0.9999999999999939\n",
      "0.999999999999996\n",
      "1.000000000000004\n",
      "0.9999999999999999\n",
      "1.0000000000000044\n",
      "0.9999999999999953\n",
      "0.9999999999999959\n",
      "1.0000000000000002\n",
      "0.9999999999999966\n",
      "1.0000000000000024\n",
      "1.0000000000000004\n",
      "0.9999999999999993\n",
      "0.9999999999999988\n",
      "0.9999999999999959\n",
      "1.0000000000000036\n",
      "1.0000000000000002\n",
      "1.0000000000000038\n",
      "0.9999999999999964\n",
      "1.0000000000000009\n",
      "1.0000000000000009\n",
      "1.0000000000000022\n",
      "1.0000000000000027\n",
      "1.0000000000000002\n",
      "1.0000000000000007\n",
      "0.9999999999999997\n",
      "0.9999999999999998\n",
      "1.0000000000000002\n",
      "1.0000000000000018\n",
      "1.0000000000000002\n",
      "0.9999999999999997\n",
      "0.9999999999999973\n",
      "1.0000000000000027\n",
      "1.0000000000000013\n",
      "1.0000000000000033\n",
      "0.9999999999999947\n",
      "1.0000000000000064\n",
      "1.0000000000000018\n",
      "0.999999999999993\n",
      "0.9999999999999983\n",
      "1.000000000000008\n",
      "0.9999999999999936\n",
      "0.9999999999999959\n",
      "0.9999999999999988\n",
      "1.0000000000000022\n",
      "0.9999999999999969\n",
      "1.0000000000000033\n",
      "1.000000000000004\n",
      "0.9999999999999967\n",
      "1.0000000000000067\n",
      "0.9999999999999991\n",
      "0.9999999999999986\n",
      "1.0\n",
      "0.9999999999999978\n",
      "0.9999999999999922\n",
      "0.9999999999999987\n",
      "0.999999999999998\n",
      "0.9999999999999998\n",
      "0.9999999999999986\n",
      "1.000000000000002\n",
      "1.0000000000000029\n",
      "1.0000000000000022\n",
      "1.0000000000000016\n",
      "0.9999999999999998\n",
      "1.0000000000000002\n",
      "1.0000000000000004\n",
      "1.0000000000000004\n",
      "0.9999999999999973\n",
      "0.9999999999999969\n",
      "0.9999999999999971\n",
      "1.0000000000000024\n",
      "0.9999999999999971\n",
      "1.000000000000003\n",
      "1.000000000000003\n",
      "1.0000000000000027\n",
      "1.0000000000000002\n",
      "1.0000000000000004\n",
      "0.9999999999999999\n",
      "1.0000000000000007\n",
      "0.999999999999997\n",
      "1.0000000000000009\n",
      "1.0000000000000002\n",
      "0.9999999999999983\n",
      "1.000000000000001\n",
      "0.9999999999999994\n",
      "1.0000000000000022\n",
      "1.0000000000000016\n",
      "1.0\n",
      "1.0000000000000007\n",
      "1.000000000000002\n",
      "1.0000000000000004\n",
      "0.9999999999999969\n",
      "1.0000000000000049\n",
      "1.0000000000000004\n",
      "0.9999999999999969\n",
      "0.9999999999999992\n",
      "0.9999999999999983\n",
      "1.000000000000003\n",
      "1.000000000000002\n",
      "0.9999999999999972\n",
      "0.9999999999999952\n",
      "1.0000000000000058\n",
      "1.0000000000000047\n",
      "0.9999999999999972\n",
      "0.9999999999999969\n",
      "0.9999999999999957\n",
      "0.9999999999999971\n",
      "1.0000000000000024\n",
      "0.9999999999999979\n",
      "1.0000000000000047\n",
      "0.9999999999999979\n",
      "1.000000000000003\n",
      "1.0000000000000056\n",
      "1.000000000000005\n",
      "0.999999999999999\n",
      "0.999999999999995\n",
      "0.9999999999999993\n",
      "0.9999999999999994\n",
      "0.9999999999999982\n",
      "1.0000000000000038\n",
      "1.000000000000004\n",
      "1.0000000000000033\n",
      "0.9999999999999994\n",
      "1.0000000000000007\n",
      "0.999999999999998\n",
      "1.000000000000002\n",
      "1.0000000000000013\n",
      "0.999999999999999\n",
      "1.0000000000000002\n",
      "1.0000000000000027\n",
      "1.0000000000000004\n",
      "1.0\n",
      "1.0000000000000002\n",
      "0.9999999999999999\n",
      "1.0\n",
      "1.0\n",
      "0.9999999999999999\n",
      "1.0\n",
      "1.0000000000000002\n",
      "0.9999999999999998\n",
      "0.9999999999999977\n",
      "1.0000000000000036\n",
      "0.9999999999999998\n",
      "0.9999999999999956\n",
      "1.0\n",
      "1.0000000000000024\n",
      "0.9999999999999938\n",
      "1.0000000000000038\n",
      "0.9999999999999958\n",
      "0.9999999999999991\n",
      "0.9999999999999941\n",
      "1.0000000000000033\n",
      "1.0000000000000007\n",
      "1.000000000000003\n",
      "1.0000000000000033\n",
      "1.0000000000000004\n",
      "1.0000000000000064\n",
      "1.000000000000002\n",
      "1.0000000000000013\n",
      "0.9999999999999994\n",
      "0.9999999999999943\n",
      "1.0000000000000029\n",
      "1.0000000000000033\n",
      "1.0000000000000004\n",
      "0.9999999999999953\n",
      "0.9999999999999998\n",
      "1.000000000000001\n",
      "1.0000000000000042\n",
      "1.0000000000000013\n",
      "1.0000000000000033\n",
      "0.9999999999999991\n",
      "1.0000000000000002\n",
      "0.9999999999999989\n",
      "1.0000000000000007\n",
      "1.0000000000000027\n",
      "1.0000000000000038\n",
      "1.000000000000001\n",
      "0.999999999999996\n",
      "1.0000000000000027\n",
      "1.000000000000001\n",
      "1.000000000000001\n",
      "0.9999999999999999\n",
      "0.9999999999999998\n",
      "0.9999999999999989\n",
      "0.9999999999999991\n",
      "0.9999999999999997\n",
      "1.0000000000000016\n",
      "1.0000000000000038\n",
      "1.0000000000000038\n",
      "1.0000000000000009\n",
      "0.9999999999999952\n",
      "0.9999999999999972\n",
      "0.9999999999999974\n",
      "0.9999999999999971\n",
      "1.000000000000001\n",
      "0.9999999999999966\n",
      "1.000000000000002\n",
      "0.9999999999999967\n",
      "0.9999999999999987\n",
      "0.9999999999999977\n",
      "0.999999999999996\n",
      "1.0000000000000016\n",
      "1.0000000000000016\n",
      "1.0000000000000038\n",
      "1.0000000000000049\n",
      "1.0000000000000007\n",
      "0.999999999999995\n",
      "1.000000000000005\n",
      "1.0000000000000038\n",
      "1.0\n",
      "0.999999999999997\n",
      "1.0000000000000038\n",
      "1.0000000000000058\n",
      "0.9999999999999941\n",
      "1.0000000000000062\n",
      "0.9999999999999981\n",
      "0.9999999999999954\n",
      "0.999999999999995\n",
      "1.000000000000002\n",
      "1.0000000000000016\n",
      "0.9999999999999982\n",
      "1.0000000000000022\n",
      "0.9999999999999972\n",
      "1.0000000000000038\n",
      "1.0000000000000013\n",
      "0.9999999999999982\n",
      "0.9999999999999976\n",
      "0.9999999999999993\n",
      "0.9999999999999991\n",
      "1.0000000000000007\n",
      "0.9999999999999979\n",
      "1.0000000000000036\n",
      "0.999999999999995\n",
      "0.9999999999999972\n",
      "0.9999999999999968\n",
      "0.9999999999999977\n",
      "1.0000000000000007\n",
      "1.000000000000004\n",
      "0.9999999999999949\n",
      "0.9999999999999944\n"
     ]
    }
   ],
   "source": [
    "genetic_entropy = [[[[estimate_entropy(kappas_r_t[i][j][k])] for k in range(reps)] for j in range(len(thetas))] for i in range(len(r_ds))]"
   ],
   "metadata": {
    "collapsed": false,
    "ExecuteTime": {
     "start_time": "2023-05-11T15:50:07.601701Z",
     "end_time": "2023-05-11T15:50:11.962134Z"
    }
   }
  },
  {
   "cell_type": "code",
   "execution_count": 49,
   "outputs": [
    {
     "name": "stderr",
     "output_type": "stream",
     "text": [
      "C:\\ProgramData\\anaconda3\\envs\\py311\\Lib\\site-packages\\numba\\core\\ir_utils.py:2149: NumbaPendingDeprecationWarning: \u001B[1m\n",
      "Encountered the use of a type that is scheduled for deprecation: type 'reflected list' found for argument 'kappa' of function 'raos_quadratic_entropy'.\n",
      "\n",
      "For more information visit https://numba.readthedocs.io/en/stable/reference/deprecation.html#deprecation-of-reflection-for-list-and-set-types\n",
      "\u001B[1m\n",
      "File \"..\\..\\AppData\\Local\\Temp\\ipykernel_16316\\2789773721.py\", line 1:\u001B[0m\n",
      "\u001B[1m<source missing, REPL/exec in use?>\u001B[0m\n",
      "\u001B[0m\n",
      "  warnings.warn(NumbaPendingDeprecationWarning(msg, loc=loc))\n",
      "C:\\ProgramData\\anaconda3\\envs\\py311\\Lib\\site-packages\\numba\\core\\ir_utils.py:2149: NumbaPendingDeprecationWarning: \u001B[1m\n",
      "Encountered the use of a type that is scheduled for deprecation: type 'reflected list' found for argument 'kappa' of function '__numba_parfor_gufunc_0x1603c4f97d0'.\n",
      "\n",
      "For more information visit https://numba.readthedocs.io/en/stable/reference/deprecation.html#deprecation-of-reflection-for-list-and-set-types\n",
      "\u001B[1m\n",
      "File \"<string>\", line 1:\u001B[0m\n",
      "\u001B[1m<source missing, REPL/exec in use?>\u001B[0m\n",
      "\u001B[0m\n",
      "  warnings.warn(NumbaPendingDeprecationWarning(msg, loc=loc))\n"
     ]
    }
   ],
   "source": [
    "quadratic_entropy = [[[[raos_quadratic_entropy(kappas_r_t[i][j][k])] for k in range(reps)] for j in range(len(thetas))] for i in range(len(r_ds))]"
   ],
   "metadata": {
    "collapsed": false,
    "ExecuteTime": {
     "start_time": "2023-05-11T16:47:01.143458Z",
     "end_time": "2023-05-11T16:55:24.493084Z"
    }
   }
  },
  {
   "cell_type": "code",
   "execution_count": 11,
   "outputs": [
    {
     "data": {
      "text/plain": "(array([   9.,   31.,   57.,  101.,  171.,  176.,  210.,  303.,  392.,\n         471.,  549.,  665.,  712.,  835.,  902., 1055., 1080., 1201.,\n        1096., 1171., 1179., 1202., 1310., 1317., 1353., 1385., 1359.,\n        1309., 1296., 1343., 1385., 1243., 1140., 1188., 1226., 1245.,\n        1126., 1105., 1278., 1288., 1300., 1293., 1257., 1157.,  827.,\n         762.,  679.,  639.,  594.,  528.,  388.,  160.,   78.,    7.]),\n array([-19.56058128, -19.17939922, -18.79821717, -18.41703512,\n        -18.03585307, -17.65467102, -17.27348896, -16.89230691,\n        -16.51112486, -16.12994281, -15.74876076, -15.36757871,\n        -14.98639665, -14.6052146 , -14.22403255, -13.8428505 ,\n        -13.46166845, -13.08048639, -12.69930434, -12.31812229,\n        -11.93694024, -11.55575819, -11.17457614, -10.79339408,\n        -10.41221203, -10.03102998,  -9.64984793,  -9.26866588,\n         -8.88748383,  -8.50630177,  -8.12511972,  -7.74393767,\n         -7.36275562,  -6.98157357,  -6.60039151,  -6.21920946,\n         -5.83802741,  -5.45684536,  -5.07566331,  -4.69448126,\n         -4.3132992 ,  -3.93211715,  -3.5509351 ,  -3.16975305,\n         -2.788571  ,  -2.40738894,  -2.02620689,  -1.64502484,\n         -1.26384279,  -0.88266074,  -0.50147869,  -0.12029663,\n          0.26088542,   0.64206747,   1.02324952]),\n <BarContainer object of 54 artists>)"
     },
     "execution_count": 11,
     "metadata": {},
     "output_type": "execute_result"
    },
    {
     "data": {
      "text/plain": "<Figure size 1039.37x642.38 with 1 Axes>",
      "image/png": "[encoded data removed]"
     },
     "metadata": {},
     "output_type": "display_data"
    }
   ],
   "source": [
    "index = -2, -1, 0\n",
    "plt.title(r'$\\delta = {}, \\theta = {}$'.format(r_ds[index[0]], thetas[index[1]]))\n",
    "plt.hist(kappas_r_t[-2][-1][0])"
   ],
   "metadata": {
    "collapsed": false,
    "ExecuteTime": {
     "start_time": "2023-05-11T15:50:11.968155Z",
     "end_time": "2023-05-11T15:50:12.463871Z"
    }
   }
  },
  {
   "cell_type": "code",
   "execution_count": 50,
   "outputs": [],
   "source": [
    "quadratic_entropy = np.array(quadratic_entropy).mean(-1)\n",
    "mean_quadratic_entropy = quadratic_entropy.mean(axis=-1)"
   ],
   "metadata": {
    "collapsed": false,
    "ExecuteTime": {
     "start_time": "2023-05-11T16:55:24.496094Z",
     "end_time": "2023-05-11T16:55:24.499611Z"
    }
   }
  },
  {
   "cell_type": "code",
   "execution_count": 13,
   "outputs": [],
   "source": [
    "genetic_entropy = np.array(genetic_entropy).mean(-1)\n",
    "mean_genetic_entropy = genetic_entropy.mean(axis=-1)"
   ],
   "metadata": {
    "collapsed": false,
    "ExecuteTime": {
     "start_time": "2023-05-11T15:50:12.474547Z",
     "end_time": "2023-05-11T15:50:12.479087Z"
    }
   }
  },
  {
   "cell_type": "code",
   "execution_count": null,
   "outputs": [],
   "source": [],
   "metadata": {
    "collapsed": false
   }
  },
  {
   "cell_type": "code",
   "execution_count": 42,
   "outputs": [],
   "source": [
    "plt.style.use('default')\n",
    "plt.style.use('nature_style.mplstyle')"
   ],
   "metadata": {
    "collapsed": false,
    "ExecuteTime": {
     "start_time": "2023-05-11T16:43:35.584734Z",
     "end_time": "2023-05-11T16:43:35.620082Z"
    }
   }
  },
  {
   "cell_type": "code",
   "execution_count": 43,
   "outputs": [],
   "source": [
    "plt.imshow(mean_genetic_entropy, aspect='equal', extent=extent, origin='lower', vmin=1, vmax=4, cmap='viridis')\n",
    "plt.colorbar(label=r'Entropy', pad=0.2, fraction=0.05, orientation='horizontal', ticks=[1, 4])\n",
    "plt.xlabel(r'Switch threshold $\\theta$')\n",
    "plt.ylabel(r'Death rate $\\delta$')\n",
    "plt.text(0.2, 0., '1', fontsize=8, weight='bold',\n",
    "        ha='center',\n",
    "        va='center',\n",
    "        bbox=bbox_attr\n",
    "         )\n",
    "plt.text(0.2, 0.2, '2', fontsize=8, weight='bold',\n",
    "        ha='center',\n",
    "        va='center',\n",
    "        bbox=bbox_attr\n",
    "         )\n",
    "plt.text(1., 0.2, '3', fontsize=8, weight='bold', bbox=bbox_attr,\n",
    "        ha='center',\n",
    "        va='center',\n",
    "         )\n",
    "contour = plt.contour(thetas, r_ds, 1 - np.array(r_ds)[:, np.newaxis] - np.array(thetas)[np.newaxis, :], levels=[0], colors='k', linestyles='dashed', extent=extent, origin='lower')\n",
    "plt.title('Genetic entropy')\n",
    "plt.show()"
   ],
   "metadata": {
    "collapsed": false,
    "ExecuteTime": {
     "start_time": "2023-05-11T16:43:36.419915Z",
     "end_time": "2023-05-11T16:43:36.510393Z"
    }
   }
  },
  {
   "cell_type": "code",
   "execution_count": 15,
   "outputs": [],
   "source": [
    "# plt.imshow(mean_quadratic_entropy, aspect='equal', extent=extent, origin='lower', cmap='viridis')\n",
    "# plt.colorbar(label=r'Quadratic entropy', pad=0.2, fraction=0.05, orientation='horizontal')\n",
    "# plt.xlabel(r'Switch threshold $\\theta$')\n",
    "# plt.ylabel(r'Death rate $\\delta$')\n",
    "# plt.text(0.2, 0., '1', fontsize=8, weight='bold',\n",
    "#         ha='center',\n",
    "#         va='center',\n",
    "#         bbox=bbox_attr\n",
    "#          )\n",
    "# plt.text(0.2, 0.2, '2', fontsize=8, weight='bold',\n",
    "#         ha='center',\n",
    "#         va='center',\n",
    "#         bbox=bbox_attr\n",
    "#          )\n",
    "# plt.text(1., 0.2, '3', fontsize=8, weight='bold', bbox=bbox_attr,\n",
    "#         ha='center',\n",
    "#         va='center',\n",
    "#          )\n",
    "# contour = plt.contour(thetas, r_ds, 1 - np.array(r_ds)[:, np.newaxis] - np.array(thetas)[np.newaxis, :], levels=[0], colors='k', linestyles='dashed', extent=extent, origin='lower')\n",
    "# plt.title('Quadratic entropy')\n",
    "# plt.show()"
   ],
   "metadata": {
    "collapsed": false,
    "ExecuteTime": {
     "start_time": "2023-05-11T15:50:12.767698Z",
     "end_time": "2023-05-11T15:50:12.771597Z"
    }
   }
  },
  {
   "cell_type": "code",
   "execution_count": 16,
   "outputs": [],
   "source": [
    "# from scipy.stats import skew, kurtosis\n",
    "# from sklearn.mixture import GaussianMixture"
   ],
   "metadata": {
    "collapsed": false,
    "ExecuteTime": {
     "start_time": "2023-05-11T15:50:12.774601Z",
     "end_time": "2023-05-11T15:50:12.776617Z"
    }
   }
  },
  {
   "cell_type": "code",
   "execution_count": 17,
   "outputs": [],
   "source": [
    "# calculate bimodality coefficent\n",
    "# calculate skewness\n",
    "# def bc(x):\n",
    "#     sk = skew(x)\n",
    "#     k = kurtosis(x, fisher=False)\n",
    "#     n = len(x)\n",
    "#     return (sk**2 + 1) / (k + 3 * ((n - 1)**2 / ((n - 2) * (n - 3))))"
   ],
   "metadata": {
    "collapsed": false,
    "ExecuteTime": {
     "start_time": "2023-05-11T15:50:12.777622Z",
     "end_time": "2023-05-11T15:50:12.781967Z"
    }
   }
  },
  {
   "cell_type": "code",
   "execution_count": 18,
   "outputs": [],
   "source": [
    "# def aic_diff(x):\n",
    "#     f1 = GaussianMixture(n_components=1).fit(x[:, np.newaxis])\n",
    "#     f2 = GaussianMixture(n_components=2).fit(x[:, np.newaxis])\n",
    "#     aic1 = f1.aic(x[:, np.newaxis])\n",
    "#     aic2 = f2.aic(x[:, np.newaxis])\n",
    "#     return (aic1 - aic2) / max(aic1, aic2)"
   ],
   "metadata": {
    "collapsed": false,
    "ExecuteTime": {
     "start_time": "2023-05-11T15:50:12.782963Z",
     "end_time": "2023-05-11T15:50:12.813212Z"
    }
   }
  },
  {
   "cell_type": "code",
   "execution_count": 19,
   "outputs": [],
   "source": [
    "# kurt = np.array([[kurtosis(np.array(kappas_r_t[i][j]), fisher=False, bias=False) for j in range(len(thetas))] for i in range(len(r_ds))])"
   ],
   "metadata": {
    "collapsed": false,
    "ExecuteTime": {
     "start_time": "2023-05-11T15:50:12.787675Z",
     "end_time": "2023-05-11T15:50:12.814211Z"
    }
   }
  },
  {
   "cell_type": "code",
   "execution_count": 20,
   "outputs": [],
   "source": [
    "# bcs = np.array([[bc(np.array(kappas_r_t[i][j])) for j in range(len(thetas))] for i in range(len(r_ds))])"
   ],
   "metadata": {
    "collapsed": false,
    "ExecuteTime": {
     "start_time": "2023-05-11T15:50:12.792556Z",
     "end_time": "2023-05-11T15:50:12.814211Z"
    }
   }
  },
  {
   "cell_type": "code",
   "execution_count": 21,
   "outputs": [],
   "source": [
    "# aic = np.array([[aic_diff(np.array(kappas_r_t[i][j])) for j in range(len(thetas))] for i in range(len(r_ds))])"
   ],
   "metadata": {
    "collapsed": false,
    "ExecuteTime": {
     "start_time": "2023-05-11T15:50:12.797650Z",
     "end_time": "2023-05-11T15:50:12.814211Z"
    }
   }
  },
  {
   "cell_type": "code",
   "execution_count": 22,
   "outputs": [],
   "source": [
    "# med = np.array([[np.median(np.array(kappas_r_t[i][j])) for j in range(len(thetas))] for i in range(len(r_ds))])\n",
    "kappas_r_t_temp = [[[] for j in range(len(thetas))] for i in range(len(r_ds))]\n",
    "for i in range(len(r_ds)):\n",
    "    for j in range(len(thetas)):\n",
    "        for k in range(reps):\n",
    "            kappas_r_t_temp[i][j].extend(kappas_r_t[i][j][k])\n",
    "meankappa = np.array([[np.mean(np.array(kappas_r_t_temp[i][j])) for j in range(len(thetas))] for i in range(len(r_ds))])"
   ],
   "metadata": {
    "collapsed": false,
    "ExecuteTime": {
     "start_time": "2023-05-11T15:50:12.804187Z",
     "end_time": "2023-05-11T15:50:16.213155Z"
    }
   }
  },
  {
   "cell_type": "code",
   "execution_count": 23,
   "outputs": [],
   "source": [
    "# skewness = np.array([[skew(np.array(kappas_r_t[i][j]), bias=False) for j in range(len(thetas))] for i in range(len(r_ds))])"
   ],
   "metadata": {
    "collapsed": false,
    "ExecuteTime": {
     "start_time": "2023-05-11T15:50:16.215125Z",
     "end_time": "2023-05-11T15:50:16.220641Z"
    }
   }
  },
  {
   "cell_type": "code",
   "execution_count": 24,
   "outputs": [],
   "source": [
    "# plt.imshow(skewness, cmap='coolwarm', aspect='equal', vmax=2, vmin=-2)\n",
    "# plt.colorbar()\n",
    "# plt.show()"
   ],
   "metadata": {
    "collapsed": false,
    "ExecuteTime": {
     "start_time": "2023-05-11T15:50:16.221626Z",
     "end_time": "2023-05-11T15:50:16.225399Z"
    }
   }
  },
  {
   "cell_type": "code",
   "execution_count": 25,
   "outputs": [],
   "source": [
    "# plt.imshow(pvals, cmap='gray', aspect='equal')\n",
    "# plt.colorbar()"
   ],
   "metadata": {
    "collapsed": false,
    "ExecuteTime": {
     "start_time": "2023-05-11T15:50:16.227399Z",
     "end_time": "2023-05-11T15:50:16.230735Z"
    }
   }
  },
  {
   "cell_type": "code",
   "execution_count": 26,
   "outputs": [],
   "source": [
    "# plt.imshow(bcs, cmap='gray', aspect='equal')\n",
    "# plt.colorbar()"
   ],
   "metadata": {
    "collapsed": false,
    "ExecuteTime": {
     "start_time": "2023-05-11T15:50:16.231727Z",
     "end_time": "2023-05-11T15:50:16.234810Z"
    }
   }
  },
  {
   "cell_type": "code",
   "execution_count": 27,
   "outputs": [],
   "source": [
    "# plt.imshow(aic, cmap='coolwarm', aspect='equal')\n",
    "# plt.colorbar()"
   ],
   "metadata": {
    "collapsed": false,
    "ExecuteTime": {
     "start_time": "2023-05-11T15:50:16.238885Z",
     "end_time": "2023-05-11T15:50:16.241413Z"
    }
   }
  },
  {
   "cell_type": "code",
   "execution_count": 28,
   "outputs": [],
   "source": [
    "# plt.imshow(aic> 0, cmap='gray', aspect='equal')\n",
    "# plt.colorbar()"
   ],
   "metadata": {
    "collapsed": false,
    "ExecuteTime": {
     "start_time": "2023-05-11T15:50:16.242411Z",
     "end_time": "2023-05-11T15:50:16.245897Z"
    }
   }
  },
  {
   "cell_type": "code",
   "execution_count": 29,
   "outputs": [],
   "source": [
    "# # Create a figure using the style\n",
    "# fig, ax = plt.subplots()\n",
    "# # Get the current figure size\n",
    "# fig_width, fig_height = fig.get_size_inches()\n",
    "#\n",
    "# bbox_attr = dict(boxstyle='circle,pad=0.2', edgecolor='black', facecolor='white', linewidth=1)\n",
    "#\n",
    "# # Set the new figure size by multiplying it by the scale factor\n",
    "# scale_factor = 0.7\n",
    "# fig.set_size_inches(fig_width * scale_factor, fig_height)\n",
    "# plt.imshow(med, cmap='coolwarm', aspect='equal', extent=extent, vmin=-5, vmax=5, interpolation='none', origin='lower')\n",
    "# # place colorbar at bottom of image\n",
    "# plt.colorbar(label=r'Switch parameter ${\\kappa}$', pad=0.2, fraction=0.05, orientation='horizontal')\n",
    "# plt.xlabel(r'Switch threshold $\\theta$')\n",
    "# plt.ylabel(r'Death rate $\\delta$')\n",
    "# plt.text(0.2, 0., '1', fontsize=8, weight='bold',\n",
    "#         ha='center',\n",
    "#         va='center',\n",
    "#         bbox=bbox_attr\n",
    "#          )\n",
    "# plt.text(0.2, 0.2, '2', fontsize=8, weight='bold',\n",
    "#         ha='center',\n",
    "#         va='center',\n",
    "#         bbox=bbox_attr\n",
    "#          )\n",
    "# plt.text(1., 0.2, '3', fontsize=8, weight='bold', bbox=bbox_attr,\n",
    "#         ha='center',\n",
    "#         va='center',\n",
    "#          )\n",
    "# contour = plt.contour(thetas, r_ds, 1 - np.array(r_ds)[:, np.newaxis] - np.array(thetas)[np.newaxis, :], levels=[0], colors='k', linestyles='dashed', extent=extent, origin='lower')\n",
    "# # custom_line = Line2D([0], [0], color='k', linestyle='dashed', label=r'$\\rho_{\\mathcal{N}}^{\\max} - \\theta = 0$')\n",
    "# custom_line = Line2D([0], [0], color='k', linestyle='dashed', label='Prediction')\n",
    "# plt.legend(handles=[custom_line], loc='lower right', bbox_to_anchor=(1, 1))\n",
    "# # plt.savefig('evolutionary_regimes.svg', bbox_inches='tight')\n",
    "# # plt.savefig('evolutionary_regimes.pdf', bbox_inches='tight')"
   ],
   "metadata": {
    "collapsed": false,
    "ExecuteTime": {
     "start_time": "2023-05-11T15:50:16.246895Z",
     "end_time": "2023-05-11T15:50:16.288048Z"
    }
   }
  },
  {
   "cell_type": "code",
   "execution_count": 44,
   "outputs": [
    {
     "data": {
      "text/plain": "<matplotlib.legend.Legend at 0x1604da881d0>"
     },
     "execution_count": 44,
     "metadata": {},
     "output_type": "execute_result"
    }
   ],
   "source": [
    "# Create a figure using the style\n",
    "fig, ax = plt.subplots()\n",
    "# Get the current figure size\n",
    "fig_width, fig_height = fig.get_size_inches()\n",
    "\n",
    "bbox_attr = dict(boxstyle='circle,pad=0.2', edgecolor='black', facecolor='white', linewidth=1)\n",
    "\n",
    "# Set the new figure size by multiplying it by the scale factor\n",
    "scale_factor = 0.7\n",
    "fig.set_size_inches(fig_width * scale_factor, fig_height)\n",
    "plt.imshow(meankappa, cmap='coolwarm', aspect='equal', extent=extent, vmin=-5, vmax=5, interpolation='none', origin='lower')\n",
    "# place colorbar at bottom of image\n",
    "plt.colorbar(label=r'Switch parameter ${\\kappa}$', pad=0.2, fraction=0.05, orientation='horizontal')\n",
    "plt.xlabel(r'Switch threshold $\\theta$')\n",
    "plt.ylabel(r'Death rate $\\delta$')\n",
    "plt.text(0.2, 0., '1', fontsize=8, weight='bold',\n",
    "        ha='center',\n",
    "        va='center',\n",
    "        bbox=bbox_attr\n",
    "         )\n",
    "plt.text(0.2, 0.2, '2', fontsize=8, weight='bold',\n",
    "        ha='center',\n",
    "        va='center',\n",
    "        bbox=bbox_attr\n",
    "         )\n",
    "plt.text(1., 0.2, '3', fontsize=8, weight='bold', bbox=bbox_attr,\n",
    "        ha='center',\n",
    "        va='center',\n",
    "         )\n",
    "contour = plt.contour(thetas, r_ds, 1 - np.array(r_ds)[:, np.newaxis] - np.array(thetas)[np.newaxis, :], levels=[0], colors='k', linestyles='dashed', extent=extent, origin='lower')\n",
    "# custom_line = Line2D([0], [0], color='k', linestyle='dashed', label=r'$\\rho_{\\mathcal{N}}^{\\max} - \\theta = 0$')\n",
    "custom_line = Line2D([0], [0], color='k', linestyle='dashed', label='Prediction')\n",
    "plt.legend(handles=[custom_line], loc='lower right', bbox_to_anchor=(1, 1))\n",
    "# plt.savefig('evolutionary_regimes.svg', bbox_inches='tight')\n",
    "# plt.savefig('evolutionary_regimes.pdf', bbox_inches='tight')"
   ],
   "metadata": {
    "collapsed": false,
    "ExecuteTime": {
     "start_time": "2023-05-11T16:43:48.332912Z",
     "end_time": "2023-05-11T16:43:48.434360Z"
    }
   }
  },
  {
   "cell_type": "code",
   "execution_count": 31,
   "outputs": [],
   "source": [
    "\n",
    "\n",
    "PATH = '.\\\\data\\\\gog\\\\nonlocaldensity_10reps\\\\'\n",
    "parameters = np.load(PATH + 'params.npz', allow_pickle=True)\n",
    "PATH = '.\\\\data\\\\gog\\\\nonlocaldensity_recurrence\\\\'\n",
    "constparams = parameters['constparams'].item()\n",
    "r_ds = parameters['r_ds']\n",
    "thetas = parameters['thetas']\n",
    "reps = 10\n",
    "dtheta = (thetas[1] - thetas[0]) / 2\n",
    "dr_ds = (r_ds[1] - r_ds[0]) / 2\n",
    "rec_time = np.zeros((len(r_ds), len(thetas), reps), dtype=int)\n",
    "rec_time = np.ma.array(rec_time, mask=True)\n",
    "for index in product(np.arange(0, len(r_ds)), np.arange(0, len(thetas))):\n",
    "    for i in range(reps):\n",
    "        with open(PATH + 'data{}.pkl'.format(index + (i, 0,)), 'rb') as f:\n",
    "            d = pkl.load(f)\n",
    "        rec_time[index + (i,)] = d['tmax']\n",
    "        rec_time.mask[index + (i,)] = False if d['n_it'] > 0 else True"
   ],
   "metadata": {
    "collapsed": false,
    "ExecuteTime": {
     "start_time": "2023-05-11T15:50:17.339341Z",
     "end_time": "2023-05-11T15:51:26.810418Z"
    }
   }
  },
  {
   "cell_type": "code",
   "execution_count": 36,
   "outputs": [],
   "source": [
    "%matplotlib qt"
   ],
   "metadata": {
    "collapsed": false,
    "ExecuteTime": {
     "start_time": "2023-05-11T16:39:57.184844Z",
     "end_time": "2023-05-11T16:39:57.531551Z"
    }
   }
  },
  {
   "cell_type": "code",
   "execution_count": 53,
   "outputs": [],
   "source": [
    "# create a figure with 4 subplots\n",
    "# figsize = 7.086614, 8.858268 / 4\n",
    "figsize = 7, 2.5\n",
    "fig, ax = plt.subplots(2, 2, sharex=True, sharey=True, figsize=figsize)\n",
    "# Get the current figure size\n",
    "# fig_width, fig_height = fig.get_size_inches()\n",
    "# # fig_height *= 1.5\n",
    "# fig.set_size_inches(fig_width, fig_height)\n",
    "\n",
    "plt.sca(ax[0, 0])\n",
    "# plt.xlabel(r'Switch threshold $\\theta$')\n",
    "# plt.ylabel(r'Death rate $\\delta$')\n",
    "plt.imshow(meankappa, cmap='coolwarm', aspect='equal', extent=extent, vmin=-5, vmax=5, interpolation='none', origin='lower')\n",
    "# insert color bar to the right of image with the same height\n",
    "divider = make_axes_locatable(ax[0,0])\n",
    "cax = divider.append_axes(\"right\", size=\"5%\", pad=0.1)\n",
    "cbar = plt.colorbar(label=r'Switch ${\\kappa}$', pad=0.2, fraction=0.05, use_gridspec=True, cax=cax)\n",
    "# plt.colorbar(label=r'Switch parameter ${\\kappa}$', pad=0.2, fraction=0.05, orientation='vertical')\n",
    "# plt.xlabel(r'Switch threshold $\\theta$')\n",
    "# plt.ylabel(r'Death rate $\\delta$')\n",
    "plt.sca(ax[0, 0])\n",
    "\n",
    "plt.text(0.2, 0., '1', fontsize=8, weight='bold',\n",
    "        ha='center',\n",
    "        va='center',\n",
    "        bbox=bbox_attr\n",
    "         )\n",
    "plt.text(0.2, 0.2, '2', fontsize=8, weight='bold',\n",
    "        ha='center',\n",
    "        va='center',\n",
    "        bbox=bbox_attr\n",
    "         )\n",
    "plt.text(1., 0.2, '3', fontsize=8, weight='bold', bbox=bbox_attr,\n",
    "        ha='center',\n",
    "        va='center',\n",
    "         )\n",
    "contour = plt.contour(thetas, r_ds, 1 - np.array(r_ds)[:, np.newaxis] - np.array(thetas)[np.newaxis, :], levels=[0], colors='k', linestyles='dashed', extent=extent, origin='lower')\n",
    "# custom_line = Line2D([0], [0], color='k', linestyle='dashed', label=r'$\\rho_{\\mathcal{N}}^{\\max} - \\theta = 0$')\n",
    "# custom_line = Line2D([0], [0], color='k', linestyle='dashed', label='Prediction')\n",
    "# plt.legend(handles=[custom_line], loc='lower right', bbox_to_anchor=(1, 1))\n",
    "plt.title('Average switch')\n",
    "\n",
    "plt.sca(ax[0, 1])\n",
    "plt.imshow(mean_phenotype_entropy, aspect='equal', vmin=0, vmax=1, extent=extent, origin='lower')\n",
    "divider = make_axes_locatable(ax[0,1])\n",
    "cax = divider.append_axes(\"right\", size=\"5%\", pad=0.1)\n",
    "plt.colorbar(label=r'Entropy', pad=0.2, fraction=0.05, orientation='vertical', ticks=[0, 1], cax=cax, use_gridspec=True)\n",
    "plt.sca(ax[0, 1])\n",
    "plt.text(0.2, 0., '1', fontsize=8, weight='bold',\n",
    "        ha='center',\n",
    "        va='center',\n",
    "        bbox=bbox_attr\n",
    "         )\n",
    "plt.text(0.2, 0.2, '2', fontsize=8, weight='bold',\n",
    "        ha='center',\n",
    "        va='center',\n",
    "        bbox=bbox_attr\n",
    "         )\n",
    "plt.text(1., 0.2, '3', fontsize=8, weight='bold', bbox=bbox_attr,\n",
    "        ha='center',\n",
    "        va='center',\n",
    "         )\n",
    "contour = plt.contour(thetas, r_ds, 1 - np.array(r_ds)[:, np.newaxis] - np.array(thetas)[np.newaxis, :], levels=[0], colors='k', linestyles='dashed', extent=extent, origin='lower')\n",
    "plt.title('Phenotypic entropy')\n",
    "\n",
    "plt.sca(ax[1, 0])\n",
    "plt.imshow(mean_genetic_entropy, aspect='equal', extent=extent, origin='lower', vmin=1, vmax=4)\n",
    "divider = make_axes_locatable(ax[1, 0])\n",
    "cax = divider.append_axes(\"right\", size=\"5%\", pad=0.1)\n",
    "plt.colorbar(label=r'Entropy', pad=0.2, fraction=0.05, ticks=[1, 4], cax=cax, use_gridspec=True)\n",
    "plt.sca(ax[1, 0])\n",
    "plt.text(0.2, 0., '1', fontsize=8, weight='bold',\n",
    "        ha='center',\n",
    "        va='center',\n",
    "        bbox=bbox_attr\n",
    "         )\n",
    "plt.text(0.2, 0.2, '2', fontsize=8, weight='bold',\n",
    "        ha='center',\n",
    "        va='center',\n",
    "        bbox=bbox_attr\n",
    "         )\n",
    "plt.text(1., 0.2, '3', fontsize=8, weight='bold', bbox=bbox_attr,\n",
    "        ha='center',\n",
    "        va='center',\n",
    "         )\n",
    "contour = plt.contour(thetas, r_ds, 1 - np.array(r_ds)[:, np.newaxis] - np.array(thetas)[np.newaxis, :], levels=[0], colors='k', linestyles='dashed', extent=extent, origin='lower')\n",
    "plt.title('Genetic entropy')\n",
    "# plt.ylabel(r'Death rate $\\delta$')\n",
    "\n",
    "plt.sca(ax[-1, -1])\n",
    "plt.imshow(rec_time.mean(-1), aspect='equal', extent=extent, origin='lower', )\n",
    "plt.text(0.2, 0., '1', fontsize=8, weight='bold',\n",
    "        ha='center',\n",
    "        va='center',\n",
    "        bbox=bbox_attr\n",
    "         )\n",
    "plt.text(0.2, 0.2, '2', fontsize=8, weight='bold',\n",
    "        ha='center',\n",
    "        va='center',\n",
    "        bbox=bbox_attr\n",
    "         )\n",
    "plt.text(1., 0.2, '3', fontsize=8, weight='bold', bbox=bbox_attr,\n",
    "        ha='center',\n",
    "        va='center',\n",
    "         )\n",
    "divider = make_axes_locatable(ax[1,1])\n",
    "cax = divider.append_axes(\"right\", size=\"5%\", pad=0.1)\n",
    "plt.colorbar(label=r'Recurrence time', pad=0.2, fraction=0.05, orientation='vertical', use_gridspec=True, cax=cax)\n",
    "plt.sca(ax[-1, -1])\n",
    "contour = plt.contour(thetas, r_ds, 1 - np.array(r_ds)[:, np.newaxis] - np.array(thetas)[np.newaxis, :], levels=[0], colors='k', linestyles='dashed', extent=extent, origin='lower')\n",
    "plt.ylim(-dr_ds, r_ds[-1]+dr_ds)\n",
    "plt.title('Recurrence time')\n",
    "plt.xticks([0, 0.5, 1])\n",
    "fig.supxlabel(r'Switch threshold $\\theta$')\n",
    "fig.supylabel(r'Death rate $\\delta$')\n",
    "label_axes(fig, labels=['A', 'B', 'C', 'D', '', '', '', ''])\n",
    "fig.tight_layout()\n",
    "plt.savefig('heterogeneity_treatment.pdf', bbox_inches='tight')\n",
    "plt.savefig('heterogeneity_treatment.svg', bbox_inches='tight')"
   ],
   "metadata": {
    "collapsed": false,
    "ExecuteTime": {
     "start_time": "2023-05-11T17:28:02.416685Z",
     "end_time": "2023-05-11T17:28:06.160335Z"
    }
   }
  },
  {
   "cell_type": "markdown",
   "source": [
    "# Save everthing as a dataframe"
   ],
   "metadata": {
    "collapsed": false
   }
  },
  {
   "cell_type": "code",
   "execution_count": null,
   "outputs": [],
   "source": [
    "import pandas as pd"
   ],
   "metadata": {
    "collapsed": false,
    "ExecuteTime": {
     "start_time": "2023-04-25T15:44:58.693813Z",
     "end_time": "2023-04-25T15:44:58.701814Z"
    }
   }
  },
  {
   "cell_type": "code",
   "execution_count": null,
   "outputs": [],
   "source": [
    "kappas_r_t_df = np.zeros((len(r_ds), len(thetas), reps))\n",
    "for i in range(len(r_ds)):\n",
    "    for j in range(len(thetas)):\n",
    "        for k in range(reps):\n",
    "            kappas_r_t_df[i, j, k] = np.mean(kappas_r_t[i][j][k])"
   ],
   "metadata": {
    "collapsed": false,
    "ExecuteTime": {
     "start_time": "2023-04-25T15:45:13.532384Z",
     "end_time": "2023-04-25T15:45:16.103691Z"
    }
   }
  },
  {
   "cell_type": "code",
   "execution_count": null,
   "outputs": [],
   "source": [
    "# kappas_r_t, genetic_entropy, phenotype_entropy, rec_time, r_ds, thetas"
   ],
   "metadata": {
    "collapsed": false
   }
  },
  {
   "cell_type": "code",
   "execution_count": null,
   "outputs": [],
   "source": [
    "x, y, z = kappas_r_t_df.shape"
   ],
   "metadata": {
    "collapsed": false,
    "ExecuteTime": {
     "start_time": "2023-04-25T15:45:27.544135Z",
     "end_time": "2023-04-25T15:45:27.547135Z"
    }
   }
  },
  {
   "cell_type": "code",
   "execution_count": null,
   "outputs": [],
   "source": [
    "combinations = x * y\n",
    "total_repetitions = combinations * z"
   ],
   "metadata": {
    "collapsed": false,
    "ExecuteTime": {
     "start_time": "2023-04-25T15:45:29.994686Z",
     "end_time": "2023-04-25T15:45:30.011703Z"
    }
   }
  },
  {
   "cell_type": "code",
   "execution_count": null,
   "outputs": [],
   "source": [
    "expanded_r_ds = np.repeat(r_ds, y).repeat(z)\n",
    "expanded_thetas = np.tile(thetas, x).repeat(z)\n"
   ],
   "metadata": {
    "collapsed": false,
    "ExecuteTime": {
     "start_time": "2023-04-25T15:45:31.658981Z",
     "end_time": "2023-04-25T15:45:31.660986Z"
    }
   }
  },
  {
   "cell_type": "code",
   "execution_count": null,
   "outputs": [],
   "source": [
    "params_df = pd.DataFrame({\n",
    "    'r_d': expanded_r_ds,\n",
    "    'theta': expanded_thetas,\n",
    "    'repetition': np.tile(np.arange(z), combinations)\n",
    "}, index=np.arange(total_repetitions))"
   ],
   "metadata": {
    "collapsed": false,
    "ExecuteTime": {
     "start_time": "2023-04-25T15:45:33.005304Z",
     "end_time": "2023-04-25T15:45:33.036516Z"
    }
   }
  },
  {
   "cell_type": "code",
   "execution_count": null,
   "outputs": [],
   "source": [
    "kappas_flat = kappas_r_t_df.flatten()\n",
    "genetic_entropy_flat = genetic_entropy.flatten()\n",
    "phenotype_entropy_flat = phenotype_entropy.flatten()\n",
    "rectime_flat = rec_time.flatten()\n",
    "\n",
    "kappas_df = pd.DataFrame({'kappa': kappas_flat}, index=np.arange(total_repetitions))\n",
    "genetic_entropy_df = pd.DataFrame({'genetic_entropy': genetic_entropy_flat}, index=np.arange(total_repetitions))\n",
    "phenotype_entropy_df = pd.DataFrame({'phenotype_entropy': phenotype_entropy_flat}, index=np.arange(total_repetitions))\n",
    "rectime_df = pd.DataFrame({'rectime': rectime_flat}, index=np.arange(total_repetitions))"
   ],
   "metadata": {
    "collapsed": false,
    "ExecuteTime": {
     "start_time": "2023-04-25T15:45:41.151329Z",
     "end_time": "2023-04-25T15:45:41.181339Z"
    }
   }
  },
  {
   "cell_type": "code",
   "execution_count": null,
   "outputs": [],
   "source": [
    "df = pd.concat([params_df, kappas_df, genetic_entropy_df, phenotype_entropy_df, rectime_df], axis=1)"
   ],
   "metadata": {
    "collapsed": false,
    "ExecuteTime": {
     "start_time": "2023-04-25T15:45:43.038346Z",
     "end_time": "2023-04-25T15:45:43.057373Z"
    }
   }
  },
  {
   "cell_type": "code",
   "execution_count": null,
   "outputs": [],
   "source": [
    "df.head()"
   ],
   "metadata": {
    "collapsed": false,
    "ExecuteTime": {
     "start_time": "2023-04-25T15:45:44.054476Z",
     "end_time": "2023-04-25T15:45:44.090977Z"
    }
   }
  },
  {
   "cell_type": "code",
   "execution_count": null,
   "outputs": [],
   "source": [
    "# df.to_csv('treatment.csv', index=False)  # save df to csv"
   ],
   "metadata": {
    "collapsed": false,
    "ExecuteTime": {
     "start_time": "2023-04-25T15:45:51.915696Z",
     "end_time": "2023-04-25T15:45:52.001093Z"
    }
   }
  },
  {
   "cell_type": "code",
   "execution_count": null,
   "outputs": [],
   "source": [],
   "metadata": {
    "collapsed": false
   }
  }
 ],
 "metadata": {
  "kernelspec": {
   "display_name": "Python 3",
   "language": "python",
   "name": "python3"
  },
  "language_info": {
   "codemirror_mode": {
    "name": "ipython",
    "version": 2
   },
   "file_extension": ".py",
   "mimetype": "text/x-python",
   "name": "python",
   "nbconvert_exporter": "python",
   "pygments_lexer": "ipython2",
   "version": "2.7.6"
  }
 },
 "nbformat": 4,
 "nbformat_minor": 0
}
