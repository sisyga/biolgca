{
 "cells": [
  {
   "cell_type": "markdown",
   "metadata": {
    "toc": true
   },
   "source": [
    "<h1>Table of Contents<span class=\"tocSkip\"></span></h1>\n",
    "<div class=\"toc\"><ul class=\"toc-item\"><li><span><a href=\"#Initialiser\" data-toc-modified-id=\"Initialiser-1\"><span class=\"toc-item-num\">1&nbsp;&nbsp;</span>Initialiser</a></span></li><li><span><a href=\"#Plot-of-Histogram-+-Scatter-Plot-Overlap\" data-toc-modified-id=\"Plot-of-Histogram-+-Scatter-Plot-Overlap-2\"><span class=\"toc-item-num\">2&nbsp;&nbsp;</span>Plot of Histogram + Scatter Plot Overlap</a></span></li><li><span><a href=\"#Histogram-of-kappa-theta\" data-toc-modified-id=\"Histogram-of-kappa-theta-3\"><span class=\"toc-item-num\">3&nbsp;&nbsp;</span>Histogram of kappa theta</a></span></li><li><span><a href=\"#Scatter-plots-for-mean-kappa-vs-theta-with-total-cells\" data-toc-modified-id=\"Scatter-plots-for-mean-kappa-vs-theta-with-total-cells-4\"><span class=\"toc-item-num\">4&nbsp;&nbsp;</span>Scatter plots for mean kappa vs theta with total cells</a></span></li></ul></div>"
   ]
  },
  {
   "cell_type": "code",
   "execution_count": 46,
   "metadata": {
    "ExecuteTime": {
     "end_time": "2021-05-11T05:23:29.317105Z",
     "start_time": "2021-05-11T05:23:29.313339Z"
    }
   },
   "outputs": [],
   "source": [
    "import numpy as np\n",
    "import matplotlib.pyplot as plt\n",
    "import csv\n",
    "import os\n",
    "import copy\n",
    "from mpl_toolkits import mplot3d\n",
    "import matplotlib.ticker as mticker\n",
    "from mpl_toolkits.axes_grid1 import make_axes_locatable\n",
    "import matplotlib.colors as mcolors\n",
    "import numpy.ma as ma\n",
    "import matplotlib.transforms as mtransforms\n",
    "from scipy.ndimage.filters import uniform_filter1d\n",
    "from matplotlib import gridspec"
   ]
  },
  {
   "cell_type": "markdown",
   "metadata": {},
   "source": [
    "# Initialiser"
   ]
  },
  {
   "cell_type": "code",
   "execution_count": 47,
   "metadata": {
    "ExecuteTime": {
     "end_time": "2021-05-11T05:23:29.401397Z",
     "start_time": "2021-05-11T05:23:29.321668Z"
    },
    "code_folding": []
   },
   "outputs": [],
   "source": [
    "initialiser_list = {'0':['1000',4, 10, 4, 3, 1, 0.05, 1.0, 0.0, 0.0, 0.0, 0.0, 0.2, 0.05],\\\n",
    "                    '1d':['1001',1500, 5000, 4, 10, 1, 0.05, 1.0, 0.0, 0.0, 0.0, 0.0, 0.2, 0.05],\\\n",
    "                    'test':['test',300, 1000, 4, 10, 1, 0.05, 1.0, 0.0, 0.0, 0.0, 0.0, 0.2, 0.05],\\\n",
    "                    '1b':['1001b',1000, 3000, 4, 10, 1, 0.05, 1.0, 0.0, 0.0, 0.0, 0.0, 0.2, 0.05],\\\n",
    "                    '2d':['1002',1500, 5000, 4, 10, 1, 0.05, 1.0, 4.0, 4.0, 0.0, 0.0, 0.2, 0.05],\\\n",
    "                    '3d':['1003',1500, 5000, 4, 10, 1, 0.05, 1.0, -4.0, -4.0, 0.0, 0.0, 0.2, 0.05],\\\n",
    "                    '4d':['1004',1500, 5000, 4, 10, 1, 0.05, 1.0, -4.0, 4.0, 0.0, 0.0, 0.2, 0.05],\\\n",
    "                    '1c':['1001c',1500, 5000, 4, 10, 1, 0.05, 0.5, 0.0, 0.0, 0.0, 0.0, 0.2, 0.05],\\\n",
    "                    '2c':['1002c',1500, 5000, 4, 10, 1, 0.05, 0.5, 4.0, 4.0, 0.0, 0.0, 0.2, 0.05],\\\n",
    "                   '3c':['1003c',1500, 5000, 4, 10, 1, 0.05, 0.5, -4.0, -4.0, 0.0, 0.0, 0.2, 0.05],\\\n",
    "                   '4c':['1004c',1500, 5000, 4, 10, 1, 0.05, 0.5, -4.0, 4.0, 0.0, 0.0, 0.2, 0.05],\\\n",
    "                    '5c':['1005c',1500, 5000, 4, 10, 1, 0.05, 0.5, 0.0, 0.0, 0.5, 0.5, 0.2, 0.05],\\\n",
    "                    '6c':['1006c',1500, 5000, 4, 10, 1, 0.05, 0.5, 4.0, 4.0, 0.5, 0.5, 0.2, 0.05],\\\n",
    "                   '7c':['1007c',1500, 5000, 4, 10, 1, 0.05, 0.5, -4.0, -4.0, 0.5, 0.5, 0.2, 0.05],\\\n",
    "                   '8c':['1008c',1500, 5000, 4, 10, 1, 0.05, 0.5, -4.0, 4.0, 0.5, 0.5, 0.2, 0.05],\\\n",
    "                   '9c':['1009c',1500, 5000, 4, 10, 1, 0.05, 0.5, 0.0, 0.0, 1.0, 1.0, 0.2, 0.05],\\\n",
    "                    '10c':['1010c',1500, 5000, 4, 10, 1, 0.05, 0.5, 4.0, 4.0, 1.0, 1.0, 0.2, 0.05],\\\n",
    "                   '11c':['1011c',1500, 5000, 4, 10, 1, 0.05, 0.5, -4.0, -4.0, 1.0, 1.0, 0.2, 0.05],\\\n",
    "                   '12c':['1012c',1500, 5000, 4, 10, 1, 0.05, 0.5, -4.0, 4.0, 1.0, 1.0, 0.2, 0.05],\\\n",
    "                   '13c':['1013c',1500, 5000, 4, 10, 1, 0.05, 0.5, 0.0, 0.0, 0.0, 1.0, 0.2, 0.05],\\\n",
    "                    '14c':['1014c',1500, 5000, 4, 10, 1, 0.05, 0.5, 4.0, 4.0, 0.0, 1.0, 0.2, 0.05],\\\n",
    "                   '15c':['1015c',1500, 5000, 4, 10, 1, 0.05, 0.5, -4.0, -4.0, 0.0, 1.0, 0.2, 0.05],\\\n",
    "                   '16c':['1016c',1500, 5000, 4, 10, 1, 0.05, 0.5, -4.0, 4.0, 0.0, 1.0, 0.2, 0.05],\\\n",
    "                   '17c':['1017c',1500, 5000, 4, 10, 1, 0.05, 0.5, -2.0, -2.0, 0.0, 1.0, 0.2, 0.05],\\\n",
    "                   '0nke':['1000nke',1500, 5000, 4, 10, 1, 0.05, 0.5, 0.0, 0.0, 0.0, 1.0, 0.0, 0.05],\\\n",
    "                   '1nke':['1001nke',1500, 5000, 4, 10, 1, 0.05, 0.5, -1.0, -1.0, 0.0, 1.0, 0.0, 0.05],\\\n",
    "                   '2nke':['1002nke',1500, 5000, 4, 10, 1, 0.05, 0.5, -2.0, -2.0, 0.0, 1.0, 0.0, 0.05],\\\n",
    "                   '3nke':['1003nke',1500, 5000, 4, 10, 1, 0.05, 0.5, -3.0, -3.0, 0.0, 1.0, 0.0, 0.05],\\\n",
    "                   '4nke':['1004nke',1500, 5000, 4, 10, 1, 0.05, 0.5, -4.0, -4.0, 0.0, 1.0, 0.0, 0.05],\\\n",
    "                   '5nke':['1005nke',1500, 5000, 4, 10, 1, 0.05, 0.5, -4.0, 0.0, 0.0, 1.0, 0.0, 0.05],\\\n",
    "                   '1nte':['1001nte',1500, 5000, 4, 10, 1, 0.05, 0.5, -4.0, 0.0, 0.85, 0.95, 0.2, 0.00],\\\n",
    "                   '18c':['1018c',1500, 5000, 4, 10, 1, 0.05, 0.5, -8.0, -8.0, 0.5, 1.0, 0.2, 0.05],\\\n",
    "                    '16c2':['1016c2',1500, 5000, 4, 10, 1, 0.05, 0.5, -4.0, 4.0, 0.0, 1.0, 0.4, 0.1],\\\n",
    "                   '16cB2':['1016cB2',1500, 5000, 4, 10, 1, 0.05, 0.5, -4.0, 4.0, 0.0, 1.0, 0.2, 0.05],\\\n",
    "                    '16cB1_5':['1016cB1_5',1500, 5000, 4, 10, 1, 0.05, 0.5, -4.0, 4.0, 0.0, 1.0, 0.2, 0.05],\n",
    "                   '16cB1_75':['1016cB1_75',1500, 5000, 4, 10, 1, 0.05, 0.5, -4.0, 4.0, 0.0, 1.0, 0.2, 0.05],\\\n",
    "                   '16cB1_25':['1016cB1_25',1500, 5000, 4, 10, 1, 0.05, 0.5, -4.0, 4.0, 0.0, 1.0, 0.2, 0.05],\\\n",
    "                   '16cB2_25':['1016cB2_25',1500, 5000, 4, 10, 1, 0.05, 0.5, -4.0, 4.0, 0.0, 1.0, 0.2, 0.05],\\\n",
    "                   '16cB2_5':['1016cB2_5',1500, 5000, 4, 10, 1, 0.05, 0.5, -4.0, 4.0, 0.0, 1.0, 0.2, 0.05],\\\n",
    "                   '16cB2_75':['1016cB2_75',1500, 5000, 4, 10, 1, 0.05, 0.5, -4.0, 4.0, 0.0, 1.0, 0.2, 0.05],\\\n",
    "                   '16cB3':['1016cB3',1500, 5000, 4, 10, 1, 0.05, 0.5, -4.0, 4.0, 0.0, 1.0, 0.2, 0.05],\\\n",
    "                   '16mem1_00':['1016mem1_00',1500, 5000, 8, 10, 1, 0.05, 0.5, -4.0, 4.0, 0.0, 1.0, 0.2, 0.05, 1.00],\\\n",
    "                   '16mem2_00':['1016mem2_00',1500, 5000, 8, 10, 1, 0.05, 0.5, -4.0, 4.0, 0.0, 1.0, 0.2, 0.05, 2.00],\\\n",
    "                   '16mem1_25':['1016mem1_25',1500, 5000, 8, 10, 1, 0.05, 0.5, -4.0, 4.0, 0.0, 1.0, 0.2, 0.05, 1.25],\\\n",
    "                   '16mem0_25':['1016mem0_25',1500, 5000, 8, 10, 1, 0.05, 0.5, -4.0, 4.0, 0.0, 1.0, 0.2, 0.05, 0.25],\\\n",
    "                   '16mem0_50':['1016mem0_50',1500, 5000, 8, 10, 1, 0.05, 0.5, -4.0, 4.0, 0.0, 1.0, 0.2, 0.05, 0.50],\\\n",
    "                   '16mem0_75':['1016mem0_75',1500, 5000, 8, 10, 1, 0.05, 0.5, -4.0, 4.0, 0.0, 1.0, 0.2, 0.05, 0.75],\\\n",
    "                   '16mem0_00':['1016mem0_00',1500, 5000, 8, 10, 1, 0.05, 0.5, -4.0, 4.0, 0.0, 1.0, 0.2, 0.05, 0.00],\\\n",
    "                   '16mem3_00':['1016mem3_00',1500, 5000, 8, 10, 1, 0.05, 0.5, -4.0, 4.0, 0.0, 1.0, 0.2, 0.05, 3.00],\\\n",
    "                   '16memv1_00':['1016memv1_00',1500, 5000, 8, 10, 1, 0.05, 0.5, -4.0, 4.0, 0.0, 1.0, 0.2, 0.05, 1.00],\\\n",
    "                   '16memv2_00':['1016memv2_00',1500, 5000, 8, 10, 1, 0.05, 0.5, -4.0, 4.0, 0.0, 1.0, 0.2, 0.05, 2.00],\\\n",
    "                   '16memv3_00':['1016memv3_00',1500, 5000, 8, 10, 1, 0.05, 0.5, -4.0, 4.0, 0.0, 1.0, 0.2, 0.05, 3.00],\\\n",
    "                   '16memr1_00':['1016memr1_00',1500, 5000, 8, 10, 1, 0.05, 0.5, -4.0, 4.0, 0.0, 1.0, 0.2, 0.05, 1.00],\\\n",
    "                   '16memr2_00':['1016memr2_00',1500, 5000, 8, 10, 1, 0.05, 0.5, -4.0, 4.0, 0.0, 1.0, 0.2, 0.05, 2.00],\\\n",
    "                   '16memr3_00':['1016memr3_00',1500, 5000, 8, 10, 1, 0.05, 0.5, -4.0, 4.0, 0.0, 1.0, 0.2, 0.05, 3.00]}\n",
    "\n",
    "\n",
    "#redo 4nke vis"
   ]
  },
  {
   "cell_type": "code",
   "execution_count": 48,
   "metadata": {
    "ExecuteTime": {
     "end_time": "2021-05-11T05:23:29.483782Z",
     "start_time": "2021-05-11T05:23:29.402742Z"
    }
   },
   "outputs": [],
   "source": [
    "Runs = 3\n",
    "sim_num = '16memr1_00'\n",
    "ID = initialiser_list[sim_num][0]\n",
    "kappa_min = initialiser_list[sim_num][8]\n",
    "kappa_max = initialiser_list[sim_num][9]\n",
    "theta_min = initialiser_list[sim_num][10]\n",
    "theta_max = initialiser_list[sim_num][11]\n",
    "kappas = np.linspace(kappa_min,kappa_max)\n",
    "thetas = np.linspace(theta_min, theta_max)\n",
    "tmax = initialiser_list[sim_num][2]\n",
    "L = initialiser_list[sim_num][1]\n",
    "nodes = 1 + np.arange(L, dtype=np.uint)\n",
    "output_dir = \"output/\""
   ]
  },
  {
   "cell_type": "code",
   "execution_count": 49,
   "metadata": {
    "ExecuteTime": {
     "end_time": "2021-05-11T05:23:29.569754Z",
     "start_time": "2021-05-11T05:23:29.485246Z"
    }
   },
   "outputs": [],
   "source": [
    "kappa_mean = np.zeros([Runs, tmax+1, L])\n",
    "theta_mean = np.zeros([Runs, tmax+1, L])\n",
    "density = np.zeros([Runs, tmax+1, L])\n",
    "kappa_lattice_mean = np.zeros([Runs, tmax+1])\n",
    "theta_lattice_mean = np.zeros([Runs, tmax+1])\n",
    "total_cells = np.zeros([Runs, tmax+1])\n",
    "#density_rest = np.zeros([Runs, tmax, L])\n",
    "#density_vel = np.zeros([Runs, tmax, L])"
   ]
  },
  {
   "cell_type": "code",
   "execution_count": 50,
   "metadata": {
    "ExecuteTime": {
     "end_time": "2021-05-11T05:24:37.901394Z",
     "start_time": "2021-05-11T05:23:29.570906Z"
    }
   },
   "outputs": [],
   "source": [
    "for run in range(Runs):\n",
    "    kappa_mean[run,:,:] = np.genfromtxt(output_dir + initialiser_list[sim_num][0] + '/Run %s/' %str(run+1) + \"/\" + \"kappa.csv\", delimiter = \", \" )\n",
    "    theta_mean[run,:,:] = np.genfromtxt(output_dir + initialiser_list[sim_num][0] + '/Run %s/' %str(run+1) + \"/\" + \"theta.csv\", delimiter = \", \" )\n",
    "    density[run,:,:] = np.genfromtxt(output_dir + initialiser_list[sim_num][0] + '/Run %s/' %str(run+1) + \"/\" + \"density.csv\", delimiter = \", \" )\n"
   ]
  },
  {
   "cell_type": "code",
   "execution_count": 51,
   "metadata": {
    "ExecuteTime": {
     "end_time": "2021-05-11T05:24:38.440582Z",
     "start_time": "2021-05-11T05:24:37.902482Z"
    }
   },
   "outputs": [],
   "source": [
    "kappa_mean = ma.masked_equal(kappa_mean, -1000)\n",
    "\n",
    "kappa_lattice_mean = np.mean(kappa_mean, axis=2)\n",
    "theta_mean = ma.masked_equal(theta_mean, -1000)\n",
    "theta_lattice_mean = np.mean(theta_mean, axis=2)\n",
    "density = ma.masked_equal(density, -1000)\n",
    "\n",
    "total_cells = np.sum(density, axis=2)\n"
   ]
  },
  {
   "cell_type": "raw",
   "metadata": {
    "ExecuteTime": {
     "end_time": "2021-01-09T10:14:01.079303Z",
     "start_time": "2021-01-09T10:14:00.998441Z"
    }
   },
   "source": [
    "print(kappa_mean.shape)\n",
    "b = ma.getmask(kappa_mean[run,1,:])\n",
    "a = kappa_mean[run,1,:][b]\n",
    "print(a.shape)\n",
    "c = ma.clump_unmasked(kappa_mean[run,30,:])\n",
    "d = kappa_mean[run,30,:][ma.clump_unmasked(kappa_mean[run,30,:])]\n",
    "e = nodes[c]\n",
    "plt.plot(e,d)"
   ]
  },
  {
   "cell_type": "markdown",
   "metadata": {},
   "source": [
    "# Plot of Histogram + Scatter Plot Overlap"
   ]
  },
  {
   "cell_type": "raw",
   "metadata": {
    "ExecuteTime": {
     "end_time": "2021-02-08T11:55:08.596095Z",
     "start_time": "2021-02-08T11:48:16.981655Z"
    }
   },
   "source": [
    "plt.figure()\n",
    "dt = 20\n",
    "total_times = int(tmax/dt)+1\n",
    "for t in range(total_times):\n",
    "    fig, ax = plt.subplots()\n",
    "    plt.hist2d(kappa_mean[:,:,:].flatten(), theta_mean[:,:,:].flatten(), bins=100, range=[[-10,6],[-0.5,1.5]], cmap=plt.cm.Blues)\n",
    "    cma = plt.colorbar(label = \"Total Cells\")\n",
    "    plt.scatter(kappa_lattice_mean[:,dt*t], theta_lattice_mean[:,dt*t], c = total_cells[:,dt*t], cmap='viridis', s=total_cells[:,dt*t]/2.0, linewidth=0, alpha=0.4)\n",
    "    cmb = plt.colorbar(label='Total Cells')\n",
    "    #plt.scatter(kappa_lattice_mean[:,dt*t], theta_lattice_mean[:,dt*t], alpha = 0.5)\n",
    "    plt.xlabel('Kappa')\n",
    "    plt.ylabel('Theta')\n",
    "    plt.xlim([-10,6])\n",
    "    \n",
    "    plt.ylim([-0.5,1.5])\n",
    "    plt.title('Mean Kappa and Theta at time: ' + str(dt*t))\n",
    "    plt.legend(title = 'Radius = Total Number of Cells')\n",
    "    #plt.scatter(kappas, thetas, alpha=0.005)\n",
    "    plt.grid(which='both')\n",
    "    ax.fill_between(kappas, np.linspace(theta_min, theta_min), np.linspace(theta_max,theta_max),facecolor='red', alpha=0.05)\n",
    "    for run in range(Runs):\n",
    "        plt.annotate(str(run+1), (kappa_lattice_mean[run,dt*t], theta_lattice_mean[run,dt*t]))\n",
    "    plt.savefig(output_dir + initialiser_list[sim_num][0] + '/Pictures/Mean_kt_scatter/histScatter{:03d}.jpg'.format(t), dpi=200)\n",
    "    fig.clear()\n",
    "    plt.close(fig)"
   ]
  },
  {
   "cell_type": "markdown",
   "metadata": {},
   "source": [
    "# Histogram of kappa theta"
   ]
  },
  {
   "cell_type": "code",
   "execution_count": 52,
   "metadata": {
    "ExecuteTime": {
     "end_time": "2021-05-11T05:24:39.158451Z",
     "start_time": "2021-05-11T05:24:38.441736Z"
    }
   },
   "outputs": [
    {
     "data": {
      "image/png": "[encoded data removed]",
      "text/plain": [
       "<Figure size 432x288 with 2 Axes>"
      ]
     },
     "metadata": {
      "needs_background": "light"
     },
     "output_type": "display_data"
    }
   ],
   "source": [
    "if not os.path.exists(output_dir + initialiser_list[sim_num][0] + '/Pictures/'):\n",
    "        os.makedirs(output_dir + initialiser_list[sim_num][0] + '/Pictures/')\n",
    "\n",
    "plt.figure()\n",
    "#ax = fig.add_subplot(1, 1, 1) \n",
    "plt.hist2d(kappa_mean[:,3000:,:].flatten(), theta_mean[:,3000:,:].flatten(), bins=100, range=[[-10,6],[-0.0,1.0]], cmap=plt.cm.inferno)\n",
    "plt.colorbar(label = \"Number of cells\")\n",
    "plt.xlabel(\"Kappa\", size=14)\n",
    "plt.ylabel(\"Theta\", size=14)\n",
    "plt.title(\"Distribution of cells(in the last 2000 steps)\")\n",
    "plt.savefig(output_dir + initialiser_list[sim_num][0] + '/Pictures/kt_hist.jpg')"
   ]
  },
  {
   "cell_type": "raw",
   "metadata": {
    "ExecuteTime": {
     "end_time": "2021-02-04T21:57:14.712976Z",
     "start_time": "2021-02-04T21:57:12.796743Z"
    }
   },
   "source": [
    "if not os.path.exists(output_dir + initialiser_list[sim_num][0] + '/Pictures/'):\n",
    "        os.makedirs(output_dir + initialiser_list[sim_num][0] + '/Pictures/')\n",
    "\n",
    "plt.figure()\n",
    "#ax = fig.add_subplot(1, 1, 1) \n",
    "plt.hist2d(kappa_mean[:,1000:,:].flatten(), theta_mean[:,1000:,:].flatten(), bins=100, range=[[-10,5],[0,1]], cmap=plt.cm.inferno)\n",
    "plt.colorbar(label = \"Number of cells\")\n",
    "plt.xlabel(\"Kappa\", size=14)\n",
    "plt.ylabel(\"Theta\", size=14)\n",
    "plt.title(\"Distribution of cells after 1000 timesteps\")\n",
    "plt.savefig(output_dir + initialiser_list[sim_num][0] + '/Pictures/kt_hist_steady.jpg')"
   ]
  },
  {
   "cell_type": "code",
   "execution_count": 53,
   "metadata": {
    "ExecuteTime": {
     "end_time": "2021-05-11T05:24:39.271256Z",
     "start_time": "2021-05-11T05:24:39.159728Z"
    }
   },
   "outputs": [],
   "source": [
    "# Run separated histogram"
   ]
  },
  {
   "cell_type": "raw",
   "metadata": {
    "ExecuteTime": {
     "end_time": "2021-02-04T21:57:18.850652Z",
     "start_time": "2021-02-04T21:57:15.374073Z"
    }
   },
   "source": [
    "plt.figure()\n",
    "#ax = fig.add_subplot(1, 1, 1) \n",
    "\n",
    "\n",
    "plt1 = plt.hist2d(kappa_mean[0,:,:].flatten(), theta_mean[0,:,:].flatten(), bins=100, range=[[-6,0],[0,1]], cmap=plt.cm.Greys, alpha =0.2, label = \"Run 1\")\n",
    "plt2 = plt.hist2d(kappa_mean[1,:,:].flatten(), theta_mean[1,:,:].flatten(), bins=100, range=[[-6,0],[0,1]], cmap=plt.cm.Reds, alpha =0.2, label = \"Run 2\")\n",
    "plt3 = plt.hist2d(kappa_mean[2,:,:].flatten(), theta_mean[2,:,:].flatten(), bins=100, range=[[-6,0],[0,1]], cmap=plt.cm.Greens, alpha =0.2, label = \"Run 3\")\n",
    "plt4 = plt.hist2d(kappa_mean[3,:,:].flatten(), theta_mean[3,:,:].flatten(), bins=100, range=[[-6,0],[0,1]], cmap=plt.cm.Blues, alpha =0.2, label = \"Run 4\")\n",
    "plt5 = plt.hist2d(kappa_mean[4,:,:].flatten(), theta_mean[4,:,:].flatten(), bins=100, range=[[-6,0],[0,1]], cmap=plt.cm.Purples, alpha =0.2, label = \"Run 5\")\n",
    "plt.xlabel(\"Data\", size=14)\n",
    "plt.ylabel(\"Count\", size=14)\n",
    "plt.title(\"Multiple Histograms with Matplotlib\")\n",
    "plt.legend(['Run1','Run2','Run3', 'Run4', 'Run5'],loc='upper right')  #[plt1, plt2, plt3, plt4, plt5], \n",
    "plt.savefig('dd.jpg')"
   ]
  },
  {
   "cell_type": "markdown",
   "metadata": {},
   "source": [
    "# Scatter plots for mean kappa vs theta with total cells"
   ]
  },
  {
   "cell_type": "code",
   "execution_count": 54,
   "metadata": {
    "ExecuteTime": {
     "end_time": "2021-05-11T05:25:03.341684Z",
     "start_time": "2021-05-11T05:24:39.275336Z"
    }
   },
   "outputs": [
    {
     "name": "stderr",
     "output_type": "stream",
     "text": [
      "No handles with labels found to put in legend.\n",
      "No handles with labels found to put in legend.\n",
      "No handles with labels found to put in legend.\n",
      "No handles with labels found to put in legend.\n",
      "No handles with labels found to put in legend.\n",
      "No handles with labels found to put in legend.\n",
      "No handles with labels found to put in legend.\n",
      "No handles with labels found to put in legend.\n",
      "No handles with labels found to put in legend.\n",
      "No handles with labels found to put in legend.\n",
      "No handles with labels found to put in legend.\n",
      "No handles with labels found to put in legend.\n",
      "No handles with labels found to put in legend.\n",
      "No handles with labels found to put in legend.\n",
      "No handles with labels found to put in legend.\n",
      "No handles with labels found to put in legend.\n",
      "No handles with labels found to put in legend.\n",
      "No handles with labels found to put in legend.\n",
      "No handles with labels found to put in legend.\n",
      "No handles with labels found to put in legend.\n",
      "No handles with labels found to put in legend.\n",
      "No handles with labels found to put in legend.\n",
      "No handles with labels found to put in legend.\n",
      "No handles with labels found to put in legend.\n",
      "No handles with labels found to put in legend.\n",
      "No handles with labels found to put in legend.\n",
      "No handles with labels found to put in legend.\n",
      "No handles with labels found to put in legend.\n",
      "No handles with labels found to put in legend.\n",
      "No handles with labels found to put in legend.\n",
      "No handles with labels found to put in legend.\n",
      "No handles with labels found to put in legend.\n",
      "No handles with labels found to put in legend.\n",
      "No handles with labels found to put in legend.\n",
      "No handles with labels found to put in legend.\n",
      "No handles with labels found to put in legend.\n",
      "No handles with labels found to put in legend.\n",
      "No handles with labels found to put in legend.\n",
      "No handles with labels found to put in legend.\n",
      "No handles with labels found to put in legend.\n",
      "No handles with labels found to put in legend.\n",
      "No handles with labels found to put in legend.\n",
      "No handles with labels found to put in legend.\n",
      "No handles with labels found to put in legend.\n",
      "No handles with labels found to put in legend.\n",
      "No handles with labels found to put in legend.\n",
      "No handles with labels found to put in legend.\n",
      "No handles with labels found to put in legend.\n",
      "No handles with labels found to put in legend.\n",
      "No handles with labels found to put in legend.\n",
      "No handles with labels found to put in legend.\n",
      "No handles with labels found to put in legend.\n",
      "No handles with labels found to put in legend.\n",
      "No handles with labels found to put in legend.\n",
      "No handles with labels found to put in legend.\n",
      "No handles with labels found to put in legend.\n",
      "No handles with labels found to put in legend.\n",
      "No handles with labels found to put in legend.\n",
      "No handles with labels found to put in legend.\n",
      "No handles with labels found to put in legend.\n",
      "No handles with labels found to put in legend.\n",
      "No handles with labels found to put in legend.\n",
      "No handles with labels found to put in legend.\n",
      "No handles with labels found to put in legend.\n",
      "No handles with labels found to put in legend.\n",
      "No handles with labels found to put in legend.\n",
      "No handles with labels found to put in legend.\n",
      "No handles with labels found to put in legend.\n",
      "No handles with labels found to put in legend.\n",
      "No handles with labels found to put in legend.\n",
      "No handles with labels found to put in legend.\n",
      "No handles with labels found to put in legend.\n",
      "No handles with labels found to put in legend.\n",
      "No handles with labels found to put in legend.\n",
      "No handles with labels found to put in legend.\n",
      "No handles with labels found to put in legend.\n",
      "No handles with labels found to put in legend.\n",
      "No handles with labels found to put in legend.\n",
      "No handles with labels found to put in legend.\n",
      "No handles with labels found to put in legend.\n",
      "No handles with labels found to put in legend.\n",
      "No handles with labels found to put in legend.\n",
      "No handles with labels found to put in legend.\n",
      "No handles with labels found to put in legend.\n",
      "No handles with labels found to put in legend.\n",
      "No handles with labels found to put in legend.\n",
      "No handles with labels found to put in legend.\n",
      "No handles with labels found to put in legend.\n",
      "No handles with labels found to put in legend.\n",
      "No handles with labels found to put in legend.\n",
      "No handles with labels found to put in legend.\n",
      "No handles with labels found to put in legend.\n",
      "No handles with labels found to put in legend.\n",
      "No handles with labels found to put in legend.\n",
      "No handles with labels found to put in legend.\n",
      "No handles with labels found to put in legend.\n",
      "No handles with labels found to put in legend.\n",
      "No handles with labels found to put in legend.\n",
      "No handles with labels found to put in legend.\n",
      "No handles with labels found to put in legend.\n",
      "No handles with labels found to put in legend.\n"
     ]
    }
   ],
   "source": [
    "dt = 50\n",
    "total_times = int(tmax/dt)+1\n",
    "if not os.path.exists(output_dir + initialiser_list[sim_num][0] + '/Pictures/Mean_kt_scatter/'):\n",
    "        os.makedirs(output_dir + initialiser_list[sim_num][0] + '/Pictures/Mean_kt_scatter/')\n",
    "for t in range(total_times):\n",
    "    fig, ax = plt.subplots()\n",
    "    plt.scatter(kappa_lattice_mean[:,dt*t], theta_lattice_mean[:,dt*t], c = total_cells[:,dt*t], cmap='viridis', s=total_cells[:,dt*t]/2.0, linewidth=0, alpha=0.2)\n",
    "    plt.colorbar(label='Total Cells')\n",
    "    #plt.scatter(kappa_lattice_mean[:,dt*t], theta_lattice_mean[:,dt*t], alpha = 0.5)\n",
    "    plt.xlabel('Kappa')\n",
    "    plt.ylabel('Theta')\n",
    "    plt.xlim([-10,6])\n",
    "    \n",
    "    plt.ylim([-0.5,1.5])\n",
    "    plt.title('Mean Kappa and Theta at time: ' + str(dt*t))\n",
    "    plt.legend(title = 'Radius = Total Number of Cells')\n",
    "    plt.scatter(kappas, thetas, alpha=0.005)\n",
    "    plt.grid(which='both')\n",
    "    ax.fill_between(kappas, np.linspace(theta_min, theta_min), np.linspace(theta_max,theta_max),facecolor='red', alpha=0.05)\n",
    "    for run in range(Runs):\n",
    "        plt.annotate(str(run+1), (kappa_lattice_mean[run,dt*t], theta_lattice_mean[run,dt*t]))\n",
    "    plt.savefig(output_dir + initialiser_list[sim_num][0] + '/Pictures/Mean_kt_scatter/' + str(t) + '.jpg', dpi=200)\n",
    "    fig.clear()\n",
    "    plt.close(fig)"
   ]
  },
  {
   "cell_type": "raw",
   "metadata": {
    "ExecuteTime": {
     "end_time": "2021-01-11T10:58:29.260506Z",
     "start_time": "2021-01-11T10:58:23.858540Z"
    }
   },
   "source": [
    "dt = 50\n",
    "total_times = int(tmax/dt)+1\n",
    "for run in range(Runs):\n",
    "    if not os.path.exists(output_dir + initialiser_list[sim_num][0] + '/Pictures/Run %s/' %str(run+1) + '/spatiotemp_scatter/'):\n",
    "            os.makedirs(output_dir + initialiser_list[sim_num][0] + '/Pictures/Run %s/' %str(run+1) + '/spatiotemp_scatter/')\n",
    "    for t in range(total_times):\n",
    "        fig, axs = plt.subplots(3,1)\n",
    "        fig.suptitle('Spatial Distribution of Properties at time %s'%str(t*dt), y=1.0)\n",
    "        \n",
    "        axs[0].scatter(nodes, kappa_mean[run,dt*t,:], c=kappa_mean[run,dt*t,:], cmap='viridis', linewidth=0, alpha=0.2)\n",
    "        axs[0].set_xlabel('Node Number')\n",
    "        axs[0].set_ylabel('Average Kappa')\n",
    "        axs[0].set_xlim(-10,L)\n",
    "        axs[0].grid(True)\n",
    "        \n",
    "        axs[1].scatter(nodes, theta_mean[run,dt*t,:], c=theta_mean[run,dt*t,:], cmap='viridis', linewidth=0, alpha=0.2)\n",
    "        axs[1].set_xlabel('Node Number')\n",
    "        axs[1].set_ylabel('Average Theta')\n",
    "        axs[1].set_xlim(-10,L)\n",
    "        axs[1].grid(True)\n",
    "        \n",
    "        axs[2].scatter(nodes, density[run,dt*t,:], c=density[run,dt*t,:], cmap='viridis', linewidth=0, alpha=0.2)\n",
    "        axs[2].set_xlabel('Node Number')\n",
    "        axs[2].set_ylabel('Density')\n",
    "        axs[2].set_xlim(-10,L)\n",
    "        axs[2].grid(True)\n",
    "        \n",
    "        fig.tight_layout()\n",
    "        plt.savefig(output_dir + initialiser_list[sim_num][0] + '/Pictures/Run %s/' %str(run+1) + '/spatiotemp_scatter/'+ str(t) + '.jpg', dpi=200)"
   ]
  },
  {
   "cell_type": "code",
   "execution_count": 55,
   "metadata": {
    "ExecuteTime": {
     "end_time": "2021-05-11T05:28:12.433873Z",
     "start_time": "2021-05-11T05:25:03.344022Z"
    }
   },
   "outputs": [],
   "source": [
    "dt = 50\n",
    "total_times = int(tmax/dt)+1\n",
    "valid = np.logical_not(kappa_mean.mask)\n",
    "for run in range(Runs):\n",
    "    if not os.path.exists(output_dir + initialiser_list[sim_num][0] + '/Pictures/Run %s/' %str(run+1) + '/spatiotemp_scatter_smooth/'):\n",
    "            os.makedirs(output_dir + initialiser_list[sim_num][0] + '/Pictures/Run %s/' %str(run+1) + '/spatiotemp_scatter_smooth/')\n",
    "    min_kappa = min(kappa_mean[run,:,:][valid[run,:,:]])\n",
    "    max_kappa = max(kappa_mean[run,:,:][valid[run,:,:]])\n",
    "    for t in range(total_times):\n",
    "        fig = plt.figure(figsize=((6,6)));\n",
    "        N = 25\n",
    "        fig.suptitle('Spatial distribution of properties at time %s smoothened \\n over a neighbourhood of %d nodes\\n (colour indicates actual value)'%(str(t*dt), N), fontsize=8);\n",
    "        \n",
    "        # set height ratios for sublots\n",
    "        gs = gridspec.GridSpec(3, 1) \n",
    "        \n",
    "        \n",
    "        new_nodes = nodes[valid[run,dt*t,:]]\n",
    "        # the fisrt subplot\n",
    "        ax0 = plt.subplot(gs[0]);\n",
    "        plot0 = ax0.scatter(new_nodes, uniform_filter1d(kappa_mean[run,dt*t,:][valid[run,dt*t,:]], size=N, mode='reflect'), c=kappa_mean[run,dt*t,:][valid[run,dt*t,:]], cmap='viridis', linewidth=0, alpha=0.2);\n",
    "        fig.colorbar(plot0, ax=ax0)\n",
    "        ax0.set_ylabel(r'$\\kappa_{avg}$')\n",
    "        ax0.set_xlim(-10,L)\n",
    "        ax0.set_ylim(min_kappa,max_kappa)\n",
    "        #ax0.set_ylim(min_kappa,2.0)\n",
    "        ax0.grid(True)\n",
    "        \n",
    "        #the second subplot\n",
    "        # shared axis X\n",
    "        ax1 = plt.subplot(gs[1], sharex = ax0);\n",
    "        plot1 = ax1.scatter(new_nodes, uniform_filter1d(theta_mean[run,dt*t,:][valid[run,dt*t,:]], size=N, mode='reflect'), c=theta_mean[run,dt*t,:][valid[run,dt*t,:]], cmap='viridis', linewidth=0, alpha=0.2);\n",
    "        fig.colorbar(plot1, ax=ax1)\n",
    "        ax1.set_ylabel(r'$\\theta_{avg}$');\n",
    "        ax1.set_xlim(-10,L);\n",
    "        ax1.set_ylim(-0.1,1.1);\n",
    "        ax1.grid(True);\n",
    "        \n",
    "        plt.setp(ax0.get_xticklabels(), visible=False);\n",
    "        plt.setp(ax1.get_xticklabels(), visible=False);\n",
    "        # remove last tick label for the second subplot\n",
    "        yticks = ax1.yaxis.get_major_ticks();\n",
    "        yticks[-1].label1.set_visible(False);\n",
    "        \n",
    "        ax2 = plt.subplot(gs[2], sharex = ax0);\n",
    "        plot2 = ax2.scatter(new_nodes, uniform_filter1d(density[run,dt*t,:][valid[run,dt*t,:]], size=N, mode='reflect'), c=density[run,dt*t,:][valid[run,dt*t,:]], cmap='viridis', linewidth=0, alpha=0.2);\n",
    "        fig.colorbar(plot2, ax=ax2)\n",
    "        ax2.set_xlabel('Node Number');\n",
    "        ax2.set_ylabel('Number of \\n cells')#r'$\\rho$');\n",
    "        ax2.set_xlim(-10,L);\n",
    "        ax2.set_ylim(0,8);\n",
    "        ax2.grid(True);\n",
    "        \n",
    "        #plt.setp(ax0.get_xticklabels(), visible=False)\n",
    "        # remove last tick label for the second subplot\n",
    "        xticks2 = ax2.xaxis.get_major_ticks();\n",
    "        xticks2[-1].label1.set_visible(False);\n",
    "        plt.subplots_adjust(hspace=0.0);\n",
    "        \n",
    "        fig.tight_layout();\n",
    "        plt.savefig(output_dir + initialiser_list[sim_num][0] + '/Pictures/Run %s/' %str(run+1) + '/spatiotemp_scatter_smooth/' + str(t) + '.jpg'.format(t), dpi=200);\n",
    "        #plt.savefig(output_dir + initialiser_list[sim_num][0] + '/Pictures/Run %s/' %str(run+1) + '/spatiotemp_scatter_smooth/Not{:04d}.jpg'.format(t), dpi=200);\n",
    "        plt.close()\n",
    "        \"\"\"\n",
    "        fig, axs = plt.subplots(3,1)\n",
    "        fig.suptitle('Spatial Distribution of Properties at time %s'%str(t*dt), y=1.0)\n",
    "        \n",
    "        #value of scatter is averaged over a window of size N, colour of the point is their actual value\n",
    "        N = 5\n",
    "        valid = np.logical_not(kappa_mean.mask)\n",
    "        new_nodes = nodes[valid[run,dt*t,:]]\n",
    "        #axs[0].scatter(nodes[valid], np.convolve(kappa_mean[run,dt*t,:][valid], np.ones(N)/N, mode='full'), c=kappa_mean[run,dt*t,:], cmap='viridis', linewidth=0, alpha=0.2)\n",
    "        axs[0].scatter(new_nodes, uniform_filter1d(kappa_mean[run,dt*t,:][valid[run,dt*t,:]], size=N, mode='reflect'), c=kappa_mean[run,dt*t,:][valid[run,dt*t,:]], cmap='viridis', linewidth=0, alpha=0.2)\n",
    "        axs[0].set_xlabel('Node Number')\n",
    "        axs[0].set_ylabel('Average Kappa')\n",
    "        axs[0].set_xlim(-10,L)\n",
    "        axs[0].set_ylim(min_kappa,max_kappa)\n",
    "        axs[0].grid(True)\n",
    "        \n",
    "        axs[1].scatter(new_nodes, uniform_filter1d(theta_mean[run,dt*t,:][valid[run,dt*t,:]], size=N, mode='reflect'), c=theta_mean[run,dt*t,:][valid[run,dt*t,:]], cmap='viridis', linewidth=0, alpha=0.2)\n",
    "        axs[1].set_xlabel('Node Number')\n",
    "        axs[1].set_ylabel('Average Theta')\n",
    "        axs[1].set_xlim(-10,L)\n",
    "        axs[1].set_ylim(-0.3,1.3)\n",
    "        axs[1].grid(True)\n",
    "        \n",
    "        axs[2].scatter(new_nodes, uniform_filter1d(density[run,dt*t,:][valid[run,dt*t,:]], size=N, mode='reflect'), c=density[run,dt*t,:][valid[run,dt*t,:]], cmap='viridis', linewidth=0, alpha=0.2)\n",
    "        axs[2].set_xlabel('Node Number')\n",
    "        axs[2].set_ylabel('Density')\n",
    "        axs[2].set_xlim(-10,L)\n",
    "        axs[2].set_ylim(0,8)\n",
    "        axs[2].grid(True)\n",
    "        \"\"\"\n",
    "        "
   ]
  },
  {
   "cell_type": "code",
   "execution_count": null,
   "metadata": {
    "ExecuteTime": {
     "end_time": "2021-01-11T09:50:37.195858Z",
     "start_time": "2021-01-11T09:50:15.785Z"
    }
   },
   "outputs": [],
   "source": []
  },
  {
   "cell_type": "code",
   "execution_count": null,
   "metadata": {},
   "outputs": [],
   "source": []
  }
 ],
 "metadata": {
  "kernelspec": {
   "display_name": "Python 3",
   "language": "python",
   "name": "python3"
  },
  "language_info": {
   "codemirror_mode": {
    "name": "ipython",
    "version": 3
   },
   "file_extension": ".py",
   "mimetype": "text/x-python",
   "name": "python",
   "nbconvert_exporter": "python",
   "pygments_lexer": "ipython3",
   "version": "3.8.5"
  },
  "toc": {
   "base_numbering": 1,
   "nav_menu": {},
   "number_sections": true,
   "sideBar": true,
   "skip_h1_title": false,
   "title_cell": "Table of Contents",
   "title_sidebar": "Contents",
   "toc_cell": true,
   "toc_position": {
    "height": "calc(100% - 180px)",
    "left": "10px",
    "top": "150px",
    "width": "384px"
   },
   "toc_section_display": true,
   "toc_window_display": false
  },
  "varInspector": {
   "cols": {
    "lenName": 16,
    "lenType": 16,
    "lenVar": 40
   },
   "kernels_config": {
    "python": {
     "delete_cmd_postfix": "",
     "delete_cmd_prefix": "del ",
     "library": "var_list.py",
     "varRefreshCmd": "print(var_dic_list())"
    },
    "r": {
     "delete_cmd_postfix": ") ",
     "delete_cmd_prefix": "rm(",
     "library": "var_list.r",
     "varRefreshCmd": "cat(var_dic_list()) "
    }
   },
   "types_to_exclude": [
    "module",
    "function",
    "builtin_function_or_method",
    "instance",
    "_Feature"
   ],
   "window_display": false
  }
 },
 "nbformat": 4,
 "nbformat_minor": 4
}
