{
 "cells": [
  {
   "cell_type": "code",
   "execution_count": 1,
   "id": "center-america",
   "metadata": {
    "pycharm": {
     "name": "#%%\n"
    }
   },
   "source": [
    "import numpy as np\n",
    "import matplotlib.pyplot as plt\n",
    "from lgca import get_lgca\n",
    "from scipy.integrate import odeint, solve_ivp\n",
    "from scipy.special import erf\n",
    "from math import sqrt\n",
    "from scipy.ndimage.filters import laplace, convolve1d\n",
    "import seaborn as sns\n",
    "import matplotlib as mpl\n",
    "mpl.rcParams['lines.linewidth'] = 2"
   ],
   "outputs": []
  },
  {
   "cell_type": "code",
   "execution_count": 101,
   "id": "a5c04026-4f07-46c2-81a2-b8b03df67476",
   "metadata": {
    "pycharm": {
     "name": "#%%\n"
    }
   },
   "source": [
    "def diff_adv(t, y, D, c, dx):\n",
    "    dy = D / dx**2 * laplace(y) - c * np.gradient(y, dx)\n",
    "    #  boundary conditions\n",
    "    dy[0] = 2 * D/dx**2 * (y[1] - y[0] - c / D * y[0] * dx) - c**2 / D * y[0]\n",
    "    dy[-1] = 2 * D/dx**2 * (y[-2] - y[-1] + c / D * dx * y[-1]) - c**2 / D * y[-1]\n",
    "    return dy"
   ],
   "outputs": []
  },
  {
   "cell_type": "code",
   "execution_count": 102,
   "id": "fe5c03b9-be5b-4e92-ab7c-4415ce8822cd",
   "metadata": {
    "pycharm": {
     "name": "#%%\n"
    }
   },
   "source": [
    "D = 0.2\n",
    "#test\n",
    "v = 0.2\n",
    "xmax = 10\n",
    "x, dx = np.linspace(0, xmax, 401, retstep=True)\n",
    "y0 = np.zeros_like(x)\n",
    "y0[len(x)//2] = 1. / dx\n",
    "tmax = 100\n",
    "ts = np.linspace(0, tmax, 101)"
   ],
   "outputs": []
  },
  {
   "cell_type": "code",
   "execution_count": 103,
   "id": "db8e41a6-1595-45b7-ac19-7a67c61337b4",
   "metadata": {
    "pycharm": {
     "name": "#%%\n"
    }
   },
   "source": [
    "sol = solve_ivp(diff_adv, (0, tmax), y0, t_eval=ts, args=(D, v, dx))"
   ],
   "outputs": []
  },
  {
   "cell_type": "code",
   "execution_count": 104,
   "id": "abf6da70-1f01-4c60-93cb-68c30cc2527d",
   "metadata": {
    "pycharm": {
     "name": "#%%\n"
    }
   },
   "source": [
    "sol.message"
   ],
   "outputs": []
  },
  {
   "cell_type": "code",
   "execution_count": 105,
   "id": "84fed6d7-96a9-46fe-8dce-90861d975bb4",
   "metadata": {
    "pycharm": {
     "name": "#%%\n"
    }
   },
   "source": [
    "yt = sol.y.T"
   ],
   "outputs": []
  },
  {
   "cell_type": "code",
   "execution_count": 106,
   "id": "3d822a6b-1cf3-4607-ab03-302621cc6972",
   "metadata": {
    "pycharm": {
     "name": "#%%\n"
    }
   },
   "source": [
    "plt.plot(yt.sum(-1) * dx)"
   ],
   "outputs": []
  },
  {
   "cell_type": "code",
   "execution_count": 107,
   "id": "84c94308-6507-4a73-869f-c48b2fa60d4f",
   "metadata": {
    "pycharm": {
     "name": "#%%\n"
    }
   },
   "source": [
    "for t in np.linspace(1, len(ts), 5, dtype=int, endpoint=False):\n",
    "    p = plt.plot(x, yt[t], label='t = {:n}'.format(ts[t]), lw=1)\n",
    "\n",
    "#plt.plot(alpha, sol[-1], label='t = {:n}'.format(ts[-1]))\n",
    "plt.xlabel('$x$')\n",
    "plt.ylabel('$\\\\rho(x)$')\n",
    "plt.legend()"
   ],
   "outputs": []
  },
  {
   "cell_type": "code",
   "execution_count": 9,
   "id": "moving-circumstances",
   "metadata": {
    "pycharm": {
     "name": "#%%\n"
    }
   },
   "source": [
    "# geometry\n",
    "geom = 'square'\n",
    "restchannels = 1\n",
    "l = 30\n",
    "dims = l, l\n",
    "# model parameters\n",
    "\n",
    "r_d = 0.01\n",
    "r_b = 0.2\n",
    "kappa = -2\n",
    "theta = 0.8\n",
    "\n",
    "# simulation parameters\n",
    "dens = 0.2 #starting condition\n",
    "time = 100\n",
    "nodes = np.zeros(dims+(5,), dtype=int)\n",
    "nodes[l//2, l//2] = 1\n",
    "\n",
    "\n",
    "lgca = get_lgca(interaction='go_or_grow', bc='periodic', density=dens, geometry=geom, dims=dims, restchannels=restchannels, ve=False, ib=True,\n",
    "                r_d=r_d, r_b=r_b, kappa=kappa, theta=theta, nodes=nodes)"
   ],
   "outputs": []
  },
  {
   "cell_type": "code",
   "execution_count": 10,
   "id": "complimentary-soldier",
   "metadata": {
    "pycharm": {
     "name": "#%%\n"
    }
   },
   "source": [
    "lgca.timeevo(time, record=True)"
   ],
   "outputs": []
  },
  {
   "cell_type": "code",
   "execution_count": 11,
   "id": "a882056e",
   "metadata": {
    "collapsed": false,
    "jupyter": {
     "outputs_hidden": false
    },
    "pycharm": {
     "name": "#%%\n"
    }
   },
   "source": [
    "lgca.animate_density()"
   ],
   "outputs": []
  },
  {
   "cell_type": "code",
   "execution_count": null,
   "id": "ed2cbd65",
   "metadata": {
    "collapsed": false,
    "jupyter": {
     "outputs_hidden": false
    },
    "pycharm": {
     "name": "#%%\n"
    }
   },
   "source": [],
   "outputs": []
  },
  {
   "cell_type": "code",
   "execution_count": 12,
   "id": "d5c2e15c",
   "metadata": {
    "collapsed": false,
    "jupyter": {
     "outputs_hidden": false
    },
    "pycharm": {
     "name": "#%%\n"
    }
   },
   "source": [
    "lgca.plot_prop_spatial()"
   ],
   "outputs": []
  }
 ],
 "metadata": {
  "kernelspec": {
   "display_name": "Python 3 (ipykernel)",
   "language": "python",
   "name": "python3"
  },
  "language_info": {
   "codemirror_mode": {
    "name": "ipython",
    "version": 3
   },
   "file_extension": ".py",
   "mimetype": "text/x-python",
   "name": "python",
   "nbconvert_exporter": "python",
   "pygments_lexer": "ipython3",
   "version": "3.8.13"
  }
 },
 "nbformat": 4,
 "nbformat_minor": 5
}
