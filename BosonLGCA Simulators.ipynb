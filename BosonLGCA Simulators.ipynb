{
 "cells": [
  {
   "cell_type": "markdown",
   "metadata": {
    "pycharm": {
     "name": "#%% md\n"
    },
    "toc": true
   },
   "source": [
    "<h1>Table of Contents<span class=\"tocSkip\"></span></h1>\n",
    "<div class=\"toc\"><ul class=\"toc-item\"><li><span><a href=\"#Importing-Libraries\" data-toc-modified-id=\"Importing-Libraries-1\"><span class=\"toc-item-num\">1&nbsp;&nbsp;</span>Importing Libraries</a></span></li><li><span><a href=\"#Initialiser-list\" data-toc-modified-id=\"Initialiser-list-2\"><span class=\"toc-item-num\">2&nbsp;&nbsp;</span>Initialiser list</a></span></li><li><span><a href=\"#Initial-Conditions\" data-toc-modified-id=\"Initial-Conditions-3\"><span class=\"toc-item-num\">3&nbsp;&nbsp;</span>Initial Conditions</a></span></li><li><span><a href=\"#Information-about-simulation-and-Write-functions\" data-toc-modified-id=\"Information-about-simulation-and-Write-functions-4\"><span class=\"toc-item-num\">4&nbsp;&nbsp;</span>Information about simulation and Write functions</a></span></li><li><span><a href=\"#Single-Run\" data-toc-modified-id=\"Single-Run-5\"><span class=\"toc-item-num\">5&nbsp;&nbsp;</span>Single Run</a></span></li><li><span><a href=\"#Saving-Plots-and-Data\" data-toc-modified-id=\"Saving-Plots-and-Data-6\"><span class=\"toc-item-num\">6&nbsp;&nbsp;</span>Saving Plots and Data</a></span></li><li><span><a href=\"#Multiple-Runs-and-saving-data\" data-toc-modified-id=\"Multiple-Runs-and-saving-data-7\"><span class=\"toc-item-num\">7&nbsp;&nbsp;</span>Multiple Runs and saving data</a></span></li></ul></div>"
   ]
  },
  {
   "cell_type": "markdown",
   "metadata": {
    "pycharm": {
     "name": "#%% md\n"
    }
   },
   "source": [
    "# Importing Libraries"
   ]
  },
  {
   "cell_type": "code",
   "execution_count": null,
   "metadata": {
    "ExecuteTime": {
     "end_time": "2021-01-11T19:09:22.070153Z",
     "start_time": "2021-01-11T19:09:21.776210Z"
    },
    "cell_style": "center",
    "pycharm": {
     "name": "#%%\n"
    }
   },
   "outputs": [],
   "source": [
    "import numpy as np\n",
    "import matplotlib.pyplot as plt\n",
    "import os\n",
    "from lgca import get_lgca\n",
    "from copy import deepcopy\n",
    "from operator import itemgetter\n",
    "import numpy.random as npr\n",
    "%matplotlib notebook\n",
    "#"
   ]
  },
  {
   "cell_type": "markdown",
   "metadata": {
    "pycharm": {
     "name": "#%% md\n"
    }
   },
   "source": [
    "# Initialiser list"
   ]
  },
  {
   "cell_type": "code",
   "execution_count": null,
   "metadata": {
    "ExecuteTime": {
     "end_time": "2021-01-11T19:09:22.105358Z",
     "start_time": "2021-01-11T19:09:22.077385Z"
    },
    "cell_style": "center",
    "code_folding": [],
    "pycharm": {
     "name": "#%%\n"
    }
   },
   "outputs": [],
   "source": [
    "#you can use this list to access simulation parameters easily. The first string is the unique simulation ID you provide for a unique set of parameters\n",
    "#You use this ID to identify what are the parameters used for a particular simulation,\n",
    "# [1:ID, 2:L, 3:tmax, 4:k=capacity, 5:n_i = number of initial nodes filled, \n",
    "#      6:c_i = number of initial cells per channel, 7:r_d=Death rate, 8:r_b = birth rate,\n",
    "#     9:minKappa, 10:maxKappa, 11:minTheta, 12:maxTheta, 13:kappa_std, 14:theta_std ]\n",
    "#d = birth rate = 1.0\n",
    "#c = birth rate = 0.5\n",
    "#b = 1000 timesteps\n",
    "initialiser_list = {'0':['1000',4, 10, 4, 3, 1, 0.05, 1.0, 0.0, 0.0, 0.0, 0.0, 0.2, 0.05],\\\n",
    "                    '1d':['1001',1500, 5000, 4, 10, 1, 0.05, 1.0, 0.0, 0.0, 0.0, 0.0, 0.2, 0.05],\\\n",
    "                    'test':['test',300, 1000, 4, 10, 1, 0.05, 1.0, 0.0, 0.0, 0.0, 0.0, 0.2, 0.05],\\\n",
    "                    '1b':['1001b',1000, 3000, 4, 10, 1, 0.05, 1.0, 0.0, 0.0, 0.0, 0.0, 0.2, 0.05],\\\n",
    "                    '2d':['1002',1500, 5000, 4, 10, 1, 0.05, 1.0, 4.0, 4.0, 0.0, 0.0, 0.2, 0.05],\\\n",
    "                    '3d':['1003',1500, 5000, 4, 10, 1, 0.05, 1.0, -4.0, -4.0, 0.0, 0.0, 0.2, 0.05],\\\n",
    "                    '4d':['1004',1500, 5000, 4, 10, 1, 0.05, 1.0, -4.0, 4.0, 0.0, 0.0, 0.2, 0.05],\\\n",
    "                    '1c':['1001c',1500, 5000, 4, 10, 1, 0.05, 0.5, 0.0, 0.0, 0.0, 0.0, 0.2, 0.05],\\\n",
    "                    '2c':['1002c',1500, 5000, 4, 10, 1, 0.05, 0.5, 4.0, 4.0, 0.0, 0.0, 0.2, 0.05],\\\n",
    "                   '3c':['1003c',1500, 5000, 4, 10, 1, 0.05, 0.5, -4.0, -4.0, 0.0, 0.0, 0.2, 0.05],\\\n",
    "                   '4c':['1004c',1500, 5000, 4, 10, 1, 0.05, 0.5, -4.0, 4.0, 0.0, 0.0, 0.2, 0.05],\\\n",
    "                    '5c':['1005c',1500, 5000, 4, 10, 1, 0.05, 0.5, 0.0, 0.0, 0.5, 0.5, 0.2, 0.05],\\\n",
    "                    '6c':['1006c',1500, 5000, 4, 10, 1, 0.05, 0.5, 4.0, 4.0, 0.5, 0.5, 0.2, 0.05],\\\n",
    "                   '7c':['1007c',1500, 5000, 4, 10, 1, 0.05, 0.5, -4.0, -4.0, 0.5, 0.5, 0.2, 0.05],\\\n",
    "                   '8c':['1008c',1500, 5000, 4, 10, 1, 0.05, 0.5, -4.0, 4.0, 0.5, 0.5, 0.2, 0.05],\\\n",
    "                   '9c':['1009c',1500, 5000, 4, 10, 1, 0.05, 0.5, 0.0, 0.0, 1.0, 1.0, 0.2, 0.05],\\\n",
    "                    '10c':['1010c',1500, 5000, 4, 10, 1, 0.05, 0.5, 4.0, 4.0, 1.0, 1.0, 0.2, 0.05],\\\n",
    "                   '11c':['1011c',1500, 5000, 4, 10, 1, 0.05, 0.5, -4.0, -4.0, 1.0, 1.0, 0.2, 0.05],\\\n",
    "                   '12c':['1012c',1500, 5000, 4, 10, 1, 0.05, 0.5, -4.0, 4.0, 1.0, 1.0, 0.2, 0.05],\\\n",
    "                   '13c':['1013c',1500, 5000, 4, 10, 1, 0.05, 0.5, 0.0, 0.0, 0.0, 1.0, 0.2, 0.05],\\\n",
    "                    '14c':['1014c',1500, 5000, 4, 10, 1, 0.05, 0.5, 4.0, 4.0, 0.0, 1.0, 0.2, 0.05],\\\n",
    "                   '15c':['1015c',1500, 5000, 4, 10, 1, 0.05, 0.5, -4.0, -4.0, 0.0, 1.0, 0.2, 0.05],\\\n",
    "                   '16c':['1016c',1500, 5000, 4, 10, 1, 0.05, 0.5, -4.0, 4.0, 0.0, 1.0, 0.2, 0.05]}\n"
   ]
  },
  {
   "cell_type": "markdown",
   "metadata": {
    "pycharm": {
     "name": "#%% md\n"
    }
   },
   "source": [
    "# Initial Conditions"
   ]
  },
  {
   "cell_type": "code",
   "execution_count": null,
   "metadata": {
    "ExecuteTime": {
     "end_time": "2021-01-11T20:39:41.379336Z",
     "start_time": "2021-01-11T20:39:41.368561Z"
    },
    "pycharm": {
     "name": "#%%\n"
    }
   },
   "outputs": [],
   "source": [
    "sim_num= '1c'\n",
    "L = initialiser_list[sim_num][1]\n",
    "tmax = initialiser_list[sim_num][2]\n",
    "k = initialiser_list[sim_num][3]\n",
    "n_ini = initialiser_list[sim_num][4]\n",
    "c_ini = initialiser_list[sim_num][5]\n",
    "r_d = initialiser_list[sim_num][6]\n",
    "r_b = initialiser_list[sim_num][7]\n",
    "k_sigma = initialiser_list[sim_num][12]\n",
    "t_sigma = initialiser_list[sim_num][13]\n",
    "\n",
    "nodes = np.empty(L*3,dtype=object)\n",
    "for i in range(n_ini*3):\n",
    "    nodes[i] = [c_ini*i+j+1 for j in range(c_ini)]\n",
    "for i in range((L-n_ini)*3):\n",
    "    nodes[i+n_ini*3] = []\n",
    "newnodes = nodes.reshape(L,3)\n",
    "\n",
    "totalcells = k*n_ini*c_ini\n",
    "\n",
    "kappas = np.linspace(initialiser_list[sim_num][8], initialiser_list[sim_num][9], totalcells)\n",
    "thetas = np.linspace(initialiser_list[sim_num][10], initialiser_list[sim_num][11], totalcells)\n",
    "npr.shuffle(kappas)\n",
    "npr.shuffle(thetas)\n",
    "kappas"
   ]
  },
  {
   "cell_type": "markdown",
   "metadata": {
    "ExecuteTime": {
     "end_time": "2020-12-27T15:55:10.104431Z",
     "start_time": "2020-12-27T15:55:10.101976Z"
    },
    "pycharm": {
     "name": "#%% md\n"
    }
   },
   "source": [
    "# Information about simulation and Write functions"
   ]
  },
  {
   "cell_type": "code",
   "execution_count": null,
   "metadata": {
    "ExecuteTime": {
     "end_time": "2021-01-11T20:39:43.710747Z",
     "start_time": "2021-01-11T20:39:43.702026Z"
    },
    "pycharm": {
     "name": "#%%\n"
    }
   },
   "outputs": [],
   "source": [
    "output_dir = \"output/\"\n",
    "str1 = \"Boson LGCA Simulations in 1D\\n\"\n",
    "str2 = \"ID: \" + initialiser_list[sim_num][0] + \"\\n\"\n",
    "str3 = \"Lattice size: \" + str(initialiser_list[sim_num][1]) + \"\\n\"\n",
    "str4 = \"Timesteps: \" + str(initialiser_list[sim_num][2]) + \"\\n\"\n",
    "str5 = \"Node capacity: \" + str(initialiser_list[sim_num][3]) + \"\\n\"\n",
    "str6 = \"Number of initial nodes filled: \" + str(initialiser_list[sim_num][4]) + \"\\n\"\n",
    "str7 = \"Number of cells in each channel initally: \" + str(initialiser_list[sim_num][5]) + \"\\n\"\n",
    "str8 = \"Death Rate: \" + str(initialiser_list[sim_num][6]) + \"\\n\"\n",
    "str9 = \"Birth Rate: \" + str(initialiser_list[sim_num][7]) + \"\\n\"\n",
    "str10 = \"Kappa: [\" + str(initialiser_list[sim_num][8]) + \",\"  + str(initialiser_list[sim_num][9]) + \"], Kappa Mutation rate: \" + str(initialiser_list[sim_num][12]) + \"\\n\"\n",
    "str11 = \"Theta: [\" + str(initialiser_list[sim_num][10]) + \",\"  + str(initialiser_list[sim_num][11]) + \"], Theta Mutation rate: \" + str(initialiser_list[sim_num][13]) + \"\\n\"\n",
    "\n",
    "if not os.path.exists(output_dir + initialiser_list[sim_num][0]):\n",
    "        os.makedirs(output_dir + initialiser_list[sim_num][0])\n",
    "infoFile = open(output_dir + initialiser_list[sim_num][0] + \"/\" + initialiser_list[sim_num][0] + \".txt\", 'w')\n",
    "for text in [str1, str2, str3, str4, str5, str6, str7, str8, str9, str10, str11]:\n",
    "    infoFile.writelines(text) \n",
    "infoFile.close()"
   ]
  },
  {
   "cell_type": "code",
   "execution_count": null,
   "metadata": {
    "ExecuteTime": {
     "end_time": "2021-01-11T19:09:22.425612Z",
     "start_time": "2021-01-11T19:09:22.342405Z"
    },
    "pycharm": {
     "name": "#%%\n"
    }
   },
   "outputs": [],
   "source": [
    "def write_property(prop_array, directory, prop_name):\n",
    "    np.savetxt(directory + prop_name+\".csv\", prop_array, delimiter=\", \", fmt='%-7.9f')\n"
   ]
  },
  {
   "cell_type": "markdown",
   "metadata": {
    "pycharm": {
     "name": "#%% md\n"
    }
   },
   "source": [
    "# Single Run"
   ]
  },
  {
   "cell_type": "code",
   "execution_count": null,
   "metadata": {
    "ExecuteTime": {
     "end_time": "2021-01-11T19:15:34.913925Z",
     "start_time": "2021-01-11T19:09:22.428163Z"
    },
    "pycharm": {
     "name": "#%%\n"
    }
   },
   "outputs": [],
   "source": [
    "lgca = get_lgca(geometry = '1d',dims=L, ib=True, ve = True, nodes_filled=n_ini, ini_channel_pop=c_ini, capacity=k, bc='reflecting', interaction='go_or_grow', kappa=kappas, theta=thetas, r_b=r_b, r_d=r_d, kappa_std=k_sigma, theta_std=t_sigma)\n",
    "lgca.timeevo(timesteps = tmax,recordDensity = True, record=True, recordDensityOther=True)\n"
   ]
  },
  {
   "cell_type": "markdown",
   "metadata": {
    "ExecuteTime": {
     "end_time": "2020-12-27T16:52:02.404463Z",
     "start_time": "2020-12-27T16:52:02.400275Z"
    },
    "pycharm": {
     "name": "#%% md\n"
    }
   },
   "source": [
    "# Saving Plots and Data"
   ]
  },
  {
   "cell_type": "code",
   "execution_count": null,
   "metadata": {
    "ExecuteTime": {
     "end_time": "2021-01-11T19:16:24.487239Z",
     "start_time": "2021-01-11T19:15:34.915327Z"
    },
    "pycharm": {
     "name": "#%%\n"
    }
   },
   "outputs": [],
   "source": [
    "plt.figure()\n",
    "lgca.plot_density(channel_type ='all');\n",
    "plt.savefig(output_dir + initialiser_list[sim_num][0] + \"/density.jpg\")\n",
    "plt.figure()\n",
    "lgca.plot_density(channel_type ='velocity');\n",
    "plt.savefig(output_dir + initialiser_list[sim_num][0] + \"/density_velocity.jpg\")\n",
    "plt.figure()\n",
    "lgca.plot_density(channel_type ='rest');\n",
    "plt.savefig(output_dir + initialiser_list[sim_num][0] + \"/density_rest.jpg\")\n",
    "plt.figure()\n",
    "lgca.plot_prop_spatial(propname='kappa')\n",
    "plt.savefig(output_dir + initialiser_list[sim_num][0] + \"/kappa.jpg\")\n",
    "plt.figure()\n",
    "lgca.plot_prop_spatial(propname='theta')\n",
    "plt.savefig(output_dir + initialiser_list[sim_num][0] + \"/theta.jpg\")\n",
    "\n",
    "write_property(lgca.density_t, output_dir + initialiser_list[sim_num][0] + \"/\",\"density\")\n",
    "write_property(lgca.moving_density_t, output_dir + initialiser_list[sim_num][0] + \"/\", \"density_velocity\")\n",
    "write_property(lgca.resting_density_t, output_dir + initialiser_list[sim_num][0] + \"/\", \"density_rest\")\n",
    "write_property(lgca.mean_prop_t[\"kappa\"], output_dir + initialiser_list[sim_num][0] + \"/\", \"kappa\")\n",
    "write_property(lgca.mean_prop_t[\"theta\"], output_dir + initialiser_list[sim_num][0] + \"/\", \"theta\")"
   ]
  },
  {
   "cell_type": "raw",
   "metadata": {
    "ExecuteTime": {
     "end_time": "2021-01-04T21:01:02.797710Z",
     "start_time": "2021-01-04T21:01:02.793346Z"
    },
    "pycharm": {
     "name": "#%% raw\n"
    }
   },
   "source": [
    "lgca.nodes_t"
   ]
  },
  {
   "cell_type": "markdown",
   "metadata": {
    "ExecuteTime": {
     "end_time": "2020-12-29T15:10:14.039201Z",
     "start_time": "2020-12-29T15:10:14.036460Z"
    },
    "pycharm": {
     "name": "#%% md\n"
    }
   },
   "source": [
    "# Multiple Runs and saving data"
   ]
  },
  {
   "cell_type": "raw",
   "metadata": {
    "ExecuteTime": {
     "end_time": "2021-01-09T09:38:00.362718Z",
     "start_time": "2021-01-09T09:33:52.551884Z"
    },
    "pycharm": {
     "name": "#%% raw\n"
    }
   },
   "source": [
    "runs = 5\n",
    "lgca = {}\n",
    "import time\n",
    "for run in range(runs):\n",
    "    if not os.path.exists(output_dir + initialiser_list[sim_num][0] + '/Run %s/' %str(run+1)):\n",
    "        os.makedirs(output_dir + initialiser_list[sim_num][0] + '/Run %s/' %str(run+1))\n",
    "    \n",
    "    lgca = get_lgca(geometry = '1d',dims=L, ib=True, ve = True, maxlabel=totalcells, nodes_filled=n_ini, ini_channel_pop = c_ini, capacity = k, bc='reflecting', \n",
    "                    interaction = 'go_or_grow', kappa = kappas, theta = thetas, r_b = r_b, r_d = r_d, kappa_std=k_sigma, theta_std = t_sigma)\n",
    "    \n",
    "    lgca.timeevo(timesteps = tmax,recordDensity = True, record=True, recordDensityOther=True)\n",
    "    \n",
    "    plt.figure();\n",
    "    lgca.plot_density(channel_type ='all');\n",
    "    plt.savefig(output_dir + initialiser_list[sim_num][0] + '/Run %s/' %str(run+1) + \"/density.jpg\")\n",
    "    plt.figure();\n",
    "    lgca.plot_density(channel_type ='velocity');\n",
    "    plt.savefig(output_dir + initialiser_list[sim_num][0] + '/Run %s/' %str(run+1) + \"/density_velocity.jpg\")\n",
    "    plt.figure();\n",
    "    lgca.plot_density(channel_type ='rest');\n",
    "    plt.savefig(output_dir + initialiser_list[sim_num][0] + '/Run %s/' %str(run+1) + \"/density_rest.jpg\")\n",
    "    plt.figure();\n",
    "    lgca.plot_prop_spatial(propname='kappa');\n",
    "    plt.savefig(output_dir + initialiser_list[sim_num][0] + '/Run %s/' %str(run+1) + \"/kappa.jpg\")\n",
    "    plt.figure();\n",
    "    lgca.plot_prop_spatial(propname='theta');\n",
    "    plt.savefig(output_dir + initialiser_list[sim_num][0] + '/Run %s/' %str(run+1) + \"/theta.jpg\")\n",
    "\n",
    "    write_property(lgca.density_t, output_dir + initialiser_list[sim_num][0] + '/Run %s/' %str(run+1) + \"/\",\"density\")\n",
    "    write_property(lgca.moving_density_t, output_dir + initialiser_list[sim_num][0] + '/Run %s/' %str(run+1) + \"/\", \"density_velocity\")\n",
    "    write_property(lgca.resting_density_t, output_dir + initialiser_list[sim_num][0] + '/Run %s/' %str(run+1) + \"/\", \"density_rest\")\n",
    "    write_property(lgca.mean_prop_t[\"kappa\"], output_dir + initialiser_list[sim_num][0] + '/Run %s/' %str(run+1) + \"/\", \"kappa\")\n",
    "    write_property(lgca.mean_prop_t[\"theta\"], output_dir + initialiser_list[sim_num][0] + '/Run %s/' %str(run+1) + \"/\", \"theta\")\n",
    "    \n",
    "    del lgca\n",
    "    lgca = None\n",
    "    #lgca[str(run)]=None"
   ]
  },
  {
   "cell_type": "code",
   "execution_count": null,
   "metadata": {
    "ExecuteTime": {
     "end_time": "2021-01-04T15:27:30.880462Z",
     "start_time": "2021-01-04T15:27:30.808290Z"
    },
    "pycharm": {
     "name": "#%%\n"
    }
   },
   "outputs": [],
   "source": []
  },
  {
   "cell_type": "code",
   "execution_count": null,
   "metadata": {
    "ExecuteTime": {
     "end_time": "2021-01-05T19:20:33.762180Z",
     "start_time": "2021-01-05T19:20:33.651483Z"
    },
    "pycharm": {
     "name": "#%%\n"
    }
   },
   "outputs": [],
   "source": []
  },
  {
   "cell_type": "code",
   "execution_count": null,
   "metadata": {
    "ExecuteTime": {
     "end_time": "2021-01-05T19:20:33.768483Z",
     "start_time": "2021-01-05T19:08:35.064Z"
    },
    "pycharm": {
     "name": "#%%\n"
    }
   },
   "outputs": [],
   "source": []
  }
 ],
 "metadata": {
  "kernelspec": {
   "display_name": "Python 3 (ipykernel)",
   "language": "python",
   "name": "python3"
  },
  "language_info": {
   "codemirror_mode": {
    "name": "ipython",
    "version": 3
   },
   "file_extension": ".py",
   "mimetype": "text/x-python",
   "name": "python",
   "nbconvert_exporter": "python",
   "pygments_lexer": "ipython3",
   "version": "3.7.13"
  },
  "toc": {
   "base_numbering": 1,
   "nav_menu": {},
   "number_sections": true,
   "sideBar": true,
   "skip_h1_title": false,
   "title_cell": "Table of Contents",
   "title_sidebar": "Contents",
   "toc_cell": true,
   "toc_position": {
    "height": "calc(100% - 180px)",
    "left": "10px",
    "top": "150px",
    "width": "198.75px"
   },
   "toc_section_display": true,
   "toc_window_display": true
  },
  "varInspector": {
   "cols": {
    "lenName": 16,
    "lenType": 16,
    "lenVar": 40
   },
   "kernels_config": {
    "python": {
     "delete_cmd_postfix": "",
     "delete_cmd_prefix": "del ",
     "library": "var_list.py",
     "varRefreshCmd": "print(var_dic_list())"
    },
    "r": {
     "delete_cmd_postfix": ") ",
     "delete_cmd_prefix": "rm(",
     "library": "var_list.r",
     "varRefreshCmd": "cat(var_dic_list()) "
    }
   },
   "types_to_exclude": [
    "module",
    "function",
    "builtin_function_or_method",
    "instance",
    "_Feature"
   ],
   "window_display": false
  }
 },
 "nbformat": 4,
 "nbformat_minor": 4
}