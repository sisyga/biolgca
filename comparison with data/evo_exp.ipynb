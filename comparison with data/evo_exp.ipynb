{
 "cells": [
  {
   "cell_type": "code",
   "execution_count": 1,
   "id": "0f6b0d17-3b5b-4bbb-a73a-35083c76a12c",
   "metadata": {
    "pycharm": {
     "name": "#%%\n"
    }
   },
   "outputs": [],
   "source": [
    "import numpy as np\n",
    "import matplotlib.pyplot as plt\n",
    "from lgca import get_lgca\n",
    "from scipy.integrate import odeint, solve_ivp\n",
    "from scipy.ndimage.filters import laplace\n",
    "from scipy.special import erf\n",
    "from scipy.optimize import curve_fit\n",
    "from math import sqrt"
   ]
  },
  {
   "cell_type": "code",
   "execution_count": 26,
   "id": "fbea8048-b756-4a47-8ee2-4e35679d2533",
   "metadata": {
    "pycharm": {
     "name": "#%%\n"
    }
   },
   "outputs": [],
   "source": [
    "def dydt(t, y, alpha, r_d, var):\n",
    "    dalpha = alpha[1]-alpha[0]\n",
    "    rho = np.trapz(y, dx=dalpha)\n",
    "    dy = alpha * y + var * np.gradient(y, dalpha) + 0.5 * alpha * var * laplace(y) / dalpha**2\n",
    "    dy[0] = alpha[0] * y[0] + alpha[0] * var * (y[1] - y[0]) / dalpha**2\n",
    "    dy[-1] = alpha[-1] * y[-1] + alpha[-1] * var * (y[-2] - y[-1]) / dalpha**2\n",
    "    dy *= 1 - rho\n",
    "    dy -= r_d * y\n",
    "    return dy\n",
    "\n",
    "\n",
    "def dydt_nove(t, y, alpha, r_d, var):  # without volume restriction as in experiment\n",
    "    dalpha = alpha[1]-alpha[0]\n",
    "    # rho = np.trapz(y, dx=dalpha)\n",
    "    dy = alpha * y + var * np.gradient(y, dalpha) + 0.5 * alpha * var * laplace(y) / dalpha**2\n",
    "    dy[0] = alpha[0] * y[0] + alpha[0] * var * (y[1] - y[0]) / dalpha**2\n",
    "    dy[-1] = alpha[-1] * y[-1] + alpha[-1] * var * (y[-2] - y[-1]) / dalpha**2\n",
    "    # dy *= 1 - rho\n",
    "    dy -= r_d * y\n",
    "    return dy\n",
    "\n",
    "def dydt_constantpop(t, y, alpha, var):  # only mutation effect\n",
    "    dalpha = alpha[1]-alpha[0]\n",
    "    rho = np.trapz(y, dx=dalpha)\n",
    "    meanalpha = np.trapz(alpha * y, dx=dalpha) / rho\n",
    "    dy = alpha * y + var * np.gradient(y, dalpha) + 0.5 * alpha * var * laplace(y) / dalpha**2\n",
    "    dy[0] = alpha[0] * y[0] + alpha[0] * var * (y[1] - y[0]) / dalpha**2\n",
    "    dy[-1] = alpha[-1] * y[-1] + alpha[-1] * var * (y[-2] - y[-1]) / dalpha**2\n",
    "    # dy *= 1 - rho\n",
    "    dy -= meanalpha * y\n",
    "    return dy\n"
   ]
  },
  {
   "cell_type": "code",
   "execution_count": 27,
   "id": "4ec2aa75-2bcb-4810-8e78-74db17f19d5c",
   "metadata": {
    "pycharm": {
     "name": "#%%\n"
    }
   },
   "outputs": [],
   "source": [
    "def exp_procedure(y0, growth, t_growth=1, reps=1000, nrecord=100, args=None):\n",
    "    \"\"\"Simulate exponential cell culture growth with intermittent dilutions to initial cell density.\n",
    "    \"\"\"\n",
    "    y = np.zeros((reps//nrecord+1,) + y0.shape)\n",
    "    y[0] = y0\n",
    "    n0 = np.trapz(y0, dx=dalpha, axis=-1)\n",
    "    for i in range(reps):\n",
    "        # print(solve_ivp(growth, (0, t_growth), y0, method='LSODA', t_eval=np.array([t_growth]), args=args).y.shape)\n",
    "        y0 = solve_ivp(growth, (0, t_growth), y0, t_eval=np.array([0, t_growth]), args=args).y[..., -1]\n",
    "        y0 *= n0 / np.trapz(y0, dx=dalpha, axis=-1)\n",
    "        \n",
    "        if i % nrecord == 0:\n",
    "            y[i//nrecord+1] = y0\n",
    "        \n",
    "    return y"
   ]
  },
  {
   "cell_type": "code",
   "execution_count": 36,
   "id": "23b9d695-5e75-4260-8ed3-94f8f669e446",
   "metadata": {
    "pycharm": {
     "name": "#%%\n"
    }
   },
   "outputs": [
    {
     "name": "stdout",
     "output_type": "stream",
     "text": [
      "6.931471805599453 6.931471805599452 60000.0 6.931471805599451\n"
     ]
    }
   ],
   "source": [
    "# notes: use e.coli experiment (parametrized!)\n",
    "# how to model the loss of diversity \n",
    "\n",
    "r_b = 10 * np.log(2)\n",
    "a_max = 2 * r_b  # to be fitted\n",
    "alpha, dalpha = np.linspace(0, a_max, num=201, retstep=True)\n",
    "r_d = 0\n",
    "K = 6e4  # effective population size - does that make sense?\n",
    "n0 = 8e3  # bottleneck size - ---------\"---------?\n",
    "var = 1e-6 * (1e-2 * r_b) **2  # to be fitted\n",
    "tmax = 100\n",
    "dens0 = K\n",
    "y0 = np.zeros_like(alpha)\n",
    "y0[len(alpha)//2] = dens0 / dalpha\n",
    "# y0[0] = dens0 / dalpha\n",
    "print(r_b, alpha[len(alpha)//2], np.trapz(y0, dx=dalpha, axis=-1), np.trapz(alpha * y0, dx=dalpha, axis=-1) / np.trapz(y0, dx=dalpha, axis=-1))"
   ]
  },
  {
   "cell_type": "code",
   "execution_count": 37,
   "id": "fd289f11-d035-4c8c-ab2c-2fc26b73e504",
   "metadata": {
    "pycharm": {
     "name": "#%%\n"
    }
   },
   "outputs": [],
   "source": [
    "y = exp_procedure(y0, dydt_nove, args=(alpha, r_d, var), reps=1000, nrecord=10)\n",
    "y2 = solve_ivp(dydt_constantpop, (0, tmax), y0, t_eval=np.linspace(0, tmax, y.shape[0]), args=(alpha, var)).y.T"
   ]
  },
  {
   "cell_type": "code",
   "execution_count": 38,
   "id": "f3ecfff3-564c-43dc-92c5-8669439c90bb",
   "metadata": {
    "pycharm": {
     "name": "#%%\n"
    }
   },
   "outputs": [],
   "source": [
    "ncells1 = np.trapz(y, dx=dalpha, axis=-1)\n",
    "ncells2 = np.trapz(y2, dx=dalpha, axis=-1)"
   ]
  },
  {
   "cell_type": "code",
   "execution_count": 39,
   "id": "960f4bc7-dd4b-455c-8504-1cb46a522096",
   "metadata": {
    "pycharm": {
     "name": "#%%\n"
    }
   },
   "outputs": [
    {
     "data": {
      "text/plain": [
       "[<matplotlib.lines.Line2D at 0x233bd4bd5e0>]"
      ]
     },
     "execution_count": 39,
     "metadata": {},
     "output_type": "execute_result"
    },
    {
     "data": {
      "image/png": "[encoded data removed]",
      "text/plain": [
       "<Figure size 432x288 with 1 Axes>"
      ]
     },
     "metadata": {
      "needs_background": "light"
     },
     "output_type": "display_data"
    }
   ],
   "source": [
    "plt.plot(ncells1)\n",
    "plt.plot(ncells2)"
   ]
  },
  {
   "cell_type": "code",
   "execution_count": 40,
   "id": "07a52db1-40ba-404f-8131-ab450c868516",
   "metadata": {
    "pycharm": {
     "name": "#%%\n"
    }
   },
   "outputs": [],
   "source": [
    "meanalpha1 = np.trapz(alpha * y, dx=dalpha, axis=-1) / ncells1\n",
    "meanalpha2 = np.trapz(alpha * y2, dx=dalpha, axis=-1) / ncells2"
   ]
  },
  {
   "cell_type": "code",
   "execution_count": 41,
   "id": "0c0856d7-a8a1-4ab9-94d6-cc258a88809d",
   "metadata": {
    "pycharm": {
     "name": "#%%\n"
    }
   },
   "outputs": [
    {
     "data": {
      "text/plain": [
       "<matplotlib.legend.Legend at 0x233bd5027f0>"
      ]
     },
     "execution_count": 41,
     "metadata": {},
     "output_type": "execute_result"
    },
    {
     "data": {
      "image/png": "[encoded data removed]",
      "text/plain": [
       "<Figure size 432x288 with 1 Axes>"
      ]
     },
     "metadata": {
      "needs_background": "light"
     },
     "output_type": "display_data"
    }
   ],
   "source": [
    "plt.plot(meanalpha1, label='no ve')\n",
    "plt.plot(meanalpha2, label='ve')\n",
    "plt.legend()"
   ]
  },
  {
   "cell_type": "code",
   "execution_count": 42,
   "id": "577aa89e-a0f3-4ad4-b44f-b1da1e7ab6ad",
   "metadata": {
    "pycharm": {
     "name": "#%%\n"
    }
   },
   "outputs": [
    {
     "data": {
      "text/plain": [
       "[<matplotlib.lines.Line2D at 0x233bd5814f0>]"
      ]
     },
     "execution_count": 42,
     "metadata": {},
     "output_type": "execute_result"
    },
    {
     "data": {
      "image/png": "[encoded data removed]",
      "text/plain": [
       "<Figure size 432x288 with 1 Axes>"
      ]
     },
     "metadata": {
      "needs_background": "light"
     },
     "output_type": "display_data"
    }
   ],
   "source": [
    "plt.plot(alpha, y[-1])"
   ]
  },
  {
   "cell_type": "code",
   "execution_count": null,
   "id": "3d43f283-dacc-4f12-8afe-f9bee8b4f2f1",
   "metadata": {
    "pycharm": {
     "name": "#%%\n"
    }
   },
   "outputs": [],
   "source": []
  },
  {
   "cell_type": "code",
   "execution_count": null,
   "id": "afafacb2-36ff-47b8-916b-8075bdc88a5e",
   "metadata": {
    "pycharm": {
     "name": "#%%\n"
    }
   },
   "outputs": [],
   "source": []
  },
  {
   "cell_type": "code",
   "execution_count": null,
   "id": "91d6ded5-f3b1-4332-9fec-263bb6510191",
   "metadata": {
    "pycharm": {
     "name": "#%%\n"
    }
   },
   "outputs": [],
   "source": []
  },
  {
   "cell_type": "code",
   "execution_count": null,
   "id": "b8a342bd-393f-4bd3-af6f-1444d0cb62f6",
   "metadata": {
    "pycharm": {
     "name": "#%%\n"
    }
   },
   "outputs": [],
   "source": []
  },
  {
   "cell_type": "code",
   "execution_count": null,
   "id": "e34cf7b2-2c66-4b4d-999b-1f39e6a64fd2",
   "metadata": {
    "pycharm": {
     "name": "#%%\n"
    }
   },
   "outputs": [],
   "source": []
  },
  {
   "cell_type": "code",
   "execution_count": null,
   "id": "ce67b848-4127-4a17-9aa3-7d6997eda661",
   "metadata": {
    "pycharm": {
     "name": "#%%\n"
    }
   },
   "outputs": [],
   "source": []
  },
  {
   "cell_type": "code",
   "execution_count": null,
   "id": "8f10547a-87a0-4b05-9ec4-66e2555da2de",
   "metadata": {
    "pycharm": {
     "name": "#%%\n"
    }
   },
   "outputs": [],
   "source": []
  },
  {
   "cell_type": "code",
   "execution_count": null,
   "id": "cbc178ca-41ce-4471-8e70-910d50f06bcc",
   "metadata": {
    "pycharm": {
     "name": "#%%\n"
    }
   },
   "outputs": [],
   "source": []
  },
  {
   "cell_type": "code",
   "execution_count": null,
   "id": "6cf22f07-2908-4ce3-b66e-16fc62b226af",
   "metadata": {
    "pycharm": {
     "name": "#%%\n"
    }
   },
   "outputs": [],
   "source": []
  },
  {
   "cell_type": "code",
   "execution_count": null,
   "id": "6c473fec-76aa-40a1-a38b-9702aa210b2d",
   "metadata": {
    "pycharm": {
     "name": "#%%\n"
    }
   },
   "outputs": [],
   "source": []
  },
  {
   "cell_type": "code",
   "execution_count": null,
   "id": "66cec7a8-b5f6-456e-83f2-201ec544ef21",
   "metadata": {
    "pycharm": {
     "name": "#%%\n"
    }
   },
   "outputs": [],
   "source": []
  },
  {
   "cell_type": "code",
   "execution_count": null,
   "id": "de8b3237-2953-453a-80e0-85447c07c552",
   "metadata": {
    "pycharm": {
     "name": "#%%\n"
    }
   },
   "outputs": [],
   "source": []
  }
 ],
 "metadata": {
  "kernelspec": {
   "display_name": "Python 3 (ipykernel)",
   "language": "python",
   "name": "python3"
  },
  "language_info": {
   "codemirror_mode": {
    "name": "ipython",
    "version": 3
   },
   "file_extension": ".py",
   "mimetype": "text/x-python",
   "name": "python",
   "nbconvert_exporter": "python",
   "pygments_lexer": "ipython3",
   "version": "3.8.13"
  }
 },
 "nbformat": 4,
 "nbformat_minor": 5
}