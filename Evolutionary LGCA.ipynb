{
 "cells": [
  {
   "cell_type": "markdown",
   "metadata": {
    "pycharm": {
     "name": "#%% md\n"
    }
   },
   "source": [
    "In this Jupyter notebook we showcase evolutionary IB-LGCA, i.e. we look at proliferating cells, where daughter cells inherit properties of mother cells plus a noise term. This idea is applied to two different models of cell proliferation and invasion and key aspects are highlighted with the help of computer simulations.\n",
    "\n",
    "# Proof of principle: *\"Go-and-grow\"*\n",
    "A simple model to apply this idea is a birth-death process coupled to a random walk, sometimes referred to as *\"go-and-grow\"* system. \n",
    "In every time step, each cell $i$ has an individual probability $\\alpha_i$ of proliferating and a constant probability $\\delta$ of dying. If the cell proliferates, the daughter cell $j$ will have a new proliferation probability $\\alpha_j$, which is normally distributed random variable, whose mean is equal to the proliferation probability of the mother cell $i$\n",
    "$$ \\alpha_j \\sim \\mathcal{N}(\\alpha_i, \\sigma^2),$$\n",
    "where the variance $\\sigma^2$ is a parameter of the model.\n",
    "\n",
    "After proliferation, each cell performs a random walk.\n",
    "\n",
    "It is known that the classical \"go-and-grow\"-model without evolutionary dynamics, can be approximated by Fisher's equation,\n",
    "$$ \\partial_t \\rho = D \\partial_{xx} \\rho + \\alpha \\rho (1 - \\rho),$$\n",
    "where $\\rho (x, t)$ is the cell density, $D$ is the diffusion constant and $\\alpha$ is the reproduction rate. This equation has travelling wave solutions with wavespeeds $c \\geq 2\\sqrt{\\alpha D}$. Clearly the wave speed grows with the reproduction rate. \n",
    "**Therefore, if due to evolutionary processes the reproduction rate increases, we will observe an increasing invasion speed.**\n",
    "\n",
    "So let's have a look at computer simulations of the model."
   ]
  },
  {
   "cell_type": "code",
   "execution_count": null,
   "metadata": {
    "collapsed": false,
    "jupyter": {
     "outputs_hidden": false
    },
    "pycharm": {
     "name": "#%%\n"
    }
   },
   "outputs": [],
   "source": [
    "import numpy as np\n",
    "import matplotlib.pyplot as plt\n",
    "%matplotlib inline\n",
    "from lgca import get_lgca"
   ]
  },
  {
   "cell_type": "code",
   "execution_count": null,
   "metadata": {
    "collapsed": false,
    "jupyter": {
     "outputs_hidden": false
    },
    "pycharm": {
     "name": "#%%\n"
    }
   },
   "outputs": [],
   "source": [
    "l = 100\n",
    "tmax = 200\n",
    "restchannels = 2\n",
    "n_channels = restchannels + 2\n",
    "nodes = np.zeros((l, n_channels), dtype=bool)\n",
    "nodes[0] = 1\n",
    "\n",
    "lgca = get_lgca(ib=True, nodes=nodes, bc='reflect', interaction='birthdeath', geometry='lin', r_b=.2, r_d=0.01, std=0.05)\n",
    "lgca.timeevo(timesteps=tmax, record=True)"
   ]
  },
  {
   "cell_type": "markdown",
   "metadata": {
    "pycharm": {
     "name": "#%% md\n"
    }
   },
   "source": [
    "We use a one-dimensional IB-LGCA with $a = 2$ rest channels and lattice size $L = 100$ and reflecting boundary conditions. As a initial condition, we use an empty lattice except for the left-most node, which is filled completely. We record the time evolution for 100 time steps and look at the resulting density profile."
   ]
  },
  {
   "cell_type": "code",
   "execution_count": null,
   "metadata": {
    "collapsed": false,
    "jupyter": {
     "outputs_hidden": false
    },
    "pycharm": {
     "name": "#%%\n"
    }
   },
   "outputs": [],
   "source": [
    "lgca.plot_density(cmap='magma')"
   ]
  },
  {
   "cell_type": "markdown",
   "metadata": {
    "pycharm": {
     "name": "#%% md\n"
    }
   },
   "source": [
    "We observe that the invasion speed increases with time. Next, we can look at the distribution of the mean proliferation probability $\\alpha (r, k)$."
   ]
  },
  {
   "cell_type": "code",
   "execution_count": null,
   "metadata": {
    "collapsed": false,
    "jupyter": {
     "outputs_hidden": false
    },
    "pycharm": {
     "name": "#%%\n"
    }
   },
   "outputs": [],
   "source": [
    "lgca.plot_prop_spatial(cmap='cividis')\n",
    "#plt.savefig('gng_alpha.png', dpi=600)"
   ]
  },
  {
   "cell_type": "code",
   "execution_count": null,
   "metadata": {
    "collapsed": false,
    "jupyter": {
     "outputs_hidden": false
    },
    "pycharm": {
     "name": "#%%\n"
    }
   },
   "outputs": [],
   "source": [
    "lgca.plot_flux()"
   ]
  },
  {
   "cell_type": "markdown",
   "metadata": {
    "pycharm": {
     "name": "#%% md\n"
    }
   },
   "source": [
    "We see that over time \"niches\" of faster proliferating cells appear.\n",
    "\n",
    "Finally, let's have a look at the population mean of the proliferation probability."
   ]
  },
  {
   "cell_type": "code",
   "execution_count": null,
   "metadata": {
    "collapsed": false,
    "jupyter": {
     "outputs_hidden": false
    },
    "pycharm": {
     "name": "#%%\n"
    }
   },
   "outputs": [],
   "source": [
    "lgca.plot_prop_timecourse()\n",
    "plt.ylabel('$\\\\alpha$')\n",
    "#plt.savefig('gng_mean_alpha.png', dpi=600)"
   ]
  },
  {
   "cell_type": "markdown",
   "metadata": {
    "pycharm": {
     "name": "#%% md\n"
    }
   },
   "source": [
    "Clearly, due to stochastic fluctuations and \"neutral evolution\", it increases over time. It will reach a plateau at $\\alpha \\approx 1$."
   ]
  },
  {
   "cell_type": "code",
   "execution_count": null,
   "metadata": {
    "collapsed": false,
    "jupyter": {
     "outputs_hidden": false
    },
    "pycharm": {
     "name": "#%%\n"
    }
   },
   "outputs": [],
   "source": [
    "alpha = lgca.get_prop()\n",
    "plt.plot(alpha.mean(-1))"
   ]
  },
  {
   "cell_type": "markdown",
   "metadata": {
    "pycharm": {
     "name": "#%% md\n"
    }
   },
   "source": [
    "# A more complicated case: *\"Go-or-grow\"*\n",
    "In a more complicated example, we can look at the \"go-or-grow\" system. In this model, only cells in rest channels can proliferate with the constant probability $r_b$, all cells die with probability $r_d$, and cells switch from rest channels to velocity channels with a probability $r_s$ that depends on the local density $\\rho(r) = \\frac{n(r)}{K}$, where $n(r)$ is the cell number at node $r$ and $K$ is the carrying capacity $K = a + b$,\n",
    "$$ r_s (\\rho) =  \\frac{1}{2} [1 + \\tanh  (\\kappa (\\rho - \\theta)) ].$$\n",
    "The probability to switch back, from velocity to rest channels, is given by $1 - r_s(\\rho)$. $\\kappa$ and $\\theta$ are parameters of the model; $\\kappa$ determines, if the switch probability increases or decreases with density and $\\theta$ is a threshold, where the slope of $r_s$ is maximal.\n",
    "\n",
    "In the evolutionary approach, we make the parameter $\\kappa$ indivual for each cell $i$, $\\kappa^{(i)}$, and as in the example before, daughter cells $j$ inherit the parameter from mother cells $j$ as\n",
    "$$ \\kappa^{(j)} \\sim \\mathcal{N}(\\kappa^{(i)}, \\sigma^2),$$\n",
    "where the strength of the noise $\\sigma^2$ is another parameter of the model.\n",
    "\n",
    "To showcase properties of the model, we use a one-dimensional LGCA with reflecting boundary conditions again."
   ]
  },
  {
   "cell_type": "code",
   "execution_count": null,
   "metadata": {
    "collapsed": false,
    "jupyter": {
     "outputs_hidden": false
    },
    "pycharm": {
     "name": "#%%\n"
    }
   },
   "outputs": [],
   "source": [
    "l = 25\n",
    "restchannels = 2\n",
    "K = restchannels + 2\n",
    "tmax = 100\n",
    "nodes = np.ones((l, K))\n",
    "# nodes[0] = 1\n",
    "\n",
    "lgca2 = get_lgca(ib=True, geometry='lin', bc='reflect', interaction='go_or_grow', r_d=0.01, nodes=nodes, kappa=0)\n",
    "lgca2.timeevo(timesteps=tmax, record=True)"
   ]
  },
  {
   "cell_type": "code",
   "execution_count": null,
   "metadata": {
    "collapsed": false,
    "jupyter": {
     "outputs_hidden": false
    },
    "pycharm": {
     "name": "#%%\n"
    }
   },
   "outputs": [],
   "source": [
    "lgca2.plot_prop_spatial()"
   ]
  },
  {
   "cell_type": "markdown",
   "metadata": {
    "pycharm": {
     "name": "#%% md\n"
    }
   },
   "source": [
    "We see that even though the population with $\\kappa < 0$ is expected to always persist, while it may die out for $\\kappa > 0$. There is an evolutionary pressure to the regime $\\kappa > 0$ if the lattice is fully occupied.\n",
    "\n",
    "# Research questions\n",
    "There are many open questions that can be investigated within the framework of evolutionary LGCA. They include, but are not restricted to:\n",
    "\n",
    "1. Is it possible to analytically predict the time evolution of the evolutionary cell properties?\n",
    "2. Can we analytically predict spatial distributions of the evolutionary cell property? Can we relate this to biological data?\n",
    "3. How is the relation between the (spatial or non-spatial) Moran models for tumor progression?\n",
    "4. Are there biological applications of the model, i.e. systems where the time scales of evolution and migration are not totally separated?"
   ]
  },
  {
   "cell_type": "markdown",
   "metadata": {
    "pycharm": {
     "name": "#%% md\n"
    }
   },
   "source": [
    "## Some thoughts on the mathematical analysis\n",
    "Consider the logistic growth model with evolutionary dynamics in the non-spatial case (one node) with capacity $K$. Then the number of particles with fitness $\\alpha$ is given by \n",
    "\\begin{equation}\n",
    "n(\\alpha, k) = \\sum_i s_i(k) \\delta( \\alpha, \\alpha_i(k)),\n",
    "\\end{equation}\n",
    "while the total number of particles is \n",
    "$$n(k) = \\int \\mathrm{d}\\alpha \\, n(\\alpha, k) = \\sum_i s_i(k).$$\n",
    "The channel $i$ develops in discrete time steps as\n",
    "$$s_i(k+1) = s_i(k) - \\mu_i(k) s_i(k) + (1 - s_i(k)) \\sum_j^{K-1} \\nu_{ij}(k) \\xi_j(k) s_j(k) \\prod_{l=0}^{j-1}\\left(1- \\nu_{il}(k)\\xi_l(k) s_l(k)\\right), $$\n",
    "where $\\mu_i, \\xi_j, \\nu_{ij}$ are Boolean stochastic variables controlling death, birth an destination of daughter cell respectively, with probabilities\n",
    "\\begin{align}\n",
    "P(\\mu_i(k) = 1) &= r_d \\\\\n",
    "P(\\xi_i(k) = 1| \\alpha_i) &= \\alpha_i, \\\\\n",
    "P(\\nu_{ij}(k) = 1) &= \\frac{1}{K}.\n",
    "\\end{align}\n",
    "During a proliferation event the daughter's proliferation rate is determined as \n",
    "$$ \\alpha_i'(k) = \\alpha_j(k) + \\beta_j(k),$$\n",
    "where $\\beta_i(k)$ is a Gaussian distributed stochastic variable with variance $\\sigma^2$\n",
    "$$P(\\beta) = \\frac{1}{\\sqrt{2\\pi\\sigma^2}} \\exp \\left( - \\frac{\\beta^2}{2 \\sigma^2} \\right).$$\n",
    "We want to derive a mean-field theory. So let's introduce the mean number of cells with fitness $\\alpha$ as\n",
    "$$\\rho (\\alpha, k) := \\sum_i s_i P(\\mathbf{s}, \\alpha, k) = \\left\\langle n(\\alpha, k) \\right\\rangle.$$\n",
    "Computing the expected value under a mean-field approximation and summing over channels $i$ we obtain\n",
    "$$ \\rho(\\alpha, k+1) = \\rho(\\alpha, k) - r_d \\rho(\\alpha, k) + (1 - \\varrho(k)) \\int \\mathrm{d}\\beta \\, \\alpha' \\rho(\\alpha', k) P(\\beta = \\alpha - \\alpha') = \\\\\n",
    "=\\rho(\\alpha, k) - r_d \\rho(\\alpha, k) + (1 - \\varrho(k)) \\underbrace{\\int \\mathrm{d}\\beta \\,(\\alpha - \\beta) \\rho(\\alpha - \\beta, k) P(\\beta)}_{(\\alpha \\rho(\\alpha)) \\ast P(\\alpha)}.$$\n",
    "If the variance during proliferation is small, i.e. $\\sigma^2 \\ll 1$, only those values $\\beta$ close to zero will add to the integral and we can approximate the density by its Taylor approximation, $\\rho(\\alpha - \\beta) \\approx \\rho(\\alpha) - \\beta \\rho'(\\alpha) + \\frac{\\beta^2}{2} \\rho''(\\alpha)$. The integral can then be carried out analytically (note that $P(\\beta)$ is an even function and that $\\int P(\\beta) = 1$)\n",
    "$$\\int \\mathrm{d}\\beta \\, \\left( \\alpha \\rho(\\alpha) - \\beta \\rho(\\alpha) - \\alpha \\beta \\rho'(\\alpha) + \\beta^2 \\rho'(\\alpha) + \\alpha \\beta^2/2 \\rho''(\\alpha) - \\beta^3/2 \\rho''(\\alpha) \\right) P(\\beta) = \\\\\n",
    "= \\alpha \\rho(\\alpha) + \\sigma^2 \\rho'(\\alpha) + \\alpha \\sigma^2 / 2 \\rho''(\\alpha) = \\alpha \\rho(\\alpha) + \\frac{\\sigma^2}{2} \\partial^2_\\alpha (\\alpha \\rho(\\alpha)).$$"
   ]
  },
  {
   "cell_type": "code",
   "execution_count": null,
   "metadata": {
    "collapsed": false,
    "jupyter": {
     "outputs_hidden": false
    },
    "pycharm": {
     "name": "#%%\n"
    }
   },
   "outputs": [],
   "source": [
    "%matplotlib inline"
   ]
  },
  {
   "cell_type": "code",
   "execution_count": null,
   "metadata": {
    "collapsed": false,
    "jupyter": {
     "outputs_hidden": false
    },
    "pycharm": {
     "name": "#%%\n"
    }
   },
   "outputs": [],
   "source": [
    "import numpy as np\n",
    "import matplotlib.pyplot as plt\n",
    "from lgca import get_lgca\n",
    "from scipy.integrate import odeint, solve_ivp\n",
    "from scipy.ndimage.filters import laplace\n",
    "from scipy.special import erf\n",
    "from math import sqrt"
   ]
  },
  {
   "cell_type": "code",
   "execution_count": null,
   "metadata": {
    "collapsed": false,
    "jupyter": {
     "outputs_hidden": false
    },
    "pycharm": {
     "name": "#%%\n"
    }
   },
   "outputs": [],
   "source": [
    "def gaussian(x):\n",
    "    y = np.exp(-0.5 * x**2) / sqrt(2 * np.pi)\n",
    "    return y\n",
    "\n",
    "def cdf_gaussian(x):\n",
    "    y = 0.5 * (1 + erf(x / sqrt(2)))\n",
    "    return y\n",
    "\n",
    "def trunc_gaussian(x, mu, sigma, a=0, b=1):\n",
    "    xi = (x - mu) / sigma\n",
    "    beta = (b - mu) / sigma\n",
    "    alpha = (a - mu) / sigma\n",
    "    y = gaussian(xi) / sigma\n",
    "    y /= cdf_gaussian(beta) - cdf_gaussian(alpha)\n",
    "    return y\n",
    "    \n",
    "\n",
    "def dydt_int(t, y, alpha, r_d, var, a_min, a_max):\n",
    "    dalpha = alpha[1]-alpha[0]\n",
    "#     rho = y.sum() * dalpha\n",
    "    rho = np.trapz(y, dx=dalpha)\n",
    "    dy = np.empty_like(y)\n",
    "    for i, a in enumerate(alpha):\n",
    "        dy[i] = np.trapz(alpha * y * trunc_gaussian(a - alpha, 0., sqrt(var), a=a_min-alpha, b=a_max-alpha), dx=dalpha)\n",
    "    \n",
    "#     dy = alpha * y + var * np.gradient(y, dalpha) + 0.5 * alpha * var * laplace(y) / dalpha**2\n",
    "    dy *= 1 - rho\n",
    "    dy -= r_d * y\n",
    "    return dy\n",
    "\n",
    "\n",
    "def dydt(t, y, alpha, r_d, var):\n",
    "    dalpha = alpha[1]-alpha[0]\n",
    "    rho = np.trapz(y, dx=dalpha)\n",
    "    dy = alpha * y + var * np.gradient(y, dalpha) + 0.5 * alpha * var * laplace(y) / dalpha**2\n",
    "    dy[0] = alpha[0] * y[0] + alpha[0] * var * (y[1] - y[0]) / dalpha**2\n",
    "    dy[-1] = alpha[-1] * y[-1] + alpha[-1] * var * (y[-2] - y[-1]) / dalpha**2\n",
    "    dy *= 1 - rho\n",
    "    dy -= r_d * y\n",
    "    return dy\n",
    "\n",
    "def dydt_int2(t, y, alpha, r_d, var, a_min, a_max):  # without fixed volume similar to experiment\n",
    "    dalpha = alpha[1]-alpha[0]\n",
    "#     rho = y.sum() * dalpha\n",
    "    rho = np.trapz(y, dx=dalpha)\n",
    "    dy = np.empty_like(y)\n",
    "    for i, a in enumerate(alpha):\n",
    "        dy[i] = np.trapz(alpha * y * trunc_gaussian(a - alpha, 0., sqrt(var), a=a_min-alpha, b=a_max-alpha), dx=dalpha)\n",
    "    \n",
    "#     dy = alpha * y + var * np.gradient(y, dalpha) + 0.5 * alpha * var * laplace(y) / dalpha**2\n",
    "    # dy *= 1 - rho\n",
    "    dy -= r_d * y\n",
    "    return dy\n",
    "\n",
    "\n",
    "def dydt2(t, y, alpha, r_d, var):  # without volume restriction as in experiment\n",
    "    dalpha = alpha[1]-alpha[0]\n",
    "    rho = np.trapz(y, dx=dalpha)\n",
    "    dy = alpha * y + var * np.gradient(y, dalpha) + 0.5 * alpha * var * laplace(y) / dalpha**2\n",
    "    dy[0] = alpha[0] * y[0] + alpha[0] * var * (y[1] - y[0]) / dalpha**2\n",
    "    dy[-1] = alpha[-1] * y[-1] + alpha[-1] * var * (y[-2] - y[-1]) / dalpha**2\n",
    "    # dy *= 1 - rho\n",
    "    dy -= r_d * y\n",
    "    return dy\n"
   ]
  },
  {
   "cell_type": "code",
   "execution_count": null,
   "metadata": {
    "collapsed": false,
    "jupyter": {
     "outputs_hidden": false
    },
    "pycharm": {
     "name": "#%%\n"
    }
   },
   "outputs": [],
   "source": [
    "a_max = 1.\n",
    "alpha, dalpha = np.linspace(0, a_max, num=201, retstep=True)\n",
    "r_d = 0.02\n",
    "r_b = 0.1\n",
    "var = 0.05**2\n",
    "tmax = 1000\n",
    "dens0 = 1\n",
    "ts = np.linspace(0, tmax, num=51)\n",
    "y0 = np.zeros_like(alpha)\n",
    "y0[np.argwhere(alpha==r_b)] = dens0 / dalpha\n",
    "sol = odeint(dydt_int2, y0, ts, args=(alpha, r_d, var, 0., a_max), tfirst=True)\n",
    "sol2 = odeint(dydt2, y0, ts, args=(alpha, r_d, var), tfirst=True)"
   ]
  },
  {
   "cell_type": "code",
   "execution_count": null,
   "metadata": {
    "collapsed": false,
    "jupyter": {
     "outputs_hidden": false
    },
    "pycharm": {
     "name": "#%%\n"
    }
   },
   "outputs": [],
   "source": [
    "for t in np.arange(len(ts))[5::10]:\n",
    "    p = plt.plot(alpha, sol[t], label='t = {:n}'.format(ts[t]))\n",
    "    plt.plot(alpha, sol2[t], '--', label='_t = {:n}'.format(ts[t]), color=p[0].get_color())\n",
    "\n",
    "#plt.plot(alpha, sol[-1], label='t = {:n}'.format(ts[-1]))\n",
    "plt.xlabel('$\\\\alpha$')\n",
    "plt.ylabel('$\\\\rho(\\\\alpha)$')\n",
    "plt.legend()\n",
    "#plt.savefig('rho_alpha.png', dpi=600)"
   ]
  },
  {
   "cell_type": "code",
   "execution_count": null,
   "metadata": {
    "collapsed": false,
    "jupyter": {
     "outputs_hidden": false
    },
    "pycharm": {
     "name": "#%%\n"
    }
   },
   "outputs": [],
   "source": [
    "lgca = get_lgca(ib=True, density=dens0, bc='reflect', interaction='birthdeath', std=sqrt(var),\n",
    "                r_d=r_d, r_b=r_b, a_max=a_max, geometry='1d', dims=1, restchannels=10000)\n",
    "lgca.timeevo(timesteps=tmax, record=True)"
   ]
  },
  {
   "cell_type": "code",
   "execution_count": null,
   "metadata": {
    "collapsed": false,
    "jupyter": {
     "outputs_hidden": false
    },
    "pycharm": {
     "name": "#%%\n"
    }
   },
   "outputs": [],
   "source": [
    "# lgca.plot_prop_timecourse()\n",
    "# plt.plot(ts, np.trapz(sol.y * alpha, dx=dalpha) / np.trapz(sol.y, dx=dalpha), label='Integral MF')\n",
    "plt.plot(ts, (sol2 * alpha).sum(-1) / sol2.sum(-1), label='Local MF')\n",
    "plt.title('')\n",
    "plt.ylabel('$\\\\langle\\\\alpha\\\\rangle$')\n",
    "plt.legend()\n",
    "#plt.savefig('mean_alpha.png', dpi=600)"
   ]
  },
  {
   "cell_type": "code",
   "execution_count": null,
   "metadata": {
    "collapsed": false,
    "jupyter": {
     "outputs_hidden": false
    },
    "pycharm": {
     "name": "#%%\n"
    }
   },
   "outputs": [],
   "source": [
    "plt.plot(np.arange(len(lgca.dens_t)), lgca.dens_t/lgca.K)\n",
    "plt.plot(ts, sol.sum(-1) * dalpha, label='Integral MF')\n",
    "plt.plot(ts, sol2.sum(-1) * dalpha, label='Local MF')\n",
    "\n",
    "plt.title('')\n",
    "plt.ylabel('$\\\\rho$')\n",
    "plt.legend()\n",
    "#plt.savefig('mean_alpha.png', dpi=600)"
   ]
  },
  {
   "cell_type": "code",
   "execution_count": null,
   "metadata": {
    "collapsed": false,
    "jupyter": {
     "outputs_hidden": false
    },
    "pycharm": {
     "name": "#%%\n"
    }
   },
   "outputs": [],
   "source": [
    "bins = int(np.ceil(np.log2(lgca.occupied.sum()))+1)\n",
    "plt.hist(np.array(lgca.props['r_b'])[lgca.nodes[lgca.nodes > 0]], bins=bins, density=True, label='LGCA')\n",
    "plt.plot(alpha, sol[-1] / sol[-1].sum() / dalpha, label='Int MF')\n",
    "plt.plot(alpha, sol2[-1] / sol2[-1].sum() / dalpha, label='Local MF')\n",
    "plt.xlabel('$\\\\alpha$')\n",
    "plt.ylabel('$\\\\rho(\\\\alpha, t \\\\to \\\\infty)$')\n",
    "plt.legend()\n",
    "#plt.savefig('rho_alpha_steady_comparison.png', dpi=600)"
   ]
  },
  {
   "cell_type": "markdown",
   "metadata": {
    "pycharm": {
     "name": "#%% md\n"
    }
   },
   "source": [
    "## Simplification: Discrete evolution\n",
    "Similarly as before, we can imagine a system, where mutations only change the fitness by a predefined small $\\Delta \\alpha$. Then, cells can only assume discrete proliferation rates $\\alpha_i \\in \\{ \\bar\\alpha, \\bar\\alpha \\pm \\Delta \\alpha, \\dots \\}$, where $\\bar\\alpha$ is the initial fitness value, which we assume to be the same for every initial cell, for simplicity.\n",
    "\n",
    "Let us look at an example realization of this model in LGCA."
   ]
  },
  {
   "cell_type": "code",
   "execution_count": null,
   "metadata": {
    "collapsed": false,
    "jupyter": {
     "outputs_hidden": false
    },
    "pycharm": {
     "name": "#%%\n"
    }
   },
   "outputs": [],
   "source": [
    "import numpy as np\n",
    "import matplotlib.pyplot as plt\n",
    "%matplotlib notebook\n",
    "from lgca import get_lgca"
   ]
  },
  {
   "cell_type": "code",
   "execution_count": null,
   "metadata": {
    "collapsed": false,
    "jupyter": {
     "outputs_hidden": false
    },
    "pycharm": {
     "name": "#%%\n"
    }
   },
   "outputs": [],
   "source": [
    "l = 100\n",
    "tmax = 300\n",
    "restchannels = 8\n",
    "n_channels = restchannels + 2\n",
    "nodes = np.zeros((l, n_channels), dtype=bool)\n",
    "nodes[0] = 1\n",
    "\n",
    "lgca = get_lgca(ib=True, nodes=nodes, bc='reflect', interaction='birthdeath_discrete',\n",
    "                geometry='lin', r_b=.1, r_d=0.01, drb=0.05)\n",
    "lgca.timeevo(timesteps=tmax, record=True)"
   ]
  },
  {
   "cell_type": "code",
   "execution_count": null,
   "metadata": {
    "collapsed": false,
    "jupyter": {
     "outputs_hidden": false
    },
    "pycharm": {
     "name": "#%%\n"
    }
   },
   "outputs": [],
   "source": [
    "lgca.plot_density(cmap='magma')"
   ]
  },
  {
   "cell_type": "code",
   "execution_count": null,
   "metadata": {
    "collapsed": false,
    "jupyter": {
     "outputs_hidden": false
    },
    "pycharm": {
     "name": "#%%\n"
    }
   },
   "outputs": [],
   "source": [
    "lgca.plot_prop_spatial(cmap='cividis')"
   ]
  },
  {
   "cell_type": "code",
   "execution_count": null,
   "metadata": {
    "collapsed": false,
    "jupyter": {
     "outputs_hidden": false
    },
    "pycharm": {
     "name": "#%%\n"
    }
   },
   "outputs": [],
   "source": [
    "lgca.plot_prop_timecourse()\n",
    "plt.ylabel('$\\\\alpha$')"
   ]
  },
  {
   "cell_type": "markdown",
   "metadata": {
    "pycharm": {
     "name": "#%% md\n"
    }
   },
   "source": [
    "### Mathematical analysis\n",
    "Consider the logistic growth model with evolutionary dynamics in the non-spatial case (one node) with capacity $K$. We denote the occupancy of channel $j$ by $s_{j, k}$, and the unique label of a cell in channel $j$ is $\\sigma_{j, k} \\in \\mathbb{N}_0$, where $\\sigma_{j, k} = 0$ denotes an empty channel. The set $ \\mathcal{A} = \\{\\alpha_\\min, \\alpha_\\min + \\Delta \\alpha, \\dots, \\alpha_\\max \\}$ denotes all possible fitness values in the discrete system, and the sequence $(\\alpha_oi \\in \\mathcal{A})_{i \\in \\mathbb{N}}$ refers to the fitness values of all cells $i$. Then the number of particles with fitness $\\tilde\\alpha \\in \\mathcal{A}$ at time $k$ is given by \n",
    "$$\n",
    "n_{k}(\\tilde\\alpha) = \\sum_j \\delta_{\\tilde\\alpha, \\alpha_{\\sigma_{j, k}}},\n",
    "$$\n",
    "where  $\\delta_{\\alpha_i, \\alpha_j}$ is a generelized Kronecker symbol,\n",
    "$$\n",
    "\\delta_{\\alpha_i, \\alpha_j} = \\begin{cases}1 & \\text{if}\\, \\alpha_i =\\alpha_j, \\\\\n",
    "0 & \\text{else}.\n",
    "\\end{cases}\n",
    "$$\n",
    "while the total number of particles is \n",
    "$$n(k) = \\sum_\\alpha n_{k}(\\alpha) = \\sum_j s_j(k).$$\n",
    "The channel $i$ develops in discrete time steps as\n",
    "$$s_{i, k+1} = s_{i, k} - \\mu_{i, k} s_{i, k} + (1 - s_{i, k}) \\sum_j^{K-1} \\nu_{ij, k} \\xi_{j, k} s_{j, k}, $$\n",
    "where $\\mu_{i, k}, \\xi_{i, k}, \\nu_{ij, k}$ are Boolean stochastic variables controlling death, birth and placement of daughter cell respectively, with probabilities\n",
    "\\begin{align}\n",
    "P(\\mu_{i, k} = 1) &= r_d \\\\\n",
    "P(\\xi_{i, k} = 1) &= \\alpha_{\\sigma_{i,k}}, \\\\\n",
    "P(\\nu_{ij, k} = 1) &= \\frac{1}{K}, \\\\\n",
    "\\sum_{j = 0}^{K-1} \\nu_{ij, k} &= 1.\n",
    "\\end{align}\n",
    "During a proliferation event the daughter cell is assigned a unique label $d$ and its proliferation rate depends on the mother cell $m$. If there is no mutation event, the daughter's proliferation rate is equal to the mother's $\\alpha_d = \\alpha_m$; however, with a small probability $p_m$ the daughter mutates, and its proliferation rate decreases or increases by $\\Delta \\alpha$ compared to the mother."
   ]
  },
  {
   "cell_type": "markdown",
   "metadata": {
    "pycharm": {
     "name": "#%% md\n"
    }
   },
   "source": [
    "We want to derive a mean-field theory. So let's introduce the mean number of cells with fitness $\\alpha$ as\n",
    "$$\\rho_k (\\alpha) := \\sum_i s_i P(\\mathbf{s}, \\alpha, k) = \\left\\langle n(\\alpha, k) \\right\\rangle.$$\n",
    "Computing the expected value under a mean-field approximation and summing over channels $i$ we obtain\n",
    "$$ \\rho(\\alpha, k+1) = \\rho(\\alpha, k) - r_d \\rho(\\alpha, k) + (1 - \\varrho(k)) \\left[ (\\alpha - \\Delta \\alpha) \\frac{p_m}{2} \\rho(\\alpha - \\Delta \\alpha, k) + (\\alpha + \\Delta \\alpha) \\frac{p_m}{2} \\rho(\\alpha + \\Delta\\alpha, k) + (1 - p_m) \\alpha \\rho (\\alpha, k) \\right],$$\n",
    "where $\\varrho(k) := \\left\\langle n(k) \\right\\rangle$."
   ]
  },
  {
   "cell_type": "markdown",
   "metadata": {
    "pycharm": {
     "name": "#%% md\n"
    }
   },
   "source": [
    "I now want to investigate the regime where the fitness advantage gained through mutations is small $\\Delta \\alpha \\to 0$. I also introduce a small time step length $\\tau$ and continuous time $t = k \\tau$. Then, after expanding into Taylor series and keeping only the leading terms of order $\\tau^2, \\Delta \\alpha^2$, I obtain\n",
    "\n",
    "$$ \\tau \\partial_t \\rho + \\frac{\\tau^2}{2} \\partial^2_t \\rho= -r_d \\rho + (1 - \\varrho) \\left[ \\alpha \\rho + \\frac{p_m}{2}\\Delta \\alpha^2 \\partial^2_{\\alpha} (\\alpha \\rho) \\right]$$"
   ]
  },
  {
   "cell_type": "markdown",
   "metadata": {
    "pycharm": {
     "name": "#%% md\n"
    }
   },
   "source": [
    "I can further simplify this by introducing the rates\n",
    "\\begin{align}\n",
    "r_d' &:= \\frac{r_d}{\\tau},\\\\\n",
    "\\alpha' &:= \\frac{\\alpha}{\\tau}.\n",
    "\\end{align}\n",
    "To obtain\n",
    "$$\\partial^2_t \\rho + \\frac{2}{\\tau} \\partial_t \\rho = \\frac{2}{\\tau} \\left[ -r'_d \\rho + (1 - \\varrho) \\alpha' \\rho \\right] + (1 - \\varrho) p_m\\frac{\\Delta \\alpha'^2}{\\tau} \\partial^2_{\\alpha'} (\\alpha' \\rho)$$\n",
    "Finally, I define the \"mutation constant\"\n",
    "$$ D_\\alpha := \\lim_{\\tau, \\Delta \\alpha \\to 0} \\frac{p_m \\Delta \\alpha'^2}{\\tau}. $$\n",
    "After dropping the primes for better readability, we end up with the PDE\n",
    "$$ \\partial^2_t \\rho + \\frac{2}{\\tau} \\partial_t \\rho = \\frac{2}{\\tau} \\left[ -r_d \\rho + (1 - \\varrho) \\alpha \\rho \\right] + (1 - \\varrho) D_\\alpha \\partial^2_{\\alpha} (\\alpha \\rho).$$\n",
    "This PDE contains two time scales: the short time scale of births and deaths, $\\tau$, and the long time scale of mutations."
   ]
  },
  {
   "cell_type": "markdown",
   "metadata": {
    "pycharm": {
     "name": "#%% md\n"
    }
   },
   "source": [
    "Note: The derivation using the second-order time scale is probably wrong!"
   ]
  },
  {
   "cell_type": "code",
   "execution_count": null,
   "metadata": {
    "collapsed": false,
    "jupyter": {
     "outputs_hidden": false
    },
    "pycharm": {
     "name": "#%%\n"
    }
   },
   "outputs": [],
   "source": [
    "import numpy as np\n",
    "import matplotlib.pyplot as plt\n",
    "from lgca import get_lgca\n",
    "from scipy.integrate import solve_ivp\n",
    "from scipy.ndimage.filters import laplace, convolve1d\n",
    "import seaborn as sns"
   ]
  },
  {
   "cell_type": "code",
   "execution_count": null,
   "metadata": {
    "collapsed": false,
    "jupyter": {
     "outputs_hidden": false
    },
    "pycharm": {
     "name": "#%%\n"
    }
   },
   "outputs": [],
   "source": [
    "# first order approximation\n",
    "def dydt(t, y, alpha, r_d, v):\n",
    "    da = alpha[1] - alpha[0]\n",
    "    rho = np.trapz(y, dx=da)\n",
    "    alpharho = alpha * y\n",
    "    dy = alpharho + v * laplace(alpharho)\n",
    "    dy *= 1 - rho\n",
    "    dy -= r_d * y\n",
    "    return dy\n",
    "\n",
    "\n",
    "# second order approximation\n",
    "def dydt2(t, y, alpha, r_d, D, tau):\n",
    "    i = len(y) // 2\n",
    "    da = alpha[1] - alpha[0]\n",
    "    dy = np.empty_like(y)\n",
    "    dy[:i] = y[i:]\n",
    "    rho = y[:i]\n",
    "    varrho = np.trapz(rho, dx=da)\n",
    "    alpharho = alpha * rho\n",
    "    dy[i:] = alpharho / tau + D * laplace(alpharho)\n",
    "    dy[i:] *= 1 - varrho\n",
    "    dy[i:] -= r_d * rho / tau\n",
    "    dy[i:] -= y[i:] / tau\n",
    "    dy[i:] *= 2\n",
    "    return dy\n",
    "\n",
    "def dydt_wave(t, y, alpha, r_d, D):\n",
    "    i = len(y) // 2\n",
    "    da = alpha[1] - alpha[0]\n",
    "    dy = np.empty_like(y)\n",
    "    dy[:i] = y[i:]\n",
    "    rho = y[:i]\n",
    "    varrho = np.trapz(rho, dx=da)\n",
    "    alpharho = alpha * rho\n",
    "    meanalpha = np.trapz(alpharho, dx=da) / varrho\n",
    "    dy[i:] = D * laplace(alpharho) * r_d / meanalpha\n",
    "#     dy[i:] *= 1 - varrho\n",
    "    dy[i:] *= 2\n",
    "    return dy"
   ]
  },
  {
   "cell_type": "code",
   "execution_count": null,
   "metadata": {
    "collapsed": false,
    "jupyter": {
     "outputs_hidden": false
    },
    "pycharm": {
     "name": "#%%\n"
    }
   },
   "outputs": [],
   "source": [
    "a_max = 1.\n",
    "dalpha = 0.005\n",
    "na = 101\n",
    "alpha, da = np.linspace(0, a_max, num=na, retstep=True, endpoint=True)\n",
    "r_b = 0.1\n",
    "r_d = 0.03\n",
    "tau = 1\n",
    "p_m = 1\n",
    "v = p_m * (dalpha / da)**2 / 2\n",
    "tmax = 10000\n",
    "dens0 = 1 - r_d / r_b\n",
    "print(dens0)\n",
    "ts = np.linspace(0, tmax, num=101)"
   ]
  },
  {
   "cell_type": "code",
   "execution_count": null,
   "metadata": {
    "collapsed": false,
    "jupyter": {
     "outputs_hidden": false
    },
    "pycharm": {
     "name": "#%%\n"
    }
   },
   "outputs": [],
   "source": [
    "y0 = np.zeros_like(alpha)\n",
    "y0[np.argwhere(alpha==r_b)] = dens0 / da\n",
    "sol = solve_ivp(dydt, (0, tmax), y0, t_eval=ts, args=(alpha, r_d, v), method='Radau', vectorized=False, max_step=.1,\n",
    "                rtol=1e-4, atol=1e-7)"
   ]
  },
  {
   "cell_type": "code",
   "execution_count": null,
   "metadata": {
    "collapsed": false,
    "jupyter": {
     "outputs_hidden": false
    },
    "pycharm": {
     "name": "#%%\n"
    }
   },
   "outputs": [],
   "source": [
    "# D = p_m * (dalpha / da) ** 2 / 2\n",
    "# y02 = np.hstack([y0, np.zeros_like(y0)])\n",
    "# sol2 = solve_ivp(dydt2, (0, tmax), y02, t_eval=ts, args=(alpha, r_d, D, tau), method='Radau', vectorized=False, max_step=.1,\n",
    "#                  rtol=1e-4)\n",
    "# sol2.y = sol2.y[:na]"
   ]
  },
  {
   "cell_type": "code",
   "execution_count": null,
   "metadata": {
    "collapsed": false,
    "jupyter": {
     "outputs_hidden": false
    },
    "pycharm": {
     "name": "#%%\n"
    }
   },
   "outputs": [],
   "source": [
    "# sol3 = solve_ivp(dydt_wave, (0, tmax), y02, t_eval=ts, args=(alpha, r_d, D), vectorized=False, method='Radau', max_step=.1,\n",
    "#                  rtol=1e-4)\n",
    "# sol3.y = sol3.y[:na]"
   ]
  },
  {
   "cell_type": "code",
   "execution_count": null,
   "metadata": {
    "collapsed": false,
    "jupyter": {
     "outputs_hidden": false
    },
    "pycharm": {
     "name": "#%%\n"
    }
   },
   "outputs": [],
   "source": [
    "import matplotlib as mpl\n",
    "mpl.rcParams['lines.linewidth'] = 2"
   ]
  },
  {
   "cell_type": "code",
   "execution_count": 76,
   "metadata": {
    "collapsed": false,
    "jupyter": {
     "outputs_hidden": false
    },
    "pycharm": {
     "name": "#%%\n"
    }
   },
   "outputs": [],
   "source": [
    "import matplotlib as mpl\n",
    "mpl.rcParams['lines.linewidth'] = 2"
   ]
  },
  {
   "cell_type": "code",
   "execution_count": 77,
   "metadata": {
    "collapsed": false,
    "jupyter": {
     "outputs_hidden": false
    },
    "pycharm": {
     "name": "#%%\n"
    }
   },
   "outputs": [
    {
     "data": {
      "text/plain": [
       "<matplotlib.legend.Legend at 0x7f2d4b2350d0>"
      ]
     },
     "execution_count": 77,
     "metadata": {},
     "output_type": "execute_result"
    },
    {
     "data": {
      "image/png": "[encoded data removed]",
      "text/plain": [
       "<Figure size 640x480 with 1 Axes>"
      ]
     },
     "metadata": {},
     "output_type": "display_data"
    }
   ],
   "source": [
    "for t in np.linspace(0, len(sol.t)-1, num=5, dtype=int)[1:]:\n",
    "    pl = plt.plot(alpha, sol.y[:, t], label='t = {:n}'.format(sol.t[t]))\n",
    "#     plt.plot(alpha, sol2.y[:, t], '--', c=pl[0].get_color())\n",
    "#     plt.plot(alpha, sol3.y[:, t], '-.', c=pl[0].get_color())\n",
    "\n",
    "#plt.plot(alpha, sol[-1], label='t = {:n}'.format(ts[-1]))\n",
    "plt.xlabel('$\\\\alpha$')\n",
    "plt.ylabel('$\\\\rho(\\\\alpha)$')\n",
    "plt.ylim(0)\n",
    "plt.legend()\n",
    "#plt.savefig('rho_alpha.png', dpi=600)"
   ]
  },
  {
   "cell_type": "code",
   "execution_count": 78,
   "metadata": {
    "collapsed": false,
    "jupyter": {
     "outputs_hidden": false
    },
    "pycharm": {
     "name": "#%%\n"
    }
   },
   "outputs": [
    {
     "name": "stdout",
     "output_type": "stream",
     "text": [
      "Family relationships not tracked.\n"
     ]
    },
    {
     "name": "stderr",
     "output_type": "stream",
     "text": [
      "100%|█████████████████████████████████████████████████████████████████████████████████████████████████████████████████████████████████████████████████████████████████████████████████████████████| 10000/10000 [08:37<00:00, 19.32it/s]\n"
     ]
    }
   ],
   "source": [
    "lgca = get_lgca(ib=True, density=dens0, bc='reflect', interaction='birthdeath', pmut=p_m, drb=dalpha, std=dalpha,\n",
    "                r_d=r_d, r_b=r_b, a_max=a_max, geometry='1d', dims=1, restchannels=2000)\n",
    "lgca.pm = p_m\n",
    "lgca.timeevo(timesteps=tmax, record=True)"
   ]
  },
  {
   "cell_type": "code",
   "execution_count": 92,
   "metadata": {
    "collapsed": false,
    "jupyter": {
     "outputs_hidden": false
    },
    "pycharm": {
     "name": "#%%\n"
    }
   },
   "outputs": [
    {
     "data": {
      "image/png": "[encoded data removed]",
      "text/plain": [
       "<Figure size 640x480 with 1 Axes>"
      ]
     },
     "metadata": {},
     "output_type": "display_data"
    }
   ],
   "source": [
    "lgca.plot_prop_timecourse(label='CA', lw=lw)\n",
    "# plt.plot(alphalgca, label='LGCA')\n",
    "# plt.plot(solmf.t, solmf.y[1])\n",
    "# plt.plot(ts, np.trapz(sol2.y * alpha[..., None], axis=0, dx=da) / np.trapz(sol2.y, axis=0, dx=da), label='MF2')\n",
    "# plt.plot(ts, np.trapz(sol3.y * alpha[..., None], axis=0, dx=da) / np.trapz(sol3.y, axis=0, dx=da), label='MF3')\n",
    "# plt.plot(ts, np.sqrt(2 * r_d**2 * dalpha**2 * ts**2 + 2 * dalpha**2 * ts + r_b**2))\n",
    "plt.plot(ts, np.trapz(sol.y * alpha[..., None], axis=0, dx=da) / np.trapz(sol.y, axis=0, dx=da), label='PDE')\n",
    "plt.plot(ts, meanfitness(ts, r_b, r_d, p_m*dalpha**2, 0), label='Analytical prediction')\n",
    "plt.ylim(0, 1)\n",
    "plt.xlim(0, tmax)\n",
    "plt.title('')\n",
    "plt.ylabel('$\\\\langle\\\\alpha\\\\rangle$')\n",
    "plt.legend()\n",
    "sns.despine()\n",
    "plt.tight_layout()\n",
    "# plt.savefig('mean_alpha.svg', dpi=600)"
   ]
  },
  {
   "cell_type": "code",
   "execution_count": null,
   "metadata": {
    "pycharm": {
     "name": "#%%\n"
    }
   },
   "outputs": [],
   "source": []
  },
  {
   "cell_type": "code",
   "execution_count": 91,
   "metadata": {
    "collapsed": false,
    "jupyter": {
     "outputs_hidden": false
    },
    "pycharm": {
     "name": "#%%\n"
    }
   },
   "outputs": [
    {
     "data": {
      "image/png": "[encoded data removed]",
      "text/plain": [
       "<Figure size 640x480 with 1 Axes>"
      ]
     },
     "metadata": {},
     "output_type": "display_data"
    }
   ],
   "source": [
    "plt.plot(np.arange(tmax+1), lgca.dens_t/lgca.K, label='CA', lw=lw)\n",
    "plt.plot(ts, np.trapz(sol.y, axis=0, dx=da), label='PDE', lw=lw)\n",
    "plt.plot(ts, 1 - r_d / meanfitness(ts, r_b, r_d, p_m*dalpha**2, 0), label='analytical prediction', lw=lw)\n",
    "# plt.plot(ts, np.trapz(sol2.y, axis=0, dx=da), label='MF2')\n",
    "# plt.plot(solmf.t, solmf.y[0])\n",
    "plt.ylabel('$\\\\bar{\\\\rho}$')\n",
    "plt.xlabel('Time $t$')\n",
    "plt.xlim(0, tmax)\n",
    "plt.legend()\n",
    "sns.despine()\n",
    "plt.tight_layout()\n",
    "# plt.savefig('density.svg', dpi=600)"
   ]
  },
  {
   "cell_type": "code",
   "execution_count": 90,
   "metadata": {
    "pycharm": {
     "name": "#%%\n"
    }
   },
   "outputs": [],
   "source": [
    "# analytical predictions for bulk\n",
    "def meanfitness(t, r_b, r_d, m, v0):\n",
    "    \"\"\"\n",
    "    mean fitness over time in the bulk, given initial mean birth rate r_b, initial variance v0, mutationrate m\n",
    "    \"\"\"\n",
    "    return np.sqrt(2 * r_d**2 * m * t**2 + 2 * r_d * (v0+m) * t + r_b**2)"
   ]
  },
  {
   "cell_type": "code",
   "execution_count": null,
   "metadata": {
    "collapsed": false,
    "jupyter": {
     "outputs_hidden": false
    },
    "pycharm": {
     "name": "#%%\n"
    }
   },
   "outputs": [],
   "source": [
    "fig, ax = plt.subplots(ncols=2)\n",
    "meanalpha = np.trapz(sol.y * alpha[..., None], axis=0, dx=da) / np.trapz(sol.y, axis=0, dx=da)\n",
    "varalpha = np.trapz(sol.y * alpha[..., None]**2, axis=0, dx=da) / np.trapz(sol.y, axis=0, dx=da) - meanalpha**2\n",
    "plt.sca(ax[0])\n",
    "# lgca.plot_prop_timecourse(label='CA')\n",
    "# plt.plot(alphalgca, label='LGCA')\n",
    "plt.plot(ts, meanalpha, label='PDE')\n",
    "plt.plot(ts, meanfitness(ts, r_b, r_d, p_m*dalpha**2, 0), label='Analytical prediction')\n",
    "# plt.plot(solmf.t, solmf.y[1])\n",
    "# plt.plot(ts, np.trapz(sol2.y * alpha[..., None], axis=0, dx=da) / np.trapz(sol2.y, axis=0, dx=da), label='MF2')\n",
    "# plt.plot(ts, np.trapz(sol3.y * alpha[..., None], axis=0, dx=da) / np.trapz(sol3.y, axis=0, dx=da), label='MF3')\n",
    "# plt.plot(ts, np.sqrt(2 * r_d**2 * dalpha**2 * ts**2 + 2 * dalpha**2 * ts + r_b**2))\n",
    "plt.xlim(0, tmax)\n",
    "plt.title('')\n",
    "plt.ylabel('$\\\\langle\\\\alpha\\\\rangle$')\n",
    "plt.legend()\n",
    "plt.sca(ax[1])\n",
    "plt.plot(ts, varalpha, label='PDE', lw=lw)\n",
    "plt.plot(ts, r_d * dalpha**2 * p_m * ts)\n",
    "plt.xlim(0, 100)\n",
    "\n",
    "sns.despine()"
   ]
  },
  {
   "cell_type": "code",
   "execution_count": null,
   "metadata": {
    "collapsed": false,
    "jupyter": {
     "outputs_hidden": false
    },
    "pycharm": {
     "name": "#%%\n"
    }
   },
   "outputs": [],
   "source": [
    "props = np.array(lgca.props['r_b'])[lgca.nodes[lgca.nodes > 0]]\n",
    "bins = np.arange(0, a_max+dalpha/2, dalpha) - dalpha/2\n",
    "plt.hist(props, density=True, label='CA')\n",
    "plt.plot(alpha, sol.y[:, -1] / sol.y[:, -1].sum() / da, label='PDE', lw=lw)\n",
    "# plt.plot(alpha, sol2.y[:, -1] / sol2.y[:, -1].sum() / da, label='MF2')\n",
    "# plt.xlabel('$\\\\alpha$')\n",
    "plt.ylabel('$\\\\rho(\\\\alpha, t \\\\to \\\\infty)$')\n",
    "plt.legend()"
   ]
  },
  {
   "cell_type": "code",
   "execution_count": null,
   "metadata": {
    "collapsed": false,
    "jupyter": {
     "outputs_hidden": false
    },
    "pycharm": {
     "name": "#%%\n"
    }
   },
   "outputs": [],
   "source": [
    "from scipy.stats import norm\n",
    "\n",
    "def normaldist(x, m, var, z):\n",
    "    f = norm.cdf(x, loc=m, scale=np.sqrt(var))\n",
    "    return (1 - f) * z\n",
    "\n",
    "def dalphadt(t, y, r_d, var, amax):\n",
    "    r, m, s = y\n",
    "    dr = r * m * (1 - r) - r_d * r\n",
    "    dm = (1 - r) * (s + var )\n",
    "    ds = (1 - r) * (2 * var * m)\n",
    "    return (dr, dm, ds)"
   ]
  },
  {
   "cell_type": "code",
   "execution_count": null,
   "metadata": {
    "collapsed": false,
    "jupyter": {
     "outputs_hidden": false
    },
    "pycharm": {
     "name": "#%%\n"
    }
   },
   "outputs": [],
   "source": [
    "var = dalpha ** 2\n",
    "solmf = solve_ivp(dalphadt, (0, tmax), (dens0, r_b, 0), t_eval=ts, args=(r_d, var, a_max), method='LSODA')"
   ]
  },
  {
   "cell_type": "code",
   "execution_count": null,
   "metadata": {
    "collapsed": false,
    "jupyter": {
     "outputs_hidden": false
    },
    "pycharm": {
     "name": "#%%\n"
    }
   },
   "outputs": [],
   "source": [
    "plt.plot(solmf.t, solmf.y[2])"
   ]
  },
  {
   "cell_type": "code",
   "execution_count": null,
   "metadata": {
    "collapsed": false,
    "jupyter": {
     "outputs_hidden": false
    },
    "pycharm": {
     "name": "#%%\n"
    }
   },
   "outputs": [],
   "source": [
    "%matplotlib inline\n",
    "plt.rcParams['svg.fonttype'] = 'none'\n",
    "sns.set_style('white')\n",
    "sns.set_palette('colorblind')"
   ]
  },
  {
   "cell_type": "code",
   "execution_count": null,
   "metadata": {
    "collapsed": false,
    "jupyter": {
     "outputs_hidden": false
    },
    "pycharm": {
     "name": "#%%\n"
    }
   },
   "outputs": [],
   "source": [
    "l = 50\n",
    "tmax = 100\n",
    "restchannels = 1\n",
    "n_channels = restchannels + 2\n",
    "nodes = np.zeros((l, n_channels), dtype=bool)\n",
    "nodes[:3] = 1\n",
    "\n",
    "lgca = get_lgca(ib=True, nodes=nodes, bc='reflect', interaction='birthdeath', \n",
    "                geometry='lin', std=0.15,\n",
    "                r_d=0.05, r_b=r_b, a_max=a_max)\n",
    "lgca.pm = p_m\n",
    "lgca.timeevo(timesteps=tmax, record=True)"
   ]
  },
  {
   "cell_type": "code",
   "execution_count": null,
   "metadata": {
    "collapsed": false,
    "jupyter": {
     "outputs_hidden": false
    },
    "pycharm": {
     "name": "#%%\n"
    }
   },
   "outputs": [],
   "source": [
    "lgca.plot_density(cmap='magma', colorbarwidth=0.3)\n",
    "# plt.plot([0, l-1], [0, tmax], 'r--', lw=3, label='$c_{\\max}$')\n",
    "# plt.legend()\n",
    "plt.xlabel('Node $r$')\n",
    "plt.ylabel('Time $k$')\n",
    "plt.gca().yaxis.set_ticks_position('left')\n",
    "# plt.savefig('density.svg')"
   ]
  },
  {
   "cell_type": "code",
   "execution_count": null,
   "metadata": {
    "collapsed": false,
    "jupyter": {
     "outputs_hidden": false
    },
    "pycharm": {
     "name": "#%%\n"
    }
   },
   "outputs": [],
   "source": [
    "lgca.plot_prop_spatial(cmap='viridis')#, cbarlabel=r'Mean proliferation rate $\\left\\langle \\alpha \\right\\rangle$')\n",
    "plt.xlabel('Node $r$')\n",
    "plt.ylabel('')\n",
    "plt.gca().yaxis.set_ticks([])\n",
    "# plt.savefig('alpha.svg')"
   ]
  },
  {
   "cell_type": "code",
   "execution_count": null,
   "metadata": {
    "collapsed": false,
    "jupyter": {
     "outputs_hidden": false
    },
    "pycharm": {
     "name": "#%%\n"
    }
   },
   "outputs": [],
   "source": [
    "def dydt_spatial(t, y, alpha, dx, r_d, v):\n",
    "    y = y.reshape((-1, len(alpha)))\n",
    "    da = alpha[1] - alpha[0]\n",
    "    rho = np.trapz(y, dx=da, axis=-1)\n",
    "    alpharho = alpha * y\n",
    "    dy = alpharho + v * convolve1d(alpharho, [1, -2, 1], axis=-1)\n",
    "    dy += (1 - rho[..., None]) * y\n",
    "    dy -= r_d * y\n",
    "    dy += convolve1d(y, [1, -2, 1], axis=0) / dx**2 / 2\n",
    "    return dy.flatten()"
   ]
  },
  {
   "cell_type": "code",
   "execution_count": null,
   "metadata": {
    "collapsed": false,
    "jupyter": {
     "outputs_hidden": false
    },
    "pycharm": {
     "name": "#%%\n"
    }
   },
   "outputs": [],
   "source": [
    "nx = 101\n",
    "x, dx = np.linspace(0, 100, nx, retstep=True, endpoint=True)\n",
    "a_max = 1.\n",
    "dalpha = 0.05\n",
    "na = 101\n",
    "alpha, da = np.linspace(0, a_max, num=na, retstep=True, endpoint=True)\n",
    "r_b = 0.1\n",
    "r_d = 0.03\n",
    "p_m = .1\n",
    "v = p_m * (dalpha / da)**2 / 2\n",
    "tmax = 100\n",
    "# dens0 = 1 - r_d / r_b\n",
    "dens0 = 0.01\n",
    "ts = np.linspace(0, tmax, num=11)"
   ]
  },
  {
   "cell_type": "code",
   "execution_count": null,
   "metadata": {
    "collapsed": false,
    "jupyter": {
     "outputs_hidden": false
    },
    "pycharm": {
     "name": "#%%\n"
    }
   },
   "outputs": [],
   "source": [
    "y0 = np.zeros((nx, na))\n",
    "y0[0, np.argwhere(alpha==r_b)] = dens0 / da\n",
    "sol = solve_ivp(dydt_spatial, (0, tmax), y0.flatten(), t_eval=ts, args=(alpha, dx, r_d, v), vectorized=False)#, rtol=1e-4, atol=1e-6)"
   ]
  },
  {
   "cell_type": "code",
   "execution_count": null,
   "metadata": {
    "collapsed": false,
    "jupyter": {
     "outputs_hidden": false
    },
    "pycharm": {
     "name": "#%%\n"
    }
   },
   "outputs": [],
   "source": [
    "sol"
   ]
  },
  {
   "cell_type": "code",
   "execution_count": null,
   "metadata": {
    "collapsed": false,
    "jupyter": {
     "outputs_hidden": false
    },
    "pycharm": {
     "name": "#%%\n"
    }
   },
   "outputs": [],
   "source": [
    "y = sol.y.reshape((nx, na, len(sol.t)))\n",
    "rhotot = np.trapz(y, dx=da, axis=1)\n",
    "meanalpha = np.divide(np.trapz(alpha[..., None, None] * y, dx=da, axis=1), rhotot, where=rhotot>0, out=np.zeros_like(rhotot))"
   ]
  },
  {
   "cell_type": "code",
   "execution_count": null,
   "metadata": {
    "collapsed": false,
    "jupyter": {
     "outputs_hidden": false
    },
    "pycharm": {
     "name": "#%%\n"
    }
   },
   "outputs": [],
   "source": [
    "plt.plot(x, rhotot[:, 1])"
   ]
  },
  {
   "cell_type": "code",
   "execution_count": null,
   "metadata": {
    "collapsed": false,
    "jupyter": {
     "outputs_hidden": false
    },
    "pycharm": {
     "name": "#%%\n"
    }
   },
   "outputs": [],
   "source": [
    "y0.sum() * dalpha * dx"
   ]
  },
  {
   "cell_type": "code",
   "execution_count": null,
   "metadata": {
    "collapsed": false,
    "jupyter": {
     "outputs_hidden": false
    },
    "pycharm": {
     "name": "#%%\n"
    }
   },
   "outputs": [],
   "source": [
    "for t in np.linspace(0, len(sol.t)-1, num=5, dtype=int)[1:]:\n",
    "    pl = plt.plot(alpha, sol.y[:, t], label='t = {:n}'.format(sol.t[t]), lw=lw)\n",
    "#     plt.plot(alpha, sol2.y[:, t], '--', c=pl[0].get_color())\n",
    "#     plt.plot(alpha, sol3.y[:, t], '-.', c=pl[0].get_color())\n",
    "\n",
    "#plt.plot(alpha, sol[-1], label='t = {:n}'.format(ts[-1]))\n",
    "plt.xlabel('$\\\\alpha$')\n",
    "plt.ylabel('$\\\\rho(\\\\alpha)$')\n",
    "plt.ylim(0)\n",
    "plt.legend()\n",
    "#plt.savefig('rho_alpha.png', dpi=600)"
   ]
  },
  {
   "cell_type": "code",
   "execution_count": null,
   "metadata": {
    "collapsed": false,
    "jupyter": {
     "outputs_hidden": false
    },
    "pycharm": {
     "name": "#%%\n"
    }
   },
   "outputs": [],
   "source": [
    "lgca = get_lgca(ib=True, density=dens0, bc='reflect', interaction='birthdeath', pmut=p_m, drb=dalpha, std=dalpha,\n",
    "                r_d=r_d, r_b=r_b, a_max=a_max, geometry='1d', dims=1, restchannels=2000)\n",
    "lgca.pm = p_m\n",
    "lgca.timeevo(timesteps=tmax, record=True)"
   ]
  },
  {
   "cell_type": "code",
   "execution_count": null,
   "metadata": {
    "collapsed": false,
    "jupyter": {
     "outputs_hidden": false
    },
    "pycharm": {
     "name": "#%%\n"
    }
   },
   "outputs": [],
   "source": [
    "lgca.plot_prop_timecourse(label='CA', lw=lw)\n",
    "# plt.plot(alphalgca, label='LGCA')\n",
    "plt.plot(ts, np.trapz(sol.y * alpha[..., None], axis=0, dx=da) / np.trapz(sol.y, axis=0, dx=da), label='PDE', lw=lw)\n",
    "# plt.plot(solmf.t, solmf.y[1])\n",
    "# plt.plot(ts, np.trapz(sol2.y * alpha[..., None], axis=0, dx=da) / np.trapz(sol2.y, axis=0, dx=da), label='MF2')\n",
    "# plt.plot(ts, np.trapz(sol3.y * alpha[..., None], axis=0, dx=da) / np.trapz(sol3.y, axis=0, dx=da), label='MF3')\n",
    "# plt.plot(ts, np.sqrt(2 * r_d**2 * dalpha**2 * ts**2 + 2 * dalpha**2 * ts + r_b**2))\n",
    "plt.ylim(0, 1)\n",
    "plt.xlim(0, tmax/2)\n",
    "plt.title('')\n",
    "plt.ylabel('$\\\\langle\\\\alpha\\\\rangle$')\n",
    "# plt.legend()\n",
    "sns.despine()\n",
    "plt.tight_layout()\n",
    "# plt.savefig('mean_alpha.svg', dpi=600)"
   ]
  },
  {
   "cell_type": "code",
   "execution_count": null,
   "metadata": {
    "collapsed": false,
    "jupyter": {
     "outputs_hidden": false
    },
    "pycharm": {
     "name": "#%%\n"
    }
   },
   "outputs": [],
   "source": [
    "plt.plot(np.arange(tmax+1), lgca.dens_t/lgca.K, label='CA', lw=lw)\n",
    "plt.plot(ts, np.trapz(sol.y, axis=0, dx=da), label='PDE', lw=lw)\n",
    "# plt.plot(ts, np.trapz(sol2.y, axis=0, dx=da), label='MF2')\n",
    "# plt.plot(solmf.t, solmf.y[0])\n",
    "plt.ylabel('$\\\\bar{\\\\rho}$')\n",
    "plt.xlabel('Time $t$')\n",
    "plt.xlim(0, tmax/2)\n",
    "plt.legend()\n",
    "sns.despine()\n",
    "plt.tight_layout()\n",
    "# plt.savefig('density.svg', dpi=600)"
   ]
  },
  {
   "cell_type": "code",
   "execution_count": null,
   "metadata": {
    "collapsed": false,
    "jupyter": {
     "outputs_hidden": false
    },
    "pycharm": {
     "name": "#%%\n"
    }
   },
   "outputs": [],
   "source": [
    "fig, ax = plt.subplots(ncols=2)\n",
    "plt.sca(ax[0])\n",
    "lgca.plot_prop_timecourse(label='CA', lw=lw, ax=ax[0])\n",
    "# plt.plot(alphalgca, label='LGCA')\n",
    "plt.plot(ts, np.trapz(sol.y * alpha[..., None], axis=0, dx=da) / np.trapz(sol.y, axis=0, dx=da), label='PDE', lw=lw)\n",
    "# plt.plot(solmf.t, solmf.y[1])\n",
    "# plt.plot(ts, np.trapz(sol2.y * alpha[..., None], axis=0, dx=da) / np.trapz(sol2.y, axis=0, dx=da), label='MF2')\n",
    "# plt.plot(ts, np.trapz(sol3.y * alpha[..., None], axis=0, dx=da) / np.trapz(sol3.y, axis=0, dx=da), label='MF3')\n",
    "# plt.plot(ts, np.sqrt(2 * r_d**2 * dalpha**2 * ts**2 + 2 * dalpha**2 * ts + r_b**2))\n",
    "plt.ylim(0, 1)\n",
    "plt.xlim(0, tmax/2)\n",
    "plt.title('')\n",
    "plt.ylabel('$\\\\langle\\\\alpha\\\\rangle$')\n",
    "# plt.legend()\n",
    "sns.despine()"
   ]
  },
  {
   "cell_type": "code",
   "execution_count": null,
   "metadata": {
    "collapsed": false,
    "jupyter": {
     "outputs_hidden": false
    },
    "pycharm": {
     "name": "#%%\n"
    }
   },
   "outputs": [],
   "source": [
    "props = np.array(lgca.props['r_b'])[lgca.nodes[lgca.nodes > 0]]\n",
    "# bins = np.arange(0, a_max+dalpha/2, dalpha) - dalpha/2\n",
    "plt.hist(props, density=True, label='CA')\n",
    "plt.plot(alpha, sol.y[:, -1] / sol.y[:, -1].sum() / da, label='PDE', lw=lw)\n",
    "# plt.plot(alpha, sol2.y[:, -1] / sol2.y[:, -1].sum() / da, label='MF2')\n",
    "# plt.xlabel('$\\\\alpha$')\n",
    "plt.ylabel('$\\\\rho(\\\\alpha, t \\\\to \\\\infty)$')\n",
    "plt.legend()"
   ]
  },
  {
   "cell_type": "code",
   "execution_count": null,
   "metadata": {
    "collapsed": false,
    "jupyter": {
     "outputs_hidden": false
    },
    "pycharm": {
     "name": "#%%\n"
    }
   },
   "outputs": [],
   "source": [
    "from scipy.stats import norm\n",
    "\n",
    "def normaldist(x, m, var, z):\n",
    "    f = norm.cdf(x, loc=m, scale=np.sqrt(var))\n",
    "    return (1 - f) * z\n",
    "\n",
    "def dalphadt(t, y, r_d, var, amax):\n",
    "    r, m, s = y\n",
    "    dr = r * m * (1 - r) - r_d * r\n",
    "    dm = (1 - r) * (s + var )\n",
    "    ds = (1 - r) * (2 * var * m)\n",
    "    return (dr, dm, ds)"
   ]
  },
  {
   "cell_type": "code",
   "execution_count": null,
   "metadata": {
    "collapsed": false,
    "jupyter": {
     "outputs_hidden": false
    },
    "pycharm": {
     "name": "#%%\n"
    }
   },
   "outputs": [],
   "source": [
    "var = dalpha ** 2\n",
    "solmf = solve_ivp(dalphadt, (0, tmax), (dens0, r_b, 0), t_eval=ts, args=(r_d, var, a_max), method='LSODA')"
   ]
  },
  {
   "cell_type": "code",
   "execution_count": null,
   "metadata": {
    "collapsed": false,
    "jupyter": {
     "outputs_hidden": false
    },
    "pycharm": {
     "name": "#%%\n"
    }
   },
   "outputs": [],
   "source": [
    "plt.plot(solmf.t, solmf.y[1])"
   ]
  },
  {
   "cell_type": "code",
   "execution_count": null,
   "metadata": {
    "collapsed": false,
    "jupyter": {
     "outputs_hidden": false
    },
    "pycharm": {
     "name": "#%%\n"
    }
   },
   "outputs": [],
   "source": [
    "%matplotlib inline\n",
    "plt.rcParams['svg.fonttype'] = 'none'\n",
    "sns.set_style('white')\n",
    "sns.set_palette('colorblind')"
   ]
  },
  {
   "cell_type": "code",
   "execution_count": null,
   "metadata": {
    "collapsed": false,
    "jupyter": {
     "outputs_hidden": false
    },
    "pycharm": {
     "name": "#%%\n"
    }
   },
   "outputs": [],
   "source": [
    "l = 50\n",
    "tmax = 100\n",
    "restchannels = 1\n",
    "n_channels = restchannels + 2\n",
    "nodes = np.zeros((l, n_channels), dtype=bool)\n",
    "nodes[:3] = 1\n",
    "\n",
    "lgca = get_lgca(ib=True, nodes=nodes, bc='reflect', interaction='birthdeath', \n",
    "                geometry='lin', std=0.15,\n",
    "                r_d=0.05, r_b=r_b, a_max=a_max)\n",
    "lgca.pm = p_m\n",
    "lgca.timeevo(timesteps=tmax, record=True)"
   ]
  },
  {
   "cell_type": "code",
   "execution_count": null,
   "metadata": {
    "collapsed": false,
    "jupyter": {
     "outputs_hidden": false
    },
    "pycharm": {
     "name": "#%%\n"
    }
   },
   "outputs": [],
   "source": [
    "lgca.plot_density(cmap='magma', cbarlabel='Cell density $\\\\bar{\\\\rho}$', colorbarwidth=0.3)\n",
    "# plt.plot([0, l-1], [0, tmax], 'r--', lw=3, label='$c_{\\max}$')\n",
    "# plt.legend()\n",
    "plt.xlabel('Node $r$')\n",
    "plt.ylabel('Time $k$')\n",
    "plt.gca().yaxis.set_ticks_position('left')\n",
    "plt.savefig('density.svg')"
   ]
  },
  {
   "cell_type": "code",
   "execution_count": null,
   "metadata": {
    "collapsed": false,
    "jupyter": {
     "outputs_hidden": false
    },
    "pycharm": {
     "name": "#%%\n"
    }
   },
   "outputs": [],
   "source": [
    "lgca.plot_prop_spatial(cmap='viridis', cbarlabel=r'Mean proliferation rate $\\left\\langle \\alpha \\right\\rangle$')\n",
    "plt.xlabel('Node $r$')\n",
    "plt.ylabel('')\n",
    "plt.gca().yaxis.set_ticks([])\n",
    "plt.savefig('alpha.svg')"
   ]
  },
  {
   "cell_type": "code",
   "execution_count": null,
   "metadata": {
    "collapsed": false,
    "jupyter": {
     "outputs_hidden": false
    },
    "pycharm": {
     "name": "#%%\n"
    }
   },
   "outputs": [],
   "source": [
    "def dydt_spatial(t, y, alpha, dx, r_d, v, D):\n",
    "    y = y.reshape((-1, len(alpha)))\n",
    "    da = alpha[1] - alpha[0]\n",
    "    rho = np.trapz(y, dx=da, axis=-1)\n",
    "    alpharho = alpha * y\n",
    "    dy = alpharho + v * convolve1d(alpharho, [1, -2, 1], axis=-1, mode='mirror')\n",
    "    dy *= (1 - rho[..., None])\n",
    "    dy -= r_d * y\n",
    "    dy += convolve1d(y, [1, -2, 1], axis=0, mode='mirror') / dx**2 / 2 * D\n",
    "    return dy.flatten()"
   ]
  },
  {
   "cell_type": "code",
   "execution_count": null,
   "metadata": {
    "collapsed": false,
    "jupyter": {
     "outputs_hidden": false
    },
    "pycharm": {
     "name": "#%%\n"
    }
   },
   "outputs": [],
   "source": [
    "nx = 101\n",
    "x, dx = np.linspace(0, 500, nx, retstep=True, endpoint=True)\n",
    "a_max = 1.\n",
    "dalpha = 0.005\n",
    "na = 501\n",
    "alpha, da = np.linspace(0, a_max, num=na, retstep=True, endpoint=True)\n",
    "r_b = 0.1\n",
    "r_d = 0.05\n",
    "p_m = .01\n",
    "v = p_m * (dalpha / da)**2 / 2\n",
    "D = .1\n",
    "tmax = 2000\n",
    "dens0 = 1 - r_d / r_b\n",
    "# dens0 = 0.01\n",
    "ts = np.linspace(0, tmax, num=101)"
   ]
  },
  {
   "cell_type": "code",
   "execution_count": null,
   "metadata": {
    "collapsed": false,
    "jupyter": {
     "outputs_hidden": false
    },
    "pycharm": {
     "name": "#%%\n"
    }
   },
   "outputs": [],
   "source": [
    "y0 = np.zeros((nx, na))\n",
    "y0[0, np.argwhere(alpha==r_b)] = dens0 / da\n",
    "sol = solve_ivp(dydt_spatial, (0, tmax), y0.flatten(), t_eval=ts, args=(alpha, dx, r_d, v, D), vectorized=False, method='DOP853')#, rtol=1e-4, atol=1e-6)"
   ]
  },
  {
   "cell_type": "code",
   "execution_count": null,
   "metadata": {
    "collapsed": false,
    "jupyter": {
     "outputs_hidden": false
    },
    "pycharm": {
     "name": "#%%\n"
    }
   },
   "outputs": [],
   "source": [
    "sol"
   ]
  },
  {
   "cell_type": "code",
   "execution_count": null,
   "metadata": {
    "collapsed": false,
    "jupyter": {
     "outputs_hidden": false
    },
    "pycharm": {
     "name": "#%%\n"
    }
   },
   "outputs": [],
   "source": [
    "y = sol.y.reshape((nx, na, len(sol.t)))\n",
    "rhotot = np.trapz(y, dx=da, axis=1)\n",
    "meanalpha = np.divide(np.trapz(alpha[None, :, None] * y, dx=da, axis=1), rhotot, where=rhotot>1e-15, out=np.full_like(rhotot, np.nan))"
   ]
  },
  {
   "cell_type": "code",
   "execution_count": null,
   "metadata": {
    "collapsed": false,
    "jupyter": {
     "outputs_hidden": false
    },
    "pycharm": {
     "name": "#%%\n"
    }
   },
   "outputs": [],
   "source": [
    "for t in range(0, len(ts), 10):\n",
    "    plt.plot(x, rhotot[..., t], label='$t = {}$'.format(ts[t]))\n",
    "    \n",
    "plt.legend()"
   ]
  },
  {
   "cell_type": "code",
   "execution_count": null,
   "metadata": {
    "collapsed": false,
    "jupyter": {
     "outputs_hidden": false
    },
    "pycharm": {
     "name": "#%%\n"
    }
   },
   "outputs": [],
   "source": [
    "for t in range(0, len(ts), 10):\n",
    "    plt.plot(x, meanalpha[..., t])\n",
    "    \n",
    "plt.xlim(0, x.max())\n"
   ]
  },
  {
   "cell_type": "code",
   "execution_count": null,
   "metadata": {
    "collapsed": false,
    "jupyter": {
     "outputs_hidden": false
    },
    "pycharm": {
     "name": "#%%\n"
    }
   },
   "outputs": [],
   "source": [
    "# how to calculate wave speed? -> index of point where grad rho is minimal -> put into x -> x values over time -> differentiate!"
   ]
  }
 ],
 "metadata": {
  "anaconda-cloud": {},
  "kernelspec": {
   "display_name": "Python 3 (ipykernel)",
   "language": "python",
   "name": "python3"
  },
  "language_info": {
   "codemirror_mode": {
    "name": "ipython",
    "version": 3
   },
   "file_extension": ".py",
   "mimetype": "text/x-python",
   "name": "python",
   "nbconvert_exporter": "python",
   "pygments_lexer": "ipython3",
   "version": "3.7.13"
  }
 },
 "nbformat": 4,
 "nbformat_minor": 4
}
