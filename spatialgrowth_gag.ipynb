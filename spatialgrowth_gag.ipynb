{
 "cells": [
  {
   "cell_type": "markdown",
   "metadata": {},
   "source": [
    "## Spatial dynamics"
   ]
  },
  {
   "cell_type": "code",
   "execution_count": 83,
   "metadata": {
    "ExecuteTime": {
     "end_time": "2023-08-01T15:04:07.267809100Z",
     "start_time": "2023-08-01T15:04:07.241509300Z"
    }
   },
   "outputs": [],
   "source": [
    "import numpy as np\n",
    "import matplotlib.pyplot as plt\n",
    "from lgca import get_lgca\n",
    "from scipy.integrate import  solve_ivp\n",
    "from scipy.special import erf\n",
    "from math import sqrt\n",
    "from scipy.ndimage import laplace, convolve1d\n",
    "from scipy.integrate import cumulative_trapezoid"
   ]
  },
  {
   "cell_type": "code",
   "execution_count": 3,
   "metadata": {
    "ExecuteTime": {
     "end_time": "2023-08-01T15:04:07.409947100Z",
     "start_time": "2023-08-01T15:04:07.372958Z"
    }
   },
   "outputs": [],
   "source": [
    "def dydt_spatial(t, y, alpha, dx, r_d, p, mean, secondmoment, K, D):\n",
    "    y = y.reshape((-1, len(alpha)))\n",
    "    da = alpha[1] - alpha[0]\n",
    "    rho = np.trapz(y, dx=da, axis=-1)\n",
    "    alpharho = alpha * y\n",
    "    cutoff = np.heaviside(y - 1/K, .5)\n",
    "    # dy = alpharho + v * convolve1d(alpharho, [1, -2, 1], axis=-1, mode='mirror')\n",
    "    # dy[:, -1] = alpharho[:, -1] - v * da * (y[:, -2] + alpha[-2] * (y[:, -1] - y[:, -3]) / 2 / da)  # zero flux boundary conditions\n",
    "    dy = cutoff * alpharho + p * (-mean * np.gradient(alpharho, da, axis=1) + secondmoment / 2 * convolve1d(alpharho, [1., -2., 1.], axis=1) / da**2)\n",
    "\n",
    "    dy *= (1 - rho[..., None])\n",
    "    dy -= r_d * y * cutoff\n",
    "    dy[:, 0] = 0 # Dirichlet, Robin and Neumann boundary amounts to the same at the left boundary\n",
    "    dy[:, -1] = 0  # neumann condition\n",
    "    dy += convolve1d(y, [1., -2., 1.], axis=0, mode='mirror') / dx**2 * D\n",
    "    return dy.flatten()"
   ]
  },
  {
   "cell_type": "code",
   "execution_count": 89,
   "metadata": {
    "ExecuteTime": {
     "end_time": "2023-08-01T15:05:22.447715500Z",
     "start_time": "2023-08-01T15:05:22.422538200Z"
    }
   },
   "outputs": [
    {
     "name": "stdout",
     "output_type": "stream",
     "text": [
      "5005.260390723681\n"
     ]
    }
   ],
   "source": [
    "a_max = 1.\n",
    "a_min = 0.\n",
    "na = 1001\n",
    "alpha, dalpha = np.linspace(a_min, a_max, num=na, retstep=True)\n",
    "r_d = 0.01\n",
    "r_b = 0.2\n",
    "p_mut = 1\n",
    "var = 0.00001\n",
    "mean_mut_effect = 0\n",
    "tmax = 1000\n",
    "Da = var / 2\n",
    "dens0 = 1 - r_d / r_b\n",
    "ts = np.linspace(0, tmax, num=101)\n",
    "nx = 100\n",
    "xmax = 100\n",
    "x, dx = np.linspace(0, xmax, nx, retstep=True, endpoint=False)\n",
    "da = dalpha\n",
    "p_m = 1\n",
    "D = 0.00001\n",
    "K = 100\n",
    "dt = 1\n",
    "\n",
    "tshow = [2, 10, 40, 100]\n",
    "vtarget = 2e-2\n",
    "gamma = -np.log(vtarget**2 / (4 * (r_b - r_d)))\n",
    "D = 1. / (4 + np.exp(gamma))\n",
    "Tfill = xmax / (2 * np.sqrt(D * (r_b - r_d)))\n",
    "print(Tfill)"
   ]
  },
  {
   "cell_type": "code",
   "execution_count": 90,
   "metadata": {
    "ExecuteTime": {
     "end_time": "2023-08-01T15:23:13.527727800Z",
     "start_time": "2023-08-01T15:05:33.667671400Z"
    }
   },
   "outputs": [
    {
     "data": {
      "application/vnd.jupyter.widget-view+json": {
       "model_id": "259b8a0ce12a4aaeb1dbfa18091f6f77",
       "version_major": 2,
       "version_minor": 0
      },
      "text/plain": [
       "  0%|          | 0/1000 [00:00<?, ?it/s]"
      ]
     },
     "metadata": {},
     "output_type": "display_data"
    }
   ],
   "source": [
    "lx = 50\n",
    "ly = 25\n",
    "dims= lx, ly\n",
    "nodes = np.zeros((lx, ly, 5), dtype=int)\n",
    "nodes[0, :, -1] = dens0 * K\n",
    "lgca = get_lgca(ib=True, nodes=nodes, bc='refl', interaction='birthdeath', std=sqrt(var), ve=False, capacity=K,\n",
    "                r_d=r_d, r_b=r_b, a_max=a_max, geometry='square', dims=dims, restchannels=1, gamma=gamma)\n",
    "lgca.timeevo(timesteps=tmax, record=True)"
   ]
  },
  {
   "cell_type": "code",
   "execution_count": 91,
   "metadata": {},
   "outputs": [],
   "source": [
    "skip = tmax // 100  # I only need 100 timepoints"
   ]
  },
  {
   "cell_type": "code",
   "execution_count": 92,
   "metadata": {},
   "outputs": [],
   "source": [
    "lgca.dens_t.shape"
   ]
  },
  {
   "cell_type": "code",
   "execution_count": 93,
   "metadata": {},
   "outputs": [],
   "source": [
    "densityprofile = lgca.dens_t.mean(-1)\n",
    "xfront = np.argmax(lgca.dens_t < dens0/2, axis=1).mean(-1)"
   ]
  },
  {
   "cell_type": "code",
   "execution_count": 94,
   "metadata": {},
   "outputs": [],
   "source": [
    "plt.plot(densityprofile[-1])"
   ]
  },
  {
   "cell_type": "code",
   "execution_count": 95,
   "metadata": {},
   "outputs": [],
   "source": [
    "proparray = np.array(lgca.props['r_b'])\n",
    "prop_t = [proparray[nodes.sum()] for nodes in lgca.nodes_t[::skip]]\n",
    "mean_prop_t = np.array([np.mean(prop) if len(prop) > 0 else np.nan for prop in prop_t])"
   ]
  },
  {
   "cell_type": "code",
   "execution_count": 96,
   "metadata": {},
   "outputs": [],
   "source": [
    "plt.plot(mean_prop_t)"
   ]
  },
  {
   "cell_type": "code",
   "execution_count": 97,
   "metadata": {},
   "outputs": [],
   "source": [
    "evo_mean_dist = cumulative_trapezoid(2 * np.sqrt(D * (mean_prop_t - r_d)), dx=skip)"
   ]
  },
  {
   "cell_type": "code",
   "execution_count": 108,
   "metadata": {},
   "outputs": [],
   "source": [
    "plt.plot(xfront)\n",
    "plt.plot(2 * np.sqrt(D * (r_b - r_d)) * np.arange(tmax) + 1)\n",
    "plt.plot(np.arange(tmax)[::skip], evo_dist + 1)\n",
    "plt.show()\n",
    "# x = np.arange(tmax+1)[::skip] / 4\n",
    "# plt.plot(x, lgca.dens_t.mean(-1)[::skip])\n",
    "# plt.plot(x, lgca.dens_t[::skip])"
   ]
  },
  {
   "cell_type": "markdown",
   "metadata": {},
   "source": [
    "The tumor grows faster than the average proliferation rate would suggest. This is because the fastest-growing cells are located at the front. How to predict this?"
   ]
  },
  {
   "cell_type": "code",
   "execution_count": 105,
   "metadata": {},
   "outputs": [],
   "source": [
    "lgca.plot_density(density=lgca.dens_t[-1])"
   ]
  },
  {
   "cell_type": "code",
   "execution_count": 104,
   "metadata": {},
   "outputs": [],
   "source": [
    "%matplotlib notebook"
   ]
  },
  {
   "cell_type": "code",
   "execution_count": 106,
   "metadata": {
    "ExecuteTime": {
     "end_time": "2023-08-01T12:33:56.520297900Z",
     "start_time": "2023-08-01T12:03:01.933225100Z"
    }
   },
   "outputs": [],
   "source": [
    "lgca.plot_prop_timecourse(nodes_t=lgca.nodes_t[::skip])"
   ]
  },
  {
   "cell_type": "code",
   "execution_count": 107,
   "metadata": {
    "ExecuteTime": {
     "end_time": "2023-08-01T12:35:05.638628200Z",
     "start_time": "2023-08-01T12:33:56.520297900Z"
    }
   },
   "outputs": [],
   "source": [
    "lgca.plot_prop_spatial()"
   ]
  },
  {
   "cell_type": "code",
   "execution_count": 11,
   "metadata": {
    "ExecuteTime": {
     "end_time": "2023-08-01T12:35:05.642190100Z",
     "start_time": "2023-08-01T12:35:05.634223700Z"
    }
   },
   "outputs": [],
   "source": [
    "method = 'RK45'"
   ]
  },
  {
   "cell_type": "code",
   "execution_count": 22,
   "metadata": {},
   "outputs": [],
   "source": [
    "y0 = np.zeros((nx, na))\n",
    "y0[0, np.argmin(np.abs(alpha - r_b))] = dens0 / da\n",
    "solspatial = solve_ivp(dydt_spatial, (0, tmax), y0.flatten(), t_eval=ts, args=(alpha, dx, r_d, p_mut, mean_mut_effect, var, K, D), method=method)\n",
    "print(solspatial.message)"
   ]
  },
  {
   "cell_type": "markdown",
   "metadata": {},
   "source": [
    "### Definitions of observables:\n",
    "$$\\rho(\\alpha, t) = \\int_L \\psi(x, \\alpha, t) dx$$\n",
    "$$\\Psi (x, t) = \\int_A \\psi(x, \\alpha, t) d\\alpha$$\n",
    "$$\\langle \\alpha \\rangle (x, t) = \\frac{\\int_A \\alpha \\psi(x, \\alpha, t) d\\alpha}{\\int_A \\psi(x, \\alpha, t) d\\alpha}$$\n"
   ]
  },
  {
   "cell_type": "code",
   "execution_count": 23,
   "metadata": {},
   "outputs": [],
   "source": [
    "y = solspatial.y.reshape((nx, na, len(solspatial.t)))\n",
    "rhotot = np.trapz(y, dx=da, axis=1)  # total cell density at each point x\n",
    "meanalpha = np.divide(np.trapz(alpha[None, ..., None] * y, dx=da, axis=1), rhotot, where=rhotot>1e-6, out=np.zeros_like(rhotot))  # mean alpha at each point x\n",
    "rhoalpha = np.trapz(y, dx=dx, axis=0) / np.trapz(rhotot, dx=dx, axis=0)  # alpha distribution at each time t\n",
    "meanalphatot = np.trapz(np.trapz(alpha[None, ..., None] * y, dx=da, axis=1), dx=dx, axis=0) / np.trapz(rhotot, dx=dx, axis=0)  # mean alpha at each time t"
   ]
  },
  {
   "cell_type": "code",
   "execution_count": 24,
   "metadata": {},
   "outputs": [],
   "source": [
    "for t in tshow:\n",
    "    pl = plt.plot(alpha, rhoalpha[:, t], label='t = {:n}'.format(ts[t]))\n",
    "#     plt.plot(alpha, sol2.y[:, t], '--', c=pl[0].get_color())\n",
    "#     plt.plot(alpha, sol3.y[:, t], '-.', c=pl[0].get_color())\n",
    "\n",
    "#plt.plot(alpha, sol[-1], label='t = {:n}'.format(ts[-1]))\n",
    "plt.xlabel('$\\\\alpha$')\n",
    "plt.ylabel('$\\\\rho(\\\\alpha)$')\n",
    "plt.ylim(0)\n",
    "plt.legend()"
   ]
  },
  {
   "cell_type": "code",
   "execution_count": 25,
   "metadata": {},
   "outputs": [],
   "source": [
    "for t in tshow:\n",
    "    plt.plot(x, rhotot[..., t], label='$t = {:n}$'.format(ts[t]))\n",
    "\n",
    "plt.legend()\n",
    "plt.xlabel('$x$')\n",
    "plt.ylabel('$\\Psi (x)$')"
   ]
  },
  {
   "cell_type": "code",
   "execution_count": null,
   "metadata": {},
   "outputs": [],
   "source": [
    "for t in tshow:\n",
    "    plt.plot(x, meanalpha[..., t], label='$t = {:n}$'.format(ts[t]))\n",
    "\n",
    "plt.legend()\n",
    "plt.xlabel('$x$')\n",
    "plt.ylabel('$\\\\langle\\\\alpha\\\\rangle (x, t)$')"
   ]
  },
  {
   "cell_type": "code",
   "execution_count": null,
   "metadata": {},
   "outputs": [],
   "source": [
    "plt.plot(ts, meanalphatot)\n",
    "plt.xlabel('$t$')\n",
    "plt.ylabel('$\\\\langle\\\\alpha\\\\rangle(t)$')"
   ]
  },
  {
   "cell_type": "code",
   "execution_count": null,
   "metadata": {},
   "outputs": [],
   "source": [
    "def meanalphaana(t, alpha0, p_m, var):\n",
    "    return alpha0 * np.cosh(np.sqrt(p_m * var) * t)"
   ]
  },
  {
   "cell_type": "code",
   "execution_count": null,
   "metadata": {},
   "outputs": [],
   "source": [
    "rb_ana = meanalphaana(ts, r_b, p_m, var)"
   ]
  },
  {
   "cell_type": "code",
   "execution_count": null,
   "metadata": {},
   "outputs": [],
   "source": [
    "meanalphafront = [meanalpha[np.argmax(rhotot[:, t], axis=0), t] for t in range(len(ts))]"
   ]
  },
  {
   "cell_type": "code",
   "execution_count": null,
   "metadata": {},
   "outputs": [],
   "source": [
    "plt.plot(ts, meanalphatot, label='PDE tot')\n",
    "plt.plot(ts, meanalphafront, label='wave front PDE')\n",
    "plt.plot(ts, rb_ana, label='analytical')\n",
    "plt.ylabel('$\\\\langle\\\\alpha\\\\rangle$')\n",
    "plt.xlabel('$t$')\n",
    "plt.legend()"
   ]
  },
  {
   "cell_type": "code",
   "execution_count": null,
   "metadata": {},
   "outputs": [],
   "source": [
    "# next: compare to cosh prediction, calc wave speed, compare wavespeed to lgca wavespeed over time!\n",
    "# calculating the wave speed directly from data is very noisy. Strategy: interpolate the function, define a wave front, find the position of the wavefront\n",
    "from scipy.interpolate import interp1d\n",
    "from scipy.optimize import fsolve, root"
   ]
  },
  {
   "cell_type": "code",
   "execution_count": null,
   "metadata": {},
   "outputs": [],
   "source": [
    "x.shape, rhotot.shape"
   ]
  },
  {
   "cell_type": "code",
   "execution_count": null,
   "metadata": {},
   "outputs": [],
   "source": [
    "rhointerp = [interp1d(x, rhotot[:,t]-.5, fill_value='extrapolate') for t in range(tmax)]\n",
    "# wavefront = [fsolve(rhoi, xmax/2) for rhoi in rhointerp]\n",
    "# wavefront = fsolve(rhointerp, xmax/2)\n",
    "frontindx = np.argmax(rhotot, axis=0)\n",
    "# wavefront = x[np.argmin(np.gradient(rhotot, dx, axis=0), axis=0)]\n",
    "wavefront = x[frontindx]\n",
    "\n",
    "speed = np.gradient(wavefront, dt)\n",
    "wavefront"
   ]
  },
  {
   "cell_type": "code",
   "execution_count": null,
   "metadata": {},
   "outputs": [],
   "source": [
    "plt.plot(ts, speed)\n",
    "plt.plot(ts, 2 * np.sqrt(D * rb_ana))"
   ]
  },
  {
   "cell_type": "code",
   "execution_count": null,
   "metadata": {},
   "outputs": [],
   "source": [
    "for t in np.linspace(0, len(ts), 5, dtype=int, endpoint=False):\n",
    "    p = plt.plot(x, rhotot[..., t], lw=0, marker='x', label='$t = {:n}$'.format(ts[t]))\n",
    "    plt.plot([wavefront[t], wavefront[t]], [0, 1], '--', color=p[0].get_color())\n",
    "\n",
    "plt.legend()\n",
    "plt.xlabel('$x$')\n",
    "plt.ylabel('$\\Psi (x)$')"
   ]
  },
  {
   "cell_type": "code",
   "execution_count": null,
   "metadata": {},
   "outputs": [],
   "source": [
    "for t in np.linspace(0, len(ts), 5, dtype=int, endpoint=False):\n",
    "    pl = plt.plot(alpha, rhoalpha[:, t], label='t = {:n}'.format(ts[t]))\n",
    "    plt.plot(alpha, y[frontindx[t], :, t], '--', color=pl[0].get_color())\n",
    "\n",
    "#plt.plot(alpha, sol[-1], label='t = {:n}'.format(ts[-1]))\n",
    "plt.xlabel('$\\\\alpha$')\n",
    "plt.ylabel('$\\\\rho(\\\\alpha)$')\n",
    "plt.ylim(0)\n",
    "plt.legend()\n",
    "#plt.savefig('rho_alpha.png', dpi=600)"
   ]
  },
  {
   "cell_type": "code",
   "execution_count": null,
   "metadata": {},
   "outputs": [],
   "source": [
    "# D = b / K = 2 / K -> K = 2 / D\n",
    "nodes = np.zeros((xmax, 3), dtype=bool)\n",
    "nodes[0, ...] = round(dens0 / 3 * K)\n",
    "lgca2 = get_lgca(ib=True, nodes=nodes, bc='reflect', interaction='birthdeath', std=sqrt(var), ve=0, capacity=K,\n",
    "                r_d=r_d, r_b=r_b, a_max=a_max, geometry='1d', dims=1000, restchannels=1)\n",
    "lgca2.timeevo(timesteps=tmax, record=True)"
   ]
  },
  {
   "cell_type": "code",
   "execution_count": null,
   "metadata": {},
   "outputs": [],
   "source": [
    "lgca2.plot_density()"
   ]
  },
  {
   "cell_type": "code",
   "execution_count": null,
   "metadata": {},
   "outputs": [],
   "source": [
    "lgca2.nodes_t.shape"
   ]
  },
  {
   "cell_type": "code",
   "execution_count": null,
   "metadata": {},
   "outputs": [],
   "source": [
    "for t in np.linspace(0, len(ts), 5, dtype=int, endpoint=False):\n",
    "    pl = plt.plot(alpha, rhoalpha[:, t], label='t = {:n}'.format(ts[t]))\n",
    "    bins = round(np.ceil(np.log2(lgca2.dens_t[t].sum()))+1)\n",
    "# plt.hist(np.array(lgca.props['r_b'])[lgca.nodes[lgca.nodes > 0]], bins=bins, density=True, label='LGCA')\n",
    "    # plt.hist(lgca2.get_prop(nodes=lgca2.nodes_t[t][lgca2.nodes_t[t] > 0]), bins=bins, density=True, color=pl[0].get_color())\n",
    "    plt.hist(lgca2.get_prop(nodes=lgca2.nodes_t[t]), bins=bins, density=True, color=pl[0].get_color())\n",
    "\n",
    "#     plt.plot(alpha, sol2.y[:, t], '--', c=pl[0].get_color())\n",
    "#     plt.plot(alpha, sol3.y[:, t], '-.', c=pl[0].get_color())\n",
    "\n",
    "#plt.plot(alpha, sol[-1], label='t = {:n}'.format(ts[-1]))\n",
    "plt.xlabel('$\\\\alpha$')\n",
    "plt.ylabel('$\\\\rho(\\\\alpha)$')\n",
    "plt.ylim(0)\n",
    "plt.xlim(0)\n",
    "plt.legend()"
   ]
  },
  {
   "cell_type": "code",
   "execution_count": null,
   "metadata": {},
   "outputs": [],
   "source": [
    "meanalphalgca = np.empty_like(meanalphatot)\n",
    "for t in range(tmax+1):\n",
    "    nodes = lgca2.nodes_t[t]\n",
    "    # meanalphalgca[t] = np.mean(lgca2.get_prop(nodes[nodes>0]))\n",
    "    meanalphalgca[t] = np.mean(lgca2.get_prop(nodes))"
   ]
  },
  {
   "cell_type": "code",
   "execution_count": null,
   "metadata": {},
   "outputs": [],
   "source": [
    "lgca2.dens_t.shape"
   ]
  },
  {
   "cell_type": "code",
   "execution_count": null,
   "metadata": {},
   "outputs": [],
   "source": [
    "meanalphalgca# = meanalphalgca[..., 0]"
   ]
  },
  {
   "cell_type": "code",
   "execution_count": null,
   "metadata": {},
   "outputs": [],
   "source": [
    "plt.plot(ts, meanalphatot, label='PDE tot')\n",
    "plt.plot(ts, rb_ana, label='analytical')\n",
    "plt.plot(meanalphalgca, label='LGCA')\n",
    "plt.plot(ts, meanalphafront, label='wave front PDE')\n",
    "# lgca2.plot_prop_timecourse(label='LGCA')\n",
    "plt.ylabel('$\\\\langle\\\\alpha\\\\rangle$')\n",
    "plt.xlabel('$t$')\n",
    "plt.legend()"
   ]
  },
  {
   "cell_type": "code",
   "execution_count": null,
   "metadata": {},
   "outputs": [],
   "source": [
    "lgca2.dens_t.shape"
   ]
  },
  {
   "cell_type": "code",
   "execution_count": null,
   "metadata": {},
   "outputs": [],
   "source": [
    "ts"
   ]
  },
  {
   "cell_type": "code",
   "execution_count": null,
   "metadata": {},
   "outputs": [],
   "source": [
    "for t in np.linspace(0, len(ts), 5, dtype=int, endpoint=False):\n",
    "    p = plt.plot(x, rhotot[..., t], label='$t = {:n}$'.format(ts[t]))\n",
    "    # plt.plot([wavefront[t], wavefront[t]], [0, 1], '-.', color=p[0].get_color())\n",
    "    plt.plot(range(xmax), lgca2.dens_t[t]/lgca2.K, '-.', color=p[0].get_color())\n",
    "\n",
    "plt.legend()\n",
    "plt.xlabel('$x$')\n",
    "plt.ylabel('$\\Psi (x)$')\n",
    "plt.xlim(0, 300)"
   ]
  },
  {
   "cell_type": "code",
   "execution_count": null,
   "metadata": {},
   "outputs": [],
   "source": [
    "for t in np.linspace(0, len(ts), 5, dtype=int, endpoint=False):\n",
    "    plt.plot(x, meanalpha[..., t], label='$t = {:n}$'.format(ts[t]))\n",
    "\n",
    "plt.legend()\n",
    "plt.xlabel('$x$')\n",
    "plt.ylabel('$\\\\langle\\\\alpha\\\\rangle (x)$')"
   ]
  }
 ],
 "metadata": {
  "kernelspec": {
   "display_name": "Python 3 (ipykernel)",
   "language": "python",
   "name": "python3"
  },
  "language_info": {
   "codemirror_mode": {
    "name": "ipython",
    "version": 3
   },
   "file_extension": ".py",
   "mimetype": "text/x-python",
   "name": "python",
   "nbconvert_exporter": "python",
   "pygments_lexer": "ipython3",
   "version": "3.11.4"
  }
 },
 "nbformat": 4,
 "nbformat_minor": 1
}
