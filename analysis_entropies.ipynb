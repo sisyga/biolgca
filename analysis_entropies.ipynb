{
 "cells": [
  {
   "cell_type": "code",
   "execution_count": 1,
   "metadata": {},
   "outputs": [],
   "source": [
    "from lgca import get_lgca\n",
    "from lgca.helpers import *\n",
    "from lgca.analysis import *\n",
    "import numpy as np\n",
    "import matplotlib.pyplot as plt"
   ]
  },
  {
   "cell_type": "code",
   "execution_count": 2,
   "metadata": {},
   "outputs": [],
   "source": [
    "# TODO: warum so gleich?\n",
    "\n",
    "#namen:\n",
    "variation01 = '1801'\n",
    "filename01 = '21fb7db'\n",
    "path01 = 'saved_data/pummelzeugs_1/'\n",
    "\n",
    "variation60 = '18060'\n",
    "filename60 = '6e8510d'\n",
    "path60 = 'saved_data/pummelzeugs_60/'\n",
    "\n",
    "rep = 500\n",
    "save = False\n",
    "\n",
    "#thom einlesen\n",
    "# thom01 = np.load(path01 + variation01 + '_thom.npy')\n",
    "# thom60 = np.load(path60 + variation60 + '_thom.npy')\n",
    "\n",
    "\n"
   ]
  },
  {
   "cell_type": "code",
   "execution_count": null,
   "metadata": {},
   "outputs": [],
   "source": [
    "# create_averaged_entropies(filename='', variation='Testdaten', path='saved_data/', rep=3, save=True, plot=True, saveplot=True)\n",
    "#1801\n",
    "create_averaged_entropies(filename=filename01, variation=variation01, path=path01, rep=rep, plot=True, saveplot=True)\n",
    "\n",
    "#18060\n",
    "create_averaged_entropies(filename=filename60, variation=variation60, path=path60, rep=rep, plot=True, saveplot=True)\n"
   ]
  },
  {
   "cell_type": "code",
   "execution_count": null,
   "metadata": {},
   "outputs": [],
   "source": []
  },
  {
   "cell_type": "code",
   "execution_count": null,
   "metadata": {},
   "outputs": [],
   "source": []
  },
  {
   "cell_type": "code",
   "execution_count": null,
   "metadata": {},
   "outputs": [],
   "source": []
  },
  {
   "cell_type": "code",
   "execution_count": null,
   "metadata": {},
   "outputs": [],
   "source": []
  },
  {
   "cell_type": "code",
   "execution_count": null,
   "metadata": {},
   "outputs": [],
   "source": []
  }
 ],
 "metadata": {
  "kernelspec": {
   "display_name": "Python 3",
   "language": "python",
   "name": "python3"
  },
  "language_info": {
   "codemirror_mode": {
    "name": "ipython",
    "version": 3
   },
   "file_extension": ".py",
   "mimetype": "text/x-python",
   "name": "python",
   "nbconvert_exporter": "python",
   "pygments_lexer": "ipython3",
   "version": "3.7.1"
  }
 },
 "nbformat": 4,
 "nbformat_minor": 2
}
