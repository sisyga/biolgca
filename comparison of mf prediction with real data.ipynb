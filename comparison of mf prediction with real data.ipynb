{
 "cells": [
  {
   "cell_type": "code",
   "execution_count": 1,
   "id": "reliable-fence",
   "metadata": {},
   "outputs": [],
   "source": [
    "import numpy as np\n",
    "import matplotlib.pyplot as plt\n",
    "from lgca import get_lgca\n",
    "from scipy.integrate import odeint, solve_ivp\n",
    "from scipy.ndimage.filters import laplace\n",
    "from scipy.special import erf\n",
    "from scipy.optimize import curve_fit\n",
    "from math import sqrt\n",
    "import pandas as pd\n",
    "import seaborn as sns\n",
    "from itertools import cycle"
   ]
  },
  {
   "cell_type": "code",
   "execution_count": 2,
   "id": "arranged-requirement",
   "metadata": {},
   "outputs": [],
   "source": [
    "df = pd.read_excel('elife-63910-supp1-v2.xlsx', sheet_name='Fitness_Data')"
   ]
  },
  {
   "cell_type": "code",
   "execution_count": 3,
   "id": "southeast-conditioning",
   "metadata": {},
   "outputs": [],
   "source": [
    "generations = [70, 550, 1410, 2640, 3630, 5150, 7530, 10150]\n",
    "generations_c = cycle(generations)"
   ]
  },
  {
   "cell_type": "code",
   "execution_count": 4,
   "id": "confidential-three",
   "metadata": {},
   "outputs": [],
   "source": [
    "df2 = pd.concat([df]*len(generations), ignore_index=True)"
   ]
  },
  {
   "cell_type": "code",
   "execution_count": 5,
   "id": "humanitarian-feedback",
   "metadata": {},
   "outputs": [],
   "source": [
    "df2['generation'] = [next(generations_c) for _ in range(len(df2))]"
   ]
  },
  {
   "cell_type": "code",
   "execution_count": 6,
   "id": "second-voluntary",
   "metadata": {},
   "outputs": [],
   "source": [
    "for p in df.platewell:\n",
    "    for g in generations:\n",
    "        df2.loc[(df2.platewell == p) & (df2.generation == g), 'fitness'] = df.loc[df.platewell == p]['Gen'+str(g)+'_s']"
   ]
  },
  {
   "cell_type": "code",
   "execution_count": 7,
   "id": "d8c04ec8-695b-47c8-a1d7-94359ca5641f",
   "metadata": {},
   "outputs": [],
   "source": [
    "gen_fixer = {70: {'P1': 70, 'P2': 70, 'P3': 56, 'P4': 70},\n",
    "             550: {'P1': 560, 'P2': 560, 'P3': 448, 'P4': 560},\n",
    "             1410: {'P1': 1410, 'P2': 1410, 'P3': 1128, 'P4': 1410},\n",
    "             2640: {'P1': 2640, 'P2': 2640, 'P3': 2106, 'P4': 2640},\n",
    "             3630: {'P1': 3660, 'P2': 3660, 'P3': 2922, 'P4': 3660},\n",
    "             5150: {'P1': 5170, 'P2': 5170, 'P3': 4130, 'P4': 5170},\n",
    "             7530: {'P1': 7550, 'P2': 7560, 'P3': 6042, 'P4': 7560},\n",
    "             10150: {'P1': 10190, 'P2': 10200, 'P3': 8098, 'P4': 10200}}"
   ]
  },
  {
   "cell_type": "code",
   "execution_count": 8,
   "id": "ff4a3994-d0a6-4804-8d39-bfcabf6001be",
   "metadata": {},
   "outputs": [],
   "source": [
    "for p in ['P{}'.format(i) for i in range(1, 5)]:\n",
    "    df2.loc[df2.Plate == p, 'true_generation'] = df2.loc[df2.Plate == p, 'generation'].apply(lambda x: gen_fixer[x][p])"
   ]
  },
  {
   "cell_type": "code",
   "execution_count": 9,
   "id": "8084e139-bedf-4078-b85a-0474ec56bb42",
   "metadata": {},
   "outputs": [
    {
     "data": {
      "text/html": [
       "<div>\n",
       "<style scoped>\n",
       "    .dataframe tbody tr th:only-of-type {\n",
       "        vertical-align: middle;\n",
       "    }\n",
       "\n",
       "    .dataframe tbody tr th {\n",
       "        vertical-align: top;\n",
       "    }\n",
       "\n",
       "    .dataframe thead th {\n",
       "        text-align: right;\n",
       "    }\n",
       "</style>\n",
       "<table border=\"1\" class=\"dataframe\">\n",
       "  <thead>\n",
       "    <tr style=\"text-align: right;\">\n",
       "      <th></th>\n",
       "      <th>platewell</th>\n",
       "      <th>Plate</th>\n",
       "      <th>Well</th>\n",
       "      <th>Gen70_s_R1</th>\n",
       "      <th>Gen70_s_R2</th>\n",
       "      <th>Gen70_s</th>\n",
       "      <th>Gen70_s_scaled</th>\n",
       "      <th>Gen550_s_R1</th>\n",
       "      <th>Gen550_s_R2</th>\n",
       "      <th>Gen550_s</th>\n",
       "      <th>...</th>\n",
       "      <th>Gen7530_s_R2</th>\n",
       "      <th>Gen7530_s</th>\n",
       "      <th>Gen7530_s_scaled</th>\n",
       "      <th>Gen10150_s_R1</th>\n",
       "      <th>Gen10150_s_R2</th>\n",
       "      <th>Gen10150_s</th>\n",
       "      <th>Gen10150_s_scaled</th>\n",
       "      <th>generation</th>\n",
       "      <th>fitness</th>\n",
       "      <th>true_generation</th>\n",
       "    </tr>\n",
       "  </thead>\n",
       "  <tbody>\n",
       "    <tr>\n",
       "      <th>0</th>\n",
       "      <td>P1A01</td>\n",
       "      <td>P1</td>\n",
       "      <td>A01</td>\n",
       "      <td>NaN</td>\n",
       "      <td>NaN</td>\n",
       "      <td>NaN</td>\n",
       "      <td>NaN</td>\n",
       "      <td>NaN</td>\n",
       "      <td>NaN</td>\n",
       "      <td>NaN</td>\n",
       "      <td>...</td>\n",
       "      <td>NaN</td>\n",
       "      <td>NaN</td>\n",
       "      <td>NaN</td>\n",
       "      <td>NaN</td>\n",
       "      <td>NaN</td>\n",
       "      <td>NaN</td>\n",
       "      <td>NaN</td>\n",
       "      <td>70</td>\n",
       "      <td>NaN</td>\n",
       "      <td>70.0</td>\n",
       "    </tr>\n",
       "    <tr>\n",
       "      <th>1</th>\n",
       "      <td>P1A02</td>\n",
       "      <td>P1</td>\n",
       "      <td>A02</td>\n",
       "      <td>-0.075306</td>\n",
       "      <td>-0.062071</td>\n",
       "      <td>-0.068689</td>\n",
       "      <td>-0.072925</td>\n",
       "      <td>-0.063589</td>\n",
       "      <td>-0.055622</td>\n",
       "      <td>-0.059606</td>\n",
       "      <td>...</td>\n",
       "      <td>NaN</td>\n",
       "      <td>NaN</td>\n",
       "      <td>NaN</td>\n",
       "      <td>NaN</td>\n",
       "      <td>NaN</td>\n",
       "      <td>NaN</td>\n",
       "      <td>NaN</td>\n",
       "      <td>550</td>\n",
       "      <td>-0.059606</td>\n",
       "      <td>560.0</td>\n",
       "    </tr>\n",
       "    <tr>\n",
       "      <th>2</th>\n",
       "      <td>P1A03</td>\n",
       "      <td>P1</td>\n",
       "      <td>A03</td>\n",
       "      <td>-0.077027</td>\n",
       "      <td>-0.076459</td>\n",
       "      <td>-0.076743</td>\n",
       "      <td>-0.080979</td>\n",
       "      <td>-0.046321</td>\n",
       "      <td>-0.042535</td>\n",
       "      <td>-0.044428</td>\n",
       "      <td>...</td>\n",
       "      <td>0.012947</td>\n",
       "      <td>0.010603</td>\n",
       "      <td>0.006367</td>\n",
       "      <td>0.014491</td>\n",
       "      <td>0.011513</td>\n",
       "      <td>0.013002</td>\n",
       "      <td>0.005710</td>\n",
       "      <td>1410</td>\n",
       "      <td>-0.024356</td>\n",
       "      <td>1410.0</td>\n",
       "    </tr>\n",
       "    <tr>\n",
       "      <th>3</th>\n",
       "      <td>P1A04</td>\n",
       "      <td>P1</td>\n",
       "      <td>A04</td>\n",
       "      <td>-0.071582</td>\n",
       "      <td>-0.080952</td>\n",
       "      <td>-0.076267</td>\n",
       "      <td>-0.080503</td>\n",
       "      <td>-0.052351</td>\n",
       "      <td>-0.056217</td>\n",
       "      <td>-0.054284</td>\n",
       "      <td>...</td>\n",
       "      <td>0.048179</td>\n",
       "      <td>0.049347</td>\n",
       "      <td>0.045111</td>\n",
       "      <td>0.032640</td>\n",
       "      <td>0.032965</td>\n",
       "      <td>0.032803</td>\n",
       "      <td>0.025511</td>\n",
       "      <td>2640</td>\n",
       "      <td>-0.002444</td>\n",
       "      <td>2640.0</td>\n",
       "    </tr>\n",
       "    <tr>\n",
       "      <th>4</th>\n",
       "      <td>P1A05</td>\n",
       "      <td>P1</td>\n",
       "      <td>A05</td>\n",
       "      <td>-0.083521</td>\n",
       "      <td>-0.075293</td>\n",
       "      <td>-0.079407</td>\n",
       "      <td>-0.083643</td>\n",
       "      <td>-0.042366</td>\n",
       "      <td>-0.038459</td>\n",
       "      <td>-0.040412</td>\n",
       "      <td>...</td>\n",
       "      <td>0.027544</td>\n",
       "      <td>0.027449</td>\n",
       "      <td>0.023213</td>\n",
       "      <td>0.032051</td>\n",
       "      <td>0.021394</td>\n",
       "      <td>0.026722</td>\n",
       "      <td>0.019430</td>\n",
       "      <td>3630</td>\n",
       "      <td>0.007021</td>\n",
       "      <td>3660.0</td>\n",
       "    </tr>\n",
       "  </tbody>\n",
       "</table>\n",
       "<p>5 rows × 38 columns</p>\n",
       "</div>"
      ],
      "text/plain": [
       "  platewell Plate Well  Gen70_s_R1  Gen70_s_R2   Gen70_s  Gen70_s_scaled  \\\n",
       "0     P1A01    P1  A01         NaN         NaN       NaN             NaN   \n",
       "1     P1A02    P1  A02   -0.075306   -0.062071 -0.068689       -0.072925   \n",
       "2     P1A03    P1  A03   -0.077027   -0.076459 -0.076743       -0.080979   \n",
       "3     P1A04    P1  A04   -0.071582   -0.080952 -0.076267       -0.080503   \n",
       "4     P1A05    P1  A05   -0.083521   -0.075293 -0.079407       -0.083643   \n",
       "\n",
       "   Gen550_s_R1  Gen550_s_R2  Gen550_s  ...  Gen7530_s_R2  Gen7530_s  \\\n",
       "0          NaN          NaN       NaN  ...           NaN        NaN   \n",
       "1    -0.063589    -0.055622 -0.059606  ...           NaN        NaN   \n",
       "2    -0.046321    -0.042535 -0.044428  ...      0.012947   0.010603   \n",
       "3    -0.052351    -0.056217 -0.054284  ...      0.048179   0.049347   \n",
       "4    -0.042366    -0.038459 -0.040412  ...      0.027544   0.027449   \n",
       "\n",
       "   Gen7530_s_scaled  Gen10150_s_R1  Gen10150_s_R2  Gen10150_s  \\\n",
       "0               NaN            NaN            NaN         NaN   \n",
       "1               NaN            NaN            NaN         NaN   \n",
       "2          0.006367       0.014491       0.011513    0.013002   \n",
       "3          0.045111       0.032640       0.032965    0.032803   \n",
       "4          0.023213       0.032051       0.021394    0.026722   \n",
       "\n",
       "   Gen10150_s_scaled  generation   fitness  true_generation  \n",
       "0                NaN          70       NaN             70.0  \n",
       "1                NaN         550 -0.059606            560.0  \n",
       "2           0.005710        1410 -0.024356           1410.0  \n",
       "3           0.025511        2640 -0.002444           2640.0  \n",
       "4           0.019430        3630  0.007021           3660.0  \n",
       "\n",
       "[5 rows x 38 columns]"
      ]
     },
     "execution_count": 9,
     "metadata": {},
     "output_type": "execute_result"
    }
   ],
   "source": [
    "df2.head()"
   ]
  },
  {
   "cell_type": "code",
   "execution_count": 10,
   "id": "intellectual-franchise",
   "metadata": {},
   "outputs": [
    {
     "data": {
      "text/plain": [
       "<AxesSubplot:xlabel='true_generation', ylabel='fitness'>"
      ]
     },
     "execution_count": 10,
     "metadata": {},
     "output_type": "execute_result"
    },
    {
     "data": {
      "image/png": "[encoded data removed]",
      "text/plain": [
       "<Figure size 432x288 with 1 Axes>"
      ]
     },
     "metadata": {
      "needs_background": "light"
     },
     "output_type": "display_data"
    }
   ],
   "source": [
    "sns.lineplot(data=df2.dropna(), x='true_generation', y='fitness', hue='Plate')"
   ]
  },
  {
   "cell_type": "code",
   "execution_count": 11,
   "id": "9cafcb36-6a7c-4de4-9db4-755bfe8f7b82",
   "metadata": {},
   "outputs": [],
   "source": [
    "ydata = df2.loc[df2.Plate == 'P2'].groupby('true_generation').fitness.mean()"
   ]
  },
  {
   "cell_type": "code",
   "execution_count": 12,
   "id": "50017c98-3463-47b6-8ae7-f03a2f739e9d",
   "metadata": {},
   "outputs": [
    {
     "data": {
      "text/plain": [
       "true_generation\n",
       "70.0      -0.073846\n",
       "560.0     -0.042730\n",
       "1410.0    -0.027784\n",
       "2640.0    -0.035495\n",
       "3660.0     0.006433\n",
       "5170.0    -0.001623\n",
       "7560.0     0.031959\n",
       "10200.0    0.048755\n",
       "Name: fitness, dtype: float64"
      ]
     },
     "execution_count": 12,
     "metadata": {},
     "output_type": "execute_result"
    }
   ],
   "source": [
    "ydata"
   ]
  },
  {
   "cell_type": "markdown",
   "id": "latter-badge",
   "metadata": {},
   "source": [
    "Next: compare with theoretical predictions!"
   ]
  },
  {
   "cell_type": "code",
   "execution_count": null,
   "id": "37e1d91d-63ac-4840-9467-2f1b7bc58111",
   "metadata": {},
   "outputs": [],
   "source": []
  }
 ],
 "metadata": {
  "kernelspec": {
   "display_name": "Python 3 (ipykernel)",
   "language": "python",
   "name": "python3"
  },
  "language_info": {
   "codemirror_mode": {
    "name": "ipython",
    "version": 3
   },
   "file_extension": ".py",
   "mimetype": "text/x-python",
   "name": "python",
   "nbconvert_exporter": "python",
   "pygments_lexer": "ipython3",
   "version": "3.8.12"
  }
 },
 "nbformat": 4,
 "nbformat_minor": 5
}
