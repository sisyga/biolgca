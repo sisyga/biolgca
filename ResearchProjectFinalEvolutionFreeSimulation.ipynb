{
 "cells": [
  {
   "cell_type": "markdown",
   "metadata": {
    "toc": true
   },
   "source": [
    "<h1>Table of Contents<span class=\"tocSkip\"></span></h1>\n",
    "<div class=\"toc\"><ul class=\"toc-item\"></ul></div>"
   ]
  },
  {
   "cell_type": "markdown",
   "metadata": {},
   "source": [
    "This notebook is used to simulate single genotypes in absence of evolution. \n",
    "The files saved are \n",
    "1. For each genotype, the density plots of all channels, rest channels and velocity channels is saved. Also, a text file with the simulation paratemers is also saved. Each run is saved in a unique folder with an ID \"10xxx\". where the string \"xxx\" is replaced with a corresping integer starting from 001\n",
    "2. Also, the set of kappa and theta values used for simulations are saved in a file called evolution_free_kappas.csv and evolution_free_thetas.csv. The values are ordered according to the index of the folder 10xxx.\n",
    "3. Further, the final cell number for cells occupying all channels, rest channels and velocity channels are saved for each genotype in the files, final_cell_number.csv, final_rest_cell_number.csv, and final_vel_cell_number.csv"
   ]
  },
  {
   "cell_type": "code",
   "execution_count": 1,
   "metadata": {
    "ExecuteTime": {
     "end_time": "2020-11-06T05:50:10.187821Z",
     "start_time": "2020-11-06T05:50:05.433959Z"
    }
   },
   "outputs": [],
   "source": [
    "#initializer-cell1\n",
    "import numpy as np\n",
    "import matplotlib.pyplot as plt\n",
    "import pandas as pd\n",
    "from lgca import get_lgca\n",
    "import os"
   ]
  },
  {
   "cell_type": "code",
   "execution_count": 2,
   "metadata": {
    "ExecuteTime": {
     "end_time": "2020-11-06T05:50:10.232715Z",
     "start_time": "2020-11-06T05:50:10.192792Z"
    }
   },
   "outputs": [],
   "source": [
    "l = 200\n",
    "rest_channels = 2\n",
    "n_channels = rest_channels + 2\n",
    "tmax = 500\n",
    "\n",
    "nodesFull = 10\n",
    "\n",
    "nodes = 1 + np.arange(n_channels*l, dtype=np.uint).reshape((l, n_channels))\n",
    "nodes[nodesFull:,:] = 0\n"
   ]
  },
  {
   "cell_type": "code",
   "execution_count": 3,
   "metadata": {
    "ExecuteTime": {
     "end_time": "2020-11-06T05:50:10.360165Z",
     "start_time": "2020-11-06T05:50:10.234893Z"
    }
   },
   "outputs": [],
   "source": [
    "total_runs = 41\n",
    "strIDList = 10001 + np.arange(total_runs)\n",
    "\n",
    "final_cell_number = np.zeros(total_runs)\n",
    "final_rest_cell_number = np.zeros(total_runs)\n",
    "final_vel_cell_number = np.zeros(total_runs)"
   ]
  },
  {
   "cell_type": "code",
   "execution_count": 4,
   "metadata": {
    "ExecuteTime": {
     "end_time": "2020-11-06T05:50:10.484674Z",
     "start_time": "2020-11-06T05:50:10.362206Z"
    }
   },
   "outputs": [],
   "source": [
    "kappas = np.linspace(-8,8,21) #41 kappa values\n",
    "thetas = np.linspace(0,1,21) #21 theta values\n",
    "kappa_all, theta_all = np.meshgrid(kappas, thetas)\n",
    "kappa_all = kappa_all.flatten()\n",
    "theta_all = theta_all.flatten()\n"
   ]
  },
  {
   "cell_type": "code",
   "execution_count": 5,
   "metadata": {
    "ExecuteTime": {
     "end_time": "2020-11-06T05:50:10.631089Z",
     "start_time": "2020-11-06T05:50:10.485874Z"
    }
   },
   "outputs": [],
   "source": [
    "def WritePropertyFinal(propArray, propertyName, l, tmax, n_channels, ini_kappa, ini_theta, InitialCondition='First Node Full'):\n",
    "    fileTitle = 'final' + propertyName + ('%.5f' % ini_kappa) + ('%.5f' % ini_theta) + '.csv'\n",
    "    fileHeader = header\n",
    "    a = np.savetxt(fileTitle, propArray, header=fileHeader, delimiter = ', ', fmt='%-7.9f')"
   ]
  },
  {
   "cell_type": "code",
   "execution_count": 6,
   "metadata": {
    "ExecuteTime": {
     "end_time": "2020-11-06T05:51:15.221099Z",
     "start_time": "2020-11-06T05:50:10.632421Z"
    }
   },
   "outputs": [
    {
     "name": "stdout",
     "output_type": "stream",
     "text": [
      "standard deviation set to =  0.01\n",
      "Progress: [####################] 100% Done...\n",
      "(501, 200)\n",
      "standard deviation set to =  0.01\n",
      "Progress: [####################] 100% Done...\n",
      "(501, 200)\n",
      "standard deviation set to =  0.01\n",
      "Progress: [####################] 100% Done...\n",
      "(501, 200)\n",
      "standard deviation set to =  0.01\n",
      "Progress: [####################] 100% Done...\n",
      "(501, 200)\n",
      "standard deviation set to =  0.01\n",
      "Progress: [####################] 100% Done...\n",
      "(501, 200)\n",
      "standard deviation set to =  0.01\n",
      "Progress: [####################] 100% Done...\n",
      "(501, 200)\n",
      "standard deviation set to =  0.01\n",
      "Progress: [####################] 100% Done...\n",
      "(501, 200)\n",
      "standard deviation set to =  0.01\n",
      "Progress: [####################] 100% Done...\n",
      "(501, 200)\n",
      "standard deviation set to =  0.01\n",
      "Progress: [####################] 100% Done...\n",
      "(501, 200)\n",
      "standard deviation set to =  0.01\n",
      "Progress: [####################] 100% Done...\n",
      "(501, 200)\n",
      "standard deviation set to =  0.01\n",
      "Progress: [####################] 100% Done...\n",
      "(501, 200)\n",
      "standard deviation set to =  0.01\n",
      "Progress: [####################] 100% Done...\n",
      "(501, 200)\n",
      "standard deviation set to =  0.01\n",
      "Progress: [####################] 100% Done...\n",
      "(501, 200)\n",
      "standard deviation set to =  0.01\n",
      "Progress: [####################] 100% Done...\n",
      "(501, 200)\n",
      "standard deviation set to =  0.01\n",
      "Progress: [####################] 100% Done...\n",
      "(501, 200)\n",
      "standard deviation set to =  0.01\n",
      "Progress: [####################] 100% Done...\n",
      "(501, 200)\n",
      "standard deviation set to =  0.01\n",
      "Progress: [####################] 100% Done...\n",
      "(501, 200)\n",
      "standard deviation set to =  0.01\n",
      "Progress: [####################] 100% Done...\n",
      "(501, 200)\n",
      "standard deviation set to =  0.01\n",
      "Progress: [####################] 100% Done...\n",
      "(501, 200)\n",
      "standard deviation set to =  0.01\n",
      "Progress: [####################] 100% Done...\n",
      "(501, 200)\n",
      "standard deviation set to =  0.01\n",
      "Progress: [####################] 100% Done...\n",
      "(501, 200)\n",
      "standard deviation set to =  0.01\n",
      "Progress: [####################] 100% Done...\n",
      "(501, 200)\n",
      "standard deviation set to =  0.01\n",
      "Progress: [####################] 100% Done...\n",
      "(501, 200)\n",
      "standard deviation set to =  0.01\n",
      "Progress: [####################] 100% Done...\n",
      "(501, 200)\n",
      "standard deviation set to =  0.01\n",
      "Progress: [####################] 100% Done...\n",
      "(501, 200)\n",
      "standard deviation set to =  0.01\n",
      "Progress: [####################] 100% Done...\n",
      "(501, 200)\n",
      "standard deviation set to =  0.01\n",
      "Progress: [####################] 100% Done...\n",
      "(501, 200)\n",
      "standard deviation set to =  0.01\n",
      "Progress: [####################] 100% Done...\n",
      "(501, 200)\n",
      "standard deviation set to =  0.01\n",
      "Progress: [####################] 100% Done...\n",
      "(501, 200)\n",
      "standard deviation set to =  0.01\n",
      "Progress: [####################] 100% Done...\n",
      "(501, 200)\n",
      "standard deviation set to =  0.01\n",
      "Progress: [####################] 100% Done...\n",
      "(501, 200)\n",
      "standard deviation set to =  0.01\n",
      "Progress: [####################] 100% Done...\n",
      "(501, 200)\n",
      "standard deviation set to =  0.01\n",
      "Progress: [####################] 100% Done...\n",
      "(501, 200)\n",
      "standard deviation set to =  0.01\n",
      "Progress: [####################] 100% Done...\n",
      "(501, 200)\n",
      "standard deviation set to =  0.01\n",
      "Progress: [####################] 100% Done...\n",
      "(501, 200)\n",
      "standard deviation set to =  0.01\n",
      "Progress: [####################] 100% Done...\n",
      "(501, 200)\n",
      "standard deviation set to =  0.01\n",
      "Progress: [####################] 100% Done...\n",
      "(501, 200)\n",
      "standard deviation set to =  0.01\n",
      "Progress: [####################] 100% Done...\n",
      "(501, 200)\n",
      "standard deviation set to =  0.01\n",
      "Progress: [####################] 100% Done...\n",
      "(501, 200)\n",
      "standard deviation set to =  0.01\n",
      "Progress: [####################] 100% Done...\n",
      "(501, 200)\n",
      "standard deviation set to =  0.01\n",
      "Progress: [####################] 100% Done...\n",
      "(501, 200)\n"
     ]
    }
   ],
   "source": [
    "for run in range(total_runs):\n",
    "    str1 = '1D Simulation with ' + str(l) + \" nodes, and \" + str(n_channels) + \" channels\" + \"********\"\n",
    "    str2 = 'Time: ' + str(tmax)+ \"********\"\n",
    "    str3 = 'Nodes Filled: ' + str(nodesFull)+ \"********\"\n",
    "    str4 = \"Kappa and Theta are randomly shuffled\"+ \"********\"\n",
    "    str5 = \"kap,theta: [\" + str(kappa_all[run]) + \",\" + str(theta_all[run]) + \"]\" + \"********\"\n",
    "    str6 = \"kap std = 0.0, theta std = 0.0 ***********\"\n",
    "    str7 = \"Rest Channels = \" + str(rest_channels) + \"********\"\n",
    "    str8 = \"Birth Rate = 0.2, Death rate = 0.01\" \n",
    "    simulInfo = str1+str2+str3+str4+str5+str6+str7+str8\n",
    "    \n",
    "    strID = strIDList[run]\n",
    "    if not os.path.exists('Evolution Free 2/%s/' %strID):\n",
    "        os.makedirs('Evolution Free 2/%s/' %strID)\n",
    "    infoFile1 = open('Evolution Free 2/%s/' %strID + str(strID) + \".txt\", 'w')\n",
    "    for L in [str1, str2, str3, str4, str5, str6, str7]:\n",
    "        infoFile1.writelines(L) \n",
    "    infoFile1.close()\n",
    "    \n",
    "    #max_kappa = kappa_all[run]\n",
    "    #min_kappa = kappa_all[run]\n",
    "    #max_theta = theta_all[run]\n",
    "    #min_theta = theta_all[run]\n",
    "    \n",
    "    #kappa = ((np.arange(nodesFull * n_channels))*(max_kappa-min_kappa)/(nodesFull*n_channels-1)+min_kappa) \n",
    "    #np.random.shuffle(kappa)\n",
    "    #theta = ((np.arange(nodesFull * n_channels))*(max_theta-min_theta)/(nodesFull*n_channels-1)+min_theta) \n",
    "    #np.random.shuffle(theta)\n",
    "    \n",
    "    lgca1 = get_lgca(ib=True, geometry = 'lin', bc = 'refl', interaction='go_or_grow_2', kappa=kappa_all[run], theta=theta_all[run], r_b=0.2, r_d=0.01, nodes=nodes, shift_nodes_left=True)\n",
    "    lgca1.timeevo(timesteps=tmax, record=True, recordProp=False, recordN = True, recordPropMean=False)\n",
    "    plt.figure()\n",
    "    lgca1.plot_density()\n",
    "    plt.savefig('Evolution Free 2/%s/' %strID + \"density.jpg\")\n",
    "    plt.figure()\n",
    "    lgca1.plot_density_channel(channel='velocity')\n",
    "    plt.savefig('Evolution Free 2/%s/' %strID + \"densityVelocity.jpg\")\n",
    "    plt.figure()\n",
    "    lgca1.plot_density_channel(channel='rest')\n",
    "    plt.savefig('Evolution Free 2/%s/' %strID + \"densityRest.jpg\")\n",
    "    plt.figure()\n",
    "    \n",
    "    final_cell_number[run] = lgca1.n_t[-1]\n",
    "    final_rest_cell_number[run] = lgca1.n_rest_t[-1]\n",
    "    final_vel_cell_number[run] = lgca1.n_vel_t[-1]\n",
    "    lgca1=None\n",
    "    del lgca1\n",
    "    plt.clf()\n",
    "    plt.cla()\n",
    "    #time.sleep(5)\n",
    "    plt.close('all')\n",
    "    \n",
    "    \n",
    "\n",
    "np.savetxt(\"Evolution Free 2/final_cell_number.csv\", final_cell_number, delimiter=',')\n",
    "np.savetxt(\"Evolution Free 2/final_rest_cell_number.csv\", final_rest_cell_number, delimiter=',')\n",
    "np.savetxt(\"Evolution Free 2/final_vel_cell_number.csv\", final_vel_cell_number, delimiter=',')\n",
    "np.savetxt(\"Evolution Free 2/evolution_free_kappas.csv\", kappa_all, delimiter=',', fmt='%1.4f')\n",
    "np.savetxt(\"Evolution Free 2/evolution_free_thetas.csv\", theta_all, delimiter=',',fmt='%1.4f')"
   ]
  },
  {
   "cell_type": "code",
   "execution_count": null,
   "metadata": {},
   "outputs": [],
   "source": []
  }
 ],
 "metadata": {
  "kernelspec": {
   "display_name": "Python 3",
   "language": "python",
   "name": "python3"
  },
  "language_info": {
   "codemirror_mode": {
    "name": "ipython",
    "version": 3
   },
   "file_extension": ".py",
   "mimetype": "text/x-python",
   "name": "python",
   "nbconvert_exporter": "python",
   "pygments_lexer": "ipython3",
   "version": "3.7.6"
  },
  "toc": {
   "base_numbering": 1,
   "nav_menu": {},
   "number_sections": true,
   "sideBar": true,
   "skip_h1_title": false,
   "title_cell": "Table of Contents",
   "title_sidebar": "Contents",
   "toc_cell": true,
   "toc_position": {},
   "toc_section_display": true,
   "toc_window_display": false
  },
  "varInspector": {
   "cols": {
    "lenName": 16,
    "lenType": 16,
    "lenVar": 40
   },
   "kernels_config": {
    "python": {
     "delete_cmd_postfix": "",
     "delete_cmd_prefix": "del ",
     "library": "var_list.py",
     "varRefreshCmd": "print(var_dic_list())"
    },
    "r": {
     "delete_cmd_postfix": ") ",
     "delete_cmd_prefix": "rm(",
     "library": "var_list.r",
     "varRefreshCmd": "cat(var_dic_list()) "
    }
   },
   "types_to_exclude": [
    "module",
    "function",
    "builtin_function_or_method",
    "instance",
    "_Feature"
   ],
   "window_display": false
  }
 },
 "nbformat": 4,
 "nbformat_minor": 4
}
