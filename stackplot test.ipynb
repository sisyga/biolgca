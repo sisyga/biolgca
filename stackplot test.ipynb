{
 "cells": [
  {
   "cell_type": "code",
   "execution_count": 1,
   "metadata": {},
   "outputs": [
    {
     "name": "stdout",
     "output_type": "stream",
     "text": [
      "standard deviation set to =  0.1\n",
      "Progress: [####################] 100% Done...\n"
     ]
    }
   ],
   "source": [
    "import numpy as np\n",
    "import matplotlib.pyplot as plt\n",
    "from lgca import get_lgca\n",
    "from lgca.helpers import *\n",
    "%matplotlib notebook\n",
    "\n",
    "timesteps = 100\n",
    "dim = 3\n",
    "dens =  1\n",
    "\n",
    "#rb = [0.02, 0.1, 0.3, 0.5, 0.7, 0.9, 1]\n",
    "birthrate = 0.5\n",
    "rc = 2\n",
    "deathrate = 0.02\n",
    "id = 0\n",
    "\n",
    "\n",
    "lgca = get_lgca(ib=True, geometry='lin', interaction='inheritance',\\\n",
    "           density = dens, dims = dim, r_b = birthrate, variation = False, restchannels = rc,\\\n",
    "               r_d = deathrate, bc='reflecting')\n",
    "\n",
    "lgca.timeevo(timesteps, record=True)\n",
    "%matplotlib notebook\n"
   ]
  },
  {
   "cell_type": "code",
   "execution_count": null,
   "metadata": {},
   "outputs": [],
   "source": [
    "lgca.spatial_plot(figsize=(50,70))"
   ]
  },
  {
   "cell_type": "code",
   "execution_count": null,
   "metadata": {},
   "outputs": [],
   "source": [
    "lgca.spatial_plot(figsize=(50,70), tbeg=70, tend=100, save=True)"
   ]
  }
 ],
 "metadata": {
  "kernelspec": {
   "display_name": "Python 3",
   "language": "python",
   "name": "python3"
  },
  "language_info": {
   "codemirror_mode": {
    "name": "ipython",
    "version": 3
   },
   "file_extension": ".py",
   "mimetype": "text/x-python",
   "name": "python",
   "nbconvert_exporter": "python",
   "pygments_lexer": "ipython3",
   "version": "3.7.3"
  }
 },
 "nbformat": 4,
 "nbformat_minor": 2
}
