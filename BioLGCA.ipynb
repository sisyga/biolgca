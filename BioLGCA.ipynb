{
 "cells": [
  {
   "cell_type": "markdown",
   "metadata": {},
   "source": [
    "# BioLGCA - A Mesosocopic Modelling Framework for Collective Phenomena"
   ]
  },
  {
   "cell_type": "markdown",
   "metadata": {},
   "source": [
    "## Introduction\n",
    "This Juypter notebook serves as an introduction to the BioLGCA python package. It consists of lattice-gas cellular automaton models for biological systems in 1D and 2D, which can be adapted, simulated and analyzed. First, visualization and simulation methods are introduced. Next, already implemented LGCA models are presented and analyzed. We conclude with a demonstration on how to code and use your own interactions in the BioLGCA framework."
   ]
  },
  {
   "cell_type": "markdown",
   "metadata": {},
   "source": [
    "## Class initialization\n",
    "### Calling the class\n",
    "To envoke the package and obtain the appropriate class instance, the function `get_lgca` of the `base.py` module is used"
   ]
  },
  {
   "cell_type": "code",
   "execution_count": 10,
   "metadata": {
    "ExecuteTime": {
     "end_time": "2024-02-27T14:21:54.941911Z",
     "start_time": "2024-02-27T14:21:54.934584Z"
    }
   },
   "source": [
    "%matplotlib notebook\n",
    "from lgca import get_lgca\n",
    "lgca = get_lgca(geometry='hex')"
   ],
   "outputs": []
  },
  {
   "cell_type": "markdown",
   "metadata": {},
   "source": [
    "### Setting an interaction\n",
    "Note that we did not specify the lattice dimensions or an interaction rule, so the default parameters are used, which is a random walk on a hexagonal lattice. We can set specific interactions using `interaction=`, the lattice dimensions using `dims=`, boundary conditions with `bc=`, and interaction parameters and more using keyword arguments. See the document string of the function for more information."
   ]
  },
  {
   "cell_type": "code",
   "execution_count": 11,
   "metadata": {
    "pycharm": {
     "is_executing": false
    },
    "ExecuteTime": {
     "end_time": "2024-02-27T14:21:55.943360Z",
     "start_time": "2024-02-27T14:21:55.935535Z"
    }
   },
   "source": [
    "lgca = get_lgca(geometry='hex', dims=(10, 10), interaction='aggregation')"
   ],
   "outputs": []
  },
  {
   "cell_type": "markdown",
   "metadata": {},
   "source": [
    "We now used the aggregation rule, which uses a sensitivity parameter `beta`, which is set to 2 by default. All available interactions can be printed using the class method `get_interactions`."
   ]
  },
  {
   "cell_type": "code",
   "execution_count": 12,
   "metadata": {
    "pycharm": {
     "is_executing": false
    },
    "ExecuteTime": {
     "end_time": "2024-02-27T14:21:57.037340Z",
     "start_time": "2024-02-27T14:21:57.033150Z"
    }
   },
   "source": [
    "lgca.get_interactions()"
   ],
   "outputs": []
  },
  {
   "cell_type": "markdown",
   "metadata": {},
   "source": [
    "The interaction can also be changed after initialization using the `set_interaction` method:"
   ]
  },
  {
   "cell_type": "code",
   "execution_count": 13,
   "metadata": {
    "pycharm": {
     "is_executing": false
    },
    "ExecuteTime": {
     "end_time": "2024-02-27T14:21:58.275276Z",
     "start_time": "2024-02-27T14:21:58.266609Z"
    }
   },
   "source": [
    "lgca.set_interaction(interaction='alignment', beta=3.0)"
   ],
   "outputs": []
  },
  {
   "cell_type": "markdown",
   "metadata": {},
   "source": [
    "### Setting the initial state\n",
    "By default, the initial state is a homogeneous state with constant mean density, that can be set using the `density` keyword. For `density = 0.1` every channel on the lattice is occupied with a probability of $0.1$. The state of the lgca class instance is saved in the array `nodes`. For example, for a 1D LGCA of size 5, without rest channels and with a homogeneous initial state, where each channel is occupied with a probability $\\rho = 0.1$, we use"
   ]
  },
  {
   "cell_type": "code",
   "execution_count": 14,
   "metadata": {
    "ExecuteTime": {
     "end_time": "2024-02-27T14:22:00.417632Z",
     "start_time": "2024-02-27T14:22:00.412944Z"
    }
   },
   "source": [
    "lgca = get_lgca(restchannels=0, density=0.1, dims=5, geometry='lin', bc='refl')"
   ],
   "outputs": []
  },
  {
   "cell_type": "markdown",
   "metadata": {},
   "source": [
    "We can print the current state as"
   ]
  },
  {
   "cell_type": "code",
   "execution_count": 15,
   "metadata": {
    "ExecuteTime": {
     "end_time": "2024-02-27T14:22:01.600052Z",
     "start_time": "2024-02-27T14:22:01.595761Z"
    }
   },
   "source": [
    "lgca.print_nodes()"
   ],
   "outputs": []
  },
  {
   "cell_type": "markdown",
   "metadata": {},
   "source": [
    "## Simulating the system\n",
    "A single time step without recording is performed with the `timestep` method:"
   ]
  },
  {
   "cell_type": "code",
   "execution_count": 16,
   "metadata": {
    "pycharm": {
     "is_executing": false
    },
    "ExecuteTime": {
     "end_time": "2024-02-27T14:22:04.058510Z",
     "start_time": "2024-02-27T14:22:04.050286Z"
    }
   },
   "source": [
    "lgca.timestep()\n",
    "lgca.print_nodes()"
   ],
   "outputs": []
  },
  {
   "cell_type": "markdown",
   "metadata": {},
   "source": [
    "To simulate the dynamics for longer times and record the steps we use the class method `timeevo`. It takes the keyword arguments `timesteps`, that sets the number of time steps to simulate. Also, all configurations can be recorded using `record=True`. To only record the density profile set `recorddens=True`. The total number of cells can be recorded with `recordN=True`, which is also the default."
   ]
  },
  {
   "cell_type": "code",
   "execution_count": 17,
   "metadata": {
    "pycharm": {
     "is_executing": false
    },
    "ExecuteTime": {
     "end_time": "2024-02-27T14:22:05.471577Z",
     "start_time": "2024-02-27T14:22:05.443234Z"
    }
   },
   "source": [
    "lgca.timeevo(timesteps=100)\n",
    "lgca.print_nodes()"
   ],
   "outputs": []
  },
  {
   "cell_type": "markdown",
   "metadata": {},
   "source": [
    "## Visualization\n",
    "Visualization and plotting are different for 1D and 2D lattice geometries. The following section only applies to the 2D lattices, and the 1D equivalent is mentioned later. \n",
    "### Plotting\n",
    "#### Density profile\n",
    "The python package offers several methods to visualize LGCA states. A simple method is plotting the current density profile $$n(r,k) = \\sum_i s_i (r,k).$$ Consider a LGCA on a square lattice,"
   ]
  },
  {
   "cell_type": "code",
   "execution_count": 18,
   "metadata": {
    "pycharm": {
     "is_executing": false,
     "name": "#%%\n"
    },
    "ExecuteTime": {
     "end_time": "2024-02-27T14:22:09.063348Z",
     "start_time": "2024-02-27T14:22:08.720865Z"
    }
   },
   "source": [
    "### use this in PyCharm\n",
    "# import matplotlib \n",
    "# matplotlib.use('Qt5Agg')\n",
    "import matplotlib.pyplot as plt\n",
    "lgca = get_lgca(geometry='square')\n",
    "lgca.plot_density()"
   ],
   "outputs": []
  },
  {
   "cell_type": "markdown",
   "metadata": {},
   "source": [
    "#### Flux\n",
    "Sometimes it is more useful to plot the local flux $$ \\mathbf{J}(r,k) = \\sum_i s_i \\mathbf{c_i}. $$ This can be achieved like follows:"
   ]
  },
  {
   "cell_type": "code",
   "execution_count": 19,
   "metadata": {
    "pycharm": {
     "is_executing": false
    },
    "ExecuteTime": {
     "end_time": "2024-02-27T14:22:31.581152Z",
     "start_time": "2024-02-27T14:22:31.230175Z"
    }
   },
   "source": [
    "plt.figure()\n",
    "lgca.plot_flux()"
   ],
   "outputs": []
  },
  {
   "cell_type": "markdown",
   "metadata": {},
   "source": [
    "Alternatively it is possible to plot a corresponding flow field:"
   ]
  },
  {
   "cell_type": "code",
   "execution_count": 5,
   "metadata": {
    "pycharm": {
     "is_executing": false
    }
   },
   "source": [
    "plt.figure()\n",
    "lgca.plot_flow()"
   ],
   "outputs": []
  },
  {
   "cell_type": "markdown",
   "metadata": {},
   "source": [
    "#### Full configuration\n",
    "For sketches, it is sometimes useful to plot the full lattice configuration. This is only advisable on small lattices. See the following example. Notice that the rest channels are depicted as circles, filled by a number, indicating the number of filled rest channels, while the occupied velocity channels are showns as black arrows."
   ]
  },
  {
   "cell_type": "code",
   "execution_count": 2,
   "metadata": {
    "pycharm": {
     "is_executing": false
    }
   },
   "source": [
    "import numpy as np\n",
    "nodes = np.zeros((2, 2, 6))\n",
    "nodes[0, 0, :] = 1\n",
    "nodes[1, 1, 4:] = 1\n",
    "nodes[0, 1, :4] = 1\n",
    "nodes[1, 0, 0] = 1\n",
    "print(nodes)\n",
    "lgca = get_lgca(geometry='square', density=0.25, nodes=nodes)\n",
    "lgca.plot_config()"
   ],
   "outputs": []
  },
  {
   "cell_type": "markdown",
   "metadata": {},
   "source": [
    "### Animation of dynamics\n",
    "After recording configurations with the `timeevo` method, we can animate the dynamics (or plot it in a 2D plot, in the case of a 1D lattice)."
   ]
  },
  {
   "cell_type": "code",
   "execution_count": 20,
   "metadata": {
    "pycharm": {
     "is_executing": false
    },
    "ExecuteTime": {
     "end_time": "2024-02-27T14:22:47.879269Z",
     "start_time": "2024-02-27T14:22:47.802702Z"
    }
   },
   "source": [
    "lgca = get_lgca(geometry='hex', interaction='aggregation', dims=(10, 10), restchannels=0)\n",
    "lgca.timeevo(record=True)"
   ],
   "outputs": []
  },
  {
   "cell_type": "markdown",
   "metadata": {},
   "source": [
    "To animate the density we use the `animate_density` method like follows"
   ]
  },
  {
   "cell_type": "code",
   "execution_count": 21,
   "metadata": {
    "pycharm": {
     "is_executing": false
    },
    "scrolled": true,
    "ExecuteTime": {
     "end_time": "2024-02-27T14:22:54.790616Z",
     "start_time": "2024-02-27T14:22:54.730236Z"
    }
   },
   "source": [
    "plt.figure()\n",
    "lgca.animate_density(interval=100)"
   ],
   "outputs": []
  },
  {
   "cell_type": "markdown",
   "metadata": {},
   "source": [
    "Similarly, we can animate the flux, flow, and configuration:"
   ]
  },
  {
   "cell_type": "markdown",
   "metadata": {},
   "source": [
    "The underlying lattice can be plotted using the keyword `edgecolor=color`, where `color`is the color of your choise as a string."
   ]
  },
  {
   "cell_type": "code",
   "execution_count": 22,
   "metadata": {
    "pycharm": {
     "is_executing": false
    },
    "ExecuteTime": {
     "end_time": "2024-02-27T14:23:11.614593Z",
     "start_time": "2024-02-27T14:23:11.539996Z"
    }
   },
   "source": [
    "lgca.animate_flux(interval=100, edgecolor='k')"
   ],
   "outputs": []
  },
  {
   "cell_type": "code",
   "execution_count": 23,
   "metadata": {
    "pycharm": {
     "is_executing": false
    },
    "ExecuteTime": {
     "end_time": "2024-02-27T14:23:20.745344Z",
     "start_time": "2024-02-27T14:23:20.712690Z"
    }
   },
   "source": [
    "lgca.animate_flow()"
   ],
   "outputs": []
  },
  {
   "cell_type": "markdown",
   "metadata": {},
   "source": [
    "The full configuration can also be animated. The keyword `grid` allows to turn on and off the visualization of the underlaying lattice grid."
   ]
  },
  {
   "cell_type": "code",
   "execution_count": 24,
   "metadata": {
    "pycharm": {
     "is_executing": false
    },
    "ExecuteTime": {
     "end_time": "2024-02-27T14:23:41.876960Z",
     "start_time": "2024-02-27T14:23:41.553312Z"
    }
   },
   "source": [
    "lgca.animate_config()"
   ],
   "outputs": []
  },
  {
   "cell_type": "markdown",
   "metadata": {},
   "source": [
    "### Live animations\n",
    "Using the same logic as before, we can also animate the system on-the-fly. This is especially useful during interaction design and debugging."
   ]
  },
  {
   "cell_type": "code",
   "execution_count": 25,
   "metadata": {
    "pycharm": {
     "is_executing": false
    },
    "ExecuteTime": {
     "end_time": "2024-02-27T14:23:59.296476Z",
     "start_time": "2024-02-27T14:23:59.238383Z"
    }
   },
   "source": [
    "lgca.live_animate_density()"
   ],
   "outputs": []
  },
  {
   "cell_type": "code",
   "execution_count": 19,
   "metadata": {
    "pycharm": {
     "is_executing": false
    }
   },
   "source": [
    "lgca.set_interaction(interaction='alignment')\n",
    "ani = lgca.live_animate_flux()"
   ],
   "outputs": []
  },
  {
   "cell_type": "markdown",
   "metadata": {},
   "source": [
    "We can also change the boundary conditions, e.g. we change from the default periodic boundaries to reflecting boundaries here."
   ]
  },
  {
   "cell_type": "code",
   "execution_count": 20,
   "metadata": {
    "pycharm": {
     "is_executing": false
    }
   },
   "source": [
    "lgca.set_bc('refl')\n",
    "lgca.live_animate_config()"
   ],
   "outputs": []
  },
  {
   "cell_type": "markdown",
   "metadata": {},
   "source": [
    "## Examples\n",
    "### Alignment"
   ]
  },
  {
   "cell_type": "code",
   "execution_count": 26,
   "metadata": {
    "pycharm": {
     "is_executing": false
    },
    "ExecuteTime": {
     "end_time": "2024-02-27T14:24:23.684365Z",
     "start_time": "2024-02-27T14:24:23.286889Z"
    }
   },
   "source": [
    "# specify the alignment interaction\n",
    "# LGCA geometry: hexagonal lattice, no resting channels and reflecting boundary conditions\n",
    "lgca = get_lgca(geometry='hex', interaction='alignment', bc='refl')\n",
    "lgca.live_animate_flux()"
   ],
   "outputs": []
  },
  {
   "cell_type": "markdown",
   "metadata": {},
   "source": [
    "### Aggregation"
   ]
  },
  {
   "cell_type": "code",
   "execution_count": 27,
   "metadata": {
    "pycharm": {
     "is_executing": false
    },
    "ExecuteTime": {
     "end_time": "2024-02-27T14:24:56.099697Z",
     "start_time": "2024-02-27T14:24:55.722293Z"
    }
   },
   "source": [
    "lgca = get_lgca(geometry='square', interaction='aggregation', density=0.3, restchannels=3)\n",
    "lgca.live_animate_density()"
   ],
   "outputs": []
  },
  {
   "cell_type": "code",
   "execution_count": 23,
   "metadata": {
    "pycharm": {
     "is_executing": false
    }
   },
   "source": [
    "lgca.timeevo(100, record=True)"
   ],
   "outputs": []
  },
  {
   "cell_type": "code",
   "execution_count": 24,
   "metadata": {
    "pycharm": {
     "is_executing": false
    }
   },
   "source": [
    "print(lgca.nodes_t.shape)"
   ],
   "outputs": []
  },
  {
   "cell_type": "markdown",
   "metadata": {},
   "source": [
    "### Nematic interaction"
   ]
  },
  {
   "cell_type": "code",
   "execution_count": 28,
   "metadata": {
    "pycharm": {
     "is_executing": false
    },
    "ExecuteTime": {
     "end_time": "2024-02-27T14:25:24.377662Z",
     "start_time": "2024-02-27T14:25:24.085728Z"
    }
   },
   "source": [
    "lgca = get_lgca(interaction='nematic')\n",
    "lgca.live_animate_flux()"
   ],
   "outputs": []
  },
  {
   "cell_type": "markdown",
   "metadata": {},
   "source": [
    "### Chemotaxis"
   ]
  },
  {
   "cell_type": "code",
   "execution_count": 3,
   "metadata": {
    "pycharm": {
     "is_executing": false
    }
   },
   "source": [
    "lgca = get_lgca(interaction='chemotaxis')\n",
    "lgca.live_animate_density()"
   ],
   "outputs": []
  },
  {
   "cell_type": "markdown",
   "metadata": {},
   "source": [
    "### Persistent movement"
   ]
  },
  {
   "cell_type": "code",
   "execution_count": 36,
   "metadata": {
    "pycharm": {
     "is_executing": false
    }
   },
   "source": [
    "lgca = get_lgca(interaction='persistent_motion', beta=5)\n",
    "lgca.nodes[...] = 0\n",
    "lgca.update_dynamic_fields()\n",
    "lgca.nodes[10, 10, 1] = 1\n",
    "lgca.live_animate_density()"
   ],
   "outputs": []
  },
  {
   "cell_type": "markdown",
   "metadata": {},
   "source": [
    "### Nematic contact guidance"
   ]
  },
  {
   "cell_type": "code",
   "execution_count": 18,
   "metadata": {
    "pycharm": {
     "is_executing": false
    }
   },
   "source": [
    "lgca = get_lgca(interaction='contact_guidance')\n",
    "lgca.nodes[...] = 0\n",
    "lgca.update_dynamic_fields()\n",
    "lgca.nodes[10, 10, 1] = 1\n",
    "lgca.live_animate_density()"
   ],
   "outputs": []
  },
  {
   "cell_type": "markdown",
   "metadata": {},
   "source": [
    "### Go and grow"
   ]
  },
  {
   "cell_type": "code",
   "execution_count": 30,
   "metadata": {
    "pycharm": {
     "is_executing": false
    }
   },
   "source": [
    "lgca = get_lgca(interaction='go_and_grow', restchannels=6)\n",
    "lgca.nodes[...] = 0\n",
    "lgca.update_dynamic_fields()\n",
    "lgca.nodes[lgca.lx//2, lgca.ly//2, -1] = 1\n",
    "lgca.live_animate_density()"
   ],
   "outputs": []
  },
  {
   "cell_type": "markdown",
   "metadata": {},
   "source": [
    "### Go or grow"
   ]
  },
  {
   "cell_type": "code",
   "execution_count": 28,
   "metadata": {
    "pycharm": {
     "is_executing": false
    }
   },
   "source": [
    "lgca = get_lgca(interaction='go_or_grow', restchannels=6, kappa=4.)  # change parameter kappa from 4 to -4; what happens?\n",
    "lgca.nodes[...] = 0\n",
    "lgca.update_dynamic_fields()\n",
    "lgca.nodes[lgca.lx//2, lgca.ly//2, :] = 1\n",
    "# lgca.timeevo(timesteps=15)\n",
    "# lgca.plot_density()\n",
    "lgca.live_animate_density()"
   ],
   "outputs": []
  },
  {
   "cell_type": "code",
   "execution_count": 50,
   "metadata": {
    "pycharm": {
     "is_executing": false
    }
   },
   "source": [
    "lgca = get_lgca(interaction='go_and_grow', ib=True, geometry='lin', restchannels=6)  # change parameter kappa from 4 to -4; what happens?\n",
    "lgca.nodes[...] = 0\n",
    "lgca.update_dynamic_fields()\n",
    "lgca.nodes[lgca.dims[0]//2, :] = 1\n",
    "lgca.timeevo(timesteps=200, record=True)\n"
   ],
   "outputs": []
  },
  {
   "cell_type": "code",
   "execution_count": 57,
   "metadata": {},
   "source": [
    "lgca.plot_density(colorbarwidth=0.2)"
   ],
   "outputs": []
  },
  {
   "cell_type": "code",
   "execution_count": 55,
   "metadata": {},
   "source": [
    "lgca.plot_prop_spatial(propname='r_b')"
   ],
   "outputs": []
  },
  {
   "cell_type": "markdown",
   "metadata": {},
   "source": [
    "### Excitable medium"
   ]
  },
  {
   "cell_type": "code",
   "execution_count": 29,
   "metadata": {
    "pycharm": {
     "is_executing": false
    },
    "scrolled": true,
    "ExecuteTime": {
     "end_time": "2024-02-27T14:26:01.121517Z",
     "start_time": "2024-02-27T14:26:00.725959Z"
    }
   },
   "source": [
    "# specify the excitable medium interaction with interaction parameter N=20\n",
    "# LGCA geometry: 20 resting channels and reflecting boundary conditions\n",
    "lgca = get_lgca(interaction='excitable_medium', restchannels=20, N=20, bc='refl')\n",
    "# initialise custom nodes\n",
    "lgca.nodes[...] = 0\n",
    "lgca.nodes[:lgca.lx//2, :, :lgca.velocitychannels] = 1  # 6 moving particles per node in the left half of the lattice\n",
    "lgca.nodes[:, :lgca.ly//2, lgca.velocitychannels:] = 1  # 6 resting particles per node in the lower half of the lattice\n",
    "# view a live simulation: density profile of the velocity channels only\n",
    "lgca.live_animate_density(channels=slice(0, lgca.velocitychannels), vmax=lgca.velocitychannels)"
   ],
   "outputs": []
  },
  {
   "cell_type": "markdown",
   "metadata": {},
   "source": [
    "## Using a custom interaction rule\n",
    "Here, we will show how to use your own interaction rule, without changing the source code of the python package. The interaction rule should have the syntax `interaction(lgca)`, where `lgca` is an instance of any LGCA class, and it should change the attribute `lgca.nodes` to the post-interaction state. In this example, we will design a rule, that will make the particles align OR let the form aggregates."
   ]
  },
  {
   "cell_type": "code",
   "execution_count": 13,
   "metadata": {
    "pycharm": {
     "is_executing": false
    }
   },
   "source": [
    "import numpy as np\n",
    "from bisect import bisect_left\n",
    "from random import random\n",
    "\n",
    "def rest_or_align(lgca):\n",
    "    newnodes = np.zeros_like(lgca.nodes)\n",
    "    resting = lgca.nodes[..., lgca.velocitychannels:].sum(-1)\n",
    "    resting = lgca.nb_sum(resting)  # calc surrounding number of occupied rest channels for each node\n",
    "    g = lgca.calc_flux(lgca.nodes)  \n",
    "    g = lgca.nb_sum(g)  # calc cumulative flux around each node\n",
    "    relevant = (lgca.cell_density[lgca.nonborder] > 0) & (lgca.cell_density[lgca.nonborder] < lgca.K)\n",
    "    coords = [a[relevant] for a in lgca.nonborder]  # get relevant coordinates, to increase performance\n",
    "    for coord in zip(*coords):\n",
    "        n = lgca.cell_density[coord]\n",
    "        permutations = lgca.permutations[n]  # pre-calculated unique permutations for cell number n\n",
    "        j = lgca.j[n]  # and respective fluxes\n",
    "        n_rest = permutations[:, lgca.velocitychannels:].sum(-1)  # and respective resting particles (could also be pre-calculated to speed up)\n",
    "        weights = np.exp(lgca.beta * np.einsum('i,ij', g[coord], j) + lgca.alpha * n_rest * resting[coord]).cumsum()\n",
    "        ind = bisect_left(weights, random() * weights[-1])\n",
    "        newnodes[coord] = permutations[ind]\n",
    "        \n",
    "    lgca.nodes = newnodes\n",
    "\n",
    "lgca = get_lgca(interaction='alignment', restchannels=1)\n",
    "lgca.alpha = 2.0  # set the required alpha parameter as class attribute\n",
    "lgca.interaction = rest_or_align  # set the interaction function"
   ],
   "outputs": []
  },
  {
   "cell_type": "code",
   "execution_count": 15,
   "metadata": {
    "pycharm": {
     "is_executing": true
    }
   },
   "source": [
    "lgca.live_animate_flux()\n",
    "#lgca.timestep()"
   ],
   "outputs": []
  },
  {
   "cell_type": "code",
   "execution_count": null,
   "metadata": {
    "pycharm": {
     "is_executing": true
    }
   },
   "source": [
    "from lgca import get_lgca\n",
    "from random import random\n",
    "from bisect import bisect_left\n",
    "import numpy as np\n",
    "%matplotlib notebook"
   ],
   "outputs": []
  },
  {
   "cell_type": "code",
   "execution_count": null,
   "metadata": {
    "pycharm": {
     "is_executing": true
    }
   },
   "source": [
    "def logistic_adhesion(lgca):\n",
    "    newnodes = np.zeros_like(lgca.nodes)\n",
    "    relevant = (lgca.cell_density[lgca.nonborder] > 0) & (lgca.cell_density[lgca.nonborder] < lgca.K)\n",
    "    coords = [a[relevant] for a in lgca.nonborder]\n",
    "    u_adh = lgca.nb_sum(lgca.cell_density) + lgca.cell_density\n",
    "    #u_adh = lgca.cell_density.astype(float)\n",
    "    u_adh *= np.clip(1 - u_adh / lgca.n_0, a_min=0, a_max=None)\n",
    "    g = lgca.gradient(u_adh)\n",
    "    pressure = np.clip(lgca.cell_density - lgca.n_0 / (lgca.velocitychannels + 1) - 1, a_min=0, a_max=None)\n",
    "    #pressure_weight = -lgca.channel_weight(pressure)\n",
    "    g_pressure = -lgca.gradient(pressure)\n",
    "    resting = lgca.nodes[..., lgca.velocitychannels:].sum(-1)\n",
    "    resting = lgca.nb_sum(resting) / lgca.velocitychannels\n",
    "    for coord in zip(*coords):\n",
    "        n = lgca.cell_density[coord]\n",
    "        permutations = lgca.permutations[n]  # pre-calculated unique permutations for cell number n\n",
    "        j = lgca.j[n]\n",
    "        n_rest = permutations[:, lgca.velocitychannels:].sum(-1)\n",
    "        weights = np.exp(lgca.beta * np.einsum('ij,i', j, g[coord])\n",
    "                        # + lgca.gamma * np.dot(permutations[:, :lgca.velocitychannels], pressure_weight[coord])\n",
    "                        + lgca.gamma * np.einsum('i,ij', g_pressure[coord], j)\n",
    "                        # + lgca.beta * resting[coord] * n_rest\n",
    "                        ).cumsum()\n",
    "        ind = bisect_left(weights, random() * weights[-1])\n",
    "        newnodes[coord] = permutations[ind]\n",
    "        \n",
    "    lgca.nodes = newnodes\n",
    "        "
   ],
   "outputs": []
  }
 ],
 "metadata": {
  "kernelspec": {
   "display_name": "Python 3 (ipykernel)",
   "language": "python",
   "name": "python3"
  },
  "language_info": {
   "codemirror_mode": {
    "name": "ipython",
    "version": 3
   },
   "file_extension": ".py",
   "mimetype": "text/x-python",
   "name": "python",
   "nbconvert_exporter": "python",
   "pygments_lexer": "ipython3",
   "version": "3.8.12"
  },
  "pycharm": {
   "stem_cell": {
    "cell_type": "raw",
    "metadata": {
     "collapsed": false
    },
    "source": []
   }
  }
 },
 "nbformat": 4,
 "nbformat_minor": 4
}
