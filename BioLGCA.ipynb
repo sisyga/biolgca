{
 "cells": [
  {
   "cell_type": "markdown",
   "metadata": {},
   "source": [
    "# BioLGCA - A Mesosocopic Modelling Framework for Collective Phenomena"
   ]
  },
  {
   "cell_type": "markdown",
   "metadata": {},
   "source": [
    "## Introduction\n",
    "This Juypter notebook serves as an introduction to the BioLGCA python package. It consists of lattice-gas cellular automaton models for biological systems in 1D and 2D, which can be adapted, simulated and analyzed. First, visualization and simulation methods are introduced. Next, already implemented LGCA models are presented and analyzed. We conclude with a demonstration on how to code and use your own interactions in the BioLGCA framework."
   ]
  },
  {
   "cell_type": "markdown",
   "metadata": {},
   "source": [
    "## Class initialization\n",
    "### Calling the class\n",
    "To envoke the package and obtain the appropriate class instance, the function `get_lgca` of the `base.py` module is used"
   ]
  },
  {
   "cell_type": "code",
   "execution_count": null,
   "metadata": {
    "pycharm": {
     "is_executing": false
    }
   },
   "outputs": [],
   "source": [
    "%matplotlib notebook\n",
    "from lgca import get_lgca\n",
    "lgca = get_lgca(geometry='hex')"
   ]
  },
  {
   "cell_type": "markdown",
   "metadata": {},
   "source": [
    "### Setting an interaction\n",
    "Note that we did not specify the lattice dimensions or an interaction rule, so the default parameters are used, which is a random walk on a hexagonal lattice. We can set specific interactions using `interaction=`, the lattice dimensions using `dims=`, boundary conditions with `bc=`, and interaction parameters and more using keyword arguments. See the document string of the function for more information."
   ]
  },
  {
   "cell_type": "code",
   "execution_count": null,
   "metadata": {
    "pycharm": {
     "is_executing": false
    }
   },
   "outputs": [],
   "source": [
    "lgca = get_lgca(geometry='hex', dims=(10, 10), interaction='aggregation')"
   ]
  },
  {
   "cell_type": "markdown",
   "metadata": {},
   "source": [
    "We now used the aggregation rule, which uses a sensitivity parameter `beta`, which is set to 2 by default. All available interactions can be printed using the class method `get_interactions`."
   ]
  },
  {
   "cell_type": "code",
   "execution_count": null,
   "metadata": {
    "pycharm": {
     "is_executing": false
    }
   },
   "outputs": [],
   "source": [
    "lgca.get_interactions()"
   ]
  },
  {
   "cell_type": "markdown",
   "metadata": {},
   "source": [
    "The interaction can also be changed after initialization using the `set_interaction` method:"
   ]
  },
  {
   "cell_type": "code",
   "execution_count": null,
   "metadata": {
    "pycharm": {
     "is_executing": false
    }
   },
   "outputs": [],
   "source": [
    "lgca.set_interaction(interaction='alignment', beta=3.0)"
   ]
  },
  {
   "cell_type": "markdown",
   "metadata": {},
   "source": [
    "### Setting the initial state\n",
    "By default, the initial state is a homogeneous state with constant mean density, that can be set using the `density` keyword. For `density = 0.1` every channel on the lattice is occupied with a probability of $0.1$. The state of the lgca class instance is saved in the array `nodes`. For example, for a 1D LGCA of size 5, without rest channels and with a homogeneous initial state, where each channel is occupied with a probability $\\rho = 0.1$, we use"
   ]
  },
  {
   "cell_type": "code",
   "execution_count": null,
   "metadata": {
    "pycharm": {
     "is_executing": false
    }
   },
   "outputs": [],
   "source": [
    "lgca = get_lgca(restchannels=0, density=0.1, dims=5, geometry='lin', bc='refl')"
   ]
  },
  {
   "cell_type": "markdown",
   "metadata": {},
   "source": [
    "We can print the current state as"
   ]
  },
  {
   "cell_type": "code",
   "execution_count": null,
   "metadata": {
    "pycharm": {
     "is_executing": false
    }
   },
   "outputs": [],
   "source": [
    "lgca.print_nodes()"
   ]
  },
  {
   "cell_type": "markdown",
   "metadata": {},
   "source": [
    "## Simulating the system\n",
    "A single time step without recording is performed with the `timestep` method:"
   ]
  },
  {
   "cell_type": "code",
   "execution_count": null,
   "metadata": {
    "pycharm": {
     "is_executing": false
    }
   },
   "outputs": [],
   "source": [
    "lgca.timestep()\n",
    "lgca.print_nodes()"
   ]
  },
  {
   "cell_type": "markdown",
   "metadata": {},
   "source": [
    "To simulate the dynamics for longer times and record the steps we use the class method `timeevo`. It takes the keyword arguments `timesteps`, that sets the number of time steps to simulate. Also, all configurations can be recorded using `record=True`. To only record the density profile set `recorddens=True`. The total number of cells can be recorded with `recordN=True`, which is also the default."
   ]
  },
  {
   "cell_type": "code",
   "execution_count": null,
   "metadata": {
    "pycharm": {
     "is_executing": false
    }
   },
   "outputs": [],
   "source": [
    "lgca.timeevo(timesteps=100)\n",
    "lgca.print_nodes()"
   ]
  },
  {
   "cell_type": "markdown",
   "metadata": {},
   "source": [
    "## Visualization\n",
    "Visualization and plotting are different for 1D and 2D lattice geometries. The following section only applies to the 2D lattices, and the 1D equivalent is mentioned later. \n",
    "### Plotting\n",
    "#### Density profile\n",
    "The python package offers several methods to visualize LGCA states. A simple method is plotting the current density profile $$n(r,k) = \\sum_i s_i (r,k).$$ Consider a LGCA on a square lattice,"
   ]
  },
  {
   "cell_type": "code",
   "execution_count": null,
   "metadata": {
    "pycharm": {
     "is_executing": false,
     "name": "#%%\n"
    }
   },
   "outputs": [],
   "source": [
    "### use this in PyCharm\n",
    "# import matplotlib \n",
    "# matplotlib.use('Qt5Agg')\n",
    "import matplotlib.pyplot as plt\n",
    "lgca = get_lgca(geometry='square')\n",
    "lgca.plot_density()"
   ]
  },
  {
   "cell_type": "markdown",
   "metadata": {},
   "source": [
    "#### Flux\n",
    "Sometimes it is more useful to plot the local flux $$ \\mathbf{J}(r,k) = \\sum_i s_i \\mathbf{c_i}. $$ This can be achieved like follows:"
   ]
  },
  {
   "cell_type": "code",
   "execution_count": null,
   "metadata": {
    "pycharm": {
     "is_executing": false
    }
   },
   "outputs": [],
   "source": [
    "plt.figure()\n",
    "lgca.plot_flux()"
   ]
  },
  {
   "cell_type": "markdown",
   "metadata": {},
   "source": [
    "Alternatively it is possible to plot a corresponding flow field:"
   ]
  },
  {
   "cell_type": "code",
   "execution_count": null,
   "metadata": {
    "pycharm": {
     "is_executing": false
    }
   },
   "outputs": [],
   "source": [
    "plt.figure()\n",
    "lgca.plot_flow()"
   ]
  },
  {
   "cell_type": "markdown",
   "metadata": {},
   "source": [
    "#### Full configuration\n",
    "For sketches, it is sometimes useful to plot the full lattice configuration. This is only advisable on small lattices. See the following example. Notice that the rest channels are depicted as circles, filled by a number, indicating the number of filled rest channels, while the occupied velocity channels are showns as black arrows."
   ]
  },
  {
   "cell_type": "code",
   "execution_count": null,
   "metadata": {
    "pycharm": {
     "is_executing": false
    }
   },
   "outputs": [],
   "source": [
    "import numpy as np\n",
    "nodes = np.zeros((2, 2, 6))\n",
    "nodes[0, 0, :] = 1\n",
    "nodes[1, 1, 4:] = 1\n",
    "nodes[0, 1, :4] = 1\n",
    "nodes[1, 0, 0] = 1\n",
    "print(nodes)\n",
    "lgca = get_lgca(geometry='square', density=0.25, nodes=nodes)\n",
    "lgca.plot_config()"
   ]
  },
  {
   "cell_type": "markdown",
   "metadata": {},
   "source": [
    "### Animation of dynamics\n",
    "After recording configurations with the `timeevo` method, we can animate the dynamics (or plot it in a 2D plot, in the case of a 1D lattice)."
   ]
  },
  {
   "cell_type": "code",
   "execution_count": null,
   "metadata": {
    "pycharm": {
     "is_executing": false
    }
   },
   "outputs": [],
   "source": [
    "lgca = get_lgca(geometry='hex', interaction='aggregation', dims=(10, 10), restchannels=0)\n",
    "lgca.timeevo(record=True)"
   ]
  },
  {
   "cell_type": "markdown",
   "metadata": {},
   "source": [
    "To animate the density we use the `animate_density` method like follows"
   ]
  },
  {
   "cell_type": "code",
   "execution_count": null,
   "metadata": {
    "pycharm": {
     "is_executing": false
    },
    "scrolled": true
   },
   "outputs": [],
   "source": [
    "plt.figure()\n",
    "lgca.animate_density(interval=100)"
   ]
  },
  {
   "cell_type": "markdown",
   "metadata": {},
   "source": [
    "Similarly, we can animate the flux, flow, and configuration:"
   ]
  },
  {
   "cell_type": "markdown",
   "metadata": {},
   "source": [
    "The underlying lattice can be plotted using the keyword `edgecolor=color`, where `color`is the color of your choise as a string."
   ]
  },
  {
   "cell_type": "code",
   "execution_count": null,
   "metadata": {
    "pycharm": {
     "is_executing": false
    }
   },
   "outputs": [],
   "source": [
    "lgca.animate_flux(interval=100, edgecolor='k')"
   ]
  },
  {
   "cell_type": "code",
   "execution_count": null,
   "metadata": {
    "pycharm": {
     "is_executing": false
    }
   },
   "outputs": [],
   "source": [
    "lgca.animate_flow()"
   ]
  },
  {
   "cell_type": "markdown",
   "metadata": {},
   "source": [
    "The full configuration can also be animated. The keyword `grid` allows to turn on and off the visualization of the underlaying lattice grid."
   ]
  },
  {
   "cell_type": "code",
   "execution_count": null,
   "metadata": {
    "pycharm": {
     "is_executing": false
    }
   },
   "outputs": [],
   "source": [
    "lgca.animate_config()"
   ]
  },
  {
   "cell_type": "markdown",
   "metadata": {},
   "source": [
    "### Live animations\n",
    "Using the same logic as before, we can also animate the system on-the-fly. This is especially useful during interaction design and debugging."
   ]
  },
  {
   "cell_type": "code",
   "execution_count": null,
   "metadata": {
    "pycharm": {
     "is_executing": false
    }
   },
   "outputs": [],
   "source": [
    "lgca.live_animate_density()"
   ]
  },
  {
   "cell_type": "code",
   "execution_count": null,
   "metadata": {
    "pycharm": {
     "is_executing": false
    }
   },
   "outputs": [],
   "source": [
    "lgca.set_interaction(interaction='alignment')\n",
    "ani = lgca.live_animate_flux()"
   ]
  },
  {
   "cell_type": "markdown",
   "metadata": {},
   "source": [
    "We can also change the boundary conditions, e.g. we change from the default periodic boundaries to reflecting boundaries here."
   ]
  },
  {
   "cell_type": "code",
   "execution_count": null,
   "metadata": {
    "pycharm": {
     "is_executing": false
    }
   },
   "outputs": [],
   "source": [
    "lgca.set_bc('refl')\n",
    "lgca.live_animate_config()"
   ]
  },
  {
   "cell_type": "markdown",
   "metadata": {},
   "source": [
    "## Examples\n",
    "### Alignment"
   ]
  },
  {
   "cell_type": "code",
   "execution_count": null,
   "metadata": {
    "pycharm": {
     "is_executing": false
    }
   },
   "outputs": [],
   "source": [
    "lgca = get_lgca(geometry='hex', interaction='alignment', bc='refl')\n",
    "lgca.live_animate_flux()"
   ]
  },
  {
   "cell_type": "markdown",
   "metadata": {},
   "source": [
    "### Aggregation"
   ]
  },
  {
   "cell_type": "code",
   "execution_count": null,
   "metadata": {
    "pycharm": {
     "is_executing": false
    }
   },
   "outputs": [],
   "source": [
    "lgca = get_lgca(interaction='aggregation', density=0.5, restchannels=3)\n",
    "lgca.live_animate_density()"
   ]
  },
  {
   "cell_type": "code",
   "execution_count": null,
   "metadata": {
    "pycharm": {
     "is_executing": false
    }
   },
   "outputs": [],
   "source": [
    "lgca.timeevo(100, record=True)"
   ]
  },
  {
   "cell_type": "code",
   "execution_count": null,
   "metadata": {
    "pycharm": {
     "is_executing": false
    }
   },
   "outputs": [],
   "source": [
    "print(lgca.nodes_t.shape)"
   ]
  },
  {
   "cell_type": "markdown",
   "metadata": {},
   "source": [
    "### Nematic interaction"
   ]
  },
  {
   "cell_type": "code",
   "execution_count": null,
   "metadata": {
    "pycharm": {
     "is_executing": false
    }
   },
   "outputs": [],
   "source": [
    "lgca = get_lgca(interaction='nematic')\n",
    "lgca.live_animate_flux()"
   ]
  },
  {
   "cell_type": "markdown",
   "metadata": {},
   "source": [
    "### Chemotaxis"
   ]
  },
  {
   "cell_type": "code",
   "execution_count": null,
   "metadata": {
    "pycharm": {
     "is_executing": false
    }
   },
   "outputs": [],
   "source": [
    "lgca = get_lgca(interaction='chemotaxis')\n",
    "lgca.live_animate_density()"
   ]
  },
  {
   "cell_type": "markdown",
   "metadata": {},
   "source": [
    "### Persistent movement"
   ]
  },
  {
   "cell_type": "code",
   "execution_count": 1,
   "metadata": {
    "pycharm": {
     "is_executing": false
    }
   },
   "outputs": [
    {
     "name": "stdout",
     "output_type": "stream",
     "text": [
      "Progress: [####################] 100% Done...\n",
      "HASS\n"
     ]
    },
    {
     "data": {
      "application/javascript": [
       "/* Put everything inside the global mpl namespace */\n",
       "window.mpl = {};\n",
       "\n",
       "\n",
       "mpl.get_websocket_type = function() {\n",
       "    if (typeof(WebSocket) !== 'undefined') {\n",
       "        return WebSocket;\n",
       "    } else if (typeof(MozWebSocket) !== 'undefined') {\n",
       "        return MozWebSocket;\n",
       "    } else {\n",
       "        alert('Your browser does not have WebSocket support.' +\n",
       "              'Please try Chrome, Safari or Firefox ≥ 6. ' +\n",
       "              'Firefox 4 and 5 are also supported but you ' +\n",
       "              'have to enable WebSockets in about:config.');\n",
       "    };\n",
       "}\n",
       "\n",
       "mpl.figure = function(figure_id, websocket, ondownload, parent_element) {\n",
       "    this.id = figure_id;\n",
       "\n",
       "    this.ws = websocket;\n",
       "\n",
       "    this.supports_binary = (this.ws.binaryType != undefined);\n",
       "\n",
       "    if (!this.supports_binary) {\n",
       "        var warnings = document.getElementById(\"mpl-warnings\");\n",
       "        if (warnings) {\n",
       "            warnings.style.display = 'block';\n",
       "            warnings.textContent = (\n",
       "                \"This browser does not support binary websocket messages. \" +\n",
       "                    \"Performance may be slow.\");\n",
       "        }\n",
       "    }\n",
       "\n",
       "    this.imageObj = new Image();\n",
       "\n",
       "    this.context = undefined;\n",
       "    this.message = undefined;\n",
       "    this.canvas = undefined;\n",
       "    this.rubberband_canvas = undefined;\n",
       "    this.rubberband_context = undefined;\n",
       "    this.format_dropdown = undefined;\n",
       "\n",
       "    this.image_mode = 'full';\n",
       "\n",
       "    this.root = $('<div/>');\n",
       "    this._root_extra_style(this.root)\n",
       "    this.root.attr('style', 'display: inline-block');\n",
       "\n",
       "    $(parent_element).append(this.root);\n",
       "\n",
       "    this._init_header(this);\n",
       "    this._init_canvas(this);\n",
       "    this._init_toolbar(this);\n",
       "\n",
       "    var fig = this;\n",
       "\n",
       "    this.waiting = false;\n",
       "\n",
       "    this.ws.onopen =  function () {\n",
       "            fig.send_message(\"supports_binary\", {value: fig.supports_binary});\n",
       "            fig.send_message(\"send_image_mode\", {});\n",
       "            if (mpl.ratio != 1) {\n",
       "                fig.send_message(\"set_dpi_ratio\", {'dpi_ratio': mpl.ratio});\n",
       "            }\n",
       "            fig.send_message(\"refresh\", {});\n",
       "        }\n",
       "\n",
       "    this.imageObj.onload = function() {\n",
       "            if (fig.image_mode == 'full') {\n",
       "                // Full images could contain transparency (where diff images\n",
       "                // almost always do), so we need to clear the canvas so that\n",
       "                // there is no ghosting.\n",
       "                fig.context.clearRect(0, 0, fig.canvas.width, fig.canvas.height);\n",
       "            }\n",
       "            fig.context.drawImage(fig.imageObj, 0, 0);\n",
       "        };\n",
       "\n",
       "    this.imageObj.onunload = function() {\n",
       "        fig.ws.close();\n",
       "    }\n",
       "\n",
       "    this.ws.onmessage = this._make_on_message_function(this);\n",
       "\n",
       "    this.ondownload = ondownload;\n",
       "}\n",
       "\n",
       "mpl.figure.prototype._init_header = function() {\n",
       "    var titlebar = $(\n",
       "        '<div class=\"ui-dialog-titlebar ui-widget-header ui-corner-all ' +\n",
       "        'ui-helper-clearfix\"/>');\n",
       "    var titletext = $(\n",
       "        '<div class=\"ui-dialog-title\" style=\"width: 100%; ' +\n",
       "        'text-align: center; padding: 3px;\"/>');\n",
       "    titlebar.append(titletext)\n",
       "    this.root.append(titlebar);\n",
       "    this.header = titletext[0];\n",
       "}\n",
       "\n",
       "\n",
       "\n",
       "mpl.figure.prototype._canvas_extra_style = function(canvas_div) {\n",
       "\n",
       "}\n",
       "\n",
       "\n",
       "mpl.figure.prototype._root_extra_style = function(canvas_div) {\n",
       "\n",
       "}\n",
       "\n",
       "mpl.figure.prototype._init_canvas = function() {\n",
       "    var fig = this;\n",
       "\n",
       "    var canvas_div = $('<div/>');\n",
       "\n",
       "    canvas_div.attr('style', 'position: relative; clear: both; outline: 0');\n",
       "\n",
       "    function canvas_keyboard_event(event) {\n",
       "        return fig.key_event(event, event['data']);\n",
       "    }\n",
       "\n",
       "    canvas_div.keydown('key_press', canvas_keyboard_event);\n",
       "    canvas_div.keyup('key_release', canvas_keyboard_event);\n",
       "    this.canvas_div = canvas_div\n",
       "    this._canvas_extra_style(canvas_div)\n",
       "    this.root.append(canvas_div);\n",
       "\n",
       "    var canvas = $('<canvas/>');\n",
       "    canvas.addClass('mpl-canvas');\n",
       "    canvas.attr('style', \"left: 0; top: 0; z-index: 0; outline: 0\")\n",
       "\n",
       "    this.canvas = canvas[0];\n",
       "    this.context = canvas[0].getContext(\"2d\");\n",
       "\n",
       "    var backingStore = this.context.backingStorePixelRatio ||\n",
       "\tthis.context.webkitBackingStorePixelRatio ||\n",
       "\tthis.context.mozBackingStorePixelRatio ||\n",
       "\tthis.context.msBackingStorePixelRatio ||\n",
       "\tthis.context.oBackingStorePixelRatio ||\n",
       "\tthis.context.backingStorePixelRatio || 1;\n",
       "\n",
       "    mpl.ratio = (window.devicePixelRatio || 1) / backingStore;\n",
       "\n",
       "    var rubberband = $('<canvas/>');\n",
       "    rubberband.attr('style', \"position: absolute; left: 0; top: 0; z-index: 1;\")\n",
       "\n",
       "    var pass_mouse_events = true;\n",
       "\n",
       "    canvas_div.resizable({\n",
       "        start: function(event, ui) {\n",
       "            pass_mouse_events = false;\n",
       "        },\n",
       "        resize: function(event, ui) {\n",
       "            fig.request_resize(ui.size.width, ui.size.height);\n",
       "        },\n",
       "        stop: function(event, ui) {\n",
       "            pass_mouse_events = true;\n",
       "            fig.request_resize(ui.size.width, ui.size.height);\n",
       "        },\n",
       "    });\n",
       "\n",
       "    function mouse_event_fn(event) {\n",
       "        if (pass_mouse_events)\n",
       "            return fig.mouse_event(event, event['data']);\n",
       "    }\n",
       "\n",
       "    rubberband.mousedown('button_press', mouse_event_fn);\n",
       "    rubberband.mouseup('button_release', mouse_event_fn);\n",
       "    // Throttle sequential mouse events to 1 every 20ms.\n",
       "    rubberband.mousemove('motion_notify', mouse_event_fn);\n",
       "\n",
       "    rubberband.mouseenter('figure_enter', mouse_event_fn);\n",
       "    rubberband.mouseleave('figure_leave', mouse_event_fn);\n",
       "\n",
       "    canvas_div.on(\"wheel\", function (event) {\n",
       "        event = event.originalEvent;\n",
       "        event['data'] = 'scroll'\n",
       "        if (event.deltaY < 0) {\n",
       "            event.step = 1;\n",
       "        } else {\n",
       "            event.step = -1;\n",
       "        }\n",
       "        mouse_event_fn(event);\n",
       "    });\n",
       "\n",
       "    canvas_div.append(canvas);\n",
       "    canvas_div.append(rubberband);\n",
       "\n",
       "    this.rubberband = rubberband;\n",
       "    this.rubberband_canvas = rubberband[0];\n",
       "    this.rubberband_context = rubberband[0].getContext(\"2d\");\n",
       "    this.rubberband_context.strokeStyle = \"#000000\";\n",
       "\n",
       "    this._resize_canvas = function(width, height) {\n",
       "        // Keep the size of the canvas, canvas container, and rubber band\n",
       "        // canvas in synch.\n",
       "        canvas_div.css('width', width)\n",
       "        canvas_div.css('height', height)\n",
       "\n",
       "        canvas.attr('width', width * mpl.ratio);\n",
       "        canvas.attr('height', height * mpl.ratio);\n",
       "        canvas.attr('style', 'width: ' + width + 'px; height: ' + height + 'px;');\n",
       "\n",
       "        rubberband.attr('width', width);\n",
       "        rubberband.attr('height', height);\n",
       "    }\n",
       "\n",
       "    // Set the figure to an initial 600x600px, this will subsequently be updated\n",
       "    // upon first draw.\n",
       "    this._resize_canvas(600, 600);\n",
       "\n",
       "    // Disable right mouse context menu.\n",
       "    $(this.rubberband_canvas).bind(\"contextmenu\",function(e){\n",
       "        return false;\n",
       "    });\n",
       "\n",
       "    function set_focus () {\n",
       "        canvas.focus();\n",
       "        canvas_div.focus();\n",
       "    }\n",
       "\n",
       "    window.setTimeout(set_focus, 100);\n",
       "}\n",
       "\n",
       "mpl.figure.prototype._init_toolbar = function() {\n",
       "    var fig = this;\n",
       "\n",
       "    var nav_element = $('<div/>')\n",
       "    nav_element.attr('style', 'width: 100%');\n",
       "    this.root.append(nav_element);\n",
       "\n",
       "    // Define a callback function for later on.\n",
       "    function toolbar_event(event) {\n",
       "        return fig.toolbar_button_onclick(event['data']);\n",
       "    }\n",
       "    function toolbar_mouse_event(event) {\n",
       "        return fig.toolbar_button_onmouseover(event['data']);\n",
       "    }\n",
       "\n",
       "    for(var toolbar_ind in mpl.toolbar_items) {\n",
       "        var name = mpl.toolbar_items[toolbar_ind][0];\n",
       "        var tooltip = mpl.toolbar_items[toolbar_ind][1];\n",
       "        var image = mpl.toolbar_items[toolbar_ind][2];\n",
       "        var method_name = mpl.toolbar_items[toolbar_ind][3];\n",
       "\n",
       "        if (!name) {\n",
       "            // put a spacer in here.\n",
       "            continue;\n",
       "        }\n",
       "        var button = $('<button/>');\n",
       "        button.addClass('ui-button ui-widget ui-state-default ui-corner-all ' +\n",
       "                        'ui-button-icon-only');\n",
       "        button.attr('role', 'button');\n",
       "        button.attr('aria-disabled', 'false');\n",
       "        button.click(method_name, toolbar_event);\n",
       "        button.mouseover(tooltip, toolbar_mouse_event);\n",
       "\n",
       "        var icon_img = $('<span/>');\n",
       "        icon_img.addClass('ui-button-icon-primary ui-icon');\n",
       "        icon_img.addClass(image);\n",
       "        icon_img.addClass('ui-corner-all');\n",
       "\n",
       "        var tooltip_span = $('<span/>');\n",
       "        tooltip_span.addClass('ui-button-text');\n",
       "        tooltip_span.html(tooltip);\n",
       "\n",
       "        button.append(icon_img);\n",
       "        button.append(tooltip_span);\n",
       "\n",
       "        nav_element.append(button);\n",
       "    }\n",
       "\n",
       "    var fmt_picker_span = $('<span/>');\n",
       "\n",
       "    var fmt_picker = $('<select/>');\n",
       "    fmt_picker.addClass('mpl-toolbar-option ui-widget ui-widget-content');\n",
       "    fmt_picker_span.append(fmt_picker);\n",
       "    nav_element.append(fmt_picker_span);\n",
       "    this.format_dropdown = fmt_picker[0];\n",
       "\n",
       "    for (var ind in mpl.extensions) {\n",
       "        var fmt = mpl.extensions[ind];\n",
       "        var option = $(\n",
       "            '<option/>', {selected: fmt === mpl.default_extension}).html(fmt);\n",
       "        fmt_picker.append(option)\n",
       "    }\n",
       "\n",
       "    // Add hover states to the ui-buttons\n",
       "    $( \".ui-button\" ).hover(\n",
       "        function() { $(this).addClass(\"ui-state-hover\");},\n",
       "        function() { $(this).removeClass(\"ui-state-hover\");}\n",
       "    );\n",
       "\n",
       "    var status_bar = $('<span class=\"mpl-message\"/>');\n",
       "    nav_element.append(status_bar);\n",
       "    this.message = status_bar[0];\n",
       "}\n",
       "\n",
       "mpl.figure.prototype.request_resize = function(x_pixels, y_pixels) {\n",
       "    // Request matplotlib to resize the figure. Matplotlib will then trigger a resize in the client,\n",
       "    // which will in turn request a refresh of the image.\n",
       "    this.send_message('resize', {'width': x_pixels, 'height': y_pixels});\n",
       "}\n",
       "\n",
       "mpl.figure.prototype.send_message = function(type, properties) {\n",
       "    properties['type'] = type;\n",
       "    properties['figure_id'] = this.id;\n",
       "    this.ws.send(JSON.stringify(properties));\n",
       "}\n",
       "\n",
       "mpl.figure.prototype.send_draw_message = function() {\n",
       "    if (!this.waiting) {\n",
       "        this.waiting = true;\n",
       "        this.ws.send(JSON.stringify({type: \"draw\", figure_id: this.id}));\n",
       "    }\n",
       "}\n",
       "\n",
       "\n",
       "mpl.figure.prototype.handle_save = function(fig, msg) {\n",
       "    var format_dropdown = fig.format_dropdown;\n",
       "    var format = format_dropdown.options[format_dropdown.selectedIndex].value;\n",
       "    fig.ondownload(fig, format);\n",
       "}\n",
       "\n",
       "\n",
       "mpl.figure.prototype.handle_resize = function(fig, msg) {\n",
       "    var size = msg['size'];\n",
       "    if (size[0] != fig.canvas.width || size[1] != fig.canvas.height) {\n",
       "        fig._resize_canvas(size[0], size[1]);\n",
       "        fig.send_message(\"refresh\", {});\n",
       "    };\n",
       "}\n",
       "\n",
       "mpl.figure.prototype.handle_rubberband = function(fig, msg) {\n",
       "    var x0 = msg['x0'] / mpl.ratio;\n",
       "    var y0 = (fig.canvas.height - msg['y0']) / mpl.ratio;\n",
       "    var x1 = msg['x1'] / mpl.ratio;\n",
       "    var y1 = (fig.canvas.height - msg['y1']) / mpl.ratio;\n",
       "    x0 = Math.floor(x0) + 0.5;\n",
       "    y0 = Math.floor(y0) + 0.5;\n",
       "    x1 = Math.floor(x1) + 0.5;\n",
       "    y1 = Math.floor(y1) + 0.5;\n",
       "    var min_x = Math.min(x0, x1);\n",
       "    var min_y = Math.min(y0, y1);\n",
       "    var width = Math.abs(x1 - x0);\n",
       "    var height = Math.abs(y1 - y0);\n",
       "\n",
       "    fig.rubberband_context.clearRect(\n",
       "        0, 0, fig.canvas.width, fig.canvas.height);\n",
       "\n",
       "    fig.rubberband_context.strokeRect(min_x, min_y, width, height);\n",
       "}\n",
       "\n",
       "mpl.figure.prototype.handle_figure_label = function(fig, msg) {\n",
       "    // Updates the figure title.\n",
       "    fig.header.textContent = msg['label'];\n",
       "}\n",
       "\n",
       "mpl.figure.prototype.handle_cursor = function(fig, msg) {\n",
       "    var cursor = msg['cursor'];\n",
       "    switch(cursor)\n",
       "    {\n",
       "    case 0:\n",
       "        cursor = 'pointer';\n",
       "        break;\n",
       "    case 1:\n",
       "        cursor = 'default';\n",
       "        break;\n",
       "    case 2:\n",
       "        cursor = 'crosshair';\n",
       "        break;\n",
       "    case 3:\n",
       "        cursor = 'move';\n",
       "        break;\n",
       "    }\n",
       "    fig.rubberband_canvas.style.cursor = cursor;\n",
       "}\n",
       "\n",
       "mpl.figure.prototype.handle_message = function(fig, msg) {\n",
       "    fig.message.textContent = msg['message'];\n",
       "}\n",
       "\n",
       "mpl.figure.prototype.handle_draw = function(fig, msg) {\n",
       "    // Request the server to send over a new figure.\n",
       "    fig.send_draw_message();\n",
       "}\n",
       "\n",
       "mpl.figure.prototype.handle_image_mode = function(fig, msg) {\n",
       "    fig.image_mode = msg['mode'];\n",
       "}\n",
       "\n",
       "mpl.figure.prototype.updated_canvas_event = function() {\n",
       "    // Called whenever the canvas gets updated.\n",
       "    this.send_message(\"ack\", {});\n",
       "}\n",
       "\n",
       "// A function to construct a web socket function for onmessage handling.\n",
       "// Called in the figure constructor.\n",
       "mpl.figure.prototype._make_on_message_function = function(fig) {\n",
       "    return function socket_on_message(evt) {\n",
       "        if (evt.data instanceof Blob) {\n",
       "            /* FIXME: We get \"Resource interpreted as Image but\n",
       "             * transferred with MIME type text/plain:\" errors on\n",
       "             * Chrome.  But how to set the MIME type?  It doesn't seem\n",
       "             * to be part of the websocket stream */\n",
       "            evt.data.type = \"image/png\";\n",
       "\n",
       "            /* Free the memory for the previous frames */\n",
       "            if (fig.imageObj.src) {\n",
       "                (window.URL || window.webkitURL).revokeObjectURL(\n",
       "                    fig.imageObj.src);\n",
       "            }\n",
       "\n",
       "            fig.imageObj.src = (window.URL || window.webkitURL).createObjectURL(\n",
       "                evt.data);\n",
       "            fig.updated_canvas_event();\n",
       "            fig.waiting = false;\n",
       "            return;\n",
       "        }\n",
       "        else if (typeof evt.data === 'string' && evt.data.slice(0, 21) == \"data:image/png;base64\") {\n",
       "            fig.imageObj.src = evt.data;\n",
       "            fig.updated_canvas_event();\n",
       "            fig.waiting = false;\n",
       "            return;\n",
       "        }\n",
       "\n",
       "        var msg = JSON.parse(evt.data);\n",
       "        var msg_type = msg['type'];\n",
       "\n",
       "        // Call the  \"handle_{type}\" callback, which takes\n",
       "        // the figure and JSON message as its only arguments.\n",
       "        try {\n",
       "            var callback = fig[\"handle_\" + msg_type];\n",
       "        } catch (e) {\n",
       "            console.log(\"No handler for the '\" + msg_type + \"' message type: \", msg);\n",
       "            return;\n",
       "        }\n",
       "\n",
       "        if (callback) {\n",
       "            try {\n",
       "                // console.log(\"Handling '\" + msg_type + \"' message: \", msg);\n",
       "                callback(fig, msg);\n",
       "            } catch (e) {\n",
       "                console.log(\"Exception inside the 'handler_\" + msg_type + \"' callback:\", e, e.stack, msg);\n",
       "            }\n",
       "        }\n",
       "    };\n",
       "}\n",
       "\n",
       "// from http://stackoverflow.com/questions/1114465/getting-mouse-location-in-canvas\n",
       "mpl.findpos = function(e) {\n",
       "    //this section is from http://www.quirksmode.org/js/events_properties.html\n",
       "    var targ;\n",
       "    if (!e)\n",
       "        e = window.event;\n",
       "    if (e.target)\n",
       "        targ = e.target;\n",
       "    else if (e.srcElement)\n",
       "        targ = e.srcElement;\n",
       "    if (targ.nodeType == 3) // defeat Safari bug\n",
       "        targ = targ.parentNode;\n",
       "\n",
       "    // jQuery normalizes the pageX and pageY\n",
       "    // pageX,Y are the mouse positions relative to the document\n",
       "    // offset() returns the position of the element relative to the document\n",
       "    var x = e.pageX - $(targ).offset().left;\n",
       "    var y = e.pageY - $(targ).offset().top;\n",
       "\n",
       "    return {\"x\": x, \"y\": y};\n",
       "};\n",
       "\n",
       "/*\n",
       " * return a copy of an object with only non-object keys\n",
       " * we need this to avoid circular references\n",
       " * http://stackoverflow.com/a/24161582/3208463\n",
       " */\n",
       "function simpleKeys (original) {\n",
       "  return Object.keys(original).reduce(function (obj, key) {\n",
       "    if (typeof original[key] !== 'object')\n",
       "        obj[key] = original[key]\n",
       "    return obj;\n",
       "  }, {});\n",
       "}\n",
       "\n",
       "mpl.figure.prototype.mouse_event = function(event, name) {\n",
       "    var canvas_pos = mpl.findpos(event)\n",
       "\n",
       "    if (name === 'button_press')\n",
       "    {\n",
       "        this.canvas.focus();\n",
       "        this.canvas_div.focus();\n",
       "    }\n",
       "\n",
       "    var x = canvas_pos.x * mpl.ratio;\n",
       "    var y = canvas_pos.y * mpl.ratio;\n",
       "\n",
       "    this.send_message(name, {x: x, y: y, button: event.button,\n",
       "                             step: event.step,\n",
       "                             guiEvent: simpleKeys(event)});\n",
       "\n",
       "    /* This prevents the web browser from automatically changing to\n",
       "     * the text insertion cursor when the button is pressed.  We want\n",
       "     * to control all of the cursor setting manually through the\n",
       "     * 'cursor' event from matplotlib */\n",
       "    event.preventDefault();\n",
       "    return false;\n",
       "}\n",
       "\n",
       "mpl.figure.prototype._key_event_extra = function(event, name) {\n",
       "    // Handle any extra behaviour associated with a key event\n",
       "}\n",
       "\n",
       "mpl.figure.prototype.key_event = function(event, name) {\n",
       "\n",
       "    // Prevent repeat events\n",
       "    if (name == 'key_press')\n",
       "    {\n",
       "        if (event.which === this._key)\n",
       "            return;\n",
       "        else\n",
       "            this._key = event.which;\n",
       "    }\n",
       "    if (name == 'key_release')\n",
       "        this._key = null;\n",
       "\n",
       "    var value = '';\n",
       "    if (event.ctrlKey && event.which != 17)\n",
       "        value += \"ctrl+\";\n",
       "    if (event.altKey && event.which != 18)\n",
       "        value += \"alt+\";\n",
       "    if (event.shiftKey && event.which != 16)\n",
       "        value += \"shift+\";\n",
       "\n",
       "    value += 'k';\n",
       "    value += event.which.toString();\n",
       "\n",
       "    this._key_event_extra(event, name);\n",
       "\n",
       "    this.send_message(name, {key: value,\n",
       "                             guiEvent: simpleKeys(event)});\n",
       "    return false;\n",
       "}\n",
       "\n",
       "mpl.figure.prototype.toolbar_button_onclick = function(name) {\n",
       "    if (name == 'download') {\n",
       "        this.handle_save(this, null);\n",
       "    } else {\n",
       "        this.send_message(\"toolbar_button\", {name: name});\n",
       "    }\n",
       "};\n",
       "\n",
       "mpl.figure.prototype.toolbar_button_onmouseover = function(tooltip) {\n",
       "    this.message.textContent = tooltip;\n",
       "};\n",
       "mpl.toolbar_items = [[\"Home\", \"Reset original view\", \"fa fa-home icon-home\", \"home\"], [\"Back\", \"Back to previous view\", \"fa fa-arrow-left icon-arrow-left\", \"back\"], [\"Forward\", \"Forward to next view\", \"fa fa-arrow-right icon-arrow-right\", \"forward\"], [\"\", \"\", \"\", \"\"], [\"Pan\", \"Pan axes with left mouse, zoom with right\", \"fa fa-arrows icon-move\", \"pan\"], [\"Zoom\", \"Zoom to rectangle\", \"fa fa-square-o icon-check-empty\", \"zoom\"], [\"\", \"\", \"\", \"\"], [\"Download\", \"Download plot\", \"fa fa-floppy-o icon-save\", \"download\"]];\n",
       "\n",
       "mpl.extensions = [\"eps\", \"jpeg\", \"pdf\", \"png\", \"ps\", \"raw\", \"svg\", \"tif\"];\n",
       "\n",
       "mpl.default_extension = \"png\";var comm_websocket_adapter = function(comm) {\n",
       "    // Create a \"websocket\"-like object which calls the given IPython comm\n",
       "    // object with the appropriate methods. Currently this is a non binary\n",
       "    // socket, so there is still some room for performance tuning.\n",
       "    var ws = {};\n",
       "\n",
       "    ws.close = function() {\n",
       "        comm.close()\n",
       "    };\n",
       "    ws.send = function(m) {\n",
       "        //console.log('sending', m);\n",
       "        comm.send(m);\n",
       "    };\n",
       "    // Register the callback with on_msg.\n",
       "    comm.on_msg(function(msg) {\n",
       "        //console.log('receiving', msg['content']['data'], msg);\n",
       "        // Pass the mpl event to the overridden (by mpl) onmessage function.\n",
       "        ws.onmessage(msg['content']['data'])\n",
       "    });\n",
       "    return ws;\n",
       "}\n",
       "\n",
       "mpl.mpl_figure_comm = function(comm, msg) {\n",
       "    // This is the function which gets called when the mpl process\n",
       "    // starts-up an IPython Comm through the \"matplotlib\" channel.\n",
       "\n",
       "    var id = msg.content.data.id;\n",
       "    // Get hold of the div created by the display call when the Comm\n",
       "    // socket was opened in Python.\n",
       "    var element = $(\"#\" + id);\n",
       "    var ws_proxy = comm_websocket_adapter(comm)\n",
       "\n",
       "    function ondownload(figure, format) {\n",
       "        window.open(figure.imageObj.src);\n",
       "    }\n",
       "\n",
       "    var fig = new mpl.figure(id, ws_proxy,\n",
       "                           ondownload,\n",
       "                           element.get(0));\n",
       "\n",
       "    // Call onopen now - mpl needs it, as it is assuming we've passed it a real\n",
       "    // web socket which is closed, not our websocket->open comm proxy.\n",
       "    ws_proxy.onopen();\n",
       "\n",
       "    fig.parent_element = element.get(0);\n",
       "    fig.cell_info = mpl.find_output_cell(\"<div id='\" + id + \"'></div>\");\n",
       "    if (!fig.cell_info) {\n",
       "        console.error(\"Failed to find cell for figure\", id, fig);\n",
       "        return;\n",
       "    }\n",
       "\n",
       "    var output_index = fig.cell_info[2]\n",
       "    var cell = fig.cell_info[0];\n",
       "\n",
       "};\n",
       "\n",
       "mpl.figure.prototype.handle_close = function(fig, msg) {\n",
       "    var width = fig.canvas.width/mpl.ratio\n",
       "    fig.root.unbind('remove')\n",
       "\n",
       "    // Update the output cell to use the data from the current canvas.\n",
       "    fig.push_to_output();\n",
       "    var dataURL = fig.canvas.toDataURL();\n",
       "    // Re-enable the keyboard manager in IPython - without this line, in FF,\n",
       "    // the notebook keyboard shortcuts fail.\n",
       "    IPython.keyboard_manager.enable()\n",
       "    $(fig.parent_element).html('<img src=\"' + dataURL + '\" width=\"' + width + '\">');\n",
       "    fig.close_ws(fig, msg);\n",
       "}\n",
       "\n",
       "mpl.figure.prototype.close_ws = function(fig, msg){\n",
       "    fig.send_message('closing', msg);\n",
       "    // fig.ws.close()\n",
       "}\n",
       "\n",
       "mpl.figure.prototype.push_to_output = function(remove_interactive) {\n",
       "    // Turn the data on the canvas into data in the output cell.\n",
       "    var width = this.canvas.width/mpl.ratio\n",
       "    var dataURL = this.canvas.toDataURL();\n",
       "    this.cell_info[1]['text/html'] = '<img src=\"' + dataURL + '\" width=\"' + width + '\">';\n",
       "}\n",
       "\n",
       "mpl.figure.prototype.updated_canvas_event = function() {\n",
       "    // Tell IPython that the notebook contents must change.\n",
       "    IPython.notebook.set_dirty(true);\n",
       "    this.send_message(\"ack\", {});\n",
       "    var fig = this;\n",
       "    // Wait a second, then push the new image to the DOM so\n",
       "    // that it is saved nicely (might be nice to debounce this).\n",
       "    setTimeout(function () { fig.push_to_output() }, 1000);\n",
       "}\n",
       "\n",
       "mpl.figure.prototype._init_toolbar = function() {\n",
       "    var fig = this;\n",
       "\n",
       "    var nav_element = $('<div/>')\n",
       "    nav_element.attr('style', 'width: 100%');\n",
       "    this.root.append(nav_element);\n",
       "\n",
       "    // Define a callback function for later on.\n",
       "    function toolbar_event(event) {\n",
       "        return fig.toolbar_button_onclick(event['data']);\n",
       "    }\n",
       "    function toolbar_mouse_event(event) {\n",
       "        return fig.toolbar_button_onmouseover(event['data']);\n",
       "    }\n",
       "\n",
       "    for(var toolbar_ind in mpl.toolbar_items){\n",
       "        var name = mpl.toolbar_items[toolbar_ind][0];\n",
       "        var tooltip = mpl.toolbar_items[toolbar_ind][1];\n",
       "        var image = mpl.toolbar_items[toolbar_ind][2];\n",
       "        var method_name = mpl.toolbar_items[toolbar_ind][3];\n",
       "\n",
       "        if (!name) { continue; };\n",
       "\n",
       "        var button = $('<button class=\"btn btn-default\" href=\"#\" title=\"' + name + '\"><i class=\"fa ' + image + ' fa-lg\"></i></button>');\n",
       "        button.click(method_name, toolbar_event);\n",
       "        button.mouseover(tooltip, toolbar_mouse_event);\n",
       "        nav_element.append(button);\n",
       "    }\n",
       "\n",
       "    // Add the status bar.\n",
       "    var status_bar = $('<span class=\"mpl-message\" style=\"text-align:right; float: right;\"/>');\n",
       "    nav_element.append(status_bar);\n",
       "    this.message = status_bar[0];\n",
       "\n",
       "    // Add the close button to the window.\n",
       "    var buttongrp = $('<div class=\"btn-group inline pull-right\"></div>');\n",
       "    var button = $('<button class=\"btn btn-mini btn-primary\" href=\"#\" title=\"Stop Interaction\"><i class=\"fa fa-power-off icon-remove icon-large\"></i></button>');\n",
       "    button.click(function (evt) { fig.handle_close(fig, {}); } );\n",
       "    button.mouseover('Stop Interaction', toolbar_mouse_event);\n",
       "    buttongrp.append(button);\n",
       "    var titlebar = this.root.find($('.ui-dialog-titlebar'));\n",
       "    titlebar.prepend(buttongrp);\n",
       "}\n",
       "\n",
       "mpl.figure.prototype._root_extra_style = function(el){\n",
       "    var fig = this\n",
       "    el.on(\"remove\", function(){\n",
       "\tfig.close_ws(fig, {});\n",
       "    });\n",
       "}\n",
       "\n",
       "mpl.figure.prototype._canvas_extra_style = function(el){\n",
       "    // this is important to make the div 'focusable\n",
       "    el.attr('tabindex', 0)\n",
       "    // reach out to IPython and tell the keyboard manager to turn it's self\n",
       "    // off when our div gets focus\n",
       "\n",
       "    // location in version 3\n",
       "    if (IPython.notebook.keyboard_manager) {\n",
       "        IPython.notebook.keyboard_manager.register_events(el);\n",
       "    }\n",
       "    else {\n",
       "        // location in version 2\n",
       "        IPython.keyboard_manager.register_events(el);\n",
       "    }\n",
       "\n",
       "}\n",
       "\n",
       "mpl.figure.prototype._key_event_extra = function(event, name) {\n",
       "    var manager = IPython.notebook.keyboard_manager;\n",
       "    if (!manager)\n",
       "        manager = IPython.keyboard_manager;\n",
       "\n",
       "    // Check for shift+enter\n",
       "    if (event.shiftKey && event.which == 13) {\n",
       "        this.canvas_div.blur();\n",
       "        event.shiftKey = false;\n",
       "        // Send a \"J\" for go to next cell\n",
       "        event.which = 74;\n",
       "        event.keyCode = 74;\n",
       "        manager.command_mode();\n",
       "        manager.handle_keydown(event);\n",
       "    }\n",
       "}\n",
       "\n",
       "mpl.figure.prototype.handle_save = function(fig, msg) {\n",
       "    fig.ondownload(fig, null);\n",
       "}\n",
       "\n",
       "\n",
       "mpl.find_output_cell = function(html_output) {\n",
       "    // Return the cell and output element which can be found *uniquely* in the notebook.\n",
       "    // Note - this is a bit hacky, but it is done because the \"notebook_saving.Notebook\"\n",
       "    // IPython event is triggered only after the cells have been serialised, which for\n",
       "    // our purposes (turning an active figure into a static one), is too late.\n",
       "    var cells = IPython.notebook.get_cells();\n",
       "    var ncells = cells.length;\n",
       "    for (var i=0; i<ncells; i++) {\n",
       "        var cell = cells[i];\n",
       "        if (cell.cell_type === 'code'){\n",
       "            for (var j=0; j<cell.output_area.outputs.length; j++) {\n",
       "                var data = cell.output_area.outputs[j];\n",
       "                if (data.data) {\n",
       "                    // IPython >= 3 moved mimebundle to data attribute of output\n",
       "                    data = data.data;\n",
       "                }\n",
       "                if (data['text/html'] == html_output) {\n",
       "                    return [cell, data, j];\n",
       "                }\n",
       "            }\n",
       "        }\n",
       "    }\n",
       "}\n",
       "\n",
       "// Register the function which deals with the matplotlib target/channel.\n",
       "// The kernel may be null if the page has been refreshed.\n",
       "if (IPython.notebook.kernel != null) {\n",
       "    IPython.notebook.kernel.comm_manager.register_target('matplotlib', mpl.mpl_figure_comm);\n",
       "}\n"
      ],
      "text/plain": [
       "<IPython.core.display.Javascript object>"
      ]
     },
     "metadata": {},
     "output_type": "display_data"
    },
    {
     "data": {
      "text/html": [
       "<img src=\"data:image/png;base64,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\" width=\"800\">"
      ],
      "text/plain": [
       "<IPython.core.display.HTML object>"
      ]
     },
     "metadata": {},
     "output_type": "display_data"
    },
    {
     "data": {
      "text/plain": [
       "<matplotlib.animation.FuncAnimation at 0x1739e744160>"
      ]
     },
     "execution_count": 1,
     "metadata": {},
     "output_type": "execute_result"
    }
   ],
   "source": [
    "import numpy as np\n",
    "from lgca import get_lgca\n",
    "%matplotlib notebook\n",
    "dim = 6\n",
    "rc = 5\n",
    "\n",
    "nodes = np.zeros((dim, dim, 6+rc))\n",
    "for i in range(0, 6+rc):\n",
    "    nodes[dim//2, dim//2, i] = i+1\n",
    "    \n",
    "lgca = get_lgca(ib=True, nodes=nodes)\n",
    "lgca.timeevo(timesteps=5, recorddens=True)\n",
    "lgca.live_animate_density()"
   ]
  },
  {
   "cell_type": "markdown",
   "metadata": {},
   "source": [
    "### Nematic contact guidance"
   ]
  },
  {
   "cell_type": "code",
   "execution_count": null,
   "metadata": {
    "pycharm": {
     "is_executing": false
    }
   },
   "outputs": [],
   "source": [
    "lgca = get_lgca(interaction='contact_guidance')\n",
    "lgca.nodes[...] = 0\n",
    "lgca.update_dynamic_fields()\n",
    "lgca.nodes[10, 10, 1] = 1\n",
    "lgca.live_animate_density()"
   ]
  },
  {
   "cell_type": "markdown",
   "metadata": {},
   "source": [
    "### Go and grow"
   ]
  },
  {
   "cell_type": "code",
   "execution_count": null,
   "metadata": {
    "pycharm": {
     "is_executing": false
    }
   },
   "outputs": [],
   "source": [
    "lgca = get_lgca(interaction='go_and_grow', restchannels=6)\n",
    "lgca.nodes[...] = 0\n",
    "lgca.update_dynamic_fields()\n",
    "lgca.nodes[lgca.lx//2, lgca.ly//2, -1] = 1\n",
    "lgca.live_animate_density()"
   ]
  },
  {
   "cell_type": "markdown",
   "metadata": {},
   "source": [
    "### Go or grow"
   ]
  },
  {
   "cell_type": "code",
   "execution_count": null,
   "metadata": {
    "pycharm": {
     "is_executing": false
    }
   },
   "outputs": [],
   "source": [
    "lgca = get_lgca(interaction='go_or_grow', restchannels=6, kappa=4.)  # change parameter kappa from 4 to -4; what happens?\n",
    "lgca.nodes[...] = 0\n",
    "lgca.update_dynamic_fields()\n",
    "lgca.nodes[lgca.lx//2, lgca.ly//2, :] = 1\n",
    "# lgca.timeevo(timesteps=15)\n",
    "# lgca.plot_density()\n",
    "lgca.live_animate_density()"
   ]
  },
  {
   "cell_type": "markdown",
   "metadata": {},
   "source": [
    "### Excitable medium"
   ]
  },
  {
   "cell_type": "code",
   "execution_count": null,
   "metadata": {
    "pycharm": {
     "is_executing": false
    }
   },
   "outputs": [],
   "source": [
    "lgca = get_lgca(interaction='excitable_medium', restchannels=20, N=20, bc='refl')\n",
    "lgca.nodes[...] = 0\n",
    "lgca.nodes[:lgca.lx//2, :, :lgca.velocitychannels] = 1\n",
    "lgca.nodes[:, :lgca.ly//2, lgca.velocitychannels:] = 1\n",
    "lgca.live_animate_density(channels=slice(0, lgca.velocitychannels), vmax=lgca.velocitychannels)"
   ]
  },
  {
   "cell_type": "markdown",
   "metadata": {},
   "source": [
    "## Using a custom interaction rule\n",
    "Here, we will show how to use your own interaction rule, without changing the source code of the python package. The interaction rule should have the syntax `interaction(lgca)`, where `lgca` is an instance of any LGCA class, and it should change the attribute `lgca.nodes` to the post-interaction state. In this example, we will design a rule, that will make the particles align OR let the form aggregates."
   ]
  },
  {
   "cell_type": "code",
   "execution_count": null,
   "metadata": {
    "pycharm": {
     "is_executing": false
    }
   },
   "outputs": [],
   "source": [
    "def rest_or_align(lgca):\n",
    "    newnodes = np.zeros_like(lgca.nodes)\n",
    "    resting = lgca.nodes[..., lgca.velocitychannels:].sum(-1)\n",
    "    resting = lgca.nb_sum(resting)  # calc surrounding number of occupied rest channels for each node\n",
    "    g = lgca.calc_flux(lgca.nodes)  \n",
    "    g = lgca.nb_sum(g)  # calc cumulative flux around each node\n",
    "    relevant = (lgca.cell_density[lgca.nonborder] > 0) & (lgca.cell_density[lgca.nonborder] < lgca.K)\n",
    "    coords = [a[relevant] for a in lgca.nonborder]  # get relevant coordinates, to increase performance\n",
    "    for coord in zip(*coords):\n",
    "        n = lgca.cell_density[coord]\n",
    "        permutations = lgca.permutations[n]  # pre-calculated unique permutations for cell number n\n",
    "        j = lgca.j[n]  # and respective fluxes\n",
    "        n_rest = permutations[:, lgca.velocitychannels:].sum(-1)  # and respective resting particles (could also be pre-calculated to speed up)\n",
    "        weights = np.exp(lgca.beta * np.einsum('i,ij', g[coord], j) + lgca.alpha * n_rest * resting[coord]).cumsum()\n",
    "        ind = bisect_left(weights, random() * weights[-1])\n",
    "        newnodes[coord] = permutations[ind]\n",
    "        \n",
    "    lgca.nodes = newnodes\n",
    "\n",
    "lgca = get_lgca(interaction='alignment', restchannels=1)\n",
    "lgca.alpha = 2.0  # set the required alpha parameter as class attribute\n",
    "lgca.interaction = rest_or_align  # set the interaction function"
   ]
  },
  {
   "cell_type": "code",
   "execution_count": null,
   "metadata": {
    "pycharm": {
     "is_executing": true
    }
   },
   "outputs": [],
   "source": [
    "lgca.live_animate_flux()\n",
    "#lgca.timestep()"
   ]
  },
  {
   "cell_type": "code",
   "execution_count": null,
   "metadata": {
    "pycharm": {
     "is_executing": true
    }
   },
   "outputs": [],
   "source": [
    "from lgca import get_lgca\n",
    "from random import random\n",
    "from bisect import bisect_left\n",
    "import numpy as np\n",
    "%matplotlib notebook"
   ]
  },
  {
   "cell_type": "code",
   "execution_count": null,
   "metadata": {
    "pycharm": {
     "is_executing": true
    }
   },
   "outputs": [],
   "source": [
    "def logistic_adhesion(lgca):\n",
    "    newnodes = np.zeros_like(lgca.nodes)\n",
    "    relevant = (lgca.cell_density[lgca.nonborder] > 0) & (lgca.cell_density[lgca.nonborder] < lgca.K)\n",
    "    coords = [a[relevant] for a in lgca.nonborder]\n",
    "    u_adh = lgca.nb_sum(lgca.cell_density) + lgca.cell_density\n",
    "    #u_adh = lgca.cell_density.astype(float)\n",
    "    u_adh *= np.clip(1 - u_adh / lgca.n_0, a_min=0, a_max=None)\n",
    "    g = lgca.gradient(u_adh)\n",
    "    pressure = np.clip(lgca.cell_density - lgca.n_0 / (lgca.velocitychannels + 1) - 1, a_min=0, a_max=None)\n",
    "    #pressure_weight = -lgca.channel_weight(pressure)\n",
    "    g_pressure = -lgca.gradient(pressure)\n",
    "    resting = lgca.nodes[..., lgca.velocitychannels:].sum(-1)\n",
    "    resting = lgca.nb_sum(resting) / lgca.velocitychannels\n",
    "    for coord in zip(*coords):\n",
    "        n = lgca.cell_density[coord]\n",
    "        permutations = lgca.permutations[n]  # pre-calculated unique permutations for cell number n\n",
    "        j = lgca.j[n]\n",
    "        n_rest = permutations[:, lgca.velocitychannels:].sum(-1)\n",
    "        weights = np.exp(lgca.beta * np.einsum('ij,i', j, g[coord])\n",
    "                        # + lgca.gamma * np.dot(permutations[:, :lgca.velocitychannels], pressure_weight[coord])\n",
    "                        + lgca.gamma * np.einsum('i,ij', g_pressure[coord], j)\n",
    "                        # + lgca.beta * resting[coord] * n_rest\n",
    "                        ).cumsum()\n",
    "        ind = bisect_left(weights, random() * weights[-1])\n",
    "        newnodes[coord] = permutations[ind]\n",
    "        \n",
    "    lgca.nodes = newnodes\n",
    "        "
   ]
  }
 ],
 "metadata": {
  "kernelspec": {
   "display_name": "Python 3",
   "language": "python",
   "name": "python3"
  },
  "language_info": {
   "codemirror_mode": {
    "name": "ipython",
    "version": 3
   },
   "file_extension": ".py",
   "mimetype": "text/x-python",
   "name": "python",
   "nbconvert_exporter": "python",
   "pygments_lexer": "ipython3",
   "version": "3.7.1"
  },
  "pycharm": {
   "stem_cell": {
    "cell_type": "raw",
    "metadata": {
     "collapsed": false
    },
    "source": []
   }
  }
 },
 "nbformat": 4,
 "nbformat_minor": 4
}
