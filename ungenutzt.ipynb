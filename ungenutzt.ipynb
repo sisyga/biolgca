{
 "cells": [
  {
   "cell_type": "code",
   "execution_count": null,
   "metadata": {},
   "outputs": [],
   "source": [
    "#liefert Datenwolke\n",
    "def scatter_thom(thom, save=False, id=0):\n",
    "    x = thom\n",
    "    y = range(0, len(thom))\n",
    "    area = np.pi*2\n",
    "\n",
    "    # Plot\n",
    "    fig, ax = plt.subplots()\n",
    "    plt.scatter(x, y, s=area, alpha=0.7, color='seagreen')\n",
    "    plt.xlabel('timesteps until homogeneity')\n",
    "    plt.ylabel('number of run')\n",
    "    plt.show()\n",
    "    if save:\n",
    "        filename = str(id) + '_scatterplot' + '.jpg'\n",
    "        plt.savefig(pathlib.Path('pictures').resolve() / filename)\n",
    "        \n"
   ]
  }
 ],
 "metadata": {
  "kernelspec": {
   "display_name": "Python 3",
   "language": "python",
   "name": "python3"
  },
  "language_info": {
   "codemirror_mode": {
    "name": "ipython",
    "version": 3
   },
   "file_extension": ".py",
   "mimetype": "text/x-python",
   "name": "python",
   "nbconvert_exporter": "python",
   "pygments_lexer": "ipython3",
   "version": "3.7.1"
  }
 },
 "nbformat": 4,
 "nbformat_minor": 2
}
